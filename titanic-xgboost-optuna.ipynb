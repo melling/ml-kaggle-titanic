{
 "cells": [
  {
   "cell_type": "markdown",
   "id": "b8b32ab9",
   "metadata": {
    "papermill": {
     "duration": 0.018481,
     "end_time": "2022-07-08T14:01:22.322830",
     "exception": false,
     "start_time": "2022-07-08T14:01:22.304349",
     "status": "completed"
    },
    "tags": []
   },
   "source": [
    "**Problem Type:** Binary Classification\n",
    "\n",
    "## Evaluation Metric\n",
    "\n",
    "\n",
    "# XGBoost\n",
    "\n",
    "This is based on a generic framework that I'm starting to develop.  Eventually, it will also support catboost, lgbm, and a Keras/TF DNN.\n",
    "\n",
    "- https://www.kaggle.com/code/meetnagadia/titanic-random-forest-score-0-79471\n",
    "- https://www.kaggle.com/code/adamml/my-spaceship-titanic-80-5\n",
    "\n"
   ]
  },
  {
   "cell_type": "markdown",
   "id": "b126a255",
   "metadata": {
    "execution": {
     "iopub.status.busy": "2022-05-28T10:34:38.315132Z",
     "iopub.status.idle": "2022-05-28T10:34:38.315779Z",
     "shell.execute_reply": "2022-05-28T10:34:38.315569Z",
     "shell.execute_reply.started": "2022-05-28T10:34:38.315544Z"
    },
    "papermill": {
     "duration": 0.017046,
     "end_time": "2022-07-08T14:01:22.357037",
     "exception": false,
     "start_time": "2022-07-08T14:01:22.339991",
     "status": "completed"
    },
    "tags": []
   },
   "source": [
    "<div style=\"background-color:rgba(128, 0, 128, 0.6);border-radius:5px;display:fill\"><h1 style=\"text-align: center;padding: 12px 0px 12px 0px;\">Import Libraries</h1>\n",
    "</div>"
   ]
  },
  {
   "cell_type": "code",
   "execution_count": 1,
   "id": "0289f984",
   "metadata": {
    "execution": {
     "iopub.execute_input": "2022-07-08T14:01:22.395038Z",
     "iopub.status.busy": "2022-07-08T14:01:22.394339Z",
     "iopub.status.idle": "2022-07-08T14:01:35.702108Z",
     "shell.execute_reply": "2022-07-08T14:01:35.700749Z"
    },
    "papermill": {
     "duration": 13.331261,
     "end_time": "2022-07-08T14:01:35.705423",
     "exception": false,
     "start_time": "2022-07-08T14:01:22.374162",
     "status": "completed"
    },
    "tags": []
   },
   "outputs": [
    {
     "data": {
      "text/html": [
       "<style type='text/css'>\n",
       ".datatable table.frame { margin-bottom: 0; }\n",
       ".datatable table.frame thead { border-bottom: none; }\n",
       ".datatable table.frame tr.coltypes td {  color: #FFFFFF;  line-height: 6px;  padding: 0 0.5em;}\n",
       ".datatable .bool    { background: #DDDD99; }\n",
       ".datatable .object  { background: #565656; }\n",
       ".datatable .int     { background: #5D9E5D; }\n",
       ".datatable .float   { background: #4040CC; }\n",
       ".datatable .str     { background: #CC4040; }\n",
       ".datatable .time    { background: #40CC40; }\n",
       ".datatable .row_index {  background: var(--jp-border-color3);  border-right: 1px solid var(--jp-border-color0);  color: var(--jp-ui-font-color3);  font-size: 9px;}\n",
       ".datatable .frame tbody td { text-align: left; }\n",
       ".datatable .frame tr.coltypes .row_index {  background: var(--jp-border-color0);}\n",
       ".datatable th:nth-child(2) { padding-left: 12px; }\n",
       ".datatable .hellipsis {  color: var(--jp-cell-editor-border-color);}\n",
       ".datatable .vellipsis {  background: var(--jp-layout-color0);  color: var(--jp-cell-editor-border-color);}\n",
       ".datatable .na {  color: var(--jp-cell-editor-border-color);  font-size: 80%;}\n",
       ".datatable .sp {  opacity: 0.25;}\n",
       ".datatable .footer { font-size: 9px; }\n",
       ".datatable .frame_dimensions {  background: var(--jp-border-color3);  border-top: 1px solid var(--jp-border-color0);  color: var(--jp-ui-font-color3);  display: inline-block;  opacity: 0.6;  padding: 1px 10px 1px 5px;}\n",
       "</style>\n"
      ],
      "text/plain": [
       "<IPython.core.display.HTML object>"
      ]
     },
     "metadata": {},
     "output_type": "display_data"
    }
   ],
   "source": [
    "import os\n",
    "from pathlib import Path\n",
    "import time\n",
    "import gc\n",
    "\n",
    "os.environ[\"TF_CPP_MIN_LOG_LEVEL\"] = \"3\"\n",
    "\n",
    "import random\n",
    "import pandas as pd\n",
    "import numpy as np\n",
    "import datatable as dt  # Fast table loading\n",
    "\n",
    "from sklearn.model_selection import train_test_split\n",
    "from sklearn.model_selection import KFold, StratifiedKFold\n",
    "\n",
    "from sklearn.preprocessing import LabelEncoder\n",
    "\n",
    "# from sklearn.metrics import mean_squared_error\n",
    "from sklearn.metrics import accuracy_score\n",
    "from sklearn.metrics import roc_auc_score, roc_curve\n",
    "from scipy.stats import mode\n",
    "\n",
    "# GBDTs\n",
    "# from xgboost import XGBClassifier, XGBRegressor\n",
    "# from catboost import CatBoostClassifier\n",
    "\n",
    "import xgboost as xgb\n",
    "import catboost as cb\n",
    "import lightgbm as lgb\n",
    "\n",
    "import optuna\n",
    "from optuna.visualization import plot_optimization_history, plot_param_importances\n",
    "\n",
    "# Visualization Libraries\n",
    "import matplotlib.pylab as plt\n",
    "import seaborn as sns\n",
    "\n",
    "# Tensorflow\n",
    "import tensorflow as tf\n",
    "from tensorflow import keras\n",
    "from tensorflow.keras.utils import to_categorical\n",
    "from tensorflow.keras import layers\n",
    "from tensorflow.keras.initializers import RandomUniform\n",
    "\n",
    "import warnings\n",
    "\n",
    "warnings.filterwarnings(\"ignore\")\n",
    "\n",
    "plt.style.use(\"fivethirtyeight\")  # ggplot fivethirtyeight bmh\n",
    "pd.options.display.max_columns = 500"
   ]
  },
  {
   "cell_type": "markdown",
   "id": "e5cafcb7",
   "metadata": {
    "papermill": {
     "duration": 0.016366,
     "end_time": "2022-07-08T14:01:35.739623",
     "exception": false,
     "start_time": "2022-07-08T14:01:35.723257",
     "status": "completed"
    },
    "tags": []
   },
   "source": [
    "<div style=\"background-color:rgba(128, 0, 128, 0.6);border-radius:5px;display:fill\"><h1 style=\"text-align: center;padding: 12px 0px 12px 0px;\">Configuration</h1>\n",
    "</div>"
   ]
  },
  {
   "cell_type": "code",
   "execution_count": 2,
   "id": "f4198f89",
   "metadata": {
    "execution": {
     "iopub.execute_input": "2022-07-08T14:01:35.775877Z",
     "iopub.status.busy": "2022-07-08T14:01:35.774633Z",
     "iopub.status.idle": "2022-07-08T14:01:51.689486Z",
     "shell.execute_reply": "2022-07-08T14:01:51.688330Z"
    },
    "papermill": {
     "duration": 15.935874,
     "end_time": "2022-07-08T14:01:51.692244",
     "exception": false,
     "start_time": "2022-07-08T14:01:35.756370",
     "status": "completed"
    },
    "tags": []
   },
   "outputs": [
    {
     "name": "stdout",
     "output_type": "stream",
     "text": [
      "\u001b[33mWARNING: Running pip as the 'root' user can result in broken permissions and conflicting behaviour with the system package manager. It is recommended to use a virtual environment instead: https://pip.pypa.io/warnings/venv\u001b[0m\u001b[33m\r\n",
      "\u001b[0m"
     ]
    }
   ],
   "source": [
    "# Black formatter https://black.readthedocs.io/en/stable/\n",
    "\n",
    "! pip install nb-black > /dev/null\n",
    "\n",
    "%load_ext lab_black"
   ]
  },
  {
   "cell_type": "code",
   "execution_count": 3,
   "id": "b1505a91",
   "metadata": {
    "execution": {
     "iopub.execute_input": "2022-07-08T14:01:51.727427Z",
     "iopub.status.busy": "2022-07-08T14:01:51.727015Z",
     "iopub.status.idle": "2022-07-08T14:01:51.997093Z",
     "shell.execute_reply": "2022-07-08T14:01:51.996161Z"
    },
    "papermill": {
     "duration": 0.290729,
     "end_time": "2022-07-08T14:01:51.999589",
     "exception": false,
     "start_time": "2022-07-08T14:01:51.708860",
     "status": "completed"
    },
    "tags": []
   },
   "outputs": [],
   "source": [
    "class Config:\n",
    "    path = \"../input/titanic\"\n",
    "    gpu = False\n",
    "    debug = False\n",
    "    optimize = False\n",
    "    n_optimize_trials = 5\n",
    "    model_type = \"xgb\"  # (xgb, cat, lgbm, keras)\n",
    "    model_name = \"xgb1\"\n",
    "    competition = \"Spaceship Titanic\"\n",
    "    seed = 42\n",
    "    N_ESTIMATORS = 100  # 100, 300, 2000, 5000\n",
    "\n",
    "    batch_size = 64\n",
    "    epochs = 25\n",
    "    N_FOLDS = 10  # 5,10,15\n",
    "    SEED_LENGTH = 1  # 5,10"
   ]
  },
  {
   "cell_type": "code",
   "execution_count": 4,
   "id": "58fe7e4b",
   "metadata": {
    "execution": {
     "iopub.execute_input": "2022-07-08T14:01:52.034505Z",
     "iopub.status.busy": "2022-07-08T14:01:52.034108Z",
     "iopub.status.idle": "2022-07-08T14:01:52.040480Z",
     "shell.execute_reply": "2022-07-08T14:01:52.039270Z"
    },
    "papermill": {
     "duration": 0.026187,
     "end_time": "2022-07-08T14:01:52.042458",
     "exception": false,
     "start_time": "2022-07-08T14:01:52.016271",
     "status": "completed"
    },
    "tags": []
   },
   "outputs": [],
   "source": [
    "TARGET = \"Survived\""
   ]
  },
  {
   "cell_type": "markdown",
   "id": "33527324",
   "metadata": {
    "papermill": {
     "duration": 0.016001,
     "end_time": "2022-07-08T14:01:52.075171",
     "exception": false,
     "start_time": "2022-07-08T14:01:52.059170",
     "status": "completed"
    },
    "tags": []
   },
   "source": [
    "<div style=\"background-color:rgba(128, 0, 128, 0.6);border-radius:5px;display:fill\"><h1 style=\"text-align: center;padding: 12px 0px 12px 0px;\">Library</h1>\n",
    "</div>"
   ]
  },
  {
   "cell_type": "code",
   "execution_count": 5,
   "id": "5279e729",
   "metadata": {
    "execution": {
     "iopub.execute_input": "2022-07-08T14:01:52.110066Z",
     "iopub.status.busy": "2022-07-08T14:01:52.109180Z",
     "iopub.status.idle": "2022-07-08T14:01:52.124061Z",
     "shell.execute_reply": "2022-07-08T14:01:52.122735Z"
    },
    "papermill": {
     "duration": 0.034665,
     "end_time": "2022-07-08T14:01:52.126204",
     "exception": false,
     "start_time": "2022-07-08T14:01:52.091539",
     "status": "completed"
    },
    "tags": []
   },
   "outputs": [],
   "source": [
    "def read_data(path):\n",
    "    data_dir = Path(path)\n",
    "\n",
    "    train = pd.read_csv(data_dir / \"train.csv\")\n",
    "    test = pd.read_csv(data_dir / \"test.csv\")\n",
    "    # train_df = dt.fread(data_dir / \"train.csv\").to_pandas()\n",
    "    # test_df = dt.fread(data_dir / \"test.csv\").to_pandas()\n",
    "\n",
    "    submission_df = pd.read_csv(data_dir / \"gender_submission.csv\")\n",
    "\n",
    "    print(f\"train data: Rows={train.shape[0]}, Columns={train.shape[1]}\")\n",
    "    print(f\"test data : Rows={test.shape[0]}, Columns={test.shape[1]}\")\n",
    "    return train, test, submission_df"
   ]
  },
  {
   "cell_type": "code",
   "execution_count": 6,
   "id": "e9973c6d",
   "metadata": {
    "execution": {
     "iopub.execute_input": "2022-07-08T14:01:52.161611Z",
     "iopub.status.busy": "2022-07-08T14:01:52.161006Z",
     "iopub.status.idle": "2022-07-08T14:01:52.176122Z",
     "shell.execute_reply": "2022-07-08T14:01:52.175015Z"
    },
    "papermill": {
     "duration": 0.03607,
     "end_time": "2022-07-08T14:01:52.178763",
     "exception": false,
     "start_time": "2022-07-08T14:01:52.142693",
     "status": "completed"
    },
    "tags": []
   },
   "outputs": [],
   "source": [
    "def label_encoder(train, test, columns):\n",
    "    for col in columns:\n",
    "        train[col] = train[col].astype(str)\n",
    "        test[col] = test[col].astype(str)\n",
    "        train[col] = LabelEncoder().fit_transform(train[col])\n",
    "        test[col] = LabelEncoder().fit_transform(test[col])\n",
    "    return train, test"
   ]
  },
  {
   "cell_type": "code",
   "execution_count": 7,
   "id": "1fb8c0cc",
   "metadata": {
    "execution": {
     "iopub.execute_input": "2022-07-08T14:01:52.214068Z",
     "iopub.status.busy": "2022-07-08T14:01:52.213694Z",
     "iopub.status.idle": "2022-07-08T14:01:52.229600Z",
     "shell.execute_reply": "2022-07-08T14:01:52.228449Z"
    },
    "papermill": {
     "duration": 0.036646,
     "end_time": "2022-07-08T14:01:52.231995",
     "exception": false,
     "start_time": "2022-07-08T14:01:52.195349",
     "status": "completed"
    },
    "tags": []
   },
   "outputs": [],
   "source": [
    "def create_folds(df, TARGET, n_folds=5, seed=42):\n",
    "    print(f\"TARGET={TARGET}, n_folds={n_folds}, seed={seed}\")\n",
    "    df[\"fold\"] = -1\n",
    "\n",
    "    kf = StratifiedKFold(n_splits=n_folds, shuffle=True, random_state=seed)\n",
    "    # kf = GroupKFold(n_splits=Config.N_FOLDS)\n",
    "\n",
    "    for fold, (train_idx, valid_idx) in enumerate(kf.split(df, df[TARGET])):\n",
    "        df.loc[valid_idx, \"fold\"] = fold\n",
    "\n",
    "    # df.to_csv(f\"train_fold{num_folds}.csv\", index=False)\n",
    "    return df"
   ]
  },
  {
   "cell_type": "code",
   "execution_count": 8,
   "id": "b27322f6",
   "metadata": {
    "execution": {
     "iopub.execute_input": "2022-07-08T14:01:52.266912Z",
     "iopub.status.busy": "2022-07-08T14:01:52.266506Z",
     "iopub.status.idle": "2022-07-08T14:01:52.274605Z",
     "shell.execute_reply": "2022-07-08T14:01:52.273478Z"
    },
    "papermill": {
     "duration": 0.027961,
     "end_time": "2022-07-08T14:01:52.276569",
     "exception": false,
     "start_time": "2022-07-08T14:01:52.248608",
     "status": "completed"
    },
    "tags": []
   },
   "outputs": [],
   "source": [
    "def show_missing_features(df):\n",
    "    missing_vals = df.isna().sum()\n",
    "    print(missing_vals[missing_vals > 0])"
   ]
  },
  {
   "cell_type": "code",
   "execution_count": 9,
   "id": "a1b9aed5",
   "metadata": {
    "execution": {
     "iopub.execute_input": "2022-07-08T14:01:52.311424Z",
     "iopub.status.busy": "2022-07-08T14:01:52.310584Z",
     "iopub.status.idle": "2022-07-08T14:01:52.318744Z",
     "shell.execute_reply": "2022-07-08T14:01:52.317692Z"
    },
    "papermill": {
     "duration": 0.028062,
     "end_time": "2022-07-08T14:01:52.321083",
     "exception": false,
     "start_time": "2022-07-08T14:01:52.293021",
     "status": "completed"
    },
    "tags": []
   },
   "outputs": [],
   "source": [
    "# OOF Results\n",
    "if not os.path.exists(\"results\"):\n",
    "    os.makedirs(\"results\")"
   ]
  },
  {
   "cell_type": "code",
   "execution_count": 10,
   "id": "b55c7afb",
   "metadata": {
    "execution": {
     "iopub.execute_input": "2022-07-08T14:01:52.356453Z",
     "iopub.status.busy": "2022-07-08T14:01:52.355862Z",
     "iopub.status.idle": "2022-07-08T14:01:52.364829Z",
     "shell.execute_reply": "2022-07-08T14:01:52.363916Z"
    },
    "papermill": {
     "duration": 0.029546,
     "end_time": "2022-07-08T14:01:52.367237",
     "exception": false,
     "start_time": "2022-07-08T14:01:52.337691",
     "status": "completed"
    },
    "tags": []
   },
   "outputs": [],
   "source": [
    "def seed_everything(seed=42):\n",
    "    np.random.seed(seed)\n",
    "    random.seed(seed)\n",
    "    tf.random.set_seed(seed)"
   ]
  },
  {
   "cell_type": "markdown",
   "id": "2ebd24ce",
   "metadata": {
    "papermill": {
     "duration": 0.016192,
     "end_time": "2022-07-08T14:01:52.400092",
     "exception": false,
     "start_time": "2022-07-08T14:01:52.383900",
     "status": "completed"
    },
    "tags": []
   },
   "source": [
    "<div style=\"background-color:rgba(128, 0, 128, 0.6);border-radius:5px;display:fill\"><h1 style=\"text-align: center;padding: 12px 0px 12px 0px;\">Load Train/Test Data</h1>\n",
    "</div>\n",
    "\n",
    "Support datatable for large datasets.\n",
    "Using datatable is described in [Tutorial on reading datasets](https://www.kaggle.com/hiro5299834/tutorial-on-reading-datasets)"
   ]
  },
  {
   "cell_type": "code",
   "execution_count": 11,
   "id": "f2889e07",
   "metadata": {
    "execution": {
     "iopub.execute_input": "2022-07-08T14:01:52.434484Z",
     "iopub.status.busy": "2022-07-08T14:01:52.434111Z",
     "iopub.status.idle": "2022-07-08T14:01:52.492692Z",
     "shell.execute_reply": "2022-07-08T14:01:52.491522Z"
    },
    "papermill": {
     "duration": 0.078857,
     "end_time": "2022-07-08T14:01:52.495242",
     "exception": false,
     "start_time": "2022-07-08T14:01:52.416385",
     "status": "completed"
    },
    "tags": []
   },
   "outputs": [
    {
     "name": "stdout",
     "output_type": "stream",
     "text": [
      "train data: Rows=891, Columns=12\n",
      "test data : Rows=418, Columns=11\n",
      "CPU times: user 13.9 ms, sys: 956 µs, total: 14.8 ms\n",
      "Wall time: 51.6 ms\n"
     ]
    }
   ],
   "source": [
    "%%time\n",
    "train, test, submission_df = read_data(Config.path)"
   ]
  },
  {
   "cell_type": "code",
   "execution_count": 12,
   "id": "503ad1ce",
   "metadata": {
    "execution": {
     "iopub.execute_input": "2022-07-08T14:01:52.530921Z",
     "iopub.status.busy": "2022-07-08T14:01:52.529972Z",
     "iopub.status.idle": "2022-07-08T14:01:52.553881Z",
     "shell.execute_reply": "2022-07-08T14:01:52.553082Z"
    },
    "papermill": {
     "duration": 0.044254,
     "end_time": "2022-07-08T14:01:52.556276",
     "exception": false,
     "start_time": "2022-07-08T14:01:52.512022",
     "status": "completed"
    },
    "tags": []
   },
   "outputs": [
    {
     "data": {
      "text/html": [
       "<div>\n",
       "<style scoped>\n",
       "    .dataframe tbody tr th:only-of-type {\n",
       "        vertical-align: middle;\n",
       "    }\n",
       "\n",
       "    .dataframe tbody tr th {\n",
       "        vertical-align: top;\n",
       "    }\n",
       "\n",
       "    .dataframe thead th {\n",
       "        text-align: right;\n",
       "    }\n",
       "</style>\n",
       "<table border=\"1\" class=\"dataframe\">\n",
       "  <thead>\n",
       "    <tr style=\"text-align: right;\">\n",
       "      <th></th>\n",
       "      <th>PassengerId</th>\n",
       "      <th>Survived</th>\n",
       "      <th>Pclass</th>\n",
       "      <th>Name</th>\n",
       "      <th>Sex</th>\n",
       "      <th>Age</th>\n",
       "      <th>SibSp</th>\n",
       "      <th>Parch</th>\n",
       "      <th>Ticket</th>\n",
       "      <th>Fare</th>\n",
       "      <th>Cabin</th>\n",
       "      <th>Embarked</th>\n",
       "    </tr>\n",
       "  </thead>\n",
       "  <tbody>\n",
       "    <tr>\n",
       "      <th>0</th>\n",
       "      <td>1</td>\n",
       "      <td>0</td>\n",
       "      <td>3</td>\n",
       "      <td>Braund, Mr. Owen Harris</td>\n",
       "      <td>male</td>\n",
       "      <td>22.0</td>\n",
       "      <td>1</td>\n",
       "      <td>0</td>\n",
       "      <td>A/5 21171</td>\n",
       "      <td>7.2500</td>\n",
       "      <td>NaN</td>\n",
       "      <td>S</td>\n",
       "    </tr>\n",
       "    <tr>\n",
       "      <th>1</th>\n",
       "      <td>2</td>\n",
       "      <td>1</td>\n",
       "      <td>1</td>\n",
       "      <td>Cumings, Mrs. John Bradley (Florence Briggs Th...</td>\n",
       "      <td>female</td>\n",
       "      <td>38.0</td>\n",
       "      <td>1</td>\n",
       "      <td>0</td>\n",
       "      <td>PC 17599</td>\n",
       "      <td>71.2833</td>\n",
       "      <td>C85</td>\n",
       "      <td>C</td>\n",
       "    </tr>\n",
       "    <tr>\n",
       "      <th>2</th>\n",
       "      <td>3</td>\n",
       "      <td>1</td>\n",
       "      <td>3</td>\n",
       "      <td>Heikkinen, Miss. Laina</td>\n",
       "      <td>female</td>\n",
       "      <td>26.0</td>\n",
       "      <td>0</td>\n",
       "      <td>0</td>\n",
       "      <td>STON/O2. 3101282</td>\n",
       "      <td>7.9250</td>\n",
       "      <td>NaN</td>\n",
       "      <td>S</td>\n",
       "    </tr>\n",
       "    <tr>\n",
       "      <th>3</th>\n",
       "      <td>4</td>\n",
       "      <td>1</td>\n",
       "      <td>1</td>\n",
       "      <td>Futrelle, Mrs. Jacques Heath (Lily May Peel)</td>\n",
       "      <td>female</td>\n",
       "      <td>35.0</td>\n",
       "      <td>1</td>\n",
       "      <td>0</td>\n",
       "      <td>113803</td>\n",
       "      <td>53.1000</td>\n",
       "      <td>C123</td>\n",
       "      <td>S</td>\n",
       "    </tr>\n",
       "    <tr>\n",
       "      <th>4</th>\n",
       "      <td>5</td>\n",
       "      <td>0</td>\n",
       "      <td>3</td>\n",
       "      <td>Allen, Mr. William Henry</td>\n",
       "      <td>male</td>\n",
       "      <td>35.0</td>\n",
       "      <td>0</td>\n",
       "      <td>0</td>\n",
       "      <td>373450</td>\n",
       "      <td>8.0500</td>\n",
       "      <td>NaN</td>\n",
       "      <td>S</td>\n",
       "    </tr>\n",
       "  </tbody>\n",
       "</table>\n",
       "</div>"
      ],
      "text/plain": [
       "   PassengerId  Survived  Pclass  \\\n",
       "0            1         0       3   \n",
       "1            2         1       1   \n",
       "2            3         1       3   \n",
       "3            4         1       1   \n",
       "4            5         0       3   \n",
       "\n",
       "                                                Name     Sex   Age  SibSp  \\\n",
       "0                            Braund, Mr. Owen Harris    male  22.0      1   \n",
       "1  Cumings, Mrs. John Bradley (Florence Briggs Th...  female  38.0      1   \n",
       "2                             Heikkinen, Miss. Laina  female  26.0      0   \n",
       "3       Futrelle, Mrs. Jacques Heath (Lily May Peel)  female  35.0      1   \n",
       "4                           Allen, Mr. William Henry    male  35.0      0   \n",
       "\n",
       "   Parch            Ticket     Fare Cabin Embarked  \n",
       "0      0         A/5 21171   7.2500   NaN        S  \n",
       "1      0          PC 17599  71.2833   C85        C  \n",
       "2      0  STON/O2. 3101282   7.9250   NaN        S  \n",
       "3      0            113803  53.1000  C123        S  \n",
       "4      0            373450   8.0500   NaN        S  "
      ]
     },
     "execution_count": 12,
     "metadata": {},
     "output_type": "execute_result"
    }
   ],
   "source": [
    "train.head()"
   ]
  },
  {
   "cell_type": "code",
   "execution_count": 13,
   "id": "9d2308c9",
   "metadata": {
    "execution": {
     "iopub.execute_input": "2022-07-08T14:01:52.592434Z",
     "iopub.status.busy": "2022-07-08T14:01:52.591609Z",
     "iopub.status.idle": "2022-07-08T14:01:52.600215Z",
     "shell.execute_reply": "2022-07-08T14:01:52.599343Z"
    },
    "papermill": {
     "duration": 0.029277,
     "end_time": "2022-07-08T14:01:52.602449",
     "exception": false,
     "start_time": "2022-07-08T14:01:52.573172",
     "status": "completed"
    },
    "tags": []
   },
   "outputs": [
    {
     "data": {
      "text/plain": [
       "Index(['PassengerId', 'Survived', 'Pclass', 'Name', 'Sex', 'Age', 'SibSp',\n",
       "       'Parch', 'Ticket', 'Fare', 'Cabin', 'Embarked'],\n",
       "      dtype='object')"
      ]
     },
     "execution_count": 13,
     "metadata": {},
     "output_type": "execute_result"
    }
   ],
   "source": [
    "train.columns"
   ]
  },
  {
   "cell_type": "markdown",
   "id": "d0dc751e",
   "metadata": {
    "papermill": {
     "duration": 0.016669,
     "end_time": "2022-07-08T14:01:52.636216",
     "exception": false,
     "start_time": "2022-07-08T14:01:52.619547",
     "status": "completed"
    },
    "tags": []
   },
   "source": [
    "## Fix Missing Values"
   ]
  },
  {
   "cell_type": "code",
   "execution_count": 14,
   "id": "bb650637",
   "metadata": {
    "execution": {
     "iopub.execute_input": "2022-07-08T14:01:52.672300Z",
     "iopub.status.busy": "2022-07-08T14:01:52.671535Z",
     "iopub.status.idle": "2022-07-08T14:01:52.691970Z",
     "shell.execute_reply": "2022-07-08T14:01:52.690970Z"
    },
    "papermill": {
     "duration": 0.041261,
     "end_time": "2022-07-08T14:01:52.694471",
     "exception": false,
     "start_time": "2022-07-08T14:01:52.653210",
     "status": "completed"
    },
    "tags": []
   },
   "outputs": [],
   "source": [
    "def fix_missing(train, test):\n",
    "    Missing_features = [\n",
    "        \"FoodCourt\",\n",
    "        \"Spa\",\n",
    "        \"ShoppingMall\",\n",
    "        \"RoomService\",\n",
    "        \"VRDeck\",\n",
    "        \"Cabin\",\n",
    "        \"CryoSleep\",\n",
    "        \"VIP\",\n",
    "        \"HomePlanet\",\n",
    "        \"Destination\",\n",
    "        \"Age\",\n",
    "    ]\n",
    "    for feature in Missing_features:\n",
    "        if feature == \"Age\":\n",
    "            fill = train[feature].mean()\n",
    "        else:\n",
    "            fill = train[feature].value_counts().index[0]\n",
    "        train[feature] = train[feature].fillna(fill)\n",
    "        test[feature] = test[feature].fillna(fill)\n",
    "    return train, test"
   ]
  },
  {
   "cell_type": "code",
   "execution_count": 15,
   "id": "290cc633",
   "metadata": {
    "execution": {
     "iopub.execute_input": "2022-07-08T14:01:52.730495Z",
     "iopub.status.busy": "2022-07-08T14:01:52.729753Z",
     "iopub.status.idle": "2022-07-08T14:01:52.753266Z",
     "shell.execute_reply": "2022-07-08T14:01:52.751724Z"
    },
    "papermill": {
     "duration": 0.044301,
     "end_time": "2022-07-08T14:01:52.755700",
     "exception": false,
     "start_time": "2022-07-08T14:01:52.711399",
     "status": "completed"
    },
    "tags": []
   },
   "outputs": [
    {
     "name": "stdout",
     "output_type": "stream",
     "text": [
      "TARGET=Survived, n_folds=10, seed=42\n"
     ]
    }
   ],
   "source": [
    "train = create_folds(train, TARGET, Config.N_FOLDS)"
   ]
  },
  {
   "cell_type": "code",
   "execution_count": 16,
   "id": "c6f059df",
   "metadata": {
    "execution": {
     "iopub.execute_input": "2022-07-08T14:01:52.792196Z",
     "iopub.status.busy": "2022-07-08T14:01:52.791425Z",
     "iopub.status.idle": "2022-07-08T14:01:52.796607Z",
     "shell.execute_reply": "2022-07-08T14:01:52.795845Z"
    },
    "papermill": {
     "duration": 0.025902,
     "end_time": "2022-07-08T14:01:52.798849",
     "exception": false,
     "start_time": "2022-07-08T14:01:52.772947",
     "status": "completed"
    },
    "tags": []
   },
   "outputs": [],
   "source": [
    "# train[TARGET_ENC] = train[TARGET].replace({True: 1, False: 0})\n",
    "# train[TARGET] = train[TARGET].replace({True: 1, False: 0})"
   ]
  },
  {
   "cell_type": "markdown",
   "id": "2a6df033",
   "metadata": {
    "papermill": {
     "duration": 0.016896,
     "end_time": "2022-07-08T14:01:52.833590",
     "exception": false,
     "start_time": "2022-07-08T14:01:52.816694",
     "status": "completed"
    },
    "tags": []
   },
   "source": [
    "<div style=\"background-color:rgba(128, 0, 128, 0.6);border-radius:5px;display:fill\"><h1 style=\"text-align: center;padding: 12px 0px 12px 0px;\">Feature Engineering</h1>\n",
    "</div>"
   ]
  },
  {
   "cell_type": "markdown",
   "id": "9ec58fd2",
   "metadata": {
    "papermill": {
     "duration": 0.01647,
     "end_time": "2022-07-08T14:01:52.867317",
     "exception": false,
     "start_time": "2022-07-08T14:01:52.850847",
     "status": "completed"
    },
    "tags": []
   },
   "source": [
    "Feature creation is unique to each competition."
   ]
  },
  {
   "cell_type": "code",
   "execution_count": 17,
   "id": "7b7e7e1b",
   "metadata": {
    "execution": {
     "iopub.execute_input": "2022-07-08T14:01:52.903280Z",
     "iopub.status.busy": "2022-07-08T14:01:52.902918Z",
     "iopub.status.idle": "2022-07-08T14:01:52.909558Z",
     "shell.execute_reply": "2022-07-08T14:01:52.908469Z"
    },
    "papermill": {
     "duration": 0.02722,
     "end_time": "2022-07-08T14:01:52.911836",
     "exception": false,
     "start_time": "2022-07-08T14:01:52.884616",
     "status": "completed"
    },
    "tags": []
   },
   "outputs": [],
   "source": [
    "def create_features(df, train=True):\n",
    "\n",
    "    return df"
   ]
  },
  {
   "cell_type": "code",
   "execution_count": 18,
   "id": "2a140d02",
   "metadata": {
    "execution": {
     "iopub.execute_input": "2022-07-08T14:01:52.949445Z",
     "iopub.status.busy": "2022-07-08T14:01:52.948317Z",
     "iopub.status.idle": "2022-07-08T14:01:53.195953Z",
     "shell.execute_reply": "2022-07-08T14:01:53.194794Z"
    },
    "papermill": {
     "duration": 0.269581,
     "end_time": "2022-07-08T14:01:53.198770",
     "exception": false,
     "start_time": "2022-07-08T14:01:52.929189",
     "status": "completed"
    },
    "tags": []
   },
   "outputs": [],
   "source": [
    "train[\"isTrain\"] = True\n",
    "test[\"isTrain\"] = False\n",
    "\n",
    "tt = pd.concat([train, test]).reset_index(drop=True).copy()\n",
    "\n",
    "# tt = create_features(tt)\n",
    "\n",
    "train = tt.query(\"isTrain\").reset_index(drop=True).copy()\n",
    "test = tt.query(\"isTrain == False\").reset_index(drop=True).copy()\n",
    "\n",
    "del tt\n",
    "_ = gc.collect()"
   ]
  },
  {
   "cell_type": "code",
   "execution_count": 19,
   "id": "2b7e06ed",
   "metadata": {
    "execution": {
     "iopub.execute_input": "2022-07-08T14:01:53.235412Z",
     "iopub.status.busy": "2022-07-08T14:01:53.234708Z",
     "iopub.status.idle": "2022-07-08T14:01:53.254974Z",
     "shell.execute_reply": "2022-07-08T14:01:53.254110Z"
    },
    "papermill": {
     "duration": 0.041359,
     "end_time": "2022-07-08T14:01:53.257297",
     "exception": false,
     "start_time": "2022-07-08T14:01:53.215938",
     "status": "completed"
    },
    "tags": []
   },
   "outputs": [
    {
     "data": {
      "text/html": [
       "<div>\n",
       "<style scoped>\n",
       "    .dataframe tbody tr th:only-of-type {\n",
       "        vertical-align: middle;\n",
       "    }\n",
       "\n",
       "    .dataframe tbody tr th {\n",
       "        vertical-align: top;\n",
       "    }\n",
       "\n",
       "    .dataframe thead th {\n",
       "        text-align: right;\n",
       "    }\n",
       "</style>\n",
       "<table border=\"1\" class=\"dataframe\">\n",
       "  <thead>\n",
       "    <tr style=\"text-align: right;\">\n",
       "      <th></th>\n",
       "      <th>PassengerId</th>\n",
       "      <th>Survived</th>\n",
       "      <th>Pclass</th>\n",
       "      <th>Name</th>\n",
       "      <th>Sex</th>\n",
       "      <th>Age</th>\n",
       "      <th>SibSp</th>\n",
       "      <th>Parch</th>\n",
       "      <th>Ticket</th>\n",
       "      <th>Fare</th>\n",
       "      <th>Cabin</th>\n",
       "      <th>Embarked</th>\n",
       "      <th>fold</th>\n",
       "      <th>isTrain</th>\n",
       "    </tr>\n",
       "  </thead>\n",
       "  <tbody>\n",
       "    <tr>\n",
       "      <th>0</th>\n",
       "      <td>1</td>\n",
       "      <td>0.0</td>\n",
       "      <td>3</td>\n",
       "      <td>Braund, Mr. Owen Harris</td>\n",
       "      <td>male</td>\n",
       "      <td>22.0</td>\n",
       "      <td>1</td>\n",
       "      <td>0</td>\n",
       "      <td>A/5 21171</td>\n",
       "      <td>7.2500</td>\n",
       "      <td>NaN</td>\n",
       "      <td>S</td>\n",
       "      <td>3.0</td>\n",
       "      <td>True</td>\n",
       "    </tr>\n",
       "    <tr>\n",
       "      <th>1</th>\n",
       "      <td>2</td>\n",
       "      <td>1.0</td>\n",
       "      <td>1</td>\n",
       "      <td>Cumings, Mrs. John Bradley (Florence Briggs Th...</td>\n",
       "      <td>female</td>\n",
       "      <td>38.0</td>\n",
       "      <td>1</td>\n",
       "      <td>0</td>\n",
       "      <td>PC 17599</td>\n",
       "      <td>71.2833</td>\n",
       "      <td>C85</td>\n",
       "      <td>C</td>\n",
       "      <td>9.0</td>\n",
       "      <td>True</td>\n",
       "    </tr>\n",
       "    <tr>\n",
       "      <th>2</th>\n",
       "      <td>3</td>\n",
       "      <td>1.0</td>\n",
       "      <td>3</td>\n",
       "      <td>Heikkinen, Miss. Laina</td>\n",
       "      <td>female</td>\n",
       "      <td>26.0</td>\n",
       "      <td>0</td>\n",
       "      <td>0</td>\n",
       "      <td>STON/O2. 3101282</td>\n",
       "      <td>7.9250</td>\n",
       "      <td>NaN</td>\n",
       "      <td>S</td>\n",
       "      <td>7.0</td>\n",
       "      <td>True</td>\n",
       "    </tr>\n",
       "    <tr>\n",
       "      <th>3</th>\n",
       "      <td>4</td>\n",
       "      <td>1.0</td>\n",
       "      <td>1</td>\n",
       "      <td>Futrelle, Mrs. Jacques Heath (Lily May Peel)</td>\n",
       "      <td>female</td>\n",
       "      <td>35.0</td>\n",
       "      <td>1</td>\n",
       "      <td>0</td>\n",
       "      <td>113803</td>\n",
       "      <td>53.1000</td>\n",
       "      <td>C123</td>\n",
       "      <td>S</td>\n",
       "      <td>7.0</td>\n",
       "      <td>True</td>\n",
       "    </tr>\n",
       "    <tr>\n",
       "      <th>4</th>\n",
       "      <td>5</td>\n",
       "      <td>0.0</td>\n",
       "      <td>3</td>\n",
       "      <td>Allen, Mr. William Henry</td>\n",
       "      <td>male</td>\n",
       "      <td>35.0</td>\n",
       "      <td>0</td>\n",
       "      <td>0</td>\n",
       "      <td>373450</td>\n",
       "      <td>8.0500</td>\n",
       "      <td>NaN</td>\n",
       "      <td>S</td>\n",
       "      <td>1.0</td>\n",
       "      <td>True</td>\n",
       "    </tr>\n",
       "  </tbody>\n",
       "</table>\n",
       "</div>"
      ],
      "text/plain": [
       "   PassengerId  Survived  Pclass  \\\n",
       "0            1       0.0       3   \n",
       "1            2       1.0       1   \n",
       "2            3       1.0       3   \n",
       "3            4       1.0       1   \n",
       "4            5       0.0       3   \n",
       "\n",
       "                                                Name     Sex   Age  SibSp  \\\n",
       "0                            Braund, Mr. Owen Harris    male  22.0      1   \n",
       "1  Cumings, Mrs. John Bradley (Florence Briggs Th...  female  38.0      1   \n",
       "2                             Heikkinen, Miss. Laina  female  26.0      0   \n",
       "3       Futrelle, Mrs. Jacques Heath (Lily May Peel)  female  35.0      1   \n",
       "4                           Allen, Mr. William Henry    male  35.0      0   \n",
       "\n",
       "   Parch            Ticket     Fare Cabin Embarked  fold  isTrain  \n",
       "0      0         A/5 21171   7.2500   NaN        S   3.0     True  \n",
       "1      0          PC 17599  71.2833   C85        C   9.0     True  \n",
       "2      0  STON/O2. 3101282   7.9250   NaN        S   7.0     True  \n",
       "3      0            113803  53.1000  C123        S   7.0     True  \n",
       "4      0            373450   8.0500   NaN        S   1.0     True  "
      ]
     },
     "execution_count": 19,
     "metadata": {},
     "output_type": "execute_result"
    }
   ],
   "source": [
    "train.head()"
   ]
  },
  {
   "cell_type": "code",
   "execution_count": 20,
   "id": "b26009dd",
   "metadata": {
    "execution": {
     "iopub.execute_input": "2022-07-08T14:01:53.294664Z",
     "iopub.status.busy": "2022-07-08T14:01:53.293499Z",
     "iopub.status.idle": "2022-07-08T14:01:53.309307Z",
     "shell.execute_reply": "2022-07-08T14:01:53.308379Z"
    },
    "papermill": {
     "duration": 0.036921,
     "end_time": "2022-07-08T14:01:53.311731",
     "exception": false,
     "start_time": "2022-07-08T14:01:53.274810",
     "status": "completed"
    },
    "tags": []
   },
   "outputs": [
    {
     "data": {
      "text/plain": [
       "['Pclass', 'Sex', 'Age', 'SibSp', 'Parch', 'Fare', 'Embarked']"
      ]
     },
     "execution_count": 20,
     "metadata": {},
     "output_type": "execute_result"
    }
   ],
   "source": [
    "FEATURES = [\n",
    "    col\n",
    "    for col in train.columns\n",
    "    if col\n",
    "    not in [\n",
    "        \"PassengerId\",\n",
    "        \"fold\",\n",
    "        TARGET,\n",
    "        \"isTrain\",\n",
    "        \"Ticket\",\n",
    "        \"Cabin\",\n",
    "        #         \"Destination\",\n",
    "        #         \"VIP\",\n",
    "        \"Name\",\n",
    "    ]\n",
    "]\n",
    "FEATURES"
   ]
  },
  {
   "cell_type": "code",
   "execution_count": 21,
   "id": "91d361da",
   "metadata": {
    "execution": {
     "iopub.execute_input": "2022-07-08T14:01:53.348749Z",
     "iopub.status.busy": "2022-07-08T14:01:53.348324Z",
     "iopub.status.idle": "2022-07-08T14:01:53.364219Z",
     "shell.execute_reply": "2022-07-08T14:01:53.363133Z"
    },
    "papermill": {
     "duration": 0.03737,
     "end_time": "2022-07-08T14:01:53.366614",
     "exception": false,
     "start_time": "2022-07-08T14:01:53.329244",
     "status": "completed"
    },
    "tags": []
   },
   "outputs": [
    {
     "data": {
      "text/html": [
       "<div>\n",
       "<style scoped>\n",
       "    .dataframe tbody tr th:only-of-type {\n",
       "        vertical-align: middle;\n",
       "    }\n",
       "\n",
       "    .dataframe tbody tr th {\n",
       "        vertical-align: top;\n",
       "    }\n",
       "\n",
       "    .dataframe thead th {\n",
       "        text-align: right;\n",
       "    }\n",
       "</style>\n",
       "<table border=\"1\" class=\"dataframe\">\n",
       "  <thead>\n",
       "    <tr style=\"text-align: right;\">\n",
       "      <th></th>\n",
       "      <th>Pclass</th>\n",
       "      <th>Sex</th>\n",
       "      <th>Age</th>\n",
       "      <th>SibSp</th>\n",
       "      <th>Parch</th>\n",
       "      <th>Fare</th>\n",
       "      <th>Embarked</th>\n",
       "    </tr>\n",
       "  </thead>\n",
       "  <tbody>\n",
       "    <tr>\n",
       "      <th>0</th>\n",
       "      <td>3</td>\n",
       "      <td>male</td>\n",
       "      <td>22.0</td>\n",
       "      <td>1</td>\n",
       "      <td>0</td>\n",
       "      <td>7.2500</td>\n",
       "      <td>S</td>\n",
       "    </tr>\n",
       "    <tr>\n",
       "      <th>1</th>\n",
       "      <td>1</td>\n",
       "      <td>female</td>\n",
       "      <td>38.0</td>\n",
       "      <td>1</td>\n",
       "      <td>0</td>\n",
       "      <td>71.2833</td>\n",
       "      <td>C</td>\n",
       "    </tr>\n",
       "    <tr>\n",
       "      <th>2</th>\n",
       "      <td>3</td>\n",
       "      <td>female</td>\n",
       "      <td>26.0</td>\n",
       "      <td>0</td>\n",
       "      <td>0</td>\n",
       "      <td>7.9250</td>\n",
       "      <td>S</td>\n",
       "    </tr>\n",
       "    <tr>\n",
       "      <th>3</th>\n",
       "      <td>1</td>\n",
       "      <td>female</td>\n",
       "      <td>35.0</td>\n",
       "      <td>1</td>\n",
       "      <td>0</td>\n",
       "      <td>53.1000</td>\n",
       "      <td>S</td>\n",
       "    </tr>\n",
       "    <tr>\n",
       "      <th>4</th>\n",
       "      <td>3</td>\n",
       "      <td>male</td>\n",
       "      <td>35.0</td>\n",
       "      <td>0</td>\n",
       "      <td>0</td>\n",
       "      <td>8.0500</td>\n",
       "      <td>S</td>\n",
       "    </tr>\n",
       "  </tbody>\n",
       "</table>\n",
       "</div>"
      ],
      "text/plain": [
       "   Pclass     Sex   Age  SibSp  Parch     Fare Embarked\n",
       "0       3    male  22.0      1      0   7.2500        S\n",
       "1       1  female  38.0      1      0  71.2833        C\n",
       "2       3  female  26.0      0      0   7.9250        S\n",
       "3       1  female  35.0      1      0  53.1000        S\n",
       "4       3    male  35.0      0      0   8.0500        S"
      ]
     },
     "execution_count": 21,
     "metadata": {},
     "output_type": "execute_result"
    }
   ],
   "source": [
    "train[FEATURES].head()"
   ]
  },
  {
   "cell_type": "code",
   "execution_count": 22,
   "id": "02a5f9df",
   "metadata": {
    "execution": {
     "iopub.execute_input": "2022-07-08T14:01:53.404126Z",
     "iopub.status.busy": "2022-07-08T14:01:53.403762Z",
     "iopub.status.idle": "2022-07-08T14:01:53.409139Z",
     "shell.execute_reply": "2022-07-08T14:01:53.408031Z"
    },
    "papermill": {
     "duration": 0.026891,
     "end_time": "2022-07-08T14:01:53.411359",
     "exception": false,
     "start_time": "2022-07-08T14:01:53.384468",
     "status": "completed"
    },
    "tags": []
   },
   "outputs": [],
   "source": [
    "# cat_cols = [\"Sex\", \"Embarked\"]\n",
    "# num_cols = [\"Pclass\", \"Age\", \"SipSp\", \"Fare\"]\n",
    "\n",
    "# train, test = label_encoder(train, test, cat_cols)"
   ]
  },
  {
   "cell_type": "code",
   "execution_count": 23,
   "id": "508d1e89",
   "metadata": {
    "execution": {
     "iopub.execute_input": "2022-07-08T14:01:53.449018Z",
     "iopub.status.busy": "2022-07-08T14:01:53.448242Z",
     "iopub.status.idle": "2022-07-08T14:01:53.463409Z",
     "shell.execute_reply": "2022-07-08T14:01:53.462678Z"
    },
    "papermill": {
     "duration": 0.036365,
     "end_time": "2022-07-08T14:01:53.465487",
     "exception": false,
     "start_time": "2022-07-08T14:01:53.429122",
     "status": "completed"
    },
    "tags": []
   },
   "outputs": [
    {
     "data": {
      "text/html": [
       "<div>\n",
       "<style scoped>\n",
       "    .dataframe tbody tr th:only-of-type {\n",
       "        vertical-align: middle;\n",
       "    }\n",
       "\n",
       "    .dataframe tbody tr th {\n",
       "        vertical-align: top;\n",
       "    }\n",
       "\n",
       "    .dataframe thead th {\n",
       "        text-align: right;\n",
       "    }\n",
       "</style>\n",
       "<table border=\"1\" class=\"dataframe\">\n",
       "  <thead>\n",
       "    <tr style=\"text-align: right;\">\n",
       "      <th></th>\n",
       "      <th>Pclass</th>\n",
       "      <th>Sex</th>\n",
       "      <th>Age</th>\n",
       "      <th>SibSp</th>\n",
       "      <th>Parch</th>\n",
       "      <th>Fare</th>\n",
       "      <th>Embarked</th>\n",
       "    </tr>\n",
       "  </thead>\n",
       "  <tbody>\n",
       "    <tr>\n",
       "      <th>0</th>\n",
       "      <td>3</td>\n",
       "      <td>male</td>\n",
       "      <td>22.0</td>\n",
       "      <td>1</td>\n",
       "      <td>0</td>\n",
       "      <td>7.2500</td>\n",
       "      <td>S</td>\n",
       "    </tr>\n",
       "    <tr>\n",
       "      <th>1</th>\n",
       "      <td>1</td>\n",
       "      <td>female</td>\n",
       "      <td>38.0</td>\n",
       "      <td>1</td>\n",
       "      <td>0</td>\n",
       "      <td>71.2833</td>\n",
       "      <td>C</td>\n",
       "    </tr>\n",
       "    <tr>\n",
       "      <th>2</th>\n",
       "      <td>3</td>\n",
       "      <td>female</td>\n",
       "      <td>26.0</td>\n",
       "      <td>0</td>\n",
       "      <td>0</td>\n",
       "      <td>7.9250</td>\n",
       "      <td>S</td>\n",
       "    </tr>\n",
       "    <tr>\n",
       "      <th>3</th>\n",
       "      <td>1</td>\n",
       "      <td>female</td>\n",
       "      <td>35.0</td>\n",
       "      <td>1</td>\n",
       "      <td>0</td>\n",
       "      <td>53.1000</td>\n",
       "      <td>S</td>\n",
       "    </tr>\n",
       "    <tr>\n",
       "      <th>4</th>\n",
       "      <td>3</td>\n",
       "      <td>male</td>\n",
       "      <td>35.0</td>\n",
       "      <td>0</td>\n",
       "      <td>0</td>\n",
       "      <td>8.0500</td>\n",
       "      <td>S</td>\n",
       "    </tr>\n",
       "  </tbody>\n",
       "</table>\n",
       "</div>"
      ],
      "text/plain": [
       "   Pclass     Sex   Age  SibSp  Parch     Fare Embarked\n",
       "0       3    male  22.0      1      0   7.2500        S\n",
       "1       1  female  38.0      1      0  71.2833        C\n",
       "2       3  female  26.0      0      0   7.9250        S\n",
       "3       1  female  35.0      1      0  53.1000        S\n",
       "4       3    male  35.0      0      0   8.0500        S"
      ]
     },
     "execution_count": 23,
     "metadata": {},
     "output_type": "execute_result"
    }
   ],
   "source": [
    "train[FEATURES].head()"
   ]
  },
  {
   "cell_type": "markdown",
   "id": "5294561f",
   "metadata": {
    "papermill": {
     "duration": 0.017669,
     "end_time": "2022-07-08T14:01:53.501247",
     "exception": false,
     "start_time": "2022-07-08T14:01:53.483578",
     "status": "completed"
    },
    "tags": []
   },
   "source": [
    "## Impute"
   ]
  },
  {
   "cell_type": "code",
   "execution_count": 24,
   "id": "61bc4bf4",
   "metadata": {
    "execution": {
     "iopub.execute_input": "2022-07-08T14:01:53.538910Z",
     "iopub.status.busy": "2022-07-08T14:01:53.538480Z",
     "iopub.status.idle": "2022-07-08T14:01:53.543459Z",
     "shell.execute_reply": "2022-07-08T14:01:53.542378Z"
    },
    "papermill": {
     "duration": 0.026498,
     "end_time": "2022-07-08T14:01:53.545600",
     "exception": false,
     "start_time": "2022-07-08T14:01:53.519102",
     "status": "completed"
    },
    "tags": []
   },
   "outputs": [],
   "source": [
    "# train = train.drop([\"Name\"], axis=1)\n",
    "# test = test.drop([\"Name\"], axis=1)"
   ]
  },
  {
   "cell_type": "code",
   "execution_count": 25,
   "id": "1c600f5d",
   "metadata": {
    "execution": {
     "iopub.execute_input": "2022-07-08T14:01:53.584805Z",
     "iopub.status.busy": "2022-07-08T14:01:53.583989Z",
     "iopub.status.idle": "2022-07-08T14:01:53.612996Z",
     "shell.execute_reply": "2022-07-08T14:01:53.611947Z"
    },
    "papermill": {
     "duration": 0.051707,
     "end_time": "2022-07-08T14:01:53.615805",
     "exception": false,
     "start_time": "2022-07-08T14:01:53.564098",
     "status": "completed"
    },
    "tags": []
   },
   "outputs": [],
   "source": [
    "from sklearn.experimental import enable_iterative_imputer\n",
    "from sklearn.impute import IterativeImputer\n",
    "\n",
    "\n",
    "def xgb_impute(X, test):\n",
    "    imp = IterativeImputer(\n",
    "        estimator=xgb.XGBRegressor(\n",
    "            n_estimators=120,\n",
    "            random_state=42,\n",
    "            tree_method=\"gpu_hist\",\n",
    "        ),\n",
    "        missing_values=np.nan,\n",
    "        max_iter=15,\n",
    "        initial_strategy=\"mean\",\n",
    "        imputation_order=\"ascending\",\n",
    "        verbose=2,\n",
    "        random_state=42,\n",
    "    )\n",
    "\n",
    "    X[:] = imp.fit_transform(X)\n",
    "    test[:] = imp.transform(test)\n",
    "    return X, test"
   ]
  },
  {
   "cell_type": "markdown",
   "id": "dcea076f",
   "metadata": {
    "papermill": {
     "duration": 0.017442,
     "end_time": "2022-07-08T14:01:53.651066",
     "exception": false,
     "start_time": "2022-07-08T14:01:53.633624",
     "status": "completed"
    },
    "tags": []
   },
   "source": [
    "### Mean, Median, Mode"
   ]
  },
  {
   "cell_type": "code",
   "execution_count": 26,
   "id": "95431fb7",
   "metadata": {
    "execution": {
     "iopub.execute_input": "2022-07-08T14:01:53.688493Z",
     "iopub.status.busy": "2022-07-08T14:01:53.688096Z",
     "iopub.status.idle": "2022-07-08T14:01:53.712060Z",
     "shell.execute_reply": "2022-07-08T14:01:53.710881Z"
    },
    "papermill": {
     "duration": 0.045209,
     "end_time": "2022-07-08T14:01:53.714104",
     "exception": false,
     "start_time": "2022-07-08T14:01:53.668895",
     "status": "completed"
    },
    "tags": []
   },
   "outputs": [],
   "source": [
    "def impute_data(train, test, columns, method):\n",
    "    for col in columns:\n",
    "        if method == \"mean\":\n",
    "            value = train[col].mean()\n",
    "            train[col].fillna(value, inplace=True)\n",
    "            test[col].fillna(value, inplace=True)\n",
    "        elif method == \"mode\":\n",
    "            value = train[col].mode()[0]\n",
    "            train[col].fillna(value, inplace=True)\n",
    "            test[col].fillna(value, inplace=True)\n",
    "        elif method == \"median\":\n",
    "            value = train[col].median()\n",
    "            train[col].fillna(value, inplace=True)\n",
    "            test[col].fillna(value, inplace=True)\n",
    "    return train, test"
   ]
  },
  {
   "cell_type": "code",
   "execution_count": 27,
   "id": "b5583b9d",
   "metadata": {
    "execution": {
     "iopub.execute_input": "2022-07-08T14:01:53.752087Z",
     "iopub.status.busy": "2022-07-08T14:01:53.751406Z",
     "iopub.status.idle": "2022-07-08T14:01:53.765048Z",
     "shell.execute_reply": "2022-07-08T14:01:53.764004Z"
    },
    "papermill": {
     "duration": 0.035343,
     "end_time": "2022-07-08T14:01:53.767487",
     "exception": false,
     "start_time": "2022-07-08T14:01:53.732144",
     "status": "completed"
    },
    "tags": []
   },
   "outputs": [],
   "source": [
    "# train, test = fix_missing(train, test)\n",
    "# train, test = knn_impute(train, test)\n",
    "# xgb_impute(train, test)\n",
    "train, test = impute_data(train, test, [\"Embarked\"], \"mode\")\n",
    "train, test = impute_data(train, test, [\"Age\"], \"mean\")"
   ]
  },
  {
   "cell_type": "markdown",
   "id": "fd8b2ccd",
   "metadata": {
    "papermill": {
     "duration": 0.017199,
     "end_time": "2022-07-08T14:01:53.802895",
     "exception": false,
     "start_time": "2022-07-08T14:01:53.785696",
     "status": "completed"
    },
    "tags": []
   },
   "source": [
    "## Label Encode Categorical Features"
   ]
  },
  {
   "cell_type": "code",
   "execution_count": 28,
   "id": "6e9cfdb4",
   "metadata": {
    "execution": {
     "iopub.execute_input": "2022-07-08T14:01:53.841218Z",
     "iopub.status.busy": "2022-07-08T14:01:53.840834Z",
     "iopub.status.idle": "2022-07-08T14:01:53.856229Z",
     "shell.execute_reply": "2022-07-08T14:01:53.854969Z"
    },
    "papermill": {
     "duration": 0.03746,
     "end_time": "2022-07-08T14:01:53.858475",
     "exception": false,
     "start_time": "2022-07-08T14:01:53.821015",
     "status": "completed"
    },
    "tags": []
   },
   "outputs": [],
   "source": [
    "cat_cols = [\"Sex\", \"Embarked\"]\n",
    "num_cols = [\"Pclass\", \"Age\", \"SipSp\", \"Fare\"]\n",
    "\n",
    "train, test = label_encoder(train, test, cat_cols)"
   ]
  },
  {
   "cell_type": "code",
   "execution_count": 29,
   "id": "2ed01761",
   "metadata": {
    "execution": {
     "iopub.execute_input": "2022-07-08T14:01:53.897418Z",
     "iopub.status.busy": "2022-07-08T14:01:53.897001Z",
     "iopub.status.idle": "2022-07-08T14:01:53.903235Z",
     "shell.execute_reply": "2022-07-08T14:01:53.902138Z"
    },
    "papermill": {
     "duration": 0.028732,
     "end_time": "2022-07-08T14:01:53.905570",
     "exception": false,
     "start_time": "2022-07-08T14:01:53.876838",
     "status": "completed"
    },
    "tags": []
   },
   "outputs": [],
   "source": [
    "# # impute categorical features\n",
    "# train, test = impute_data(\n",
    "#     train,\n",
    "#     test,\n",
    "#     columns=[\"HomePlanet\", \"CryoSleep\", \"Destination\", \"VIP\"],\n",
    "#     method=\"mode\",\n",
    "# )\n",
    "\n",
    "# # impute numerical features\n",
    "# train, test = impute_data(\n",
    "#     train,\n",
    "#     test,\n",
    "#     columns=[\"Age\", \"RoomService\", \"FoodCourt\", \"ShoppingMall\", \"Spa\", \"VRDeck\"],\n",
    "#     method=\"mean\",\n",
    "# )"
   ]
  },
  {
   "cell_type": "markdown",
   "id": "3bdea8be",
   "metadata": {
    "papermill": {
     "duration": 0.017948,
     "end_time": "2022-07-08T14:01:53.941768",
     "exception": false,
     "start_time": "2022-07-08T14:01:53.923820",
     "status": "completed"
    },
    "tags": []
   },
   "source": [
    "## Select Best Features\n",
    "\n",
    "- p152 Another way of imputing missing values in a column would be to train a regression model that tries to predict missing values in a column based on other columns.\n",
    "- p155 remove features with very low variance. If the features have a very low variance (i.e. very close to 0), they are close to being constant and thus, do not add any value to any model"
   ]
  },
  {
   "cell_type": "markdown",
   "id": "09e64709",
   "metadata": {
    "papermill": {
     "duration": 0.019521,
     "end_time": "2022-07-08T14:01:53.979906",
     "exception": false,
     "start_time": "2022-07-08T14:01:53.960385",
     "status": "completed"
    },
    "tags": []
   },
   "source": [
    "## Optimize XGBoost"
   ]
  },
  {
   "cell_type": "code",
   "execution_count": 30,
   "id": "27933aac",
   "metadata": {
    "execution": {
     "iopub.execute_input": "2022-07-08T14:01:54.017940Z",
     "iopub.status.busy": "2022-07-08T14:01:54.017529Z",
     "iopub.status.idle": "2022-07-08T14:01:54.035761Z",
     "shell.execute_reply": "2022-07-08T14:01:54.033859Z"
    },
    "papermill": {
     "duration": 0.040393,
     "end_time": "2022-07-08T14:01:54.038441",
     "exception": false,
     "start_time": "2022-07-08T14:01:53.998048",
     "status": "completed"
    },
    "tags": []
   },
   "outputs": [
    {
     "name": "stdout",
     "output_type": "stream",
     "text": [
      "(891, 7)\n",
      "(891,)\n"
     ]
    }
   ],
   "source": [
    "X = train[FEATURES].copy()\n",
    "y = train[TARGET].astype(int)\n",
    "\n",
    "print(X.shape)\n",
    "print(y.shape)\n",
    "\n",
    "X_train, X_valid, y_train, y_valid = train_test_split(\n",
    "    X, y, test_size=0.2, random_state=42\n",
    ")"
   ]
  },
  {
   "cell_type": "code",
   "execution_count": 31,
   "id": "0a4a3977",
   "metadata": {
    "execution": {
     "iopub.execute_input": "2022-07-08T14:01:54.076151Z",
     "iopub.status.busy": "2022-07-08T14:01:54.075728Z",
     "iopub.status.idle": "2022-07-08T14:01:54.085091Z",
     "shell.execute_reply": "2022-07-08T14:01:54.084027Z"
    },
    "papermill": {
     "duration": 0.030914,
     "end_time": "2022-07-08T14:01:54.087355",
     "exception": false,
     "start_time": "2022-07-08T14:01:54.056441",
     "status": "completed"
    },
    "tags": []
   },
   "outputs": [
    {
     "data": {
      "text/plain": [
       "(array([0, 1]), array([1, 0]))"
      ]
     },
     "execution_count": 31,
     "metadata": {},
     "output_type": "execute_result"
    }
   ],
   "source": [
    "y_train.unique(), y_valid.unique()"
   ]
  },
  {
   "cell_type": "code",
   "execution_count": 32,
   "id": "f47dc8a9",
   "metadata": {
    "execution": {
     "iopub.execute_input": "2022-07-08T14:01:54.126776Z",
     "iopub.status.busy": "2022-07-08T14:01:54.125780Z",
     "iopub.status.idle": "2022-07-08T14:01:54.175232Z",
     "shell.execute_reply": "2022-07-08T14:01:54.174228Z"
    },
    "papermill": {
     "duration": 0.071896,
     "end_time": "2022-07-08T14:01:54.177971",
     "exception": false,
     "start_time": "2022-07-08T14:01:54.106075",
     "status": "completed"
    },
    "tags": []
   },
   "outputs": [],
   "source": [
    "def objective_xgb(trial, X_train, X_valid, y_train, y_valid):\n",
    "\n",
    "    xgb_params = {\n",
    "        #         \"objective\": trial.suggest_categorical(\"objective\", [\"multi:softmax\"]),\n",
    "        #         \"eval_metric\": \"mlogloss\",\n",
    "        #         \"objective\": \"multi:softmax\",\n",
    "        \"eval_metric\": \"auc\",  # auc, rmse, mae\n",
    "        \"objective\": \"binary:logistic\",\n",
    "        #         \"enable_categorical\": trial.suggest_categorical(\"use_label_encoder\", [True]),\n",
    "        \"use_label_encoder\": trial.suggest_categorical(\"use_label_encoder\", [False]),\n",
    "        \"n_estimators\": trial.suggest_int(\"n_estimators\", 1000, 5000, 100),\n",
    "        \"learning_rate\": trial.suggest_loguniform(\"learning_rate\", 1e-2, 0.25),\n",
    "        \"subsample\": trial.suggest_float(\"subsample\", 0.1, 1, step=0.01),\n",
    "        \"colsample_bytree\": trial.suggest_float(\"colsample_bytree\", 0.05, 1, step=0.01),\n",
    "        \"max_depth\": trial.suggest_int(\"max_depth\", 1, 20),  # 10\n",
    "        \"gamma\": trial.suggest_float(\"gamma\", 0, 100, step=0.1),\n",
    "        \"booster\": trial.suggest_categorical(\"booster\", [\"gbtree\"]),\n",
    "        \"tree_method\": trial.suggest_categorical(\n",
    "            \"tree_method\", [\"gpu_hist\"]\n",
    "        ),  # hist, gpu_hist\n",
    "        \"predictor\": \"gpu_predictor\",\n",
    "        \"reg_lambda\": trial.suggest_loguniform(\"reg_lambda\", 1e-8, 100),\n",
    "        \"reg_alpha\": trial.suggest_loguniform(\"reg_alpha\", 1e-8, 100),\n",
    "        \"random_state\": trial.suggest_categorical(\"random_state\", [42]),\n",
    "        \"n_jobs\": trial.suggest_categorical(\"n_jobs\", [4]),\n",
    "        \"min_child_weight\": trial.suggest_loguniform(\"min_child_weight\", 1e-1, 1e3),\n",
    "        # \"min_child_weight\": trial.suggest_categorical(\"min_child_weight\", [256]),\n",
    "    }\n",
    "\n",
    "    # Model loading and training\n",
    "    model = XGBClassifier(**xgb_params)\n",
    "    model.fit(\n",
    "        X_train,\n",
    "        y_train,\n",
    "        eval_set=[(X_train, y_train), (X_valid, y_valid)],\n",
    "        early_stopping_rounds=5000,\n",
    "        verbose=False,\n",
    "    )\n",
    "\n",
    "    print(f\"Number of boosting rounds: {model.best_iteration}\")\n",
    "    #     oof = model.predict_proba(X_valid)[:, 1] # Probability\n",
    "    oof = model.predict(X_valid)  # Classification: 0,1\n",
    "\n",
    "    return accuracy_score(y_valid, oof)\n",
    "\n",
    "\n",
    "#     return roc_auc_score(y_valid, oof)"
   ]
  },
  {
   "cell_type": "code",
   "execution_count": 33,
   "id": "15ea4c22",
   "metadata": {
    "execution": {
     "iopub.execute_input": "2022-07-08T14:01:54.216194Z",
     "iopub.status.busy": "2022-07-08T14:01:54.215582Z",
     "iopub.status.idle": "2022-07-08T14:01:54.228102Z",
     "shell.execute_reply": "2022-07-08T14:01:54.226963Z"
    },
    "papermill": {
     "duration": 0.034269,
     "end_time": "2022-07-08T14:01:54.230389",
     "exception": false,
     "start_time": "2022-07-08T14:01:54.196120",
     "status": "completed"
    },
    "tags": []
   },
   "outputs": [],
   "source": [
    "time_limit = 3600 * 3\n",
    "\n",
    "if Config.optimize and Config.model_type == \"xgb\":\n",
    "    study = optuna.create_study(direction=\"maximize\")\n",
    "    study.optimize(\n",
    "        lambda trial: objective_xgb(trial, X_train, X_valid, y_train, y_valid),\n",
    "        n_trials=Config.n_optimize_trials,  # 2, 10, 50, 100\n",
    "        # timeout=time_limit,  # this or n_trials\n",
    "    )"
   ]
  },
  {
   "cell_type": "markdown",
   "id": "30a74a1f",
   "metadata": {
    "papermill": {
     "duration": 0.017798,
     "end_time": "2022-07-08T14:01:54.266364",
     "exception": false,
     "start_time": "2022-07-08T14:01:54.248566",
     "status": "completed"
    },
    "tags": []
   },
   "source": [
    "## Show Optimization Results"
   ]
  },
  {
   "cell_type": "code",
   "execution_count": 34,
   "id": "e03d526a",
   "metadata": {
    "execution": {
     "iopub.execute_input": "2022-07-08T14:01:54.304802Z",
     "iopub.status.busy": "2022-07-08T14:01:54.304365Z",
     "iopub.status.idle": "2022-07-08T14:01:54.314430Z",
     "shell.execute_reply": "2022-07-08T14:01:54.313123Z"
    },
    "papermill": {
     "duration": 0.032103,
     "end_time": "2022-07-08T14:01:54.316820",
     "exception": false,
     "start_time": "2022-07-08T14:01:54.284717",
     "status": "completed"
    },
    "tags": []
   },
   "outputs": [],
   "source": [
    "if Config.optimize:\n",
    "    print(\"Number of finished trials:\", len(study.trials))\n",
    "    print(\"Best trial parameters:\", study.best_trial.params)\n",
    "    print(\"Best score:\", study.best_value)"
   ]
  },
  {
   "cell_type": "code",
   "execution_count": 35,
   "id": "48804806",
   "metadata": {
    "execution": {
     "iopub.execute_input": "2022-07-08T14:01:54.355532Z",
     "iopub.status.busy": "2022-07-08T14:01:54.355164Z",
     "iopub.status.idle": "2022-07-08T14:01:54.374449Z",
     "shell.execute_reply": "2022-07-08T14:01:54.373624Z"
    },
    "papermill": {
     "duration": 0.041489,
     "end_time": "2022-07-08T14:01:54.376598",
     "exception": false,
     "start_time": "2022-07-08T14:01:54.335109",
     "status": "completed"
    },
    "tags": []
   },
   "outputs": [],
   "source": [
    "# Default\n",
    "\n",
    "xgb_params = {\n",
    "    \"objective\": \"binary:logistic\",\n",
    "    #     \"use_label_encoder\": False,\n",
    "    \"enable_categorical\": True,\n",
    "    \"n_estimators\": Config.N_ESTIMATORS,\n",
    "    # \"eval_metric\": \"mlogloss\",\n",
    "    #     \"eval_metric\": \"auc\",\n",
    "    \"eval_metric\": \"accuracy\",\n",
    "    \"learning_rate\": 0.1,  # 0.9,0.1\n",
    "    #     \"learning_rate\": 0.15525187869673937,\n",
    "    #     \"subsample\": 0.66,\n",
    "    #     \"colsample_bytree\": 0.9500000000000001,\n",
    "    \"subsample\": 0.75,\n",
    "    \"colsample_bytree\": 0.5,\n",
    "    #     \"max_depth\": 4,\n",
    "    #     \"booster\": \"gbtree\",\n",
    "    #     \"gamma\": 1.7000000000000002,\n",
    "    \"tree_method\": \"hist\",  # \"gpu_hist\", \"hist\"\n",
    "    # \"reg_lambda\": 0.9541035898656812,\n",
    "    #  \"reg_alpha\": 2.3445012085324084,\n",
    "    \"random_state\": 42,\n",
    "    \"n_jobs\": 4,\n",
    "    #     \"min_child_weight\": 256,\n",
    "}\n",
    "\n",
    "if Config.gpu:\n",
    "    xgb_params[\"tree_method\"] = \"gpu_hist\"\n",
    "else:\n",
    "    xgb_params[\"tree_method\"] = \"hist\""
   ]
  },
  {
   "cell_type": "code",
   "execution_count": 36,
   "id": "84f5268b",
   "metadata": {
    "execution": {
     "iopub.execute_input": "2022-07-08T14:01:54.414980Z",
     "iopub.status.busy": "2022-07-08T14:01:54.414262Z",
     "iopub.status.idle": "2022-07-08T14:01:54.433038Z",
     "shell.execute_reply": "2022-07-08T14:01:54.431866Z"
    },
    "papermill": {
     "duration": 0.041169,
     "end_time": "2022-07-08T14:01:54.435744",
     "exception": false,
     "start_time": "2022-07-08T14:01:54.394575",
     "status": "completed"
    },
    "tags": []
   },
   "outputs": [],
   "source": [
    "# Optimized\n",
    "\n",
    "xgb_params = {\n",
    "    #     \"use_label_encoder\": False,\n",
    "    \"enable_categorical\": True,\n",
    "    \"n_estimators\": 1000,\n",
    "    \"learning_rate\": 0.021138659045230178,\n",
    "    \"subsample\": 0.4,\n",
    "    \"colsample_bytree\": 0.91,\n",
    "    \"max_depth\": 17,\n",
    "    \"gamma\": 0.6000000000000001,\n",
    "    \"booster\": \"gbtree\",\n",
    "    \"tree_method\": \"gpu_hist\",\n",
    "    \"reg_lambda\": 0.005882742898970815,\n",
    "    \"reg_alpha\": 0.0014501578157205654,\n",
    "    \"random_state\": 42,\n",
    "    \"n_jobs\": 4,\n",
    "    \"min_child_weight\": 5.567082153821453,\n",
    "}\n",
    "\n",
    "if Config.gpu:\n",
    "    xgb_params[\"tree_method\"] = \"gpu_hist\"\n",
    "else:\n",
    "    xgb_params[\"tree_method\"] = \"hist\""
   ]
  },
  {
   "cell_type": "markdown",
   "id": "1785ee1e",
   "metadata": {
    "papermill": {
     "duration": 0.017698,
     "end_time": "2022-07-08T14:01:54.471602",
     "exception": false,
     "start_time": "2022-07-08T14:01:54.453904",
     "status": "completed"
    },
    "tags": []
   },
   "source": [
    "## Use Best Hyperparameters"
   ]
  },
  {
   "cell_type": "code",
   "execution_count": 37,
   "id": "a290bab5",
   "metadata": {
    "execution": {
     "iopub.execute_input": "2022-07-08T14:01:54.509719Z",
     "iopub.status.busy": "2022-07-08T14:01:54.509271Z",
     "iopub.status.idle": "2022-07-08T14:01:54.516040Z",
     "shell.execute_reply": "2022-07-08T14:01:54.515086Z"
    },
    "papermill": {
     "duration": 0.028289,
     "end_time": "2022-07-08T14:01:54.518057",
     "exception": false,
     "start_time": "2022-07-08T14:01:54.489768",
     "status": "completed"
    },
    "tags": []
   },
   "outputs": [],
   "source": [
    "if Config.optimize:\n",
    "    xgb_params = study.best_trial.params"
   ]
  },
  {
   "cell_type": "code",
   "execution_count": 38,
   "id": "167e7a42",
   "metadata": {
    "execution": {
     "iopub.execute_input": "2022-07-08T14:01:54.556743Z",
     "iopub.status.busy": "2022-07-08T14:01:54.556089Z",
     "iopub.status.idle": "2022-07-08T14:01:54.570110Z",
     "shell.execute_reply": "2022-07-08T14:01:54.569200Z"
    },
    "papermill": {
     "duration": 0.035849,
     "end_time": "2022-07-08T14:01:54.572284",
     "exception": false,
     "start_time": "2022-07-08T14:01:54.536435",
     "status": "completed"
    },
    "tags": []
   },
   "outputs": [
    {
     "data": {
      "text/html": [
       "<div>\n",
       "<style scoped>\n",
       "    .dataframe tbody tr th:only-of-type {\n",
       "        vertical-align: middle;\n",
       "    }\n",
       "\n",
       "    .dataframe tbody tr th {\n",
       "        vertical-align: top;\n",
       "    }\n",
       "\n",
       "    .dataframe thead th {\n",
       "        text-align: right;\n",
       "    }\n",
       "</style>\n",
       "<table border=\"1\" class=\"dataframe\">\n",
       "  <thead>\n",
       "    <tr style=\"text-align: right;\">\n",
       "      <th></th>\n",
       "      <th>Pclass</th>\n",
       "      <th>Sex</th>\n",
       "      <th>Age</th>\n",
       "      <th>SibSp</th>\n",
       "      <th>Parch</th>\n",
       "      <th>Fare</th>\n",
       "      <th>Embarked</th>\n",
       "    </tr>\n",
       "  </thead>\n",
       "  <tbody>\n",
       "    <tr>\n",
       "      <th>0</th>\n",
       "      <td>3</td>\n",
       "      <td>1</td>\n",
       "      <td>22.0</td>\n",
       "      <td>1</td>\n",
       "      <td>0</td>\n",
       "      <td>7.2500</td>\n",
       "      <td>2</td>\n",
       "    </tr>\n",
       "    <tr>\n",
       "      <th>1</th>\n",
       "      <td>1</td>\n",
       "      <td>0</td>\n",
       "      <td>38.0</td>\n",
       "      <td>1</td>\n",
       "      <td>0</td>\n",
       "      <td>71.2833</td>\n",
       "      <td>0</td>\n",
       "    </tr>\n",
       "    <tr>\n",
       "      <th>2</th>\n",
       "      <td>3</td>\n",
       "      <td>0</td>\n",
       "      <td>26.0</td>\n",
       "      <td>0</td>\n",
       "      <td>0</td>\n",
       "      <td>7.9250</td>\n",
       "      <td>2</td>\n",
       "    </tr>\n",
       "    <tr>\n",
       "      <th>3</th>\n",
       "      <td>1</td>\n",
       "      <td>0</td>\n",
       "      <td>35.0</td>\n",
       "      <td>1</td>\n",
       "      <td>0</td>\n",
       "      <td>53.1000</td>\n",
       "      <td>2</td>\n",
       "    </tr>\n",
       "    <tr>\n",
       "      <th>4</th>\n",
       "      <td>3</td>\n",
       "      <td>1</td>\n",
       "      <td>35.0</td>\n",
       "      <td>0</td>\n",
       "      <td>0</td>\n",
       "      <td>8.0500</td>\n",
       "      <td>2</td>\n",
       "    </tr>\n",
       "  </tbody>\n",
       "</table>\n",
       "</div>"
      ],
      "text/plain": [
       "   Pclass  Sex   Age  SibSp  Parch     Fare  Embarked\n",
       "0       3    1  22.0      1      0   7.2500         2\n",
       "1       1    0  38.0      1      0  71.2833         0\n",
       "2       3    0  26.0      0      0   7.9250         2\n",
       "3       1    0  35.0      1      0  53.1000         2\n",
       "4       3    1  35.0      0      0   8.0500         2"
      ]
     },
     "execution_count": 38,
     "metadata": {},
     "output_type": "execute_result"
    }
   ],
   "source": [
    "train[FEATURES].head()"
   ]
  },
  {
   "cell_type": "code",
   "execution_count": 39,
   "id": "7ed67137",
   "metadata": {
    "execution": {
     "iopub.execute_input": "2022-07-08T14:01:54.611206Z",
     "iopub.status.busy": "2022-07-08T14:01:54.610540Z",
     "iopub.status.idle": "2022-07-08T14:01:54.617088Z",
     "shell.execute_reply": "2022-07-08T14:01:54.615794Z"
    },
    "papermill": {
     "duration": 0.028477,
     "end_time": "2022-07-08T14:01:54.619286",
     "exception": false,
     "start_time": "2022-07-08T14:01:54.590809",
     "status": "completed"
    },
    "tags": []
   },
   "outputs": [
    {
     "name": "stdout",
     "output_type": "stream",
     "text": [
      "{'enable_categorical': True, 'n_estimators': 1000, 'learning_rate': 0.021138659045230178, 'subsample': 0.4, 'colsample_bytree': 0.91, 'max_depth': 17, 'gamma': 0.6000000000000001, 'booster': 'gbtree', 'tree_method': 'hist', 'reg_lambda': 0.005882742898970815, 'reg_alpha': 0.0014501578157205654, 'random_state': 42, 'n_jobs': 4, 'min_child_weight': 5.567082153821453}\n"
     ]
    }
   ],
   "source": [
    "print(xgb_params)"
   ]
  },
  {
   "cell_type": "code",
   "execution_count": 40,
   "id": "d2bb1348",
   "metadata": {
    "execution": {
     "iopub.execute_input": "2022-07-08T14:01:54.659017Z",
     "iopub.status.busy": "2022-07-08T14:01:54.658251Z",
     "iopub.status.idle": "2022-07-08T14:01:54.708921Z",
     "shell.execute_reply": "2022-07-08T14:01:54.707673Z"
    },
    "papermill": {
     "duration": 0.073768,
     "end_time": "2022-07-08T14:01:54.711867",
     "exception": false,
     "start_time": "2022-07-08T14:01:54.638099",
     "status": "completed"
    },
    "tags": []
   },
   "outputs": [],
   "source": [
    "def train_xgb_model(df, test, FEATURES, TARGET, params, n_folds=5, seed=42):\n",
    "    print(params)\n",
    "    final_test_predictions = []\n",
    "    final_valid_predictions = {}\n",
    "    fold_scores = []  # Scores of Validation Set\n",
    "    feature_importance_lst = []\n",
    "\n",
    "    test = test[FEATURES].copy()\n",
    "\n",
    "    # oof_preds = np.zeros((df.shape[0],)) # Zero array\n",
    "    # print(f\"oof_preds size={df.shape[0]}\")\n",
    "    print(\n",
    "        f\"\\n===== XGBoost Estimators: {params['n_estimators']}, Random State: {seed} =====\"\n",
    "    )\n",
    "\n",
    "    for fold in range(n_folds):\n",
    "        print(10 * \"=\", f\"Fold {fold+1}/{n_folds}\", 10 * \"=\")\n",
    "\n",
    "        start_time = time.time()\n",
    "\n",
    "        xtrain = df[df.fold != fold].reset_index(\n",
    "            drop=True\n",
    "        )  # Everything not in validation fold\n",
    "        xvalid = df[df.fold == fold].reset_index(drop=True)\n",
    "        xtest = test.copy()\n",
    "\n",
    "        valid_ids = (\n",
    "            xvalid.PassengerId.values.tolist()\n",
    "        )  # Id's of everything in validation fold\n",
    "\n",
    "        ytrain = xtrain[TARGET]\n",
    "        yvalid = xvalid[TARGET]\n",
    "\n",
    "        xtrain = xtrain[FEATURES]\n",
    "        xvalid = xvalid[FEATURES]\n",
    "\n",
    "        model = xgb.XGBClassifier(**params)\n",
    "\n",
    "        model.fit(\n",
    "            xtrain,\n",
    "            ytrain,\n",
    "            eval_set=[(xvalid, yvalid)],\n",
    "            verbose=False,\n",
    "            early_stopping_rounds=3000,\n",
    "        )\n",
    "\n",
    "        # Mean of the predictions\n",
    "        preds_valid = model.predict(xvalid)\n",
    "        test_preds = model.predict(xtest)\n",
    "\n",
    "        #         preds_valid = model.predict_proba(xvalid)[:, 1]\n",
    "        #         test_preds = model.predict_proba(xtest)[:, 1]\n",
    "\n",
    "        final_valid_predictions.update(dict(zip(valid_ids, preds_valid)))\n",
    "\n",
    "        fold_score = accuracy_score(yvalid, preds_valid)  # Validation Set Score\n",
    "        #         fold_score = roc_auc_score(yvalid, preds_valid)  # Validation Set Score\n",
    "\n",
    "        fold_scores.append(fold_score)\n",
    "\n",
    "        # Feature importance\n",
    "        fi = pd.DataFrame(\n",
    "            index=FEATURES,\n",
    "            data=model.feature_importances_,\n",
    "            columns=[f\"{fold}_importance\"],\n",
    "        )\n",
    "        feature_importance_lst.append(fi)\n",
    "        final_test_predictions.append(test_preds)\n",
    "\n",
    "        run_time = time.time() - start_time\n",
    "\n",
    "        print(f\"fold: {fold+1}, Score: {fold_score}, Run Time: {run_time:.2f}\")\n",
    "\n",
    "    return (\n",
    "        model,\n",
    "        feature_importance_lst,\n",
    "        fold_scores,\n",
    "        final_valid_predictions,\n",
    "        final_test_predictions,\n",
    "    )"
   ]
  },
  {
   "cell_type": "code",
   "execution_count": 41,
   "id": "3444efd2",
   "metadata": {
    "execution": {
     "iopub.execute_input": "2022-07-08T14:01:54.750829Z",
     "iopub.status.busy": "2022-07-08T14:01:54.750342Z",
     "iopub.status.idle": "2022-07-08T14:02:34.249383Z",
     "shell.execute_reply": "2022-07-08T14:02:34.248378Z"
    },
    "papermill": {
     "duration": 39.521817,
     "end_time": "2022-07-08T14:02:34.252125",
     "exception": false,
     "start_time": "2022-07-08T14:01:54.730308",
     "status": "completed"
    },
    "tags": []
   },
   "outputs": [
    {
     "name": "stdout",
     "output_type": "stream",
     "text": [
      "{'enable_categorical': True, 'n_estimators': 1000, 'learning_rate': 0.021138659045230178, 'subsample': 0.4, 'colsample_bytree': 0.91, 'max_depth': 17, 'gamma': 0.6000000000000001, 'booster': 'gbtree', 'tree_method': 'hist', 'reg_lambda': 0.005882742898970815, 'reg_alpha': 0.0014501578157205654, 'random_state': 42, 'n_jobs': 4, 'min_child_weight': 5.567082153821453}\n",
      "\n",
      "===== XGBoost Estimators: 1000, Random State: 42 =====\n",
      "========== Fold 1/10 ==========\n",
      "fold: 1, Score: 0.8555555555555555, Run Time: 3.98\n",
      "========== Fold 2/10 ==========\n",
      "fold: 2, Score: 0.797752808988764, Run Time: 3.82\n",
      "========== Fold 3/10 ==========\n",
      "fold: 3, Score: 0.8314606741573034, Run Time: 3.91\n",
      "========== Fold 4/10 ==========\n",
      "fold: 4, Score: 0.8314606741573034, Run Time: 3.89\n",
      "========== Fold 5/10 ==========\n",
      "fold: 5, Score: 0.8089887640449438, Run Time: 3.75\n",
      "========== Fold 6/10 ==========\n",
      "fold: 6, Score: 0.8202247191011236, Run Time: 3.89\n",
      "========== Fold 7/10 ==========\n",
      "fold: 7, Score: 0.8089887640449438, Run Time: 4.75\n",
      "========== Fold 8/10 ==========\n",
      "fold: 8, Score: 0.8314606741573034, Run Time: 3.77\n",
      "========== Fold 9/10 ==========\n",
      "fold: 9, Score: 0.8539325842696629, Run Time: 3.95\n",
      "========== Fold 10/10 ==========\n",
      "fold: 10, Score: 0.8314606741573034, Run Time: 3.77\n"
     ]
    }
   ],
   "source": [
    "(\n",
    "    model,\n",
    "    feature_importance_lst,\n",
    "    fold_scores,\n",
    "    final_valid_predictions,\n",
    "    final_test_predictions,\n",
    ") = train_xgb_model(\n",
    "    train, test, FEATURES, TARGET, xgb_params, Config.N_FOLDS, Config.seed\n",
    ")"
   ]
  },
  {
   "cell_type": "markdown",
   "id": "542e077a",
   "metadata": {
    "papermill": {
     "duration": 0.019082,
     "end_time": "2022-07-08T14:02:34.290958",
     "exception": false,
     "start_time": "2022-07-08T14:02:34.271876",
     "status": "completed"
    },
    "tags": []
   },
   "source": [
    "<div style=\"background-color:rgba(128, 0, 128, 0.6);border-radius:5px;display:fill\"><h1 style=\"text-align: center;padding: 12px 0px 12px 0px;\">Scores</h1>\n",
    "</div>"
   ]
  },
  {
   "cell_type": "code",
   "execution_count": 42,
   "id": "c44bad74",
   "metadata": {
    "execution": {
     "iopub.execute_input": "2022-07-08T14:02:34.332481Z",
     "iopub.status.busy": "2022-07-08T14:02:34.331784Z",
     "iopub.status.idle": "2022-07-08T14:02:34.340046Z",
     "shell.execute_reply": "2022-07-08T14:02:34.338816Z"
    },
    "papermill": {
     "duration": 0.031354,
     "end_time": "2022-07-08T14:02:34.342344",
     "exception": false,
     "start_time": "2022-07-08T14:02:34.310990",
     "status": "completed"
    },
    "tags": []
   },
   "outputs": [
    {
     "name": "stdout",
     "output_type": "stream",
     "text": [
      "scores -> mean: 0.827129, std: 0.017805\n"
     ]
    }
   ],
   "source": [
    "cv_score = np.mean(fold_scores)  # Used in filename\n",
    "print(f\"scores -> mean: {cv_score:0.6f}, std: {np.std(fold_scores):0.6f}\")"
   ]
  },
  {
   "cell_type": "markdown",
   "id": "f335499f",
   "metadata": {
    "papermill": {
     "duration": 0.019271,
     "end_time": "2022-07-08T14:02:34.381046",
     "exception": false,
     "start_time": "2022-07-08T14:02:34.361775",
     "status": "completed"
    },
    "tags": []
   },
   "source": [
    "<div style=\"background-color:rgba(128, 0, 128, 0.6);border-radius:5px;display:fill\"><h1 style=\"text-align: center;padding: 12px 0px 12px 0px;\">Model Feature Importance</h1>\n",
    "</div>\n",
    "\n",
    "- [Feature Importance and Feature Selection With XGBoost in Python](https://machinelearningmastery.com/feature-importance-and-feature-selection-with-xgboost-in-python/)"
   ]
  },
  {
   "cell_type": "code",
   "execution_count": 43,
   "id": "39cf5210",
   "metadata": {
    "execution": {
     "iopub.execute_input": "2022-07-08T14:02:34.421466Z",
     "iopub.status.busy": "2022-07-08T14:02:34.421085Z",
     "iopub.status.idle": "2022-07-08T14:02:34.444281Z",
     "shell.execute_reply": "2022-07-08T14:02:34.443189Z"
    },
    "papermill": {
     "duration": 0.046022,
     "end_time": "2022-07-08T14:02:34.446479",
     "exception": false,
     "start_time": "2022-07-08T14:02:34.400457",
     "status": "completed"
    },
    "tags": []
   },
   "outputs": [
    {
     "data": {
      "text/html": [
       "<div>\n",
       "<style scoped>\n",
       "    .dataframe tbody tr th:only-of-type {\n",
       "        vertical-align: middle;\n",
       "    }\n",
       "\n",
       "    .dataframe tbody tr th {\n",
       "        vertical-align: top;\n",
       "    }\n",
       "\n",
       "    .dataframe thead th {\n",
       "        text-align: right;\n",
       "    }\n",
       "</style>\n",
       "<table border=\"1\" class=\"dataframe\">\n",
       "  <thead>\n",
       "    <tr style=\"text-align: right;\">\n",
       "      <th></th>\n",
       "      <th>0_importance</th>\n",
       "      <th>1_importance</th>\n",
       "      <th>2_importance</th>\n",
       "      <th>3_importance</th>\n",
       "      <th>4_importance</th>\n",
       "      <th>5_importance</th>\n",
       "      <th>6_importance</th>\n",
       "      <th>7_importance</th>\n",
       "      <th>8_importance</th>\n",
       "      <th>9_importance</th>\n",
       "    </tr>\n",
       "  </thead>\n",
       "  <tbody>\n",
       "    <tr>\n",
       "      <th>Sex</th>\n",
       "      <td>0.363630</td>\n",
       "      <td>0.377223</td>\n",
       "      <td>0.377763</td>\n",
       "      <td>0.390458</td>\n",
       "      <td>0.362412</td>\n",
       "      <td>0.374849</td>\n",
       "      <td>0.369003</td>\n",
       "      <td>0.387784</td>\n",
       "      <td>0.373421</td>\n",
       "      <td>0.363887</td>\n",
       "    </tr>\n",
       "    <tr>\n",
       "      <th>Pclass</th>\n",
       "      <td>0.154366</td>\n",
       "      <td>0.157302</td>\n",
       "      <td>0.163388</td>\n",
       "      <td>0.150851</td>\n",
       "      <td>0.163364</td>\n",
       "      <td>0.161722</td>\n",
       "      <td>0.155590</td>\n",
       "      <td>0.163676</td>\n",
       "      <td>0.164186</td>\n",
       "      <td>0.165064</td>\n",
       "    </tr>\n",
       "    <tr>\n",
       "      <th>Embarked</th>\n",
       "      <td>0.109187</td>\n",
       "      <td>0.097282</td>\n",
       "      <td>0.100038</td>\n",
       "      <td>0.099725</td>\n",
       "      <td>0.101254</td>\n",
       "      <td>0.101832</td>\n",
       "      <td>0.102274</td>\n",
       "      <td>0.093557</td>\n",
       "      <td>0.096057</td>\n",
       "      <td>0.103696</td>\n",
       "    </tr>\n",
       "    <tr>\n",
       "      <th>Parch</th>\n",
       "      <td>0.099112</td>\n",
       "      <td>0.101827</td>\n",
       "      <td>0.091012</td>\n",
       "      <td>0.089138</td>\n",
       "      <td>0.106058</td>\n",
       "      <td>0.091033</td>\n",
       "      <td>0.096029</td>\n",
       "      <td>0.089617</td>\n",
       "      <td>0.096173</td>\n",
       "      <td>0.100252</td>\n",
       "    </tr>\n",
       "    <tr>\n",
       "      <th>Fare</th>\n",
       "      <td>0.093295</td>\n",
       "      <td>0.091139</td>\n",
       "      <td>0.092605</td>\n",
       "      <td>0.091645</td>\n",
       "      <td>0.092537</td>\n",
       "      <td>0.092011</td>\n",
       "      <td>0.094276</td>\n",
       "      <td>0.091701</td>\n",
       "      <td>0.094986</td>\n",
       "      <td>0.093677</td>\n",
       "    </tr>\n",
       "    <tr>\n",
       "      <th>Age</th>\n",
       "      <td>0.091153</td>\n",
       "      <td>0.087891</td>\n",
       "      <td>0.090302</td>\n",
       "      <td>0.087291</td>\n",
       "      <td>0.090355</td>\n",
       "      <td>0.090177</td>\n",
       "      <td>0.091474</td>\n",
       "      <td>0.088695</td>\n",
       "      <td>0.094290</td>\n",
       "      <td>0.090025</td>\n",
       "    </tr>\n",
       "    <tr>\n",
       "      <th>SibSp</th>\n",
       "      <td>0.089257</td>\n",
       "      <td>0.087335</td>\n",
       "      <td>0.084893</td>\n",
       "      <td>0.090891</td>\n",
       "      <td>0.084019</td>\n",
       "      <td>0.088376</td>\n",
       "      <td>0.091353</td>\n",
       "      <td>0.084971</td>\n",
       "      <td>0.080886</td>\n",
       "      <td>0.083399</td>\n",
       "    </tr>\n",
       "  </tbody>\n",
       "</table>\n",
       "</div>"
      ],
      "text/plain": [
       "          0_importance  1_importance  2_importance  3_importance  \\\n",
       "Sex           0.363630      0.377223      0.377763      0.390458   \n",
       "Pclass        0.154366      0.157302      0.163388      0.150851   \n",
       "Embarked      0.109187      0.097282      0.100038      0.099725   \n",
       "Parch         0.099112      0.101827      0.091012      0.089138   \n",
       "Fare          0.093295      0.091139      0.092605      0.091645   \n",
       "Age           0.091153      0.087891      0.090302      0.087291   \n",
       "SibSp         0.089257      0.087335      0.084893      0.090891   \n",
       "\n",
       "          4_importance  5_importance  6_importance  7_importance  \\\n",
       "Sex           0.362412      0.374849      0.369003      0.387784   \n",
       "Pclass        0.163364      0.161722      0.155590      0.163676   \n",
       "Embarked      0.101254      0.101832      0.102274      0.093557   \n",
       "Parch         0.106058      0.091033      0.096029      0.089617   \n",
       "Fare          0.092537      0.092011      0.094276      0.091701   \n",
       "Age           0.090355      0.090177      0.091474      0.088695   \n",
       "SibSp         0.084019      0.088376      0.091353      0.084971   \n",
       "\n",
       "          8_importance  9_importance  \n",
       "Sex           0.373421      0.363887  \n",
       "Pclass        0.164186      0.165064  \n",
       "Embarked      0.096057      0.103696  \n",
       "Parch         0.096173      0.100252  \n",
       "Fare          0.094986      0.093677  \n",
       "Age           0.094290      0.090025  \n",
       "SibSp         0.080886      0.083399  "
      ]
     },
     "execution_count": 43,
     "metadata": {},
     "output_type": "execute_result"
    }
   ],
   "source": [
    "fis_df = pd.concat(feature_importance_lst, axis=1)\n",
    "fis_df.sort_values(\"0_importance\", ascending=False).head(10)"
   ]
  },
  {
   "cell_type": "code",
   "execution_count": 44,
   "id": "ebcbff8d",
   "metadata": {
    "execution": {
     "iopub.execute_input": "2022-07-08T14:02:34.487496Z",
     "iopub.status.busy": "2022-07-08T14:02:34.487080Z",
     "iopub.status.idle": "2022-07-08T14:02:34.751791Z",
     "shell.execute_reply": "2022-07-08T14:02:34.750610Z"
    },
    "papermill": {
     "duration": 0.288457,
     "end_time": "2022-07-08T14:02:34.754432",
     "exception": false,
     "start_time": "2022-07-08T14:02:34.465975",
     "status": "completed"
    },
    "tags": []
   },
   "outputs": [
    {
     "data": {
      "image/png": "[encoded data removed]",
      "text/plain": [
       "<Figure size 720x432 with 1 Axes>"
      ]
     },
     "metadata": {},
     "output_type": "display_data"
    }
   ],
   "source": [
    "from xgboost import plot_importance\n",
    "\n",
    "fig, ax = plt.subplots(figsize=(10, 6))\n",
    "plot_importance(model, max_num_features=20, ax=ax, grid=False)\n",
    "plt.show()"
   ]
  },
  {
   "cell_type": "code",
   "execution_count": 45,
   "id": "e87b3f6d",
   "metadata": {
    "execution": {
     "iopub.execute_input": "2022-07-08T14:02:34.797939Z",
     "iopub.status.busy": "2022-07-08T14:02:34.796702Z",
     "iopub.status.idle": "2022-07-08T14:02:35.263944Z",
     "shell.execute_reply": "2022-07-08T14:02:35.262720Z"
    },
    "papermill": {
     "duration": 0.491343,
     "end_time": "2022-07-08T14:02:35.266263",
     "exception": false,
     "start_time": "2022-07-08T14:02:34.774920",
     "status": "completed"
    },
    "tags": []
   },
   "outputs": [
    {
     "data": {
      "image/png": "[encoded data removed]",
      "text/plain": [
       "<Figure size 864x864 with 1 Axes>"
      ]
     },
     "metadata": {},
     "output_type": "display_data"
    }
   ],
   "source": [
    "fis_df.sort_values(\"0_importance\", ascending=True).tail(20).plot(\n",
    "    kind=\"barh\", figsize=(12, 12), title=\"Feature Importance Across Folds\"\n",
    ")\n",
    "plt.show()"
   ]
  },
  {
   "cell_type": "markdown",
   "id": "c8027866",
   "metadata": {
    "papermill": {
     "duration": 0.020862,
     "end_time": "2022-07-08T14:02:35.308389",
     "exception": false,
     "start_time": "2022-07-08T14:02:35.287527",
     "status": "completed"
    },
    "tags": []
   },
   "source": [
    "<div style=\"background-color:rgba(128, 0, 128, 0.6);border-radius:5px;display:fill\"><h1 style=\"text-align: center;padding: 12px 0px 12px 0px;\">Save OOF Predictions</h1>\n",
    "\n"
   ]
  },
  {
   "cell_type": "code",
   "execution_count": 46,
   "id": "73ebdfbf",
   "metadata": {
    "execution": {
     "iopub.execute_input": "2022-07-08T14:02:35.352992Z",
     "iopub.status.busy": "2022-07-08T14:02:35.352541Z",
     "iopub.status.idle": "2022-07-08T14:02:35.379725Z",
     "shell.execute_reply": "2022-07-08T14:02:35.378915Z"
    },
    "papermill": {
     "duration": 0.052211,
     "end_time": "2022-07-08T14:02:35.381789",
     "exception": false,
     "start_time": "2022-07-08T14:02:35.329578",
     "status": "completed"
    },
    "tags": []
   },
   "outputs": [
    {
     "data": {
      "text/html": [
       "<div>\n",
       "<style scoped>\n",
       "    .dataframe tbody tr th:only-of-type {\n",
       "        vertical-align: middle;\n",
       "    }\n",
       "\n",
       "    .dataframe tbody tr th {\n",
       "        vertical-align: top;\n",
       "    }\n",
       "\n",
       "    .dataframe thead th {\n",
       "        text-align: right;\n",
       "    }\n",
       "</style>\n",
       "<table border=\"1\" class=\"dataframe\">\n",
       "  <thead>\n",
       "    <tr style=\"text-align: right;\">\n",
       "      <th></th>\n",
       "      <th>id</th>\n",
       "      <th>pred_xgb1</th>\n",
       "    </tr>\n",
       "  </thead>\n",
       "  <tbody>\n",
       "    <tr>\n",
       "      <th>0</th>\n",
       "      <td>25</td>\n",
       "      <td>0</td>\n",
       "    </tr>\n",
       "    <tr>\n",
       "      <th>1</th>\n",
       "      <td>29</td>\n",
       "      <td>1</td>\n",
       "    </tr>\n",
       "    <tr>\n",
       "      <th>2</th>\n",
       "      <td>32</td>\n",
       "      <td>1</td>\n",
       "    </tr>\n",
       "    <tr>\n",
       "      <th>3</th>\n",
       "      <td>35</td>\n",
       "      <td>1</td>\n",
       "    </tr>\n",
       "    <tr>\n",
       "      <th>4</th>\n",
       "      <td>44</td>\n",
       "      <td>1</td>\n",
       "    </tr>\n",
       "  </tbody>\n",
       "</table>\n",
       "</div>"
      ],
      "text/plain": [
       "   id  pred_xgb1\n",
       "0  25          0\n",
       "1  29          1\n",
       "2  32          1\n",
       "3  35          1\n",
       "4  44          1"
      ]
     },
     "execution_count": 46,
     "metadata": {},
     "output_type": "execute_result"
    }
   ],
   "source": [
    "pred_field = f\"pred_{Config.model_name}\"\n",
    "\n",
    "final_valid_predictions_df = pd.DataFrame.from_dict(\n",
    "    final_valid_predictions, orient=\"index\"\n",
    ").reset_index()\n",
    "\n",
    "final_valid_predictions_df.columns = [\"id\", pred_field]\n",
    "\n",
    "final_valid_predictions_df[pred_field] = final_valid_predictions_df[pred_field]\n",
    "\n",
    "final_valid_predictions_df.to_csv(\n",
    "    f\"results/oof_preds_cv{cv_score:0.6f}_s{Config.seed}_k{Config.N_FOLDS}_{Config.model_name}.csv\",\n",
    ")\n",
    "\n",
    "final_valid_predictions_df.head()"
   ]
  },
  {
   "cell_type": "markdown",
   "id": "07eeeb10",
   "metadata": {
    "papermill": {
     "duration": 0.021778,
     "end_time": "2022-07-08T14:02:35.424963",
     "exception": false,
     "start_time": "2022-07-08T14:02:35.403185",
     "status": "completed"
    },
    "tags": []
   },
   "source": [
    "<div style=\"background-color:rgba(128, 0, 128, 0.6);border-radius:5px;display:fill\"><h1 style=\"text-align: center;padding: 12px 0px 12px 0px;\">Submission</h1>\n",
    "</div>"
   ]
  },
  {
   "cell_type": "code",
   "execution_count": 47,
   "id": "1cf073c7",
   "metadata": {
    "execution": {
     "iopub.execute_input": "2022-07-08T14:02:35.469382Z",
     "iopub.status.busy": "2022-07-08T14:02:35.468703Z",
     "iopub.status.idle": "2022-07-08T14:02:35.478013Z",
     "shell.execute_reply": "2022-07-08T14:02:35.476725Z"
    },
    "papermill": {
     "duration": 0.034045,
     "end_time": "2022-07-08T14:02:35.480223",
     "exception": false,
     "start_time": "2022-07-08T14:02:35.446178",
     "status": "completed"
    },
    "tags": []
   },
   "outputs": [
    {
     "data": {
      "text/plain": [
       "array([[0, 0, 0, 0, 0, 0, 0, 0, 0, 0],\n",
       "       [0, 0, 0, 0, 0, 0, 0, 0, 0, 0],\n",
       "       [0, 0, 0, 0, 0, 0, 0, 0, 0, 0],\n",
       "       [0, 0, 0, 0, 0, 0, 0, 0, 0, 0],\n",
       "       [0, 0, 0, 0, 0, 0, 0, 0, 0, 0],\n",
       "       [0, 0, 0, 0, 0, 0, 0, 0, 0, 0],\n",
       "       [1, 1, 1, 1, 1, 1, 1, 1, 1, 1],\n",
       "       [0, 0, 0, 0, 0, 0, 0, 0, 0, 0],\n",
       "       [1, 1, 1, 1, 1, 1, 1, 1, 1, 1],\n",
       "       [0, 0, 0, 0, 0, 0, 0, 0, 0, 0]])"
      ]
     },
     "execution_count": 47,
     "metadata": {},
     "output_type": "execute_result"
    }
   ],
   "source": [
    "np.column_stack(final_test_predictions)[:10]"
   ]
  },
  {
   "cell_type": "code",
   "execution_count": 48,
   "id": "6891c5ee",
   "metadata": {
    "execution": {
     "iopub.execute_input": "2022-07-08T14:02:35.524775Z",
     "iopub.status.busy": "2022-07-08T14:02:35.524395Z",
     "iopub.status.idle": "2022-07-08T14:02:35.548312Z",
     "shell.execute_reply": "2022-07-08T14:02:35.547212Z"
    },
    "papermill": {
     "duration": 0.050086,
     "end_time": "2022-07-08T14:02:35.551810",
     "exception": false,
     "start_time": "2022-07-08T14:02:35.501724",
     "status": "completed"
    },
    "tags": []
   },
   "outputs": [
    {
     "data": {
      "text/plain": [
       "scipy.stats.stats.ModeResult"
      ]
     },
     "execution_count": 48,
     "metadata": {},
     "output_type": "execute_result"
    }
   ],
   "source": [
    "# mean_result = np.mean(np.column_stack(final_test_predictions), axis=1)  # .astype(\"int\")\n",
    "mode_result = mode(np.column_stack(final_test_predictions), axis=1)\n",
    "type(mode_result)"
   ]
  },
  {
   "cell_type": "code",
   "execution_count": 49,
   "id": "b994a57b",
   "metadata": {
    "execution": {
     "iopub.execute_input": "2022-07-08T14:02:35.596428Z",
     "iopub.status.busy": "2022-07-08T14:02:35.596065Z",
     "iopub.status.idle": "2022-07-08T14:02:35.605335Z",
     "shell.execute_reply": "2022-07-08T14:02:35.604594Z"
    },
    "papermill": {
     "duration": 0.034163,
     "end_time": "2022-07-08T14:02:35.607448",
     "exception": false,
     "start_time": "2022-07-08T14:02:35.573285",
     "status": "completed"
    },
    "tags": []
   },
   "outputs": [
    {
     "data": {
      "text/plain": [
       "array([0, 0, 0, 0, 0, 0, 1, 0, 1, 0, 0, 0, 1, 0, 1, 1, 0, 0, 1, 0, 0, 0,\n",
       "       1, 0, 1, 0, 1, 0, 0, 0, 0, 0, 0, 0, 1, 0, 0, 0, 0, 0, 0, 0, 0, 1,\n",
       "       1, 0, 0, 0, 1, 1, 0, 0, 1, 1, 0, 0, 0, 0, 0, 1, 0, 0, 0, 1, 1, 1,\n",
       "       1, 0, 0, 1, 1, 0, 1, 0, 1, 1, 0, 1, 0, 1, 1, 0, 0, 0, 0, 0, 1, 0,\n",
       "       1, 1, 0, 0, 1, 0, 0, 0, 1, 0, 1, 0, 1, 0, 0, 0, 1, 0, 0, 0, 0, 0,\n",
       "       0, 1, 1, 1, 1, 0, 0, 1, 1, 1, 1, 0, 1, 0, 0, 1, 0, 1, 0, 0, 0, 0,\n",
       "       0, 0, 0, 0, 0, 0, 0, 0, 0, 1, 0, 0, 0, 0, 0, 0, 0, 0, 1, 0, 0, 1,\n",
       "       0, 0, 1, 1, 0, 0, 1, 1, 1, 0, 0, 0, 0, 0, 1, 0, 0, 0, 0, 0, 0, 1,\n",
       "       1, 0, 1, 1, 0, 1, 1, 0, 1, 0, 1, 0, 0, 0, 0, 0, 0, 0, 1, 0, 1, 1,\n",
       "       0, 0, 1, 0, 0, 1, 0, 0, 1, 0, 1, 0, 0, 0, 0, 1, 0, 0, 1, 0, 1, 0,\n",
       "       1, 0, 1, 0, 1, 1, 0, 1, 0, 0, 0, 1, 0, 0, 1, 0, 0, 0, 1, 1, 1, 1,\n",
       "       0, 0, 0, 0, 1, 0, 1, 0, 1, 0, 1, 0, 0, 0, 0, 0, 1, 0, 0, 0, 1, 1,\n",
       "       0, 0, 0, 0, 0, 0, 0, 0, 1, 1, 0, 1, 0, 0, 0, 0, 0, 0, 1, 1, 1, 0,\n",
       "       0, 0, 0, 0, 0, 1, 0, 0, 0, 0, 1, 0, 0, 0, 0, 0, 0, 0, 1, 1, 0, 1,\n",
       "       0, 0, 0, 0, 0, 1, 1, 1, 0, 0, 0, 0, 0, 0, 0, 1, 1, 0, 1, 0, 0, 0,\n",
       "       1, 0, 0, 1, 0, 0, 0, 0, 0, 0, 0, 0, 0, 1, 0, 1, 0, 1, 0, 1, 1, 0,\n",
       "       0, 0, 1, 0, 1, 0, 0, 1, 0, 1, 1, 0, 1, 0, 0, 0, 1, 0, 0, 1, 0, 0,\n",
       "       1, 1, 0, 0, 0, 0, 0, 0, 0, 0, 0, 1, 0, 0, 0, 0, 0, 1, 0, 0, 0, 1,\n",
       "       0, 1, 0, 0, 1, 0, 1, 0, 0, 0, 0, 0, 1, 1, 1, 1, 1, 0, 1, 0, 0, 0])"
      ]
     },
     "execution_count": 49,
     "metadata": {},
     "output_type": "execute_result"
    }
   ],
   "source": [
    "result = mode_result[0].flatten()\n",
    "result"
   ]
  },
  {
   "cell_type": "code",
   "execution_count": 50,
   "id": "e58fd5c9",
   "metadata": {
    "execution": {
     "iopub.execute_input": "2022-07-08T14:02:35.652372Z",
     "iopub.status.busy": "2022-07-08T14:02:35.651968Z",
     "iopub.status.idle": "2022-07-08T14:02:35.675475Z",
     "shell.execute_reply": "2022-07-08T14:02:35.674680Z"
    },
    "papermill": {
     "duration": 0.048384,
     "end_time": "2022-07-08T14:02:35.677570",
     "exception": false,
     "start_time": "2022-07-08T14:02:35.629186",
     "status": "completed"
    },
    "tags": []
   },
   "outputs": [
    {
     "name": "stdout",
     "output_type": "stream",
     "text": [
      "\n",
      "Submit Message: xgb1_cv0.827129_seed42_k10_n100\n",
      "\n"
     ]
    },
    {
     "data": {
      "text/html": [
       "<div>\n",
       "<style scoped>\n",
       "    .dataframe tbody tr th:only-of-type {\n",
       "        vertical-align: middle;\n",
       "    }\n",
       "\n",
       "    .dataframe tbody tr th {\n",
       "        vertical-align: top;\n",
       "    }\n",
       "\n",
       "    .dataframe thead th {\n",
       "        text-align: right;\n",
       "    }\n",
       "</style>\n",
       "<table border=\"1\" class=\"dataframe\">\n",
       "  <thead>\n",
       "    <tr style=\"text-align: right;\">\n",
       "      <th></th>\n",
       "      <th>PassengerId</th>\n",
       "      <th>Survived</th>\n",
       "    </tr>\n",
       "  </thead>\n",
       "  <tbody>\n",
       "    <tr>\n",
       "      <th>0</th>\n",
       "      <td>892</td>\n",
       "      <td>0</td>\n",
       "    </tr>\n",
       "    <tr>\n",
       "      <th>1</th>\n",
       "      <td>893</td>\n",
       "      <td>0</td>\n",
       "    </tr>\n",
       "    <tr>\n",
       "      <th>2</th>\n",
       "      <td>894</td>\n",
       "      <td>0</td>\n",
       "    </tr>\n",
       "    <tr>\n",
       "      <th>3</th>\n",
       "      <td>895</td>\n",
       "      <td>0</td>\n",
       "    </tr>\n",
       "    <tr>\n",
       "      <th>4</th>\n",
       "      <td>896</td>\n",
       "      <td>0</td>\n",
       "    </tr>\n",
       "    <tr>\n",
       "      <th>5</th>\n",
       "      <td>897</td>\n",
       "      <td>0</td>\n",
       "    </tr>\n",
       "    <tr>\n",
       "      <th>6</th>\n",
       "      <td>898</td>\n",
       "      <td>1</td>\n",
       "    </tr>\n",
       "    <tr>\n",
       "      <th>7</th>\n",
       "      <td>899</td>\n",
       "      <td>0</td>\n",
       "    </tr>\n",
       "    <tr>\n",
       "      <th>8</th>\n",
       "      <td>900</td>\n",
       "      <td>1</td>\n",
       "    </tr>\n",
       "    <tr>\n",
       "      <th>9</th>\n",
       "      <td>901</td>\n",
       "      <td>0</td>\n",
       "    </tr>\n",
       "  </tbody>\n",
       "</table>\n",
       "</div>"
      ],
      "text/plain": [
       "   PassengerId  Survived\n",
       "0          892         0\n",
       "1          893         0\n",
       "2          894         0\n",
       "3          895         0\n",
       "4          896         0\n",
       "5          897         0\n",
       "6          898         1\n",
       "7          899         0\n",
       "8          900         1\n",
       "9          901         0"
      ]
     },
     "execution_count": 50,
     "metadata": {},
     "output_type": "execute_result"
    }
   ],
   "source": [
    "message = f\"{Config.model_name}_cv{cv_score:0.6f}_seed{Config.seed}_k{Config.N_FOLDS}_n{Config.N_ESTIMATORS}\"\n",
    "print(f\"\\nSubmit Message: {message}\\n\")\n",
    "\n",
    "submission_df[TARGET] = result  # .astype(\"bool\")\n",
    "\n",
    "submission_df.to_csv(\n",
    "    f\"results/test_preds_cv:{cv_score:0.6f}_s:{Config.seed}_k:{Config.N_FOLDS}_{Config.model_name}.csv\",\n",
    "    index=False,\n",
    ")\n",
    "submission_df.to_csv(\"submission.csv\", index=False)\n",
    "submission_df.head(10)"
   ]
  }
 ],
 "metadata": {
  "kernelspec": {
   "display_name": "Python 3",
   "language": "python",
   "name": "python3"
  },
  "language_info": {
   "codemirror_mode": {
    "name": "ipython",
    "version": 3
   },
   "file_extension": ".py",
   "mimetype": "text/x-python",
   "name": "python",
   "nbconvert_exporter": "python",
   "pygments_lexer": "ipython3",
   "version": "3.7.12"
  },
  "papermill": {
   "default_parameters": {},
   "duration": 86.685975,
   "end_time": "2022-07-08T14:02:38.842114",
   "environment_variables": {},
   "exception": null,
   "input_path": "__notebook__.ipynb",
   "output_path": "__notebook__.ipynb",
   "parameters": {},
   "start_time": "2022-07-08T14:01:12.156139",
   "version": "2.3.4"
  }
 },
 "nbformat": 4,
 "nbformat_minor": 5
}
