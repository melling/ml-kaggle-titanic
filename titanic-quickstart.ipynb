{
 "cells": [
  {
   "cell_type": "markdown",
   "id": "5d80cdba",
   "metadata": {
    "papermill": {
     "duration": 0.008431,
     "end_time": "2022-07-01T12:24:11.595063",
     "exception": false,
     "start_time": "2022-07-01T12:24:11.586632",
     "status": "completed"
    },
    "tags": []
   },
   "source": [
    "<div style=\"background-color:rgba(128, 0, 128, 0.6);border-radius:5px;display:fill\"><h1 style=\"text-align: center;padding: 12px 0px 12px 0px;\">Titanic: Learn Classification</h1>\n",
    "</div>\n",
    "\n",
    "This a small tutorial targeted at the complete beginner.  It's no substitue for a good book on Machine Learning.  In fact, I highly recommend this book: \n",
    "\n",
    "[Hands on Machine Learning](https://www.oreilly.com/library/view/hands-on-machine-learning/9781492032632/) (HOML)\n",
    "\n",
    "My main goal here is to get the beginner started on Kaggle, where there's no limit to learning ML. "
   ]
  },
  {
   "cell_type": "markdown",
   "id": "8f4a273a",
   "metadata": {
    "papermill": {
     "duration": 0.006669,
     "end_time": "2022-07-01T12:24:11.608921",
     "exception": false,
     "start_time": "2022-07-01T12:24:11.602252",
     "status": "completed"
    },
    "tags": []
   },
   "source": [
    "<div style=\"background-color:rgba(128, 0, 128, 0.6);border-radius:5px;display:fill\"><h1 style=\"text-align: center;padding: 12px 0px 12px 0px;\">Import Libraries</h1>\n",
    "</div>\n",
    "\n",
    "A best practise is to include all libraries here.  However, I will put a few imports farther down where they are first used so beginners can learn with an \"as needed\" approach."
   ]
  },
  {
   "cell_type": "code",
   "execution_count": 1,
   "id": "82095c5a",
   "metadata": {
    "execution": {
     "iopub.execute_input": "2022-07-01T12:24:11.625017Z",
     "iopub.status.busy": "2022-07-01T12:24:11.624233Z",
     "iopub.status.idle": "2022-07-01T12:24:11.636548Z",
     "shell.execute_reply": "2022-07-01T12:24:11.635674Z"
    },
    "papermill": {
     "duration": 0.023048,
     "end_time": "2022-07-01T12:24:11.638902",
     "exception": false,
     "start_time": "2022-07-01T12:24:11.615854",
     "status": "completed"
    },
    "tags": []
   },
   "outputs": [],
   "source": [
    "import numpy as np # linear algebra\n",
    "import pandas as pd # data processing, CSV file I/O (e.g. pd.read_csv)\n",
    "\n",
    "from pathlib import Path"
   ]
  },
  {
   "cell_type": "markdown",
   "id": "b4681801",
   "metadata": {
    "papermill": {
     "duration": 0.006834,
     "end_time": "2022-07-01T12:24:11.652886",
     "exception": false,
     "start_time": "2022-07-01T12:24:11.646052",
     "status": "completed"
    },
    "tags": []
   },
   "source": [
    "<div style=\"background-color:rgba(128, 0, 128, 0.6);border-radius:5px;display:fill\"><h1 style=\"text-align: center;padding: 12px 0px 12px 0px;\">Load Train/Test Data</h1>\n",
    "</div>\n",
    "\n",
    "- train.csv - Data used to build our machine learning model\n",
    "- test.csv - Data used to build our machine learning model. Does not contain the target variable\n",
    "- gender_submission.csv - A file in the proper format to submit test predictions"
   ]
  },
  {
   "cell_type": "code",
   "execution_count": 2,
   "id": "92c57ee2",
   "metadata": {
    "execution": {
     "iopub.execute_input": "2022-07-01T12:24:11.669961Z",
     "iopub.status.busy": "2022-07-01T12:24:11.668924Z",
     "iopub.status.idle": "2022-07-01T12:24:11.707415Z",
     "shell.execute_reply": "2022-07-01T12:24:11.706593Z"
    },
    "papermill": {
     "duration": 0.049996,
     "end_time": "2022-07-01T12:24:11.710508",
     "exception": false,
     "start_time": "2022-07-01T12:24:11.660512",
     "status": "completed"
    },
    "tags": []
   },
   "outputs": [
    {
     "name": "stdout",
     "output_type": "stream",
     "text": [
      "train data: Rows=891, Columns=12\n",
      "test data : Rows=418, Columns=11\n"
     ]
    }
   ],
   "source": [
    "data_dir = Path(\"../input/titanic\")\n",
    "\n",
    "train = pd.read_csv(data_dir / \"train.csv\")\n",
    "test = pd.read_csv(data_dir / \"test.csv\")\n",
    "sample_submission = pd.read_csv(data_dir / \"gender_submission.csv\")\n",
    "\n",
    "print(f\"train data: Rows={train.shape[0]}, Columns={train.shape[1]}\")\n",
    "print(f\"test data : Rows={test.shape[0]}, Columns={test.shape[1]}\")"
   ]
  },
  {
   "cell_type": "code",
   "execution_count": 3,
   "id": "df3e1cf0",
   "metadata": {
    "execution": {
     "iopub.execute_input": "2022-07-01T12:24:11.727923Z",
     "iopub.status.busy": "2022-07-01T12:24:11.727227Z",
     "iopub.status.idle": "2022-07-01T12:24:11.752272Z",
     "shell.execute_reply": "2022-07-01T12:24:11.751084Z"
    },
    "papermill": {
     "duration": 0.036293,
     "end_time": "2022-07-01T12:24:11.754924",
     "exception": false,
     "start_time": "2022-07-01T12:24:11.718631",
     "status": "completed"
    },
    "tags": []
   },
   "outputs": [
    {
     "data": {
      "text/html": [
       "<div>\n",
       "<style scoped>\n",
       "    .dataframe tbody tr th:only-of-type {\n",
       "        vertical-align: middle;\n",
       "    }\n",
       "\n",
       "    .dataframe tbody tr th {\n",
       "        vertical-align: top;\n",
       "    }\n",
       "\n",
       "    .dataframe thead th {\n",
       "        text-align: right;\n",
       "    }\n",
       "</style>\n",
       "<table border=\"1\" class=\"dataframe\">\n",
       "  <thead>\n",
       "    <tr style=\"text-align: right;\">\n",
       "      <th></th>\n",
       "      <th>PassengerId</th>\n",
       "      <th>Survived</th>\n",
       "      <th>Pclass</th>\n",
       "      <th>Name</th>\n",
       "      <th>Sex</th>\n",
       "      <th>Age</th>\n",
       "      <th>SibSp</th>\n",
       "      <th>Parch</th>\n",
       "      <th>Ticket</th>\n",
       "      <th>Fare</th>\n",
       "      <th>Cabin</th>\n",
       "      <th>Embarked</th>\n",
       "    </tr>\n",
       "  </thead>\n",
       "  <tbody>\n",
       "    <tr>\n",
       "      <th>0</th>\n",
       "      <td>1</td>\n",
       "      <td>0</td>\n",
       "      <td>3</td>\n",
       "      <td>Braund, Mr. Owen Harris</td>\n",
       "      <td>male</td>\n",
       "      <td>22.0</td>\n",
       "      <td>1</td>\n",
       "      <td>0</td>\n",
       "      <td>A/5 21171</td>\n",
       "      <td>7.2500</td>\n",
       "      <td>NaN</td>\n",
       "      <td>S</td>\n",
       "    </tr>\n",
       "    <tr>\n",
       "      <th>1</th>\n",
       "      <td>2</td>\n",
       "      <td>1</td>\n",
       "      <td>1</td>\n",
       "      <td>Cumings, Mrs. John Bradley (Florence Briggs Th...</td>\n",
       "      <td>female</td>\n",
       "      <td>38.0</td>\n",
       "      <td>1</td>\n",
       "      <td>0</td>\n",
       "      <td>PC 17599</td>\n",
       "      <td>71.2833</td>\n",
       "      <td>C85</td>\n",
       "      <td>C</td>\n",
       "    </tr>\n",
       "    <tr>\n",
       "      <th>2</th>\n",
       "      <td>3</td>\n",
       "      <td>1</td>\n",
       "      <td>3</td>\n",
       "      <td>Heikkinen, Miss. Laina</td>\n",
       "      <td>female</td>\n",
       "      <td>26.0</td>\n",
       "      <td>0</td>\n",
       "      <td>0</td>\n",
       "      <td>STON/O2. 3101282</td>\n",
       "      <td>7.9250</td>\n",
       "      <td>NaN</td>\n",
       "      <td>S</td>\n",
       "    </tr>\n",
       "    <tr>\n",
       "      <th>3</th>\n",
       "      <td>4</td>\n",
       "      <td>1</td>\n",
       "      <td>1</td>\n",
       "      <td>Futrelle, Mrs. Jacques Heath (Lily May Peel)</td>\n",
       "      <td>female</td>\n",
       "      <td>35.0</td>\n",
       "      <td>1</td>\n",
       "      <td>0</td>\n",
       "      <td>113803</td>\n",
       "      <td>53.1000</td>\n",
       "      <td>C123</td>\n",
       "      <td>S</td>\n",
       "    </tr>\n",
       "    <tr>\n",
       "      <th>4</th>\n",
       "      <td>5</td>\n",
       "      <td>0</td>\n",
       "      <td>3</td>\n",
       "      <td>Allen, Mr. William Henry</td>\n",
       "      <td>male</td>\n",
       "      <td>35.0</td>\n",
       "      <td>0</td>\n",
       "      <td>0</td>\n",
       "      <td>373450</td>\n",
       "      <td>8.0500</td>\n",
       "      <td>NaN</td>\n",
       "      <td>S</td>\n",
       "    </tr>\n",
       "  </tbody>\n",
       "</table>\n",
       "</div>"
      ],
      "text/plain": [
       "   PassengerId  Survived  Pclass  \\\n",
       "0            1         0       3   \n",
       "1            2         1       1   \n",
       "2            3         1       3   \n",
       "3            4         1       1   \n",
       "4            5         0       3   \n",
       "\n",
       "                                                Name     Sex   Age  SibSp  \\\n",
       "0                            Braund, Mr. Owen Harris    male  22.0      1   \n",
       "1  Cumings, Mrs. John Bradley (Florence Briggs Th...  female  38.0      1   \n",
       "2                             Heikkinen, Miss. Laina  female  26.0      0   \n",
       "3       Futrelle, Mrs. Jacques Heath (Lily May Peel)  female  35.0      1   \n",
       "4                           Allen, Mr. William Henry    male  35.0      0   \n",
       "\n",
       "   Parch            Ticket     Fare Cabin Embarked  \n",
       "0      0         A/5 21171   7.2500   NaN        S  \n",
       "1      0          PC 17599  71.2833   C85        C  \n",
       "2      0  STON/O2. 3101282   7.9250   NaN        S  \n",
       "3      0            113803  53.1000  C123        S  \n",
       "4      0            373450   8.0500   NaN        S  "
      ]
     },
     "execution_count": 3,
     "metadata": {},
     "output_type": "execute_result"
    }
   ],
   "source": [
    "train.head()"
   ]
  },
  {
   "cell_type": "markdown",
   "id": "08b384b5",
   "metadata": {
    "papermill": {
     "duration": 0.007045,
     "end_time": "2022-07-01T12:24:11.769610",
     "exception": false,
     "start_time": "2022-07-01T12:24:11.762565",
     "status": "completed"
    },
    "tags": []
   },
   "source": [
    "In supervised learning problems, we have a label or target."
   ]
  },
  {
   "cell_type": "code",
   "execution_count": 4,
   "id": "d10abc22",
   "metadata": {
    "execution": {
     "iopub.execute_input": "2022-07-01T12:24:11.786146Z",
     "iopub.status.busy": "2022-07-01T12:24:11.785701Z",
     "iopub.status.idle": "2022-07-01T12:24:11.790613Z",
     "shell.execute_reply": "2022-07-01T12:24:11.789397Z"
    },
    "papermill": {
     "duration": 0.015914,
     "end_time": "2022-07-01T12:24:11.792916",
     "exception": false,
     "start_time": "2022-07-01T12:24:11.777002",
     "status": "completed"
    },
    "tags": []
   },
   "outputs": [],
   "source": [
    "TARGET = \"Survived\""
   ]
  },
  {
   "cell_type": "markdown",
   "id": "9faaa9ca",
   "metadata": {
    "papermill": {
     "duration": 0.007427,
     "end_time": "2022-07-01T12:24:11.807862",
     "exception": false,
     "start_time": "2022-07-01T12:24:11.800435",
     "status": "completed"
    },
    "tags": []
   },
   "source": [
    "There are many features but to keep it simple we are only going to start with one."
   ]
  },
  {
   "cell_type": "code",
   "execution_count": 5,
   "id": "6117b6ea",
   "metadata": {
    "execution": {
     "iopub.execute_input": "2022-07-01T12:24:11.824511Z",
     "iopub.status.busy": "2022-07-01T12:24:11.824108Z",
     "iopub.status.idle": "2022-07-01T12:24:11.829386Z",
     "shell.execute_reply": "2022-07-01T12:24:11.828063Z"
    },
    "papermill": {
     "duration": 0.016716,
     "end_time": "2022-07-01T12:24:11.832012",
     "exception": false,
     "start_time": "2022-07-01T12:24:11.815296",
     "status": "completed"
    },
    "tags": []
   },
   "outputs": [],
   "source": [
    "FEATURES = [\"Sex\"] # A not so random feature to start with"
   ]
  },
  {
   "cell_type": "code",
   "execution_count": 6,
   "id": "71521088",
   "metadata": {
    "execution": {
     "iopub.execute_input": "2022-07-01T12:24:11.849839Z",
     "iopub.status.busy": "2022-07-01T12:24:11.849422Z",
     "iopub.status.idle": "2022-07-01T12:24:11.864075Z",
     "shell.execute_reply": "2022-07-01T12:24:11.862927Z"
    },
    "papermill": {
     "duration": 0.026621,
     "end_time": "2022-07-01T12:24:11.866628",
     "exception": false,
     "start_time": "2022-07-01T12:24:11.840007",
     "status": "completed"
    },
    "tags": []
   },
   "outputs": [],
   "source": [
    "y = train[TARGET]\n",
    "X = train[FEATURES].copy()\n",
    "\n",
    "X_test = test[FEATURES].copy()"
   ]
  },
  {
   "cell_type": "code",
   "execution_count": 7,
   "id": "6a0a1c8a",
   "metadata": {
    "execution": {
     "iopub.execute_input": "2022-07-01T12:24:11.883294Z",
     "iopub.status.busy": "2022-07-01T12:24:11.882740Z",
     "iopub.status.idle": "2022-07-01T12:24:11.893040Z",
     "shell.execute_reply": "2022-07-01T12:24:11.891866Z"
    },
    "papermill": {
     "duration": 0.021331,
     "end_time": "2022-07-01T12:24:11.895475",
     "exception": false,
     "start_time": "2022-07-01T12:24:11.874144",
     "status": "completed"
    },
    "tags": []
   },
   "outputs": [
    {
     "data": {
      "text/html": [
       "<div>\n",
       "<style scoped>\n",
       "    .dataframe tbody tr th:only-of-type {\n",
       "        vertical-align: middle;\n",
       "    }\n",
       "\n",
       "    .dataframe tbody tr th {\n",
       "        vertical-align: top;\n",
       "    }\n",
       "\n",
       "    .dataframe thead th {\n",
       "        text-align: right;\n",
       "    }\n",
       "</style>\n",
       "<table border=\"1\" class=\"dataframe\">\n",
       "  <thead>\n",
       "    <tr style=\"text-align: right;\">\n",
       "      <th></th>\n",
       "      <th>Sex</th>\n",
       "    </tr>\n",
       "  </thead>\n",
       "  <tbody>\n",
       "    <tr>\n",
       "      <th>0</th>\n",
       "      <td>male</td>\n",
       "    </tr>\n",
       "    <tr>\n",
       "      <th>1</th>\n",
       "      <td>female</td>\n",
       "    </tr>\n",
       "    <tr>\n",
       "      <th>2</th>\n",
       "      <td>female</td>\n",
       "    </tr>\n",
       "    <tr>\n",
       "      <th>3</th>\n",
       "      <td>female</td>\n",
       "    </tr>\n",
       "    <tr>\n",
       "      <th>4</th>\n",
       "      <td>male</td>\n",
       "    </tr>\n",
       "  </tbody>\n",
       "</table>\n",
       "</div>"
      ],
      "text/plain": [
       "      Sex\n",
       "0    male\n",
       "1  female\n",
       "2  female\n",
       "3  female\n",
       "4    male"
      ]
     },
     "execution_count": 7,
     "metadata": {},
     "output_type": "execute_result"
    }
   ],
   "source": [
    "X.head()"
   ]
  },
  {
   "cell_type": "code",
   "execution_count": 8,
   "id": "acc4e49f",
   "metadata": {
    "execution": {
     "iopub.execute_input": "2022-07-01T12:24:11.913455Z",
     "iopub.status.busy": "2022-07-01T12:24:11.912983Z",
     "iopub.status.idle": "2022-07-01T12:24:11.923171Z",
     "shell.execute_reply": "2022-07-01T12:24:11.922289Z"
    },
    "papermill": {
     "duration": 0.021483,
     "end_time": "2022-07-01T12:24:11.925173",
     "exception": false,
     "start_time": "2022-07-01T12:24:11.903690",
     "status": "completed"
    },
    "tags": []
   },
   "outputs": [],
   "source": [
    "replacement_dict = {\"female\": 0, \"male\": 1}\n",
    "\n",
    "X[\"Sex\"] = X[\"Sex\"].map(replacement_dict)\n",
    "X_test[\"Sex\"] = X_test[\"Sex\"].map(replacement_dict)"
   ]
  },
  {
   "cell_type": "markdown",
   "id": "074858d2",
   "metadata": {
    "papermill": {
     "duration": 0.007372,
     "end_time": "2022-07-01T12:24:11.940401",
     "exception": false,
     "start_time": "2022-07-01T12:24:11.933029",
     "status": "completed"
    },
    "tags": []
   },
   "source": [
    "<div style=\"background-color:rgba(128, 0, 128, 0.6);border-radius:5px;display:fill\"><h1 style=\"text-align: center;padding: 12px 0px 12px 0px;\">Train Model with Train/Test Split</h1>\n",
    "</div>\n",
    "\n",
    "We split the training data so we can evaluate how well each model performs  We are saving 20% of the training data to validate the model(s)."
   ]
  },
  {
   "cell_type": "code",
   "execution_count": 9,
   "id": "9f1910a2",
   "metadata": {
    "execution": {
     "iopub.execute_input": "2022-07-01T12:24:11.957917Z",
     "iopub.status.busy": "2022-07-01T12:24:11.957508Z",
     "iopub.status.idle": "2022-07-01T12:24:13.243436Z",
     "shell.execute_reply": "2022-07-01T12:24:13.242191Z"
    },
    "papermill": {
     "duration": 1.29823,
     "end_time": "2022-07-01T12:24:13.246530",
     "exception": false,
     "start_time": "2022-07-01T12:24:11.948300",
     "status": "completed"
    },
    "tags": []
   },
   "outputs": [
    {
     "data": {
      "text/plain": [
       "((712, 1), (712,), (179, 1), (179,))"
      ]
     },
     "execution_count": 9,
     "metadata": {},
     "output_type": "execute_result"
    }
   ],
   "source": [
    "from sklearn.model_selection import train_test_split\n",
    "\n",
    "X_train, X_valid, y_train, y_valid = train_test_split(\n",
    "    X,\n",
    "    y,\n",
    "    test_size=0.2,    # Save 20% for validation\n",
    "    random_state=42,  # Make the split deterministic\n",
    ")\n",
    "X_train.shape, y_train.shape, X_valid.shape, y_valid.shape"
   ]
  },
  {
   "cell_type": "markdown",
   "id": "eb09a27f",
   "metadata": {
    "papermill": {
     "duration": 0.007399,
     "end_time": "2022-07-01T12:24:13.262205",
     "exception": false,
     "start_time": "2022-07-01T12:24:13.254806",
     "status": "completed"
    },
    "tags": []
   },
   "source": [
    "# Create a Model"
   ]
  },
  {
   "cell_type": "code",
   "execution_count": 10,
   "id": "735d490c",
   "metadata": {
    "execution": {
     "iopub.execute_input": "2022-07-01T12:24:13.279214Z",
     "iopub.status.busy": "2022-07-01T12:24:13.278813Z",
     "iopub.status.idle": "2022-07-01T12:24:13.376317Z",
     "shell.execute_reply": "2022-07-01T12:24:13.374948Z"
    },
    "papermill": {
     "duration": 0.109472,
     "end_time": "2022-07-01T12:24:13.379286",
     "exception": false,
     "start_time": "2022-07-01T12:24:13.269814",
     "status": "completed"
    },
    "tags": []
   },
   "outputs": [],
   "source": [
    "from sklearn.linear_model import LogisticRegression\n",
    "\n",
    "model = LogisticRegression()"
   ]
  },
  {
   "cell_type": "markdown",
   "id": "ef5e412f",
   "metadata": {
    "papermill": {
     "duration": 0.007851,
     "end_time": "2022-07-01T12:24:13.395730",
     "exception": false,
     "start_time": "2022-07-01T12:24:13.387879",
     "status": "completed"
    },
    "tags": []
   },
   "source": [
    "## Fit/Train the model"
   ]
  },
  {
   "cell_type": "code",
   "execution_count": 11,
   "id": "c6a0d2b9",
   "metadata": {
    "execution": {
     "iopub.execute_input": "2022-07-01T12:24:13.414642Z",
     "iopub.status.busy": "2022-07-01T12:24:13.414246Z",
     "iopub.status.idle": "2022-07-01T12:24:13.434933Z",
     "shell.execute_reply": "2022-07-01T12:24:13.434137Z"
    },
    "papermill": {
     "duration": 0.032813,
     "end_time": "2022-07-01T12:24:13.437237",
     "exception": false,
     "start_time": "2022-07-01T12:24:13.404424",
     "status": "completed"
    },
    "tags": []
   },
   "outputs": [
    {
     "data": {
      "text/plain": [
       "LogisticRegression()"
      ]
     },
     "execution_count": 11,
     "metadata": {},
     "output_type": "execute_result"
    }
   ],
   "source": [
    "model.fit(X_train,y_train)"
   ]
  },
  {
   "cell_type": "markdown",
   "id": "f915b713",
   "metadata": {
    "papermill": {
     "duration": 0.007722,
     "end_time": "2022-07-01T12:24:13.452913",
     "exception": false,
     "start_time": "2022-07-01T12:24:13.445191",
     "status": "completed"
    },
    "tags": []
   },
   "source": [
    "## Use the Trained Model to Predict the Validation Data"
   ]
  },
  {
   "cell_type": "code",
   "execution_count": 12,
   "id": "6fb3b020",
   "metadata": {
    "execution": {
     "iopub.execute_input": "2022-07-01T12:24:13.471477Z",
     "iopub.status.busy": "2022-07-01T12:24:13.471042Z",
     "iopub.status.idle": "2022-07-01T12:24:13.478076Z",
     "shell.execute_reply": "2022-07-01T12:24:13.476922Z"
    },
    "papermill": {
     "duration": 0.019236,
     "end_time": "2022-07-01T12:24:13.480700",
     "exception": false,
     "start_time": "2022-07-01T12:24:13.461464",
     "status": "completed"
    },
    "tags": []
   },
   "outputs": [],
   "source": [
    "yhat = model.predict(X_valid)"
   ]
  },
  {
   "cell_type": "markdown",
   "id": "f05a899d",
   "metadata": {
    "papermill": {
     "duration": 0.007909,
     "end_time": "2022-07-01T12:24:13.496567",
     "exception": false,
     "start_time": "2022-07-01T12:24:13.488658",
     "status": "completed"
    },
    "tags": []
   },
   "source": [
    "<div style=\"background-color:rgba(128, 0, 128, 0.6);border-radius:5px;display:fill\"><h1 style=\"text-align: center;padding: 12px 0px 12px 0px;\">Score the Model</h1>\n",
    "</div>\n",
    "\n",
    "We get a score by evaluating our model on the validation data.\n"
   ]
  },
  {
   "cell_type": "code",
   "execution_count": 13,
   "id": "451c89d1",
   "metadata": {
    "execution": {
     "iopub.execute_input": "2022-07-01T12:24:13.515303Z",
     "iopub.status.busy": "2022-07-01T12:24:13.514680Z",
     "iopub.status.idle": "2022-07-01T12:24:13.522441Z",
     "shell.execute_reply": "2022-07-01T12:24:13.521384Z"
    },
    "papermill": {
     "duration": 0.020003,
     "end_time": "2022-07-01T12:24:13.524771",
     "exception": false,
     "start_time": "2022-07-01T12:24:13.504768",
     "status": "completed"
    },
    "tags": []
   },
   "outputs": [
    {
     "name": "stdout",
     "output_type": "stream",
     "text": [
      "Score: 0.7821\n"
     ]
    }
   ],
   "source": [
    "from sklearn.metrics import accuracy_score\n",
    "\n",
    "score = accuracy_score(y_valid, yhat)\n",
    "print(f\"Score: {score:.4f}\")"
   ]
  },
  {
   "cell_type": "markdown",
   "id": "4a4e27b7",
   "metadata": {
    "papermill": {
     "duration": 0.007574,
     "end_time": "2022-07-01T12:24:13.540532",
     "exception": false,
     "start_time": "2022-07-01T12:24:13.532958",
     "status": "completed"
    },
    "tags": []
   },
   "source": [
    "## Predict the Test Data"
   ]
  },
  {
   "cell_type": "code",
   "execution_count": 14,
   "id": "d0ea23ed",
   "metadata": {
    "execution": {
     "iopub.execute_input": "2022-07-01T12:24:13.558970Z",
     "iopub.status.busy": "2022-07-01T12:24:13.558260Z",
     "iopub.status.idle": "2022-07-01T12:24:13.564229Z",
     "shell.execute_reply": "2022-07-01T12:24:13.563354Z"
    },
    "papermill": {
     "duration": 0.017739,
     "end_time": "2022-07-01T12:24:13.566628",
     "exception": false,
     "start_time": "2022-07-01T12:24:13.548889",
     "status": "completed"
    },
    "tags": []
   },
   "outputs": [],
   "source": [
    "preds = model.predict(X_test)"
   ]
  },
  {
   "cell_type": "code",
   "execution_count": 15,
   "id": "f256bfcb",
   "metadata": {
    "execution": {
     "iopub.execute_input": "2022-07-01T12:24:13.585267Z",
     "iopub.status.busy": "2022-07-01T12:24:13.584532Z",
     "iopub.status.idle": "2022-07-01T12:24:13.591411Z",
     "shell.execute_reply": "2022-07-01T12:24:13.590086Z"
    },
    "papermill": {
     "duration": 0.019371,
     "end_time": "2022-07-01T12:24:13.594161",
     "exception": false,
     "start_time": "2022-07-01T12:24:13.574790",
     "status": "completed"
    },
    "tags": []
   },
   "outputs": [
    {
     "data": {
      "text/plain": [
       "array([0, 1, 0, 0, 1])"
      ]
     },
     "execution_count": 15,
     "metadata": {},
     "output_type": "execute_result"
    }
   ],
   "source": [
    "preds[:5]"
   ]
  },
  {
   "cell_type": "markdown",
   "id": "3d3b0731",
   "metadata": {
    "papermill": {
     "duration": 0.007897,
     "end_time": "2022-07-01T12:24:13.610492",
     "exception": false,
     "start_time": "2022-07-01T12:24:13.602595",
     "status": "completed"
    },
    "tags": []
   },
   "source": [
    "<div style=\"background-color:rgba(128, 0, 128, 0.6);border-radius:5px;display:fill\"><h1 style=\"text-align: center;padding: 12px 0px 12px 0px;\">Submission File</h1>\n",
    "</div>\n",
    "\n",
    "The sample file and our data is in the same row order.  This allows us to simply assign our prediction to the target column (`Survived`) in the sample submission."
   ]
  },
  {
   "cell_type": "code",
   "execution_count": 16,
   "id": "5226463f",
   "metadata": {
    "execution": {
     "iopub.execute_input": "2022-07-01T12:24:13.629246Z",
     "iopub.status.busy": "2022-07-01T12:24:13.628811Z",
     "iopub.status.idle": "2022-07-01T12:24:13.645769Z",
     "shell.execute_reply": "2022-07-01T12:24:13.644653Z"
    },
    "papermill": {
     "duration": 0.028922,
     "end_time": "2022-07-01T12:24:13.648213",
     "exception": false,
     "start_time": "2022-07-01T12:24:13.619291",
     "status": "completed"
    },
    "tags": []
   },
   "outputs": [
    {
     "data": {
      "text/html": [
       "<div>\n",
       "<style scoped>\n",
       "    .dataframe tbody tr th:only-of-type {\n",
       "        vertical-align: middle;\n",
       "    }\n",
       "\n",
       "    .dataframe tbody tr th {\n",
       "        vertical-align: top;\n",
       "    }\n",
       "\n",
       "    .dataframe thead th {\n",
       "        text-align: right;\n",
       "    }\n",
       "</style>\n",
       "<table border=\"1\" class=\"dataframe\">\n",
       "  <thead>\n",
       "    <tr style=\"text-align: right;\">\n",
       "      <th></th>\n",
       "      <th>PassengerId</th>\n",
       "      <th>Survived</th>\n",
       "    </tr>\n",
       "  </thead>\n",
       "  <tbody>\n",
       "    <tr>\n",
       "      <th>0</th>\n",
       "      <td>892</td>\n",
       "      <td>0</td>\n",
       "    </tr>\n",
       "    <tr>\n",
       "      <th>1</th>\n",
       "      <td>893</td>\n",
       "      <td>1</td>\n",
       "    </tr>\n",
       "    <tr>\n",
       "      <th>2</th>\n",
       "      <td>894</td>\n",
       "      <td>0</td>\n",
       "    </tr>\n",
       "    <tr>\n",
       "      <th>3</th>\n",
       "      <td>895</td>\n",
       "      <td>0</td>\n",
       "    </tr>\n",
       "    <tr>\n",
       "      <th>4</th>\n",
       "      <td>896</td>\n",
       "      <td>1</td>\n",
       "    </tr>\n",
       "    <tr>\n",
       "      <th>...</th>\n",
       "      <td>...</td>\n",
       "      <td>...</td>\n",
       "    </tr>\n",
       "    <tr>\n",
       "      <th>413</th>\n",
       "      <td>1305</td>\n",
       "      <td>0</td>\n",
       "    </tr>\n",
       "    <tr>\n",
       "      <th>414</th>\n",
       "      <td>1306</td>\n",
       "      <td>1</td>\n",
       "    </tr>\n",
       "    <tr>\n",
       "      <th>415</th>\n",
       "      <td>1307</td>\n",
       "      <td>0</td>\n",
       "    </tr>\n",
       "    <tr>\n",
       "      <th>416</th>\n",
       "      <td>1308</td>\n",
       "      <td>0</td>\n",
       "    </tr>\n",
       "    <tr>\n",
       "      <th>417</th>\n",
       "      <td>1309</td>\n",
       "      <td>0</td>\n",
       "    </tr>\n",
       "  </tbody>\n",
       "</table>\n",
       "<p>418 rows × 2 columns</p>\n",
       "</div>"
      ],
      "text/plain": [
       "     PassengerId  Survived\n",
       "0            892         0\n",
       "1            893         1\n",
       "2            894         0\n",
       "3            895         0\n",
       "4            896         1\n",
       "..           ...       ...\n",
       "413         1305         0\n",
       "414         1306         1\n",
       "415         1307         0\n",
       "416         1308         0\n",
       "417         1309         0\n",
       "\n",
       "[418 rows x 2 columns]"
      ]
     },
     "execution_count": 16,
     "metadata": {},
     "output_type": "execute_result"
    }
   ],
   "source": [
    "sample_submission[TARGET] = preds\n",
    "sample_submission.to_csv(f\"submission.csv\", index=False)\n",
    "sample_submission"
   ]
  }
 ],
 "metadata": {
  "kernelspec": {
   "display_name": "Python 3",
   "language": "python",
   "name": "python3"
  },
  "language_info": {
   "codemirror_mode": {
    "name": "ipython",
    "version": 3
   },
   "file_extension": ".py",
   "mimetype": "text/x-python",
   "name": "python",
   "nbconvert_exporter": "python",
   "pygments_lexer": "ipython3",
   "version": "3.7.12"
  },
  "papermill": {
   "default_parameters": {},
   "duration": 13.657654,
   "end_time": "2022-07-01T12:24:14.379226",
   "environment_variables": {},
   "exception": null,
   "input_path": "__notebook__.ipynb",
   "output_path": "__notebook__.ipynb",
   "parameters": {},
   "start_time": "2022-07-01T12:24:00.721572",
   "version": "2.3.4"
  }
 },
 "nbformat": 4,
 "nbformat_minor": 5
}
