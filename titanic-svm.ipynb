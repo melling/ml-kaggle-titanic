{
 "cells": [
  {
   "cell_type": "markdown",
   "id": "dda78e79",
   "metadata": {
    "papermill": {
     "duration": 0.010378,
     "end_time": "2022-07-14T15:13:44.900406",
     "exception": false,
     "start_time": "2022-07-14T15:13:44.890028",
     "status": "completed"
    },
    "tags": []
   },
   "source": [
    "<div style=\"background-color:rgba(128, 0, 128, 0.6);border-radius:5px;display:fill\"><h1 style=\"text-align: center;padding: 12px 0px 12px 0px;\">Titanic: Support Vector Machine</h1>\n",
    "</div>"
   ]
  },
  {
   "cell_type": "code",
   "execution_count": 1,
   "id": "fd2c8901",
   "metadata": {
    "execution": {
     "iopub.execute_input": "2022-07-14T15:13:44.921151Z",
     "iopub.status.busy": "2022-07-14T15:13:44.920673Z",
     "iopub.status.idle": "2022-07-14T15:14:00.784657Z",
     "shell.execute_reply": "2022-07-14T15:14:00.783574Z"
    },
    "papermill": {
     "duration": 15.878153,
     "end_time": "2022-07-14T15:14:00.787927",
     "exception": false,
     "start_time": "2022-07-14T15:13:44.909774",
     "status": "completed"
    },
    "tags": []
   },
   "outputs": [
    {
     "name": "stdout",
     "output_type": "stream",
     "text": [
      "\u001b[33mWARNING: Running pip as the 'root' user can result in broken permissions and conflicting behaviour with the system package manager. It is recommended to use a virtual environment instead: https://pip.pypa.io/warnings/venv\u001b[0m\u001b[33m\r\n",
      "\u001b[0m"
     ]
    }
   ],
   "source": [
    "# Black formatter https://black.readthedocs.io/en/stable/\n",
    "\n",
    "! pip install nb-black > /dev/null\n",
    "\n",
    "%load_ext lab_black"
   ]
  },
  {
   "cell_type": "markdown",
   "id": "3d2a25f5",
   "metadata": {
    "papermill": {
     "duration": 0.009477,
     "end_time": "2022-07-14T15:14:00.806973",
     "exception": false,
     "start_time": "2022-07-14T15:14:00.797496",
     "status": "completed"
    },
    "tags": []
   },
   "source": [
    "<div style=\"background-color:rgba(128, 0, 128, 0.6);border-radius:5px;display:fill\"><h1 style=\"text-align: center;padding: 12px 0px 12px 0px;\">Import Libraries</h1>\n",
    "</div>\n",
    "\n",
    "A best practise is to include all libraries here.  However, I will put a few imports farther down where they are first used so beginners can learn with an \"as needed\" approach."
   ]
  },
  {
   "cell_type": "code",
   "execution_count": 2,
   "id": "a56004f3",
   "metadata": {
    "execution": {
     "iopub.execute_input": "2022-07-14T15:14:00.827865Z",
     "iopub.status.busy": "2022-07-14T15:14:00.827161Z",
     "iopub.status.idle": "2022-07-14T15:14:00.836675Z",
     "shell.execute_reply": "2022-07-14T15:14:00.835511Z"
    },
    "papermill": {
     "duration": 0.023074,
     "end_time": "2022-07-14T15:14:00.839460",
     "exception": false,
     "start_time": "2022-07-14T15:14:00.816386",
     "status": "completed"
    },
    "tags": []
   },
   "outputs": [],
   "source": [
    "import numpy as np  # linear algebra\n",
    "import pandas as pd  # data processing, CSV file I/O (e.g. pd.read_csv)\n",
    "\n",
    "from pathlib import Path\n",
    "\n",
    "pd.options.display.max_columns = 100  # Want to view all the columns"
   ]
  },
  {
   "cell_type": "markdown",
   "id": "67d116a2",
   "metadata": {
    "papermill": {
     "duration": 0.009229,
     "end_time": "2022-07-14T15:14:00.858460",
     "exception": false,
     "start_time": "2022-07-14T15:14:00.849231",
     "status": "completed"
    },
    "tags": []
   },
   "source": [
    "<div style=\"background-color:rgba(128, 0, 128, 0.6);border-radius:5px;display:fill\"><h1 style=\"text-align: center;padding: 12px 0px 12px 0px;\">Configuration</h1>\n",
    "</div>"
   ]
  },
  {
   "cell_type": "code",
   "execution_count": 3,
   "id": "698f3015",
   "metadata": {
    "execution": {
     "iopub.execute_input": "2022-07-14T15:14:00.879383Z",
     "iopub.status.busy": "2022-07-14T15:14:00.878687Z",
     "iopub.status.idle": "2022-07-14T15:14:00.885525Z",
     "shell.execute_reply": "2022-07-14T15:14:00.884652Z"
    },
    "papermill": {
     "duration": 0.019673,
     "end_time": "2022-07-14T15:14:00.887647",
     "exception": false,
     "start_time": "2022-07-14T15:14:00.867974",
     "status": "completed"
    },
    "tags": []
   },
   "outputs": [],
   "source": [
    "TARGET = \"Survived\""
   ]
  },
  {
   "cell_type": "markdown",
   "id": "a3cde900",
   "metadata": {
    "papermill": {
     "duration": 0.009997,
     "end_time": "2022-07-14T15:14:00.908401",
     "exception": false,
     "start_time": "2022-07-14T15:14:00.898404",
     "status": "completed"
    },
    "tags": []
   },
   "source": [
    "<div style=\"background-color:rgba(128, 0, 128, 0.6);border-radius:5px;display:fill\"><h1 style=\"text-align: center;padding: 12px 0px 12px 0px;\">Library</h1>\n",
    "</div>\n",
    "\n",
    "Creating a few functions that we will reuse in each project."
   ]
  },
  {
   "cell_type": "code",
   "execution_count": 4,
   "id": "d1439f36",
   "metadata": {
    "execution": {
     "iopub.execute_input": "2022-07-14T15:14:00.929612Z",
     "iopub.status.busy": "2022-07-14T15:14:00.929024Z",
     "iopub.status.idle": "2022-07-14T15:14:00.942598Z",
     "shell.execute_reply": "2022-07-14T15:14:00.941549Z"
    },
    "papermill": {
     "duration": 0.027008,
     "end_time": "2022-07-14T15:14:00.945253",
     "exception": false,
     "start_time": "2022-07-14T15:14:00.918245",
     "status": "completed"
    },
    "tags": []
   },
   "outputs": [],
   "source": [
    "def read_data(path):\n",
    "    data_dir = Path(path)\n",
    "\n",
    "    train = pd.read_csv(data_dir / \"train.csv\")\n",
    "    test = pd.read_csv(data_dir / \"test.csv\")\n",
    "    submission_df = pd.read_csv(data_dir / \"gender_submission.csv\")\n",
    "\n",
    "    print(f\"train data: Rows={train.shape[0]}, Columns={train.shape[1]}\")\n",
    "    print(f\"test data : Rows={test.shape[0]}, Columns={test.shape[1]}\")\n",
    "    return train, test, submission_df"
   ]
  },
  {
   "cell_type": "code",
   "execution_count": 5,
   "id": "bc08c9b6",
   "metadata": {
    "execution": {
     "iopub.execute_input": "2022-07-14T15:14:00.966146Z",
     "iopub.status.busy": "2022-07-14T15:14:00.965682Z",
     "iopub.status.idle": "2022-07-14T15:14:00.978009Z",
     "shell.execute_reply": "2022-07-14T15:14:00.977013Z"
    },
    "papermill": {
     "duration": 0.025917,
     "end_time": "2022-07-14T15:14:00.980509",
     "exception": false,
     "start_time": "2022-07-14T15:14:00.954592",
     "status": "completed"
    },
    "tags": []
   },
   "outputs": [],
   "source": [
    "def create_submission(model_name, target, preds):\n",
    "    sample_submission[target] = preds\n",
    "\n",
    "    if len(model_name) > 0:\n",
    "        fname = \"submission_{model_name}.csv\"\n",
    "    else:\n",
    "        fname = \"submission.csv\"\n",
    "\n",
    "    sample_submission.to_csv(fname, index=False)\n",
    "\n",
    "    return sample_submission[:5]"
   ]
  },
  {
   "cell_type": "code",
   "execution_count": 6,
   "id": "bed698ed",
   "metadata": {
    "execution": {
     "iopub.execute_input": "2022-07-14T15:14:01.001166Z",
     "iopub.status.busy": "2022-07-14T15:14:01.000563Z",
     "iopub.status.idle": "2022-07-14T15:14:02.133719Z",
     "shell.execute_reply": "2022-07-14T15:14:02.132369Z"
    },
    "papermill": {
     "duration": 1.146757,
     "end_time": "2022-07-14T15:14:02.136699",
     "exception": false,
     "start_time": "2022-07-14T15:14:00.989942",
     "status": "completed"
    },
    "tags": []
   },
   "outputs": [],
   "source": [
    "from sklearn.metrics import accuracy_score\n",
    "\n",
    "\n",
    "def show_scores(gt, yhat):\n",
    "    score = accuracy_score(gt, yhat)\n",
    "    print(f\"Accuracy: {score:.4f}\")"
   ]
  },
  {
   "cell_type": "code",
   "execution_count": 7,
   "id": "1de125ab",
   "metadata": {
    "execution": {
     "iopub.execute_input": "2022-07-14T15:14:02.158269Z",
     "iopub.status.busy": "2022-07-14T15:14:02.157855Z",
     "iopub.status.idle": "2022-07-14T15:14:02.175138Z",
     "shell.execute_reply": "2022-07-14T15:14:02.173602Z"
    },
    "papermill": {
     "duration": 0.030765,
     "end_time": "2022-07-14T15:14:02.177689",
     "exception": false,
     "start_time": "2022-07-14T15:14:02.146924",
     "status": "completed"
    },
    "tags": []
   },
   "outputs": [],
   "source": [
    "from sklearn.preprocessing import LabelEncoder\n",
    "\n",
    "\n",
    "def label_encoder(train, test, columns):\n",
    "    for col in columns:\n",
    "        train[col] = train[col].astype(str)\n",
    "        test[col] = test[col].astype(str)\n",
    "        train[col] = LabelEncoder().fit_transform(train[col])\n",
    "        test[col] = LabelEncoder().fit_transform(test[col])\n",
    "    return train, test"
   ]
  },
  {
   "cell_type": "markdown",
   "id": "756f9d1b",
   "metadata": {
    "papermill": {
     "duration": 0.009342,
     "end_time": "2022-07-14T15:14:02.196456",
     "exception": false,
     "start_time": "2022-07-14T15:14:02.187114",
     "status": "completed"
    },
    "tags": []
   },
   "source": [
    "<div style=\"background-color:rgba(128, 0, 128, 0.6);border-radius:5px;display:fill\"><h1 style=\"text-align: center;padding: 12px 0px 12px 0px;\">Load Train/Test Data</h1>\n",
    "</div>\n",
    "\n",
    "- train.csv - Data used to build our machine learning model\n",
    "- test.csv - Data used to build our machine learning model. Does not contain the target variable\n",
    "- gender_submission.csv - A file in the proper format to submit test predictions"
   ]
  },
  {
   "cell_type": "code",
   "execution_count": 8,
   "id": "e34afcc2",
   "metadata": {
    "execution": {
     "iopub.execute_input": "2022-07-14T15:14:02.217419Z",
     "iopub.status.busy": "2022-07-14T15:14:02.216936Z",
     "iopub.status.idle": "2022-07-14T15:14:02.260448Z",
     "shell.execute_reply": "2022-07-14T15:14:02.259142Z"
    },
    "papermill": {
     "duration": 0.056838,
     "end_time": "2022-07-14T15:14:02.262866",
     "exception": false,
     "start_time": "2022-07-14T15:14:02.206028",
     "status": "completed"
    },
    "tags": []
   },
   "outputs": [
    {
     "name": "stdout",
     "output_type": "stream",
     "text": [
      "train data: Rows=891, Columns=12\n",
      "test data : Rows=418, Columns=11\n"
     ]
    }
   ],
   "source": [
    "train, test, sample_submission = read_data(\"../input/titanic\")"
   ]
  },
  {
   "cell_type": "code",
   "execution_count": 9,
   "id": "69a43b31",
   "metadata": {
    "execution": {
     "iopub.execute_input": "2022-07-14T15:14:02.284078Z",
     "iopub.status.busy": "2022-07-14T15:14:02.283318Z",
     "iopub.status.idle": "2022-07-14T15:14:02.311998Z",
     "shell.execute_reply": "2022-07-14T15:14:02.310701Z"
    },
    "papermill": {
     "duration": 0.041812,
     "end_time": "2022-07-14T15:14:02.314515",
     "exception": false,
     "start_time": "2022-07-14T15:14:02.272703",
     "status": "completed"
    },
    "tags": []
   },
   "outputs": [
    {
     "data": {
      "text/html": [
       "<div>\n",
       "<style scoped>\n",
       "    .dataframe tbody tr th:only-of-type {\n",
       "        vertical-align: middle;\n",
       "    }\n",
       "\n",
       "    .dataframe tbody tr th {\n",
       "        vertical-align: top;\n",
       "    }\n",
       "\n",
       "    .dataframe thead th {\n",
       "        text-align: right;\n",
       "    }\n",
       "</style>\n",
       "<table border=\"1\" class=\"dataframe\">\n",
       "  <thead>\n",
       "    <tr style=\"text-align: right;\">\n",
       "      <th></th>\n",
       "      <th>PassengerId</th>\n",
       "      <th>Survived</th>\n",
       "      <th>Pclass</th>\n",
       "      <th>Name</th>\n",
       "      <th>Sex</th>\n",
       "      <th>Age</th>\n",
       "      <th>SibSp</th>\n",
       "      <th>Parch</th>\n",
       "      <th>Ticket</th>\n",
       "      <th>Fare</th>\n",
       "      <th>Cabin</th>\n",
       "      <th>Embarked</th>\n",
       "    </tr>\n",
       "  </thead>\n",
       "  <tbody>\n",
       "    <tr>\n",
       "      <th>0</th>\n",
       "      <td>1</td>\n",
       "      <td>0</td>\n",
       "      <td>3</td>\n",
       "      <td>Braund, Mr. Owen Harris</td>\n",
       "      <td>male</td>\n",
       "      <td>22.0</td>\n",
       "      <td>1</td>\n",
       "      <td>0</td>\n",
       "      <td>A/5 21171</td>\n",
       "      <td>7.2500</td>\n",
       "      <td>NaN</td>\n",
       "      <td>S</td>\n",
       "    </tr>\n",
       "    <tr>\n",
       "      <th>1</th>\n",
       "      <td>2</td>\n",
       "      <td>1</td>\n",
       "      <td>1</td>\n",
       "      <td>Cumings, Mrs. John Bradley (Florence Briggs Th...</td>\n",
       "      <td>female</td>\n",
       "      <td>38.0</td>\n",
       "      <td>1</td>\n",
       "      <td>0</td>\n",
       "      <td>PC 17599</td>\n",
       "      <td>71.2833</td>\n",
       "      <td>C85</td>\n",
       "      <td>C</td>\n",
       "    </tr>\n",
       "    <tr>\n",
       "      <th>2</th>\n",
       "      <td>3</td>\n",
       "      <td>1</td>\n",
       "      <td>3</td>\n",
       "      <td>Heikkinen, Miss. Laina</td>\n",
       "      <td>female</td>\n",
       "      <td>26.0</td>\n",
       "      <td>0</td>\n",
       "      <td>0</td>\n",
       "      <td>STON/O2. 3101282</td>\n",
       "      <td>7.9250</td>\n",
       "      <td>NaN</td>\n",
       "      <td>S</td>\n",
       "    </tr>\n",
       "    <tr>\n",
       "      <th>3</th>\n",
       "      <td>4</td>\n",
       "      <td>1</td>\n",
       "      <td>1</td>\n",
       "      <td>Futrelle, Mrs. Jacques Heath (Lily May Peel)</td>\n",
       "      <td>female</td>\n",
       "      <td>35.0</td>\n",
       "      <td>1</td>\n",
       "      <td>0</td>\n",
       "      <td>113803</td>\n",
       "      <td>53.1000</td>\n",
       "      <td>C123</td>\n",
       "      <td>S</td>\n",
       "    </tr>\n",
       "    <tr>\n",
       "      <th>4</th>\n",
       "      <td>5</td>\n",
       "      <td>0</td>\n",
       "      <td>3</td>\n",
       "      <td>Allen, Mr. William Henry</td>\n",
       "      <td>male</td>\n",
       "      <td>35.0</td>\n",
       "      <td>0</td>\n",
       "      <td>0</td>\n",
       "      <td>373450</td>\n",
       "      <td>8.0500</td>\n",
       "      <td>NaN</td>\n",
       "      <td>S</td>\n",
       "    </tr>\n",
       "  </tbody>\n",
       "</table>\n",
       "</div>"
      ],
      "text/plain": [
       "   PassengerId  Survived  Pclass  \\\n",
       "0            1         0       3   \n",
       "1            2         1       1   \n",
       "2            3         1       3   \n",
       "3            4         1       1   \n",
       "4            5         0       3   \n",
       "\n",
       "                                                Name     Sex   Age  SibSp  \\\n",
       "0                            Braund, Mr. Owen Harris    male  22.0      1   \n",
       "1  Cumings, Mrs. John Bradley (Florence Briggs Th...  female  38.0      1   \n",
       "2                             Heikkinen, Miss. Laina  female  26.0      0   \n",
       "3       Futrelle, Mrs. Jacques Heath (Lily May Peel)  female  35.0      1   \n",
       "4                           Allen, Mr. William Henry    male  35.0      0   \n",
       "\n",
       "   Parch            Ticket     Fare Cabin Embarked  \n",
       "0      0         A/5 21171   7.2500   NaN        S  \n",
       "1      0          PC 17599  71.2833   C85        C  \n",
       "2      0  STON/O2. 3101282   7.9250   NaN        S  \n",
       "3      0            113803  53.1000  C123        S  \n",
       "4      0            373450   8.0500   NaN        S  "
      ]
     },
     "execution_count": 9,
     "metadata": {},
     "output_type": "execute_result"
    }
   ],
   "source": [
    "train.head()"
   ]
  },
  {
   "cell_type": "code",
   "execution_count": 10,
   "id": "03d85af4",
   "metadata": {
    "execution": {
     "iopub.execute_input": "2022-07-14T15:14:02.336617Z",
     "iopub.status.busy": "2022-07-14T15:14:02.336239Z",
     "iopub.status.idle": "2022-07-14T15:14:02.345296Z",
     "shell.execute_reply": "2022-07-14T15:14:02.344023Z"
    },
    "papermill": {
     "duration": 0.022996,
     "end_time": "2022-07-14T15:14:02.347757",
     "exception": false,
     "start_time": "2022-07-14T15:14:02.324761",
     "status": "completed"
    },
    "tags": []
   },
   "outputs": [
    {
     "data": {
      "text/plain": [
       "Index(['PassengerId', 'Survived', 'Pclass', 'Name', 'Sex', 'Age', 'SibSp',\n",
       "       'Parch', 'Ticket', 'Fare', 'Cabin', 'Embarked'],\n",
       "      dtype='object')"
      ]
     },
     "execution_count": 10,
     "metadata": {},
     "output_type": "execute_result"
    }
   ],
   "source": [
    "train.columns"
   ]
  },
  {
   "cell_type": "markdown",
   "id": "02780372",
   "metadata": {
    "papermill": {
     "duration": 0.009878,
     "end_time": "2022-07-14T15:14:02.368096",
     "exception": false,
     "start_time": "2022-07-14T15:14:02.358218",
     "status": "completed"
    },
    "tags": []
   },
   "source": [
    "<div style=\"background-color:rgba(128, 0, 128, 0.6);border-radius:5px;display:fill\"><h1 style=\"text-align: center;padding: 12px 0px 12px 0px;\">Missing Data</h1>\n",
    "</div>"
   ]
  },
  {
   "cell_type": "code",
   "execution_count": 11,
   "id": "d446989e",
   "metadata": {
    "execution": {
     "iopub.execute_input": "2022-07-14T15:14:02.389884Z",
     "iopub.status.busy": "2022-07-14T15:14:02.389503Z",
     "iopub.status.idle": "2022-07-14T15:14:02.401342Z",
     "shell.execute_reply": "2022-07-14T15:14:02.399959Z"
    },
    "papermill": {
     "duration": 0.025359,
     "end_time": "2022-07-14T15:14:02.403462",
     "exception": false,
     "start_time": "2022-07-14T15:14:02.378103",
     "status": "completed"
    },
    "tags": []
   },
   "outputs": [
    {
     "name": "stdout",
     "output_type": "stream",
     "text": [
      "Age         177\n",
      "Cabin       687\n",
      "Embarked      2\n",
      "dtype: int64\n"
     ]
    }
   ],
   "source": [
    "missing_vals = train.isna().sum()\n",
    "print(missing_vals[missing_vals > 0])"
   ]
  },
  {
   "cell_type": "code",
   "execution_count": 12,
   "id": "24b3a3d8",
   "metadata": {
    "execution": {
     "iopub.execute_input": "2022-07-14T15:14:02.425146Z",
     "iopub.status.busy": "2022-07-14T15:14:02.424679Z",
     "iopub.status.idle": "2022-07-14T15:14:02.443217Z",
     "shell.execute_reply": "2022-07-14T15:14:02.442203Z"
    },
    "papermill": {
     "duration": 0.032578,
     "end_time": "2022-07-14T15:14:02.445796",
     "exception": false,
     "start_time": "2022-07-14T15:14:02.413218",
     "status": "completed"
    },
    "tags": []
   },
   "outputs": [],
   "source": [
    "## Separate Categorical and Numerical Features\n",
    "cat_features = list(train.select_dtypes(include=[\"category\", \"object\"]).columns)\n",
    "num_features = list(test.select_dtypes(include=[\"number\"]).columns)"
   ]
  },
  {
   "cell_type": "markdown",
   "id": "c4593e68",
   "metadata": {
    "papermill": {
     "duration": 0.009644,
     "end_time": "2022-07-14T15:14:02.465563",
     "exception": false,
     "start_time": "2022-07-14T15:14:02.455919",
     "status": "completed"
    },
    "tags": []
   },
   "source": [
    "### Impute Missing Categorical Features"
   ]
  },
  {
   "cell_type": "code",
   "execution_count": 13,
   "id": "5b50f83a",
   "metadata": {
    "execution": {
     "iopub.execute_input": "2022-07-14T15:14:02.487726Z",
     "iopub.status.busy": "2022-07-14T15:14:02.487060Z",
     "iopub.status.idle": "2022-07-14T15:14:02.657411Z",
     "shell.execute_reply": "2022-07-14T15:14:02.656214Z"
    },
    "papermill": {
     "duration": 0.184488,
     "end_time": "2022-07-14T15:14:02.660105",
     "exception": false,
     "start_time": "2022-07-14T15:14:02.475617",
     "status": "completed"
    },
    "tags": []
   },
   "outputs": [],
   "source": [
    "from sklearn.impute import SimpleImputer\n",
    "\n",
    "imputer = SimpleImputer(strategy=\"most_frequent\")\n",
    "\n",
    "train[cat_features] = imputer.fit_transform(train[cat_features])\n",
    "test[cat_features] = imputer.transform(test[cat_features])"
   ]
  },
  {
   "cell_type": "markdown",
   "id": "e1eb3d1b",
   "metadata": {
    "papermill": {
     "duration": 0.00964,
     "end_time": "2022-07-14T15:14:02.679913",
     "exception": false,
     "start_time": "2022-07-14T15:14:02.670273",
     "status": "completed"
    },
    "tags": []
   },
   "source": [
    "### Impute Missing Numerical Features"
   ]
  },
  {
   "cell_type": "code",
   "execution_count": 14,
   "id": "c528db23",
   "metadata": {
    "execution": {
     "iopub.execute_input": "2022-07-14T15:14:02.701767Z",
     "iopub.status.busy": "2022-07-14T15:14:02.700742Z",
     "iopub.status.idle": "2022-07-14T15:14:02.722828Z",
     "shell.execute_reply": "2022-07-14T15:14:02.721913Z"
    },
    "papermill": {
     "duration": 0.035582,
     "end_time": "2022-07-14T15:14:02.725360",
     "exception": false,
     "start_time": "2022-07-14T15:14:02.689778",
     "status": "completed"
    },
    "tags": []
   },
   "outputs": [],
   "source": [
    "# imputer = SimpleImputer(strategy=\"mean\")\n",
    "imputer = SimpleImputer(strategy=\"median\")  # median is more robust to outliers\n",
    "\n",
    "train[num_features] = imputer.fit_transform(train[num_features])\n",
    "test[num_features] = imputer.transform(test[num_features])"
   ]
  },
  {
   "cell_type": "markdown",
   "id": "a74257e1",
   "metadata": {
    "papermill": {
     "duration": 0.009508,
     "end_time": "2022-07-14T15:14:02.744883",
     "exception": false,
     "start_time": "2022-07-14T15:14:02.735375",
     "status": "completed"
    },
    "tags": []
   },
   "source": [
    "## Verify No Missing Data"
   ]
  },
  {
   "cell_type": "code",
   "execution_count": 15,
   "id": "8ab98375",
   "metadata": {
    "execution": {
     "iopub.execute_input": "2022-07-14T15:14:02.766833Z",
     "iopub.status.busy": "2022-07-14T15:14:02.766159Z",
     "iopub.status.idle": "2022-07-14T15:14:02.777684Z",
     "shell.execute_reply": "2022-07-14T15:14:02.776620Z"
    },
    "papermill": {
     "duration": 0.025219,
     "end_time": "2022-07-14T15:14:02.780010",
     "exception": false,
     "start_time": "2022-07-14T15:14:02.754791",
     "status": "completed"
    },
    "tags": []
   },
   "outputs": [
    {
     "name": "stdout",
     "output_type": "stream",
     "text": [
      "Series([], dtype: int64)\n"
     ]
    }
   ],
   "source": [
    "missing_vals = train.isna().sum()\n",
    "print(missing_vals[missing_vals > 0])"
   ]
  },
  {
   "cell_type": "markdown",
   "id": "8c0dea58",
   "metadata": {
    "papermill": {
     "duration": 0.009466,
     "end_time": "2022-07-14T15:14:02.799346",
     "exception": false,
     "start_time": "2022-07-14T15:14:02.789880",
     "status": "completed"
    },
    "tags": []
   },
   "source": [
    "<div style=\"background-color:rgba(128, 0, 128, 0.6);border-radius:5px;display:fill\"><h1 style=\"text-align: center;padding: 12px 0px 12px 0px;\">Encode Categorical Features</h1>\n",
    "</div>"
   ]
  },
  {
   "cell_type": "code",
   "execution_count": 16,
   "id": "745d9363",
   "metadata": {
    "execution": {
     "iopub.execute_input": "2022-07-14T15:14:02.821159Z",
     "iopub.status.busy": "2022-07-14T15:14:02.820463Z",
     "iopub.status.idle": "2022-07-14T15:14:02.841000Z",
     "shell.execute_reply": "2022-07-14T15:14:02.840045Z"
    },
    "papermill": {
     "duration": 0.034294,
     "end_time": "2022-07-14T15:14:02.843480",
     "exception": false,
     "start_time": "2022-07-14T15:14:02.809186",
     "status": "completed"
    },
    "tags": []
   },
   "outputs": [],
   "source": [
    "train, test = label_encoder(train, test, cat_features)"
   ]
  },
  {
   "cell_type": "code",
   "execution_count": 17,
   "id": "b2074891",
   "metadata": {
    "execution": {
     "iopub.execute_input": "2022-07-14T15:14:02.865503Z",
     "iopub.status.busy": "2022-07-14T15:14:02.864782Z",
     "iopub.status.idle": "2022-07-14T15:14:02.876936Z",
     "shell.execute_reply": "2022-07-14T15:14:02.876025Z"
    },
    "papermill": {
     "duration": 0.02578,
     "end_time": "2022-07-14T15:14:02.879279",
     "exception": false,
     "start_time": "2022-07-14T15:14:02.853499",
     "status": "completed"
    },
    "tags": []
   },
   "outputs": [],
   "source": [
    "FEATURES = cat_features + num_features\n",
    "\n",
    "y = train[TARGET]\n",
    "X = train[FEATURES].copy()\n",
    "\n",
    "X_test = test[FEATURES].copy()"
   ]
  },
  {
   "cell_type": "code",
   "execution_count": 18,
   "id": "413e9894",
   "metadata": {
    "execution": {
     "iopub.execute_input": "2022-07-14T15:14:02.900967Z",
     "iopub.status.busy": "2022-07-14T15:14:02.900374Z",
     "iopub.status.idle": "2022-07-14T15:14:02.918886Z",
     "shell.execute_reply": "2022-07-14T15:14:02.917902Z"
    },
    "papermill": {
     "duration": 0.032267,
     "end_time": "2022-07-14T15:14:02.921421",
     "exception": false,
     "start_time": "2022-07-14T15:14:02.889154",
     "status": "completed"
    },
    "tags": []
   },
   "outputs": [
    {
     "data": {
      "text/html": [
       "<div>\n",
       "<style scoped>\n",
       "    .dataframe tbody tr th:only-of-type {\n",
       "        vertical-align: middle;\n",
       "    }\n",
       "\n",
       "    .dataframe tbody tr th {\n",
       "        vertical-align: top;\n",
       "    }\n",
       "\n",
       "    .dataframe thead th {\n",
       "        text-align: right;\n",
       "    }\n",
       "</style>\n",
       "<table border=\"1\" class=\"dataframe\">\n",
       "  <thead>\n",
       "    <tr style=\"text-align: right;\">\n",
       "      <th></th>\n",
       "      <th>Name</th>\n",
       "      <th>Sex</th>\n",
       "      <th>Ticket</th>\n",
       "      <th>Cabin</th>\n",
       "      <th>Embarked</th>\n",
       "      <th>PassengerId</th>\n",
       "      <th>Pclass</th>\n",
       "      <th>Age</th>\n",
       "      <th>SibSp</th>\n",
       "      <th>Parch</th>\n",
       "      <th>Fare</th>\n",
       "    </tr>\n",
       "  </thead>\n",
       "  <tbody>\n",
       "    <tr>\n",
       "      <th>0</th>\n",
       "      <td>108</td>\n",
       "      <td>1</td>\n",
       "      <td>523</td>\n",
       "      <td>47</td>\n",
       "      <td>2</td>\n",
       "      <td>1.0</td>\n",
       "      <td>3.0</td>\n",
       "      <td>22.0</td>\n",
       "      <td>1.0</td>\n",
       "      <td>0.0</td>\n",
       "      <td>7.2500</td>\n",
       "    </tr>\n",
       "    <tr>\n",
       "      <th>1</th>\n",
       "      <td>190</td>\n",
       "      <td>0</td>\n",
       "      <td>596</td>\n",
       "      <td>81</td>\n",
       "      <td>0</td>\n",
       "      <td>2.0</td>\n",
       "      <td>1.0</td>\n",
       "      <td>38.0</td>\n",
       "      <td>1.0</td>\n",
       "      <td>0.0</td>\n",
       "      <td>71.2833</td>\n",
       "    </tr>\n",
       "    <tr>\n",
       "      <th>2</th>\n",
       "      <td>353</td>\n",
       "      <td>0</td>\n",
       "      <td>669</td>\n",
       "      <td>47</td>\n",
       "      <td>2</td>\n",
       "      <td>3.0</td>\n",
       "      <td>3.0</td>\n",
       "      <td>26.0</td>\n",
       "      <td>0.0</td>\n",
       "      <td>0.0</td>\n",
       "      <td>7.9250</td>\n",
       "    </tr>\n",
       "    <tr>\n",
       "      <th>3</th>\n",
       "      <td>272</td>\n",
       "      <td>0</td>\n",
       "      <td>49</td>\n",
       "      <td>55</td>\n",
       "      <td>2</td>\n",
       "      <td>4.0</td>\n",
       "      <td>1.0</td>\n",
       "      <td>35.0</td>\n",
       "      <td>1.0</td>\n",
       "      <td>0.0</td>\n",
       "      <td>53.1000</td>\n",
       "    </tr>\n",
       "    <tr>\n",
       "      <th>4</th>\n",
       "      <td>15</td>\n",
       "      <td>1</td>\n",
       "      <td>472</td>\n",
       "      <td>47</td>\n",
       "      <td>2</td>\n",
       "      <td>5.0</td>\n",
       "      <td>3.0</td>\n",
       "      <td>35.0</td>\n",
       "      <td>0.0</td>\n",
       "      <td>0.0</td>\n",
       "      <td>8.0500</td>\n",
       "    </tr>\n",
       "  </tbody>\n",
       "</table>\n",
       "</div>"
      ],
      "text/plain": [
       "   Name  Sex  Ticket  Cabin  Embarked  PassengerId  Pclass   Age  SibSp  \\\n",
       "0   108    1     523     47         2          1.0     3.0  22.0    1.0   \n",
       "1   190    0     596     81         0          2.0     1.0  38.0    1.0   \n",
       "2   353    0     669     47         2          3.0     3.0  26.0    0.0   \n",
       "3   272    0      49     55         2          4.0     1.0  35.0    1.0   \n",
       "4    15    1     472     47         2          5.0     3.0  35.0    0.0   \n",
       "\n",
       "   Parch     Fare  \n",
       "0    0.0   7.2500  \n",
       "1    0.0  71.2833  \n",
       "2    0.0   7.9250  \n",
       "3    0.0  53.1000  \n",
       "4    0.0   8.0500  "
      ]
     },
     "execution_count": 18,
     "metadata": {},
     "output_type": "execute_result"
    }
   ],
   "source": [
    "X.head()"
   ]
  },
  {
   "cell_type": "markdown",
   "id": "ca4ba0d2",
   "metadata": {
    "papermill": {
     "duration": 0.009816,
     "end_time": "2022-07-14T15:14:02.941908",
     "exception": false,
     "start_time": "2022-07-14T15:14:02.932092",
     "status": "completed"
    },
    "tags": []
   },
   "source": [
    "## Scale the Data"
   ]
  },
  {
   "cell_type": "code",
   "execution_count": 19,
   "id": "877f8bfd",
   "metadata": {
    "execution": {
     "iopub.execute_input": "2022-07-14T15:14:02.964109Z",
     "iopub.status.busy": "2022-07-14T15:14:02.963486Z",
     "iopub.status.idle": "2022-07-14T15:14:02.979287Z",
     "shell.execute_reply": "2022-07-14T15:14:02.978284Z"
    },
    "papermill": {
     "duration": 0.030051,
     "end_time": "2022-07-14T15:14:02.981958",
     "exception": false,
     "start_time": "2022-07-14T15:14:02.951907",
     "status": "completed"
    },
    "tags": []
   },
   "outputs": [],
   "source": [
    "from sklearn.preprocessing import StandardScaler\n",
    "\n",
    "scaler = StandardScaler()\n",
    "\n",
    "X = scaler.fit(X).transform(X)\n",
    "X_test = scaler.transform(X_test)"
   ]
  },
  {
   "cell_type": "markdown",
   "id": "95ad0f94",
   "metadata": {
    "papermill": {
     "duration": 0.01022,
     "end_time": "2022-07-14T15:14:03.002614",
     "exception": false,
     "start_time": "2022-07-14T15:14:02.992394",
     "status": "completed"
    },
    "tags": []
   },
   "source": [
    "<div style=\"background-color:rgba(128, 0, 128, 0.6);border-radius:5px;display:fill\"><h1 style=\"text-align: center;padding: 12px 0px 12px 0px;\">Train Model with Train/Test Split</h1>\n",
    "</div>\n",
    "\n",
    "We split the training data so we can evaluate how well each model performs  We are saving 20% of the training data to validate the model(s)."
   ]
  },
  {
   "cell_type": "code",
   "execution_count": 20,
   "id": "78481a40",
   "metadata": {
    "execution": {
     "iopub.execute_input": "2022-07-14T15:14:03.025133Z",
     "iopub.status.busy": "2022-07-14T15:14:03.024675Z",
     "iopub.status.idle": "2022-07-14T15:14:03.040323Z",
     "shell.execute_reply": "2022-07-14T15:14:03.039258Z"
    },
    "papermill": {
     "duration": 0.029604,
     "end_time": "2022-07-14T15:14:03.042690",
     "exception": false,
     "start_time": "2022-07-14T15:14:03.013086",
     "status": "completed"
    },
    "tags": []
   },
   "outputs": [
    {
     "data": {
      "text/plain": [
       "((712, 11), (712,), (179, 11), (179,))"
      ]
     },
     "execution_count": 20,
     "metadata": {},
     "output_type": "execute_result"
    }
   ],
   "source": [
    "from sklearn.model_selection import train_test_split\n",
    "\n",
    "X_train, X_valid, y_train, y_valid = train_test_split(\n",
    "    X,\n",
    "    y,\n",
    "    test_size=0.2,  # Save 20% for validation\n",
    "    random_state=42,  # Make the split deterministic\n",
    ")\n",
    "X_train.shape, y_train.shape, X_valid.shape, y_valid.shape"
   ]
  },
  {
   "cell_type": "markdown",
   "id": "0143da34",
   "metadata": {
    "papermill": {
     "duration": 0.010094,
     "end_time": "2022-07-14T15:14:03.063175",
     "exception": false,
     "start_time": "2022-07-14T15:14:03.053081",
     "status": "completed"
    },
    "tags": []
   },
   "source": [
    "<div style=\"background-color:rgba(128, 0, 128, 0.6);border-radius:5px;display:fill\"><h1 style=\"text-align: center;padding: 12px 0px 12px 0px;\">Create Models</h1>\n",
    "</div>"
   ]
  },
  {
   "cell_type": "code",
   "execution_count": 21,
   "id": "9980fde0",
   "metadata": {
    "execution": {
     "iopub.execute_input": "2022-07-14T15:14:03.086058Z",
     "iopub.status.busy": "2022-07-14T15:14:03.085453Z",
     "iopub.status.idle": "2022-07-14T15:14:03.205793Z",
     "shell.execute_reply": "2022-07-14T15:14:03.204381Z"
    },
    "papermill": {
     "duration": 0.135196,
     "end_time": "2022-07-14T15:14:03.208770",
     "exception": false,
     "start_time": "2022-07-14T15:14:03.073574",
     "status": "completed"
    },
    "tags": []
   },
   "outputs": [
    {
     "name": "stdout",
     "output_type": "stream",
     "text": [
      "Accuracy: 0.8156\n",
      "CPU times: user 112 ms, sys: 0 ns, total: 112 ms\n",
      "Wall time: 112 ms\n"
     ]
    }
   ],
   "source": [
    "%%time\n",
    "from sklearn.svm import SVC\n",
    "\n",
    "model = SVC(kernel=\"poly\", degree=2, gamma=\"auto\", coef0=1, C=5, probability=True)\n",
    "\n",
    "\n",
    "model.fit(X_train, y_train)\n",
    "valid_preds = model.predict(X_valid)\n",
    "show_scores(y_valid, valid_preds)"
   ]
  },
  {
   "cell_type": "code",
   "execution_count": 22,
   "id": "19b6d919",
   "metadata": {
    "execution": {
     "iopub.execute_input": "2022-07-14T15:14:03.232074Z",
     "iopub.status.busy": "2022-07-14T15:14:03.231461Z",
     "iopub.status.idle": "2022-07-14T15:14:03.242134Z",
     "shell.execute_reply": "2022-07-14T15:14:03.241053Z"
    },
    "papermill": {
     "duration": 0.025049,
     "end_time": "2022-07-14T15:14:03.244666",
     "exception": false,
     "start_time": "2022-07-14T15:14:03.219617",
     "status": "completed"
    },
    "tags": []
   },
   "outputs": [],
   "source": [
    "preds = model.predict(X_test)"
   ]
  },
  {
   "cell_type": "markdown",
   "id": "19d808ae",
   "metadata": {
    "papermill": {
     "duration": 0.010377,
     "end_time": "2022-07-14T15:14:03.265533",
     "exception": false,
     "start_time": "2022-07-14T15:14:03.255156",
     "status": "completed"
    },
    "tags": []
   },
   "source": [
    "<div style=\"background-color:rgba(128, 0, 128, 0.6);border-radius:5px;display:fill\"><h1 style=\"text-align: center;padding: 12px 0px 12px 0px;\">Submission</h1>\n",
    "</div>"
   ]
  },
  {
   "cell_type": "code",
   "execution_count": 23,
   "id": "8570ff4a",
   "metadata": {
    "execution": {
     "iopub.execute_input": "2022-07-14T15:14:03.288157Z",
     "iopub.status.busy": "2022-07-14T15:14:03.287769Z",
     "iopub.status.idle": "2022-07-14T15:14:03.303813Z",
     "shell.execute_reply": "2022-07-14T15:14:03.302728Z"
    },
    "papermill": {
     "duration": 0.030446,
     "end_time": "2022-07-14T15:14:03.306159",
     "exception": false,
     "start_time": "2022-07-14T15:14:03.275713",
     "status": "completed"
    },
    "tags": []
   },
   "outputs": [
    {
     "data": {
      "text/html": [
       "<div>\n",
       "<style scoped>\n",
       "    .dataframe tbody tr th:only-of-type {\n",
       "        vertical-align: middle;\n",
       "    }\n",
       "\n",
       "    .dataframe tbody tr th {\n",
       "        vertical-align: top;\n",
       "    }\n",
       "\n",
       "    .dataframe thead th {\n",
       "        text-align: right;\n",
       "    }\n",
       "</style>\n",
       "<table border=\"1\" class=\"dataframe\">\n",
       "  <thead>\n",
       "    <tr style=\"text-align: right;\">\n",
       "      <th></th>\n",
       "      <th>PassengerId</th>\n",
       "      <th>Survived</th>\n",
       "    </tr>\n",
       "  </thead>\n",
       "  <tbody>\n",
       "    <tr>\n",
       "      <th>0</th>\n",
       "      <td>892</td>\n",
       "      <td>0</td>\n",
       "    </tr>\n",
       "    <tr>\n",
       "      <th>1</th>\n",
       "      <td>893</td>\n",
       "      <td>1</td>\n",
       "    </tr>\n",
       "    <tr>\n",
       "      <th>2</th>\n",
       "      <td>894</td>\n",
       "      <td>0</td>\n",
       "    </tr>\n",
       "    <tr>\n",
       "      <th>3</th>\n",
       "      <td>895</td>\n",
       "      <td>0</td>\n",
       "    </tr>\n",
       "    <tr>\n",
       "      <th>4</th>\n",
       "      <td>896</td>\n",
       "      <td>0</td>\n",
       "    </tr>\n",
       "  </tbody>\n",
       "</table>\n",
       "</div>"
      ],
      "text/plain": [
       "   PassengerId  Survived\n",
       "0          892         0\n",
       "1          893         1\n",
       "2          894         0\n",
       "3          895         0\n",
       "4          896         0"
      ]
     },
     "execution_count": 23,
     "metadata": {},
     "output_type": "execute_result"
    }
   ],
   "source": [
    "ss = create_submission(\"\", TARGET, preds)\n",
    "ss"
   ]
  }
 ],
 "metadata": {
  "kernelspec": {
   "display_name": "Python 3",
   "language": "python",
   "name": "python3"
  },
  "language_info": {
   "codemirror_mode": {
    "name": "ipython",
    "version": 3
   },
   "file_extension": ".py",
   "mimetype": "text/x-python",
   "name": "python",
   "nbconvert_exporter": "python",
   "pygments_lexer": "ipython3",
   "version": "3.7.12"
  },
  "papermill": {
   "default_parameters": {},
   "duration": 29.379398,
   "end_time": "2022-07-14T15:14:04.038646",
   "environment_variables": {},
   "exception": null,
   "input_path": "__notebook__.ipynb",
   "output_path": "__notebook__.ipynb",
   "parameters": {},
   "start_time": "2022-07-14T15:13:34.659248",
   "version": "2.3.4"
  }
 },
 "nbformat": 4,
 "nbformat_minor": 5
}
