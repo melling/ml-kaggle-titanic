{
 "cells": [
  {
   "cell_type": "markdown",
   "id": "f267635f",
   "metadata": {
    "papermill": {
     "duration": 0.012131,
     "end_time": "2022-07-02T00:51:17.615313",
     "exception": false,
     "start_time": "2022-07-02T00:51:17.603182",
     "status": "completed"
    },
    "tags": []
   },
   "source": [
    "<div style=\"background-color:rgba(128, 0, 128, 0.6);border-radius:5px;display:fill\"><h1 style=\"text-align: center;padding: 12px 0px 12px 0px;\">Titanic: Voting Classifier</h1>\n",
    "</div>"
   ]
  },
  {
   "cell_type": "code",
   "execution_count": 1,
   "id": "e5c13ad7",
   "metadata": {
    "execution": {
     "iopub.execute_input": "2022-07-02T00:51:17.639149Z",
     "iopub.status.busy": "2022-07-02T00:51:17.638592Z",
     "iopub.status.idle": "2022-07-02T00:51:35.362525Z",
     "shell.execute_reply": "2022-07-02T00:51:35.361171Z"
    },
    "papermill": {
     "duration": 17.739789,
     "end_time": "2022-07-02T00:51:35.365945",
     "exception": false,
     "start_time": "2022-07-02T00:51:17.626156",
     "status": "completed"
    },
    "tags": []
   },
   "outputs": [
    {
     "name": "stdout",
     "output_type": "stream",
     "text": [
      "\u001b[33mWARNING: Running pip as the 'root' user can result in broken permissions and conflicting behaviour with the system package manager. It is recommended to use a virtual environment instead: https://pip.pypa.io/warnings/venv\u001b[0m\u001b[33m\r\n",
      "\u001b[0m"
     ]
    }
   ],
   "source": [
    "# Black formatter https://black.readthedocs.io/en/stable/\n",
    "\n",
    "! pip install nb-black > /dev/null\n",
    "\n",
    "%load_ext lab_black"
   ]
  },
  {
   "cell_type": "markdown",
   "id": "395369bd",
   "metadata": {
    "papermill": {
     "duration": 0.010589,
     "end_time": "2022-07-02T00:51:35.387543",
     "exception": false,
     "start_time": "2022-07-02T00:51:35.376954",
     "status": "completed"
    },
    "tags": []
   },
   "source": [
    "<div style=\"background-color:rgba(128, 0, 128, 0.6);border-radius:5px;display:fill\"><h1 style=\"text-align: center;padding: 12px 0px 12px 0px;\">Import Libraries</h1>\n",
    "</div>\n",
    "\n",
    "A best practise is to include all libraries here.  However, I will put a few imports farther down where they are first used so beginners can learn with an \"as needed\" approach."
   ]
  },
  {
   "cell_type": "code",
   "execution_count": 2,
   "id": "63d7d6ba",
   "metadata": {
    "execution": {
     "iopub.execute_input": "2022-07-02T00:51:35.412523Z",
     "iopub.status.busy": "2022-07-02T00:51:35.411834Z",
     "iopub.status.idle": "2022-07-02T00:51:35.422562Z",
     "shell.execute_reply": "2022-07-02T00:51:35.421105Z"
    },
    "papermill": {
     "duration": 0.026907,
     "end_time": "2022-07-02T00:51:35.425620",
     "exception": false,
     "start_time": "2022-07-02T00:51:35.398713",
     "status": "completed"
    },
    "tags": []
   },
   "outputs": [],
   "source": [
    "import numpy as np  # linear algebra\n",
    "import pandas as pd  # data processing, CSV file I/O (e.g. pd.read_csv)\n",
    "\n",
    "from pathlib import Path\n",
    "\n",
    "pd.options.display.max_columns = 100  # Want to view all the columns"
   ]
  },
  {
   "cell_type": "markdown",
   "id": "a063ce69",
   "metadata": {
    "papermill": {
     "duration": 0.011466,
     "end_time": "2022-07-02T00:51:35.448008",
     "exception": false,
     "start_time": "2022-07-02T00:51:35.436542",
     "status": "completed"
    },
    "tags": []
   },
   "source": [
    "<div style=\"background-color:rgba(128, 0, 128, 0.6);border-radius:5px;display:fill\"><h1 style=\"text-align: center;padding: 12px 0px 12px 0px;\">Configuration</h1>\n",
    "</div>"
   ]
  },
  {
   "cell_type": "code",
   "execution_count": 3,
   "id": "0f6d1069",
   "metadata": {
    "execution": {
     "iopub.execute_input": "2022-07-02T00:51:35.474028Z",
     "iopub.status.busy": "2022-07-02T00:51:35.473297Z",
     "iopub.status.idle": "2022-07-02T00:51:35.481965Z",
     "shell.execute_reply": "2022-07-02T00:51:35.480963Z"
    },
    "papermill": {
     "duration": 0.025079,
     "end_time": "2022-07-02T00:51:35.484747",
     "exception": false,
     "start_time": "2022-07-02T00:51:35.459668",
     "status": "completed"
    },
    "tags": []
   },
   "outputs": [],
   "source": [
    "TARGET = \"Survived\""
   ]
  },
  {
   "cell_type": "markdown",
   "id": "0d763b85",
   "metadata": {
    "papermill": {
     "duration": 0.011278,
     "end_time": "2022-07-02T00:51:35.508339",
     "exception": false,
     "start_time": "2022-07-02T00:51:35.497061",
     "status": "completed"
    },
    "tags": []
   },
   "source": [
    "<div style=\"background-color:rgba(128, 0, 128, 0.6);border-radius:5px;display:fill\"><h1 style=\"text-align: center;padding: 12px 0px 12px 0px;\">Library</h1>\n",
    "</div>\n",
    "\n",
    "Creating a few functions that we will reuse in each project."
   ]
  },
  {
   "cell_type": "code",
   "execution_count": 4,
   "id": "072d044a",
   "metadata": {
    "execution": {
     "iopub.execute_input": "2022-07-02T00:51:35.534334Z",
     "iopub.status.busy": "2022-07-02T00:51:35.533586Z",
     "iopub.status.idle": "2022-07-02T00:51:35.549702Z",
     "shell.execute_reply": "2022-07-02T00:51:35.548276Z"
    },
    "papermill": {
     "duration": 0.033946,
     "end_time": "2022-07-02T00:51:35.553125",
     "exception": false,
     "start_time": "2022-07-02T00:51:35.519179",
     "status": "completed"
    },
    "tags": []
   },
   "outputs": [],
   "source": [
    "def read_data(path):\n",
    "    data_dir = Path(path)\n",
    "\n",
    "    train = pd.read_csv(data_dir / \"train.csv\")\n",
    "    test = pd.read_csv(data_dir / \"test.csv\")\n",
    "    submission_df = pd.read_csv(data_dir / \"gender_submission.csv\")\n",
    "\n",
    "    print(f\"train data: Rows={train.shape[0]}, Columns={train.shape[1]}\")\n",
    "    print(f\"test data : Rows={test.shape[0]}, Columns={test.shape[1]}\")\n",
    "    return train, test, submission_df"
   ]
  },
  {
   "cell_type": "code",
   "execution_count": 5,
   "id": "fa72aee8",
   "metadata": {
    "execution": {
     "iopub.execute_input": "2022-07-02T00:51:35.579641Z",
     "iopub.status.busy": "2022-07-02T00:51:35.578765Z",
     "iopub.status.idle": "2022-07-02T00:51:35.593692Z",
     "shell.execute_reply": "2022-07-02T00:51:35.592247Z"
    },
    "papermill": {
     "duration": 0.033631,
     "end_time": "2022-07-02T00:51:35.597568",
     "exception": false,
     "start_time": "2022-07-02T00:51:35.563937",
     "status": "completed"
    },
    "tags": []
   },
   "outputs": [],
   "source": [
    "def create_submission(model_name, target, preds):\n",
    "    sample_submission[target] = preds\n",
    "\n",
    "    if len(model_name) > 0:\n",
    "        fname = \"submission_{model_name}.csv\"\n",
    "    else:\n",
    "        fname = \"submission.csv\"\n",
    "\n",
    "    sample_submission.to_csv(fname, index=False)\n",
    "\n",
    "    return sample_submission[:5]"
   ]
  },
  {
   "cell_type": "code",
   "execution_count": 6,
   "id": "86422abb",
   "metadata": {
    "execution": {
     "iopub.execute_input": "2022-07-02T00:51:35.623019Z",
     "iopub.status.busy": "2022-07-02T00:51:35.622541Z",
     "iopub.status.idle": "2022-07-02T00:51:36.975606Z",
     "shell.execute_reply": "2022-07-02T00:51:36.974210Z"
    },
    "papermill": {
     "duration": 1.36996,
     "end_time": "2022-07-02T00:51:36.978732",
     "exception": false,
     "start_time": "2022-07-02T00:51:35.608772",
     "status": "completed"
    },
    "tags": []
   },
   "outputs": [],
   "source": [
    "from sklearn.metrics import accuracy_score\n",
    "\n",
    "\n",
    "def show_scores(gt, yhat):\n",
    "    score = accuracy_score(gt, yhat)\n",
    "    print(f\"Accuracy: {score:.4f}\")"
   ]
  },
  {
   "cell_type": "code",
   "execution_count": 7,
   "id": "788ea940",
   "metadata": {
    "execution": {
     "iopub.execute_input": "2022-07-02T00:51:37.002888Z",
     "iopub.status.busy": "2022-07-02T00:51:37.002407Z",
     "iopub.status.idle": "2022-07-02T00:51:37.021942Z",
     "shell.execute_reply": "2022-07-02T00:51:37.020004Z"
    },
    "papermill": {
     "duration": 0.035682,
     "end_time": "2022-07-02T00:51:37.025203",
     "exception": false,
     "start_time": "2022-07-02T00:51:36.989521",
     "status": "completed"
    },
    "tags": []
   },
   "outputs": [],
   "source": [
    "from sklearn.preprocessing import LabelEncoder\n",
    "\n",
    "\n",
    "def label_encoder(train, test, columns):\n",
    "    for col in columns:\n",
    "        train[col] = train[col].astype(str)\n",
    "        test[col] = test[col].astype(str)\n",
    "        train[col] = LabelEncoder().fit_transform(train[col])\n",
    "        test[col] = LabelEncoder().fit_transform(test[col])\n",
    "    return train, test"
   ]
  },
  {
   "cell_type": "markdown",
   "id": "9b877bf0",
   "metadata": {
    "papermill": {
     "duration": 0.01102,
     "end_time": "2022-07-02T00:51:37.048805",
     "exception": false,
     "start_time": "2022-07-02T00:51:37.037785",
     "status": "completed"
    },
    "tags": []
   },
   "source": [
    "<div style=\"background-color:rgba(128, 0, 128, 0.6);border-radius:5px;display:fill\"><h1 style=\"text-align: center;padding: 12px 0px 12px 0px;\">Load Train/Test Data</h1>\n",
    "</div>\n",
    "\n",
    "- train.csv - Data used to build our machine learning model\n",
    "- test.csv - Data used to build our machine learning model. Does not contain the target variable\n",
    "- gender_submission.csv - A file in the proper format to submit test predictions"
   ]
  },
  {
   "cell_type": "code",
   "execution_count": 8,
   "id": "084ee8db",
   "metadata": {
    "execution": {
     "iopub.execute_input": "2022-07-02T00:51:37.073513Z",
     "iopub.status.busy": "2022-07-02T00:51:37.072631Z",
     "iopub.status.idle": "2022-07-02T00:51:37.118568Z",
     "shell.execute_reply": "2022-07-02T00:51:37.116998Z"
    },
    "papermill": {
     "duration": 0.062378,
     "end_time": "2022-07-02T00:51:37.122139",
     "exception": false,
     "start_time": "2022-07-02T00:51:37.059761",
     "status": "completed"
    },
    "tags": []
   },
   "outputs": [
    {
     "name": "stdout",
     "output_type": "stream",
     "text": [
      "train data: Rows=891, Columns=12\n",
      "test data : Rows=418, Columns=11\n"
     ]
    }
   ],
   "source": [
    "train, test, sample_submission = read_data(\"../input/titanic\")"
   ]
  },
  {
   "cell_type": "code",
   "execution_count": 9,
   "id": "514f17a2",
   "metadata": {
    "execution": {
     "iopub.execute_input": "2022-07-02T00:51:37.149228Z",
     "iopub.status.busy": "2022-07-02T00:51:37.148426Z",
     "iopub.status.idle": "2022-07-02T00:51:37.179166Z",
     "shell.execute_reply": "2022-07-02T00:51:37.177797Z"
    },
    "papermill": {
     "duration": 0.048218,
     "end_time": "2022-07-02T00:51:37.182387",
     "exception": false,
     "start_time": "2022-07-02T00:51:37.134169",
     "status": "completed"
    },
    "tags": []
   },
   "outputs": [
    {
     "data": {
      "text/html": [
       "<div>\n",
       "<style scoped>\n",
       "    .dataframe tbody tr th:only-of-type {\n",
       "        vertical-align: middle;\n",
       "    }\n",
       "\n",
       "    .dataframe tbody tr th {\n",
       "        vertical-align: top;\n",
       "    }\n",
       "\n",
       "    .dataframe thead th {\n",
       "        text-align: right;\n",
       "    }\n",
       "</style>\n",
       "<table border=\"1\" class=\"dataframe\">\n",
       "  <thead>\n",
       "    <tr style=\"text-align: right;\">\n",
       "      <th></th>\n",
       "      <th>PassengerId</th>\n",
       "      <th>Survived</th>\n",
       "      <th>Pclass</th>\n",
       "      <th>Name</th>\n",
       "      <th>Sex</th>\n",
       "      <th>Age</th>\n",
       "      <th>SibSp</th>\n",
       "      <th>Parch</th>\n",
       "      <th>Ticket</th>\n",
       "      <th>Fare</th>\n",
       "      <th>Cabin</th>\n",
       "      <th>Embarked</th>\n",
       "    </tr>\n",
       "  </thead>\n",
       "  <tbody>\n",
       "    <tr>\n",
       "      <th>0</th>\n",
       "      <td>1</td>\n",
       "      <td>0</td>\n",
       "      <td>3</td>\n",
       "      <td>Braund, Mr. Owen Harris</td>\n",
       "      <td>male</td>\n",
       "      <td>22.0</td>\n",
       "      <td>1</td>\n",
       "      <td>0</td>\n",
       "      <td>A/5 21171</td>\n",
       "      <td>7.2500</td>\n",
       "      <td>NaN</td>\n",
       "      <td>S</td>\n",
       "    </tr>\n",
       "    <tr>\n",
       "      <th>1</th>\n",
       "      <td>2</td>\n",
       "      <td>1</td>\n",
       "      <td>1</td>\n",
       "      <td>Cumings, Mrs. John Bradley (Florence Briggs Th...</td>\n",
       "      <td>female</td>\n",
       "      <td>38.0</td>\n",
       "      <td>1</td>\n",
       "      <td>0</td>\n",
       "      <td>PC 17599</td>\n",
       "      <td>71.2833</td>\n",
       "      <td>C85</td>\n",
       "      <td>C</td>\n",
       "    </tr>\n",
       "    <tr>\n",
       "      <th>2</th>\n",
       "      <td>3</td>\n",
       "      <td>1</td>\n",
       "      <td>3</td>\n",
       "      <td>Heikkinen, Miss. Laina</td>\n",
       "      <td>female</td>\n",
       "      <td>26.0</td>\n",
       "      <td>0</td>\n",
       "      <td>0</td>\n",
       "      <td>STON/O2. 3101282</td>\n",
       "      <td>7.9250</td>\n",
       "      <td>NaN</td>\n",
       "      <td>S</td>\n",
       "    </tr>\n",
       "    <tr>\n",
       "      <th>3</th>\n",
       "      <td>4</td>\n",
       "      <td>1</td>\n",
       "      <td>1</td>\n",
       "      <td>Futrelle, Mrs. Jacques Heath (Lily May Peel)</td>\n",
       "      <td>female</td>\n",
       "      <td>35.0</td>\n",
       "      <td>1</td>\n",
       "      <td>0</td>\n",
       "      <td>113803</td>\n",
       "      <td>53.1000</td>\n",
       "      <td>C123</td>\n",
       "      <td>S</td>\n",
       "    </tr>\n",
       "    <tr>\n",
       "      <th>4</th>\n",
       "      <td>5</td>\n",
       "      <td>0</td>\n",
       "      <td>3</td>\n",
       "      <td>Allen, Mr. William Henry</td>\n",
       "      <td>male</td>\n",
       "      <td>35.0</td>\n",
       "      <td>0</td>\n",
       "      <td>0</td>\n",
       "      <td>373450</td>\n",
       "      <td>8.0500</td>\n",
       "      <td>NaN</td>\n",
       "      <td>S</td>\n",
       "    </tr>\n",
       "  </tbody>\n",
       "</table>\n",
       "</div>"
      ],
      "text/plain": [
       "   PassengerId  Survived  Pclass  \\\n",
       "0            1         0       3   \n",
       "1            2         1       1   \n",
       "2            3         1       3   \n",
       "3            4         1       1   \n",
       "4            5         0       3   \n",
       "\n",
       "                                                Name     Sex   Age  SibSp  \\\n",
       "0                            Braund, Mr. Owen Harris    male  22.0      1   \n",
       "1  Cumings, Mrs. John Bradley (Florence Briggs Th...  female  38.0      1   \n",
       "2                             Heikkinen, Miss. Laina  female  26.0      0   \n",
       "3       Futrelle, Mrs. Jacques Heath (Lily May Peel)  female  35.0      1   \n",
       "4                           Allen, Mr. William Henry    male  35.0      0   \n",
       "\n",
       "   Parch            Ticket     Fare Cabin Embarked  \n",
       "0      0         A/5 21171   7.2500   NaN        S  \n",
       "1      0          PC 17599  71.2833   C85        C  \n",
       "2      0  STON/O2. 3101282   7.9250   NaN        S  \n",
       "3      0            113803  53.1000  C123        S  \n",
       "4      0            373450   8.0500   NaN        S  "
      ]
     },
     "execution_count": 9,
     "metadata": {},
     "output_type": "execute_result"
    }
   ],
   "source": [
    "train.head()"
   ]
  },
  {
   "cell_type": "code",
   "execution_count": 10,
   "id": "fc228041",
   "metadata": {
    "execution": {
     "iopub.execute_input": "2022-07-02T00:51:37.208394Z",
     "iopub.status.busy": "2022-07-02T00:51:37.207861Z",
     "iopub.status.idle": "2022-07-02T00:51:37.219710Z",
     "shell.execute_reply": "2022-07-02T00:51:37.217902Z"
    },
    "papermill": {
     "duration": 0.028442,
     "end_time": "2022-07-02T00:51:37.222979",
     "exception": false,
     "start_time": "2022-07-02T00:51:37.194537",
     "status": "completed"
    },
    "tags": []
   },
   "outputs": [
    {
     "data": {
      "text/plain": [
       "Index(['PassengerId', 'Survived', 'Pclass', 'Name', 'Sex', 'Age', 'SibSp',\n",
       "       'Parch', 'Ticket', 'Fare', 'Cabin', 'Embarked'],\n",
       "      dtype='object')"
      ]
     },
     "execution_count": 10,
     "metadata": {},
     "output_type": "execute_result"
    }
   ],
   "source": [
    "train.columns"
   ]
  },
  {
   "cell_type": "markdown",
   "id": "f26a9582",
   "metadata": {
    "papermill": {
     "duration": 0.012593,
     "end_time": "2022-07-02T00:51:37.248236",
     "exception": false,
     "start_time": "2022-07-02T00:51:37.235643",
     "status": "completed"
    },
    "tags": []
   },
   "source": [
    "<div style=\"background-color:rgba(128, 0, 128, 0.6);border-radius:5px;display:fill\"><h1 style=\"text-align: center;padding: 12px 0px 12px 0px;\">Missing Data</h1>\n",
    "</div>"
   ]
  },
  {
   "cell_type": "code",
   "execution_count": 11,
   "id": "9c6d16dc",
   "metadata": {
    "execution": {
     "iopub.execute_input": "2022-07-02T00:51:37.273346Z",
     "iopub.status.busy": "2022-07-02T00:51:37.272852Z",
     "iopub.status.idle": "2022-07-02T00:51:37.287975Z",
     "shell.execute_reply": "2022-07-02T00:51:37.286646Z"
    },
    "papermill": {
     "duration": 0.031291,
     "end_time": "2022-07-02T00:51:37.290840",
     "exception": false,
     "start_time": "2022-07-02T00:51:37.259549",
     "status": "completed"
    },
    "tags": []
   },
   "outputs": [
    {
     "name": "stdout",
     "output_type": "stream",
     "text": [
      "Age         177\n",
      "Cabin       687\n",
      "Embarked      2\n",
      "dtype: int64\n"
     ]
    }
   ],
   "source": [
    "missing_vals = train.isna().sum()\n",
    "print(missing_vals[missing_vals > 0])"
   ]
  },
  {
   "cell_type": "code",
   "execution_count": 12,
   "id": "c30e2be5",
   "metadata": {
    "execution": {
     "iopub.execute_input": "2022-07-02T00:51:37.316963Z",
     "iopub.status.busy": "2022-07-02T00:51:37.316483Z",
     "iopub.status.idle": "2022-07-02T00:51:37.338712Z",
     "shell.execute_reply": "2022-07-02T00:51:37.337316Z"
    },
    "papermill": {
     "duration": 0.039069,
     "end_time": "2022-07-02T00:51:37.341657",
     "exception": false,
     "start_time": "2022-07-02T00:51:37.302588",
     "status": "completed"
    },
    "tags": []
   },
   "outputs": [],
   "source": [
    "## Separate Categorical and Numerical Features\n",
    "cat_features = list(train.select_dtypes(include=[\"category\", \"object\"]).columns)\n",
    "num_features = list(test.select_dtypes(include=[\"number\"]).columns)"
   ]
  },
  {
   "cell_type": "markdown",
   "id": "b3914c24",
   "metadata": {
    "papermill": {
     "duration": 0.011135,
     "end_time": "2022-07-02T00:51:37.365411",
     "exception": false,
     "start_time": "2022-07-02T00:51:37.354276",
     "status": "completed"
    },
    "tags": []
   },
   "source": [
    "### Impute Missing Categorical Features"
   ]
  },
  {
   "cell_type": "code",
   "execution_count": 13,
   "id": "fad00aab",
   "metadata": {
    "execution": {
     "iopub.execute_input": "2022-07-02T00:51:37.392556Z",
     "iopub.status.busy": "2022-07-02T00:51:37.392044Z",
     "iopub.status.idle": "2022-07-02T00:51:37.580411Z",
     "shell.execute_reply": "2022-07-02T00:51:37.579044Z"
    },
    "papermill": {
     "duration": 0.206862,
     "end_time": "2022-07-02T00:51:37.583594",
     "exception": false,
     "start_time": "2022-07-02T00:51:37.376732",
     "status": "completed"
    },
    "tags": []
   },
   "outputs": [],
   "source": [
    "from sklearn.impute import SimpleImputer\n",
    "\n",
    "imputer = SimpleImputer(strategy=\"most_frequent\")\n",
    "\n",
    "train[cat_features] = imputer.fit_transform(train[cat_features])\n",
    "test[cat_features] = imputer.transform(test[cat_features])"
   ]
  },
  {
   "cell_type": "markdown",
   "id": "c6e4a8c5",
   "metadata": {
    "papermill": {
     "duration": 0.011369,
     "end_time": "2022-07-02T00:51:37.606630",
     "exception": false,
     "start_time": "2022-07-02T00:51:37.595261",
     "status": "completed"
    },
    "tags": []
   },
   "source": [
    "### Impute Missing Numerical Features"
   ]
  },
  {
   "cell_type": "code",
   "execution_count": 14,
   "id": "1cfce611",
   "metadata": {
    "execution": {
     "iopub.execute_input": "2022-07-02T00:51:37.632514Z",
     "iopub.status.busy": "2022-07-02T00:51:37.632010Z",
     "iopub.status.idle": "2022-07-02T00:51:37.656432Z",
     "shell.execute_reply": "2022-07-02T00:51:37.655192Z"
    },
    "papermill": {
     "duration": 0.0409,
     "end_time": "2022-07-02T00:51:37.659457",
     "exception": false,
     "start_time": "2022-07-02T00:51:37.618557",
     "status": "completed"
    },
    "tags": []
   },
   "outputs": [],
   "source": [
    "# imputer = SimpleImputer(strategy=\"mean\")\n",
    "imputer = SimpleImputer(strategy=\"median\")  # median is more robust to outliers\n",
    "\n",
    "train[num_features] = imputer.fit_transform(train[num_features])\n",
    "test[num_features] = imputer.transform(test[num_features])"
   ]
  },
  {
   "cell_type": "markdown",
   "id": "a251d431",
   "metadata": {
    "papermill": {
     "duration": 0.011669,
     "end_time": "2022-07-02T00:51:37.683145",
     "exception": false,
     "start_time": "2022-07-02T00:51:37.671476",
     "status": "completed"
    },
    "tags": []
   },
   "source": [
    "## Verify No Missing Data"
   ]
  },
  {
   "cell_type": "code",
   "execution_count": 15,
   "id": "80b5274c",
   "metadata": {
    "execution": {
     "iopub.execute_input": "2022-07-02T00:51:37.708233Z",
     "iopub.status.busy": "2022-07-02T00:51:37.707736Z",
     "iopub.status.idle": "2022-07-02T00:51:37.722778Z",
     "shell.execute_reply": "2022-07-02T00:51:37.721228Z"
    },
    "papermill": {
     "duration": 0.031209,
     "end_time": "2022-07-02T00:51:37.725605",
     "exception": false,
     "start_time": "2022-07-02T00:51:37.694396",
     "status": "completed"
    },
    "tags": []
   },
   "outputs": [
    {
     "name": "stdout",
     "output_type": "stream",
     "text": [
      "Series([], dtype: int64)\n"
     ]
    }
   ],
   "source": [
    "missing_vals = train.isna().sum()\n",
    "print(missing_vals[missing_vals > 0])"
   ]
  },
  {
   "cell_type": "markdown",
   "id": "97088d67",
   "metadata": {
    "papermill": {
     "duration": 0.011617,
     "end_time": "2022-07-02T00:51:37.749789",
     "exception": false,
     "start_time": "2022-07-02T00:51:37.738172",
     "status": "completed"
    },
    "tags": []
   },
   "source": [
    "<div style=\"background-color:rgba(128, 0, 128, 0.6);border-radius:5px;display:fill\"><h1 style=\"text-align: center;padding: 12px 0px 12px 0px;\">Encode Categorical Features</h1>\n",
    "</div>"
   ]
  },
  {
   "cell_type": "code",
   "execution_count": 16,
   "id": "b162beb8",
   "metadata": {
    "execution": {
     "iopub.execute_input": "2022-07-02T00:51:37.775197Z",
     "iopub.status.busy": "2022-07-02T00:51:37.774731Z",
     "iopub.status.idle": "2022-07-02T00:51:37.799237Z",
     "shell.execute_reply": "2022-07-02T00:51:37.797644Z"
    },
    "papermill": {
     "duration": 0.040517,
     "end_time": "2022-07-02T00:51:37.802037",
     "exception": false,
     "start_time": "2022-07-02T00:51:37.761520",
     "status": "completed"
    },
    "tags": []
   },
   "outputs": [],
   "source": [
    "train, test = label_encoder(train, test, cat_features)"
   ]
  },
  {
   "cell_type": "code",
   "execution_count": 17,
   "id": "4750913c",
   "metadata": {
    "execution": {
     "iopub.execute_input": "2022-07-02T00:51:37.828271Z",
     "iopub.status.busy": "2022-07-02T00:51:37.827770Z",
     "iopub.status.idle": "2022-07-02T00:51:37.844020Z",
     "shell.execute_reply": "2022-07-02T00:51:37.842697Z"
    },
    "papermill": {
     "duration": 0.033402,
     "end_time": "2022-07-02T00:51:37.847030",
     "exception": false,
     "start_time": "2022-07-02T00:51:37.813628",
     "status": "completed"
    },
    "tags": []
   },
   "outputs": [],
   "source": [
    "FEATURES = cat_features + num_features\n",
    "\n",
    "y = train[TARGET]\n",
    "X = train[FEATURES].copy()\n",
    "\n",
    "X_test = test[FEATURES].copy()"
   ]
  },
  {
   "cell_type": "code",
   "execution_count": 18,
   "id": "04eeb6ac",
   "metadata": {
    "execution": {
     "iopub.execute_input": "2022-07-02T00:51:37.873912Z",
     "iopub.status.busy": "2022-07-02T00:51:37.873459Z",
     "iopub.status.idle": "2022-07-02T00:51:37.894104Z",
     "shell.execute_reply": "2022-07-02T00:51:37.892990Z"
    },
    "papermill": {
     "duration": 0.036895,
     "end_time": "2022-07-02T00:51:37.896633",
     "exception": false,
     "start_time": "2022-07-02T00:51:37.859738",
     "status": "completed"
    },
    "tags": []
   },
   "outputs": [
    {
     "data": {
      "text/html": [
       "<div>\n",
       "<style scoped>\n",
       "    .dataframe tbody tr th:only-of-type {\n",
       "        vertical-align: middle;\n",
       "    }\n",
       "\n",
       "    .dataframe tbody tr th {\n",
       "        vertical-align: top;\n",
       "    }\n",
       "\n",
       "    .dataframe thead th {\n",
       "        text-align: right;\n",
       "    }\n",
       "</style>\n",
       "<table border=\"1\" class=\"dataframe\">\n",
       "  <thead>\n",
       "    <tr style=\"text-align: right;\">\n",
       "      <th></th>\n",
       "      <th>Name</th>\n",
       "      <th>Sex</th>\n",
       "      <th>Ticket</th>\n",
       "      <th>Cabin</th>\n",
       "      <th>Embarked</th>\n",
       "      <th>PassengerId</th>\n",
       "      <th>Pclass</th>\n",
       "      <th>Age</th>\n",
       "      <th>SibSp</th>\n",
       "      <th>Parch</th>\n",
       "      <th>Fare</th>\n",
       "    </tr>\n",
       "  </thead>\n",
       "  <tbody>\n",
       "    <tr>\n",
       "      <th>0</th>\n",
       "      <td>108</td>\n",
       "      <td>1</td>\n",
       "      <td>523</td>\n",
       "      <td>47</td>\n",
       "      <td>2</td>\n",
       "      <td>1.0</td>\n",
       "      <td>3.0</td>\n",
       "      <td>22.0</td>\n",
       "      <td>1.0</td>\n",
       "      <td>0.0</td>\n",
       "      <td>7.2500</td>\n",
       "    </tr>\n",
       "    <tr>\n",
       "      <th>1</th>\n",
       "      <td>190</td>\n",
       "      <td>0</td>\n",
       "      <td>596</td>\n",
       "      <td>81</td>\n",
       "      <td>0</td>\n",
       "      <td>2.0</td>\n",
       "      <td>1.0</td>\n",
       "      <td>38.0</td>\n",
       "      <td>1.0</td>\n",
       "      <td>0.0</td>\n",
       "      <td>71.2833</td>\n",
       "    </tr>\n",
       "    <tr>\n",
       "      <th>2</th>\n",
       "      <td>353</td>\n",
       "      <td>0</td>\n",
       "      <td>669</td>\n",
       "      <td>47</td>\n",
       "      <td>2</td>\n",
       "      <td>3.0</td>\n",
       "      <td>3.0</td>\n",
       "      <td>26.0</td>\n",
       "      <td>0.0</td>\n",
       "      <td>0.0</td>\n",
       "      <td>7.9250</td>\n",
       "    </tr>\n",
       "    <tr>\n",
       "      <th>3</th>\n",
       "      <td>272</td>\n",
       "      <td>0</td>\n",
       "      <td>49</td>\n",
       "      <td>55</td>\n",
       "      <td>2</td>\n",
       "      <td>4.0</td>\n",
       "      <td>1.0</td>\n",
       "      <td>35.0</td>\n",
       "      <td>1.0</td>\n",
       "      <td>0.0</td>\n",
       "      <td>53.1000</td>\n",
       "    </tr>\n",
       "    <tr>\n",
       "      <th>4</th>\n",
       "      <td>15</td>\n",
       "      <td>1</td>\n",
       "      <td>472</td>\n",
       "      <td>47</td>\n",
       "      <td>2</td>\n",
       "      <td>5.0</td>\n",
       "      <td>3.0</td>\n",
       "      <td>35.0</td>\n",
       "      <td>0.0</td>\n",
       "      <td>0.0</td>\n",
       "      <td>8.0500</td>\n",
       "    </tr>\n",
       "  </tbody>\n",
       "</table>\n",
       "</div>"
      ],
      "text/plain": [
       "   Name  Sex  Ticket  Cabin  Embarked  PassengerId  Pclass   Age  SibSp  \\\n",
       "0   108    1     523     47         2          1.0     3.0  22.0    1.0   \n",
       "1   190    0     596     81         0          2.0     1.0  38.0    1.0   \n",
       "2   353    0     669     47         2          3.0     3.0  26.0    0.0   \n",
       "3   272    0      49     55         2          4.0     1.0  35.0    1.0   \n",
       "4    15    1     472     47         2          5.0     3.0  35.0    0.0   \n",
       "\n",
       "   Parch     Fare  \n",
       "0    0.0   7.2500  \n",
       "1    0.0  71.2833  \n",
       "2    0.0   7.9250  \n",
       "3    0.0  53.1000  \n",
       "4    0.0   8.0500  "
      ]
     },
     "execution_count": 18,
     "metadata": {},
     "output_type": "execute_result"
    }
   ],
   "source": [
    "X.head()"
   ]
  },
  {
   "cell_type": "markdown",
   "id": "05ee3f52",
   "metadata": {
    "papermill": {
     "duration": 0.012219,
     "end_time": "2022-07-02T00:51:37.921561",
     "exception": false,
     "start_time": "2022-07-02T00:51:37.909342",
     "status": "completed"
    },
    "tags": []
   },
   "source": [
    "## Scale the Data"
   ]
  },
  {
   "cell_type": "code",
   "execution_count": 19,
   "id": "f6097dff",
   "metadata": {
    "execution": {
     "iopub.execute_input": "2022-07-02T00:51:37.949025Z",
     "iopub.status.busy": "2022-07-02T00:51:37.948578Z",
     "iopub.status.idle": "2022-07-02T00:51:37.968149Z",
     "shell.execute_reply": "2022-07-02T00:51:37.966352Z"
    },
    "papermill": {
     "duration": 0.036713,
     "end_time": "2022-07-02T00:51:37.971242",
     "exception": false,
     "start_time": "2022-07-02T00:51:37.934529",
     "status": "completed"
    },
    "tags": []
   },
   "outputs": [],
   "source": [
    "from sklearn.preprocessing import StandardScaler\n",
    "\n",
    "scaler = StandardScaler()\n",
    "\n",
    "X = scaler.fit(X).transform(X)\n",
    "X_test = scaler.transform(X_test)"
   ]
  },
  {
   "cell_type": "markdown",
   "id": "697550d2",
   "metadata": {
    "papermill": {
     "duration": 0.011325,
     "end_time": "2022-07-02T00:51:37.994035",
     "exception": false,
     "start_time": "2022-07-02T00:51:37.982710",
     "status": "completed"
    },
    "tags": []
   },
   "source": [
    "<div style=\"background-color:rgba(128, 0, 128, 0.6);border-radius:5px;display:fill\"><h1 style=\"text-align: center;padding: 12px 0px 12px 0px;\">Train Model with Train/Test Split</h1>\n",
    "</div>\n",
    "\n",
    "We split the training data so we can evaluate how well each model performs  We are saving 20% of the training data to validate the model(s)."
   ]
  },
  {
   "cell_type": "code",
   "execution_count": 20,
   "id": "1b00853a",
   "metadata": {
    "execution": {
     "iopub.execute_input": "2022-07-02T00:51:38.023076Z",
     "iopub.status.busy": "2022-07-02T00:51:38.022592Z",
     "iopub.status.idle": "2022-07-02T00:51:38.042520Z",
     "shell.execute_reply": "2022-07-02T00:51:38.040961Z"
    },
    "papermill": {
     "duration": 0.039047,
     "end_time": "2022-07-02T00:51:38.045388",
     "exception": false,
     "start_time": "2022-07-02T00:51:38.006341",
     "status": "completed"
    },
    "tags": []
   },
   "outputs": [
    {
     "data": {
      "text/plain": [
       "((712, 11), (712,), (179, 11), (179,))"
      ]
     },
     "execution_count": 20,
     "metadata": {},
     "output_type": "execute_result"
    }
   ],
   "source": [
    "from sklearn.model_selection import train_test_split\n",
    "\n",
    "X_train, X_valid, y_train, y_valid = train_test_split(\n",
    "    X,\n",
    "    y,\n",
    "    test_size=0.2,  # Save 20% for validation\n",
    "    random_state=42,  # Make the split deterministic\n",
    ")\n",
    "X_train.shape, y_train.shape, X_valid.shape, y_valid.shape"
   ]
  },
  {
   "cell_type": "markdown",
   "id": "cc90a0be",
   "metadata": {
    "papermill": {
     "duration": 0.012174,
     "end_time": "2022-07-02T00:51:38.069208",
     "exception": false,
     "start_time": "2022-07-02T00:51:38.057034",
     "status": "completed"
    },
    "tags": []
   },
   "source": [
    "<div style=\"background-color:rgba(128, 0, 128, 0.6);border-radius:5px;display:fill\"><h1 style=\"text-align: center;padding: 12px 0px 12px 0px;\">Create Models</h1>\n",
    "</div>"
   ]
  },
  {
   "cell_type": "code",
   "execution_count": 21,
   "id": "72875147",
   "metadata": {
    "execution": {
     "iopub.execute_input": "2022-07-02T00:51:38.097033Z",
     "iopub.status.busy": "2022-07-02T00:51:38.096015Z",
     "iopub.status.idle": "2022-07-02T00:51:38.117917Z",
     "shell.execute_reply": "2022-07-02T00:51:38.116443Z"
    },
    "papermill": {
     "duration": 0.039024,
     "end_time": "2022-07-02T00:51:38.120756",
     "exception": false,
     "start_time": "2022-07-02T00:51:38.081732",
     "status": "completed"
    },
    "tags": []
   },
   "outputs": [
    {
     "name": "stdout",
     "output_type": "stream",
     "text": [
      "Accuracy: 0.8101\n"
     ]
    }
   ],
   "source": [
    "from sklearn.linear_model import LogisticRegression, RidgeClassifier\n",
    "\n",
    "model = LogisticRegression(\n",
    "    solver=\"liblinear\",\n",
    "    #                             penalty=\"l1\",\n",
    "    random_state=42,\n",
    ")\n",
    "\n",
    "model.fit(X_train, y_train)\n",
    "valid_preds = model.predict(X_valid)\n",
    "show_scores(y_valid, valid_preds)"
   ]
  },
  {
   "cell_type": "code",
   "execution_count": 22,
   "id": "b807681f",
   "metadata": {
    "execution": {
     "iopub.execute_input": "2022-07-02T00:51:38.148356Z",
     "iopub.status.busy": "2022-07-02T00:51:38.147859Z",
     "iopub.status.idle": "2022-07-02T00:51:38.182254Z",
     "shell.execute_reply": "2022-07-02T00:51:38.180586Z"
    },
    "papermill": {
     "duration": 0.052538,
     "end_time": "2022-07-02T00:51:38.185254",
     "exception": false,
     "start_time": "2022-07-02T00:51:38.132716",
     "status": "completed"
    },
    "tags": []
   },
   "outputs": [
    {
     "name": "stdout",
     "output_type": "stream",
     "text": [
      "Accuracy: 0.7989\n"
     ]
    }
   ],
   "source": [
    "model = RidgeClassifier(alpha=0.5)\n",
    "model.fit(X_train, y_train)\n",
    "\n",
    "valid_preds = model.predict(X_valid)\n",
    "show_scores(y_valid, valid_preds)"
   ]
  },
  {
   "cell_type": "code",
   "execution_count": 23,
   "id": "2c111b28",
   "metadata": {
    "execution": {
     "iopub.execute_input": "2022-07-02T00:51:38.211270Z",
     "iopub.status.busy": "2022-07-02T00:51:38.210760Z",
     "iopub.status.idle": "2022-07-02T00:51:38.223249Z",
     "shell.execute_reply": "2022-07-02T00:51:38.221783Z"
    },
    "papermill": {
     "duration": 0.028749,
     "end_time": "2022-07-02T00:51:38.226001",
     "exception": false,
     "start_time": "2022-07-02T00:51:38.197252",
     "status": "completed"
    },
    "tags": []
   },
   "outputs": [
    {
     "data": {
      "text/plain": [
       "array([0, 0, 0, 0, 1])"
      ]
     },
     "execution_count": 23,
     "metadata": {},
     "output_type": "execute_result"
    }
   ],
   "source": [
    "test_preds = model.predict(X_test)\n",
    "\n",
    "test_preds[:5]"
   ]
  },
  {
   "cell_type": "code",
   "execution_count": 24,
   "id": "214b0cff",
   "metadata": {
    "execution": {
     "iopub.execute_input": "2022-07-02T00:51:38.255458Z",
     "iopub.status.busy": "2022-07-02T00:51:38.254931Z",
     "iopub.status.idle": "2022-07-02T00:51:39.979990Z",
     "shell.execute_reply": "2022-07-02T00:51:39.978307Z"
    },
    "papermill": {
     "duration": 1.744609,
     "end_time": "2022-07-02T00:51:39.983470",
     "exception": false,
     "start_time": "2022-07-02T00:51:38.238861",
     "status": "completed"
    },
    "tags": []
   },
   "outputs": [
    {
     "data": {
      "text/html": [
       "<style type='text/css'>\n",
       ".datatable table.frame { margin-bottom: 0; }\n",
       ".datatable table.frame thead { border-bottom: none; }\n",
       ".datatable table.frame tr.coltypes td {  color: #FFFFFF;  line-height: 6px;  padding: 0 0.5em;}\n",
       ".datatable .bool    { background: #DDDD99; }\n",
       ".datatable .object  { background: #565656; }\n",
       ".datatable .int     { background: #5D9E5D; }\n",
       ".datatable .float   { background: #4040CC; }\n",
       ".datatable .str     { background: #CC4040; }\n",
       ".datatable .time    { background: #40CC40; }\n",
       ".datatable .row_index {  background: var(--jp-border-color3);  border-right: 1px solid var(--jp-border-color0);  color: var(--jp-ui-font-color3);  font-size: 9px;}\n",
       ".datatable .frame tbody td { text-align: left; }\n",
       ".datatable .frame tr.coltypes .row_index {  background: var(--jp-border-color0);}\n",
       ".datatable th:nth-child(2) { padding-left: 12px; }\n",
       ".datatable .hellipsis {  color: var(--jp-cell-editor-border-color);}\n",
       ".datatable .vellipsis {  background: var(--jp-layout-color0);  color: var(--jp-cell-editor-border-color);}\n",
       ".datatable .na {  color: var(--jp-cell-editor-border-color);  font-size: 80%;}\n",
       ".datatable .sp {  opacity: 0.25;}\n",
       ".datatable .footer { font-size: 9px; }\n",
       ".datatable .frame_dimensions {  background: var(--jp-border-color3);  border-top: 1px solid var(--jp-border-color0);  color: var(--jp-ui-font-color3);  display: inline-block;  opacity: 0.6;  padding: 1px 10px 1px 5px;}\n",
       "</style>\n"
      ],
      "text/plain": [
       "<IPython.core.display.HTML object>"
      ]
     },
     "metadata": {},
     "output_type": "display_data"
    }
   ],
   "source": [
    "from sklearn.ensemble import RandomForestClassifier\n",
    "from sklearn.svm import SVC\n",
    "import xgboost as xgb\n",
    "import catboost as cat\n",
    "import lightgbm as lgb\n",
    "\n",
    "rf_clf = RandomForestClassifier()\n",
    "xgb_clf = xgb.XGBClassifier(n_estimators=1000, eta=0.01, max_depth=8)\n",
    "cat_clf = cat.CatBoostClassifier(n_estimators=1000, eta=0.01, max_depth=8, verbose=0)\n",
    "lgb_clf = lgb.LGBMClassifier(\n",
    "    n_estimators=10_000, objective=\"regression\", learning_rate=0.01, max_depth=8\n",
    ")\n",
    "\n",
    "svc_clf = SVC()\n",
    "\n",
    "ridge_clf = RidgeClassifier(alpha=0.5)\n",
    "\n",
    "lr_clf = LogisticRegression(\n",
    "    solver=\"liblinear\",\n",
    "    #                             penalty=\"l1\",\n",
    "    random_state=42,\n",
    ")"
   ]
  },
  {
   "cell_type": "markdown",
   "id": "954b9218",
   "metadata": {
    "papermill": {
     "duration": 0.013702,
     "end_time": "2022-07-02T00:51:40.009457",
     "exception": false,
     "start_time": "2022-07-02T00:51:39.995755",
     "status": "completed"
    },
    "tags": []
   },
   "source": [
    "### Hard Voting"
   ]
  },
  {
   "cell_type": "code",
   "execution_count": 25,
   "id": "6ab28dec",
   "metadata": {
    "execution": {
     "iopub.execute_input": "2022-07-02T00:51:40.037934Z",
     "iopub.status.busy": "2022-07-02T00:51:40.037430Z",
     "iopub.status.idle": "2022-07-02T00:51:55.181223Z",
     "shell.execute_reply": "2022-07-02T00:51:55.179689Z"
    },
    "papermill": {
     "duration": 15.162811,
     "end_time": "2022-07-02T00:51:55.185314",
     "exception": false,
     "start_time": "2022-07-02T00:51:40.022503",
     "status": "completed"
    },
    "tags": []
   },
   "outputs": [
    {
     "name": "stdout",
     "output_type": "stream",
     "text": [
      "Accuracy: 0.8212\n"
     ]
    }
   ],
   "source": [
    "from sklearn.ensemble import VotingClassifier\n",
    "\n",
    "voting_clf = VotingClassifier(\n",
    "    estimators=[(\"lr\", lr_clf), (\"ridge\", ridge_clf), (\"rf\", rf_clf), (\"svc\", svc_clf),\n",
    "               ('xgb_clf', xgb_clf), ('cat_clf',cat_clf), ('lgb_clf',lgb_clf)],\n",
    "    voting=\"hard\",\n",
    ")\n",
    "\n",
    "voting_clf.fit(X_train, y_train)\n",
    "\n",
    "valid_preds = voting_clf.predict(X_valid)\n",
    "show_scores(y_valid, valid_preds)"
   ]
  },
  {
   "cell_type": "code",
   "execution_count": 26,
   "id": "1dd26eee",
   "metadata": {
    "execution": {
     "iopub.execute_input": "2022-07-02T00:51:55.217430Z",
     "iopub.status.busy": "2022-07-02T00:51:55.216907Z",
     "iopub.status.idle": "2022-07-02T00:51:55.625837Z",
     "shell.execute_reply": "2022-07-02T00:51:55.624402Z"
    },
    "papermill": {
     "duration": 0.428186,
     "end_time": "2022-07-02T00:51:55.628690",
     "exception": false,
     "start_time": "2022-07-02T00:51:55.200504",
     "status": "completed"
    },
    "tags": []
   },
   "outputs": [
    {
     "data": {
      "text/html": [
       "<div>\n",
       "<style scoped>\n",
       "    .dataframe tbody tr th:only-of-type {\n",
       "        vertical-align: middle;\n",
       "    }\n",
       "\n",
       "    .dataframe tbody tr th {\n",
       "        vertical-align: top;\n",
       "    }\n",
       "\n",
       "    .dataframe thead th {\n",
       "        text-align: right;\n",
       "    }\n",
       "</style>\n",
       "<table border=\"1\" class=\"dataframe\">\n",
       "  <thead>\n",
       "    <tr style=\"text-align: right;\">\n",
       "      <th></th>\n",
       "      <th>PassengerId</th>\n",
       "      <th>Survived</th>\n",
       "    </tr>\n",
       "  </thead>\n",
       "  <tbody>\n",
       "    <tr>\n",
       "      <th>0</th>\n",
       "      <td>892</td>\n",
       "      <td>0</td>\n",
       "    </tr>\n",
       "    <tr>\n",
       "      <th>1</th>\n",
       "      <td>893</td>\n",
       "      <td>0</td>\n",
       "    </tr>\n",
       "    <tr>\n",
       "      <th>2</th>\n",
       "      <td>894</td>\n",
       "      <td>0</td>\n",
       "    </tr>\n",
       "    <tr>\n",
       "      <th>3</th>\n",
       "      <td>895</td>\n",
       "      <td>0</td>\n",
       "    </tr>\n",
       "    <tr>\n",
       "      <th>4</th>\n",
       "      <td>896</td>\n",
       "      <td>1</td>\n",
       "    </tr>\n",
       "  </tbody>\n",
       "</table>\n",
       "</div>"
      ],
      "text/plain": [
       "   PassengerId  Survived\n",
       "0          892         0\n",
       "1          893         0\n",
       "2          894         0\n",
       "3          895         0\n",
       "4          896         1"
      ]
     },
     "execution_count": 26,
     "metadata": {},
     "output_type": "execute_result"
    }
   ],
   "source": [
    "test_preds = voting_clf.predict(X_test)\n",
    "\n",
    "create_submission(\"\", TARGET, test_preds)"
   ]
  },
  {
   "cell_type": "code",
   "execution_count": 27,
   "id": "2edda3fe",
   "metadata": {
    "execution": {
     "iopub.execute_input": "2022-07-02T00:51:55.657140Z",
     "iopub.status.busy": "2022-07-02T00:51:55.655679Z",
     "iopub.status.idle": "2022-07-02T00:51:55.969480Z",
     "shell.execute_reply": "2022-07-02T00:51:55.967701Z"
    },
    "papermill": {
     "duration": 0.330847,
     "end_time": "2022-07-02T00:51:55.972323",
     "exception": false,
     "start_time": "2022-07-02T00:51:55.641476",
     "status": "completed"
    },
    "tags": []
   },
   "outputs": [
    {
     "name": "stdout",
     "output_type": "stream",
     "text": [
      "LogisticRegression 0.8100558659217877\n",
      "RidgeClassifier 0.7988826815642458\n",
      "RandomForestClassifier 0.8379888268156425\n"
     ]
    }
   ],
   "source": [
    "for clf in (lr_clf, ridge_clf, rf_clf):\n",
    "    clf.fit(X_train, y_train)\n",
    "    valid_preds = clf.predict(X_valid)\n",
    "    print(clf.__class__.__name__, accuracy_score(y_valid, valid_preds))"
   ]
  },
  {
   "cell_type": "markdown",
   "id": "4e0dc2ad",
   "metadata": {
    "papermill": {
     "duration": 0.012297,
     "end_time": "2022-07-02T00:51:55.997493",
     "exception": false,
     "start_time": "2022-07-02T00:51:55.985196",
     "status": "completed"
    },
    "tags": []
   },
   "source": [
    "### Soft Voting"
   ]
  },
  {
   "cell_type": "code",
   "execution_count": null,
   "id": "f5fc1c32",
   "metadata": {
    "papermill": {
     "duration": 0.013981,
     "end_time": "2022-07-02T00:51:56.025762",
     "exception": false,
     "start_time": "2022-07-02T00:51:56.011781",
     "status": "completed"
    },
    "tags": []
   },
   "outputs": [],
   "source": []
  }
 ],
 "metadata": {
  "kernelspec": {
   "display_name": "Python 3",
   "language": "python",
   "name": "python3"
  },
  "language_info": {
   "codemirror_mode": {
    "name": "ipython",
    "version": 3
   },
   "file_extension": ".py",
   "mimetype": "text/x-python",
   "name": "python",
   "nbconvert_exporter": "python",
   "pygments_lexer": "ipython3",
   "version": "3.7.12"
  },
  "papermill": {
   "default_parameters": {},
   "duration": 54.01977,
   "end_time": "2022-07-02T00:51:57.367244",
   "environment_variables": {},
   "exception": null,
   "input_path": "__notebook__.ipynb",
   "output_path": "__notebook__.ipynb",
   "parameters": {},
   "start_time": "2022-07-02T00:51:03.347474",
   "version": "2.3.4"
  }
 },
 "nbformat": 4,
 "nbformat_minor": 5
}
