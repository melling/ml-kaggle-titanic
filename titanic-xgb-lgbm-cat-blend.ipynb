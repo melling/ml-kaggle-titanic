{
 "cells": [
  {
   "cell_type": "markdown",
   "id": "bd5fc26f",
   "metadata": {
    "papermill": {
     "duration": 0.017236,
     "end_time": "2022-07-26T21:45:13.721007",
     "exception": false,
     "start_time": "2022-07-26T21:45:13.703771",
     "status": "completed"
    },
    "tags": []
   },
   "source": [
    "<div style=\"background-color:rgba(255, 215, 0, 0.6);border-radius:5px;display:fill\">\n",
    "    <h1 style=\"text-align: center;padding: 12px 0px 12px 0px;\">🚢 Titanic: XGBoost + Optuna</h1>\n",
    "</div>\n",
    "<img src=\"https://www.seekpng.com/png/full/200-2002376_predicting-titanic-survivors-old-photos-of-the-titanic.png\" alt=\"Titanic\" width=\"300\"/>\n",
    "\n"
   ]
  },
  {
   "cell_type": "markdown",
   "id": "8a32acf0",
   "metadata": {
    "papermill": {
     "duration": 0.015515,
     "end_time": "2022-07-26T21:45:13.752581",
     "exception": false,
     "start_time": "2022-07-26T21:45:13.737066",
     "status": "completed"
    },
    "tags": []
   },
   "source": [
    "# Understanding the Titanic Data\n",
    "\n",
    "## Target - What we want to predict\n",
    "\n",
    "For the Titantic dataset the target is:`Survived`\n",
    "\n",
    "## Features\n",
    "\n",
    "- `Pclass` - Ticket class (1st,2nd,3rd)\n",
    "- `Name` - Full name\n",
    "- `Sex` - Gender\n",
    "- `Age` - Passenger's age\n",
    "- `SibSp` - # of siblings / spouses aboard the Titanic\n",
    "- `Parch` - # of parents / children aboard the Titanic\n",
    "- `Ticket` - Ticket number\n",
    "- `Fare` - What the passenger paid for a ticket\n",
    "- `Cabin` - Cabin number\n",
    "- `Embarked` - C = Cherbourg, Q = Queenstown, S = Southampton\n",
    "\n",
    "## Evaluation Metric\n",
    "\n",
    "$Acurracy = \\frac{True Positives (TP) + True Negatives (TN)}{True Positives (TP) + True Negatives (TN) + False Positives(FP) + False Negatives(FN)}$\n",
    "\n",
    "- https://en.wikipedia.org/wiki/Accuracy_and_precision#In_binary_classification\n",
    "\n",
    "Percentage of passengers you correctly predict.  In other words, accurately predict who survived and who did not.\n",
    "\n",
    "- https://developers.google.com/machine-learning/crash-course/classification/accuracy\n",
    "\n"
   ]
  },
  {
   "cell_type": "markdown",
   "id": "b5af723d",
   "metadata": {
    "papermill": {
     "duration": 0.017819,
     "end_time": "2022-07-26T21:45:13.786335",
     "exception": false,
     "start_time": "2022-07-26T21:45:13.768516",
     "status": "completed"
    },
    "tags": []
   },
   "source": [
    "<div style=\"background-color:rgba(255, 215, 0, 0.6);border-radius:5px;display:fill\"><h1 style=\"text-align: center;padding: 12px 0px 12px 0px;\">Import Libraries</h1>\n",
    "</div>"
   ]
  },
  {
   "cell_type": "code",
   "execution_count": 1,
   "id": "c57e6330",
   "metadata": {
    "execution": {
     "iopub.execute_input": "2022-07-26T21:45:13.822562Z",
     "iopub.status.busy": "2022-07-26T21:45:13.821812Z",
     "iopub.status.idle": "2022-07-26T21:45:16.630699Z",
     "shell.execute_reply": "2022-07-26T21:45:16.629420Z"
    },
    "papermill": {
     "duration": 2.830524,
     "end_time": "2022-07-26T21:45:16.633797",
     "exception": false,
     "start_time": "2022-07-26T21:45:13.803273",
     "status": "completed"
    },
    "tags": []
   },
   "outputs": [
    {
     "data": {
      "text/html": [
       "<style type='text/css'>\n",
       ".datatable table.frame { margin-bottom: 0; }\n",
       ".datatable table.frame thead { border-bottom: none; }\n",
       ".datatable table.frame tr.coltypes td {  color: #FFFFFF;  line-height: 6px;  padding: 0 0.5em;}\n",
       ".datatable .bool    { background: #DDDD99; }\n",
       ".datatable .object  { background: #565656; }\n",
       ".datatable .int     { background: #5D9E5D; }\n",
       ".datatable .float   { background: #4040CC; }\n",
       ".datatable .str     { background: #CC4040; }\n",
       ".datatable .time    { background: #40CC40; }\n",
       ".datatable .row_index {  background: var(--jp-border-color3);  border-right: 1px solid var(--jp-border-color0);  color: var(--jp-ui-font-color3);  font-size: 9px;}\n",
       ".datatable .frame tbody td { text-align: left; }\n",
       ".datatable .frame tr.coltypes .row_index {  background: var(--jp-border-color0);}\n",
       ".datatable th:nth-child(2) { padding-left: 12px; }\n",
       ".datatable .hellipsis {  color: var(--jp-cell-editor-border-color);}\n",
       ".datatable .vellipsis {  background: var(--jp-layout-color0);  color: var(--jp-cell-editor-border-color);}\n",
       ".datatable .na {  color: var(--jp-cell-editor-border-color);  font-size: 80%;}\n",
       ".datatable .sp {  opacity: 0.25;}\n",
       ".datatable .footer { font-size: 9px; }\n",
       ".datatable .frame_dimensions {  background: var(--jp-border-color3);  border-top: 1px solid var(--jp-border-color0);  color: var(--jp-ui-font-color3);  display: inline-block;  opacity: 0.6;  padding: 1px 10px 1px 5px;}\n",
       "</style>\n"
      ],
      "text/plain": [
       "<IPython.core.display.HTML object>"
      ]
     },
     "metadata": {},
     "output_type": "display_data"
    }
   ],
   "source": [
    "import os\n",
    "import time\n",
    "from pathlib import Path\n",
    "\n",
    "import pandas as pd\n",
    "import numpy as np\n",
    "\n",
    "from sklearn.model_selection import train_test_split\n",
    "from sklearn.impute import SimpleImputer\n",
    "from sklearn.model_selection import KFold, StratifiedKFold\n",
    "# from sklearn.metrics import accuracy_score, roc_auc_score\n",
    "from sklearn.metrics import classification_report, confusion_matrix\n",
    "\n",
    "import xgboost as xgb\n",
    "import catboost as cb\n",
    "import lightgbm as lgb\n",
    "\n",
    "# Visualization Libraries\n",
    "import matplotlib.pylab as plt\n",
    "import seaborn as sns\n",
    "\n",
    "%matplotlib inline\n",
    "\n",
    "from itertools import cycle\n",
    "\n",
    "plt.style.use(\"ggplot\")  # ggplot, fivethirtyeight\n",
    "color_pal = plt.rcParams[\"axes.prop_cycle\"].by_key()[\"color\"]\n",
    "color_cycle = cycle(plt.rcParams[\"axes.prop_cycle\"].by_key()[\"color\"])"
   ]
  },
  {
   "cell_type": "markdown",
   "id": "864ec82f",
   "metadata": {
    "papermill": {
     "duration": 0.015397,
     "end_time": "2022-07-26T21:45:16.666160",
     "exception": false,
     "start_time": "2022-07-26T21:45:16.650763",
     "status": "completed"
    },
    "tags": []
   },
   "source": [
    "<div style=\"background-color:rgba(255, 215, 0, 0.6);border-radius:5px;display:fill\"><h1 style=\"text-align: center;padding: 12px 0px 12px 0px;\">Configuration</h1>\n",
    "</div>"
   ]
  },
  {
   "cell_type": "code",
   "execution_count": 2,
   "id": "5ed25cff",
   "metadata": {
    "execution": {
     "iopub.execute_input": "2022-07-26T21:45:16.702323Z",
     "iopub.status.busy": "2022-07-26T21:45:16.701593Z",
     "iopub.status.idle": "2022-07-26T21:45:16.706482Z",
     "shell.execute_reply": "2022-07-26T21:45:16.705134Z"
    },
    "papermill": {
     "duration": 0.024845,
     "end_time": "2022-07-26T21:45:16.708946",
     "exception": false,
     "start_time": "2022-07-26T21:45:16.684101",
     "status": "completed"
    },
    "tags": []
   },
   "outputs": [],
   "source": [
    "# Change for every project\n",
    "# data_dir = \"../input/titanic\""
   ]
  },
  {
   "cell_type": "code",
   "execution_count": 3,
   "id": "dd0f0642",
   "metadata": {
    "execution": {
     "iopub.execute_input": "2022-07-26T21:45:16.742850Z",
     "iopub.status.busy": "2022-07-26T21:45:16.742084Z",
     "iopub.status.idle": "2022-07-26T21:45:16.748437Z",
     "shell.execute_reply": "2022-07-26T21:45:16.747577Z"
    },
    "papermill": {
     "duration": 0.025362,
     "end_time": "2022-07-26T21:45:16.750568",
     "exception": false,
     "start_time": "2022-07-26T21:45:16.725206",
     "status": "completed"
    },
    "tags": []
   },
   "outputs": [],
   "source": [
    "class Config:\n",
    "    path = \"../input/titanic\"\n",
    "    gpu = False\n",
    "    debug = False\n",
    "    optimize = False\n",
    "    model_type = \"tf\"  # (xgb, cat, lgbm, keras)\n",
    "    model_name = \"tf1\"\n",
    "    competition = \"titanic\"\n",
    "    seed = 42\n",
    "    N_ESTIMATORS = 100  # 100, 300, 2000, 5000 GBDT\n",
    "\n",
    "    batch_size = 64\n",
    "    epochs = 25\n",
    "    N_FOLDS = 5  # 5,10,15\n",
    "    SEED_LENGTH = 1  # 5,10"
   ]
  },
  {
   "cell_type": "markdown",
   "id": "cd17340e",
   "metadata": {
    "papermill": {
     "duration": 0.016162,
     "end_time": "2022-07-26T21:45:16.782074",
     "exception": false,
     "start_time": "2022-07-26T21:45:16.765912",
     "status": "completed"
    },
    "tags": []
   },
   "source": [
    "### The target/dependent variable in the dataset"
   ]
  },
  {
   "cell_type": "code",
   "execution_count": 4,
   "id": "19dac372",
   "metadata": {
    "execution": {
     "iopub.execute_input": "2022-07-26T21:45:16.815817Z",
     "iopub.status.busy": "2022-07-26T21:45:16.815162Z",
     "iopub.status.idle": "2022-07-26T21:45:16.820072Z",
     "shell.execute_reply": "2022-07-26T21:45:16.819017Z"
    },
    "papermill": {
     "duration": 0.023937,
     "end_time": "2022-07-26T21:45:16.822137",
     "exception": false,
     "start_time": "2022-07-26T21:45:16.798200",
     "status": "completed"
    },
    "tags": []
   },
   "outputs": [],
   "source": [
    "# Did the passenger survive?\n",
    "# 0 = No, 1 = Yes\n",
    "TARGET = \"Survived\""
   ]
  },
  {
   "cell_type": "markdown",
   "id": "26aeaad7",
   "metadata": {
    "papermill": {
     "duration": 0.015764,
     "end_time": "2022-07-26T21:45:16.854381",
     "exception": false,
     "start_time": "2022-07-26T21:45:16.838617",
     "status": "completed"
    },
    "tags": []
   },
   "source": [
    "<div style=\"background-color:rgba(255, 215, 0, 0.6);border-radius:5px;display:fill\"><h1 style=\"text-align: center;padding: 12px 0px 12px 0px;\">Library</h1>\n",
    "</div>\n",
    "\n",
    "Creating a few functions that we will reuse in each project."
   ]
  },
  {
   "cell_type": "code",
   "execution_count": 5,
   "id": "83b0822b",
   "metadata": {
    "execution": {
     "iopub.execute_input": "2022-07-26T21:45:16.887921Z",
     "iopub.status.busy": "2022-07-26T21:45:16.887154Z",
     "iopub.status.idle": "2022-07-26T21:45:16.893654Z",
     "shell.execute_reply": "2022-07-26T21:45:16.892895Z"
    },
    "papermill": {
     "duration": 0.025726,
     "end_time": "2022-07-26T21:45:16.895823",
     "exception": false,
     "start_time": "2022-07-26T21:45:16.870097",
     "status": "completed"
    },
    "tags": []
   },
   "outputs": [],
   "source": [
    "def read_data(path):\n",
    "    data_dir = Path(path)\n",
    "\n",
    "    train = pd.read_csv(data_dir / \"train.csv\")\n",
    "    test = pd.read_csv(data_dir / \"test.csv\")\n",
    "    submission_df = pd.read_csv(data_dir / \"gender_submission.csv\")\n",
    "\n",
    "    print(f\"train data: Rows={train.shape[0]}, Columns={train.shape[1]}\")\n",
    "    print(f\"test data : Rows={test.shape[0]}, Columns={test.shape[1]}\")\n",
    "    return train, test, submission_df"
   ]
  },
  {
   "cell_type": "code",
   "execution_count": 6,
   "id": "ede5b824",
   "metadata": {
    "execution": {
     "iopub.execute_input": "2022-07-26T21:45:16.929319Z",
     "iopub.status.busy": "2022-07-26T21:45:16.928917Z",
     "iopub.status.idle": "2022-07-26T21:45:16.934736Z",
     "shell.execute_reply": "2022-07-26T21:45:16.933619Z"
    },
    "papermill": {
     "duration": 0.025211,
     "end_time": "2022-07-26T21:45:16.937066",
     "exception": false,
     "start_time": "2022-07-26T21:45:16.911855",
     "status": "completed"
    },
    "tags": []
   },
   "outputs": [],
   "source": [
    "def create_submission(model_name, target, preds):\n",
    "    sample_submission[target] = preds\n",
    "\n",
    "    if len(model_name) > 0:\n",
    "        fname = \"submission_{model_name}.csv\"\n",
    "    else:\n",
    "        fname = \"submission.csv\"\n",
    "\n",
    "    sample_submission.to_csv(fname, index=False)\n",
    "\n",
    "    return sample_submission"
   ]
  },
  {
   "cell_type": "code",
   "execution_count": 7,
   "id": "11551550",
   "metadata": {
    "execution": {
     "iopub.execute_input": "2022-07-26T21:45:16.971444Z",
     "iopub.status.busy": "2022-07-26T21:45:16.970975Z",
     "iopub.status.idle": "2022-07-26T21:45:16.978521Z",
     "shell.execute_reply": "2022-07-26T21:45:16.977174Z"
    },
    "papermill": {
     "duration": 0.027637,
     "end_time": "2022-07-26T21:45:16.980855",
     "exception": false,
     "start_time": "2022-07-26T21:45:16.953218",
     "status": "completed"
    },
    "tags": []
   },
   "outputs": [],
   "source": [
    "from sklearn.metrics import accuracy_score, precision_score, recall_score, f1_score, roc_auc_score\n",
    "\n",
    "\n",
    "def show_scores(gt, yhat):\n",
    "    accuracy = accuracy_score(gt, yhat)\n",
    "    precision = precision_score(gt, yhat)\n",
    "    recall = recall_score(gt, yhat)\n",
    "    f1 = f1_score(gt, yhat)\n",
    "\n",
    "    print(f\"Accuracy: {accuracy:.4f}\")\n",
    "    print(f\"Precision: {precision:.4f}\")\n",
    "    print(f\"Recall: {recall:.4f}\")\n",
    "    print(f\"f1: {f1:.4f}\")"
   ]
  },
  {
   "cell_type": "code",
   "execution_count": 8,
   "id": "7b051db9",
   "metadata": {
    "execution": {
     "iopub.execute_input": "2022-07-26T21:45:17.015407Z",
     "iopub.status.busy": "2022-07-26T21:45:17.014741Z",
     "iopub.status.idle": "2022-07-26T21:45:17.021467Z",
     "shell.execute_reply": "2022-07-26T21:45:17.020691Z"
    },
    "papermill": {
     "duration": 0.026341,
     "end_time": "2022-07-26T21:45:17.023551",
     "exception": false,
     "start_time": "2022-07-26T21:45:16.997210",
     "status": "completed"
    },
    "tags": []
   },
   "outputs": [],
   "source": [
    "from sklearn.preprocessing import LabelEncoder\n",
    "\n",
    "\n",
    "def label_encoder(train, test, columns):\n",
    "    for col in columns:\n",
    "        train[col] = train[col].astype(str)\n",
    "        test[col] = test[col].astype(str)\n",
    "        train[col] = LabelEncoder().fit_transform(train[col])\n",
    "        test[col] = LabelEncoder().fit_transform(test[col])\n",
    "    return train, test"
   ]
  },
  {
   "cell_type": "code",
   "execution_count": 9,
   "id": "32d602c1",
   "metadata": {
    "execution": {
     "iopub.execute_input": "2022-07-26T21:45:17.056420Z",
     "iopub.status.busy": "2022-07-26T21:45:17.055797Z",
     "iopub.status.idle": "2022-07-26T21:45:17.062534Z",
     "shell.execute_reply": "2022-07-26T21:45:17.061817Z"
    },
    "papermill": {
     "duration": 0.025611,
     "end_time": "2022-07-26T21:45:17.064569",
     "exception": false,
     "start_time": "2022-07-26T21:45:17.038958",
     "status": "completed"
    },
    "tags": []
   },
   "outputs": [],
   "source": [
    "from sklearn.preprocessing import OneHotEncoder\n",
    "\n",
    "\n",
    "def one_hot_encoder(train, test, columns):\n",
    "    for col in columns:\n",
    "        train[col] = train[col].astype(str)\n",
    "        test[col] = test[col].astype(str)\n",
    "        train[col] = OneHotEncoder().fit_transform(train[col])\n",
    "        test[col] = OneHotEncoder().fit_transform(test[col])\n",
    "    return train, test"
   ]
  },
  {
   "cell_type": "code",
   "execution_count": 10,
   "id": "0d4079a7",
   "metadata": {
    "execution": {
     "iopub.execute_input": "2022-07-26T21:45:17.096538Z",
     "iopub.status.busy": "2022-07-26T21:45:17.095891Z",
     "iopub.status.idle": "2022-07-26T21:45:17.101065Z",
     "shell.execute_reply": "2022-07-26T21:45:17.100319Z"
    },
    "papermill": {
     "duration": 0.023764,
     "end_time": "2022-07-26T21:45:17.103240",
     "exception": false,
     "start_time": "2022-07-26T21:45:17.079476",
     "status": "completed"
    },
    "tags": []
   },
   "outputs": [],
   "source": [
    "def show_missing_features(df):\n",
    "    missing_vals = df.isna().sum()\n",
    "    print(missing_vals[missing_vals > 0])"
   ]
  },
  {
   "cell_type": "code",
   "execution_count": 11,
   "id": "3f36e225",
   "metadata": {
    "execution": {
     "iopub.execute_input": "2022-07-26T21:45:17.135965Z",
     "iopub.status.busy": "2022-07-26T21:45:17.135582Z",
     "iopub.status.idle": "2022-07-26T21:45:17.143516Z",
     "shell.execute_reply": "2022-07-26T21:45:17.142302Z"
    },
    "papermill": {
     "duration": 0.027092,
     "end_time": "2022-07-26T21:45:17.145721",
     "exception": false,
     "start_time": "2022-07-26T21:45:17.118629",
     "status": "completed"
    },
    "tags": []
   },
   "outputs": [],
   "source": [
    "def create_folds(df, TARGET, n_folds=5, seed=42):\n",
    "    print(f\"TARGET={TARGET}, n_folds={n_folds}, seed={seed}\")\n",
    "    df[\"fold\"] = -1\n",
    "\n",
    "    kf = StratifiedKFold(n_splits=n_folds, shuffle=True, random_state=seed)\n",
    "    # kf = GroupKFold(n_splits=Config.N_FOLDS)\n",
    "\n",
    "    for fold, (train_idx, valid_idx) in enumerate(kf.split(df, df[TARGET])):\n",
    "        df.loc[valid_idx, \"fold\"] = fold\n",
    "\n",
    "    # df.to_csv(f\"train_fold{num_folds}.csv\", index=False)\n",
    "    return df"
   ]
  },
  {
   "cell_type": "code",
   "execution_count": 12,
   "id": "e90bd01f",
   "metadata": {
    "execution": {
     "iopub.execute_input": "2022-07-26T21:45:17.180411Z",
     "iopub.status.busy": "2022-07-26T21:45:17.179948Z",
     "iopub.status.idle": "2022-07-26T21:45:17.185800Z",
     "shell.execute_reply": "2022-07-26T21:45:17.184484Z"
    },
    "papermill": {
     "duration": 0.026068,
     "end_time": "2022-07-26T21:45:17.188088",
     "exception": false,
     "start_time": "2022-07-26T21:45:17.162020",
     "status": "completed"
    },
    "tags": []
   },
   "outputs": [],
   "source": [
    "# Save OOF Results\n",
    "if not os.path.exists(\"results\"):\n",
    "    os.makedirs(\"results\")"
   ]
  },
  {
   "cell_type": "markdown",
   "id": "c03586d0",
   "metadata": {
    "papermill": {
     "duration": 0.014953,
     "end_time": "2022-07-26T21:45:17.219201",
     "exception": false,
     "start_time": "2022-07-26T21:45:17.204248",
     "status": "completed"
    },
    "tags": []
   },
   "source": [
    "<div style=\"background-color:rgba(255, 215, 0, 0.6);border-radius:5px;display:fill\"><h1 style=\"text-align: center;padding: 12px 0px 12px 0px;\">Load Train/Test Data</h1>\n",
    "</div>\n",
    "\n",
    "## Load the following files\n",
    "\n",
    " - train.csv - Data used to build our machine learning model\n",
    " - test.csv - Data used to build our machine learning model. Does not contain the `Suvived` target variable\n",
    " - gender_submission.csv - A file in the proper format to submit test predictions"
   ]
  },
  {
   "cell_type": "code",
   "execution_count": 13,
   "id": "dc366311",
   "metadata": {
    "execution": {
     "iopub.execute_input": "2022-07-26T21:45:17.251716Z",
     "iopub.status.busy": "2022-07-26T21:45:17.250455Z",
     "iopub.status.idle": "2022-07-26T21:45:17.283949Z",
     "shell.execute_reply": "2022-07-26T21:45:17.283127Z"
    },
    "papermill": {
     "duration": 0.052398,
     "end_time": "2022-07-26T21:45:17.286574",
     "exception": false,
     "start_time": "2022-07-26T21:45:17.234176",
     "status": "completed"
    },
    "tags": []
   },
   "outputs": [
    {
     "name": "stdout",
     "output_type": "stream",
     "text": [
      "train data: Rows=891, Columns=12\n",
      "test data : Rows=418, Columns=11\n"
     ]
    }
   ],
   "source": [
    "train, test, sample_submission = read_data(Config.path)"
   ]
  },
  {
   "cell_type": "code",
   "execution_count": 14,
   "id": "54092585",
   "metadata": {
    "execution": {
     "iopub.execute_input": "2022-07-26T21:45:17.321145Z",
     "iopub.status.busy": "2022-07-26T21:45:17.320787Z",
     "iopub.status.idle": "2022-07-26T21:45:17.346499Z",
     "shell.execute_reply": "2022-07-26T21:45:17.345131Z"
    },
    "papermill": {
     "duration": 0.046742,
     "end_time": "2022-07-26T21:45:17.349372",
     "exception": false,
     "start_time": "2022-07-26T21:45:17.302630",
     "status": "completed"
    },
    "tags": []
   },
   "outputs": [
    {
     "data": {
      "text/html": [
       "<div>\n",
       "<style scoped>\n",
       "    .dataframe tbody tr th:only-of-type {\n",
       "        vertical-align: middle;\n",
       "    }\n",
       "\n",
       "    .dataframe tbody tr th {\n",
       "        vertical-align: top;\n",
       "    }\n",
       "\n",
       "    .dataframe thead th {\n",
       "        text-align: right;\n",
       "    }\n",
       "</style>\n",
       "<table border=\"1\" class=\"dataframe\">\n",
       "  <thead>\n",
       "    <tr style=\"text-align: right;\">\n",
       "      <th></th>\n",
       "      <th>PassengerId</th>\n",
       "      <th>Survived</th>\n",
       "      <th>Pclass</th>\n",
       "      <th>Name</th>\n",
       "      <th>Sex</th>\n",
       "      <th>Age</th>\n",
       "      <th>SibSp</th>\n",
       "      <th>Parch</th>\n",
       "      <th>Ticket</th>\n",
       "      <th>Fare</th>\n",
       "      <th>Cabin</th>\n",
       "      <th>Embarked</th>\n",
       "    </tr>\n",
       "  </thead>\n",
       "  <tbody>\n",
       "    <tr>\n",
       "      <th>0</th>\n",
       "      <td>1</td>\n",
       "      <td>0</td>\n",
       "      <td>3</td>\n",
       "      <td>Braund, Mr. Owen Harris</td>\n",
       "      <td>male</td>\n",
       "      <td>22.0</td>\n",
       "      <td>1</td>\n",
       "      <td>0</td>\n",
       "      <td>A/5 21171</td>\n",
       "      <td>7.2500</td>\n",
       "      <td>NaN</td>\n",
       "      <td>S</td>\n",
       "    </tr>\n",
       "    <tr>\n",
       "      <th>1</th>\n",
       "      <td>2</td>\n",
       "      <td>1</td>\n",
       "      <td>1</td>\n",
       "      <td>Cumings, Mrs. John Bradley (Florence Briggs Th...</td>\n",
       "      <td>female</td>\n",
       "      <td>38.0</td>\n",
       "      <td>1</td>\n",
       "      <td>0</td>\n",
       "      <td>PC 17599</td>\n",
       "      <td>71.2833</td>\n",
       "      <td>C85</td>\n",
       "      <td>C</td>\n",
       "    </tr>\n",
       "    <tr>\n",
       "      <th>2</th>\n",
       "      <td>3</td>\n",
       "      <td>1</td>\n",
       "      <td>3</td>\n",
       "      <td>Heikkinen, Miss. Laina</td>\n",
       "      <td>female</td>\n",
       "      <td>26.0</td>\n",
       "      <td>0</td>\n",
       "      <td>0</td>\n",
       "      <td>STON/O2. 3101282</td>\n",
       "      <td>7.9250</td>\n",
       "      <td>NaN</td>\n",
       "      <td>S</td>\n",
       "    </tr>\n",
       "    <tr>\n",
       "      <th>3</th>\n",
       "      <td>4</td>\n",
       "      <td>1</td>\n",
       "      <td>1</td>\n",
       "      <td>Futrelle, Mrs. Jacques Heath (Lily May Peel)</td>\n",
       "      <td>female</td>\n",
       "      <td>35.0</td>\n",
       "      <td>1</td>\n",
       "      <td>0</td>\n",
       "      <td>113803</td>\n",
       "      <td>53.1000</td>\n",
       "      <td>C123</td>\n",
       "      <td>S</td>\n",
       "    </tr>\n",
       "    <tr>\n",
       "      <th>4</th>\n",
       "      <td>5</td>\n",
       "      <td>0</td>\n",
       "      <td>3</td>\n",
       "      <td>Allen, Mr. William Henry</td>\n",
       "      <td>male</td>\n",
       "      <td>35.0</td>\n",
       "      <td>0</td>\n",
       "      <td>0</td>\n",
       "      <td>373450</td>\n",
       "      <td>8.0500</td>\n",
       "      <td>NaN</td>\n",
       "      <td>S</td>\n",
       "    </tr>\n",
       "  </tbody>\n",
       "</table>\n",
       "</div>"
      ],
      "text/plain": [
       "   PassengerId  Survived  Pclass  \\\n",
       "0            1         0       3   \n",
       "1            2         1       1   \n",
       "2            3         1       3   \n",
       "3            4         1       1   \n",
       "4            5         0       3   \n",
       "\n",
       "                                                Name     Sex   Age  SibSp  \\\n",
       "0                            Braund, Mr. Owen Harris    male  22.0      1   \n",
       "1  Cumings, Mrs. John Bradley (Florence Briggs Th...  female  38.0      1   \n",
       "2                             Heikkinen, Miss. Laina  female  26.0      0   \n",
       "3       Futrelle, Mrs. Jacques Heath (Lily May Peel)  female  35.0      1   \n",
       "4                           Allen, Mr. William Henry    male  35.0      0   \n",
       "\n",
       "   Parch            Ticket     Fare Cabin Embarked  \n",
       "0      0         A/5 21171   7.2500   NaN        S  \n",
       "1      0          PC 17599  71.2833   C85        C  \n",
       "2      0  STON/O2. 3101282   7.9250   NaN        S  \n",
       "3      0            113803  53.1000  C123        S  \n",
       "4      0            373450   8.0500   NaN        S  "
      ]
     },
     "execution_count": 14,
     "metadata": {},
     "output_type": "execute_result"
    }
   ],
   "source": [
    "train.head()"
   ]
  },
  {
   "cell_type": "code",
   "execution_count": 15,
   "id": "65126ec2",
   "metadata": {
    "execution": {
     "iopub.execute_input": "2022-07-26T21:45:17.385538Z",
     "iopub.status.busy": "2022-07-26T21:45:17.384587Z",
     "iopub.status.idle": "2022-07-26T21:45:17.393769Z",
     "shell.execute_reply": "2022-07-26T21:45:17.392655Z"
    },
    "papermill": {
     "duration": 0.030216,
     "end_time": "2022-07-26T21:45:17.396127",
     "exception": false,
     "start_time": "2022-07-26T21:45:17.365911",
     "status": "completed"
    },
    "tags": []
   },
   "outputs": [
    {
     "data": {
      "text/plain": [
       "Index(['PassengerId', 'Survived', 'Pclass', 'Name', 'Sex', 'Age', 'SibSp',\n",
       "       'Parch', 'Ticket', 'Fare', 'Cabin', 'Embarked'],\n",
       "      dtype='object')"
      ]
     },
     "execution_count": 15,
     "metadata": {},
     "output_type": "execute_result"
    }
   ],
   "source": [
    "train.columns"
   ]
  },
  {
   "cell_type": "code",
   "execution_count": 16,
   "id": "9689dccf",
   "metadata": {
    "execution": {
     "iopub.execute_input": "2022-07-26T21:45:17.431795Z",
     "iopub.status.busy": "2022-07-26T21:45:17.431114Z",
     "iopub.status.idle": "2022-07-26T21:45:17.442955Z",
     "shell.execute_reply": "2022-07-26T21:45:17.441807Z"
    },
    "papermill": {
     "duration": 0.032378,
     "end_time": "2022-07-26T21:45:17.445135",
     "exception": false,
     "start_time": "2022-07-26T21:45:17.412757",
     "status": "completed"
    },
    "tags": []
   },
   "outputs": [],
   "source": [
    "train = train.drop(columns=[\"Name\", \"Ticket\", \"Cabin\"], axis=1).copy()\n",
    "# test = test.drop(columns=[\"PassengerId\"], axis=1).copy()"
   ]
  },
  {
   "cell_type": "markdown",
   "id": "45518965",
   "metadata": {
    "papermill": {
     "duration": 0.015373,
     "end_time": "2022-07-26T21:45:17.476585",
     "exception": false,
     "start_time": "2022-07-26T21:45:17.461212",
     "status": "completed"
    },
    "tags": []
   },
   "source": [
    "## Categorical/Numerical Variables"
   ]
  },
  {
   "cell_type": "code",
   "execution_count": 17,
   "id": "4391cf6b",
   "metadata": {
    "execution": {
     "iopub.execute_input": "2022-07-26T21:45:17.509645Z",
     "iopub.status.busy": "2022-07-26T21:45:17.509237Z",
     "iopub.status.idle": "2022-07-26T21:45:17.525360Z",
     "shell.execute_reply": "2022-07-26T21:45:17.524479Z"
    },
    "papermill": {
     "duration": 0.035004,
     "end_time": "2022-07-26T21:45:17.527391",
     "exception": false,
     "start_time": "2022-07-26T21:45:17.492387",
     "status": "completed"
    },
    "tags": []
   },
   "outputs": [
    {
     "data": {
      "text/plain": [
       "['Sex', 'Embarked', 'Pclass', 'Age', 'SibSp', 'Parch', 'Fare']"
      ]
     },
     "execution_count": 17,
     "metadata": {},
     "output_type": "execute_result"
    }
   ],
   "source": [
    "## Separate Categorical and Numerical Features\n",
    "cat_features = list(train.select_dtypes(include=[\"category\", \"object\"]).columns)\n",
    "num_features = list(test.select_dtypes(include=[\"number\"]).columns)\n",
    "num_features.remove(\"PassengerId\")\n",
    "\n",
    "FEATURES = cat_features + num_features\n",
    "FEATURES"
   ]
  },
  {
   "cell_type": "code",
   "execution_count": 18,
   "id": "e35966cf",
   "metadata": {
    "execution": {
     "iopub.execute_input": "2022-07-26T21:45:17.561460Z",
     "iopub.status.busy": "2022-07-26T21:45:17.560671Z",
     "iopub.status.idle": "2022-07-26T21:45:17.586271Z",
     "shell.execute_reply": "2022-07-26T21:45:17.585054Z"
    },
    "papermill": {
     "duration": 0.045672,
     "end_time": "2022-07-26T21:45:17.588956",
     "exception": false,
     "start_time": "2022-07-26T21:45:17.543284",
     "status": "completed"
    },
    "tags": []
   },
   "outputs": [],
   "source": [
    "from sklearn.impute import SimpleImputer\n",
    "\n",
    "# Categorical\n",
    "imputer = SimpleImputer(strategy=\"most_frequent\")\n",
    "\n",
    "train[cat_features] = imputer.fit_transform(train[cat_features])\n",
    "test[cat_features] = imputer.transform(test[cat_features])\n",
    "\n",
    "# Numerical\n",
    "\n",
    "# imputer = SimpleImputer(strategy=\"mean\")\n",
    "imputer = SimpleImputer(strategy=\"median\")  # median is more robust to outliers\n",
    "\n",
    "train[num_features] = imputer.fit_transform(train[num_features])\n",
    "test[num_features] = imputer.transform(test[num_features])"
   ]
  },
  {
   "cell_type": "markdown",
   "id": "7f28a3fd",
   "metadata": {
    "papermill": {
     "duration": 0.017065,
     "end_time": "2022-07-26T21:45:17.623255",
     "exception": false,
     "start_time": "2022-07-26T21:45:17.606190",
     "status": "completed"
    },
    "tags": []
   },
   "source": [
    "<div style=\"background-color:rgba(255, 215, 0, 0.6);border-radius:5px;display:fill\"><h1 style=\"text-align: center;padding: 12px 0px 12px 0px;\">Feature Engineering</h1>\n",
    "</div>\n",
    "\n",
    "- [Titanic - Advanced Feature Engineering Tutorial](https://www.kaggle.com/gunesevitan/titanic-advanced-feature-engineering-tutorial)\n",
    "- [Titanic Survival Predictions (Beginner)](https://www.kaggle.com/nadintamer/titanic-survival-predictions-beginner)\n",
    "- [Exploring Survival on the Titanic](https://www.kaggle.com/mrisdal/exploring-survival-on-the-titanic)"
   ]
  },
  {
   "cell_type": "code",
   "execution_count": 19,
   "id": "7d74359f",
   "metadata": {
    "execution": {
     "iopub.execute_input": "2022-07-26T21:45:17.659094Z",
     "iopub.status.busy": "2022-07-26T21:45:17.658483Z",
     "iopub.status.idle": "2022-07-26T21:45:17.663495Z",
     "shell.execute_reply": "2022-07-26T21:45:17.662151Z"
    },
    "papermill": {
     "duration": 0.025487,
     "end_time": "2022-07-26T21:45:17.665895",
     "exception": false,
     "start_time": "2022-07-26T21:45:17.640408",
     "status": "completed"
    },
    "tags": []
   },
   "outputs": [],
   "source": [
    "# FEATURES = [\"Pclass\", \"Sex\", \"Age\", \"SibSp\", \"Parch\", \"Embarked\"]"
   ]
  },
  {
   "cell_type": "code",
   "execution_count": 20,
   "id": "6a07cf9c",
   "metadata": {
    "execution": {
     "iopub.execute_input": "2022-07-26T21:45:17.700247Z",
     "iopub.status.busy": "2022-07-26T21:45:17.699885Z",
     "iopub.status.idle": "2022-07-26T21:45:17.717566Z",
     "shell.execute_reply": "2022-07-26T21:45:17.716347Z"
    },
    "papermill": {
     "duration": 0.037459,
     "end_time": "2022-07-26T21:45:17.719939",
     "exception": false,
     "start_time": "2022-07-26T21:45:17.682480",
     "status": "completed"
    },
    "tags": []
   },
   "outputs": [
    {
     "data": {
      "text/html": [
       "<div>\n",
       "<style scoped>\n",
       "    .dataframe tbody tr th:only-of-type {\n",
       "        vertical-align: middle;\n",
       "    }\n",
       "\n",
       "    .dataframe tbody tr th {\n",
       "        vertical-align: top;\n",
       "    }\n",
       "\n",
       "    .dataframe thead th {\n",
       "        text-align: right;\n",
       "    }\n",
       "</style>\n",
       "<table border=\"1\" class=\"dataframe\">\n",
       "  <thead>\n",
       "    <tr style=\"text-align: right;\">\n",
       "      <th></th>\n",
       "      <th>Sex</th>\n",
       "      <th>Embarked</th>\n",
       "      <th>Pclass</th>\n",
       "      <th>Age</th>\n",
       "      <th>SibSp</th>\n",
       "      <th>Parch</th>\n",
       "      <th>Fare</th>\n",
       "    </tr>\n",
       "  </thead>\n",
       "  <tbody>\n",
       "    <tr>\n",
       "      <th>0</th>\n",
       "      <td>male</td>\n",
       "      <td>S</td>\n",
       "      <td>3.0</td>\n",
       "      <td>22.0</td>\n",
       "      <td>1.0</td>\n",
       "      <td>0.0</td>\n",
       "      <td>7.2500</td>\n",
       "    </tr>\n",
       "    <tr>\n",
       "      <th>1</th>\n",
       "      <td>female</td>\n",
       "      <td>C</td>\n",
       "      <td>1.0</td>\n",
       "      <td>38.0</td>\n",
       "      <td>1.0</td>\n",
       "      <td>0.0</td>\n",
       "      <td>71.2833</td>\n",
       "    </tr>\n",
       "    <tr>\n",
       "      <th>2</th>\n",
       "      <td>female</td>\n",
       "      <td>S</td>\n",
       "      <td>3.0</td>\n",
       "      <td>26.0</td>\n",
       "      <td>0.0</td>\n",
       "      <td>0.0</td>\n",
       "      <td>7.9250</td>\n",
       "    </tr>\n",
       "    <tr>\n",
       "      <th>3</th>\n",
       "      <td>female</td>\n",
       "      <td>S</td>\n",
       "      <td>1.0</td>\n",
       "      <td>35.0</td>\n",
       "      <td>1.0</td>\n",
       "      <td>0.0</td>\n",
       "      <td>53.1000</td>\n",
       "    </tr>\n",
       "    <tr>\n",
       "      <th>4</th>\n",
       "      <td>male</td>\n",
       "      <td>S</td>\n",
       "      <td>3.0</td>\n",
       "      <td>35.0</td>\n",
       "      <td>0.0</td>\n",
       "      <td>0.0</td>\n",
       "      <td>8.0500</td>\n",
       "    </tr>\n",
       "  </tbody>\n",
       "</table>\n",
       "</div>"
      ],
      "text/plain": [
       "      Sex Embarked  Pclass   Age  SibSp  Parch     Fare\n",
       "0    male        S     3.0  22.0    1.0    0.0   7.2500\n",
       "1  female        C     1.0  38.0    1.0    0.0  71.2833\n",
       "2  female        S     3.0  26.0    0.0    0.0   7.9250\n",
       "3  female        S     1.0  35.0    1.0    0.0  53.1000\n",
       "4    male        S     3.0  35.0    0.0    0.0   8.0500"
      ]
     },
     "execution_count": 20,
     "metadata": {},
     "output_type": "execute_result"
    }
   ],
   "source": [
    "train[FEATURES].head()"
   ]
  },
  {
   "cell_type": "markdown",
   "id": "c9fea700",
   "metadata": {
    "papermill": {
     "duration": 0.016839,
     "end_time": "2022-07-26T21:45:17.753940",
     "exception": false,
     "start_time": "2022-07-26T21:45:17.737101",
     "status": "completed"
    },
    "tags": []
   },
   "source": [
    "# Extract Target and Drop Unused Columns"
   ]
  },
  {
   "cell_type": "code",
   "execution_count": 21,
   "id": "2c815124",
   "metadata": {
    "execution": {
     "iopub.execute_input": "2022-07-26T21:45:17.790701Z",
     "iopub.status.busy": "2022-07-26T21:45:17.789627Z",
     "iopub.status.idle": "2022-07-26T21:45:17.794630Z",
     "shell.execute_reply": "2022-07-26T21:45:17.793699Z"
    },
    "papermill": {
     "duration": 0.025585,
     "end_time": "2022-07-26T21:45:17.796968",
     "exception": false,
     "start_time": "2022-07-26T21:45:17.771383",
     "status": "completed"
    },
    "tags": []
   },
   "outputs": [],
   "source": [
    "# y = train[TARGET]\n",
    "\n",
    "# X = train_df.drop(columns=[\"PassengerId\", \"Survived\"], axis=1).copy()\n",
    "# X = train[FEATURES].copy()"
   ]
  },
  {
   "cell_type": "markdown",
   "id": "7c8ff0c7",
   "metadata": {
    "papermill": {
     "duration": 0.016215,
     "end_time": "2022-07-26T21:45:17.829818",
     "exception": false,
     "start_time": "2022-07-26T21:45:17.813603",
     "status": "completed"
    },
    "tags": []
   },
   "source": [
    "<div style=\"background-color:rgba(255, 215, 0, 0.6);border-radius:5px;display:fill\"><h1 style=\"text-align: center;padding: 12px 0px 12px 0px;\">Missing Values</h1>\n",
    "</div>\n",
    "\n",
    "We have 891 rows of training data. Age is the only feature, that we are using, with missing data.\n",
    "\n",
    "Note, handling missing data is an entire subject that should be studied in detail.  Kaggle offers a [course](https://www.kaggle.com/learn/data-cleaning)\n",
    "\n",
    "- [sklearn.impute.SimpleImputer](https://scikit-learn.org/stable/modules/impute.html)\n",
    "- https://scikit-learn.org/stable/modules/impute.html\n",
    "\n",
    "- [A Guide to Handling Missing values in Python](https://www.kaggle.com/parulpandey/a-guide-to-handling-missing-values-in-python)"
   ]
  },
  {
   "cell_type": "code",
   "execution_count": 22,
   "id": "d75e69b9",
   "metadata": {
    "execution": {
     "iopub.execute_input": "2022-07-26T21:45:17.864936Z",
     "iopub.status.busy": "2022-07-26T21:45:17.863725Z",
     "iopub.status.idle": "2022-07-26T21:45:17.872006Z",
     "shell.execute_reply": "2022-07-26T21:45:17.871091Z"
    },
    "papermill": {
     "duration": 0.028576,
     "end_time": "2022-07-26T21:45:17.874820",
     "exception": false,
     "start_time": "2022-07-26T21:45:17.846244",
     "status": "completed"
    },
    "tags": []
   },
   "outputs": [
    {
     "name": "stdout",
     "output_type": "stream",
     "text": [
      "Series([], dtype: int64)\n"
     ]
    }
   ],
   "source": [
    "show_missing_features(train)"
   ]
  },
  {
   "cell_type": "code",
   "execution_count": 23,
   "id": "f9d53173",
   "metadata": {
    "execution": {
     "iopub.execute_input": "2022-07-26T21:45:17.912611Z",
     "iopub.status.busy": "2022-07-26T21:45:17.911896Z",
     "iopub.status.idle": "2022-07-26T21:45:17.918176Z",
     "shell.execute_reply": "2022-07-26T21:45:17.917085Z"
    },
    "papermill": {
     "duration": 0.027953,
     "end_time": "2022-07-26T21:45:17.920838",
     "exception": false,
     "start_time": "2022-07-26T21:45:17.892885",
     "status": "completed"
    },
    "tags": []
   },
   "outputs": [
    {
     "name": "stdout",
     "output_type": "stream",
     "text": [
      "Number missing: 0\n"
     ]
    }
   ],
   "source": [
    "n = train[\"Age\"].isna().sum()\n",
    "print(f\"Number missing: {n}\")"
   ]
  },
  {
   "cell_type": "markdown",
   "id": "9ad524f1",
   "metadata": {
    "papermill": {
     "duration": 0.01645,
     "end_time": "2022-07-26T21:45:17.954208",
     "exception": false,
     "start_time": "2022-07-26T21:45:17.937758",
     "status": "completed"
    },
    "tags": []
   },
   "source": [
    "### Manual Imputation of Age"
   ]
  },
  {
   "cell_type": "code",
   "execution_count": 24,
   "id": "b1f74fb6",
   "metadata": {
    "execution": {
     "iopub.execute_input": "2022-07-26T21:45:17.989105Z",
     "iopub.status.busy": "2022-07-26T21:45:17.987999Z",
     "iopub.status.idle": "2022-07-26T21:45:17.995387Z",
     "shell.execute_reply": "2022-07-26T21:45:17.993974Z"
    },
    "papermill": {
     "duration": 0.027086,
     "end_time": "2022-07-26T21:45:17.997616",
     "exception": false,
     "start_time": "2022-07-26T21:45:17.970530",
     "status": "completed"
    },
    "tags": []
   },
   "outputs": [
    {
     "name": "stdout",
     "output_type": "stream",
     "text": [
      "Mean age of person on the Titanic: 29.36\n"
     ]
    }
   ],
   "source": [
    "# train_df[\"Age\"].fillna(train_df[\"Age\"].mean(), inplace = True)\n",
    "m = train[\"Age\"].mean()\n",
    "print(f\"Mean age of person on the Titanic: {m:0.2f}\")"
   ]
  },
  {
   "cell_type": "code",
   "execution_count": 25,
   "id": "37e8c7a8",
   "metadata": {
    "execution": {
     "iopub.execute_input": "2022-07-26T21:45:18.032673Z",
     "iopub.status.busy": "2022-07-26T21:45:18.031958Z",
     "iopub.status.idle": "2022-07-26T21:45:18.042438Z",
     "shell.execute_reply": "2022-07-26T21:45:18.041321Z"
    },
    "papermill": {
     "duration": 0.030537,
     "end_time": "2022-07-26T21:45:18.044852",
     "exception": false,
     "start_time": "2022-07-26T21:45:18.014315",
     "status": "completed"
    },
    "tags": []
   },
   "outputs": [],
   "source": [
    "train[\"Age\"].fillna(train[\"Age\"].median(skipna=True), inplace=True)\n",
    "train[\"Embarked\"].fillna(train[\"Embarked\"].value_counts().idxmax(), inplace=True)"
   ]
  },
  {
   "cell_type": "markdown",
   "id": "77bdbb79",
   "metadata": {
    "papermill": {
     "duration": 0.016846,
     "end_time": "2022-07-26T21:45:18.078670",
     "exception": false,
     "start_time": "2022-07-26T21:45:18.061824",
     "status": "completed"
    },
    "tags": []
   },
   "source": [
    "### Use SimpleImputer Function for Age\n",
    "\n",
    "Leaving the SimpleImputer code uncommented.  It should do nothing since we filled in the values above."
   ]
  },
  {
   "cell_type": "code",
   "execution_count": 26,
   "id": "aac485a6",
   "metadata": {
    "execution": {
     "iopub.execute_input": "2022-07-26T21:45:18.114977Z",
     "iopub.status.busy": "2022-07-26T21:45:18.114285Z",
     "iopub.status.idle": "2022-07-26T21:45:18.130630Z",
     "shell.execute_reply": "2022-07-26T21:45:18.129594Z"
    },
    "papermill": {
     "duration": 0.037615,
     "end_time": "2022-07-26T21:45:18.133183",
     "exception": false,
     "start_time": "2022-07-26T21:45:18.095568",
     "status": "completed"
    },
    "tags": []
   },
   "outputs": [],
   "source": [
    "impute_mean = SimpleImputer(missing_values=np.nan, strategy=\"mean\", verbose=1)\n",
    "m = impute_mean.fit_transform(train[[\"Age\"]])\n",
    "# mt = impute_mean.transform(test[[\"Age\"]])\n",
    "\n",
    "train[\"Age\"] = impute_mean.fit_transform(train[[\"Age\"]])\n",
    "test[\"Age\"] = impute_mean.transform(test[[\"Age\"]])"
   ]
  },
  {
   "cell_type": "markdown",
   "id": "0580e030",
   "metadata": {
    "papermill": {
     "duration": 0.017143,
     "end_time": "2022-07-26T21:45:18.167765",
     "exception": false,
     "start_time": "2022-07-26T21:45:18.150622",
     "status": "completed"
    },
    "tags": []
   },
   "source": [
    "### At this point we no longer have missing values"
   ]
  },
  {
   "cell_type": "code",
   "execution_count": 27,
   "id": "35ded4c5",
   "metadata": {
    "execution": {
     "iopub.execute_input": "2022-07-26T21:45:18.204033Z",
     "iopub.status.busy": "2022-07-26T21:45:18.203221Z",
     "iopub.status.idle": "2022-07-26T21:45:18.211626Z",
     "shell.execute_reply": "2022-07-26T21:45:18.210343Z"
    },
    "papermill": {
     "duration": 0.029517,
     "end_time": "2022-07-26T21:45:18.214495",
     "exception": false,
     "start_time": "2022-07-26T21:45:18.184978",
     "status": "completed"
    },
    "tags": []
   },
   "outputs": [
    {
     "name": "stdout",
     "output_type": "stream",
     "text": [
      "Series([], dtype: int64)\n"
     ]
    }
   ],
   "source": [
    "show_missing_features(train)"
   ]
  },
  {
   "cell_type": "markdown",
   "id": "d9747ef0",
   "metadata": {
    "papermill": {
     "duration": 0.017281,
     "end_time": "2022-07-26T21:45:18.248955",
     "exception": false,
     "start_time": "2022-07-26T21:45:18.231674",
     "status": "completed"
    },
    "tags": []
   },
   "source": [
    "# Encoding Categorical Features\n",
    "\n",
    "Need to convert categorical features into numerical features.\n",
    "\n",
    "Several ways:\n",
    "- One-hot Encode\n",
    "- Label Encode"
   ]
  },
  {
   "cell_type": "markdown",
   "id": "490da46c",
   "metadata": {
    "papermill": {
     "duration": 0.017143,
     "end_time": "2022-07-26T21:45:18.283554",
     "exception": false,
     "start_time": "2022-07-26T21:45:18.266411",
     "status": "completed"
    },
    "tags": []
   },
   "source": [
    "### Encode `Embarked`\n",
    "\n",
    "First compare what the **drop_first=True** option does.  Some machine learning models require this option while others do not.  Logitistic regression requires us to drop the value."
   ]
  },
  {
   "cell_type": "code",
   "execution_count": 28,
   "id": "12246919",
   "metadata": {
    "execution": {
     "iopub.execute_input": "2022-07-26T21:45:18.319454Z",
     "iopub.status.busy": "2022-07-26T21:45:18.318726Z",
     "iopub.status.idle": "2022-07-26T21:45:18.339723Z",
     "shell.execute_reply": "2022-07-26T21:45:18.338817Z"
    },
    "papermill": {
     "duration": 0.041273,
     "end_time": "2022-07-26T21:45:18.341845",
     "exception": false,
     "start_time": "2022-07-26T21:45:18.300572",
     "status": "completed"
    },
    "tags": []
   },
   "outputs": [
    {
     "data": {
      "text/html": [
       "<div>\n",
       "<style scoped>\n",
       "    .dataframe tbody tr th:only-of-type {\n",
       "        vertical-align: middle;\n",
       "    }\n",
       "\n",
       "    .dataframe tbody tr th {\n",
       "        vertical-align: top;\n",
       "    }\n",
       "\n",
       "    .dataframe thead th {\n",
       "        text-align: right;\n",
       "    }\n",
       "</style>\n",
       "<table border=\"1\" class=\"dataframe\">\n",
       "  <thead>\n",
       "    <tr style=\"text-align: right;\">\n",
       "      <th></th>\n",
       "      <th>PassengerId</th>\n",
       "      <th>Survived</th>\n",
       "      <th>Pclass</th>\n",
       "      <th>Sex</th>\n",
       "      <th>Age</th>\n",
       "      <th>SibSp</th>\n",
       "      <th>Parch</th>\n",
       "      <th>Fare</th>\n",
       "      <th>Embarked</th>\n",
       "    </tr>\n",
       "  </thead>\n",
       "  <tbody>\n",
       "    <tr>\n",
       "      <th>0</th>\n",
       "      <td>1</td>\n",
       "      <td>0</td>\n",
       "      <td>3.0</td>\n",
       "      <td>1</td>\n",
       "      <td>22.0</td>\n",
       "      <td>1.0</td>\n",
       "      <td>0.0</td>\n",
       "      <td>7.2500</td>\n",
       "      <td>2</td>\n",
       "    </tr>\n",
       "    <tr>\n",
       "      <th>1</th>\n",
       "      <td>2</td>\n",
       "      <td>1</td>\n",
       "      <td>1.0</td>\n",
       "      <td>0</td>\n",
       "      <td>38.0</td>\n",
       "      <td>1.0</td>\n",
       "      <td>0.0</td>\n",
       "      <td>71.2833</td>\n",
       "      <td>0</td>\n",
       "    </tr>\n",
       "    <tr>\n",
       "      <th>2</th>\n",
       "      <td>3</td>\n",
       "      <td>1</td>\n",
       "      <td>3.0</td>\n",
       "      <td>0</td>\n",
       "      <td>26.0</td>\n",
       "      <td>0.0</td>\n",
       "      <td>0.0</td>\n",
       "      <td>7.9250</td>\n",
       "      <td>2</td>\n",
       "    </tr>\n",
       "    <tr>\n",
       "      <th>3</th>\n",
       "      <td>4</td>\n",
       "      <td>1</td>\n",
       "      <td>1.0</td>\n",
       "      <td>0</td>\n",
       "      <td>35.0</td>\n",
       "      <td>1.0</td>\n",
       "      <td>0.0</td>\n",
       "      <td>53.1000</td>\n",
       "      <td>2</td>\n",
       "    </tr>\n",
       "    <tr>\n",
       "      <th>4</th>\n",
       "      <td>5</td>\n",
       "      <td>0</td>\n",
       "      <td>3.0</td>\n",
       "      <td>1</td>\n",
       "      <td>35.0</td>\n",
       "      <td>0.0</td>\n",
       "      <td>0.0</td>\n",
       "      <td>8.0500</td>\n",
       "      <td>2</td>\n",
       "    </tr>\n",
       "  </tbody>\n",
       "</table>\n",
       "</div>"
      ],
      "text/plain": [
       "   PassengerId  Survived  Pclass  Sex   Age  SibSp  Parch     Fare  Embarked\n",
       "0            1         0     3.0    1  22.0    1.0    0.0   7.2500         2\n",
       "1            2         1     1.0    0  38.0    1.0    0.0  71.2833         0\n",
       "2            3         1     3.0    0  26.0    0.0    0.0   7.9250         2\n",
       "3            4         1     1.0    0  35.0    1.0    0.0  53.1000         2\n",
       "4            5         0     3.0    1  35.0    0.0    0.0   8.0500         2"
      ]
     },
     "execution_count": 28,
     "metadata": {},
     "output_type": "execute_result"
    }
   ],
   "source": [
    "train, test = label_encoder(train, test, [\"Embarked\", \"Sex\"])\n",
    "# X_test = pd.get_dummies(test[FEATURES], drop_first=True)\n",
    "\n",
    "train.head()"
   ]
  },
  {
   "cell_type": "markdown",
   "id": "422bb5f2",
   "metadata": {
    "papermill": {
     "duration": 0.017962,
     "end_time": "2022-07-26T21:45:18.378132",
     "exception": false,
     "start_time": "2022-07-26T21:45:18.360170",
     "status": "completed"
    },
    "tags": []
   },
   "source": [
    "- [sklearn.linear_model.LogisticRegression](https://scikit-learn.org/stable/modules/generated/sklearn.linear_model.LogisticRegression.html)"
   ]
  },
  {
   "cell_type": "code",
   "execution_count": 29,
   "id": "55421889",
   "metadata": {
    "execution": {
     "iopub.execute_input": "2022-07-26T21:45:18.416595Z",
     "iopub.status.busy": "2022-07-26T21:45:18.415573Z",
     "iopub.status.idle": "2022-07-26T21:45:18.420216Z",
     "shell.execute_reply": "2022-07-26T21:45:18.419339Z"
    },
    "papermill": {
     "duration": 0.025886,
     "end_time": "2022-07-26T21:45:18.422290",
     "exception": false,
     "start_time": "2022-07-26T21:45:18.396404",
     "status": "completed"
    },
    "tags": []
   },
   "outputs": [],
   "source": [
    "# y = train[TARGET]\n",
    "# X = train[FEATURES].copy()\n",
    "\n",
    "# X_test = test[FEATURES].copy()"
   ]
  },
  {
   "cell_type": "markdown",
   "id": "ab87354a",
   "metadata": {
    "execution": {
     "iopub.execute_input": "2022-01-20T17:32:12.023204Z",
     "iopub.status.busy": "2022-01-20T17:32:12.022346Z",
     "iopub.status.idle": "2022-01-20T17:32:12.027226Z",
     "shell.execute_reply": "2022-01-20T17:32:12.026176Z",
     "shell.execute_reply.started": "2022-01-20T17:32:12.023164Z"
    },
    "papermill": {
     "duration": 0.017646,
     "end_time": "2022-07-26T21:45:18.458860",
     "exception": false,
     "start_time": "2022-07-26T21:45:18.441214",
     "status": "completed"
    },
    "tags": []
   },
   "source": [
    "## Train Model"
   ]
  },
  {
   "cell_type": "markdown",
   "id": "8dd10014",
   "metadata": {
    "papermill": {
     "duration": 0.017844,
     "end_time": "2022-07-26T21:45:18.494731",
     "exception": false,
     "start_time": "2022-07-26T21:45:18.476887",
     "status": "completed"
    },
    "tags": []
   },
   "source": [
    "<div style=\"background-color:rgba(255, 215, 0, 0.6);border-radius:5px;display:fill\"><h1 style=\"text-align: center;padding: 12px 0px 12px 0px;\">Train Model with Cross Validation</h1>\n",
    "</div>\n",
    "\n",
    "Four out five folds will be used for training. The fifth will be used for validation\n",
    "\n",
    "Each fold will have a turn at being the validation fold\n",
    "\n",
    "After each time through the loop\n"
   ]
  },
  {
   "cell_type": "code",
   "execution_count": 30,
   "id": "3606c6d8",
   "metadata": {
    "execution": {
     "iopub.execute_input": "2022-07-26T21:45:18.533332Z",
     "iopub.status.busy": "2022-07-26T21:45:18.532692Z",
     "iopub.status.idle": "2022-07-26T21:45:18.544983Z",
     "shell.execute_reply": "2022-07-26T21:45:18.543680Z"
    },
    "papermill": {
     "duration": 0.034889,
     "end_time": "2022-07-26T21:45:18.547965",
     "exception": false,
     "start_time": "2022-07-26T21:45:18.513076",
     "status": "completed"
    },
    "tags": []
   },
   "outputs": [
    {
     "name": "stdout",
     "output_type": "stream",
     "text": [
      "TARGET=Survived, n_folds=5, seed=42\n"
     ]
    }
   ],
   "source": [
    "train = create_folds(train, TARGET, Config.N_FOLDS)"
   ]
  },
  {
   "cell_type": "code",
   "execution_count": 31,
   "id": "163c94d7",
   "metadata": {
    "execution": {
     "iopub.execute_input": "2022-07-26T21:45:18.585519Z",
     "iopub.status.busy": "2022-07-26T21:45:18.584829Z",
     "iopub.status.idle": "2022-07-26T21:45:18.603158Z",
     "shell.execute_reply": "2022-07-26T21:45:18.602071Z"
    },
    "papermill": {
     "duration": 0.039136,
     "end_time": "2022-07-26T21:45:18.605227",
     "exception": false,
     "start_time": "2022-07-26T21:45:18.566091",
     "status": "completed"
    },
    "tags": []
   },
   "outputs": [
    {
     "data": {
      "text/html": [
       "<div>\n",
       "<style scoped>\n",
       "    .dataframe tbody tr th:only-of-type {\n",
       "        vertical-align: middle;\n",
       "    }\n",
       "\n",
       "    .dataframe tbody tr th {\n",
       "        vertical-align: top;\n",
       "    }\n",
       "\n",
       "    .dataframe thead th {\n",
       "        text-align: right;\n",
       "    }\n",
       "</style>\n",
       "<table border=\"1\" class=\"dataframe\">\n",
       "  <thead>\n",
       "    <tr style=\"text-align: right;\">\n",
       "      <th></th>\n",
       "      <th>PassengerId</th>\n",
       "      <th>Survived</th>\n",
       "      <th>Pclass</th>\n",
       "      <th>Sex</th>\n",
       "      <th>Age</th>\n",
       "      <th>SibSp</th>\n",
       "      <th>Parch</th>\n",
       "      <th>Fare</th>\n",
       "      <th>Embarked</th>\n",
       "      <th>fold</th>\n",
       "    </tr>\n",
       "  </thead>\n",
       "  <tbody>\n",
       "    <tr>\n",
       "      <th>0</th>\n",
       "      <td>1</td>\n",
       "      <td>0</td>\n",
       "      <td>3.0</td>\n",
       "      <td>1</td>\n",
       "      <td>22.0</td>\n",
       "      <td>1.0</td>\n",
       "      <td>0.0</td>\n",
       "      <td>7.2500</td>\n",
       "      <td>2</td>\n",
       "      <td>1</td>\n",
       "    </tr>\n",
       "    <tr>\n",
       "      <th>1</th>\n",
       "      <td>2</td>\n",
       "      <td>1</td>\n",
       "      <td>1.0</td>\n",
       "      <td>0</td>\n",
       "      <td>38.0</td>\n",
       "      <td>1.0</td>\n",
       "      <td>0.0</td>\n",
       "      <td>71.2833</td>\n",
       "      <td>0</td>\n",
       "      <td>4</td>\n",
       "    </tr>\n",
       "    <tr>\n",
       "      <th>2</th>\n",
       "      <td>3</td>\n",
       "      <td>1</td>\n",
       "      <td>3.0</td>\n",
       "      <td>0</td>\n",
       "      <td>26.0</td>\n",
       "      <td>0.0</td>\n",
       "      <td>0.0</td>\n",
       "      <td>7.9250</td>\n",
       "      <td>2</td>\n",
       "      <td>3</td>\n",
       "    </tr>\n",
       "    <tr>\n",
       "      <th>3</th>\n",
       "      <td>4</td>\n",
       "      <td>1</td>\n",
       "      <td>1.0</td>\n",
       "      <td>0</td>\n",
       "      <td>35.0</td>\n",
       "      <td>1.0</td>\n",
       "      <td>0.0</td>\n",
       "      <td>53.1000</td>\n",
       "      <td>2</td>\n",
       "      <td>3</td>\n",
       "    </tr>\n",
       "    <tr>\n",
       "      <th>4</th>\n",
       "      <td>5</td>\n",
       "      <td>0</td>\n",
       "      <td>3.0</td>\n",
       "      <td>1</td>\n",
       "      <td>35.0</td>\n",
       "      <td>0.0</td>\n",
       "      <td>0.0</td>\n",
       "      <td>8.0500</td>\n",
       "      <td>2</td>\n",
       "      <td>0</td>\n",
       "    </tr>\n",
       "  </tbody>\n",
       "</table>\n",
       "</div>"
      ],
      "text/plain": [
       "   PassengerId  Survived  Pclass  Sex   Age  SibSp  Parch     Fare  Embarked  \\\n",
       "0            1         0     3.0    1  22.0    1.0    0.0   7.2500         2   \n",
       "1            2         1     1.0    0  38.0    1.0    0.0  71.2833         0   \n",
       "2            3         1     3.0    0  26.0    0.0    0.0   7.9250         2   \n",
       "3            4         1     1.0    0  35.0    1.0    0.0  53.1000         2   \n",
       "4            5         0     3.0    1  35.0    0.0    0.0   8.0500         2   \n",
       "\n",
       "   fold  \n",
       "0     1  \n",
       "1     4  \n",
       "2     3  \n",
       "3     3  \n",
       "4     0  "
      ]
     },
     "execution_count": 31,
     "metadata": {},
     "output_type": "execute_result"
    }
   ],
   "source": [
    "train.head()"
   ]
  },
  {
   "cell_type": "code",
   "execution_count": 32,
   "id": "1bb8483c",
   "metadata": {
    "execution": {
     "iopub.execute_input": "2022-07-26T21:45:18.642630Z",
     "iopub.status.busy": "2022-07-26T21:45:18.641609Z",
     "iopub.status.idle": "2022-07-26T21:45:18.648787Z",
     "shell.execute_reply": "2022-07-26T21:45:18.647862Z"
    },
    "papermill": {
     "duration": 0.027637,
     "end_time": "2022-07-26T21:45:18.650816",
     "exception": false,
     "start_time": "2022-07-26T21:45:18.623179",
     "status": "completed"
    },
    "tags": []
   },
   "outputs": [
    {
     "data": {
      "text/plain": [
       "['Sex', 'Embarked', 'Pclass', 'Age', 'SibSp', 'Parch', 'Fare']"
      ]
     },
     "execution_count": 32,
     "metadata": {},
     "output_type": "execute_result"
    }
   ],
   "source": [
    "FEATURES"
   ]
  },
  {
   "cell_type": "code",
   "execution_count": 33,
   "id": "92ba84c4",
   "metadata": {
    "execution": {
     "iopub.execute_input": "2022-07-26T21:45:18.687794Z",
     "iopub.status.busy": "2022-07-26T21:45:18.687078Z",
     "iopub.status.idle": "2022-07-26T21:45:18.702180Z",
     "shell.execute_reply": "2022-07-26T21:45:18.701321Z"
    },
    "papermill": {
     "duration": 0.036702,
     "end_time": "2022-07-26T21:45:18.704857",
     "exception": false,
     "start_time": "2022-07-26T21:45:18.668155",
     "status": "completed"
    },
    "tags": []
   },
   "outputs": [],
   "source": [
    "def train_xgb_model(df, test, get_model_fn, FEATURES, TARGET, rowid, params, n_folds=5, seed=42):\n",
    "\n",
    "    final_test_predictions = []\n",
    "    final_valid_predictions = {}\n",
    "    fold_scores = []  # Scores of Validation Set\n",
    "    feature_importance_lst = []\n",
    "\n",
    "    test = test[FEATURES].copy()\n",
    "\n",
    "    # oof_preds = np.zeros((df.shape[0],)) # Zero array\n",
    "    # print(f\"oof_preds size={df.shape[0]}\")\n",
    "#     print(\n",
    "#         f\"\\n===== XGBoost Estimators: {params['n_estimators']}, Random State: {seed} =====\"\n",
    "#     )\n",
    "\n",
    "    for fold in range(n_folds):\n",
    "        print(10 * \"=\", f\"Fold {fold+1}/{n_folds}\", 10 * \"=\")\n",
    "\n",
    "        start_time = time.time()\n",
    "\n",
    "        xtrain = df[df.fold != fold].reset_index(\n",
    "            drop=True\n",
    "        )  # Everything not in validation fold\n",
    "        xvalid = df[df.fold == fold].reset_index(drop=True)\n",
    "        xtest = test.copy()\n",
    "\n",
    "        valid_ids = xvalid.PassengerId.values.tolist()  # Id's of everything in validation fold\n",
    "\n",
    "        ytrain = xtrain[TARGET]\n",
    "        yvalid = xvalid[TARGET]\n",
    "\n",
    "        xtrain = xtrain[FEATURES]\n",
    "        xvalid = xvalid[FEATURES]\n",
    "        xtrain.head()\n",
    "\n",
    "        model = get_model_fn()\n",
    "    \n",
    "        model.fit(\n",
    "            xtrain,\n",
    "            ytrain,\n",
    "            eval_set=[(xvalid, yvalid)],\n",
    "            #              eval_metric = \"auc\",\n",
    "            verbose=False,\n",
    "            early_stopping_rounds=3000,\n",
    "#             callbacks=[\n",
    "#                 xgb.log_evaluation(0),\n",
    "#                 xgb.early_stopping(500, False, True),\n",
    "#             ],\n",
    "        )\n",
    "\n",
    "        # Mean of the predictions\n",
    "        #         preds_valid = model.predict(xvalid)\n",
    "        #         test_preds = model.predict(xtest)\n",
    "\n",
    "        preds_valid = model.predict_proba(xvalid)[:, 1]\n",
    "        test_preds = model.predict_proba(xtest)[:, 1]\n",
    "\n",
    "        final_test_predictions.append(test_preds)\n",
    "        final_valid_predictions.update(dict(zip(valid_ids, preds_valid)))\n",
    "\n",
    "        #         fold_score = accuracy_score(yvalid, preds_valid)  # Validation Set Score\n",
    "        fold_score = roc_auc_score(yvalid, preds_valid)  # Validation Set Score\n",
    "\n",
    "        fold_scores.append(fold_score)\n",
    "\n",
    "        # Feature importance\n",
    "        fi = pd.DataFrame(\n",
    "            index=FEATURES,\n",
    "            data=model.feature_importances_,\n",
    "            columns=[f\"{fold}_importance\"],\n",
    "        )\n",
    "        feature_importance_lst.append(fi)\n",
    "\n",
    "        run_time = time.time() - start_time\n",
    "\n",
    "        print(f\"fold: {fold+1}, AUC: {fold_score}, Run Time: {run_time:.2f}\")\n",
    "\n",
    "    return (\n",
    "        model,\n",
    "        feature_importance_lst,\n",
    "        fold_scores,\n",
    "        final_valid_predictions,\n",
    "        final_test_predictions,\n",
    "    )\n"
   ]
  },
  {
   "cell_type": "code",
   "execution_count": 34,
   "id": "e46cc260",
   "metadata": {
    "execution": {
     "iopub.execute_input": "2022-07-26T21:45:18.747117Z",
     "iopub.status.busy": "2022-07-26T21:45:18.745947Z",
     "iopub.status.idle": "2022-07-26T21:45:18.751296Z",
     "shell.execute_reply": "2022-07-26T21:45:18.750535Z"
    },
    "papermill": {
     "duration": 0.029972,
     "end_time": "2022-07-26T21:45:18.753807",
     "exception": false,
     "start_time": "2022-07-26T21:45:18.723835",
     "status": "completed"
    },
    "tags": []
   },
   "outputs": [],
   "source": [
    "xgb_params = {}"
   ]
  },
  {
   "cell_type": "code",
   "execution_count": 35,
   "id": "f5c741fb",
   "metadata": {
    "execution": {
     "iopub.execute_input": "2022-07-26T21:45:18.790642Z",
     "iopub.status.busy": "2022-07-26T21:45:18.789477Z",
     "iopub.status.idle": "2022-07-26T21:45:18.794952Z",
     "shell.execute_reply": "2022-07-26T21:45:18.793893Z"
    },
    "papermill": {
     "duration": 0.026051,
     "end_time": "2022-07-26T21:45:18.797058",
     "exception": false,
     "start_time": "2022-07-26T21:45:18.771007",
     "status": "completed"
    },
    "tags": []
   },
   "outputs": [],
   "source": [
    "def get_xgb_clf_model():\n",
    "    model = xgb.XGBClassifier(n_estimators=1000)\n",
    "    return model"
   ]
  },
  {
   "cell_type": "code",
   "execution_count": 36,
   "id": "6b667fe9",
   "metadata": {
    "execution": {
     "iopub.execute_input": "2022-07-26T21:45:18.833101Z",
     "iopub.status.busy": "2022-07-26T21:45:18.832682Z",
     "iopub.status.idle": "2022-07-26T21:45:18.839809Z",
     "shell.execute_reply": "2022-07-26T21:45:18.838778Z"
    },
    "papermill": {
     "duration": 0.027456,
     "end_time": "2022-07-26T21:45:18.841968",
     "exception": false,
     "start_time": "2022-07-26T21:45:18.814512",
     "status": "completed"
    },
    "tags": []
   },
   "outputs": [
    {
     "data": {
      "text/plain": [
       "['Sex', 'Embarked', 'Pclass', 'Age', 'SibSp', 'Parch', 'Fare']"
      ]
     },
     "execution_count": 36,
     "metadata": {},
     "output_type": "execute_result"
    }
   ],
   "source": [
    "FEATURES"
   ]
  },
  {
   "cell_type": "code",
   "execution_count": 37,
   "id": "1ec01124",
   "metadata": {
    "execution": {
     "iopub.execute_input": "2022-07-26T21:45:18.879823Z",
     "iopub.status.busy": "2022-07-26T21:45:18.879208Z",
     "iopub.status.idle": "2022-07-26T21:45:39.647937Z",
     "shell.execute_reply": "2022-07-26T21:45:39.646835Z"
    },
    "papermill": {
     "duration": 20.790498,
     "end_time": "2022-07-26T21:45:39.650344",
     "exception": false,
     "start_time": "2022-07-26T21:45:18.859846",
     "status": "completed"
    },
    "tags": []
   },
   "outputs": [
    {
     "name": "stdout",
     "output_type": "stream",
     "text": [
      "========== Fold 1/5 ==========\n"
     ]
    },
    {
     "name": "stderr",
     "output_type": "stream",
     "text": [
      "/opt/conda/lib/python3.7/site-packages/xgboost/sklearn.py:797: UserWarning: `early_stopping_rounds` in `fit` method is deprecated for better compatibility with scikit-learn, use `early_stopping_rounds` in constructor or`set_params` instead.\n",
      "  UserWarning,\n"
     ]
    },
    {
     "name": "stdout",
     "output_type": "stream",
     "text": [
      "fold: 1, AUC: 0.9079051383399208, Run Time: 4.33\n",
      "========== Fold 2/5 ==========\n"
     ]
    },
    {
     "name": "stderr",
     "output_type": "stream",
     "text": [
      "/opt/conda/lib/python3.7/site-packages/xgboost/sklearn.py:797: UserWarning: `early_stopping_rounds` in `fit` method is deprecated for better compatibility with scikit-learn, use `early_stopping_rounds` in constructor or`set_params` instead.\n",
      "  UserWarning,\n"
     ]
    },
    {
     "name": "stdout",
     "output_type": "stream",
     "text": [
      "fold: 2, AUC: 0.9050133689839571, Run Time: 4.15\n",
      "========== Fold 3/5 ==========\n"
     ]
    },
    {
     "name": "stderr",
     "output_type": "stream",
     "text": [
      "/opt/conda/lib/python3.7/site-packages/xgboost/sklearn.py:797: UserWarning: `early_stopping_rounds` in `fit` method is deprecated for better compatibility with scikit-learn, use `early_stopping_rounds` in constructor or`set_params` instead.\n",
      "  UserWarning,\n"
     ]
    },
    {
     "name": "stdout",
     "output_type": "stream",
     "text": [
      "fold: 3, AUC: 0.8480614973262033, Run Time: 4.04\n",
      "========== Fold 4/5 ==========\n"
     ]
    },
    {
     "name": "stderr",
     "output_type": "stream",
     "text": [
      "/opt/conda/lib/python3.7/site-packages/xgboost/sklearn.py:797: UserWarning: `early_stopping_rounds` in `fit` method is deprecated for better compatibility with scikit-learn, use `early_stopping_rounds` in constructor or`set_params` instead.\n",
      "  UserWarning,\n"
     ]
    },
    {
     "name": "stdout",
     "output_type": "stream",
     "text": [
      "fold: 4, AUC: 0.8691176470588236, Run Time: 4.08\n",
      "========== Fold 5/5 ==========\n"
     ]
    },
    {
     "name": "stderr",
     "output_type": "stream",
     "text": [
      "/opt/conda/lib/python3.7/site-packages/xgboost/sklearn.py:797: UserWarning: `early_stopping_rounds` in `fit` method is deprecated for better compatibility with scikit-learn, use `early_stopping_rounds` in constructor or`set_params` instead.\n",
      "  UserWarning,\n"
     ]
    },
    {
     "name": "stdout",
     "output_type": "stream",
     "text": [
      "fold: 5, AUC: 0.8691663342640606, Run Time: 4.16\n"
     ]
    }
   ],
   "source": [
    "    (\n",
    "        model,\n",
    "        feature_importance_lst,\n",
    "        fold_scores,\n",
    "        final_valid_predictions,\n",
    "        final_test_predictions,\n",
    "    ) = train_xgb_model(\n",
    "        train, test, get_xgb_clf_model, FEATURES, TARGET, \"PassengerId\", xgb_params, Config.N_FOLDS, Config.seed\n",
    "    )"
   ]
  },
  {
   "cell_type": "markdown",
   "id": "9bd3e89d",
   "metadata": {
    "papermill": {
     "duration": 0.017974,
     "end_time": "2022-07-26T21:45:39.687647",
     "exception": false,
     "start_time": "2022-07-26T21:45:39.669673",
     "status": "completed"
    },
    "tags": []
   },
   "source": [
    "<div style=\"background-color:rgba(255, 215, 0, 0.6);border-radius:5px;display:fill\"><h1 style=\"text-align: center;padding: 12px 0px 12px 0px;\">Scores</h1>\n",
    "</div>\n",
    "\n",
    "CV, or Cross Validation, Score.\n",
    "\n",
    "We average the means and the standard deviations.\n",
    "\n",
    "The Adjusted Score is the average of the means minus the average of standard deviation. Do this to attempt to get one number to evaluate the score when comparing different models."
   ]
  },
  {
   "cell_type": "code",
   "execution_count": 38,
   "id": "8d9ff0d4",
   "metadata": {
    "execution": {
     "iopub.execute_input": "2022-07-26T21:45:39.725550Z",
     "iopub.status.busy": "2022-07-26T21:45:39.725143Z",
     "iopub.status.idle": "2022-07-26T21:45:39.731802Z",
     "shell.execute_reply": "2022-07-26T21:45:39.730596Z"
    },
    "papermill": {
     "duration": 0.028519,
     "end_time": "2022-07-26T21:45:39.734315",
     "exception": false,
     "start_time": "2022-07-26T21:45:39.705796",
     "status": "completed"
    },
    "tags": []
   },
   "outputs": [
    {
     "name": "stdout",
     "output_type": "stream",
     "text": [
      "Scores -> Adjusted: 0.85678716 , mean: 0.87985280, std: 0.02306564\n"
     ]
    }
   ],
   "source": [
    "cv_score = np.mean(fold_scores)  # Used in filename\n",
    "print(\n",
    "    f\"Scores -> Adjusted: {np.mean(fold_scores) - np.std(fold_scores):.8f} , mean: {np.mean(fold_scores):.8f}, std: {np.std(fold_scores):.8f}\"\n",
    ")"
   ]
  },
  {
   "cell_type": "markdown",
   "id": "3dbb9a9d",
   "metadata": {
    "papermill": {
     "duration": 0.017898,
     "end_time": "2022-07-26T21:45:39.771105",
     "exception": false,
     "start_time": "2022-07-26T21:45:39.753207",
     "status": "completed"
    },
    "tags": []
   },
   "source": [
    "<div style=\"background-color:rgba(255, 215, 0, 0.6);border-radius:5px;display:fill\"><h1 style=\"text-align: center;padding: 12px 0px 12px 0px;\">Save OOF Predictions</h1>\n",
    "</div>\n",
    "\n",
    "This is unused for this example but needed later for [Blending](https://towardsdatascience.com/ensemble-learning-stacking-blending-voting-b37737c4f483).\n",
    "\n",
    "**General idea**: The values will be use to create new features in a blended model.\n",
    "\n",
    "- [Stacking and Blending — An Intuitive ExplanationStacking and Blending — An Intuitive Explanation](https://medium.com/@stevenyu530_73989/stacking-and-blending-intuitive-explanation-of-advanced-ensemble-methods-46b295da413chttps://medium.com/@stevenyu530_73989/stacking-and-blending-intuitive-explanation-of-advanced-ensemble-methods-46b295da413c)"
   ]
  },
  {
   "cell_type": "code",
   "execution_count": 39,
   "id": "2eda5ea1",
   "metadata": {
    "execution": {
     "iopub.execute_input": "2022-07-26T21:45:39.809984Z",
     "iopub.status.busy": "2022-07-26T21:45:39.808840Z",
     "iopub.status.idle": "2022-07-26T21:45:39.822586Z",
     "shell.execute_reply": "2022-07-26T21:45:39.821553Z"
    },
    "papermill": {
     "duration": 0.03593,
     "end_time": "2022-07-26T21:45:39.825165",
     "exception": false,
     "start_time": "2022-07-26T21:45:39.789235",
     "status": "completed"
    },
    "tags": []
   },
   "outputs": [],
   "source": [
    "final_valid_predictions = pd.DataFrame.from_dict(\n",
    "    final_valid_predictions, orient=\"index\"\n",
    ").reset_index()\n",
    "final_valid_predictions.columns = [\"id\", \"pred_1\"]\n",
    "final_valid_predictions.to_csv(\"train_pred_1.csv\", index=False)"
   ]
  },
  {
   "cell_type": "markdown",
   "id": "917bd860",
   "metadata": {
    "papermill": {
     "duration": 0.017692,
     "end_time": "2022-07-26T21:45:39.861214",
     "exception": false,
     "start_time": "2022-07-26T21:45:39.843522",
     "status": "completed"
    },
    "tags": []
   },
   "source": [
    "<div style=\"background-color:rgba(255, 215, 0, 0.6);border-radius:5px;display:fill\"><h1 style=\"text-align: center;padding: 12px 0px 12px 0px;\">Submission File</h1>\n",
    "</div>\n",
    "\n",
    "The sample file and our data is in the same row order.  This allows us to simply assign our prediction to the target column (`Survived`) in the sample submission."
   ]
  },
  {
   "cell_type": "code",
   "execution_count": 40,
   "id": "4b64eee5",
   "metadata": {
    "execution": {
     "iopub.execute_input": "2022-07-26T21:45:39.899725Z",
     "iopub.status.busy": "2022-07-26T21:45:39.899329Z",
     "iopub.status.idle": "2022-07-26T21:45:39.907026Z",
     "shell.execute_reply": "2022-07-26T21:45:39.905886Z"
    },
    "papermill": {
     "duration": 0.029539,
     "end_time": "2022-07-26T21:45:39.909349",
     "exception": false,
     "start_time": "2022-07-26T21:45:39.879810",
     "status": "completed"
    },
    "tags": []
   },
   "outputs": [
    {
     "data": {
      "text/plain": [
       "array([0.08711249, 0.3104648 , 0.13050397, 0.1281682 , 0.5320958 ,\n",
       "       0.11821636, 0.56960046, 0.16179538, 0.7083838 , 0.07598673],\n",
       "      dtype=float32)"
      ]
     },
     "execution_count": 40,
     "metadata": {},
     "output_type": "execute_result"
    }
   ],
   "source": [
    "m = np.mean(np.column_stack(final_test_predictions), axis=1)\n",
    "m[:10]"
   ]
  },
  {
   "cell_type": "code",
   "execution_count": 41,
   "id": "eb4a3760",
   "metadata": {
    "execution": {
     "iopub.execute_input": "2022-07-26T21:45:39.947548Z",
     "iopub.status.busy": "2022-07-26T21:45:39.947131Z",
     "iopub.status.idle": "2022-07-26T21:45:39.954990Z",
     "shell.execute_reply": "2022-07-26T21:45:39.954179Z"
    },
    "papermill": {
     "duration": 0.029474,
     "end_time": "2022-07-26T21:45:39.957026",
     "exception": false,
     "start_time": "2022-07-26T21:45:39.927552",
     "status": "completed"
    },
    "tags": []
   },
   "outputs": [
    {
     "data": {
      "text/plain": [
       "array([0, 0, 0, 0, 1, 0, 1, 0, 1, 0, 0, 0, 1, 0, 1, 1, 0, 0, 0, 0, 0, 0,\n",
       "       1, 0, 1, 0, 1, 0, 1, 0, 0, 0, 1, 0, 1, 0, 0, 0, 0, 0, 0, 1, 0, 1,\n",
       "       1, 0, 0, 0, 1, 1, 0, 0, 1, 1, 0, 0, 0, 0, 0, 1, 0, 0, 0, 1, 0, 1,\n",
       "       1, 0, 0, 1, 1, 0, 0, 0, 1, 0, 0, 1, 0, 1, 1, 0, 0, 0, 0, 0, 1, 0,\n",
       "       1, 1, 1, 0, 1, 0, 0, 0, 1, 0, 1, 0, 1, 0, 0, 0, 1, 0, 0, 0, 0, 0,\n",
       "       0, 1, 1, 1, 1, 0, 0, 1, 1, 1, 1, 0, 1, 0, 0, 1, 0, 1, 0, 0, 0, 0,\n",
       "       0, 0, 0, 0, 0, 0, 0, 0, 0, 1, 0, 0, 1, 0, 0, 0, 1, 0, 1, 0, 0, 1,\n",
       "       0, 0, 1, 1, 1, 1, 1, 1, 1, 0, 0, 0, 0, 0, 1, 0, 0, 0, 0, 0, 0, 1,\n",
       "       1, 0, 1, 1, 0, 0, 1, 0, 1, 0, 1, 0, 0, 0, 0, 0, 0, 0, 1, 0, 1, 1,\n",
       "       0, 0, 1, 1, 0, 1, 0, 0, 1, 0, 1, 0, 0, 0, 0, 1, 0, 0, 1, 0, 1, 0,\n",
       "       1, 0, 1, 0, 1, 0, 0, 1, 0, 0, 0, 1, 0, 0, 1, 0, 0, 0, 1, 1, 1, 1,\n",
       "       0, 0, 0, 0, 1, 0, 1, 0, 1, 0, 0, 0, 0, 0, 0, 0, 1, 0, 0, 0, 1, 1,\n",
       "       0, 0, 0, 0, 0, 0, 0, 0, 1, 1, 0, 1, 0, 0, 0, 0, 0, 1, 1, 0, 1, 0,\n",
       "       0, 0, 0, 0, 0, 1, 0, 0, 0, 0, 1, 0, 0, 0, 0, 0, 0, 0, 1, 1, 0, 1,\n",
       "       0, 0, 0, 0, 0, 0, 1, 1, 0, 0, 0, 0, 0, 0, 0, 1, 1, 0, 1, 0, 0, 0,\n",
       "       1, 0, 0, 1, 0, 0, 0, 0, 0, 0, 0, 0, 0, 1, 0, 1, 0, 0, 0, 1, 1, 0,\n",
       "       0, 0, 1, 0, 1, 0, 0, 1, 0, 1, 1, 0, 1, 0, 0, 0, 1, 0, 0, 1, 0, 0,\n",
       "       1, 1, 0, 0, 0, 0, 0, 0, 0, 1, 0, 1, 0, 0, 0, 0, 0, 1, 0, 0, 0, 1,\n",
       "       0, 1, 0, 0, 1, 0, 1, 0, 0, 0, 0, 0, 1, 1, 1, 1, 1, 0, 1, 0, 0, 0])"
      ]
     },
     "execution_count": 41,
     "metadata": {},
     "output_type": "execute_result"
    }
   ],
   "source": [
    "m = np.rint(m).astype(int)\n",
    "m"
   ]
  },
  {
   "cell_type": "code",
   "execution_count": 42,
   "id": "293c5385",
   "metadata": {
    "execution": {
     "iopub.execute_input": "2022-07-26T21:45:39.995839Z",
     "iopub.status.busy": "2022-07-26T21:45:39.995170Z",
     "iopub.status.idle": "2022-07-26T21:45:40.008755Z",
     "shell.execute_reply": "2022-07-26T21:45:40.007892Z"
    },
    "papermill": {
     "duration": 0.03539,
     "end_time": "2022-07-26T21:45:40.010789",
     "exception": false,
     "start_time": "2022-07-26T21:45:39.975399",
     "status": "completed"
    },
    "tags": []
   },
   "outputs": [
    {
     "data": {
      "text/html": [
       "<div>\n",
       "<style scoped>\n",
       "    .dataframe tbody tr th:only-of-type {\n",
       "        vertical-align: middle;\n",
       "    }\n",
       "\n",
       "    .dataframe tbody tr th {\n",
       "        vertical-align: top;\n",
       "    }\n",
       "\n",
       "    .dataframe thead th {\n",
       "        text-align: right;\n",
       "    }\n",
       "</style>\n",
       "<table border=\"1\" class=\"dataframe\">\n",
       "  <thead>\n",
       "    <tr style=\"text-align: right;\">\n",
       "      <th></th>\n",
       "      <th>PassengerId</th>\n",
       "      <th>Survived</th>\n",
       "    </tr>\n",
       "  </thead>\n",
       "  <tbody>\n",
       "    <tr>\n",
       "      <th>0</th>\n",
       "      <td>892</td>\n",
       "      <td>0</td>\n",
       "    </tr>\n",
       "    <tr>\n",
       "      <th>1</th>\n",
       "      <td>893</td>\n",
       "      <td>0</td>\n",
       "    </tr>\n",
       "    <tr>\n",
       "      <th>2</th>\n",
       "      <td>894</td>\n",
       "      <td>0</td>\n",
       "    </tr>\n",
       "    <tr>\n",
       "      <th>3</th>\n",
       "      <td>895</td>\n",
       "      <td>0</td>\n",
       "    </tr>\n",
       "    <tr>\n",
       "      <th>4</th>\n",
       "      <td>896</td>\n",
       "      <td>1</td>\n",
       "    </tr>\n",
       "    <tr>\n",
       "      <th>...</th>\n",
       "      <td>...</td>\n",
       "      <td>...</td>\n",
       "    </tr>\n",
       "    <tr>\n",
       "      <th>413</th>\n",
       "      <td>1305</td>\n",
       "      <td>0</td>\n",
       "    </tr>\n",
       "    <tr>\n",
       "      <th>414</th>\n",
       "      <td>1306</td>\n",
       "      <td>1</td>\n",
       "    </tr>\n",
       "    <tr>\n",
       "      <th>415</th>\n",
       "      <td>1307</td>\n",
       "      <td>0</td>\n",
       "    </tr>\n",
       "    <tr>\n",
       "      <th>416</th>\n",
       "      <td>1308</td>\n",
       "      <td>0</td>\n",
       "    </tr>\n",
       "    <tr>\n",
       "      <th>417</th>\n",
       "      <td>1309</td>\n",
       "      <td>0</td>\n",
       "    </tr>\n",
       "  </tbody>\n",
       "</table>\n",
       "<p>418 rows × 2 columns</p>\n",
       "</div>"
      ],
      "text/plain": [
       "     PassengerId  Survived\n",
       "0            892         0\n",
       "1            893         0\n",
       "2            894         0\n",
       "3            895         0\n",
       "4            896         1\n",
       "..           ...       ...\n",
       "413         1305         0\n",
       "414         1306         1\n",
       "415         1307         0\n",
       "416         1308         0\n",
       "417         1309         0\n",
       "\n",
       "[418 rows x 2 columns]"
      ]
     },
     "execution_count": 42,
     "metadata": {},
     "output_type": "execute_result"
    }
   ],
   "source": [
    "sample_submission[\"Survived\"] = m\n",
    "sample_submission.to_csv(\"submission.csv\", index=False)\n",
    "sample_submission"
   ]
  }
 ],
 "metadata": {
  "kernelspec": {
   "display_name": "Python 3",
   "language": "python",
   "name": "python3"
  },
  "language_info": {
   "codemirror_mode": {
    "name": "ipython",
    "version": 3
   },
   "file_extension": ".py",
   "mimetype": "text/x-python",
   "name": "python",
   "nbconvert_exporter": "python",
   "pygments_lexer": "ipython3",
   "version": "3.7.12"
  },
  "papermill": {
   "default_parameters": {},
   "duration": 37.031816,
   "end_time": "2022-07-26T21:45:40.850894",
   "environment_variables": {},
   "exception": null,
   "input_path": "__notebook__.ipynb",
   "output_path": "__notebook__.ipynb",
   "parameters": {},
   "start_time": "2022-07-26T21:45:03.819078",
   "version": "2.3.4"
  }
 },
 "nbformat": 4,
 "nbformat_minor": 5
}
