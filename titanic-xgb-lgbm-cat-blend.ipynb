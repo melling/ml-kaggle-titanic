{
 "cells": [
  {
   "cell_type": "markdown",
   "id": "4faa413f",
   "metadata": {
    "papermill": {
     "duration": 0.015281,
     "end_time": "2022-07-07T21:52:24.827340",
     "exception": false,
     "start_time": "2022-07-07T21:52:24.812059",
     "status": "completed"
    },
    "tags": []
   },
   "source": [
    "<div style=\"background-color:rgba(255, 215, 0, 0.6);border-radius:5px;display:fill\">\n",
    "    <h1 style=\"text-align: center;padding: 12px 0px 12px 0px;\">🚢 Titanic: XGBoost + Optuna</h1>\n",
    "</div>\n",
    "<img src=\"https://www.seekpng.com/png/full/200-2002376_predicting-titanic-survivors-old-photos-of-the-titanic.png\" alt=\"Titanic\" width=\"300\"/>\n",
    "\n"
   ]
  },
  {
   "cell_type": "markdown",
   "id": "69b90296",
   "metadata": {
    "papermill": {
     "duration": 0.012898,
     "end_time": "2022-07-07T21:52:24.854193",
     "exception": false,
     "start_time": "2022-07-07T21:52:24.841295",
     "status": "completed"
    },
    "tags": []
   },
   "source": [
    "# Understanding the Titanic Data\n",
    "\n",
    "## Target - What we want to predict\n",
    "\n",
    "For the Titantic dataset the target is:`Survived`\n",
    "\n",
    "## Features\n",
    "\n",
    "- `Pclass` - Ticket class (1st,2nd,3rd)\n",
    "- `Name` - Full name\n",
    "- `Sex` - Gender\n",
    "- `Age` - Passenger's age\n",
    "- `SibSp` - # of siblings / spouses aboard the Titanic\n",
    "- `Parch` - # of parents / children aboard the Titanic\n",
    "- `Ticket` - Ticket number\n",
    "- `Fare` - What the passenger paid for a ticket\n",
    "- `Cabin` - Cabin number\n",
    "- `Embarked` - C = Cherbourg, Q = Queenstown, S = Southampton\n",
    "\n",
    "## Evaluation Metric\n",
    "\n",
    "$Acurracy = \\frac{True Positives (TP) + True Negatives (TN)}{True Positives (TP) + True Negatives (TN) + False Positives(FP) + False Negatives(FN)}$\n",
    "\n",
    "- https://en.wikipedia.org/wiki/Accuracy_and_precision#In_binary_classification\n",
    "\n",
    "Percentage of passengers you correctly predict.  In other words, accurately predict who survived and who did not.\n",
    "\n",
    "- https://developers.google.com/machine-learning/crash-course/classification/accuracy\n",
    "\n"
   ]
  },
  {
   "cell_type": "markdown",
   "id": "c60c5cf7",
   "metadata": {
    "papermill": {
     "duration": 0.01273,
     "end_time": "2022-07-07T21:52:24.880193",
     "exception": false,
     "start_time": "2022-07-07T21:52:24.867463",
     "status": "completed"
    },
    "tags": []
   },
   "source": [
    "<div style=\"background-color:rgba(255, 215, 0, 0.6);border-radius:5px;display:fill\"><h1 style=\"text-align: center;padding: 12px 0px 12px 0px;\">Import Libraries</h1>\n",
    "</div>"
   ]
  },
  {
   "cell_type": "code",
   "execution_count": 1,
   "id": "931cbee5",
   "metadata": {
    "execution": {
     "iopub.execute_input": "2022-07-07T21:52:24.911147Z",
     "iopub.status.busy": "2022-07-07T21:52:24.909941Z",
     "iopub.status.idle": "2022-07-07T21:52:26.522669Z",
     "shell.execute_reply": "2022-07-07T21:52:26.521093Z"
    },
    "papermill": {
     "duration": 1.633552,
     "end_time": "2022-07-07T21:52:26.526877",
     "exception": false,
     "start_time": "2022-07-07T21:52:24.893325",
     "status": "completed"
    },
    "tags": []
   },
   "outputs": [],
   "source": [
    "import os\n",
    "import time\n",
    "from pathlib import Path\n",
    "\n",
    "import pandas as pd\n",
    "import numpy as np\n",
    "\n",
    "from sklearn.model_selection import train_test_split\n",
    "from sklearn.linear_model import LogisticRegression, RidgeClassifier\n",
    "from sklearn.impute import SimpleImputer\n",
    "from sklearn.model_selection import KFold, StratifiedKFold\n",
    "from sklearn.metrics import accuracy_score\n",
    "from sklearn.metrics import classification_report, confusion_matrix\n",
    "\n",
    "\n",
    "# Visualization Libraries\n",
    "import matplotlib.pylab as plt\n",
    "import seaborn as sns\n",
    "\n",
    "%matplotlib inline\n",
    "\n",
    "from itertools import cycle\n",
    "\n",
    "plt.style.use(\"ggplot\")  # ggplot, fivethirtyeight\n",
    "color_pal = plt.rcParams[\"axes.prop_cycle\"].by_key()[\"color\"]\n",
    "color_cycle = cycle(plt.rcParams[\"axes.prop_cycle\"].by_key()[\"color\"])"
   ]
  },
  {
   "cell_type": "markdown",
   "id": "7f75a845",
   "metadata": {
    "papermill": {
     "duration": 0.01494,
     "end_time": "2022-07-07T21:52:26.555982",
     "exception": false,
     "start_time": "2022-07-07T21:52:26.541042",
     "status": "completed"
    },
    "tags": []
   },
   "source": [
    "<div style=\"background-color:rgba(255, 215, 0, 0.6);border-radius:5px;display:fill\"><h1 style=\"text-align: center;padding: 12px 0px 12px 0px;\">Configuration</h1>\n",
    "</div>"
   ]
  },
  {
   "cell_type": "code",
   "execution_count": null,
   "id": "2040fc42",
   "metadata": {
    "papermill": {
     "duration": 0.013694,
     "end_time": "2022-07-07T21:52:26.583370",
     "exception": false,
     "start_time": "2022-07-07T21:52:26.569676",
     "status": "completed"
    },
    "tags": []
   },
   "outputs": [],
   "source": []
  },
  {
   "cell_type": "code",
   "execution_count": 2,
   "id": "22e98d17",
   "metadata": {
    "execution": {
     "iopub.execute_input": "2022-07-07T21:52:26.616226Z",
     "iopub.status.busy": "2022-07-07T21:52:26.615360Z",
     "iopub.status.idle": "2022-07-07T21:52:26.620463Z",
     "shell.execute_reply": "2022-07-07T21:52:26.619521Z"
    },
    "papermill": {
     "duration": 0.025062,
     "end_time": "2022-07-07T21:52:26.623180",
     "exception": false,
     "start_time": "2022-07-07T21:52:26.598118",
     "status": "completed"
    },
    "tags": []
   },
   "outputs": [],
   "source": [
    "# Change for every project\n",
    "data_dir = \"../input/titanic\""
   ]
  },
  {
   "cell_type": "markdown",
   "id": "f168df83",
   "metadata": {
    "papermill": {
     "duration": 0.014254,
     "end_time": "2022-07-07T21:52:26.652318",
     "exception": false,
     "start_time": "2022-07-07T21:52:26.638064",
     "status": "completed"
    },
    "tags": []
   },
   "source": [
    "### The target/dependent variable in the dataset"
   ]
  },
  {
   "cell_type": "code",
   "execution_count": 3,
   "id": "6dd448fe",
   "metadata": {
    "execution": {
     "iopub.execute_input": "2022-07-07T21:52:26.681624Z",
     "iopub.status.busy": "2022-07-07T21:52:26.680792Z",
     "iopub.status.idle": "2022-07-07T21:52:26.685753Z",
     "shell.execute_reply": "2022-07-07T21:52:26.684852Z"
    },
    "papermill": {
     "duration": 0.022331,
     "end_time": "2022-07-07T21:52:26.688035",
     "exception": false,
     "start_time": "2022-07-07T21:52:26.665704",
     "status": "completed"
    },
    "tags": []
   },
   "outputs": [],
   "source": [
    "# Did the passenger survive?\n",
    "# 0 = No, 1 = Yes\n",
    "TARGET = \"Survived\""
   ]
  },
  {
   "cell_type": "markdown",
   "id": "6f1c558e",
   "metadata": {
    "papermill": {
     "duration": 0.013031,
     "end_time": "2022-07-07T21:52:26.714863",
     "exception": false,
     "start_time": "2022-07-07T21:52:26.701832",
     "status": "completed"
    },
    "tags": []
   },
   "source": [
    "<div style=\"background-color:rgba(255, 215, 0, 0.6);border-radius:5px;display:fill\"><h1 style=\"text-align: center;padding: 12px 0px 12px 0px;\">Library</h1>\n",
    "</div>\n",
    "\n",
    "Creating a few functions that we will reuse in each project."
   ]
  },
  {
   "cell_type": "code",
   "execution_count": 4,
   "id": "3bc72e9b",
   "metadata": {
    "execution": {
     "iopub.execute_input": "2022-07-07T21:52:26.744648Z",
     "iopub.status.busy": "2022-07-07T21:52:26.743816Z",
     "iopub.status.idle": "2022-07-07T21:52:26.750276Z",
     "shell.execute_reply": "2022-07-07T21:52:26.749299Z"
    },
    "papermill": {
     "duration": 0.024216,
     "end_time": "2022-07-07T21:52:26.752789",
     "exception": false,
     "start_time": "2022-07-07T21:52:26.728573",
     "status": "completed"
    },
    "tags": []
   },
   "outputs": [],
   "source": [
    "def read_data(path):\n",
    "    data_dir = Path(path)\n",
    "\n",
    "    train = pd.read_csv(data_dir / \"train.csv\")\n",
    "    test = pd.read_csv(data_dir / \"test.csv\")\n",
    "    submission_df = pd.read_csv(data_dir / \"gender_submission.csv\")\n",
    "\n",
    "    print(f\"train data: Rows={train.shape[0]}, Columns={train.shape[1]}\")\n",
    "    print(f\"test data : Rows={test.shape[0]}, Columns={test.shape[1]}\")\n",
    "    return train, test, submission_df"
   ]
  },
  {
   "cell_type": "code",
   "execution_count": 5,
   "id": "179a7c55",
   "metadata": {
    "execution": {
     "iopub.execute_input": "2022-07-07T21:52:26.782155Z",
     "iopub.status.busy": "2022-07-07T21:52:26.781257Z",
     "iopub.status.idle": "2022-07-07T21:52:26.787807Z",
     "shell.execute_reply": "2022-07-07T21:52:26.786814Z"
    },
    "papermill": {
     "duration": 0.024097,
     "end_time": "2022-07-07T21:52:26.790399",
     "exception": false,
     "start_time": "2022-07-07T21:52:26.766302",
     "status": "completed"
    },
    "tags": []
   },
   "outputs": [],
   "source": [
    "def create_submission(model_name, target, preds):\n",
    "    sample_submission[target] = preds\n",
    "\n",
    "    if len(model_name) > 0:\n",
    "        fname = \"submission_{model_name}.csv\"\n",
    "    else:\n",
    "        fname = \"submission.csv\"\n",
    "\n",
    "    sample_submission.to_csv(fname, index=False)\n",
    "\n",
    "    return sample_submission[:5]"
   ]
  },
  {
   "cell_type": "code",
   "execution_count": 6,
   "id": "28063722",
   "metadata": {
    "execution": {
     "iopub.execute_input": "2022-07-07T21:52:26.820672Z",
     "iopub.status.busy": "2022-07-07T21:52:26.819803Z",
     "iopub.status.idle": "2022-07-07T21:52:26.826868Z",
     "shell.execute_reply": "2022-07-07T21:52:26.825713Z"
    },
    "papermill": {
     "duration": 0.025015,
     "end_time": "2022-07-07T21:52:26.829609",
     "exception": false,
     "start_time": "2022-07-07T21:52:26.804594",
     "status": "completed"
    },
    "tags": []
   },
   "outputs": [],
   "source": [
    "from sklearn.metrics import accuracy_score, precision_score, recall_score, f1_score\n",
    "\n",
    "\n",
    "def show_scores(gt, yhat):\n",
    "    accuracy = accuracy_score(gt, yhat)\n",
    "    precision = precision_score(gt, yhat)\n",
    "    recall = recall_score(gt, yhat)\n",
    "    f1 = f1_score(gt, yhat)\n",
    "\n",
    "    print(f\"Accuracy: {accuracy:.4f}\")\n",
    "    print(f\"Precision: {precision:.4f}\")\n",
    "    print(f\"Recall: {recall:.4f}\")\n",
    "    print(f\"f1: {f1:.4f}\")"
   ]
  },
  {
   "cell_type": "code",
   "execution_count": 7,
   "id": "3bcb320b",
   "metadata": {
    "execution": {
     "iopub.execute_input": "2022-07-07T21:52:26.859489Z",
     "iopub.status.busy": "2022-07-07T21:52:26.858398Z",
     "iopub.status.idle": "2022-07-07T21:52:26.866089Z",
     "shell.execute_reply": "2022-07-07T21:52:26.865042Z"
    },
    "papermill": {
     "duration": 0.025349,
     "end_time": "2022-07-07T21:52:26.868815",
     "exception": false,
     "start_time": "2022-07-07T21:52:26.843466",
     "status": "completed"
    },
    "tags": []
   },
   "outputs": [],
   "source": [
    "from sklearn.preprocessing import LabelEncoder\n",
    "\n",
    "\n",
    "def label_encoder(train, test, columns):\n",
    "    for col in columns:\n",
    "        train[col] = train[col].astype(str)\n",
    "        test[col] = test[col].astype(str)\n",
    "        train[col] = LabelEncoder().fit_transform(train[col])\n",
    "        test[col] = LabelEncoder().fit_transform(test[col])\n",
    "    return train, test"
   ]
  },
  {
   "cell_type": "code",
   "execution_count": 8,
   "id": "92ff1c6b",
   "metadata": {
    "execution": {
     "iopub.execute_input": "2022-07-07T21:52:26.898756Z",
     "iopub.status.busy": "2022-07-07T21:52:26.897913Z",
     "iopub.status.idle": "2022-07-07T21:52:26.905094Z",
     "shell.execute_reply": "2022-07-07T21:52:26.903672Z"
    },
    "papermill": {
     "duration": 0.025805,
     "end_time": "2022-07-07T21:52:26.908593",
     "exception": false,
     "start_time": "2022-07-07T21:52:26.882788",
     "status": "completed"
    },
    "tags": []
   },
   "outputs": [],
   "source": [
    "from sklearn.preprocessing import OneHotEncoder\n",
    "\n",
    "\n",
    "def one_hot_encoder(train, test, columns):\n",
    "    for col in columns:\n",
    "        train[col] = train[col].astype(str)\n",
    "        test[col] = test[col].astype(str)\n",
    "        train[col] = LabelEncoder().fit_transform(train[col])\n",
    "        test[col] = LabelEncoder().fit_transform(test[col])\n",
    "    return train, test"
   ]
  },
  {
   "cell_type": "code",
   "execution_count": 9,
   "id": "976c0e99",
   "metadata": {
    "execution": {
     "iopub.execute_input": "2022-07-07T21:52:26.937144Z",
     "iopub.status.busy": "2022-07-07T21:52:26.936669Z",
     "iopub.status.idle": "2022-07-07T21:52:26.942745Z",
     "shell.execute_reply": "2022-07-07T21:52:26.941539Z"
    },
    "papermill": {
     "duration": 0.023323,
     "end_time": "2022-07-07T21:52:26.945243",
     "exception": false,
     "start_time": "2022-07-07T21:52:26.921920",
     "status": "completed"
    },
    "tags": []
   },
   "outputs": [],
   "source": [
    "def show_missing_features(df):\n",
    "    missing_vals = df.isna().sum()\n",
    "    print(missing_vals[missing_vals > 0])"
   ]
  },
  {
   "cell_type": "markdown",
   "id": "748db0e4",
   "metadata": {
    "papermill": {
     "duration": 0.012849,
     "end_time": "2022-07-07T21:52:26.971538",
     "exception": false,
     "start_time": "2022-07-07T21:52:26.958689",
     "status": "completed"
    },
    "tags": []
   },
   "source": [
    "<div style=\"background-color:rgba(255, 215, 0, 0.6);border-radius:5px;display:fill\"><h1 style=\"text-align: center;padding: 12px 0px 12px 0px;\">Load Train/Test Data</h1>\n",
    "</div>\n",
    "\n",
    "## Load the following files\n",
    "\n",
    " - train.csv - Data used to build our machine learning model\n",
    " - test.csv - Data used to build our machine learning model. Does not contain the `Suvived` target variable\n",
    " - gender_submission.csv - A file in the proper format to submit test predictions"
   ]
  },
  {
   "cell_type": "code",
   "execution_count": 10,
   "id": "1c8c3bab",
   "metadata": {
    "execution": {
     "iopub.execute_input": "2022-07-07T21:52:27.000602Z",
     "iopub.status.busy": "2022-07-07T21:52:26.999618Z",
     "iopub.status.idle": "2022-07-07T21:52:27.045845Z",
     "shell.execute_reply": "2022-07-07T21:52:27.044780Z"
    },
    "papermill": {
     "duration": 0.063996,
     "end_time": "2022-07-07T21:52:27.048752",
     "exception": false,
     "start_time": "2022-07-07T21:52:26.984756",
     "status": "completed"
    },
    "tags": []
   },
   "outputs": [
    {
     "name": "stdout",
     "output_type": "stream",
     "text": [
      "train data: Rows=891, Columns=12\n",
      "test data : Rows=418, Columns=11\n"
     ]
    }
   ],
   "source": [
    "train, test, sample_submission = read_data(data_dir)"
   ]
  },
  {
   "cell_type": "code",
   "execution_count": 11,
   "id": "657e628a",
   "metadata": {
    "execution": {
     "iopub.execute_input": "2022-07-07T21:52:27.078533Z",
     "iopub.status.busy": "2022-07-07T21:52:27.077674Z",
     "iopub.status.idle": "2022-07-07T21:52:27.104466Z",
     "shell.execute_reply": "2022-07-07T21:52:27.103105Z"
    },
    "papermill": {
     "duration": 0.044909,
     "end_time": "2022-07-07T21:52:27.107626",
     "exception": false,
     "start_time": "2022-07-07T21:52:27.062717",
     "status": "completed"
    },
    "tags": []
   },
   "outputs": [
    {
     "data": {
      "text/html": [
       "<div>\n",
       "<style scoped>\n",
       "    .dataframe tbody tr th:only-of-type {\n",
       "        vertical-align: middle;\n",
       "    }\n",
       "\n",
       "    .dataframe tbody tr th {\n",
       "        vertical-align: top;\n",
       "    }\n",
       "\n",
       "    .dataframe thead th {\n",
       "        text-align: right;\n",
       "    }\n",
       "</style>\n",
       "<table border=\"1\" class=\"dataframe\">\n",
       "  <thead>\n",
       "    <tr style=\"text-align: right;\">\n",
       "      <th></th>\n",
       "      <th>PassengerId</th>\n",
       "      <th>Survived</th>\n",
       "      <th>Pclass</th>\n",
       "      <th>Name</th>\n",
       "      <th>Sex</th>\n",
       "      <th>Age</th>\n",
       "      <th>SibSp</th>\n",
       "      <th>Parch</th>\n",
       "      <th>Ticket</th>\n",
       "      <th>Fare</th>\n",
       "      <th>Cabin</th>\n",
       "      <th>Embarked</th>\n",
       "    </tr>\n",
       "  </thead>\n",
       "  <tbody>\n",
       "    <tr>\n",
       "      <th>0</th>\n",
       "      <td>1</td>\n",
       "      <td>0</td>\n",
       "      <td>3</td>\n",
       "      <td>Braund, Mr. Owen Harris</td>\n",
       "      <td>male</td>\n",
       "      <td>22.0</td>\n",
       "      <td>1</td>\n",
       "      <td>0</td>\n",
       "      <td>A/5 21171</td>\n",
       "      <td>7.2500</td>\n",
       "      <td>NaN</td>\n",
       "      <td>S</td>\n",
       "    </tr>\n",
       "    <tr>\n",
       "      <th>1</th>\n",
       "      <td>2</td>\n",
       "      <td>1</td>\n",
       "      <td>1</td>\n",
       "      <td>Cumings, Mrs. John Bradley (Florence Briggs Th...</td>\n",
       "      <td>female</td>\n",
       "      <td>38.0</td>\n",
       "      <td>1</td>\n",
       "      <td>0</td>\n",
       "      <td>PC 17599</td>\n",
       "      <td>71.2833</td>\n",
       "      <td>C85</td>\n",
       "      <td>C</td>\n",
       "    </tr>\n",
       "    <tr>\n",
       "      <th>2</th>\n",
       "      <td>3</td>\n",
       "      <td>1</td>\n",
       "      <td>3</td>\n",
       "      <td>Heikkinen, Miss. Laina</td>\n",
       "      <td>female</td>\n",
       "      <td>26.0</td>\n",
       "      <td>0</td>\n",
       "      <td>0</td>\n",
       "      <td>STON/O2. 3101282</td>\n",
       "      <td>7.9250</td>\n",
       "      <td>NaN</td>\n",
       "      <td>S</td>\n",
       "    </tr>\n",
       "    <tr>\n",
       "      <th>3</th>\n",
       "      <td>4</td>\n",
       "      <td>1</td>\n",
       "      <td>1</td>\n",
       "      <td>Futrelle, Mrs. Jacques Heath (Lily May Peel)</td>\n",
       "      <td>female</td>\n",
       "      <td>35.0</td>\n",
       "      <td>1</td>\n",
       "      <td>0</td>\n",
       "      <td>113803</td>\n",
       "      <td>53.1000</td>\n",
       "      <td>C123</td>\n",
       "      <td>S</td>\n",
       "    </tr>\n",
       "    <tr>\n",
       "      <th>4</th>\n",
       "      <td>5</td>\n",
       "      <td>0</td>\n",
       "      <td>3</td>\n",
       "      <td>Allen, Mr. William Henry</td>\n",
       "      <td>male</td>\n",
       "      <td>35.0</td>\n",
       "      <td>0</td>\n",
       "      <td>0</td>\n",
       "      <td>373450</td>\n",
       "      <td>8.0500</td>\n",
       "      <td>NaN</td>\n",
       "      <td>S</td>\n",
       "    </tr>\n",
       "  </tbody>\n",
       "</table>\n",
       "</div>"
      ],
      "text/plain": [
       "   PassengerId  Survived  Pclass  \\\n",
       "0            1         0       3   \n",
       "1            2         1       1   \n",
       "2            3         1       3   \n",
       "3            4         1       1   \n",
       "4            5         0       3   \n",
       "\n",
       "                                                Name     Sex   Age  SibSp  \\\n",
       "0                            Braund, Mr. Owen Harris    male  22.0      1   \n",
       "1  Cumings, Mrs. John Bradley (Florence Briggs Th...  female  38.0      1   \n",
       "2                             Heikkinen, Miss. Laina  female  26.0      0   \n",
       "3       Futrelle, Mrs. Jacques Heath (Lily May Peel)  female  35.0      1   \n",
       "4                           Allen, Mr. William Henry    male  35.0      0   \n",
       "\n",
       "   Parch            Ticket     Fare Cabin Embarked  \n",
       "0      0         A/5 21171   7.2500   NaN        S  \n",
       "1      0          PC 17599  71.2833   C85        C  \n",
       "2      0  STON/O2. 3101282   7.9250   NaN        S  \n",
       "3      0            113803  53.1000  C123        S  \n",
       "4      0            373450   8.0500   NaN        S  "
      ]
     },
     "execution_count": 11,
     "metadata": {},
     "output_type": "execute_result"
    }
   ],
   "source": [
    "train.head()"
   ]
  },
  {
   "cell_type": "code",
   "execution_count": 12,
   "id": "84eca60d",
   "metadata": {
    "execution": {
     "iopub.execute_input": "2022-07-07T21:52:27.138717Z",
     "iopub.status.busy": "2022-07-07T21:52:27.138142Z",
     "iopub.status.idle": "2022-07-07T21:52:27.146653Z",
     "shell.execute_reply": "2022-07-07T21:52:27.145369Z"
    },
    "papermill": {
     "duration": 0.02711,
     "end_time": "2022-07-07T21:52:27.149265",
     "exception": false,
     "start_time": "2022-07-07T21:52:27.122155",
     "status": "completed"
    },
    "tags": []
   },
   "outputs": [
    {
     "data": {
      "text/plain": [
       "Index(['PassengerId', 'Survived', 'Pclass', 'Name', 'Sex', 'Age', 'SibSp',\n",
       "       'Parch', 'Ticket', 'Fare', 'Cabin', 'Embarked'],\n",
       "      dtype='object')"
      ]
     },
     "execution_count": 12,
     "metadata": {},
     "output_type": "execute_result"
    }
   ],
   "source": [
    "train.columns"
   ]
  },
  {
   "cell_type": "code",
   "execution_count": 13,
   "id": "721cf76b",
   "metadata": {
    "execution": {
     "iopub.execute_input": "2022-07-07T21:52:27.181730Z",
     "iopub.status.busy": "2022-07-07T21:52:27.180727Z",
     "iopub.status.idle": "2022-07-07T21:52:27.197802Z",
     "shell.execute_reply": "2022-07-07T21:52:27.196592Z"
    },
    "papermill": {
     "duration": 0.036094,
     "end_time": "2022-07-07T21:52:27.200855",
     "exception": false,
     "start_time": "2022-07-07T21:52:27.164761",
     "status": "completed"
    },
    "tags": []
   },
   "outputs": [],
   "source": [
    "train = train.drop(columns=[\"PassengerId\", \"Name\", \"Ticket\", \"Cabin\"], axis=1).copy()\n",
    "test = test.drop(columns=[\"PassengerId\"], axis=1).copy()"
   ]
  },
  {
   "cell_type": "markdown",
   "id": "a9d31864",
   "metadata": {
    "papermill": {
     "duration": 0.013401,
     "end_time": "2022-07-07T21:52:27.228091",
     "exception": false,
     "start_time": "2022-07-07T21:52:27.214690",
     "status": "completed"
    },
    "tags": []
   },
   "source": [
    "## Categorical/Numerical Variables"
   ]
  },
  {
   "cell_type": "code",
   "execution_count": 14,
   "id": "1e7245ec",
   "metadata": {
    "execution": {
     "iopub.execute_input": "2022-07-07T21:52:27.258715Z",
     "iopub.status.busy": "2022-07-07T21:52:27.258157Z",
     "iopub.status.idle": "2022-07-07T21:52:27.270767Z",
     "shell.execute_reply": "2022-07-07T21:52:27.269815Z"
    },
    "papermill": {
     "duration": 0.031199,
     "end_time": "2022-07-07T21:52:27.273450",
     "exception": false,
     "start_time": "2022-07-07T21:52:27.242251",
     "status": "completed"
    },
    "tags": []
   },
   "outputs": [],
   "source": [
    "## Separate Categorical and Numerical Features\n",
    "cat_features = list(train.select_dtypes(include=[\"category\", \"object\"]).columns)\n",
    "num_features = list(test.select_dtypes(include=[\"number\"]).columns)\n",
    "\n",
    "FEATURES = cat_features + num_features"
   ]
  },
  {
   "cell_type": "code",
   "execution_count": 15,
   "id": "ea9f4ce4",
   "metadata": {
    "execution": {
     "iopub.execute_input": "2022-07-07T21:52:27.303431Z",
     "iopub.status.busy": "2022-07-07T21:52:27.302577Z",
     "iopub.status.idle": "2022-07-07T21:52:27.330737Z",
     "shell.execute_reply": "2022-07-07T21:52:27.329572Z"
    },
    "papermill": {
     "duration": 0.046721,
     "end_time": "2022-07-07T21:52:27.333632",
     "exception": false,
     "start_time": "2022-07-07T21:52:27.286911",
     "status": "completed"
    },
    "tags": []
   },
   "outputs": [],
   "source": [
    "from sklearn.impute import SimpleImputer\n",
    "\n",
    "# Categorical\n",
    "imputer = SimpleImputer(strategy=\"most_frequent\")\n",
    "\n",
    "train[cat_features] = imputer.fit_transform(train[cat_features])\n",
    "test[cat_features] = imputer.transform(test[cat_features])\n",
    "\n",
    "# Numerical\n",
    "\n",
    "# imputer = SimpleImputer(strategy=\"mean\")\n",
    "imputer = SimpleImputer(strategy=\"median\")  # median is more robust to outliers\n",
    "\n",
    "train[num_features] = imputer.fit_transform(train[num_features])\n",
    "test[num_features] = imputer.transform(test[num_features])"
   ]
  },
  {
   "cell_type": "markdown",
   "id": "74e6c22b",
   "metadata": {
    "papermill": {
     "duration": 0.013206,
     "end_time": "2022-07-07T21:52:27.360237",
     "exception": false,
     "start_time": "2022-07-07T21:52:27.347031",
     "status": "completed"
    },
    "tags": []
   },
   "source": [
    "<div style=\"background-color:rgba(255, 215, 0, 0.6);border-radius:5px;display:fill\"><h1 style=\"text-align: center;padding: 12px 0px 12px 0px;\">Feature Engineering</h1>\n",
    "</div>\n",
    "\n",
    "- [Titanic - Advanced Feature Engineering Tutorial](https://www.kaggle.com/gunesevitan/titanic-advanced-feature-engineering-tutorial)\n",
    "- [Titanic Survival Predictions (Beginner)](https://www.kaggle.com/nadintamer/titanic-survival-predictions-beginner)\n",
    "- [Exploring Survival on the Titanic](https://www.kaggle.com/mrisdal/exploring-survival-on-the-titanic)"
   ]
  },
  {
   "cell_type": "code",
   "execution_count": 16,
   "id": "bb3ea856",
   "metadata": {
    "execution": {
     "iopub.execute_input": "2022-07-07T21:52:27.390231Z",
     "iopub.status.busy": "2022-07-07T21:52:27.389394Z",
     "iopub.status.idle": "2022-07-07T21:52:27.394677Z",
     "shell.execute_reply": "2022-07-07T21:52:27.393717Z"
    },
    "papermill": {
     "duration": 0.023553,
     "end_time": "2022-07-07T21:52:27.397477",
     "exception": false,
     "start_time": "2022-07-07T21:52:27.373924",
     "status": "completed"
    },
    "tags": []
   },
   "outputs": [],
   "source": [
    "# FEATURES = [\"Pclass\", \"Sex\", \"Age\", \"SibSp\", \"Parch\", \"Embarked\"]"
   ]
  },
  {
   "cell_type": "code",
   "execution_count": 17,
   "id": "a26660d0",
   "metadata": {
    "execution": {
     "iopub.execute_input": "2022-07-07T21:52:27.429380Z",
     "iopub.status.busy": "2022-07-07T21:52:27.428501Z",
     "iopub.status.idle": "2022-07-07T21:52:27.447669Z",
     "shell.execute_reply": "2022-07-07T21:52:27.446144Z"
    },
    "papermill": {
     "duration": 0.038861,
     "end_time": "2022-07-07T21:52:27.450941",
     "exception": false,
     "start_time": "2022-07-07T21:52:27.412080",
     "status": "completed"
    },
    "tags": []
   },
   "outputs": [
    {
     "data": {
      "text/html": [
       "<div>\n",
       "<style scoped>\n",
       "    .dataframe tbody tr th:only-of-type {\n",
       "        vertical-align: middle;\n",
       "    }\n",
       "\n",
       "    .dataframe tbody tr th {\n",
       "        vertical-align: top;\n",
       "    }\n",
       "\n",
       "    .dataframe thead th {\n",
       "        text-align: right;\n",
       "    }\n",
       "</style>\n",
       "<table border=\"1\" class=\"dataframe\">\n",
       "  <thead>\n",
       "    <tr style=\"text-align: right;\">\n",
       "      <th></th>\n",
       "      <th>Sex</th>\n",
       "      <th>Embarked</th>\n",
       "      <th>Pclass</th>\n",
       "      <th>Age</th>\n",
       "      <th>SibSp</th>\n",
       "      <th>Parch</th>\n",
       "      <th>Fare</th>\n",
       "    </tr>\n",
       "  </thead>\n",
       "  <tbody>\n",
       "    <tr>\n",
       "      <th>0</th>\n",
       "      <td>male</td>\n",
       "      <td>S</td>\n",
       "      <td>3.0</td>\n",
       "      <td>22.0</td>\n",
       "      <td>1.0</td>\n",
       "      <td>0.0</td>\n",
       "      <td>7.2500</td>\n",
       "    </tr>\n",
       "    <tr>\n",
       "      <th>1</th>\n",
       "      <td>female</td>\n",
       "      <td>C</td>\n",
       "      <td>1.0</td>\n",
       "      <td>38.0</td>\n",
       "      <td>1.0</td>\n",
       "      <td>0.0</td>\n",
       "      <td>71.2833</td>\n",
       "    </tr>\n",
       "    <tr>\n",
       "      <th>2</th>\n",
       "      <td>female</td>\n",
       "      <td>S</td>\n",
       "      <td>3.0</td>\n",
       "      <td>26.0</td>\n",
       "      <td>0.0</td>\n",
       "      <td>0.0</td>\n",
       "      <td>7.9250</td>\n",
       "    </tr>\n",
       "    <tr>\n",
       "      <th>3</th>\n",
       "      <td>female</td>\n",
       "      <td>S</td>\n",
       "      <td>1.0</td>\n",
       "      <td>35.0</td>\n",
       "      <td>1.0</td>\n",
       "      <td>0.0</td>\n",
       "      <td>53.1000</td>\n",
       "    </tr>\n",
       "    <tr>\n",
       "      <th>4</th>\n",
       "      <td>male</td>\n",
       "      <td>S</td>\n",
       "      <td>3.0</td>\n",
       "      <td>35.0</td>\n",
       "      <td>0.0</td>\n",
       "      <td>0.0</td>\n",
       "      <td>8.0500</td>\n",
       "    </tr>\n",
       "  </tbody>\n",
       "</table>\n",
       "</div>"
      ],
      "text/plain": [
       "      Sex Embarked  Pclass   Age  SibSp  Parch     Fare\n",
       "0    male        S     3.0  22.0    1.0    0.0   7.2500\n",
       "1  female        C     1.0  38.0    1.0    0.0  71.2833\n",
       "2  female        S     3.0  26.0    0.0    0.0   7.9250\n",
       "3  female        S     1.0  35.0    1.0    0.0  53.1000\n",
       "4    male        S     3.0  35.0    0.0    0.0   8.0500"
      ]
     },
     "execution_count": 17,
     "metadata": {},
     "output_type": "execute_result"
    }
   ],
   "source": [
    "train[FEATURES].head()"
   ]
  },
  {
   "cell_type": "markdown",
   "id": "e82ba6e1",
   "metadata": {
    "papermill": {
     "duration": 0.014933,
     "end_time": "2022-07-07T21:52:27.481013",
     "exception": false,
     "start_time": "2022-07-07T21:52:27.466080",
     "status": "completed"
    },
    "tags": []
   },
   "source": [
    "# Extract Target and Drop Unused Columns"
   ]
  },
  {
   "cell_type": "code",
   "execution_count": 18,
   "id": "790d3884",
   "metadata": {
    "execution": {
     "iopub.execute_input": "2022-07-07T21:52:27.512817Z",
     "iopub.status.busy": "2022-07-07T21:52:27.511856Z",
     "iopub.status.idle": "2022-07-07T21:52:27.518509Z",
     "shell.execute_reply": "2022-07-07T21:52:27.517016Z"
    },
    "papermill": {
     "duration": 0.026698,
     "end_time": "2022-07-07T21:52:27.522009",
     "exception": false,
     "start_time": "2022-07-07T21:52:27.495311",
     "status": "completed"
    },
    "tags": []
   },
   "outputs": [],
   "source": [
    "y = train[TARGET]\n",
    "\n",
    "\n",
    "\n",
    "# X = train_df.drop(columns=[\"PassengerId\", \"Survived\"], axis=1).copy()\n",
    "# X = train[FEATURES].copy()"
   ]
  },
  {
   "cell_type": "markdown",
   "id": "3422459d",
   "metadata": {
    "papermill": {
     "duration": 0.013591,
     "end_time": "2022-07-07T21:52:27.549555",
     "exception": false,
     "start_time": "2022-07-07T21:52:27.535964",
     "status": "completed"
    },
    "tags": []
   },
   "source": [
    "<div style=\"background-color:rgba(255, 215, 0, 0.6);border-radius:5px;display:fill\"><h1 style=\"text-align: center;padding: 12px 0px 12px 0px;\">Missing Values</h1>\n",
    "</div>\n",
    "\n",
    "We have 891 rows of training data. Age is the only feature, that we are using, with missing data.\n",
    "\n",
    "Note, handling missing data is an entire subject that should be studied in detail.  Kaggle offers a [course](https://www.kaggle.com/learn/data-cleaning)\n",
    "\n",
    "- [sklearn.impute.SimpleImputer](https://scikit-learn.org/stable/modules/impute.html)\n",
    "- https://scikit-learn.org/stable/modules/impute.html\n",
    "\n",
    "- [A Guide to Handling Missing values in Python](https://www.kaggle.com/parulpandey/a-guide-to-handling-missing-values-in-python)"
   ]
  },
  {
   "cell_type": "code",
   "execution_count": 19,
   "id": "e8e579bc",
   "metadata": {
    "execution": {
     "iopub.execute_input": "2022-07-07T21:52:27.580092Z",
     "iopub.status.busy": "2022-07-07T21:52:27.579344Z",
     "iopub.status.idle": "2022-07-07T21:52:27.588686Z",
     "shell.execute_reply": "2022-07-07T21:52:27.586913Z"
    },
    "papermill": {
     "duration": 0.0285,
     "end_time": "2022-07-07T21:52:27.592145",
     "exception": false,
     "start_time": "2022-07-07T21:52:27.563645",
     "status": "completed"
    },
    "tags": []
   },
   "outputs": [
    {
     "name": "stdout",
     "output_type": "stream",
     "text": [
      "Series([], dtype: int64)\n"
     ]
    }
   ],
   "source": [
    "# missing_vals = train.isna().sum()\n",
    "# print(missing_vals[missing_vals > 0])\n",
    "show_missing_features(train)"
   ]
  },
  {
   "cell_type": "code",
   "execution_count": 20,
   "id": "cfbc3eb3",
   "metadata": {
    "execution": {
     "iopub.execute_input": "2022-07-07T21:52:27.623485Z",
     "iopub.status.busy": "2022-07-07T21:52:27.622712Z",
     "iopub.status.idle": "2022-07-07T21:52:27.629960Z",
     "shell.execute_reply": "2022-07-07T21:52:27.628759Z"
    },
    "papermill": {
     "duration": 0.025725,
     "end_time": "2022-07-07T21:52:27.632698",
     "exception": false,
     "start_time": "2022-07-07T21:52:27.606973",
     "status": "completed"
    },
    "tags": []
   },
   "outputs": [
    {
     "name": "stdout",
     "output_type": "stream",
     "text": [
      "Number missing: 0\n"
     ]
    }
   ],
   "source": [
    "n = train[\"Age\"].isna().sum()\n",
    "print(f\"Number missing: {n}\")"
   ]
  },
  {
   "cell_type": "markdown",
   "id": "6e32a508",
   "metadata": {
    "papermill": {
     "duration": 0.013893,
     "end_time": "2022-07-07T21:52:27.660545",
     "exception": false,
     "start_time": "2022-07-07T21:52:27.646652",
     "status": "completed"
    },
    "tags": []
   },
   "source": [
    "### Manual Imputation of Age"
   ]
  },
  {
   "cell_type": "code",
   "execution_count": 21,
   "id": "0548f374",
   "metadata": {
    "execution": {
     "iopub.execute_input": "2022-07-07T21:52:27.691088Z",
     "iopub.status.busy": "2022-07-07T21:52:27.689952Z",
     "iopub.status.idle": "2022-07-07T21:52:27.697179Z",
     "shell.execute_reply": "2022-07-07T21:52:27.696249Z"
    },
    "papermill": {
     "duration": 0.025422,
     "end_time": "2022-07-07T21:52:27.699999",
     "exception": false,
     "start_time": "2022-07-07T21:52:27.674577",
     "status": "completed"
    },
    "tags": []
   },
   "outputs": [
    {
     "name": "stdout",
     "output_type": "stream",
     "text": [
      "Mean age of person on the Titanic: 29.36\n"
     ]
    }
   ],
   "source": [
    "# train_df[\"Age\"].fillna(train_df[\"Age\"].mean(), inplace = True)\n",
    "m = train[\"Age\"].mean()\n",
    "print(f\"Mean age of person on the Titanic: {m:0.2f}\")"
   ]
  },
  {
   "cell_type": "code",
   "execution_count": 22,
   "id": "bc7569ae",
   "metadata": {
    "execution": {
     "iopub.execute_input": "2022-07-07T21:52:27.731488Z",
     "iopub.status.busy": "2022-07-07T21:52:27.730745Z",
     "iopub.status.idle": "2022-07-07T21:52:27.742381Z",
     "shell.execute_reply": "2022-07-07T21:52:27.740841Z"
    },
    "papermill": {
     "duration": 0.031001,
     "end_time": "2022-07-07T21:52:27.745693",
     "exception": false,
     "start_time": "2022-07-07T21:52:27.714692",
     "status": "completed"
    },
    "tags": []
   },
   "outputs": [],
   "source": [
    "train[\"Age\"].fillna(train[\"Age\"].median(skipna=True), inplace=True)\n",
    "train[\"Embarked\"].fillna(train[\"Embarked\"].value_counts().idxmax(), inplace=True)"
   ]
  },
  {
   "cell_type": "markdown",
   "id": "40aa1880",
   "metadata": {
    "papermill": {
     "duration": 0.014695,
     "end_time": "2022-07-07T21:52:27.775472",
     "exception": false,
     "start_time": "2022-07-07T21:52:27.760777",
     "status": "completed"
    },
    "tags": []
   },
   "source": [
    "### Use SimpleImputer Function for Age\n",
    "\n",
    "Leaving the SimpleImputer code uncommented.  It should do nothing since we filled in the values above."
   ]
  },
  {
   "cell_type": "code",
   "execution_count": 23,
   "id": "72daad64",
   "metadata": {
    "execution": {
     "iopub.execute_input": "2022-07-07T21:52:27.805733Z",
     "iopub.status.busy": "2022-07-07T21:52:27.805261Z",
     "iopub.status.idle": "2022-07-07T21:52:27.823385Z",
     "shell.execute_reply": "2022-07-07T21:52:27.821997Z"
    },
    "papermill": {
     "duration": 0.03712,
     "end_time": "2022-07-07T21:52:27.826659",
     "exception": false,
     "start_time": "2022-07-07T21:52:27.789539",
     "status": "completed"
    },
    "tags": []
   },
   "outputs": [],
   "source": [
    "impute_mean = SimpleImputer(missing_values=np.nan, strategy=\"mean\", verbose=1)\n",
    "m = impute_mean.fit_transform(train[[\"Age\"]])\n",
    "# mt = impute_mean.transform(test[[\"Age\"]])\n",
    "\n",
    "train[\"Age\"] = impute_mean.fit_transform(train[[\"Age\"]])\n",
    "test[\"Age\"] = impute_mean.transform(test[[\"Age\"]])"
   ]
  },
  {
   "cell_type": "markdown",
   "id": "2764c861",
   "metadata": {
    "papermill": {
     "duration": 0.013766,
     "end_time": "2022-07-07T21:52:27.854759",
     "exception": false,
     "start_time": "2022-07-07T21:52:27.840993",
     "status": "completed"
    },
    "tags": []
   },
   "source": [
    "### At this point we no longer have missing values"
   ]
  },
  {
   "cell_type": "code",
   "execution_count": 24,
   "id": "c7671aa8",
   "metadata": {
    "execution": {
     "iopub.execute_input": "2022-07-07T21:52:27.885125Z",
     "iopub.status.busy": "2022-07-07T21:52:27.884645Z",
     "iopub.status.idle": "2022-07-07T21:52:27.893796Z",
     "shell.execute_reply": "2022-07-07T21:52:27.892591Z"
    },
    "papermill": {
     "duration": 0.027284,
     "end_time": "2022-07-07T21:52:27.896177",
     "exception": false,
     "start_time": "2022-07-07T21:52:27.868893",
     "status": "completed"
    },
    "tags": []
   },
   "outputs": [
    {
     "name": "stdout",
     "output_type": "stream",
     "text": [
      "Series([], dtype: int64)\n"
     ]
    }
   ],
   "source": [
    "show_missing_features(train)"
   ]
  },
  {
   "cell_type": "markdown",
   "id": "cf5040d0",
   "metadata": {
    "papermill": {
     "duration": 0.014363,
     "end_time": "2022-07-07T21:52:27.924680",
     "exception": false,
     "start_time": "2022-07-07T21:52:27.910317",
     "status": "completed"
    },
    "tags": []
   },
   "source": [
    "# Encoding Categorical Features\n",
    "\n",
    "Need to convert categorical features into numerical features.\n",
    "\n",
    "Several ways:\n",
    "- One-hot Encode\n",
    "- Label Encode"
   ]
  },
  {
   "cell_type": "markdown",
   "id": "2dbbeacc",
   "metadata": {
    "papermill": {
     "duration": 0.013657,
     "end_time": "2022-07-07T21:52:27.952456",
     "exception": false,
     "start_time": "2022-07-07T21:52:27.938799",
     "status": "completed"
    },
    "tags": []
   },
   "source": [
    "### Encode `Embarked`\n",
    "\n",
    "First compare what the **drop_first=True** option does.  Some machine learning models require this option while others do not.  Logitistic regression requires us to drop the value."
   ]
  },
  {
   "cell_type": "code",
   "execution_count": 25,
   "id": "fa538ec7",
   "metadata": {
    "execution": {
     "iopub.execute_input": "2022-07-07T21:52:27.983660Z",
     "iopub.status.busy": "2022-07-07T21:52:27.982908Z",
     "iopub.status.idle": "2022-07-07T21:52:28.003892Z",
     "shell.execute_reply": "2022-07-07T21:52:28.002457Z"
    },
    "papermill": {
     "duration": 0.039423,
     "end_time": "2022-07-07T21:52:28.006555",
     "exception": false,
     "start_time": "2022-07-07T21:52:27.967132",
     "status": "completed"
    },
    "tags": []
   },
   "outputs": [
    {
     "data": {
      "text/html": [
       "<div>\n",
       "<style scoped>\n",
       "    .dataframe tbody tr th:only-of-type {\n",
       "        vertical-align: middle;\n",
       "    }\n",
       "\n",
       "    .dataframe tbody tr th {\n",
       "        vertical-align: top;\n",
       "    }\n",
       "\n",
       "    .dataframe thead th {\n",
       "        text-align: right;\n",
       "    }\n",
       "</style>\n",
       "<table border=\"1\" class=\"dataframe\">\n",
       "  <thead>\n",
       "    <tr style=\"text-align: right;\">\n",
       "      <th></th>\n",
       "      <th>Survived</th>\n",
       "      <th>Pclass</th>\n",
       "      <th>Sex</th>\n",
       "      <th>Age</th>\n",
       "      <th>SibSp</th>\n",
       "      <th>Parch</th>\n",
       "      <th>Fare</th>\n",
       "      <th>Embarked</th>\n",
       "    </tr>\n",
       "  </thead>\n",
       "  <tbody>\n",
       "    <tr>\n",
       "      <th>0</th>\n",
       "      <td>0</td>\n",
       "      <td>3.0</td>\n",
       "      <td>1</td>\n",
       "      <td>22.0</td>\n",
       "      <td>1.0</td>\n",
       "      <td>0.0</td>\n",
       "      <td>7.2500</td>\n",
       "      <td>2</td>\n",
       "    </tr>\n",
       "    <tr>\n",
       "      <th>1</th>\n",
       "      <td>1</td>\n",
       "      <td>1.0</td>\n",
       "      <td>0</td>\n",
       "      <td>38.0</td>\n",
       "      <td>1.0</td>\n",
       "      <td>0.0</td>\n",
       "      <td>71.2833</td>\n",
       "      <td>0</td>\n",
       "    </tr>\n",
       "    <tr>\n",
       "      <th>2</th>\n",
       "      <td>1</td>\n",
       "      <td>3.0</td>\n",
       "      <td>0</td>\n",
       "      <td>26.0</td>\n",
       "      <td>0.0</td>\n",
       "      <td>0.0</td>\n",
       "      <td>7.9250</td>\n",
       "      <td>2</td>\n",
       "    </tr>\n",
       "    <tr>\n",
       "      <th>3</th>\n",
       "      <td>1</td>\n",
       "      <td>1.0</td>\n",
       "      <td>0</td>\n",
       "      <td>35.0</td>\n",
       "      <td>1.0</td>\n",
       "      <td>0.0</td>\n",
       "      <td>53.1000</td>\n",
       "      <td>2</td>\n",
       "    </tr>\n",
       "    <tr>\n",
       "      <th>4</th>\n",
       "      <td>0</td>\n",
       "      <td>3.0</td>\n",
       "      <td>1</td>\n",
       "      <td>35.0</td>\n",
       "      <td>0.0</td>\n",
       "      <td>0.0</td>\n",
       "      <td>8.0500</td>\n",
       "      <td>2</td>\n",
       "    </tr>\n",
       "  </tbody>\n",
       "</table>\n",
       "</div>"
      ],
      "text/plain": [
       "   Survived  Pclass  Sex   Age  SibSp  Parch     Fare  Embarked\n",
       "0         0     3.0    1  22.0    1.0    0.0   7.2500         2\n",
       "1         1     1.0    0  38.0    1.0    0.0  71.2833         0\n",
       "2         1     3.0    0  26.0    0.0    0.0   7.9250         2\n",
       "3         1     1.0    0  35.0    1.0    0.0  53.1000         2\n",
       "4         0     3.0    1  35.0    0.0    0.0   8.0500         2"
      ]
     },
     "execution_count": 25,
     "metadata": {},
     "output_type": "execute_result"
    }
   ],
   "source": [
    "train, test = label_encoder(train, test, [\"Embarked\", \"Sex\"])\n",
    "# X_test = pd.get_dummies(test[FEATURES], drop_first=True)\n",
    "\n",
    "train.head()"
   ]
  },
  {
   "cell_type": "markdown",
   "id": "90cf61a6",
   "metadata": {
    "papermill": {
     "duration": 0.014646,
     "end_time": "2022-07-07T21:52:28.035753",
     "exception": false,
     "start_time": "2022-07-07T21:52:28.021107",
     "status": "completed"
    },
    "tags": []
   },
   "source": [
    "- [sklearn.linear_model.LogisticRegression](https://scikit-learn.org/stable/modules/generated/sklearn.linear_model.LogisticRegression.html)"
   ]
  },
  {
   "cell_type": "code",
   "execution_count": 26,
   "id": "c454c410",
   "metadata": {
    "execution": {
     "iopub.execute_input": "2022-07-07T21:52:28.068224Z",
     "iopub.status.busy": "2022-07-07T21:52:28.066971Z",
     "iopub.status.idle": "2022-07-07T21:52:28.075092Z",
     "shell.execute_reply": "2022-07-07T21:52:28.074175Z"
    },
    "papermill": {
     "duration": 0.027496,
     "end_time": "2022-07-07T21:52:28.077690",
     "exception": false,
     "start_time": "2022-07-07T21:52:28.050194",
     "status": "completed"
    },
    "tags": []
   },
   "outputs": [],
   "source": [
    "y = train[TARGET]\n",
    "X = train[FEATURES].copy()\n",
    "\n",
    "X_test = test[FEATURES].copy()"
   ]
  },
  {
   "cell_type": "markdown",
   "id": "5dd8e8c9",
   "metadata": {
    "execution": {
     "iopub.execute_input": "2022-01-20T17:32:12.023204Z",
     "iopub.status.busy": "2022-01-20T17:32:12.022346Z",
     "iopub.status.idle": "2022-01-20T17:32:12.027226Z",
     "shell.execute_reply": "2022-01-20T17:32:12.026176Z",
     "shell.execute_reply.started": "2022-01-20T17:32:12.023164Z"
    },
    "papermill": {
     "duration": 0.014576,
     "end_time": "2022-07-07T21:52:28.108167",
     "exception": false,
     "start_time": "2022-07-07T21:52:28.093591",
     "status": "completed"
    },
    "tags": []
   },
   "source": [
    "## Train Model"
   ]
  },
  {
   "cell_type": "markdown",
   "id": "9d82e7bc",
   "metadata": {
    "papermill": {
     "duration": 0.014258,
     "end_time": "2022-07-07T21:52:28.137946",
     "exception": false,
     "start_time": "2022-07-07T21:52:28.123688",
     "status": "completed"
    },
    "tags": []
   },
   "source": [
    "<div style=\"background-color:rgba(255, 215, 0, 0.6);border-radius:5px;display:fill\"><h1 style=\"text-align: center;padding: 12px 0px 12px 0px;\">Train Model with Cross Validation</h1>\n",
    "</div>\n",
    "\n",
    "Four out five folds will be used for training. The fifth will be used for validation\n",
    "\n",
    "Each fold will have a turn at being the validation fold\n",
    "\n",
    "After each time through the loop\n"
   ]
  },
  {
   "cell_type": "code",
   "execution_count": 27,
   "id": "512f73ac",
   "metadata": {
    "execution": {
     "iopub.execute_input": "2022-07-07T21:52:28.170063Z",
     "iopub.status.busy": "2022-07-07T21:52:28.168745Z",
     "iopub.status.idle": "2022-07-07T21:52:28.238608Z",
     "shell.execute_reply": "2022-07-07T21:52:28.237280Z"
    },
    "papermill": {
     "duration": 0.088945,
     "end_time": "2022-07-07T21:52:28.241472",
     "exception": false,
     "start_time": "2022-07-07T21:52:28.152527",
     "status": "completed"
    },
    "tags": []
   },
   "outputs": [
    {
     "name": "stdout",
     "output_type": "stream",
     "text": [
      "========== Fold=1 ==========\n",
      "--- Predicting OOF ---\n",
      "--- Predicting Test Data ---\n",
      "Fold=1, Accuracy: 0.79888268, Run Time: 0.01\n",
      "\n",
      "========== Fold=2 ==========\n",
      "--- Predicting OOF ---\n",
      "--- Predicting Test Data ---\n",
      "Fold=2, Accuracy: 0.76966292, Run Time: 0.01\n",
      "\n",
      "========== Fold=3 ==========\n",
      "--- Predicting OOF ---\n",
      "--- Predicting Test Data ---\n",
      "Fold=3, Accuracy: 0.79775281, Run Time: 0.01\n",
      "\n",
      "========== Fold=4 ==========\n",
      "--- Predicting OOF ---\n",
      "--- Predicting Test Data ---\n",
      "Fold=4, Accuracy: 0.77528090, Run Time: 0.01\n",
      "\n",
      "========== Fold=5 ==========\n",
      "--- Predicting OOF ---\n",
      "--- Predicting Test Data ---\n",
      "Fold=5, Accuracy: 0.83146067, Run Time: 0.01\n",
      "\n"
     ]
    }
   ],
   "source": [
    "NFOLDS = 5\n",
    "\n",
    "final_test_predictions = []\n",
    "final_valid_predictions = {}\n",
    "scores = []\n",
    "\n",
    "\n",
    "kf = StratifiedKFold(n_splits=NFOLDS, random_state=42, shuffle=True)\n",
    "\n",
    "for fold, (train_idx, valid_idx) in enumerate(kf.split(X=X, y=y)):\n",
    "    print(10 * \"=\", f\"Fold={fold+1}\", 10 * \"=\")\n",
    "    start_time = time.time()\n",
    "\n",
    "    x_train = X.loc[train_idx, :]\n",
    "    x_valid = X.loc[valid_idx, :]  # Validation Features\n",
    "\n",
    "    y_train = y[train_idx]\n",
    "    y_valid = y[valid_idx]  # Validation Target\n",
    "\n",
    "    model = LogisticRegression(C=0.12, solver=\"liblinear\")\n",
    "    model.fit(x_train, y_train)\n",
    "    #     preds_valid = model.predict_proba(x_valid)[:,1]\n",
    "    preds_valid = model.predict(x_valid)\n",
    "\n",
    "    # Predictions for OOF\n",
    "    print(\"--- Predicting OOF ---\")\n",
    "    final_valid_predictions.update(dict(zip(valid_idx, preds_valid)))\n",
    "\n",
    "    accuracy = accuracy_score(y_valid, preds_valid)\n",
    "    scores.append(accuracy)\n",
    "\n",
    "    run_time = time.time() - start_time\n",
    "\n",
    "    # Predictions for Test Data\n",
    "    print(\"--- Predicting Test Data ---\")\n",
    "    test_preds = model.predict_proba(X_test)[:, -1]\n",
    "\n",
    "    final_test_predictions.append(test_preds)\n",
    "    print(f\"Fold={fold+1}, Accuracy: {accuracy:.8f}, Run Time: {run_time:.2f}\\n\")"
   ]
  },
  {
   "cell_type": "markdown",
   "id": "1155b858",
   "metadata": {
    "papermill": {
     "duration": 0.014351,
     "end_time": "2022-07-07T21:52:28.270720",
     "exception": false,
     "start_time": "2022-07-07T21:52:28.256369",
     "status": "completed"
    },
    "tags": []
   },
   "source": [
    "<div style=\"background-color:rgba(255, 215, 0, 0.6);border-radius:5px;display:fill\"><h1 style=\"text-align: center;padding: 12px 0px 12px 0px;\">Scores</h1>\n",
    "</div>\n",
    "\n",
    "CV, or Cross Validation, Score.\n",
    "\n",
    "We average the means and the standard deviations.\n",
    "\n",
    "The Adjusted Score is the average of the means minus the average of standard deviation. Do this to attempt to get one number to evaluate the score when comparing different models."
   ]
  },
  {
   "cell_type": "code",
   "execution_count": 28,
   "id": "13a21da2",
   "metadata": {
    "execution": {
     "iopub.execute_input": "2022-07-07T21:52:28.303250Z",
     "iopub.status.busy": "2022-07-07T21:52:28.302464Z",
     "iopub.status.idle": "2022-07-07T21:52:28.309169Z",
     "shell.execute_reply": "2022-07-07T21:52:28.307701Z"
    },
    "papermill": {
     "duration": 0.026645,
     "end_time": "2022-07-07T21:52:28.312240",
     "exception": false,
     "start_time": "2022-07-07T21:52:28.285595",
     "status": "completed"
    },
    "tags": []
   },
   "outputs": [
    {
     "name": "stdout",
     "output_type": "stream",
     "text": [
      "Scores -> Adjusted: 0.77278106 , mean: 0.79460800, std: 0.02182694\n"
     ]
    }
   ],
   "source": [
    "print(\n",
    "    f\"Scores -> Adjusted: {np.mean(scores) - np.std(scores):.8f} , mean: {np.mean(scores):.8f}, std: {np.std(scores):.8f}\"\n",
    ")"
   ]
  },
  {
   "cell_type": "markdown",
   "id": "d00b150e",
   "metadata": {
    "papermill": {
     "duration": 0.014091,
     "end_time": "2022-07-07T21:52:28.341029",
     "exception": false,
     "start_time": "2022-07-07T21:52:28.326938",
     "status": "completed"
    },
    "tags": []
   },
   "source": [
    "<div style=\"background-color:rgba(255, 215, 0, 0.6);border-radius:5px;display:fill\"><h1 style=\"text-align: center;padding: 12px 0px 12px 0px;\">Save OOF Predictions</h1>\n",
    "</div>\n",
    "\n",
    "This is unused for this example but needed later for [Blending](https://towardsdatascience.com/ensemble-learning-stacking-blending-voting-b37737c4f483).\n",
    "\n",
    "**General idea**: The values will be use to create new features in a blended model.\n",
    "\n",
    "- [Stacking and Blending — An Intuitive ExplanationStacking and Blending — An Intuitive Explanation](https://medium.com/@stevenyu530_73989/stacking-and-blending-intuitive-explanation-of-advanced-ensemble-methods-46b295da413chttps://medium.com/@stevenyu530_73989/stacking-and-blending-intuitive-explanation-of-advanced-ensemble-methods-46b295da413c)"
   ]
  },
  {
   "cell_type": "code",
   "execution_count": 29,
   "id": "8c62bc6c",
   "metadata": {
    "execution": {
     "iopub.execute_input": "2022-07-07T21:52:28.372242Z",
     "iopub.status.busy": "2022-07-07T21:52:28.371778Z",
     "iopub.status.idle": "2022-07-07T21:52:28.385088Z",
     "shell.execute_reply": "2022-07-07T21:52:28.383974Z"
    },
    "papermill": {
     "duration": 0.032139,
     "end_time": "2022-07-07T21:52:28.387698",
     "exception": false,
     "start_time": "2022-07-07T21:52:28.355559",
     "status": "completed"
    },
    "tags": []
   },
   "outputs": [],
   "source": [
    "final_valid_predictions = pd.DataFrame.from_dict(\n",
    "    final_valid_predictions, orient=\"index\"\n",
    ").reset_index()\n",
    "final_valid_predictions.columns = [\"id\", \"pred_1\"]\n",
    "final_valid_predictions.to_csv(\"train_pred_1.csv\", index=False)"
   ]
  },
  {
   "cell_type": "markdown",
   "id": "75ec63e6",
   "metadata": {
    "papermill": {
     "duration": 0.014969,
     "end_time": "2022-07-07T21:52:28.417511",
     "exception": false,
     "start_time": "2022-07-07T21:52:28.402542",
     "status": "completed"
    },
    "tags": []
   },
   "source": [
    "<div style=\"background-color:rgba(255, 215, 0, 0.6);border-radius:5px;display:fill\"><h1 style=\"text-align: center;padding: 12px 0px 12px 0px;\">Submission File</h1>\n",
    "</div>\n",
    "\n",
    "The sample file and our data is in the same row order.  This allows us to simply assign our prediction to the target column (`Survived`) in the sample submission."
   ]
  },
  {
   "cell_type": "code",
   "execution_count": 30,
   "id": "80feffc1",
   "metadata": {
    "execution": {
     "iopub.execute_input": "2022-07-07T21:52:28.450719Z",
     "iopub.status.busy": "2022-07-07T21:52:28.449851Z",
     "iopub.status.idle": "2022-07-07T21:52:28.456025Z",
     "shell.execute_reply": "2022-07-07T21:52:28.454900Z"
    },
    "papermill": {
     "duration": 0.02615,
     "end_time": "2022-07-07T21:52:28.459039",
     "exception": false,
     "start_time": "2022-07-07T21:52:28.432889",
     "status": "completed"
    },
    "tags": []
   },
   "outputs": [],
   "source": [
    "m = np.mean(np.column_stack(final_test_predictions), axis=1)"
   ]
  },
  {
   "cell_type": "code",
   "execution_count": 31,
   "id": "02efde10",
   "metadata": {
    "execution": {
     "iopub.execute_input": "2022-07-07T21:52:28.492153Z",
     "iopub.status.busy": "2022-07-07T21:52:28.491318Z",
     "iopub.status.idle": "2022-07-07T21:52:28.510138Z",
     "shell.execute_reply": "2022-07-07T21:52:28.508735Z"
    },
    "papermill": {
     "duration": 0.039446,
     "end_time": "2022-07-07T21:52:28.513146",
     "exception": false,
     "start_time": "2022-07-07T21:52:28.473700",
     "status": "completed"
    },
    "tags": []
   },
   "outputs": [
    {
     "data": {
      "text/html": [
       "<div>\n",
       "<style scoped>\n",
       "    .dataframe tbody tr th:only-of-type {\n",
       "        vertical-align: middle;\n",
       "    }\n",
       "\n",
       "    .dataframe tbody tr th {\n",
       "        vertical-align: top;\n",
       "    }\n",
       "\n",
       "    .dataframe thead th {\n",
       "        text-align: right;\n",
       "    }\n",
       "</style>\n",
       "<table border=\"1\" class=\"dataframe\">\n",
       "  <thead>\n",
       "    <tr style=\"text-align: right;\">\n",
       "      <th></th>\n",
       "      <th>PassengerId</th>\n",
       "      <th>Survived</th>\n",
       "    </tr>\n",
       "  </thead>\n",
       "  <tbody>\n",
       "    <tr>\n",
       "      <th>0</th>\n",
       "      <td>892</td>\n",
       "      <td>0.167286</td>\n",
       "    </tr>\n",
       "    <tr>\n",
       "      <th>1</th>\n",
       "      <td>893</td>\n",
       "      <td>0.452896</td>\n",
       "    </tr>\n",
       "    <tr>\n",
       "      <th>2</th>\n",
       "      <td>894</td>\n",
       "      <td>0.176650</td>\n",
       "    </tr>\n",
       "    <tr>\n",
       "      <th>3</th>\n",
       "      <td>895</td>\n",
       "      <td>0.175058</td>\n",
       "    </tr>\n",
       "    <tr>\n",
       "      <th>4</th>\n",
       "      <td>896</td>\n",
       "      <td>0.513189</td>\n",
       "    </tr>\n",
       "    <tr>\n",
       "      <th>...</th>\n",
       "      <td>...</td>\n",
       "      <td>...</td>\n",
       "    </tr>\n",
       "    <tr>\n",
       "      <th>413</th>\n",
       "      <td>1305</td>\n",
       "      <td>0.172808</td>\n",
       "    </tr>\n",
       "    <tr>\n",
       "      <th>414</th>\n",
       "      <td>1306</td>\n",
       "      <td>0.868598</td>\n",
       "    </tr>\n",
       "    <tr>\n",
       "      <th>415</th>\n",
       "      <td>1307</td>\n",
       "      <td>0.159228</td>\n",
       "    </tr>\n",
       "    <tr>\n",
       "      <th>416</th>\n",
       "      <td>1308</td>\n",
       "      <td>0.172808</td>\n",
       "    </tr>\n",
       "    <tr>\n",
       "      <th>417</th>\n",
       "      <td>1309</td>\n",
       "      <td>0.163945</td>\n",
       "    </tr>\n",
       "  </tbody>\n",
       "</table>\n",
       "<p>418 rows × 2 columns</p>\n",
       "</div>"
      ],
      "text/plain": [
       "     PassengerId  Survived\n",
       "0            892  0.167286\n",
       "1            893  0.452896\n",
       "2            894  0.176650\n",
       "3            895  0.175058\n",
       "4            896  0.513189\n",
       "..           ...       ...\n",
       "413         1305  0.172808\n",
       "414         1306  0.868598\n",
       "415         1307  0.159228\n",
       "416         1308  0.172808\n",
       "417         1309  0.163945\n",
       "\n",
       "[418 rows x 2 columns]"
      ]
     },
     "execution_count": 31,
     "metadata": {},
     "output_type": "execute_result"
    }
   ],
   "source": [
    "sample_submission[\"Survived\"] = m\n",
    "sample_submission.to_csv(\"submission_cv.csv\", index=False)\n",
    "sample_submission"
   ]
  }
 ],
 "metadata": {
  "kernelspec": {
   "display_name": "Python 3",
   "language": "python",
   "name": "python3"
  },
  "language_info": {
   "codemirror_mode": {
    "name": "ipython",
    "version": 3
   },
   "file_extension": ".py",
   "mimetype": "text/x-python",
   "name": "python",
   "nbconvert_exporter": "python",
   "pygments_lexer": "ipython3",
   "version": "3.7.12"
  },
  "papermill": {
   "default_parameters": {},
   "duration": 17.254002,
   "end_time": "2022-07-07T21:52:29.353504",
   "environment_variables": {},
   "exception": null,
   "input_path": "__notebook__.ipynb",
   "output_path": "__notebook__.ipynb",
   "parameters": {},
   "start_time": "2022-07-07T21:52:12.099502",
   "version": "2.3.4"
  }
 },
 "nbformat": 4,
 "nbformat_minor": 5
}
