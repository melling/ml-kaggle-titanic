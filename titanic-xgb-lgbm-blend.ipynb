{
 "cells": [
  {
   "cell_type": "markdown",
   "id": "09a55a47",
   "metadata": {
    "papermill": {
     "duration": 0.029538,
     "end_time": "2022-07-27T21:37:22.276832",
     "exception": false,
     "start_time": "2022-07-27T21:37:22.247294",
     "status": "completed"
    },
    "tags": []
   },
   "source": [
    "<div style=\"background-color:rgba(255, 215, 0, 0.6);border-radius:5px;display:fill\">\n",
    "    <h1 style=\"text-align: center;padding: 12px 0px 12px 0px;\">🚢 Titanic: XGBoost + Optuna</h1>\n",
    "</div>\n",
    "<img src=\"https://www.seekpng.com/png/full/200-2002376_predicting-titanic-survivors-old-photos-of-the-titanic.png\" alt=\"Titanic\" width=\"300\"/>\n",
    "\n"
   ]
  },
  {
   "cell_type": "markdown",
   "id": "99224281",
   "metadata": {
    "papermill": {
     "duration": 0.024317,
     "end_time": "2022-07-27T21:37:22.324296",
     "exception": false,
     "start_time": "2022-07-27T21:37:22.299979",
     "status": "completed"
    },
    "tags": []
   },
   "source": [
    "# Understanding the Titanic Data\n",
    "\n",
    "## Target - What we want to predict\n",
    "\n",
    "For the Titantic dataset the target is:`Survived`\n",
    "\n",
    "## Features\n",
    "\n",
    "- `Pclass` - Ticket class (1st,2nd,3rd)\n",
    "- `Name` - Full name\n",
    "- `Sex` - Gender\n",
    "- `Age` - Passenger's age\n",
    "- `SibSp` - # of siblings / spouses aboard the Titanic\n",
    "- `Parch` - # of parents / children aboard the Titanic\n",
    "- `Ticket` - Ticket number\n",
    "- `Fare` - What the passenger paid for a ticket\n",
    "- `Cabin` - Cabin number\n",
    "- `Embarked` - C = Cherbourg, Q = Queenstown, S = Southampton\n",
    "\n",
    "## Evaluation Metric\n",
    "\n",
    "$Acurracy = \\frac{True Positives (TP) + True Negatives (TN)}{True Positives (TP) + True Negatives (TN) + False Positives(FP) + False Negatives(FN)}$\n",
    "\n",
    "- https://en.wikipedia.org/wiki/Accuracy_and_precision#In_binary_classification\n",
    "\n",
    "Percentage of passengers you correctly predict.  In other words, accurately predict who survived and who did not.\n",
    "\n",
    "- https://developers.google.com/machine-learning/crash-course/classification/accuracy\n",
    "\n"
   ]
  },
  {
   "cell_type": "code",
   "execution_count": 1,
   "id": "df2a9004",
   "metadata": {
    "execution": {
     "iopub.execute_input": "2022-07-27T21:37:22.370236Z",
     "iopub.status.busy": "2022-07-27T21:37:22.369698Z",
     "iopub.status.idle": "2022-07-27T21:37:38.281835Z",
     "shell.execute_reply": "2022-07-27T21:37:38.280517Z"
    },
    "papermill": {
     "duration": 15.938351,
     "end_time": "2022-07-27T21:37:38.284860",
     "exception": false,
     "start_time": "2022-07-27T21:37:22.346509",
     "status": "completed"
    },
    "tags": []
   },
   "outputs": [
    {
     "name": "stdout",
     "output_type": "stream",
     "text": [
      "\u001b[33mWARNING: Running pip as the 'root' user can result in broken permissions and conflicting behaviour with the system package manager. It is recommended to use a virtual environment instead: https://pip.pypa.io/warnings/venv\u001b[0m\u001b[33m\r\n",
      "\u001b[0m"
     ]
    }
   ],
   "source": [
    "# Black formatter https://black.readthedocs.io/en/stable/\n",
    "\n",
    "! pip install nb-black > /dev/null\n",
    "\n",
    "%load_ext lab_black"
   ]
  },
  {
   "cell_type": "markdown",
   "id": "6635a097",
   "metadata": {
    "papermill": {
     "duration": 0.021018,
     "end_time": "2022-07-27T21:37:38.328004",
     "exception": false,
     "start_time": "2022-07-27T21:37:38.306986",
     "status": "completed"
    },
    "tags": []
   },
   "source": [
    "<div style=\"background-color:rgba(255, 215, 0, 0.6);border-radius:5px;display:fill\"><h1 style=\"text-align: center;padding: 12px 0px 12px 0px;\">Import Libraries</h1>\n",
    "</div>"
   ]
  },
  {
   "cell_type": "code",
   "execution_count": 2,
   "id": "59bf30b1",
   "metadata": {
    "execution": {
     "iopub.execute_input": "2022-07-27T21:37:38.372841Z",
     "iopub.status.busy": "2022-07-27T21:37:38.372405Z",
     "iopub.status.idle": "2022-07-27T21:37:41.075772Z",
     "shell.execute_reply": "2022-07-27T21:37:41.074642Z"
    },
    "papermill": {
     "duration": 2.729526,
     "end_time": "2022-07-27T21:37:41.078815",
     "exception": false,
     "start_time": "2022-07-27T21:37:38.349289",
     "status": "completed"
    },
    "tags": []
   },
   "outputs": [
    {
     "data": {
      "text/html": [
       "<style type='text/css'>\n",
       ".datatable table.frame { margin-bottom: 0; }\n",
       ".datatable table.frame thead { border-bottom: none; }\n",
       ".datatable table.frame tr.coltypes td {  color: #FFFFFF;  line-height: 6px;  padding: 0 0.5em;}\n",
       ".datatable .bool    { background: #DDDD99; }\n",
       ".datatable .object  { background: #565656; }\n",
       ".datatable .int     { background: #5D9E5D; }\n",
       ".datatable .float   { background: #4040CC; }\n",
       ".datatable .str     { background: #CC4040; }\n",
       ".datatable .time    { background: #40CC40; }\n",
       ".datatable .row_index {  background: var(--jp-border-color3);  border-right: 1px solid var(--jp-border-color0);  color: var(--jp-ui-font-color3);  font-size: 9px;}\n",
       ".datatable .frame tbody td { text-align: left; }\n",
       ".datatable .frame tr.coltypes .row_index {  background: var(--jp-border-color0);}\n",
       ".datatable th:nth-child(2) { padding-left: 12px; }\n",
       ".datatable .hellipsis {  color: var(--jp-cell-editor-border-color);}\n",
       ".datatable .vellipsis {  background: var(--jp-layout-color0);  color: var(--jp-cell-editor-border-color);}\n",
       ".datatable .na {  color: var(--jp-cell-editor-border-color);  font-size: 80%;}\n",
       ".datatable .sp {  opacity: 0.25;}\n",
       ".datatable .footer { font-size: 9px; }\n",
       ".datatable .frame_dimensions {  background: var(--jp-border-color3);  border-top: 1px solid var(--jp-border-color0);  color: var(--jp-ui-font-color3);  display: inline-block;  opacity: 0.6;  padding: 1px 10px 1px 5px;}\n",
       "</style>\n"
      ],
      "text/plain": [
       "<IPython.core.display.HTML object>"
      ]
     },
     "metadata": {},
     "output_type": "display_data"
    }
   ],
   "source": [
    "import os\n",
    "import time\n",
    "from pathlib import Path\n",
    "\n",
    "import pandas as pd\n",
    "import numpy as np\n",
    "\n",
    "from sklearn.model_selection import train_test_split\n",
    "from sklearn.impute import SimpleImputer\n",
    "from sklearn.model_selection import KFold, StratifiedKFold\n",
    "\n",
    "# from sklearn.metrics import accuracy_score, roc_auc_score\n",
    "from sklearn.metrics import classification_report, confusion_matrix\n",
    "\n",
    "import xgboost as xgb\n",
    "import catboost as cb\n",
    "import lightgbm as lgb\n",
    "\n",
    "# Visualization Libraries\n",
    "import matplotlib.pylab as plt\n",
    "import seaborn as sns\n",
    "\n",
    "%matplotlib inline\n",
    "\n",
    "from itertools import cycle\n",
    "\n",
    "plt.style.use(\"ggplot\")  # ggplot, fivethirtyeight\n",
    "color_pal = plt.rcParams[\"axes.prop_cycle\"].by_key()[\"color\"]\n",
    "color_cycle = cycle(plt.rcParams[\"axes.prop_cycle\"].by_key()[\"color\"])"
   ]
  },
  {
   "cell_type": "markdown",
   "id": "875dd233",
   "metadata": {
    "papermill": {
     "duration": 0.021204,
     "end_time": "2022-07-27T21:37:41.121567",
     "exception": false,
     "start_time": "2022-07-27T21:37:41.100363",
     "status": "completed"
    },
    "tags": []
   },
   "source": [
    "<div style=\"background-color:rgba(255, 215, 0, 0.6);border-radius:5px;display:fill\"><h1 style=\"text-align: center;padding: 12px 0px 12px 0px;\">Configuration</h1>\n",
    "</div>"
   ]
  },
  {
   "cell_type": "code",
   "execution_count": 3,
   "id": "094dd641",
   "metadata": {
    "execution": {
     "iopub.execute_input": "2022-07-27T21:37:41.166690Z",
     "iopub.status.busy": "2022-07-27T21:37:41.166114Z",
     "iopub.status.idle": "2022-07-27T21:37:41.179508Z",
     "shell.execute_reply": "2022-07-27T21:37:41.178586Z"
    },
    "papermill": {
     "duration": 0.039094,
     "end_time": "2022-07-27T21:37:41.182011",
     "exception": false,
     "start_time": "2022-07-27T21:37:41.142917",
     "status": "completed"
    },
    "tags": []
   },
   "outputs": [],
   "source": [
    "class Config:\n",
    "    path = \"../input/titanic\"\n",
    "    gpu = False\n",
    "    debug = False\n",
    "    optimize = False\n",
    "    model_type = \"tf\"  # (xgb, cat, lgbm, keras)\n",
    "    model_name = \"tf1\"\n",
    "    competition = \"titanic\"\n",
    "    calc_probability = True\n",
    "    seed = 42\n",
    "    N_ESTIMATORS = 100  # 100, 300, 2000, 5000 GBDT\n",
    "\n",
    "    batch_size = 64\n",
    "    epochs = 25\n",
    "    N_FOLDS = 5  # 5,10,15\n",
    "    SEED_LENGTH = 1  # 5,10"
   ]
  },
  {
   "cell_type": "markdown",
   "id": "f7fbee6f",
   "metadata": {
    "papermill": {
     "duration": 0.021348,
     "end_time": "2022-07-27T21:37:41.225563",
     "exception": false,
     "start_time": "2022-07-27T21:37:41.204215",
     "status": "completed"
    },
    "tags": []
   },
   "source": [
    "### The target/dependent variable in the dataset"
   ]
  },
  {
   "cell_type": "code",
   "execution_count": 4,
   "id": "8ed2e1e5",
   "metadata": {
    "execution": {
     "iopub.execute_input": "2022-07-27T21:37:41.271246Z",
     "iopub.status.busy": "2022-07-27T21:37:41.270548Z",
     "iopub.status.idle": "2022-07-27T21:37:41.276482Z",
     "shell.execute_reply": "2022-07-27T21:37:41.275533Z"
    },
    "papermill": {
     "duration": 0.031694,
     "end_time": "2022-07-27T21:37:41.278887",
     "exception": false,
     "start_time": "2022-07-27T21:37:41.247193",
     "status": "completed"
    },
    "tags": []
   },
   "outputs": [],
   "source": [
    "# Did the passenger survive?\n",
    "# 0 = No, 1 = Yes\n",
    "TARGET = \"Survived\""
   ]
  },
  {
   "cell_type": "markdown",
   "id": "c84a5411",
   "metadata": {
    "papermill": {
     "duration": 0.021214,
     "end_time": "2022-07-27T21:37:41.321547",
     "exception": false,
     "start_time": "2022-07-27T21:37:41.300333",
     "status": "completed"
    },
    "tags": []
   },
   "source": [
    "<div style=\"background-color:rgba(255, 215, 0, 0.6);border-radius:5px;display:fill\"><h1 style=\"text-align: center;padding: 12px 0px 12px 0px;\">Library</h1>\n",
    "</div>\n",
    "\n",
    "Creating a few functions that we will reuse in each project."
   ]
  },
  {
   "cell_type": "code",
   "execution_count": 5,
   "id": "b5233257",
   "metadata": {
    "execution": {
     "iopub.execute_input": "2022-07-27T21:37:41.366514Z",
     "iopub.status.busy": "2022-07-27T21:37:41.365876Z",
     "iopub.status.idle": "2022-07-27T21:37:41.378943Z",
     "shell.execute_reply": "2022-07-27T21:37:41.378001Z"
    },
    "papermill": {
     "duration": 0.038505,
     "end_time": "2022-07-27T21:37:41.381514",
     "exception": false,
     "start_time": "2022-07-27T21:37:41.343009",
     "status": "completed"
    },
    "tags": []
   },
   "outputs": [],
   "source": [
    "def read_data(path):\n",
    "    data_dir = Path(path)\n",
    "\n",
    "    train = pd.read_csv(data_dir / \"train.csv\")\n",
    "    test = pd.read_csv(data_dir / \"test.csv\")\n",
    "    submission_df = pd.read_csv(data_dir / \"gender_submission.csv\")\n",
    "\n",
    "    print(f\"train data: Rows={train.shape[0]}, Columns={train.shape[1]}\")\n",
    "    print(f\"test data : Rows={test.shape[0]}, Columns={test.shape[1]}\")\n",
    "    return train, test, submission_df"
   ]
  },
  {
   "cell_type": "code",
   "execution_count": 6,
   "id": "e1f5fb00",
   "metadata": {
    "execution": {
     "iopub.execute_input": "2022-07-27T21:37:41.426466Z",
     "iopub.status.busy": "2022-07-27T21:37:41.425830Z",
     "iopub.status.idle": "2022-07-27T21:37:41.437759Z",
     "shell.execute_reply": "2022-07-27T21:37:41.436308Z"
    },
    "papermill": {
     "duration": 0.037811,
     "end_time": "2022-07-27T21:37:41.440701",
     "exception": false,
     "start_time": "2022-07-27T21:37:41.402890",
     "status": "completed"
    },
    "tags": []
   },
   "outputs": [],
   "source": [
    "def create_submission(model_name, target, preds):\n",
    "    sample_submission[target] = preds\n",
    "\n",
    "    if len(model_name) > 0:\n",
    "        fname = \"submission_{model_name}.csv\"\n",
    "    else:\n",
    "        fname = \"submission.csv\"\n",
    "\n",
    "    sample_submission.to_csv(fname, index=False)\n",
    "\n",
    "    return sample_submission"
   ]
  },
  {
   "cell_type": "code",
   "execution_count": 7,
   "id": "50d94578",
   "metadata": {
    "execution": {
     "iopub.execute_input": "2022-07-27T21:37:41.487041Z",
     "iopub.status.busy": "2022-07-27T21:37:41.486622Z",
     "iopub.status.idle": "2022-07-27T21:37:41.502993Z",
     "shell.execute_reply": "2022-07-27T21:37:41.501645Z"
    },
    "papermill": {
     "duration": 0.04215,
     "end_time": "2022-07-27T21:37:41.505494",
     "exception": false,
     "start_time": "2022-07-27T21:37:41.463344",
     "status": "completed"
    },
    "tags": []
   },
   "outputs": [],
   "source": [
    "from sklearn.metrics import (\n",
    "    accuracy_score,\n",
    "    precision_score,\n",
    "    recall_score,\n",
    "    f1_score,\n",
    "    roc_auc_score,\n",
    ")\n",
    "\n",
    "\n",
    "def show_scores(gt, yhat):\n",
    "    accuracy = accuracy_score(gt, yhat)\n",
    "    precision = precision_score(gt, yhat)\n",
    "    recall = recall_score(gt, yhat)\n",
    "    f1 = f1_score(gt, yhat)\n",
    "\n",
    "    print(f\"Accuracy: {accuracy:.4f}\")\n",
    "    print(f\"Precision: {precision:.4f}\")\n",
    "    print(f\"Recall: {recall:.4f}\")\n",
    "    print(f\"f1: {f1:.4f}\")"
   ]
  },
  {
   "cell_type": "code",
   "execution_count": 8,
   "id": "a2c20b8c",
   "metadata": {
    "execution": {
     "iopub.execute_input": "2022-07-27T21:37:41.550014Z",
     "iopub.status.busy": "2022-07-27T21:37:41.549611Z",
     "iopub.status.idle": "2022-07-27T21:37:41.565360Z",
     "shell.execute_reply": "2022-07-27T21:37:41.564121Z"
    },
    "papermill": {
     "duration": 0.040987,
     "end_time": "2022-07-27T21:37:41.567891",
     "exception": false,
     "start_time": "2022-07-27T21:37:41.526904",
     "status": "completed"
    },
    "tags": []
   },
   "outputs": [],
   "source": [
    "from sklearn.preprocessing import LabelEncoder\n",
    "\n",
    "\n",
    "def label_encoder(train, test, columns):\n",
    "    for col in columns:\n",
    "        train[col] = train[col].astype(str)\n",
    "        test[col] = test[col].astype(str)\n",
    "        train[col] = LabelEncoder().fit_transform(train[col])\n",
    "        test[col] = LabelEncoder().fit_transform(test[col])\n",
    "    return train, test"
   ]
  },
  {
   "cell_type": "code",
   "execution_count": 9,
   "id": "7a5b9c82",
   "metadata": {
    "execution": {
     "iopub.execute_input": "2022-07-27T21:37:41.613105Z",
     "iopub.status.busy": "2022-07-27T21:37:41.612677Z",
     "iopub.status.idle": "2022-07-27T21:37:41.629223Z",
     "shell.execute_reply": "2022-07-27T21:37:41.628117Z"
    },
    "papermill": {
     "duration": 0.042303,
     "end_time": "2022-07-27T21:37:41.631893",
     "exception": false,
     "start_time": "2022-07-27T21:37:41.589590",
     "status": "completed"
    },
    "tags": []
   },
   "outputs": [],
   "source": [
    "from sklearn.preprocessing import OneHotEncoder\n",
    "\n",
    "\n",
    "def one_hot_encoder(train, test, columns):\n",
    "    for col in columns:\n",
    "        train[col] = train[col].astype(str)\n",
    "        test[col] = test[col].astype(str)\n",
    "        train[col] = OneHotEncoder().fit_transform(train[col])\n",
    "        test[col] = OneHotEncoder().fit_transform(test[col])\n",
    "    return train, test"
   ]
  },
  {
   "cell_type": "code",
   "execution_count": 10,
   "id": "43781a35",
   "metadata": {
    "execution": {
     "iopub.execute_input": "2022-07-27T21:37:41.677408Z",
     "iopub.status.busy": "2022-07-27T21:37:41.676979Z",
     "iopub.status.idle": "2022-07-27T21:37:41.685605Z",
     "shell.execute_reply": "2022-07-27T21:37:41.684312Z"
    },
    "papermill": {
     "duration": 0.033611,
     "end_time": "2022-07-27T21:37:41.687721",
     "exception": false,
     "start_time": "2022-07-27T21:37:41.654110",
     "status": "completed"
    },
    "tags": []
   },
   "outputs": [],
   "source": [
    "def show_missing_features(df):\n",
    "    missing_vals = df.isna().sum()\n",
    "    print(missing_vals[missing_vals > 0])"
   ]
  },
  {
   "cell_type": "code",
   "execution_count": 11,
   "id": "e695026c",
   "metadata": {
    "execution": {
     "iopub.execute_input": "2022-07-27T21:37:41.733932Z",
     "iopub.status.busy": "2022-07-27T21:37:41.732886Z",
     "iopub.status.idle": "2022-07-27T21:37:41.750672Z",
     "shell.execute_reply": "2022-07-27T21:37:41.749385Z"
    },
    "papermill": {
     "duration": 0.043176,
     "end_time": "2022-07-27T21:37:41.753354",
     "exception": false,
     "start_time": "2022-07-27T21:37:41.710178",
     "status": "completed"
    },
    "tags": []
   },
   "outputs": [],
   "source": [
    "def create_folds(df, TARGET, n_folds=5, seed=42):\n",
    "    print(f\"TARGET={TARGET}, n_folds={n_folds}, seed={seed}\")\n",
    "    df[\"fold\"] = -1\n",
    "\n",
    "    kf = StratifiedKFold(n_splits=n_folds, shuffle=True, random_state=seed)\n",
    "    # kf = GroupKFold(n_splits=Config.N_FOLDS)\n",
    "\n",
    "    for fold, (train_idx, valid_idx) in enumerate(kf.split(df, df[TARGET])):\n",
    "        df.loc[valid_idx, \"fold\"] = fold\n",
    "\n",
    "    # df.to_csv(f\"train_fold{num_folds}.csv\", index=False)\n",
    "    return df"
   ]
  },
  {
   "cell_type": "code",
   "execution_count": 12,
   "id": "f85721ce",
   "metadata": {
    "execution": {
     "iopub.execute_input": "2022-07-27T21:37:41.798721Z",
     "iopub.status.busy": "2022-07-27T21:37:41.797938Z",
     "iopub.status.idle": "2022-07-27T21:37:41.807210Z",
     "shell.execute_reply": "2022-07-27T21:37:41.805940Z"
    },
    "papermill": {
     "duration": 0.034632,
     "end_time": "2022-07-27T21:37:41.809759",
     "exception": false,
     "start_time": "2022-07-27T21:37:41.775127",
     "status": "completed"
    },
    "tags": []
   },
   "outputs": [],
   "source": [
    "def show_fold_scores(scores):\n",
    "    cv_score = np.mean(scores)  # Used in filename\n",
    "    print(\n",
    "        f\"Scores -> Adjusted: {np.mean(scores) - np.std(scores):.8f} , mean: {np.mean(scores):.8f}, std: {np.std(scores):.8f}\"\n",
    "    )"
   ]
  },
  {
   "cell_type": "code",
   "execution_count": 13,
   "id": "7455a93b",
   "metadata": {
    "execution": {
     "iopub.execute_input": "2022-07-27T21:37:41.855016Z",
     "iopub.status.busy": "2022-07-27T21:37:41.854645Z",
     "iopub.status.idle": "2022-07-27T21:37:41.863905Z",
     "shell.execute_reply": "2022-07-27T21:37:41.861441Z"
    },
    "papermill": {
     "duration": 0.035773,
     "end_time": "2022-07-27T21:37:41.867311",
     "exception": false,
     "start_time": "2022-07-27T21:37:41.831538",
     "status": "completed"
    },
    "tags": []
   },
   "outputs": [],
   "source": [
    "# Save OOF Results\n",
    "if not os.path.exists(\"results\"):\n",
    "    os.makedirs(\"results\")"
   ]
  },
  {
   "cell_type": "markdown",
   "id": "bc6f28e8",
   "metadata": {
    "papermill": {
     "duration": 0.024979,
     "end_time": "2022-07-27T21:37:41.917496",
     "exception": false,
     "start_time": "2022-07-27T21:37:41.892517",
     "status": "completed"
    },
    "tags": []
   },
   "source": [
    "<div style=\"background-color:rgba(255, 215, 0, 0.6);border-radius:5px;display:fill\"><h1 style=\"text-align: center;padding: 12px 0px 12px 0px;\">Load Train/Test Data</h1>\n",
    "</div>\n",
    "\n",
    "## Load the following files\n",
    "\n",
    " - train.csv - Data used to build our machine learning model\n",
    " - test.csv - Data used to build our machine learning model. Does not contain the `Suvived` target variable\n",
    " - gender_submission.csv - A file in the proper format to submit test predictions"
   ]
  },
  {
   "cell_type": "code",
   "execution_count": 14,
   "id": "95dc1108",
   "metadata": {
    "execution": {
     "iopub.execute_input": "2022-07-27T21:37:41.963018Z",
     "iopub.status.busy": "2022-07-27T21:37:41.962624Z",
     "iopub.status.idle": "2022-07-27T21:37:42.003988Z",
     "shell.execute_reply": "2022-07-27T21:37:42.002253Z"
    },
    "papermill": {
     "duration": 0.068041,
     "end_time": "2022-07-27T21:37:42.007152",
     "exception": false,
     "start_time": "2022-07-27T21:37:41.939111",
     "status": "completed"
    },
    "tags": []
   },
   "outputs": [
    {
     "name": "stdout",
     "output_type": "stream",
     "text": [
      "train data: Rows=891, Columns=12\n",
      "test data : Rows=418, Columns=11\n"
     ]
    }
   ],
   "source": [
    "train, test, sample_submission = read_data(Config.path)"
   ]
  },
  {
   "cell_type": "code",
   "execution_count": 15,
   "id": "ba3dca8e",
   "metadata": {
    "execution": {
     "iopub.execute_input": "2022-07-27T21:37:42.063276Z",
     "iopub.status.busy": "2022-07-27T21:37:42.062738Z",
     "iopub.status.idle": "2022-07-27T21:37:42.094710Z",
     "shell.execute_reply": "2022-07-27T21:37:42.093543Z"
    },
    "papermill": {
     "duration": 0.060494,
     "end_time": "2022-07-27T21:37:42.097533",
     "exception": false,
     "start_time": "2022-07-27T21:37:42.037039",
     "status": "completed"
    },
    "tags": []
   },
   "outputs": [
    {
     "data": {
      "text/html": [
       "<div>\n",
       "<style scoped>\n",
       "    .dataframe tbody tr th:only-of-type {\n",
       "        vertical-align: middle;\n",
       "    }\n",
       "\n",
       "    .dataframe tbody tr th {\n",
       "        vertical-align: top;\n",
       "    }\n",
       "\n",
       "    .dataframe thead th {\n",
       "        text-align: right;\n",
       "    }\n",
       "</style>\n",
       "<table border=\"1\" class=\"dataframe\">\n",
       "  <thead>\n",
       "    <tr style=\"text-align: right;\">\n",
       "      <th></th>\n",
       "      <th>PassengerId</th>\n",
       "      <th>Survived</th>\n",
       "      <th>Pclass</th>\n",
       "      <th>Name</th>\n",
       "      <th>Sex</th>\n",
       "      <th>Age</th>\n",
       "      <th>SibSp</th>\n",
       "      <th>Parch</th>\n",
       "      <th>Ticket</th>\n",
       "      <th>Fare</th>\n",
       "      <th>Cabin</th>\n",
       "      <th>Embarked</th>\n",
       "    </tr>\n",
       "  </thead>\n",
       "  <tbody>\n",
       "    <tr>\n",
       "      <th>0</th>\n",
       "      <td>1</td>\n",
       "      <td>0</td>\n",
       "      <td>3</td>\n",
       "      <td>Braund, Mr. Owen Harris</td>\n",
       "      <td>male</td>\n",
       "      <td>22.0</td>\n",
       "      <td>1</td>\n",
       "      <td>0</td>\n",
       "      <td>A/5 21171</td>\n",
       "      <td>7.2500</td>\n",
       "      <td>NaN</td>\n",
       "      <td>S</td>\n",
       "    </tr>\n",
       "    <tr>\n",
       "      <th>1</th>\n",
       "      <td>2</td>\n",
       "      <td>1</td>\n",
       "      <td>1</td>\n",
       "      <td>Cumings, Mrs. John Bradley (Florence Briggs Th...</td>\n",
       "      <td>female</td>\n",
       "      <td>38.0</td>\n",
       "      <td>1</td>\n",
       "      <td>0</td>\n",
       "      <td>PC 17599</td>\n",
       "      <td>71.2833</td>\n",
       "      <td>C85</td>\n",
       "      <td>C</td>\n",
       "    </tr>\n",
       "    <tr>\n",
       "      <th>2</th>\n",
       "      <td>3</td>\n",
       "      <td>1</td>\n",
       "      <td>3</td>\n",
       "      <td>Heikkinen, Miss. Laina</td>\n",
       "      <td>female</td>\n",
       "      <td>26.0</td>\n",
       "      <td>0</td>\n",
       "      <td>0</td>\n",
       "      <td>STON/O2. 3101282</td>\n",
       "      <td>7.9250</td>\n",
       "      <td>NaN</td>\n",
       "      <td>S</td>\n",
       "    </tr>\n",
       "    <tr>\n",
       "      <th>3</th>\n",
       "      <td>4</td>\n",
       "      <td>1</td>\n",
       "      <td>1</td>\n",
       "      <td>Futrelle, Mrs. Jacques Heath (Lily May Peel)</td>\n",
       "      <td>female</td>\n",
       "      <td>35.0</td>\n",
       "      <td>1</td>\n",
       "      <td>0</td>\n",
       "      <td>113803</td>\n",
       "      <td>53.1000</td>\n",
       "      <td>C123</td>\n",
       "      <td>S</td>\n",
       "    </tr>\n",
       "    <tr>\n",
       "      <th>4</th>\n",
       "      <td>5</td>\n",
       "      <td>0</td>\n",
       "      <td>3</td>\n",
       "      <td>Allen, Mr. William Henry</td>\n",
       "      <td>male</td>\n",
       "      <td>35.0</td>\n",
       "      <td>0</td>\n",
       "      <td>0</td>\n",
       "      <td>373450</td>\n",
       "      <td>8.0500</td>\n",
       "      <td>NaN</td>\n",
       "      <td>S</td>\n",
       "    </tr>\n",
       "  </tbody>\n",
       "</table>\n",
       "</div>"
      ],
      "text/plain": [
       "   PassengerId  Survived  Pclass  \\\n",
       "0            1         0       3   \n",
       "1            2         1       1   \n",
       "2            3         1       3   \n",
       "3            4         1       1   \n",
       "4            5         0       3   \n",
       "\n",
       "                                                Name     Sex   Age  SibSp  \\\n",
       "0                            Braund, Mr. Owen Harris    male  22.0      1   \n",
       "1  Cumings, Mrs. John Bradley (Florence Briggs Th...  female  38.0      1   \n",
       "2                             Heikkinen, Miss. Laina  female  26.0      0   \n",
       "3       Futrelle, Mrs. Jacques Heath (Lily May Peel)  female  35.0      1   \n",
       "4                           Allen, Mr. William Henry    male  35.0      0   \n",
       "\n",
       "   Parch            Ticket     Fare Cabin Embarked  \n",
       "0      0         A/5 21171   7.2500   NaN        S  \n",
       "1      0          PC 17599  71.2833   C85        C  \n",
       "2      0  STON/O2. 3101282   7.9250   NaN        S  \n",
       "3      0            113803  53.1000  C123        S  \n",
       "4      0            373450   8.0500   NaN        S  "
      ]
     },
     "execution_count": 15,
     "metadata": {},
     "output_type": "execute_result"
    }
   ],
   "source": [
    "train.head()"
   ]
  },
  {
   "cell_type": "code",
   "execution_count": 16,
   "id": "7b1f9bd9",
   "metadata": {
    "execution": {
     "iopub.execute_input": "2022-07-27T21:37:42.144242Z",
     "iopub.status.busy": "2022-07-27T21:37:42.143816Z",
     "iopub.status.idle": "2022-07-27T21:37:42.152754Z",
     "shell.execute_reply": "2022-07-27T21:37:42.151645Z"
    },
    "papermill": {
     "duration": 0.034975,
     "end_time": "2022-07-27T21:37:42.155009",
     "exception": false,
     "start_time": "2022-07-27T21:37:42.120034",
     "status": "completed"
    },
    "tags": []
   },
   "outputs": [
    {
     "data": {
      "text/plain": [
       "Index(['PassengerId', 'Survived', 'Pclass', 'Name', 'Sex', 'Age', 'SibSp',\n",
       "       'Parch', 'Ticket', 'Fare', 'Cabin', 'Embarked'],\n",
       "      dtype='object')"
      ]
     },
     "execution_count": 16,
     "metadata": {},
     "output_type": "execute_result"
    }
   ],
   "source": [
    "train.columns"
   ]
  },
  {
   "cell_type": "code",
   "execution_count": 17,
   "id": "9b121bc9",
   "metadata": {
    "execution": {
     "iopub.execute_input": "2022-07-27T21:37:42.211098Z",
     "iopub.status.busy": "2022-07-27T21:37:42.210692Z",
     "iopub.status.idle": "2022-07-27T21:37:42.227895Z",
     "shell.execute_reply": "2022-07-27T21:37:42.226300Z"
    },
    "papermill": {
     "duration": 0.049326,
     "end_time": "2022-07-27T21:37:42.230487",
     "exception": false,
     "start_time": "2022-07-27T21:37:42.181161",
     "status": "completed"
    },
    "tags": []
   },
   "outputs": [],
   "source": [
    "train = train.drop(columns=[\"Name\", \"Ticket\", \"Cabin\"], axis=1).copy()\n",
    "# test = test.drop(columns=[\"PassengerId\"], axis=1).copy()"
   ]
  },
  {
   "cell_type": "markdown",
   "id": "a3235245",
   "metadata": {
    "papermill": {
     "duration": 0.031615,
     "end_time": "2022-07-27T21:37:42.284979",
     "exception": false,
     "start_time": "2022-07-27T21:37:42.253364",
     "status": "completed"
    },
    "tags": []
   },
   "source": [
    "## Categorical/Numerical Variables"
   ]
  },
  {
   "cell_type": "code",
   "execution_count": 18,
   "id": "33ff7d21",
   "metadata": {
    "execution": {
     "iopub.execute_input": "2022-07-27T21:37:42.334523Z",
     "iopub.status.busy": "2022-07-27T21:37:42.333246Z",
     "iopub.status.idle": "2022-07-27T21:37:42.353964Z",
     "shell.execute_reply": "2022-07-27T21:37:42.353130Z"
    },
    "papermill": {
     "duration": 0.04714,
     "end_time": "2022-07-27T21:37:42.356448",
     "exception": false,
     "start_time": "2022-07-27T21:37:42.309308",
     "status": "completed"
    },
    "tags": []
   },
   "outputs": [
    {
     "data": {
      "text/plain": [
       "['Sex', 'Embarked', 'Pclass', 'Age', 'SibSp', 'Parch', 'Fare']"
      ]
     },
     "execution_count": 18,
     "metadata": {},
     "output_type": "execute_result"
    }
   ],
   "source": [
    "## Separate Categorical and Numerical Features\n",
    "cat_features = list(train.select_dtypes(include=[\"category\", \"object\"]).columns)\n",
    "num_features = list(test.select_dtypes(include=[\"number\"]).columns)\n",
    "num_features.remove(\"PassengerId\")\n",
    "\n",
    "FEATURES = cat_features + num_features\n",
    "FEATURES"
   ]
  },
  {
   "cell_type": "code",
   "execution_count": 19,
   "id": "99b6219c",
   "metadata": {
    "execution": {
     "iopub.execute_input": "2022-07-27T21:37:42.403047Z",
     "iopub.status.busy": "2022-07-27T21:37:42.402271Z",
     "iopub.status.idle": "2022-07-27T21:37:42.434547Z",
     "shell.execute_reply": "2022-07-27T21:37:42.433639Z"
    },
    "papermill": {
     "duration": 0.058522,
     "end_time": "2022-07-27T21:37:42.437171",
     "exception": false,
     "start_time": "2022-07-27T21:37:42.378649",
     "status": "completed"
    },
    "tags": []
   },
   "outputs": [],
   "source": [
    "from sklearn.impute import SimpleImputer\n",
    "\n",
    "# Categorical\n",
    "imputer = SimpleImputer(strategy=\"most_frequent\")\n",
    "\n",
    "train[cat_features] = imputer.fit_transform(train[cat_features])\n",
    "test[cat_features] = imputer.transform(test[cat_features])\n",
    "\n",
    "# Numerical\n",
    "\n",
    "# imputer = SimpleImputer(strategy=\"mean\")\n",
    "imputer = SimpleImputer(strategy=\"median\")  # median is more robust to outliers\n",
    "\n",
    "train[num_features] = imputer.fit_transform(train[num_features])\n",
    "test[num_features] = imputer.transform(test[num_features])"
   ]
  },
  {
   "cell_type": "markdown",
   "id": "b374aa5e",
   "metadata": {
    "papermill": {
     "duration": 0.021809,
     "end_time": "2022-07-27T21:37:42.480997",
     "exception": false,
     "start_time": "2022-07-27T21:37:42.459188",
     "status": "completed"
    },
    "tags": []
   },
   "source": [
    "<div style=\"background-color:rgba(255, 215, 0, 0.6);border-radius:5px;display:fill\"><h1 style=\"text-align: center;padding: 12px 0px 12px 0px;\">Feature Engineering</h1>\n",
    "</div>\n",
    "\n",
    "- [Titanic - Advanced Feature Engineering Tutorial](https://www.kaggle.com/gunesevitan/titanic-advanced-feature-engineering-tutorial)\n",
    "- [Titanic Survival Predictions (Beginner)](https://www.kaggle.com/nadintamer/titanic-survival-predictions-beginner)\n",
    "- [Exploring Survival on the Titanic](https://www.kaggle.com/mrisdal/exploring-survival-on-the-titanic)"
   ]
  },
  {
   "cell_type": "code",
   "execution_count": 20,
   "id": "6663fa20",
   "metadata": {
    "execution": {
     "iopub.execute_input": "2022-07-27T21:37:42.527795Z",
     "iopub.status.busy": "2022-07-27T21:37:42.526738Z",
     "iopub.status.idle": "2022-07-27T21:37:42.532493Z",
     "shell.execute_reply": "2022-07-27T21:37:42.531612Z"
    },
    "papermill": {
     "duration": 0.031839,
     "end_time": "2022-07-27T21:37:42.534884",
     "exception": false,
     "start_time": "2022-07-27T21:37:42.503045",
     "status": "completed"
    },
    "tags": []
   },
   "outputs": [],
   "source": [
    "# FEATURES = [\"Pclass\", \"Sex\", \"Age\", \"SibSp\", \"Parch\", \"Embarked\"]"
   ]
  },
  {
   "cell_type": "code",
   "execution_count": 21,
   "id": "539f30c1",
   "metadata": {
    "execution": {
     "iopub.execute_input": "2022-07-27T21:37:42.581777Z",
     "iopub.status.busy": "2022-07-27T21:37:42.580947Z",
     "iopub.status.idle": "2022-07-27T21:37:42.600043Z",
     "shell.execute_reply": "2022-07-27T21:37:42.599186Z"
    },
    "papermill": {
     "duration": 0.045384,
     "end_time": "2022-07-27T21:37:42.602580",
     "exception": false,
     "start_time": "2022-07-27T21:37:42.557196",
     "status": "completed"
    },
    "tags": []
   },
   "outputs": [
    {
     "data": {
      "text/html": [
       "<div>\n",
       "<style scoped>\n",
       "    .dataframe tbody tr th:only-of-type {\n",
       "        vertical-align: middle;\n",
       "    }\n",
       "\n",
       "    .dataframe tbody tr th {\n",
       "        vertical-align: top;\n",
       "    }\n",
       "\n",
       "    .dataframe thead th {\n",
       "        text-align: right;\n",
       "    }\n",
       "</style>\n",
       "<table border=\"1\" class=\"dataframe\">\n",
       "  <thead>\n",
       "    <tr style=\"text-align: right;\">\n",
       "      <th></th>\n",
       "      <th>Sex</th>\n",
       "      <th>Embarked</th>\n",
       "      <th>Pclass</th>\n",
       "      <th>Age</th>\n",
       "      <th>SibSp</th>\n",
       "      <th>Parch</th>\n",
       "      <th>Fare</th>\n",
       "    </tr>\n",
       "  </thead>\n",
       "  <tbody>\n",
       "    <tr>\n",
       "      <th>0</th>\n",
       "      <td>male</td>\n",
       "      <td>S</td>\n",
       "      <td>3.0</td>\n",
       "      <td>22.0</td>\n",
       "      <td>1.0</td>\n",
       "      <td>0.0</td>\n",
       "      <td>7.2500</td>\n",
       "    </tr>\n",
       "    <tr>\n",
       "      <th>1</th>\n",
       "      <td>female</td>\n",
       "      <td>C</td>\n",
       "      <td>1.0</td>\n",
       "      <td>38.0</td>\n",
       "      <td>1.0</td>\n",
       "      <td>0.0</td>\n",
       "      <td>71.2833</td>\n",
       "    </tr>\n",
       "    <tr>\n",
       "      <th>2</th>\n",
       "      <td>female</td>\n",
       "      <td>S</td>\n",
       "      <td>3.0</td>\n",
       "      <td>26.0</td>\n",
       "      <td>0.0</td>\n",
       "      <td>0.0</td>\n",
       "      <td>7.9250</td>\n",
       "    </tr>\n",
       "    <tr>\n",
       "      <th>3</th>\n",
       "      <td>female</td>\n",
       "      <td>S</td>\n",
       "      <td>1.0</td>\n",
       "      <td>35.0</td>\n",
       "      <td>1.0</td>\n",
       "      <td>0.0</td>\n",
       "      <td>53.1000</td>\n",
       "    </tr>\n",
       "    <tr>\n",
       "      <th>4</th>\n",
       "      <td>male</td>\n",
       "      <td>S</td>\n",
       "      <td>3.0</td>\n",
       "      <td>35.0</td>\n",
       "      <td>0.0</td>\n",
       "      <td>0.0</td>\n",
       "      <td>8.0500</td>\n",
       "    </tr>\n",
       "  </tbody>\n",
       "</table>\n",
       "</div>"
      ],
      "text/plain": [
       "      Sex Embarked  Pclass   Age  SibSp  Parch     Fare\n",
       "0    male        S     3.0  22.0    1.0    0.0   7.2500\n",
       "1  female        C     1.0  38.0    1.0    0.0  71.2833\n",
       "2  female        S     3.0  26.0    0.0    0.0   7.9250\n",
       "3  female        S     1.0  35.0    1.0    0.0  53.1000\n",
       "4    male        S     3.0  35.0    0.0    0.0   8.0500"
      ]
     },
     "execution_count": 21,
     "metadata": {},
     "output_type": "execute_result"
    }
   ],
   "source": [
    "train[FEATURES].head()"
   ]
  },
  {
   "cell_type": "markdown",
   "id": "010b4571",
   "metadata": {
    "papermill": {
     "duration": 0.022004,
     "end_time": "2022-07-27T21:37:42.647132",
     "exception": false,
     "start_time": "2022-07-27T21:37:42.625128",
     "status": "completed"
    },
    "tags": []
   },
   "source": [
    "# Extract Target and Drop Unused Columns"
   ]
  },
  {
   "cell_type": "code",
   "execution_count": 22,
   "id": "77cc4daa",
   "metadata": {
    "execution": {
     "iopub.execute_input": "2022-07-27T21:37:42.694336Z",
     "iopub.status.busy": "2022-07-27T21:37:42.693530Z",
     "iopub.status.idle": "2022-07-27T21:37:42.698880Z",
     "shell.execute_reply": "2022-07-27T21:37:42.698116Z"
    },
    "papermill": {
     "duration": 0.031797,
     "end_time": "2022-07-27T21:37:42.701267",
     "exception": false,
     "start_time": "2022-07-27T21:37:42.669470",
     "status": "completed"
    },
    "tags": []
   },
   "outputs": [],
   "source": [
    "# y = train[TARGET]\n",
    "\n",
    "# X = train_df.drop(columns=[\"PassengerId\", \"Survived\"], axis=1).copy()\n",
    "# X = train[FEATURES].copy()"
   ]
  },
  {
   "cell_type": "markdown",
   "id": "d4f48231",
   "metadata": {
    "papermill": {
     "duration": 0.021845,
     "end_time": "2022-07-27T21:37:42.745288",
     "exception": false,
     "start_time": "2022-07-27T21:37:42.723443",
     "status": "completed"
    },
    "tags": []
   },
   "source": [
    "<div style=\"background-color:rgba(255, 215, 0, 0.6);border-radius:5px;display:fill\"><h1 style=\"text-align: center;padding: 12px 0px 12px 0px;\">Missing Values</h1>\n",
    "</div>\n",
    "\n",
    "We have 891 rows of training data. Age is the only feature, that we are using, with missing data.\n",
    "\n",
    "Note, handling missing data is an entire subject that should be studied in detail.  Kaggle offers a [course](https://www.kaggle.com/learn/data-cleaning)\n",
    "\n",
    "- [sklearn.impute.SimpleImputer](https://scikit-learn.org/stable/modules/impute.html)\n",
    "- https://scikit-learn.org/stable/modules/impute.html\n",
    "\n",
    "- [A Guide to Handling Missing values in Python](https://www.kaggle.com/parulpandey/a-guide-to-handling-missing-values-in-python)"
   ]
  },
  {
   "cell_type": "code",
   "execution_count": 23,
   "id": "9a74e333",
   "metadata": {
    "execution": {
     "iopub.execute_input": "2022-07-27T21:37:42.794146Z",
     "iopub.status.busy": "2022-07-27T21:37:42.793652Z",
     "iopub.status.idle": "2022-07-27T21:37:42.803417Z",
     "shell.execute_reply": "2022-07-27T21:37:42.801991Z"
    },
    "papermill": {
     "duration": 0.038872,
     "end_time": "2022-07-27T21:37:42.806349",
     "exception": false,
     "start_time": "2022-07-27T21:37:42.767477",
     "status": "completed"
    },
    "tags": []
   },
   "outputs": [
    {
     "name": "stdout",
     "output_type": "stream",
     "text": [
      "Series([], dtype: int64)\n"
     ]
    }
   ],
   "source": [
    "show_missing_features(train)"
   ]
  },
  {
   "cell_type": "code",
   "execution_count": 24,
   "id": "2ec48fdf",
   "metadata": {
    "execution": {
     "iopub.execute_input": "2022-07-27T21:37:42.853561Z",
     "iopub.status.busy": "2022-07-27T21:37:42.852445Z",
     "iopub.status.idle": "2022-07-27T21:37:42.862762Z",
     "shell.execute_reply": "2022-07-27T21:37:42.861292Z"
    },
    "papermill": {
     "duration": 0.036253,
     "end_time": "2022-07-27T21:37:42.865225",
     "exception": false,
     "start_time": "2022-07-27T21:37:42.828972",
     "status": "completed"
    },
    "tags": []
   },
   "outputs": [
    {
     "name": "stdout",
     "output_type": "stream",
     "text": [
      "Number missing: 0\n"
     ]
    }
   ],
   "source": [
    "n = train[\"Age\"].isna().sum()\n",
    "print(f\"Number missing: {n}\")"
   ]
  },
  {
   "cell_type": "markdown",
   "id": "434d2bb2",
   "metadata": {
    "papermill": {
     "duration": 0.022509,
     "end_time": "2022-07-27T21:37:42.910995",
     "exception": false,
     "start_time": "2022-07-27T21:37:42.888486",
     "status": "completed"
    },
    "tags": []
   },
   "source": [
    "### Manual Imputation of Age"
   ]
  },
  {
   "cell_type": "code",
   "execution_count": 25,
   "id": "12ad0d21",
   "metadata": {
    "execution": {
     "iopub.execute_input": "2022-07-27T21:37:42.957578Z",
     "iopub.status.busy": "2022-07-27T21:37:42.956821Z",
     "iopub.status.idle": "2022-07-27T21:37:42.967078Z",
     "shell.execute_reply": "2022-07-27T21:37:42.965622Z"
    },
    "papermill": {
     "duration": 0.036303,
     "end_time": "2022-07-27T21:37:42.969485",
     "exception": false,
     "start_time": "2022-07-27T21:37:42.933182",
     "status": "completed"
    },
    "tags": []
   },
   "outputs": [
    {
     "name": "stdout",
     "output_type": "stream",
     "text": [
      "Mean age of person on the Titanic: 29.36\n"
     ]
    }
   ],
   "source": [
    "# train_df[\"Age\"].fillna(train_df[\"Age\"].mean(), inplace = True)\n",
    "m = train[\"Age\"].mean()\n",
    "print(f\"Mean age of person on the Titanic: {m:0.2f}\")"
   ]
  },
  {
   "cell_type": "code",
   "execution_count": 26,
   "id": "40a33e81",
   "metadata": {
    "execution": {
     "iopub.execute_input": "2022-07-27T21:37:43.016905Z",
     "iopub.status.busy": "2022-07-27T21:37:43.016501Z",
     "iopub.status.idle": "2022-07-27T21:37:43.029996Z",
     "shell.execute_reply": "2022-07-27T21:37:43.029124Z"
    },
    "papermill": {
     "duration": 0.040507,
     "end_time": "2022-07-27T21:37:43.032471",
     "exception": false,
     "start_time": "2022-07-27T21:37:42.991964",
     "status": "completed"
    },
    "tags": []
   },
   "outputs": [],
   "source": [
    "train[\"Age\"].fillna(train[\"Age\"].median(skipna=True), inplace=True)\n",
    "train[\"Embarked\"].fillna(train[\"Embarked\"].value_counts().idxmax(), inplace=True)"
   ]
  },
  {
   "cell_type": "markdown",
   "id": "423b8303",
   "metadata": {
    "papermill": {
     "duration": 0.022257,
     "end_time": "2022-07-27T21:37:43.077581",
     "exception": false,
     "start_time": "2022-07-27T21:37:43.055324",
     "status": "completed"
    },
    "tags": []
   },
   "source": [
    "### Use SimpleImputer Function for Age\n",
    "\n",
    "Leaving the SimpleImputer code uncommented.  It should do nothing since we filled in the values above."
   ]
  },
  {
   "cell_type": "code",
   "execution_count": 27,
   "id": "fe27dc1c",
   "metadata": {
    "execution": {
     "iopub.execute_input": "2022-07-27T21:37:43.124235Z",
     "iopub.status.busy": "2022-07-27T21:37:43.123790Z",
     "iopub.status.idle": "2022-07-27T21:37:43.147551Z",
     "shell.execute_reply": "2022-07-27T21:37:43.146574Z"
    },
    "papermill": {
     "duration": 0.050433,
     "end_time": "2022-07-27T21:37:43.150224",
     "exception": false,
     "start_time": "2022-07-27T21:37:43.099791",
     "status": "completed"
    },
    "tags": []
   },
   "outputs": [],
   "source": [
    "impute_mean = SimpleImputer(missing_values=np.nan, strategy=\"mean\", verbose=1)\n",
    "m = impute_mean.fit_transform(train[[\"Age\"]])\n",
    "# mt = impute_mean.transform(test[[\"Age\"]])\n",
    "\n",
    "train[\"Age\"] = impute_mean.fit_transform(train[[\"Age\"]])\n",
    "test[\"Age\"] = impute_mean.transform(test[[\"Age\"]])"
   ]
  },
  {
   "cell_type": "markdown",
   "id": "e3b57e5a",
   "metadata": {
    "papermill": {
     "duration": 0.021987,
     "end_time": "2022-07-27T21:37:43.195156",
     "exception": false,
     "start_time": "2022-07-27T21:37:43.173169",
     "status": "completed"
    },
    "tags": []
   },
   "source": [
    "### At this point we no longer have missing values"
   ]
  },
  {
   "cell_type": "code",
   "execution_count": 28,
   "id": "9c21fc73",
   "metadata": {
    "execution": {
     "iopub.execute_input": "2022-07-27T21:37:43.244039Z",
     "iopub.status.busy": "2022-07-27T21:37:43.243308Z",
     "iopub.status.idle": "2022-07-27T21:37:43.251968Z",
     "shell.execute_reply": "2022-07-27T21:37:43.251097Z"
    },
    "papermill": {
     "duration": 0.035337,
     "end_time": "2022-07-27T21:37:43.254602",
     "exception": false,
     "start_time": "2022-07-27T21:37:43.219265",
     "status": "completed"
    },
    "tags": []
   },
   "outputs": [
    {
     "name": "stdout",
     "output_type": "stream",
     "text": [
      "Series([], dtype: int64)\n"
     ]
    }
   ],
   "source": [
    "show_missing_features(train)"
   ]
  },
  {
   "cell_type": "markdown",
   "id": "6c5dd741",
   "metadata": {
    "papermill": {
     "duration": 0.022303,
     "end_time": "2022-07-27T21:37:43.299816",
     "exception": false,
     "start_time": "2022-07-27T21:37:43.277513",
     "status": "completed"
    },
    "tags": []
   },
   "source": [
    "# Encoding Categorical Features\n",
    "\n",
    "Need to convert categorical features into numerical features.\n",
    "\n",
    "Several ways:\n",
    "- One-hot Encode\n",
    "- Label Encode"
   ]
  },
  {
   "cell_type": "markdown",
   "id": "b5c48f47",
   "metadata": {
    "papermill": {
     "duration": 0.022011,
     "end_time": "2022-07-27T21:37:43.344324",
     "exception": false,
     "start_time": "2022-07-27T21:37:43.322313",
     "status": "completed"
    },
    "tags": []
   },
   "source": [
    "### Encode `Embarked`\n",
    "\n",
    "First compare what the **drop_first=True** option does.  Some machine learning models require this option while others do not.  Logitistic regression requires us to drop the value."
   ]
  },
  {
   "cell_type": "code",
   "execution_count": 29,
   "id": "e9fb0417",
   "metadata": {
    "execution": {
     "iopub.execute_input": "2022-07-27T21:37:43.390612Z",
     "iopub.status.busy": "2022-07-27T21:37:43.390184Z",
     "iopub.status.idle": "2022-07-27T21:37:43.412484Z",
     "shell.execute_reply": "2022-07-27T21:37:43.411501Z"
    },
    "papermill": {
     "duration": 0.048161,
     "end_time": "2022-07-27T21:37:43.414817",
     "exception": false,
     "start_time": "2022-07-27T21:37:43.366656",
     "status": "completed"
    },
    "tags": []
   },
   "outputs": [
    {
     "data": {
      "text/html": [
       "<div>\n",
       "<style scoped>\n",
       "    .dataframe tbody tr th:only-of-type {\n",
       "        vertical-align: middle;\n",
       "    }\n",
       "\n",
       "    .dataframe tbody tr th {\n",
       "        vertical-align: top;\n",
       "    }\n",
       "\n",
       "    .dataframe thead th {\n",
       "        text-align: right;\n",
       "    }\n",
       "</style>\n",
       "<table border=\"1\" class=\"dataframe\">\n",
       "  <thead>\n",
       "    <tr style=\"text-align: right;\">\n",
       "      <th></th>\n",
       "      <th>PassengerId</th>\n",
       "      <th>Survived</th>\n",
       "      <th>Pclass</th>\n",
       "      <th>Sex</th>\n",
       "      <th>Age</th>\n",
       "      <th>SibSp</th>\n",
       "      <th>Parch</th>\n",
       "      <th>Fare</th>\n",
       "      <th>Embarked</th>\n",
       "    </tr>\n",
       "  </thead>\n",
       "  <tbody>\n",
       "    <tr>\n",
       "      <th>0</th>\n",
       "      <td>1</td>\n",
       "      <td>0</td>\n",
       "      <td>3.0</td>\n",
       "      <td>1</td>\n",
       "      <td>22.0</td>\n",
       "      <td>1.0</td>\n",
       "      <td>0.0</td>\n",
       "      <td>7.2500</td>\n",
       "      <td>2</td>\n",
       "    </tr>\n",
       "    <tr>\n",
       "      <th>1</th>\n",
       "      <td>2</td>\n",
       "      <td>1</td>\n",
       "      <td>1.0</td>\n",
       "      <td>0</td>\n",
       "      <td>38.0</td>\n",
       "      <td>1.0</td>\n",
       "      <td>0.0</td>\n",
       "      <td>71.2833</td>\n",
       "      <td>0</td>\n",
       "    </tr>\n",
       "    <tr>\n",
       "      <th>2</th>\n",
       "      <td>3</td>\n",
       "      <td>1</td>\n",
       "      <td>3.0</td>\n",
       "      <td>0</td>\n",
       "      <td>26.0</td>\n",
       "      <td>0.0</td>\n",
       "      <td>0.0</td>\n",
       "      <td>7.9250</td>\n",
       "      <td>2</td>\n",
       "    </tr>\n",
       "    <tr>\n",
       "      <th>3</th>\n",
       "      <td>4</td>\n",
       "      <td>1</td>\n",
       "      <td>1.0</td>\n",
       "      <td>0</td>\n",
       "      <td>35.0</td>\n",
       "      <td>1.0</td>\n",
       "      <td>0.0</td>\n",
       "      <td>53.1000</td>\n",
       "      <td>2</td>\n",
       "    </tr>\n",
       "    <tr>\n",
       "      <th>4</th>\n",
       "      <td>5</td>\n",
       "      <td>0</td>\n",
       "      <td>3.0</td>\n",
       "      <td>1</td>\n",
       "      <td>35.0</td>\n",
       "      <td>0.0</td>\n",
       "      <td>0.0</td>\n",
       "      <td>8.0500</td>\n",
       "      <td>2</td>\n",
       "    </tr>\n",
       "  </tbody>\n",
       "</table>\n",
       "</div>"
      ],
      "text/plain": [
       "   PassengerId  Survived  Pclass  Sex   Age  SibSp  Parch     Fare  Embarked\n",
       "0            1         0     3.0    1  22.0    1.0    0.0   7.2500         2\n",
       "1            2         1     1.0    0  38.0    1.0    0.0  71.2833         0\n",
       "2            3         1     3.0    0  26.0    0.0    0.0   7.9250         2\n",
       "3            4         1     1.0    0  35.0    1.0    0.0  53.1000         2\n",
       "4            5         0     3.0    1  35.0    0.0    0.0   8.0500         2"
      ]
     },
     "execution_count": 29,
     "metadata": {},
     "output_type": "execute_result"
    }
   ],
   "source": [
    "train, test = label_encoder(train, test, [\"Embarked\", \"Sex\"])\n",
    "# X_test = pd.get_dummies(test[FEATURES], drop_first=True)\n",
    "\n",
    "train.head()"
   ]
  },
  {
   "cell_type": "markdown",
   "id": "da3730d8",
   "metadata": {
    "papermill": {
     "duration": 0.022583,
     "end_time": "2022-07-27T21:37:43.461430",
     "exception": false,
     "start_time": "2022-07-27T21:37:43.438847",
     "status": "completed"
    },
    "tags": []
   },
   "source": [
    "- [sklearn.linear_model.LogisticRegression](https://scikit-learn.org/stable/modules/generated/sklearn.linear_model.LogisticRegression.html)"
   ]
  },
  {
   "cell_type": "code",
   "execution_count": 30,
   "id": "ac62582f",
   "metadata": {
    "execution": {
     "iopub.execute_input": "2022-07-27T21:37:43.509259Z",
     "iopub.status.busy": "2022-07-27T21:37:43.508562Z",
     "iopub.status.idle": "2022-07-27T21:37:43.512935Z",
     "shell.execute_reply": "2022-07-27T21:37:43.512209Z"
    },
    "papermill": {
     "duration": 0.031015,
     "end_time": "2022-07-27T21:37:43.515213",
     "exception": false,
     "start_time": "2022-07-27T21:37:43.484198",
     "status": "completed"
    },
    "tags": []
   },
   "outputs": [],
   "source": [
    "# y = train[TARGET]\n",
    "# X = train[FEATURES].copy()\n",
    "\n",
    "# X_test = test[FEATURES].copy()"
   ]
  },
  {
   "cell_type": "code",
   "execution_count": 31,
   "id": "f5b1d43e",
   "metadata": {
    "execution": {
     "iopub.execute_input": "2022-07-27T21:37:43.563354Z",
     "iopub.status.busy": "2022-07-27T21:37:43.562917Z",
     "iopub.status.idle": "2022-07-27T21:37:43.578831Z",
     "shell.execute_reply": "2022-07-27T21:37:43.577081Z"
    },
    "papermill": {
     "duration": 0.042961,
     "end_time": "2022-07-27T21:37:43.581373",
     "exception": false,
     "start_time": "2022-07-27T21:37:43.538412",
     "status": "completed"
    },
    "tags": []
   },
   "outputs": [
    {
     "name": "stdout",
     "output_type": "stream",
     "text": [
      "TARGET=Survived, n_folds=5, seed=42\n"
     ]
    }
   ],
   "source": [
    "train = create_folds(train, TARGET, Config.N_FOLDS)"
   ]
  },
  {
   "cell_type": "code",
   "execution_count": 32,
   "id": "2fec5bb7",
   "metadata": {
    "execution": {
     "iopub.execute_input": "2022-07-27T21:37:43.630811Z",
     "iopub.status.busy": "2022-07-27T21:37:43.630419Z",
     "iopub.status.idle": "2022-07-27T21:37:43.651661Z",
     "shell.execute_reply": "2022-07-27T21:37:43.650618Z"
    },
    "papermill": {
     "duration": 0.048872,
     "end_time": "2022-07-27T21:37:43.654124",
     "exception": false,
     "start_time": "2022-07-27T21:37:43.605252",
     "status": "completed"
    },
    "tags": []
   },
   "outputs": [
    {
     "data": {
      "text/html": [
       "<div>\n",
       "<style scoped>\n",
       "    .dataframe tbody tr th:only-of-type {\n",
       "        vertical-align: middle;\n",
       "    }\n",
       "\n",
       "    .dataframe tbody tr th {\n",
       "        vertical-align: top;\n",
       "    }\n",
       "\n",
       "    .dataframe thead th {\n",
       "        text-align: right;\n",
       "    }\n",
       "</style>\n",
       "<table border=\"1\" class=\"dataframe\">\n",
       "  <thead>\n",
       "    <tr style=\"text-align: right;\">\n",
       "      <th></th>\n",
       "      <th>Survived</th>\n",
       "      <th>fold</th>\n",
       "    </tr>\n",
       "    <tr>\n",
       "      <th>PassengerId</th>\n",
       "      <th></th>\n",
       "      <th></th>\n",
       "    </tr>\n",
       "  </thead>\n",
       "  <tbody>\n",
       "    <tr>\n",
       "      <th>1</th>\n",
       "      <td>0</td>\n",
       "      <td>1</td>\n",
       "    </tr>\n",
       "    <tr>\n",
       "      <th>2</th>\n",
       "      <td>1</td>\n",
       "      <td>4</td>\n",
       "    </tr>\n",
       "    <tr>\n",
       "      <th>3</th>\n",
       "      <td>1</td>\n",
       "      <td>3</td>\n",
       "    </tr>\n",
       "    <tr>\n",
       "      <th>4</th>\n",
       "      <td>1</td>\n",
       "      <td>3</td>\n",
       "    </tr>\n",
       "    <tr>\n",
       "      <th>5</th>\n",
       "      <td>0</td>\n",
       "      <td>0</td>\n",
       "    </tr>\n",
       "  </tbody>\n",
       "</table>\n",
       "</div>"
      ],
      "text/plain": [
       "             Survived  fold\n",
       "PassengerId                \n",
       "1                   0     1\n",
       "2                   1     4\n",
       "3                   1     3\n",
       "4                   1     3\n",
       "5                   0     0"
      ]
     },
     "execution_count": 32,
     "metadata": {},
     "output_type": "execute_result"
    }
   ],
   "source": [
    "submission_df = test[[\"PassengerId\"]].copy()\n",
    "oof = train[[\"PassengerId\", TARGET, \"fold\"]].copy().reset_index(drop=True).copy()\n",
    "oof.set_index(\"PassengerId\", inplace=True)\n",
    "oof.head()"
   ]
  },
  {
   "cell_type": "code",
   "execution_count": 33,
   "id": "35dbd4ee",
   "metadata": {
    "execution": {
     "iopub.execute_input": "2022-07-27T21:37:43.703617Z",
     "iopub.status.busy": "2022-07-27T21:37:43.702426Z",
     "iopub.status.idle": "2022-07-27T21:37:43.708537Z",
     "shell.execute_reply": "2022-07-27T21:37:43.707480Z"
    },
    "papermill": {
     "duration": 0.03313,
     "end_time": "2022-07-27T21:37:43.710980",
     "exception": false,
     "start_time": "2022-07-27T21:37:43.677850",
     "status": "completed"
    },
    "tags": []
   },
   "outputs": [],
   "source": [
    "# oof = train[[\"PassengerId\", TARGET, \"fold\"]].set_index(\"PassengerId\")\n",
    "# oof.head()"
   ]
  },
  {
   "cell_type": "markdown",
   "id": "8d0f69ad",
   "metadata": {
    "execution": {
     "iopub.execute_input": "2022-01-20T17:32:12.023204Z",
     "iopub.status.busy": "2022-01-20T17:32:12.022346Z",
     "iopub.status.idle": "2022-01-20T17:32:12.027226Z",
     "shell.execute_reply": "2022-01-20T17:32:12.026176Z",
     "shell.execute_reply.started": "2022-01-20T17:32:12.023164Z"
    },
    "papermill": {
     "duration": 0.022892,
     "end_time": "2022-07-27T21:37:43.756984",
     "exception": false,
     "start_time": "2022-07-27T21:37:43.734092",
     "status": "completed"
    },
    "tags": []
   },
   "source": [
    "## Train Model"
   ]
  },
  {
   "cell_type": "markdown",
   "id": "6783ba85",
   "metadata": {
    "papermill": {
     "duration": 0.022824,
     "end_time": "2022-07-27T21:37:43.803422",
     "exception": false,
     "start_time": "2022-07-27T21:37:43.780598",
     "status": "completed"
    },
    "tags": []
   },
   "source": [
    "<div style=\"background-color:rgba(255, 215, 0, 0.6);border-radius:5px;display:fill\"><h1 style=\"text-align: center;padding: 12px 0px 12px 0px;\">Train Model with Cross Validation</h1>\n",
    "</div>\n",
    "\n",
    "Four out five folds will be used for training. The fifth will be used for validation\n",
    "\n",
    "Each fold will have a turn at being the validation fold\n",
    "\n",
    "After each time through the loop\n"
   ]
  },
  {
   "cell_type": "code",
   "execution_count": null,
   "id": "021eb012",
   "metadata": {
    "papermill": {
     "duration": 0.022491,
     "end_time": "2022-07-27T21:37:43.849035",
     "exception": false,
     "start_time": "2022-07-27T21:37:43.826544",
     "status": "completed"
    },
    "tags": []
   },
   "outputs": [],
   "source": []
  },
  {
   "cell_type": "code",
   "execution_count": 34,
   "id": "cd9797ae",
   "metadata": {
    "execution": {
     "iopub.execute_input": "2022-07-27T21:37:43.898752Z",
     "iopub.status.busy": "2022-07-27T21:37:43.898000Z",
     "iopub.status.idle": "2022-07-27T21:37:43.950169Z",
     "shell.execute_reply": "2022-07-27T21:37:43.949119Z"
    },
    "papermill": {
     "duration": 0.080476,
     "end_time": "2022-07-27T21:37:43.952943",
     "exception": false,
     "start_time": "2022-07-27T21:37:43.872467",
     "status": "completed"
    },
    "tags": []
   },
   "outputs": [],
   "source": [
    "def train_xgb_model(\n",
    "    df,\n",
    "    test,\n",
    "    get_model_fn,\n",
    "    FEATURES,\n",
    "    TARGET,\n",
    "    calc_probability,\n",
    "    rowid,\n",
    "    params,\n",
    "    n_folds=5,\n",
    "    seed=42,\n",
    "):\n",
    "\n",
    "    final_test_predictions = []\n",
    "    final_valid_predictions = {}\n",
    "    fold_scores = []  # Scores of Validation Set\n",
    "    feature_importance_lst = []\n",
    "\n",
    "    test = test[FEATURES].copy()\n",
    "\n",
    "    # oof_preds = np.zeros((df.shape[0],)) # Zero array\n",
    "    # print(f\"oof_preds size={df.shape[0]}\")\n",
    "    #     print(\n",
    "    #         f\"\\n===== XGBoost Estimators: {params['n_estimators']}, Random State: {seed} =====\"\n",
    "    #     )\n",
    "\n",
    "    for fold in range(n_folds):\n",
    "        print(10 * \"=\", f\"Fold {fold+1}/{n_folds}\", 10 * \"=\")\n",
    "\n",
    "        start_time = time.time()\n",
    "\n",
    "        xtrain = df[df.fold != fold].reset_index(\n",
    "            drop=True\n",
    "        )  # Everything not in validation fold\n",
    "        xvalid = df[df.fold == fold].reset_index(drop=True)\n",
    "        xtest = test.copy()\n",
    "\n",
    "        valid_ids = (\n",
    "            xvalid.PassengerId.values.tolist()\n",
    "        )  # Id's of everything in validation fold\n",
    "\n",
    "        ytrain = xtrain[TARGET]\n",
    "        yvalid = xvalid[TARGET]\n",
    "\n",
    "        xtrain = xtrain[FEATURES]\n",
    "        xvalid = xvalid[FEATURES]\n",
    "        xtrain.head()\n",
    "\n",
    "        model = get_model_fn()\n",
    "\n",
    "        model.fit(\n",
    "            xtrain,\n",
    "            ytrain,\n",
    "            eval_set=[(xvalid, yvalid)],\n",
    "            #              eval_metric = \"auc\",\n",
    "            verbose=False,\n",
    "            early_stopping_rounds=3000,\n",
    "            #             callbacks=[\n",
    "            #                 xgb.log_evaluation(0),\n",
    "            #                 xgb.early_stopping(500, False, True),\n",
    "            #             ],\n",
    "        )\n",
    "\n",
    "        # Mean of the predictions\n",
    "        #         preds_valid = model.predict(xvalid)\n",
    "        #         test_preds = model.predict(xtest)\n",
    "        if calc_probability:\n",
    "            preds_valid = model.predict_proba(xvalid)[:, 1]\n",
    "            test_preds = model.predict_proba(xtest)[:, 1]\n",
    "        else:\n",
    "            preds_valid = model.predict(xvalid)\n",
    "            test_preds = model.predict(xtest)\n",
    "\n",
    "        final_test_predictions.append(test_preds)\n",
    "        final_valid_predictions.update(dict(zip(valid_ids, preds_valid)))\n",
    "\n",
    "        #         fold_score = accuracy_score(yvalid, preds_valid)  # Validation Set Score\n",
    "        fold_score = roc_auc_score(yvalid, preds_valid)  # Validation Set Score\n",
    "\n",
    "        fold_scores.append(fold_score)\n",
    "\n",
    "        # Feature importance\n",
    "        fi = pd.DataFrame(\n",
    "            index=FEATURES,\n",
    "            data=model.feature_importances_,\n",
    "            columns=[f\"{fold}_importance\"],\n",
    "        )\n",
    "        feature_importance_lst.append(fi)\n",
    "\n",
    "        run_time = time.time() - start_time\n",
    "\n",
    "        print(f\"fold: {fold+1}, AUC: {fold_score}, Run Time: {run_time:.2f}\")\n",
    "\n",
    "    return (\n",
    "        model,\n",
    "        feature_importance_lst,\n",
    "        fold_scores,\n",
    "        final_valid_predictions,\n",
    "        final_test_predictions,\n",
    "    )"
   ]
  },
  {
   "cell_type": "code",
   "execution_count": 35,
   "id": "e0908dd9",
   "metadata": {
    "execution": {
     "iopub.execute_input": "2022-07-27T21:37:44.001264Z",
     "iopub.status.busy": "2022-07-27T21:37:44.000820Z",
     "iopub.status.idle": "2022-07-27T21:37:44.015359Z",
     "shell.execute_reply": "2022-07-27T21:37:44.014189Z"
    },
    "papermill": {
     "duration": 0.041816,
     "end_time": "2022-07-27T21:37:44.018026",
     "exception": false,
     "start_time": "2022-07-27T21:37:43.976210",
     "status": "completed"
    },
    "tags": []
   },
   "outputs": [],
   "source": [
    "xgb_params = {\n",
    "    \"enable_categorical\": True,\n",
    "    \"n_estimators\": 1000,\n",
    "    \"learning_rate\": 0.021138659045230178,\n",
    "    \"subsample\": 0.4,\n",
    "    \"colsample_bytree\": 0.91,\n",
    "    \"max_depth\": 17,\n",
    "    \"gamma\": 0.6000000000000001,\n",
    "    \"booster\": \"gbtree\",\n",
    "    \"tree_method\": \"hist\",\n",
    "    \"reg_lambda\": 0.005882742898970815,\n",
    "    \"reg_alpha\": 0.0014501578157205654,\n",
    "    \"random_state\": 42,\n",
    "    \"n_jobs\": 4,\n",
    "    \"min_child_weight\": 5.567082153821453,\n",
    "}"
   ]
  },
  {
   "cell_type": "code",
   "execution_count": 36,
   "id": "4cfc11bd",
   "metadata": {
    "execution": {
     "iopub.execute_input": "2022-07-27T21:37:44.066216Z",
     "iopub.status.busy": "2022-07-27T21:37:44.065755Z",
     "iopub.status.idle": "2022-07-27T21:37:44.073441Z",
     "shell.execute_reply": "2022-07-27T21:37:44.072477Z"
    },
    "papermill": {
     "duration": 0.034208,
     "end_time": "2022-07-27T21:37:44.075518",
     "exception": false,
     "start_time": "2022-07-27T21:37:44.041310",
     "status": "completed"
    },
    "tags": []
   },
   "outputs": [],
   "source": [
    "def get_xgb_clf_model():\n",
    "    #     model = xgb.XGBClassifier(n_estimators=1000)\n",
    "    model = xgb.XGBClassifier(**xgb_params)\n",
    "    return model"
   ]
  },
  {
   "cell_type": "code",
   "execution_count": 37,
   "id": "b778e987",
   "metadata": {
    "execution": {
     "iopub.execute_input": "2022-07-27T21:37:44.124317Z",
     "iopub.status.busy": "2022-07-27T21:37:44.123391Z",
     "iopub.status.idle": "2022-07-27T21:37:44.142329Z",
     "shell.execute_reply": "2022-07-27T21:37:44.141126Z"
    },
    "papermill": {
     "duration": 0.046482,
     "end_time": "2022-07-27T21:37:44.145280",
     "exception": false,
     "start_time": "2022-07-27T21:37:44.098798",
     "status": "completed"
    },
    "tags": []
   },
   "outputs": [],
   "source": [
    "# https://lightgbm.readthedocs.io/en/latest/Parameters.html\n",
    "\n",
    "lgbm_params = {\n",
    "    \"n_estimators\": Config.N_ESTIMATORS,\n",
    "    #     \"device_type\": \"gpu\",\n",
    "    #     \"objective\": \"multiclass\",\n",
    "    #     \"metric\": \"multi_logloss\",\n",
    "    \"objective\": \"binary\",\n",
    "    \"metric\": \"auc\",\n",
    "    \"lambda_l1\": 0.009130931198077825,\n",
    "    \"lambda_l2\": 3.530680683338868e-05,\n",
    "    #     \"reg_alpha\": 0.009130931198077825,\n",
    "    #     \"reg_lambda\": 3.530680683338868e-05,\n",
    "    \"num_leaves\": 430,\n",
    "    \"importance_type\": \"split\",\n",
    "    #     \"learning_rate\": 0.029330486500731102,\n",
    "    \"learning_rate\": 0.1,\n",
    "    \"feature_fraction\": 0.8757445736567416,\n",
    "    \"bagging_fraction\": 0.9989307214277753,\n",
    "    \"bagging_freq\": 10,\n",
    "    \"min_child_samples\": 20,\n",
    "    \"random_state\": 42,\n",
    "    \"n_jobs\": -1,\n",
    "}\n",
    "if Config.gpu:\n",
    "    lgbm_params[\"device_type\"] = \"gpu\""
   ]
  },
  {
   "cell_type": "code",
   "execution_count": 38,
   "id": "ef09bde0",
   "metadata": {
    "execution": {
     "iopub.execute_input": "2022-07-27T21:37:44.194828Z",
     "iopub.status.busy": "2022-07-27T21:37:44.194397Z",
     "iopub.status.idle": "2022-07-27T21:37:44.201913Z",
     "shell.execute_reply": "2022-07-27T21:37:44.200646Z"
    },
    "papermill": {
     "duration": 0.036271,
     "end_time": "2022-07-27T21:37:44.204860",
     "exception": false,
     "start_time": "2022-07-27T21:37:44.168589",
     "status": "completed"
    },
    "tags": []
   },
   "outputs": [],
   "source": [
    "def get_lgbm_clf_model():\n",
    "    model = lgb.LGBMClassifier(**lgbm_params)\n",
    "    return model"
   ]
  },
  {
   "cell_type": "code",
   "execution_count": 39,
   "id": "77bda6af",
   "metadata": {
    "execution": {
     "iopub.execute_input": "2022-07-27T21:37:44.265717Z",
     "iopub.status.busy": "2022-07-27T21:37:44.264902Z",
     "iopub.status.idle": "2022-07-27T21:38:04.467858Z",
     "shell.execute_reply": "2022-07-27T21:38:04.466415Z"
    },
    "papermill": {
     "duration": 20.23796,
     "end_time": "2022-07-27T21:38:04.471320",
     "exception": false,
     "start_time": "2022-07-27T21:37:44.233360",
     "status": "completed"
    },
    "tags": []
   },
   "outputs": [
    {
     "name": "stdout",
     "output_type": "stream",
     "text": [
      "========== Fold 1/5 ==========\n"
     ]
    },
    {
     "name": "stderr",
     "output_type": "stream",
     "text": [
      "/opt/conda/lib/python3.7/site-packages/xgboost/sklearn.py:797: UserWarning: `early_stopping_rounds` in `fit` method is deprecated for better compatibility with scikit-learn, use `early_stopping_rounds` in constructor or`set_params` instead.\n",
      "  UserWarning,\n"
     ]
    },
    {
     "name": "stdout",
     "output_type": "stream",
     "text": [
      "fold: 1, AUC: 0.918642951251647, Run Time: 4.13\n",
      "========== Fold 2/5 ==========\n"
     ]
    },
    {
     "name": "stderr",
     "output_type": "stream",
     "text": [
      "/opt/conda/lib/python3.7/site-packages/xgboost/sklearn.py:797: UserWarning: `early_stopping_rounds` in `fit` method is deprecated for better compatibility with scikit-learn, use `early_stopping_rounds` in constructor or`set_params` instead.\n",
      "  UserWarning,\n"
     ]
    },
    {
     "name": "stdout",
     "output_type": "stream",
     "text": [
      "fold: 2, AUC: 0.8922459893048129, Run Time: 4.09\n",
      "========== Fold 3/5 ==========\n"
     ]
    },
    {
     "name": "stderr",
     "output_type": "stream",
     "text": [
      "/opt/conda/lib/python3.7/site-packages/xgboost/sklearn.py:797: UserWarning: `early_stopping_rounds` in `fit` method is deprecated for better compatibility with scikit-learn, use `early_stopping_rounds` in constructor or`set_params` instead.\n",
      "  UserWarning,\n"
     ]
    },
    {
     "name": "stdout",
     "output_type": "stream",
     "text": [
      "fold: 3, AUC: 0.8428475935828879, Run Time: 4.07\n",
      "========== Fold 4/5 ==========\n"
     ]
    },
    {
     "name": "stderr",
     "output_type": "stream",
     "text": [
      "/opt/conda/lib/python3.7/site-packages/xgboost/sklearn.py:797: UserWarning: `early_stopping_rounds` in `fit` method is deprecated for better compatibility with scikit-learn, use `early_stopping_rounds` in constructor or`set_params` instead.\n",
      "  UserWarning,\n"
     ]
    },
    {
     "name": "stdout",
     "output_type": "stream",
     "text": [
      "fold: 4, AUC: 0.8683823529411765, Run Time: 3.99\n",
      "========== Fold 5/5 ==========\n"
     ]
    },
    {
     "name": "stderr",
     "output_type": "stream",
     "text": [
      "/opt/conda/lib/python3.7/site-packages/xgboost/sklearn.py:797: UserWarning: `early_stopping_rounds` in `fit` method is deprecated for better compatibility with scikit-learn, use `early_stopping_rounds` in constructor or`set_params` instead.\n",
      "  UserWarning,\n"
     ]
    },
    {
     "name": "stdout",
     "output_type": "stream",
     "text": [
      "fold: 5, AUC: 0.8798032176572264, Run Time: 3.90\n"
     ]
    }
   ],
   "source": [
    "(\n",
    "    model,\n",
    "    feature_importance_lst,\n",
    "    fold_scores,\n",
    "    final_valid_predictions,\n",
    "    final_test_predictions,\n",
    ") = train_xgb_model(\n",
    "    train,\n",
    "    test,\n",
    "    get_xgb_clf_model,\n",
    "    FEATURES,\n",
    "    TARGET,\n",
    "    Config.calc_probability,\n",
    "    \"PassengerId\",\n",
    "    xgb_params,\n",
    "    Config.N_FOLDS,\n",
    "    Config.seed,\n",
    ")"
   ]
  },
  {
   "cell_type": "markdown",
   "id": "ac663378",
   "metadata": {
    "papermill": {
     "duration": 0.023007,
     "end_time": "2022-07-27T21:38:04.518331",
     "exception": false,
     "start_time": "2022-07-27T21:38:04.495324",
     "status": "completed"
    },
    "tags": []
   },
   "source": [
    "<div style=\"background-color:rgba(255, 215, 0, 0.6);border-radius:5px;display:fill\"><h1 style=\"text-align: center;padding: 12px 0px 12px 0px;\">Scores</h1>\n",
    "</div>\n",
    "\n",
    "CV, or Cross Validation, Score.\n",
    "\n",
    "We average the means and the standard deviations.\n",
    "\n",
    "The Adjusted Score is the average of the means minus the average of standard deviation. Do this to attempt to get one number to evaluate the score when comparing different models."
   ]
  },
  {
   "cell_type": "code",
   "execution_count": 40,
   "id": "4fc108c9",
   "metadata": {
    "execution": {
     "iopub.execute_input": "2022-07-27T21:38:04.567632Z",
     "iopub.status.busy": "2022-07-27T21:38:04.566395Z",
     "iopub.status.idle": "2022-07-27T21:38:04.573370Z",
     "shell.execute_reply": "2022-07-27T21:38:04.572430Z"
    },
    "papermill": {
     "duration": 0.034268,
     "end_time": "2022-07-27T21:38:04.575912",
     "exception": false,
     "start_time": "2022-07-27T21:38:04.541644",
     "status": "completed"
    },
    "tags": []
   },
   "outputs": [
    {
     "name": "stdout",
     "output_type": "stream",
     "text": [
      "Scores -> Adjusted: 0.85525351 , mean: 0.88038442, std: 0.02513091\n"
     ]
    }
   ],
   "source": [
    "show_fold_scores(fold_scores)"
   ]
  },
  {
   "cell_type": "code",
   "execution_count": 41,
   "id": "3e0411c5",
   "metadata": {
    "execution": {
     "iopub.execute_input": "2022-07-27T21:38:04.625048Z",
     "iopub.status.busy": "2022-07-27T21:38:04.624645Z",
     "iopub.status.idle": "2022-07-27T21:38:04.630386Z",
     "shell.execute_reply": "2022-07-27T21:38:04.629232Z"
    },
    "papermill": {
     "duration": 0.032843,
     "end_time": "2022-07-27T21:38:04.632694",
     "exception": false,
     "start_time": "2022-07-27T21:38:04.599851",
     "status": "completed"
    },
    "tags": []
   },
   "outputs": [],
   "source": [
    "# final_valid_predictions"
   ]
  },
  {
   "cell_type": "code",
   "execution_count": 42,
   "id": "d5738991",
   "metadata": {
    "execution": {
     "iopub.execute_input": "2022-07-27T21:38:04.681834Z",
     "iopub.status.busy": "2022-07-27T21:38:04.681449Z",
     "iopub.status.idle": "2022-07-27T21:38:04.703496Z",
     "shell.execute_reply": "2022-07-27T21:38:04.702571Z"
    },
    "papermill": {
     "duration": 0.049663,
     "end_time": "2022-07-27T21:38:04.706102",
     "exception": false,
     "start_time": "2022-07-27T21:38:04.656439",
     "status": "completed"
    },
    "tags": []
   },
   "outputs": [],
   "source": [
    "final_valid_predictions_df = pd.DataFrame.from_dict(\n",
    "    final_valid_predictions, orient=\"index\"\n",
    ").reset_index()\n",
    "final_valid_predictions_df.columns = [\"id\", \"pred_xgb1\"]\n",
    "final_valid_predictions_df.set_index(\"id\", inplace=True)\n",
    "final_valid_predictions_df.sort_index(inplace=True)  # .head(20)  # head(100)\n",
    "final_valid_predictions_df.to_csv(\"train_pred_xgb1.csv\", index=False)"
   ]
  },
  {
   "cell_type": "code",
   "execution_count": 43,
   "id": "29077713",
   "metadata": {
    "execution": {
     "iopub.execute_input": "2022-07-27T21:38:04.756176Z",
     "iopub.status.busy": "2022-07-27T21:38:04.754933Z",
     "iopub.status.idle": "2022-07-27T21:38:04.767247Z",
     "shell.execute_reply": "2022-07-27T21:38:04.766326Z"
    },
    "papermill": {
     "duration": 0.039503,
     "end_time": "2022-07-27T21:38:04.769323",
     "exception": false,
     "start_time": "2022-07-27T21:38:04.729820",
     "status": "completed"
    },
    "tags": []
   },
   "outputs": [
    {
     "data": {
      "text/html": [
       "<div>\n",
       "<style scoped>\n",
       "    .dataframe tbody tr th:only-of-type {\n",
       "        vertical-align: middle;\n",
       "    }\n",
       "\n",
       "    .dataframe tbody tr th {\n",
       "        vertical-align: top;\n",
       "    }\n",
       "\n",
       "    .dataframe thead th {\n",
       "        text-align: right;\n",
       "    }\n",
       "</style>\n",
       "<table border=\"1\" class=\"dataframe\">\n",
       "  <thead>\n",
       "    <tr style=\"text-align: right;\">\n",
       "      <th></th>\n",
       "      <th>pred_xgb1</th>\n",
       "    </tr>\n",
       "    <tr>\n",
       "      <th>id</th>\n",
       "      <th></th>\n",
       "    </tr>\n",
       "  </thead>\n",
       "  <tbody>\n",
       "    <tr>\n",
       "      <th>1</th>\n",
       "      <td>0.063560</td>\n",
       "    </tr>\n",
       "    <tr>\n",
       "      <th>2</th>\n",
       "      <td>0.967066</td>\n",
       "    </tr>\n",
       "    <tr>\n",
       "      <th>3</th>\n",
       "      <td>0.641143</td>\n",
       "    </tr>\n",
       "    <tr>\n",
       "      <th>4</th>\n",
       "      <td>0.987377</td>\n",
       "    </tr>\n",
       "    <tr>\n",
       "      <th>5</th>\n",
       "      <td>0.163485</td>\n",
       "    </tr>\n",
       "  </tbody>\n",
       "</table>\n",
       "</div>"
      ],
      "text/plain": [
       "    pred_xgb1\n",
       "id           \n",
       "1    0.063560\n",
       "2    0.967066\n",
       "3    0.641143\n",
       "4    0.987377\n",
       "5    0.163485"
      ]
     },
     "execution_count": 43,
     "metadata": {},
     "output_type": "execute_result"
    }
   ],
   "source": [
    "# final_valid_predictions_df.set_index(\"id\", inplace=True)\n",
    "final_valid_predictions_df.head()"
   ]
  },
  {
   "cell_type": "code",
   "execution_count": 44,
   "id": "a78d4ea8",
   "metadata": {
    "execution": {
     "iopub.execute_input": "2022-07-27T21:38:04.819825Z",
     "iopub.status.busy": "2022-07-27T21:38:04.819007Z",
     "iopub.status.idle": "2022-07-27T21:38:04.833773Z",
     "shell.execute_reply": "2022-07-27T21:38:04.832374Z"
    },
    "papermill": {
     "duration": 0.042754,
     "end_time": "2022-07-27T21:38:04.836175",
     "exception": false,
     "start_time": "2022-07-27T21:38:04.793421",
     "status": "completed"
    },
    "tags": []
   },
   "outputs": [
    {
     "data": {
      "text/html": [
       "<div>\n",
       "<style scoped>\n",
       "    .dataframe tbody tr th:only-of-type {\n",
       "        vertical-align: middle;\n",
       "    }\n",
       "\n",
       "    .dataframe tbody tr th {\n",
       "        vertical-align: top;\n",
       "    }\n",
       "\n",
       "    .dataframe thead th {\n",
       "        text-align: right;\n",
       "    }\n",
       "</style>\n",
       "<table border=\"1\" class=\"dataframe\">\n",
       "  <thead>\n",
       "    <tr style=\"text-align: right;\">\n",
       "      <th></th>\n",
       "      <th>Survived</th>\n",
       "      <th>fold</th>\n",
       "      <th>pred_xgb1</th>\n",
       "    </tr>\n",
       "    <tr>\n",
       "      <th>PassengerId</th>\n",
       "      <th></th>\n",
       "      <th></th>\n",
       "      <th></th>\n",
       "    </tr>\n",
       "  </thead>\n",
       "  <tbody>\n",
       "    <tr>\n",
       "      <th>1</th>\n",
       "      <td>0</td>\n",
       "      <td>1</td>\n",
       "      <td>0.063560</td>\n",
       "    </tr>\n",
       "    <tr>\n",
       "      <th>2</th>\n",
       "      <td>1</td>\n",
       "      <td>4</td>\n",
       "      <td>0.967066</td>\n",
       "    </tr>\n",
       "    <tr>\n",
       "      <th>3</th>\n",
       "      <td>1</td>\n",
       "      <td>3</td>\n",
       "      <td>0.641143</td>\n",
       "    </tr>\n",
       "    <tr>\n",
       "      <th>4</th>\n",
       "      <td>1</td>\n",
       "      <td>3</td>\n",
       "      <td>0.987377</td>\n",
       "    </tr>\n",
       "    <tr>\n",
       "      <th>5</th>\n",
       "      <td>0</td>\n",
       "      <td>0</td>\n",
       "      <td>0.163485</td>\n",
       "    </tr>\n",
       "  </tbody>\n",
       "</table>\n",
       "</div>"
      ],
      "text/plain": [
       "             Survived  fold  pred_xgb1\n",
       "PassengerId                           \n",
       "1                   0     1   0.063560\n",
       "2                   1     4   0.967066\n",
       "3                   1     3   0.641143\n",
       "4                   1     3   0.987377\n",
       "5                   0     0   0.163485"
      ]
     },
     "execution_count": 44,
     "metadata": {},
     "output_type": "execute_result"
    }
   ],
   "source": [
    "oof[\"pred_xgb1\"] = final_valid_predictions_df[\"pred_xgb1\"]\n",
    "oof.head()"
   ]
  },
  {
   "cell_type": "code",
   "execution_count": 45,
   "id": "c7e65de0",
   "metadata": {
    "execution": {
     "iopub.execute_input": "2022-07-27T21:38:04.886018Z",
     "iopub.status.busy": "2022-07-27T21:38:04.885612Z",
     "iopub.status.idle": "2022-07-27T21:38:04.904567Z",
     "shell.execute_reply": "2022-07-27T21:38:04.903435Z"
    },
    "papermill": {
     "duration": 0.04658,
     "end_time": "2022-07-27T21:38:04.906714",
     "exception": false,
     "start_time": "2022-07-27T21:38:04.860134",
     "status": "completed"
    },
    "tags": []
   },
   "outputs": [
    {
     "name": "stdout",
     "output_type": "stream",
     "text": [
      "Mean\n"
     ]
    },
    {
     "data": {
      "text/plain": [
       "array([0.12707493, 0.24531329, 0.0601217 , 0.15703344, 0.36903167,\n",
       "       0.2520413 , 0.6464669 , 0.14999278, 0.7070511 , 0.03526946,\n",
       "       0.05098905, 0.17711352, 0.91629744, 0.07315017, 0.9425286 ,\n",
       "       0.87489337, 0.2211051 , 0.15072212, 0.6656117 , 0.44384485],\n",
       "      dtype=float32)"
      ]
     },
     "execution_count": 45,
     "metadata": {},
     "output_type": "execute_result"
    }
   ],
   "source": [
    "from scipy.stats import mode\n",
    "\n",
    "if Config.calc_probability:\n",
    "    print(\"Mean\")\n",
    "    result = np.mean(np.column_stack(final_test_predictions), axis=1)\n",
    "#     result = np.rint(m).astype(int)\n",
    "#     display(result)\n",
    "else:\n",
    "    print(\"Mode\")\n",
    "    mode_result = mode(np.column_stack(final_test_predictions), axis=1)\n",
    "    result = mode_result[0].ravel()\n",
    "\n",
    "result[:20]"
   ]
  },
  {
   "cell_type": "code",
   "execution_count": 46,
   "id": "a286d138",
   "metadata": {
    "execution": {
     "iopub.execute_input": "2022-07-27T21:38:04.958363Z",
     "iopub.status.busy": "2022-07-27T21:38:04.957857Z",
     "iopub.status.idle": "2022-07-27T21:38:04.972376Z",
     "shell.execute_reply": "2022-07-27T21:38:04.971139Z"
    },
    "papermill": {
     "duration": 0.043844,
     "end_time": "2022-07-27T21:38:04.974729",
     "exception": false,
     "start_time": "2022-07-27T21:38:04.930885",
     "status": "completed"
    },
    "tags": []
   },
   "outputs": [
    {
     "data": {
      "text/html": [
       "<div>\n",
       "<style scoped>\n",
       "    .dataframe tbody tr th:only-of-type {\n",
       "        vertical-align: middle;\n",
       "    }\n",
       "\n",
       "    .dataframe tbody tr th {\n",
       "        vertical-align: top;\n",
       "    }\n",
       "\n",
       "    .dataframe thead th {\n",
       "        text-align: right;\n",
       "    }\n",
       "</style>\n",
       "<table border=\"1\" class=\"dataframe\">\n",
       "  <thead>\n",
       "    <tr style=\"text-align: right;\">\n",
       "      <th></th>\n",
       "      <th>PassengerId</th>\n",
       "      <th>target_xgb1</th>\n",
       "    </tr>\n",
       "  </thead>\n",
       "  <tbody>\n",
       "    <tr>\n",
       "      <th>0</th>\n",
       "      <td>892</td>\n",
       "      <td>0.127075</td>\n",
       "    </tr>\n",
       "    <tr>\n",
       "      <th>1</th>\n",
       "      <td>893</td>\n",
       "      <td>0.245313</td>\n",
       "    </tr>\n",
       "    <tr>\n",
       "      <th>2</th>\n",
       "      <td>894</td>\n",
       "      <td>0.060122</td>\n",
       "    </tr>\n",
       "    <tr>\n",
       "      <th>3</th>\n",
       "      <td>895</td>\n",
       "      <td>0.157033</td>\n",
       "    </tr>\n",
       "    <tr>\n",
       "      <th>4</th>\n",
       "      <td>896</td>\n",
       "      <td>0.369032</td>\n",
       "    </tr>\n",
       "    <tr>\n",
       "      <th>5</th>\n",
       "      <td>897</td>\n",
       "      <td>0.252041</td>\n",
       "    </tr>\n",
       "    <tr>\n",
       "      <th>6</th>\n",
       "      <td>898</td>\n",
       "      <td>0.646467</td>\n",
       "    </tr>\n",
       "    <tr>\n",
       "      <th>7</th>\n",
       "      <td>899</td>\n",
       "      <td>0.149993</td>\n",
       "    </tr>\n",
       "    <tr>\n",
       "      <th>8</th>\n",
       "      <td>900</td>\n",
       "      <td>0.707051</td>\n",
       "    </tr>\n",
       "    <tr>\n",
       "      <th>9</th>\n",
       "      <td>901</td>\n",
       "      <td>0.035269</td>\n",
       "    </tr>\n",
       "  </tbody>\n",
       "</table>\n",
       "</div>"
      ],
      "text/plain": [
       "   PassengerId  target_xgb1\n",
       "0          892     0.127075\n",
       "1          893     0.245313\n",
       "2          894     0.060122\n",
       "3          895     0.157033\n",
       "4          896     0.369032\n",
       "5          897     0.252041\n",
       "6          898     0.646467\n",
       "7          899     0.149993\n",
       "8          900     0.707051\n",
       "9          901     0.035269"
      ]
     },
     "execution_count": 46,
     "metadata": {},
     "output_type": "execute_result"
    }
   ],
   "source": [
    "# submission_df[\"target_xgb1\"] = np.mean(np.column_stack(final_test_predictions), axis=1)\n",
    "submission_df[\"target_xgb1\"] = result\n",
    "submission_df.head(10)"
   ]
  },
  {
   "cell_type": "markdown",
   "id": "785fc1f3",
   "metadata": {
    "papermill": {
     "duration": 0.025109,
     "end_time": "2022-07-27T21:38:05.024259",
     "exception": false,
     "start_time": "2022-07-27T21:38:04.999150",
     "status": "completed"
    },
    "tags": []
   },
   "source": [
    "## LGBM Model"
   ]
  },
  {
   "cell_type": "code",
   "execution_count": 47,
   "id": "27926a26",
   "metadata": {
    "execution": {
     "iopub.execute_input": "2022-07-27T21:38:05.074823Z",
     "iopub.status.busy": "2022-07-27T21:38:05.074448Z",
     "iopub.status.idle": "2022-07-27T21:38:05.690453Z",
     "shell.execute_reply": "2022-07-27T21:38:05.688471Z"
    },
    "papermill": {
     "duration": 0.644585,
     "end_time": "2022-07-27T21:38:05.693080",
     "exception": false,
     "start_time": "2022-07-27T21:38:05.048495",
     "status": "completed"
    },
    "tags": []
   },
   "outputs": [
    {
     "name": "stdout",
     "output_type": "stream",
     "text": [
      "========== Fold 1/5 ==========\n",
      "[LightGBM] [Warning] lambda_l1 is set=0.009130931198077825, reg_alpha=0.0 will be ignored. Current value: lambda_l1=0.009130931198077825\n",
      "[LightGBM] [Warning] bagging_fraction is set=0.9989307214277753, subsample=1.0 will be ignored. Current value: bagging_fraction=0.9989307214277753\n",
      "[LightGBM] [Warning] feature_fraction is set=0.8757445736567416, colsample_bytree=1.0 will be ignored. Current value: feature_fraction=0.8757445736567416\n",
      "[LightGBM] [Warning] bagging_freq is set=10, subsample_freq=0 will be ignored. Current value: bagging_freq=10\n",
      "[LightGBM] [Warning] lambda_l2 is set=3.530680683338868e-05, reg_lambda=0.0 will be ignored. Current value: lambda_l2=3.530680683338868e-05\n",
      "fold: 1, AUC: 0.9148221343873518, Run Time: 0.16\n",
      "========== Fold 2/5 ==========\n",
      "[LightGBM] [Warning] lambda_l1 is set=0.009130931198077825, reg_alpha=0.0 will be ignored. Current value: lambda_l1=0.009130931198077825\n",
      "[LightGBM] [Warning] bagging_fraction is set=0.9989307214277753, subsample=1.0 will be ignored. Current value: bagging_fraction=0.9989307214277753\n",
      "[LightGBM] [Warning] feature_fraction is set=0.8757445736567416, colsample_bytree=1.0 will be ignored. Current value: feature_fraction=0.8757445736567416\n",
      "[LightGBM] [Warning] bagging_freq is set=10, subsample_freq=0 will be ignored. Current value: bagging_freq=10\n",
      "[LightGBM] [Warning] lambda_l2 is set=3.530680683338868e-05, reg_lambda=0.0 will be ignored. Current value: lambda_l2=3.530680683338868e-05\n"
     ]
    },
    {
     "name": "stderr",
     "output_type": "stream",
     "text": [
      "/opt/conda/lib/python3.7/site-packages/lightgbm/sklearn.py:726: UserWarning: 'early_stopping_rounds' argument is deprecated and will be removed in a future release of LightGBM. Pass 'early_stopping()' callback via 'callbacks' argument instead.\n",
      "  _log_warning(\"'early_stopping_rounds' argument is deprecated and will be removed in a future release of LightGBM. \"\n",
      "/opt/conda/lib/python3.7/site-packages/lightgbm/sklearn.py:736: UserWarning: 'verbose' argument is deprecated and will be removed in a future release of LightGBM. Pass 'log_evaluation()' callback via 'callbacks' argument instead.\n",
      "  _log_warning(\"'verbose' argument is deprecated and will be removed in a future release of LightGBM. \"\n",
      "/opt/conda/lib/python3.7/site-packages/lightgbm/sklearn.py:726: UserWarning: 'early_stopping_rounds' argument is deprecated and will be removed in a future release of LightGBM. Pass 'early_stopping()' callback via 'callbacks' argument instead.\n",
      "  _log_warning(\"'early_stopping_rounds' argument is deprecated and will be removed in a future release of LightGBM. \"\n",
      "/opt/conda/lib/python3.7/site-packages/lightgbm/sklearn.py:736: UserWarning: 'verbose' argument is deprecated and will be removed in a future release of LightGBM. Pass 'log_evaluation()' callback via 'callbacks' argument instead.\n",
      "  _log_warning(\"'verbose' argument is deprecated and will be removed in a future release of LightGBM. \"\n"
     ]
    },
    {
     "name": "stdout",
     "output_type": "stream",
     "text": [
      "fold: 2, AUC: 0.902139037433155, Run Time: 0.12\n",
      "========== Fold 3/5 ==========\n",
      "[LightGBM] [Warning] lambda_l1 is set=0.009130931198077825, reg_alpha=0.0 will be ignored. Current value: lambda_l1=0.009130931198077825\n",
      "[LightGBM] [Warning] bagging_fraction is set=0.9989307214277753, subsample=1.0 will be ignored. Current value: bagging_fraction=0.9989307214277753\n",
      "[LightGBM] [Warning] feature_fraction is set=0.8757445736567416, colsample_bytree=1.0 will be ignored. Current value: feature_fraction=0.8757445736567416\n",
      "[LightGBM] [Warning] bagging_freq is set=10, subsample_freq=0 will be ignored. Current value: bagging_freq=10\n",
      "[LightGBM] [Warning] lambda_l2 is set=3.530680683338868e-05, reg_lambda=0.0 will be ignored. Current value: lambda_l2=3.530680683338868e-05\n",
      "fold: 3, AUC: 0.8584893048128343, Run Time: 0.11\n",
      "========== Fold 4/5 ==========\n",
      "[LightGBM] [Warning] lambda_l1 is set=0.009130931198077825, reg_alpha=0.0 will be ignored. Current value: lambda_l1=0.009130931198077825\n",
      "[LightGBM] [Warning] bagging_fraction is set=0.9989307214277753, subsample=1.0 will be ignored. Current value: bagging_fraction=0.9989307214277753\n",
      "[LightGBM] [Warning] feature_fraction is set=0.8757445736567416, colsample_bytree=1.0 will be ignored. Current value: feature_fraction=0.8757445736567416\n",
      "[LightGBM] [Warning] bagging_freq is set=10, subsample_freq=0 will be ignored. Current value: bagging_freq=10\n",
      "[LightGBM] [Warning] lambda_l2 is set=3.530680683338868e-05, reg_lambda=0.0 will be ignored. Current value: lambda_l2=3.530680683338868e-05\n"
     ]
    },
    {
     "name": "stderr",
     "output_type": "stream",
     "text": [
      "/opt/conda/lib/python3.7/site-packages/lightgbm/sklearn.py:726: UserWarning: 'early_stopping_rounds' argument is deprecated and will be removed in a future release of LightGBM. Pass 'early_stopping()' callback via 'callbacks' argument instead.\n",
      "  _log_warning(\"'early_stopping_rounds' argument is deprecated and will be removed in a future release of LightGBM. \"\n",
      "/opt/conda/lib/python3.7/site-packages/lightgbm/sklearn.py:736: UserWarning: 'verbose' argument is deprecated and will be removed in a future release of LightGBM. Pass 'log_evaluation()' callback via 'callbacks' argument instead.\n",
      "  _log_warning(\"'verbose' argument is deprecated and will be removed in a future release of LightGBM. \"\n",
      "/opt/conda/lib/python3.7/site-packages/lightgbm/sklearn.py:726: UserWarning: 'early_stopping_rounds' argument is deprecated and will be removed in a future release of LightGBM. Pass 'early_stopping()' callback via 'callbacks' argument instead.\n",
      "  _log_warning(\"'early_stopping_rounds' argument is deprecated and will be removed in a future release of LightGBM. \"\n",
      "/opt/conda/lib/python3.7/site-packages/lightgbm/sklearn.py:736: UserWarning: 'verbose' argument is deprecated and will be removed in a future release of LightGBM. Pass 'log_evaluation()' callback via 'callbacks' argument instead.\n",
      "  _log_warning(\"'verbose' argument is deprecated and will be removed in a future release of LightGBM. \"\n"
     ]
    },
    {
     "name": "stdout",
     "output_type": "stream",
     "text": [
      "fold: 4, AUC: 0.8679812834224598, Run Time: 0.11\n",
      "========== Fold 5/5 ==========\n",
      "[LightGBM] [Warning] lambda_l1 is set=0.009130931198077825, reg_alpha=0.0 will be ignored. Current value: lambda_l1=0.009130931198077825\n",
      "[LightGBM] [Warning] bagging_fraction is set=0.9989307214277753, subsample=1.0 will be ignored. Current value: bagging_fraction=0.9989307214277753\n",
      "[LightGBM] [Warning] feature_fraction is set=0.8757445736567416, colsample_bytree=1.0 will be ignored. Current value: feature_fraction=0.8757445736567416\n",
      "[LightGBM] [Warning] bagging_freq is set=10, subsample_freq=0 will be ignored. Current value: bagging_freq=10\n",
      "[LightGBM] [Warning] lambda_l2 is set=3.530680683338868e-05, reg_lambda=0.0 will be ignored. Current value: lambda_l2=3.530680683338868e-05\n",
      "fold: 5, AUC: 0.8966892700438771, Run Time: 0.10\n"
     ]
    },
    {
     "name": "stderr",
     "output_type": "stream",
     "text": [
      "/opt/conda/lib/python3.7/site-packages/lightgbm/sklearn.py:726: UserWarning: 'early_stopping_rounds' argument is deprecated and will be removed in a future release of LightGBM. Pass 'early_stopping()' callback via 'callbacks' argument instead.\n",
      "  _log_warning(\"'early_stopping_rounds' argument is deprecated and will be removed in a future release of LightGBM. \"\n",
      "/opt/conda/lib/python3.7/site-packages/lightgbm/sklearn.py:736: UserWarning: 'verbose' argument is deprecated and will be removed in a future release of LightGBM. Pass 'log_evaluation()' callback via 'callbacks' argument instead.\n",
      "  _log_warning(\"'verbose' argument is deprecated and will be removed in a future release of LightGBM. \"\n"
     ]
    }
   ],
   "source": [
    "(\n",
    "    model,\n",
    "    feature_importance_lst,\n",
    "    fold_scores,\n",
    "    final_valid_predictions,\n",
    "    final_test_predictions,\n",
    ") = train_xgb_model(\n",
    "    train,\n",
    "    test,\n",
    "    get_lgbm_clf_model,\n",
    "    FEATURES,\n",
    "    TARGET,\n",
    "    Config.calc_probability,\n",
    "    \"PassengerId\",\n",
    "    lgbm_params,\n",
    "    Config.N_FOLDS,\n",
    "    Config.seed,\n",
    ")"
   ]
  },
  {
   "cell_type": "code",
   "execution_count": 48,
   "id": "3be272a8",
   "metadata": {
    "execution": {
     "iopub.execute_input": "2022-07-27T21:38:05.748015Z",
     "iopub.status.busy": "2022-07-27T21:38:05.747317Z",
     "iopub.status.idle": "2022-07-27T21:38:05.755326Z",
     "shell.execute_reply": "2022-07-27T21:38:05.753738Z"
    },
    "papermill": {
     "duration": 0.039056,
     "end_time": "2022-07-27T21:38:05.758295",
     "exception": false,
     "start_time": "2022-07-27T21:38:05.719239",
     "status": "completed"
    },
    "tags": []
   },
   "outputs": [
    {
     "name": "stdout",
     "output_type": "stream",
     "text": [
      "Scores -> Adjusted: 0.86673350 , mean: 0.88802421, std: 0.02129070\n"
     ]
    }
   ],
   "source": [
    "show_fold_scores(fold_scores)"
   ]
  },
  {
   "cell_type": "markdown",
   "id": "9063b0ca",
   "metadata": {
    "papermill": {
     "duration": 0.024849,
     "end_time": "2022-07-27T21:38:05.809223",
     "exception": false,
     "start_time": "2022-07-27T21:38:05.784374",
     "status": "completed"
    },
    "tags": []
   },
   "source": [
    "<div style=\"background-color:rgba(255, 215, 0, 0.6);border-radius:5px;display:fill\"><h1 style=\"text-align: center;padding: 12px 0px 12px 0px;\">Save OOF Predictions</h1>\n",
    "</div>\n",
    "\n",
    "This is unused for this example but needed later for [Blending](https://towardsdatascience.com/ensemble-learning-stacking-blending-voting-b37737c4f483).\n",
    "\n",
    "**General idea**: The values will be use to create new features in a blended model.\n",
    "\n",
    "- [Stacking and Blending — An Intuitive ExplanationStacking and Blending — An Intuitive Explanation](https://medium.com/@stevenyu530_73989/stacking-and-blending-intuitive-explanation-of-advanced-ensemble-methods-46b295da413chttps://medium.com/@stevenyu530_73989/stacking-and-blending-intuitive-explanation-of-advanced-ensemble-methods-46b295da413c)"
   ]
  },
  {
   "cell_type": "code",
   "execution_count": 49,
   "id": "16431370",
   "metadata": {
    "execution": {
     "iopub.execute_input": "2022-07-27T21:38:05.861515Z",
     "iopub.status.busy": "2022-07-27T21:38:05.861107Z",
     "iopub.status.idle": "2022-07-27T21:38:05.866175Z",
     "shell.execute_reply": "2022-07-27T21:38:05.864935Z"
    },
    "papermill": {
     "duration": 0.033924,
     "end_time": "2022-07-27T21:38:05.868327",
     "exception": false,
     "start_time": "2022-07-27T21:38:05.834403",
     "status": "completed"
    },
    "tags": []
   },
   "outputs": [],
   "source": [
    "# final_valid_predictions"
   ]
  },
  {
   "cell_type": "code",
   "execution_count": 50,
   "id": "09809537",
   "metadata": {
    "execution": {
     "iopub.execute_input": "2022-07-27T21:38:05.921175Z",
     "iopub.status.busy": "2022-07-27T21:38:05.920735Z",
     "iopub.status.idle": "2022-07-27T21:38:06.080731Z",
     "shell.execute_reply": "2022-07-27T21:38:06.079547Z"
    },
    "papermill": {
     "duration": 0.189753,
     "end_time": "2022-07-27T21:38:06.083294",
     "exception": false,
     "start_time": "2022-07-27T21:38:05.893541",
     "status": "completed"
    },
    "tags": []
   },
   "outputs": [],
   "source": [
    "final_valid_predictions_df = pd.DataFrame.from_dict(\n",
    "    final_valid_predictions, orient=\"index\"\n",
    ").reset_index()\n",
    "final_valid_predictions_df.columns = [\"id\", \"pred_lgbm1\"]\n",
    "final_valid_predictions_df.set_index(\"id\", inplace=True)\n",
    "final_valid_predictions_df.sort_index(inplace=True)\n",
    "final_valid_predictions_df.to_csv(\"train_pred_lgbm1.csv\", index=False)"
   ]
  },
  {
   "cell_type": "code",
   "execution_count": 51,
   "id": "7c6cf2aa",
   "metadata": {
    "execution": {
     "iopub.execute_input": "2022-07-27T21:38:06.136025Z",
     "iopub.status.busy": "2022-07-27T21:38:06.135583Z",
     "iopub.status.idle": "2022-07-27T21:38:06.147175Z",
     "shell.execute_reply": "2022-07-27T21:38:06.146045Z"
    },
    "papermill": {
     "duration": 0.039992,
     "end_time": "2022-07-27T21:38:06.149376",
     "exception": false,
     "start_time": "2022-07-27T21:38:06.109384",
     "status": "completed"
    },
    "tags": []
   },
   "outputs": [
    {
     "data": {
      "text/html": [
       "<div>\n",
       "<style scoped>\n",
       "    .dataframe tbody tr th:only-of-type {\n",
       "        vertical-align: middle;\n",
       "    }\n",
       "\n",
       "    .dataframe tbody tr th {\n",
       "        vertical-align: top;\n",
       "    }\n",
       "\n",
       "    .dataframe thead th {\n",
       "        text-align: right;\n",
       "    }\n",
       "</style>\n",
       "<table border=\"1\" class=\"dataframe\">\n",
       "  <thead>\n",
       "    <tr style=\"text-align: right;\">\n",
       "      <th></th>\n",
       "      <th>pred_lgbm1</th>\n",
       "    </tr>\n",
       "    <tr>\n",
       "      <th>id</th>\n",
       "      <th></th>\n",
       "    </tr>\n",
       "  </thead>\n",
       "  <tbody>\n",
       "    <tr>\n",
       "      <th>1</th>\n",
       "      <td>0.049931</td>\n",
       "    </tr>\n",
       "    <tr>\n",
       "      <th>2</th>\n",
       "      <td>0.873740</td>\n",
       "    </tr>\n",
       "    <tr>\n",
       "      <th>3</th>\n",
       "      <td>0.274642</td>\n",
       "    </tr>\n",
       "    <tr>\n",
       "      <th>4</th>\n",
       "      <td>0.995384</td>\n",
       "    </tr>\n",
       "    <tr>\n",
       "      <th>5</th>\n",
       "      <td>0.077964</td>\n",
       "    </tr>\n",
       "  </tbody>\n",
       "</table>\n",
       "</div>"
      ],
      "text/plain": [
       "    pred_lgbm1\n",
       "id            \n",
       "1     0.049931\n",
       "2     0.873740\n",
       "3     0.274642\n",
       "4     0.995384\n",
       "5     0.077964"
      ]
     },
     "execution_count": 51,
     "metadata": {},
     "output_type": "execute_result"
    }
   ],
   "source": [
    "final_valid_predictions_df.head()"
   ]
  },
  {
   "cell_type": "code",
   "execution_count": 52,
   "id": "dad7698e",
   "metadata": {
    "execution": {
     "iopub.execute_input": "2022-07-27T21:38:06.202584Z",
     "iopub.status.busy": "2022-07-27T21:38:06.202164Z",
     "iopub.status.idle": "2022-07-27T21:38:06.226556Z",
     "shell.execute_reply": "2022-07-27T21:38:06.224754Z"
    },
    "papermill": {
     "duration": 0.054024,
     "end_time": "2022-07-27T21:38:06.229325",
     "exception": false,
     "start_time": "2022-07-27T21:38:06.175301",
     "status": "completed"
    },
    "tags": []
   },
   "outputs": [
    {
     "data": {
      "text/html": [
       "<div>\n",
       "<style scoped>\n",
       "    .dataframe tbody tr th:only-of-type {\n",
       "        vertical-align: middle;\n",
       "    }\n",
       "\n",
       "    .dataframe tbody tr th {\n",
       "        vertical-align: top;\n",
       "    }\n",
       "\n",
       "    .dataframe thead th {\n",
       "        text-align: right;\n",
       "    }\n",
       "</style>\n",
       "<table border=\"1\" class=\"dataframe\">\n",
       "  <thead>\n",
       "    <tr style=\"text-align: right;\">\n",
       "      <th></th>\n",
       "      <th>PassengerId</th>\n",
       "      <th>Survived</th>\n",
       "      <th>Pclass</th>\n",
       "      <th>Sex</th>\n",
       "      <th>Age</th>\n",
       "      <th>SibSp</th>\n",
       "      <th>Parch</th>\n",
       "      <th>Fare</th>\n",
       "      <th>Embarked</th>\n",
       "      <th>fold</th>\n",
       "    </tr>\n",
       "  </thead>\n",
       "  <tbody>\n",
       "    <tr>\n",
       "      <th>0</th>\n",
       "      <td>1</td>\n",
       "      <td>0</td>\n",
       "      <td>3.0</td>\n",
       "      <td>1</td>\n",
       "      <td>22.0</td>\n",
       "      <td>1.0</td>\n",
       "      <td>0.0</td>\n",
       "      <td>7.2500</td>\n",
       "      <td>2</td>\n",
       "      <td>1</td>\n",
       "    </tr>\n",
       "    <tr>\n",
       "      <th>1</th>\n",
       "      <td>2</td>\n",
       "      <td>1</td>\n",
       "      <td>1.0</td>\n",
       "      <td>0</td>\n",
       "      <td>38.0</td>\n",
       "      <td>1.0</td>\n",
       "      <td>0.0</td>\n",
       "      <td>71.2833</td>\n",
       "      <td>0</td>\n",
       "      <td>4</td>\n",
       "    </tr>\n",
       "    <tr>\n",
       "      <th>2</th>\n",
       "      <td>3</td>\n",
       "      <td>1</td>\n",
       "      <td>3.0</td>\n",
       "      <td>0</td>\n",
       "      <td>26.0</td>\n",
       "      <td>0.0</td>\n",
       "      <td>0.0</td>\n",
       "      <td>7.9250</td>\n",
       "      <td>2</td>\n",
       "      <td>3</td>\n",
       "    </tr>\n",
       "    <tr>\n",
       "      <th>3</th>\n",
       "      <td>4</td>\n",
       "      <td>1</td>\n",
       "      <td>1.0</td>\n",
       "      <td>0</td>\n",
       "      <td>35.0</td>\n",
       "      <td>1.0</td>\n",
       "      <td>0.0</td>\n",
       "      <td>53.1000</td>\n",
       "      <td>2</td>\n",
       "      <td>3</td>\n",
       "    </tr>\n",
       "    <tr>\n",
       "      <th>4</th>\n",
       "      <td>5</td>\n",
       "      <td>0</td>\n",
       "      <td>3.0</td>\n",
       "      <td>1</td>\n",
       "      <td>35.0</td>\n",
       "      <td>0.0</td>\n",
       "      <td>0.0</td>\n",
       "      <td>8.0500</td>\n",
       "      <td>2</td>\n",
       "      <td>0</td>\n",
       "    </tr>\n",
       "    <tr>\n",
       "      <th>5</th>\n",
       "      <td>6</td>\n",
       "      <td>0</td>\n",
       "      <td>3.0</td>\n",
       "      <td>1</td>\n",
       "      <td>28.0</td>\n",
       "      <td>0.0</td>\n",
       "      <td>0.0</td>\n",
       "      <td>8.4583</td>\n",
       "      <td>1</td>\n",
       "      <td>4</td>\n",
       "    </tr>\n",
       "    <tr>\n",
       "      <th>6</th>\n",
       "      <td>7</td>\n",
       "      <td>0</td>\n",
       "      <td>1.0</td>\n",
       "      <td>1</td>\n",
       "      <td>54.0</td>\n",
       "      <td>0.0</td>\n",
       "      <td>0.0</td>\n",
       "      <td>51.8625</td>\n",
       "      <td>2</td>\n",
       "      <td>0</td>\n",
       "    </tr>\n",
       "    <tr>\n",
       "      <th>7</th>\n",
       "      <td>8</td>\n",
       "      <td>0</td>\n",
       "      <td>3.0</td>\n",
       "      <td>1</td>\n",
       "      <td>2.0</td>\n",
       "      <td>3.0</td>\n",
       "      <td>1.0</td>\n",
       "      <td>21.0750</td>\n",
       "      <td>2</td>\n",
       "      <td>4</td>\n",
       "    </tr>\n",
       "    <tr>\n",
       "      <th>8</th>\n",
       "      <td>9</td>\n",
       "      <td>1</td>\n",
       "      <td>3.0</td>\n",
       "      <td>0</td>\n",
       "      <td>27.0</td>\n",
       "      <td>0.0</td>\n",
       "      <td>2.0</td>\n",
       "      <td>11.1333</td>\n",
       "      <td>2</td>\n",
       "      <td>4</td>\n",
       "    </tr>\n",
       "    <tr>\n",
       "      <th>9</th>\n",
       "      <td>10</td>\n",
       "      <td>1</td>\n",
       "      <td>2.0</td>\n",
       "      <td>0</td>\n",
       "      <td>14.0</td>\n",
       "      <td>1.0</td>\n",
       "      <td>0.0</td>\n",
       "      <td>30.0708</td>\n",
       "      <td>0</td>\n",
       "      <td>3</td>\n",
       "    </tr>\n",
       "  </tbody>\n",
       "</table>\n",
       "</div>"
      ],
      "text/plain": [
       "   PassengerId  Survived  Pclass  Sex   Age  SibSp  Parch     Fare  Embarked  \\\n",
       "0            1         0     3.0    1  22.0    1.0    0.0   7.2500         2   \n",
       "1            2         1     1.0    0  38.0    1.0    0.0  71.2833         0   \n",
       "2            3         1     3.0    0  26.0    0.0    0.0   7.9250         2   \n",
       "3            4         1     1.0    0  35.0    1.0    0.0  53.1000         2   \n",
       "4            5         0     3.0    1  35.0    0.0    0.0   8.0500         2   \n",
       "5            6         0     3.0    1  28.0    0.0    0.0   8.4583         1   \n",
       "6            7         0     1.0    1  54.0    0.0    0.0  51.8625         2   \n",
       "7            8         0     3.0    1   2.0    3.0    1.0  21.0750         2   \n",
       "8            9         1     3.0    0  27.0    0.0    2.0  11.1333         2   \n",
       "9           10         1     2.0    0  14.0    1.0    0.0  30.0708         0   \n",
       "\n",
       "   fold  \n",
       "0     1  \n",
       "1     4  \n",
       "2     3  \n",
       "3     3  \n",
       "4     0  \n",
       "5     4  \n",
       "6     0  \n",
       "7     4  \n",
       "8     4  \n",
       "9     3  "
      ]
     },
     "execution_count": 52,
     "metadata": {},
     "output_type": "execute_result"
    }
   ],
   "source": [
    "train.head(10)"
   ]
  },
  {
   "cell_type": "code",
   "execution_count": 53,
   "id": "89740a8f",
   "metadata": {
    "execution": {
     "iopub.execute_input": "2022-07-27T21:38:06.292495Z",
     "iopub.status.busy": "2022-07-27T21:38:06.291369Z",
     "iopub.status.idle": "2022-07-27T21:38:06.312312Z",
     "shell.execute_reply": "2022-07-27T21:38:06.310997Z"
    },
    "papermill": {
     "duration": 0.057055,
     "end_time": "2022-07-27T21:38:06.315106",
     "exception": false,
     "start_time": "2022-07-27T21:38:06.258051",
     "status": "completed"
    },
    "tags": []
   },
   "outputs": [
    {
     "data": {
      "text/html": [
       "<div>\n",
       "<style scoped>\n",
       "    .dataframe tbody tr th:only-of-type {\n",
       "        vertical-align: middle;\n",
       "    }\n",
       "\n",
       "    .dataframe tbody tr th {\n",
       "        vertical-align: top;\n",
       "    }\n",
       "\n",
       "    .dataframe thead th {\n",
       "        text-align: right;\n",
       "    }\n",
       "</style>\n",
       "<table border=\"1\" class=\"dataframe\">\n",
       "  <thead>\n",
       "    <tr style=\"text-align: right;\">\n",
       "      <th></th>\n",
       "      <th>Survived</th>\n",
       "      <th>fold</th>\n",
       "      <th>pred_xgb1</th>\n",
       "      <th>pred_lgbm1</th>\n",
       "    </tr>\n",
       "    <tr>\n",
       "      <th>PassengerId</th>\n",
       "      <th></th>\n",
       "      <th></th>\n",
       "      <th></th>\n",
       "      <th></th>\n",
       "    </tr>\n",
       "  </thead>\n",
       "  <tbody>\n",
       "    <tr>\n",
       "      <th>1</th>\n",
       "      <td>0</td>\n",
       "      <td>1</td>\n",
       "      <td>0.063560</td>\n",
       "      <td>0.049931</td>\n",
       "    </tr>\n",
       "    <tr>\n",
       "      <th>2</th>\n",
       "      <td>1</td>\n",
       "      <td>4</td>\n",
       "      <td>0.967066</td>\n",
       "      <td>0.873740</td>\n",
       "    </tr>\n",
       "    <tr>\n",
       "      <th>3</th>\n",
       "      <td>1</td>\n",
       "      <td>3</td>\n",
       "      <td>0.641143</td>\n",
       "      <td>0.274642</td>\n",
       "    </tr>\n",
       "    <tr>\n",
       "      <th>4</th>\n",
       "      <td>1</td>\n",
       "      <td>3</td>\n",
       "      <td>0.987377</td>\n",
       "      <td>0.995384</td>\n",
       "    </tr>\n",
       "    <tr>\n",
       "      <th>5</th>\n",
       "      <td>0</td>\n",
       "      <td>0</td>\n",
       "      <td>0.163485</td>\n",
       "      <td>0.077964</td>\n",
       "    </tr>\n",
       "  </tbody>\n",
       "</table>\n",
       "</div>"
      ],
      "text/plain": [
       "             Survived  fold  pred_xgb1  pred_lgbm1\n",
       "PassengerId                                       \n",
       "1                   0     1   0.063560    0.049931\n",
       "2                   1     4   0.967066    0.873740\n",
       "3                   1     3   0.641143    0.274642\n",
       "4                   1     3   0.987377    0.995384\n",
       "5                   0     0   0.163485    0.077964"
      ]
     },
     "execution_count": 53,
     "metadata": {},
     "output_type": "execute_result"
    }
   ],
   "source": [
    "oof[\"pred_lgbm1\"] = final_valid_predictions_df[\"pred_lgbm1\"]\n",
    "oof.head()"
   ]
  },
  {
   "cell_type": "code",
   "execution_count": 54,
   "id": "20c39a6b",
   "metadata": {
    "execution": {
     "iopub.execute_input": "2022-07-27T21:38:06.369379Z",
     "iopub.status.busy": "2022-07-27T21:38:06.368583Z",
     "iopub.status.idle": "2022-07-27T21:38:06.388442Z",
     "shell.execute_reply": "2022-07-27T21:38:06.386846Z"
    },
    "papermill": {
     "duration": 0.049972,
     "end_time": "2022-07-27T21:38:06.391225",
     "exception": false,
     "start_time": "2022-07-27T21:38:06.341253",
     "status": "completed"
    },
    "tags": []
   },
   "outputs": [
    {
     "name": "stdout",
     "output_type": "stream",
     "text": [
      "Mean\n"
     ]
    },
    {
     "data": {
      "text/plain": [
       "array([0.07866885, 0.26068843, 0.08841815, 0.28875258, 0.29955905,\n",
       "       0.37177733, 0.50750124, 0.18450079, 0.73589166, 0.04400028,\n",
       "       0.0334911 , 0.12490202, 0.94775474, 0.04540242, 0.9431925 ,\n",
       "       0.88002872, 0.11788597, 0.30616484, 0.51443279, 0.50999095])"
      ]
     },
     "execution_count": 54,
     "metadata": {},
     "output_type": "execute_result"
    }
   ],
   "source": [
    "from scipy.stats import mode\n",
    "\n",
    "if Config.calc_probability:\n",
    "    print(\"Mean\")\n",
    "    result = np.mean(np.column_stack(final_test_predictions), axis=1)\n",
    "#     result = np.rint(m).astype(int)\n",
    "#     display(result)\n",
    "else:\n",
    "    print(\"Mode\")\n",
    "    mode_result = mode(np.column_stack(final_test_predictions), axis=1)\n",
    "    result = mode_result[0].ravel()\n",
    "\n",
    "result[:20]"
   ]
  },
  {
   "cell_type": "code",
   "execution_count": 55,
   "id": "7b73bd36",
   "metadata": {
    "execution": {
     "iopub.execute_input": "2022-07-27T21:38:06.445023Z",
     "iopub.status.busy": "2022-07-27T21:38:06.444643Z",
     "iopub.status.idle": "2022-07-27T21:38:06.460030Z",
     "shell.execute_reply": "2022-07-27T21:38:06.458814Z"
    },
    "papermill": {
     "duration": 0.045157,
     "end_time": "2022-07-27T21:38:06.462391",
     "exception": false,
     "start_time": "2022-07-27T21:38:06.417234",
     "status": "completed"
    },
    "tags": []
   },
   "outputs": [
    {
     "data": {
      "text/html": [
       "<div>\n",
       "<style scoped>\n",
       "    .dataframe tbody tr th:only-of-type {\n",
       "        vertical-align: middle;\n",
       "    }\n",
       "\n",
       "    .dataframe tbody tr th {\n",
       "        vertical-align: top;\n",
       "    }\n",
       "\n",
       "    .dataframe thead th {\n",
       "        text-align: right;\n",
       "    }\n",
       "</style>\n",
       "<table border=\"1\" class=\"dataframe\">\n",
       "  <thead>\n",
       "    <tr style=\"text-align: right;\">\n",
       "      <th></th>\n",
       "      <th>PassengerId</th>\n",
       "      <th>target_xgb1</th>\n",
       "      <th>target_lgbm1</th>\n",
       "    </tr>\n",
       "  </thead>\n",
       "  <tbody>\n",
       "    <tr>\n",
       "      <th>0</th>\n",
       "      <td>892</td>\n",
       "      <td>0.127075</td>\n",
       "      <td>0.078669</td>\n",
       "    </tr>\n",
       "    <tr>\n",
       "      <th>1</th>\n",
       "      <td>893</td>\n",
       "      <td>0.245313</td>\n",
       "      <td>0.260688</td>\n",
       "    </tr>\n",
       "    <tr>\n",
       "      <th>2</th>\n",
       "      <td>894</td>\n",
       "      <td>0.060122</td>\n",
       "      <td>0.088418</td>\n",
       "    </tr>\n",
       "    <tr>\n",
       "      <th>3</th>\n",
       "      <td>895</td>\n",
       "      <td>0.157033</td>\n",
       "      <td>0.288753</td>\n",
       "    </tr>\n",
       "    <tr>\n",
       "      <th>4</th>\n",
       "      <td>896</td>\n",
       "      <td>0.369032</td>\n",
       "      <td>0.299559</td>\n",
       "    </tr>\n",
       "    <tr>\n",
       "      <th>5</th>\n",
       "      <td>897</td>\n",
       "      <td>0.252041</td>\n",
       "      <td>0.371777</td>\n",
       "    </tr>\n",
       "    <tr>\n",
       "      <th>6</th>\n",
       "      <td>898</td>\n",
       "      <td>0.646467</td>\n",
       "      <td>0.507501</td>\n",
       "    </tr>\n",
       "    <tr>\n",
       "      <th>7</th>\n",
       "      <td>899</td>\n",
       "      <td>0.149993</td>\n",
       "      <td>0.184501</td>\n",
       "    </tr>\n",
       "    <tr>\n",
       "      <th>8</th>\n",
       "      <td>900</td>\n",
       "      <td>0.707051</td>\n",
       "      <td>0.735892</td>\n",
       "    </tr>\n",
       "    <tr>\n",
       "      <th>9</th>\n",
       "      <td>901</td>\n",
       "      <td>0.035269</td>\n",
       "      <td>0.044000</td>\n",
       "    </tr>\n",
       "  </tbody>\n",
       "</table>\n",
       "</div>"
      ],
      "text/plain": [
       "   PassengerId  target_xgb1  target_lgbm1\n",
       "0          892     0.127075      0.078669\n",
       "1          893     0.245313      0.260688\n",
       "2          894     0.060122      0.088418\n",
       "3          895     0.157033      0.288753\n",
       "4          896     0.369032      0.299559\n",
       "5          897     0.252041      0.371777\n",
       "6          898     0.646467      0.507501\n",
       "7          899     0.149993      0.184501\n",
       "8          900     0.707051      0.735892\n",
       "9          901     0.035269      0.044000"
      ]
     },
     "execution_count": 55,
     "metadata": {},
     "output_type": "execute_result"
    }
   ],
   "source": [
    "submission_df[\"target_lgbm1\"] = result\n",
    "submission_df.head(10)"
   ]
  },
  {
   "cell_type": "markdown",
   "id": "9b99f7ab",
   "metadata": {
    "papermill": {
     "duration": 0.02582,
     "end_time": "2022-07-27T21:38:06.514423",
     "exception": false,
     "start_time": "2022-07-27T21:38:06.488603",
     "status": "completed"
    },
    "tags": []
   },
   "source": [
    "<div style=\"background-color:rgba(255, 215, 0, 0.6);border-radius:5px;display:fill\"><h1 style=\"text-align: center;padding: 12px 0px 12px 0px;\">Weighted Blend Based on OOF</h1>\n",
    "</div>"
   ]
  },
  {
   "cell_type": "code",
   "execution_count": 56,
   "id": "d11e651c",
   "metadata": {
    "execution": {
     "iopub.execute_input": "2022-07-27T21:38:06.569140Z",
     "iopub.status.busy": "2022-07-27T21:38:06.568394Z",
     "iopub.status.idle": "2022-07-27T21:38:06.580592Z",
     "shell.execute_reply": "2022-07-27T21:38:06.579761Z"
    },
    "papermill": {
     "duration": 0.042004,
     "end_time": "2022-07-27T21:38:06.582792",
     "exception": false,
     "start_time": "2022-07-27T21:38:06.540788",
     "status": "completed"
    },
    "tags": []
   },
   "outputs": [
    {
     "data": {
      "text/html": [
       "<div>\n",
       "<style scoped>\n",
       "    .dataframe tbody tr th:only-of-type {\n",
       "        vertical-align: middle;\n",
       "    }\n",
       "\n",
       "    .dataframe tbody tr th {\n",
       "        vertical-align: top;\n",
       "    }\n",
       "\n",
       "    .dataframe thead th {\n",
       "        text-align: right;\n",
       "    }\n",
       "</style>\n",
       "<table border=\"1\" class=\"dataframe\">\n",
       "  <thead>\n",
       "    <tr style=\"text-align: right;\">\n",
       "      <th></th>\n",
       "      <th>Survived</th>\n",
       "      <th>fold</th>\n",
       "      <th>pred_xgb1</th>\n",
       "      <th>pred_lgbm1</th>\n",
       "    </tr>\n",
       "    <tr>\n",
       "      <th>PassengerId</th>\n",
       "      <th></th>\n",
       "      <th></th>\n",
       "      <th></th>\n",
       "      <th></th>\n",
       "    </tr>\n",
       "  </thead>\n",
       "  <tbody>\n",
       "    <tr>\n",
       "      <th>1</th>\n",
       "      <td>0</td>\n",
       "      <td>1</td>\n",
       "      <td>0.063560</td>\n",
       "      <td>0.049931</td>\n",
       "    </tr>\n",
       "    <tr>\n",
       "      <th>2</th>\n",
       "      <td>1</td>\n",
       "      <td>4</td>\n",
       "      <td>0.967066</td>\n",
       "      <td>0.873740</td>\n",
       "    </tr>\n",
       "    <tr>\n",
       "      <th>3</th>\n",
       "      <td>1</td>\n",
       "      <td>3</td>\n",
       "      <td>0.641143</td>\n",
       "      <td>0.274642</td>\n",
       "    </tr>\n",
       "    <tr>\n",
       "      <th>4</th>\n",
       "      <td>1</td>\n",
       "      <td>3</td>\n",
       "      <td>0.987377</td>\n",
       "      <td>0.995384</td>\n",
       "    </tr>\n",
       "    <tr>\n",
       "      <th>5</th>\n",
       "      <td>0</td>\n",
       "      <td>0</td>\n",
       "      <td>0.163485</td>\n",
       "      <td>0.077964</td>\n",
       "    </tr>\n",
       "  </tbody>\n",
       "</table>\n",
       "</div>"
      ],
      "text/plain": [
       "             Survived  fold  pred_xgb1  pred_lgbm1\n",
       "PassengerId                                       \n",
       "1                   0     1   0.063560    0.049931\n",
       "2                   1     4   0.967066    0.873740\n",
       "3                   1     3   0.641143    0.274642\n",
       "4                   1     3   0.987377    0.995384\n",
       "5                   0     0   0.163485    0.077964"
      ]
     },
     "execution_count": 56,
     "metadata": {},
     "output_type": "execute_result"
    }
   ],
   "source": [
    "oof.head()"
   ]
  },
  {
   "cell_type": "code",
   "execution_count": 57,
   "id": "886535ec",
   "metadata": {
    "execution": {
     "iopub.execute_input": "2022-07-27T21:38:06.637364Z",
     "iopub.status.busy": "2022-07-27T21:38:06.636901Z",
     "iopub.status.idle": "2022-07-27T21:38:06.646586Z",
     "shell.execute_reply": "2022-07-27T21:38:06.645609Z"
    },
    "papermill": {
     "duration": 0.039451,
     "end_time": "2022-07-27T21:38:06.648721",
     "exception": false,
     "start_time": "2022-07-27T21:38:06.609270",
     "status": "completed"
    },
    "tags": []
   },
   "outputs": [
    {
     "data": {
      "text/plain": [
       "[]"
      ]
     },
     "execution_count": 57,
     "metadata": {},
     "output_type": "execute_result"
    }
   ],
   "source": [
    "pred_cols = [c for c in submission_df.columns if c.startswith(\"pred_\")]\n",
    "pred_cols"
   ]
  },
  {
   "cell_type": "code",
   "execution_count": 58,
   "id": "d113d814",
   "metadata": {
    "execution": {
     "iopub.execute_input": "2022-07-27T21:38:06.705089Z",
     "iopub.status.busy": "2022-07-27T21:38:06.704628Z",
     "iopub.status.idle": "2022-07-27T21:38:07.122008Z",
     "shell.execute_reply": "2022-07-27T21:38:07.120748Z"
    },
    "papermill": {
     "duration": 0.448619,
     "end_time": "2022-07-27T21:38:07.124714",
     "exception": false,
     "start_time": "2022-07-27T21:38:06.676095",
     "status": "completed"
    },
    "tags": []
   },
   "outputs": [
    {
     "data": {
      "image/png": "[encoded data removed]",
      "text/plain": [
       "<Figure size 864x360 with 2 Axes>"
      ]
     },
     "metadata": {},
     "output_type": "display_data"
    }
   ],
   "source": [
    "fig, axs = plt.subplots(1, 2, figsize=(12, 5))\n",
    "oof.plot(\n",
    "    x=\"pred_lgbm1\",\n",
    "    y=\"pred_xgb1\",\n",
    "    kind=\"scatter\",\n",
    "    title=\"Compare OOF predictions for two models\",\n",
    "    ax=axs[0],\n",
    ")\n",
    "\n",
    "submission_df.plot(\n",
    "    x=\"target_lgbm1\",\n",
    "    y=\"target_xgb1\",\n",
    "    kind=\"scatter\",\n",
    "    title=\"Compare Test predictions for two models\",\n",
    "    ax=axs[1],\n",
    ")\n",
    "plt.show()"
   ]
  },
  {
   "cell_type": "code",
   "execution_count": 59,
   "id": "ccdce99a",
   "metadata": {
    "execution": {
     "iopub.execute_input": "2022-07-27T21:38:07.183485Z",
     "iopub.status.busy": "2022-07-27T21:38:07.182502Z",
     "iopub.status.idle": "2022-07-27T21:38:07.193384Z",
     "shell.execute_reply": "2022-07-27T21:38:07.192378Z"
    },
    "jupyter": {
     "source_hidden": true
    },
    "papermill": {
     "duration": 0.042965,
     "end_time": "2022-07-27T21:38:07.196011",
     "exception": false,
     "start_time": "2022-07-27T21:38:07.153046",
     "status": "completed"
    },
    "tags": []
   },
   "outputs": [],
   "source": [
    "from sklearn.metrics import mean_absolute_error\n",
    "\n",
    "\n",
    "def get_oof_mae_score(weight, oof, pred_model1, pred_model2):\n",
    "    blend_pred = (oof[pred_model1] * weight) + (oof[pred_model2] * (1 - weight))\n",
    "    return mean_absolute_error(oof[TARGET], blend_pred)"
   ]
  },
  {
   "cell_type": "code",
   "execution_count": 60,
   "id": "9a6c1e7b",
   "metadata": {
    "execution": {
     "iopub.execute_input": "2022-07-27T21:38:07.254915Z",
     "iopub.status.busy": "2022-07-27T21:38:07.254492Z",
     "iopub.status.idle": "2022-07-27T21:38:07.267132Z",
     "shell.execute_reply": "2022-07-27T21:38:07.266295Z"
    },
    "papermill": {
     "duration": 0.043982,
     "end_time": "2022-07-27T21:38:07.269255",
     "exception": false,
     "start_time": "2022-07-27T21:38:07.225273",
     "status": "completed"
    },
    "tags": []
   },
   "outputs": [
    {
     "data": {
      "text/html": [
       "<div>\n",
       "<style scoped>\n",
       "    .dataframe tbody tr th:only-of-type {\n",
       "        vertical-align: middle;\n",
       "    }\n",
       "\n",
       "    .dataframe tbody tr th {\n",
       "        vertical-align: top;\n",
       "    }\n",
       "\n",
       "    .dataframe thead th {\n",
       "        text-align: right;\n",
       "    }\n",
       "</style>\n",
       "<table border=\"1\" class=\"dataframe\">\n",
       "  <thead>\n",
       "    <tr style=\"text-align: right;\">\n",
       "      <th></th>\n",
       "      <th>Survived</th>\n",
       "      <th>fold</th>\n",
       "      <th>pred_xgb1</th>\n",
       "      <th>pred_lgbm1</th>\n",
       "    </tr>\n",
       "    <tr>\n",
       "      <th>PassengerId</th>\n",
       "      <th></th>\n",
       "      <th></th>\n",
       "      <th></th>\n",
       "      <th></th>\n",
       "    </tr>\n",
       "  </thead>\n",
       "  <tbody>\n",
       "    <tr>\n",
       "      <th>1</th>\n",
       "      <td>0</td>\n",
       "      <td>1</td>\n",
       "      <td>0.063560</td>\n",
       "      <td>0.049931</td>\n",
       "    </tr>\n",
       "    <tr>\n",
       "      <th>2</th>\n",
       "      <td>1</td>\n",
       "      <td>4</td>\n",
       "      <td>0.967066</td>\n",
       "      <td>0.873740</td>\n",
       "    </tr>\n",
       "    <tr>\n",
       "      <th>3</th>\n",
       "      <td>1</td>\n",
       "      <td>3</td>\n",
       "      <td>0.641143</td>\n",
       "      <td>0.274642</td>\n",
       "    </tr>\n",
       "    <tr>\n",
       "      <th>4</th>\n",
       "      <td>1</td>\n",
       "      <td>3</td>\n",
       "      <td>0.987377</td>\n",
       "      <td>0.995384</td>\n",
       "    </tr>\n",
       "    <tr>\n",
       "      <th>5</th>\n",
       "      <td>0</td>\n",
       "      <td>0</td>\n",
       "      <td>0.163485</td>\n",
       "      <td>0.077964</td>\n",
       "    </tr>\n",
       "  </tbody>\n",
       "</table>\n",
       "</div>"
      ],
      "text/plain": [
       "             Survived  fold  pred_xgb1  pred_lgbm1\n",
       "PassengerId                                       \n",
       "1                   0     1   0.063560    0.049931\n",
       "2                   1     4   0.967066    0.873740\n",
       "3                   1     3   0.641143    0.274642\n",
       "4                   1     3   0.987377    0.995384\n",
       "5                   0     0   0.163485    0.077964"
      ]
     },
     "execution_count": 60,
     "metadata": {},
     "output_type": "execute_result"
    }
   ],
   "source": [
    "oof.head()"
   ]
  },
  {
   "cell_type": "code",
   "execution_count": 61,
   "id": "010ee961",
   "metadata": {
    "execution": {
     "iopub.execute_input": "2022-07-27T21:38:07.327864Z",
     "iopub.status.busy": "2022-07-27T21:38:07.327144Z",
     "iopub.status.idle": "2022-07-27T21:38:07.339594Z",
     "shell.execute_reply": "2022-07-27T21:38:07.338485Z"
    },
    "papermill": {
     "duration": 0.044479,
     "end_time": "2022-07-27T21:38:07.342053",
     "exception": false,
     "start_time": "2022-07-27T21:38:07.297574",
     "status": "completed"
    },
    "tags": []
   },
   "outputs": [],
   "source": [
    "def get_oof_score(weight, oof, pred_model1, pred_model2):\n",
    "    blend_pred = (oof[pred_model1] * weight) + (oof[pred_model2] * (1 - weight))\n",
    "    blend_int = np.rint(blend_pred).astype(int)\n",
    "    score = accuracy_score(oof[TARGET], blend_int)\n",
    "    #     print(f\"weight: {weight} Score: {score}\")\n",
    "    return score"
   ]
  },
  {
   "cell_type": "code",
   "execution_count": 62,
   "id": "30a3503e",
   "metadata": {
    "execution": {
     "iopub.execute_input": "2022-07-27T21:38:07.398944Z",
     "iopub.status.busy": "2022-07-27T21:38:07.398503Z",
     "iopub.status.idle": "2022-07-27T21:38:07.516392Z",
     "shell.execute_reply": "2022-07-27T21:38:07.514805Z"
    },
    "papermill": {
     "duration": 0.149212,
     "end_time": "2022-07-27T21:38:07.518940",
     "exception": false,
     "start_time": "2022-07-27T21:38:07.369728",
     "status": "completed"
    },
    "tags": []
   },
   "outputs": [
    {
     "name": "stdout",
     "output_type": "stream",
     "text": [
      "Best Weight: 0.0,Score 0.8406285072951739\n",
      "Best Weight: 0.03,Score 0.8417508417508418\n",
      "Best Weight: 0.04,Score 0.8428731762065096\n",
      "Best Weight: 0.11,Score 0.8439955106621774\n",
      "Best Weight: 0.12,Score 0.8451178451178452\n",
      "Best Weight: 0.14,Score 0.8462401795735129\n",
      "Best Weight: 0.18,Score 0.8473625140291807\n",
      "Best Weight: 0.19,Score 0.8484848484848485\n",
      "Best Weight: 0.25,Score 0.8496071829405163\n",
      "Best Weight: 0.29,Score 0.8507295173961841\n"
     ]
    }
   ],
   "source": [
    "myscores = {}\n",
    "best = 0\n",
    "best_weight = 0\n",
    "\n",
    "for weight in range(100):\n",
    "    weight /= 100\n",
    "    score = get_oof_score(weight, oof, \"pred_xgb1\", \"pred_lgbm1\")\n",
    "    if score > best:\n",
    "        best = score\n",
    "        best_weight = weight\n",
    "        print(f\"Best Weight: {best_weight},Score {best}\")\n",
    "    myscores[weight] = score"
   ]
  },
  {
   "cell_type": "code",
   "execution_count": 63,
   "id": "2a854bea",
   "metadata": {
    "execution": {
     "iopub.execute_input": "2022-07-27T21:38:07.576621Z",
     "iopub.status.busy": "2022-07-27T21:38:07.575732Z",
     "iopub.status.idle": "2022-07-27T21:38:07.581463Z",
     "shell.execute_reply": "2022-07-27T21:38:07.580247Z"
    },
    "papermill": {
     "duration": 0.036621,
     "end_time": "2022-07-27T21:38:07.583638",
     "exception": false,
     "start_time": "2022-07-27T21:38:07.547017",
     "status": "completed"
    },
    "tags": []
   },
   "outputs": [],
   "source": [
    "# myscores"
   ]
  },
  {
   "cell_type": "code",
   "execution_count": 64,
   "id": "b8dbe55a",
   "metadata": {
    "execution": {
     "iopub.execute_input": "2022-07-27T21:38:07.641606Z",
     "iopub.status.busy": "2022-07-27T21:38:07.641105Z",
     "iopub.status.idle": "2022-07-27T21:38:07.651969Z",
     "shell.execute_reply": "2022-07-27T21:38:07.651135Z"
    },
    "papermill": {
     "duration": 0.042168,
     "end_time": "2022-07-27T21:38:07.654009",
     "exception": false,
     "start_time": "2022-07-27T21:38:07.611841",
     "status": "completed"
    },
    "tags": []
   },
   "outputs": [],
   "source": [
    "blend_results = pd.DataFrame(myscores, index=[\"score\"]).T"
   ]
  },
  {
   "cell_type": "code",
   "execution_count": 65,
   "id": "fee08ef7",
   "metadata": {
    "execution": {
     "iopub.execute_input": "2022-07-27T21:38:07.713889Z",
     "iopub.status.busy": "2022-07-27T21:38:07.712719Z",
     "iopub.status.idle": "2022-07-27T21:38:07.932967Z",
     "shell.execute_reply": "2022-07-27T21:38:07.931687Z"
    },
    "papermill": {
     "duration": 0.254333,
     "end_time": "2022-07-27T21:38:07.935795",
     "exception": false,
     "start_time": "2022-07-27T21:38:07.681462",
     "status": "completed"
    },
    "tags": []
   },
   "outputs": [
    {
     "data": {
      "image/png": "[encoded data removed]",
      "text/plain": [
       "<Figure size 432x288 with 1 Axes>"
      ]
     },
     "metadata": {},
     "output_type": "display_data"
    }
   ],
   "source": [
    "ax = blend_results.plot(title=\"Weight vs. OOF Score\")\n",
    "ax.set_ylabel(\"Weight %\")\n",
    "ax.set_xlabel(\"OOF Score\")\n",
    "plt.show()"
   ]
  },
  {
   "cell_type": "markdown",
   "id": "3af5b49e",
   "metadata": {
    "papermill": {
     "duration": 0.028069,
     "end_time": "2022-07-27T21:38:07.993201",
     "exception": false,
     "start_time": "2022-07-27T21:38:07.965132",
     "status": "completed"
    },
    "tags": []
   },
   "source": [
    "### The Blended Weight is ..."
   ]
  },
  {
   "cell_type": "code",
   "execution_count": 66,
   "id": "e572fce7",
   "metadata": {
    "execution": {
     "iopub.execute_input": "2022-07-27T21:38:08.052010Z",
     "iopub.status.busy": "2022-07-27T21:38:08.050971Z",
     "iopub.status.idle": "2022-07-27T21:38:08.066137Z",
     "shell.execute_reply": "2022-07-27T21:38:08.065004Z"
    },
    "papermill": {
     "duration": 0.047258,
     "end_time": "2022-07-27T21:38:08.068606",
     "exception": false,
     "start_time": "2022-07-27T21:38:08.021348",
     "status": "completed"
    },
    "tags": []
   },
   "outputs": [
    {
     "data": {
      "text/html": [
       "<div>\n",
       "<style scoped>\n",
       "    .dataframe tbody tr th:only-of-type {\n",
       "        vertical-align: middle;\n",
       "    }\n",
       "\n",
       "    .dataframe tbody tr th {\n",
       "        vertical-align: top;\n",
       "    }\n",
       "\n",
       "    .dataframe thead th {\n",
       "        text-align: right;\n",
       "    }\n",
       "</style>\n",
       "<table border=\"1\" class=\"dataframe\">\n",
       "  <thead>\n",
       "    <tr style=\"text-align: right;\">\n",
       "      <th></th>\n",
       "      <th>score</th>\n",
       "    </tr>\n",
       "  </thead>\n",
       "  <tbody>\n",
       "    <tr>\n",
       "      <th>0.29</th>\n",
       "      <td>0.85073</td>\n",
       "    </tr>\n",
       "    <tr>\n",
       "      <th>0.30</th>\n",
       "      <td>0.85073</td>\n",
       "    </tr>\n",
       "    <tr>\n",
       "      <th>0.32</th>\n",
       "      <td>0.85073</td>\n",
       "    </tr>\n",
       "    <tr>\n",
       "      <th>0.33</th>\n",
       "      <td>0.85073</td>\n",
       "    </tr>\n",
       "    <tr>\n",
       "      <th>0.34</th>\n",
       "      <td>0.85073</td>\n",
       "    </tr>\n",
       "    <tr>\n",
       "      <th>0.35</th>\n",
       "      <td>0.85073</td>\n",
       "    </tr>\n",
       "  </tbody>\n",
       "</table>\n",
       "</div>"
      ],
      "text/plain": [
       "        score\n",
       "0.29  0.85073\n",
       "0.30  0.85073\n",
       "0.32  0.85073\n",
       "0.33  0.85073\n",
       "0.34  0.85073\n",
       "0.35  0.85073"
      ]
     },
     "execution_count": 66,
     "metadata": {},
     "output_type": "execute_result"
    }
   ],
   "source": [
    "blend_results.loc[blend_results[\"score\"] == blend_results[\"score\"].max()]"
   ]
  },
  {
   "cell_type": "code",
   "execution_count": 67,
   "id": "94d8fa63",
   "metadata": {
    "execution": {
     "iopub.execute_input": "2022-07-27T21:38:08.127916Z",
     "iopub.status.busy": "2022-07-27T21:38:08.127532Z",
     "iopub.status.idle": "2022-07-27T21:38:08.136602Z",
     "shell.execute_reply": "2022-07-27T21:38:08.135527Z"
    },
    "papermill": {
     "duration": 0.041214,
     "end_time": "2022-07-27T21:38:08.139105",
     "exception": false,
     "start_time": "2022-07-27T21:38:08.097891",
     "status": "completed"
    },
    "tags": []
   },
   "outputs": [
    {
     "name": "stdout",
     "output_type": "stream",
     "text": [
      "Blended Score: 0.85072952\n"
     ]
    }
   ],
   "source": [
    "blend_score = blend_results[\"score\"].max()\n",
    "# best_cv_score = 0.004722\n",
    "print(f\"Blended Score: {blend_score:.8f}\")"
   ]
  },
  {
   "cell_type": "code",
   "execution_count": 68,
   "id": "71de9989",
   "metadata": {
    "execution": {
     "iopub.execute_input": "2022-07-27T21:38:08.197014Z",
     "iopub.status.busy": "2022-07-27T21:38:08.196595Z",
     "iopub.status.idle": "2022-07-27T21:38:08.211708Z",
     "shell.execute_reply": "2022-07-27T21:38:08.210832Z"
    },
    "papermill": {
     "duration": 0.046708,
     "end_time": "2022-07-27T21:38:08.213838",
     "exception": false,
     "start_time": "2022-07-27T21:38:08.167130",
     "status": "completed"
    },
    "tags": []
   },
   "outputs": [
    {
     "data": {
      "text/html": [
       "<div>\n",
       "<style scoped>\n",
       "    .dataframe tbody tr th:only-of-type {\n",
       "        vertical-align: middle;\n",
       "    }\n",
       "\n",
       "    .dataframe tbody tr th {\n",
       "        vertical-align: top;\n",
       "    }\n",
       "\n",
       "    .dataframe thead th {\n",
       "        text-align: right;\n",
       "    }\n",
       "</style>\n",
       "<table border=\"1\" class=\"dataframe\">\n",
       "  <thead>\n",
       "    <tr style=\"text-align: right;\">\n",
       "      <th></th>\n",
       "      <th>score</th>\n",
       "    </tr>\n",
       "  </thead>\n",
       "  <tbody>\n",
       "    <tr>\n",
       "      <th>0.29</th>\n",
       "      <td>0.85073</td>\n",
       "    </tr>\n",
       "    <tr>\n",
       "      <th>0.30</th>\n",
       "      <td>0.85073</td>\n",
       "    </tr>\n",
       "    <tr>\n",
       "      <th>0.32</th>\n",
       "      <td>0.85073</td>\n",
       "    </tr>\n",
       "    <tr>\n",
       "      <th>0.33</th>\n",
       "      <td>0.85073</td>\n",
       "    </tr>\n",
       "    <tr>\n",
       "      <th>0.34</th>\n",
       "      <td>0.85073</td>\n",
       "    </tr>\n",
       "    <tr>\n",
       "      <th>0.35</th>\n",
       "      <td>0.85073</td>\n",
       "    </tr>\n",
       "  </tbody>\n",
       "</table>\n",
       "</div>"
      ],
      "text/plain": [
       "        score\n",
       "0.29  0.85073\n",
       "0.30  0.85073\n",
       "0.32  0.85073\n",
       "0.33  0.85073\n",
       "0.34  0.85073\n",
       "0.35  0.85073"
      ]
     },
     "execution_count": 68,
     "metadata": {},
     "output_type": "execute_result"
    }
   ],
   "source": [
    "w = blend_results.loc[blend_results[\"score\"] == blend_results[\"score\"].max()]\n",
    "w"
   ]
  },
  {
   "cell_type": "code",
   "execution_count": 69,
   "id": "7f0f4b9f",
   "metadata": {
    "execution": {
     "iopub.execute_input": "2022-07-27T21:38:08.274541Z",
     "iopub.status.busy": "2022-07-27T21:38:08.274133Z",
     "iopub.status.idle": "2022-07-27T21:38:08.281875Z",
     "shell.execute_reply": "2022-07-27T21:38:08.281036Z"
    },
    "papermill": {
     "duration": 0.040282,
     "end_time": "2022-07-27T21:38:08.283846",
     "exception": false,
     "start_time": "2022-07-27T21:38:08.243564",
     "status": "completed"
    },
    "tags": []
   },
   "outputs": [
    {
     "data": {
      "text/plain": [
       "0.29"
      ]
     },
     "execution_count": 69,
     "metadata": {},
     "output_type": "execute_result"
    }
   ],
   "source": [
    "wt = w.first_valid_index()\n",
    "wt"
   ]
  },
  {
   "cell_type": "code",
   "execution_count": 70,
   "id": "63a8f378",
   "metadata": {
    "execution": {
     "iopub.execute_input": "2022-07-27T21:38:08.345037Z",
     "iopub.status.busy": "2022-07-27T21:38:08.344296Z",
     "iopub.status.idle": "2022-07-27T21:38:08.354265Z",
     "shell.execute_reply": "2022-07-27T21:38:08.353465Z"
    },
    "papermill": {
     "duration": 0.043539,
     "end_time": "2022-07-27T21:38:08.356679",
     "exception": false,
     "start_time": "2022-07-27T21:38:08.313140",
     "status": "completed"
    },
    "tags": []
   },
   "outputs": [
    {
     "data": {
      "text/plain": [
       "0.00    0.840629\n",
       "0.01    0.840629\n",
       "0.02    0.840629\n",
       "0.03    0.841751\n",
       "0.04    0.842873\n",
       "          ...   \n",
       "0.95    0.835017\n",
       "0.96    0.833895\n",
       "0.97    0.833895\n",
       "0.98    0.833895\n",
       "0.99    0.831650\n",
       "Name: score, Length: 100, dtype: float64"
      ]
     },
     "execution_count": 70,
     "metadata": {},
     "output_type": "execute_result"
    }
   ],
   "source": [
    "blend_results[\"score\"]"
   ]
  },
  {
   "cell_type": "markdown",
   "id": "f9c99c16",
   "metadata": {
    "papermill": {
     "duration": 0.028854,
     "end_time": "2022-07-27T21:38:08.416459",
     "exception": false,
     "start_time": "2022-07-27T21:38:08.387605",
     "status": "completed"
    },
    "tags": []
   },
   "source": [
    "<div style=\"background-color:rgba(255, 215, 0, 0.6);border-radius:5px;display:fill\"><h1 style=\"text-align: center;padding: 12px 0px 12px 0px;\">Submission File</h1>\n",
    "</div>\n",
    "\n",
    "The sample file and our data is in the same row order.  This allows us to simply assign our prediction to the target column (`Survived`) in the sample submission."
   ]
  },
  {
   "cell_type": "code",
   "execution_count": 71,
   "id": "1a442e08",
   "metadata": {
    "execution": {
     "iopub.execute_input": "2022-07-27T21:38:08.476417Z",
     "iopub.status.busy": "2022-07-27T21:38:08.475947Z",
     "iopub.status.idle": "2022-07-27T21:38:08.481416Z",
     "shell.execute_reply": "2022-07-27T21:38:08.480039Z"
    },
    "papermill": {
     "duration": 0.038989,
     "end_time": "2022-07-27T21:38:08.484257",
     "exception": false,
     "start_time": "2022-07-27T21:38:08.445268",
     "status": "completed"
    },
    "tags": []
   },
   "outputs": [],
   "source": [
    "# pred_cols = [c for c in submission_df.columns if c.startswith(\"pred_\")]\n",
    "# pred_cols"
   ]
  },
  {
   "cell_type": "code",
   "execution_count": null,
   "id": "a164bdff",
   "metadata": {
    "papermill": {
     "duration": 0.0284,
     "end_time": "2022-07-27T21:38:08.541632",
     "exception": false,
     "start_time": "2022-07-27T21:38:08.513232",
     "status": "completed"
    },
    "tags": []
   },
   "outputs": [],
   "source": []
  },
  {
   "cell_type": "code",
   "execution_count": 72,
   "id": "b63cc4e3",
   "metadata": {
    "execution": {
     "iopub.execute_input": "2022-07-27T21:38:08.600985Z",
     "iopub.status.busy": "2022-07-27T21:38:08.600570Z",
     "iopub.status.idle": "2022-07-27T21:38:08.613770Z",
     "shell.execute_reply": "2022-07-27T21:38:08.612804Z"
    },
    "papermill": {
     "duration": 0.045386,
     "end_time": "2022-07-27T21:38:08.615962",
     "exception": false,
     "start_time": "2022-07-27T21:38:08.570576",
     "status": "completed"
    },
    "tags": []
   },
   "outputs": [
    {
     "data": {
      "text/html": [
       "<div>\n",
       "<style scoped>\n",
       "    .dataframe tbody tr th:only-of-type {\n",
       "        vertical-align: middle;\n",
       "    }\n",
       "\n",
       "    .dataframe tbody tr th {\n",
       "        vertical-align: top;\n",
       "    }\n",
       "\n",
       "    .dataframe thead th {\n",
       "        text-align: right;\n",
       "    }\n",
       "</style>\n",
       "<table border=\"1\" class=\"dataframe\">\n",
       "  <thead>\n",
       "    <tr style=\"text-align: right;\">\n",
       "      <th></th>\n",
       "      <th>PassengerId</th>\n",
       "      <th>target_xgb1</th>\n",
       "      <th>target_lgbm1</th>\n",
       "    </tr>\n",
       "  </thead>\n",
       "  <tbody>\n",
       "    <tr>\n",
       "      <th>0</th>\n",
       "      <td>892</td>\n",
       "      <td>0.127075</td>\n",
       "      <td>0.078669</td>\n",
       "    </tr>\n",
       "    <tr>\n",
       "      <th>1</th>\n",
       "      <td>893</td>\n",
       "      <td>0.245313</td>\n",
       "      <td>0.260688</td>\n",
       "    </tr>\n",
       "    <tr>\n",
       "      <th>2</th>\n",
       "      <td>894</td>\n",
       "      <td>0.060122</td>\n",
       "      <td>0.088418</td>\n",
       "    </tr>\n",
       "    <tr>\n",
       "      <th>3</th>\n",
       "      <td>895</td>\n",
       "      <td>0.157033</td>\n",
       "      <td>0.288753</td>\n",
       "    </tr>\n",
       "    <tr>\n",
       "      <th>4</th>\n",
       "      <td>896</td>\n",
       "      <td>0.369032</td>\n",
       "      <td>0.299559</td>\n",
       "    </tr>\n",
       "  </tbody>\n",
       "</table>\n",
       "</div>"
      ],
      "text/plain": [
       "   PassengerId  target_xgb1  target_lgbm1\n",
       "0          892     0.127075      0.078669\n",
       "1          893     0.245313      0.260688\n",
       "2          894     0.060122      0.088418\n",
       "3          895     0.157033      0.288753\n",
       "4          896     0.369032      0.299559"
      ]
     },
     "execution_count": 72,
     "metadata": {},
     "output_type": "execute_result"
    }
   ],
   "source": [
    "submission_df.head()"
   ]
  },
  {
   "cell_type": "code",
   "execution_count": 73,
   "id": "97fdcc37",
   "metadata": {
    "execution": {
     "iopub.execute_input": "2022-07-27T21:38:08.677373Z",
     "iopub.status.busy": "2022-07-27T21:38:08.676699Z",
     "iopub.status.idle": "2022-07-27T21:38:08.682829Z",
     "shell.execute_reply": "2022-07-27T21:38:08.681595Z"
    },
    "papermill": {
     "duration": 0.039885,
     "end_time": "2022-07-27T21:38:08.685216",
     "exception": false,
     "start_time": "2022-07-27T21:38:08.645331",
     "status": "completed"
    },
    "tags": []
   },
   "outputs": [],
   "source": [
    "# submission_df[\"target\"] = (submission_df[\"target_lgbm1\"] * wt) + (\n",
    "#     submission_df[\"target_lgbm2\"] * (1 - wt)\n",
    "# )"
   ]
  },
  {
   "cell_type": "code",
   "execution_count": 74,
   "id": "4139cf22",
   "metadata": {
    "execution": {
     "iopub.execute_input": "2022-07-27T21:38:08.745326Z",
     "iopub.status.busy": "2022-07-27T21:38:08.744907Z",
     "iopub.status.idle": "2022-07-27T21:38:08.763722Z",
     "shell.execute_reply": "2022-07-27T21:38:08.762551Z"
    },
    "papermill": {
     "duration": 0.051769,
     "end_time": "2022-07-27T21:38:08.766135",
     "exception": false,
     "start_time": "2022-07-27T21:38:08.714366",
     "status": "completed"
    },
    "tags": []
   },
   "outputs": [
    {
     "name": "stdout",
     "output_type": "stream",
     "text": [
      "Weights=(0.29, 0.71)\n"
     ]
    },
    {
     "data": {
      "text/html": [
       "<div>\n",
       "<style scoped>\n",
       "    .dataframe tbody tr th:only-of-type {\n",
       "        vertical-align: middle;\n",
       "    }\n",
       "\n",
       "    .dataframe tbody tr th {\n",
       "        vertical-align: top;\n",
       "    }\n",
       "\n",
       "    .dataframe thead th {\n",
       "        text-align: right;\n",
       "    }\n",
       "</style>\n",
       "<table border=\"1\" class=\"dataframe\">\n",
       "  <thead>\n",
       "    <tr style=\"text-align: right;\">\n",
       "      <th></th>\n",
       "      <th>PassengerId</th>\n",
       "      <th>Survived</th>\n",
       "    </tr>\n",
       "  </thead>\n",
       "  <tbody>\n",
       "    <tr>\n",
       "      <th>0</th>\n",
       "      <td>892</td>\n",
       "      <td>0.092707</td>\n",
       "    </tr>\n",
       "    <tr>\n",
       "      <th>1</th>\n",
       "      <td>893</td>\n",
       "      <td>0.256230</td>\n",
       "    </tr>\n",
       "    <tr>\n",
       "      <th>2</th>\n",
       "      <td>894</td>\n",
       "      <td>0.080212</td>\n",
       "    </tr>\n",
       "    <tr>\n",
       "      <th>3</th>\n",
       "      <td>895</td>\n",
       "      <td>0.250554</td>\n",
       "    </tr>\n",
       "    <tr>\n",
       "      <th>4</th>\n",
       "      <td>896</td>\n",
       "      <td>0.319706</td>\n",
       "    </tr>\n",
       "    <tr>\n",
       "      <th>5</th>\n",
       "      <td>897</td>\n",
       "      <td>0.337054</td>\n",
       "    </tr>\n",
       "    <tr>\n",
       "      <th>6</th>\n",
       "      <td>898</td>\n",
       "      <td>0.547801</td>\n",
       "    </tr>\n",
       "    <tr>\n",
       "      <th>7</th>\n",
       "      <td>899</td>\n",
       "      <td>0.174493</td>\n",
       "    </tr>\n",
       "  </tbody>\n",
       "</table>\n",
       "</div>"
      ],
      "text/plain": [
       "   PassengerId  Survived\n",
       "0          892  0.092707\n",
       "1          893  0.256230\n",
       "2          894  0.080212\n",
       "3          895  0.250554\n",
       "4          896  0.319706\n",
       "5          897  0.337054\n",
       "6          898  0.547801\n",
       "7          899  0.174493"
      ]
     },
     "execution_count": 74,
     "metadata": {},
     "output_type": "execute_result"
    }
   ],
   "source": [
    "print(f\"Weights=({wt}, {1-wt})\")\n",
    "\n",
    "sample_submission[TARGET] = (submission_df[\"target_xgb1\"] * wt) + (\n",
    "    submission_df[\"target_lgbm1\"] * (1 - wt)\n",
    ")\n",
    "sample_submission.head(8)"
   ]
  },
  {
   "cell_type": "code",
   "execution_count": 75,
   "id": "4f7b3914",
   "metadata": {
    "execution": {
     "iopub.execute_input": "2022-07-27T21:38:08.829601Z",
     "iopub.status.busy": "2022-07-27T21:38:08.829185Z",
     "iopub.status.idle": "2022-07-27T21:38:08.847310Z",
     "shell.execute_reply": "2022-07-27T21:38:08.846089Z"
    },
    "papermill": {
     "duration": 0.052447,
     "end_time": "2022-07-27T21:38:08.849929",
     "exception": false,
     "start_time": "2022-07-27T21:38:08.797482",
     "status": "completed"
    },
    "tags": []
   },
   "outputs": [
    {
     "data": {
      "text/html": [
       "<div>\n",
       "<style scoped>\n",
       "    .dataframe tbody tr th:only-of-type {\n",
       "        vertical-align: middle;\n",
       "    }\n",
       "\n",
       "    .dataframe tbody tr th {\n",
       "        vertical-align: top;\n",
       "    }\n",
       "\n",
       "    .dataframe thead th {\n",
       "        text-align: right;\n",
       "    }\n",
       "</style>\n",
       "<table border=\"1\" class=\"dataframe\">\n",
       "  <thead>\n",
       "    <tr style=\"text-align: right;\">\n",
       "      <th></th>\n",
       "      <th>PassengerId</th>\n",
       "      <th>Survived</th>\n",
       "    </tr>\n",
       "  </thead>\n",
       "  <tbody>\n",
       "    <tr>\n",
       "      <th>0</th>\n",
       "      <td>892</td>\n",
       "      <td>0</td>\n",
       "    </tr>\n",
       "    <tr>\n",
       "      <th>1</th>\n",
       "      <td>893</td>\n",
       "      <td>0</td>\n",
       "    </tr>\n",
       "    <tr>\n",
       "      <th>2</th>\n",
       "      <td>894</td>\n",
       "      <td>0</td>\n",
       "    </tr>\n",
       "    <tr>\n",
       "      <th>3</th>\n",
       "      <td>895</td>\n",
       "      <td>0</td>\n",
       "    </tr>\n",
       "    <tr>\n",
       "      <th>4</th>\n",
       "      <td>896</td>\n",
       "      <td>0</td>\n",
       "    </tr>\n",
       "    <tr>\n",
       "      <th>5</th>\n",
       "      <td>897</td>\n",
       "      <td>0</td>\n",
       "    </tr>\n",
       "    <tr>\n",
       "      <th>6</th>\n",
       "      <td>898</td>\n",
       "      <td>1</td>\n",
       "    </tr>\n",
       "    <tr>\n",
       "      <th>7</th>\n",
       "      <td>899</td>\n",
       "      <td>0</td>\n",
       "    </tr>\n",
       "  </tbody>\n",
       "</table>\n",
       "</div>"
      ],
      "text/plain": [
       "   PassengerId  Survived\n",
       "0          892         0\n",
       "1          893         0\n",
       "2          894         0\n",
       "3          895         0\n",
       "4          896         0\n",
       "5          897         0\n",
       "6          898         1\n",
       "7          899         0"
      ]
     },
     "execution_count": 75,
     "metadata": {},
     "output_type": "execute_result"
    }
   ],
   "source": [
    "sample_submission[\"Survived\"] = np.rint(sample_submission[\"Survived\"]).astype(int)\n",
    "sample_submission.to_csv(\"submission.csv\", index=False)\n",
    "sample_submission.head(8)"
   ]
  }
 ],
 "metadata": {
  "kernelspec": {
   "display_name": "Python 3",
   "language": "python",
   "name": "python3"
  },
  "language_info": {
   "codemirror_mode": {
    "name": "ipython",
    "version": 3
   },
   "file_extension": ".py",
   "mimetype": "text/x-python",
   "name": "python",
   "nbconvert_exporter": "python",
   "pygments_lexer": "ipython3",
   "version": "3.7.12"
  },
  "papermill": {
   "default_parameters": {},
   "duration": 57.316781,
   "end_time": "2022-07-27T21:38:09.803009",
   "environment_variables": {},
   "exception": null,
   "input_path": "__notebook__.ipynb",
   "output_path": "__notebook__.ipynb",
   "parameters": {},
   "start_time": "2022-07-27T21:37:12.486228",
   "version": "2.3.4"
  }
 },
 "nbformat": 4,
 "nbformat_minor": 5
}
