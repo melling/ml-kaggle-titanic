{
 "cells": [
  {
   "cell_type": "markdown",
   "id": "05f04420",
   "metadata": {
    "papermill": {
     "duration": 0.045567,
     "end_time": "2022-07-28T01:11:17.653030",
     "exception": false,
     "start_time": "2022-07-28T01:11:17.607463",
     "status": "completed"
    },
    "tags": []
   },
   "source": [
    "<div style=\"background-color:rgba(255, 215, 0, 0.6);border-radius:5px;display:fill\">\n",
    "    <h1 style=\"text-align: center;padding: 12px 0px 12px 0px;\">🚢 Titanic: XGBoost + Optuna</h1>\n",
    "</div>\n",
    "<img src=\"https://www.seekpng.com/png/full/200-2002376_predicting-titanic-survivors-old-photos-of-the-titanic.png\" alt=\"Titanic\" width=\"300\"/>\n",
    "\n"
   ]
  },
  {
   "cell_type": "markdown",
   "id": "bfbd1932",
   "metadata": {
    "papermill": {
     "duration": 0.028314,
     "end_time": "2022-07-28T01:11:17.709175",
     "exception": false,
     "start_time": "2022-07-28T01:11:17.680861",
     "status": "completed"
    },
    "tags": []
   },
   "source": [
    "# Understanding the Titanic Data\n",
    "\n",
    "## Target - What we want to predict\n",
    "\n",
    "For the Titantic dataset the target is:`Survived`\n",
    "\n",
    "## Features\n",
    "\n",
    "- `Pclass` - Ticket class (1st,2nd,3rd)\n",
    "- `Name` - Full name\n",
    "- `Sex` - Gender\n",
    "- `Age` - Passenger's age\n",
    "- `SibSp` - # of siblings / spouses aboard the Titanic\n",
    "- `Parch` - # of parents / children aboard the Titanic\n",
    "- `Ticket` - Ticket number\n",
    "- `Fare` - What the passenger paid for a ticket\n",
    "- `Cabin` - Cabin number\n",
    "- `Embarked` - C = Cherbourg, Q = Queenstown, S = Southampton\n",
    "\n",
    "## Evaluation Metric\n",
    "\n",
    "$Acurracy = \\frac{True Positives (TP) + True Negatives (TN)}{True Positives (TP) + True Negatives (TN) + False Positives(FP) + False Negatives(FN)}$\n",
    "\n",
    "- https://en.wikipedia.org/wiki/Accuracy_and_precision#In_binary_classification\n",
    "\n",
    "Percentage of passengers you correctly predict.  In other words, accurately predict who survived and who did not.\n",
    "\n",
    "- https://developers.google.com/machine-learning/crash-course/classification/accuracy\n",
    "\n"
   ]
  },
  {
   "cell_type": "code",
   "execution_count": 1,
   "id": "a7d155e0",
   "metadata": {
    "execution": {
     "iopub.execute_input": "2022-07-28T01:11:17.769807Z",
     "iopub.status.busy": "2022-07-28T01:11:17.769290Z",
     "iopub.status.idle": "2022-07-28T01:11:38.034457Z",
     "shell.execute_reply": "2022-07-28T01:11:38.032918Z"
    },
    "papermill": {
     "duration": 20.299145,
     "end_time": "2022-07-28T01:11:38.037796",
     "exception": false,
     "start_time": "2022-07-28T01:11:17.738651",
     "status": "completed"
    },
    "tags": []
   },
   "outputs": [
    {
     "name": "stdout",
     "output_type": "stream",
     "text": [
      "\u001b[33mWARNING: Running pip as the 'root' user can result in broken permissions and conflicting behaviour with the system package manager. It is recommended to use a virtual environment instead: https://pip.pypa.io/warnings/venv\u001b[0m\u001b[33m\r\n",
      "\u001b[0m"
     ]
    }
   ],
   "source": [
    "# Black formatter https://black.readthedocs.io/en/stable/\n",
    "\n",
    "! pip install nb-black > /dev/null\n",
    "\n",
    "%load_ext lab_black"
   ]
  },
  {
   "cell_type": "markdown",
   "id": "0bbfb27c",
   "metadata": {
    "papermill": {
     "duration": 0.028669,
     "end_time": "2022-07-28T01:11:38.092599",
     "exception": false,
     "start_time": "2022-07-28T01:11:38.063930",
     "status": "completed"
    },
    "tags": []
   },
   "source": [
    "<div style=\"background-color:rgba(255, 215, 0, 0.6);border-radius:5px;display:fill\"><h1 style=\"text-align: center;padding: 12px 0px 12px 0px;\">Import Libraries</h1>\n",
    "</div>"
   ]
  },
  {
   "cell_type": "code",
   "execution_count": 2,
   "id": "83542f38",
   "metadata": {
    "execution": {
     "iopub.execute_input": "2022-07-28T01:11:38.151851Z",
     "iopub.status.busy": "2022-07-28T01:11:38.150089Z",
     "iopub.status.idle": "2022-07-28T01:11:41.830876Z",
     "shell.execute_reply": "2022-07-28T01:11:41.829015Z"
    },
    "papermill": {
     "duration": 3.715418,
     "end_time": "2022-07-28T01:11:41.834144",
     "exception": false,
     "start_time": "2022-07-28T01:11:38.118726",
     "status": "completed"
    },
    "tags": []
   },
   "outputs": [
    {
     "data": {
      "text/html": [
       "<style type='text/css'>\n",
       ".datatable table.frame { margin-bottom: 0; }\n",
       ".datatable table.frame thead { border-bottom: none; }\n",
       ".datatable table.frame tr.coltypes td {  color: #FFFFFF;  line-height: 6px;  padding: 0 0.5em;}\n",
       ".datatable .bool    { background: #DDDD99; }\n",
       ".datatable .object  { background: #565656; }\n",
       ".datatable .int     { background: #5D9E5D; }\n",
       ".datatable .float   { background: #4040CC; }\n",
       ".datatable .str     { background: #CC4040; }\n",
       ".datatable .time    { background: #40CC40; }\n",
       ".datatable .row_index {  background: var(--jp-border-color3);  border-right: 1px solid var(--jp-border-color0);  color: var(--jp-ui-font-color3);  font-size: 9px;}\n",
       ".datatable .frame tbody td { text-align: left; }\n",
       ".datatable .frame tr.coltypes .row_index {  background: var(--jp-border-color0);}\n",
       ".datatable th:nth-child(2) { padding-left: 12px; }\n",
       ".datatable .hellipsis {  color: var(--jp-cell-editor-border-color);}\n",
       ".datatable .vellipsis {  background: var(--jp-layout-color0);  color: var(--jp-cell-editor-border-color);}\n",
       ".datatable .na {  color: var(--jp-cell-editor-border-color);  font-size: 80%;}\n",
       ".datatable .sp {  opacity: 0.25;}\n",
       ".datatable .footer { font-size: 9px; }\n",
       ".datatable .frame_dimensions {  background: var(--jp-border-color3);  border-top: 1px solid var(--jp-border-color0);  color: var(--jp-ui-font-color3);  display: inline-block;  opacity: 0.6;  padding: 1px 10px 1px 5px;}\n",
       "</style>\n"
      ],
      "text/plain": [
       "<IPython.core.display.HTML object>"
      ]
     },
     "metadata": {},
     "output_type": "display_data"
    }
   ],
   "source": [
    "import os\n",
    "import time\n",
    "from pathlib import Path\n",
    "\n",
    "import pandas as pd\n",
    "import numpy as np\n",
    "\n",
    "from sklearn.model_selection import train_test_split\n",
    "from sklearn.impute import SimpleImputer\n",
    "from sklearn.model_selection import KFold, StratifiedKFold\n",
    "\n",
    "# from sklearn.metrics import accuracy_score, roc_auc_score\n",
    "from sklearn.metrics import classification_report, confusion_matrix\n",
    "\n",
    "import xgboost as xgb\n",
    "import catboost as cb\n",
    "import lightgbm as lgb\n",
    "\n",
    "# Visualization Libraries\n",
    "import matplotlib.pylab as plt\n",
    "import seaborn as sns\n",
    "\n",
    "%matplotlib inline\n",
    "\n",
    "from itertools import cycle\n",
    "\n",
    "plt.style.use(\"ggplot\")  # ggplot, fivethirtyeight\n",
    "color_pal = plt.rcParams[\"axes.prop_cycle\"].by_key()[\"color\"]\n",
    "color_cycle = cycle(plt.rcParams[\"axes.prop_cycle\"].by_key()[\"color\"])"
   ]
  },
  {
   "cell_type": "markdown",
   "id": "a616b8b9",
   "metadata": {
    "papermill": {
     "duration": 0.025717,
     "end_time": "2022-07-28T01:11:41.886062",
     "exception": false,
     "start_time": "2022-07-28T01:11:41.860345",
     "status": "completed"
    },
    "tags": []
   },
   "source": [
    "<div style=\"background-color:rgba(255, 215, 0, 0.6);border-radius:5px;display:fill\"><h1 style=\"text-align: center;padding: 12px 0px 12px 0px;\">Configuration</h1>\n",
    "</div>"
   ]
  },
  {
   "cell_type": "code",
   "execution_count": 3,
   "id": "fdf6fb33",
   "metadata": {
    "execution": {
     "iopub.execute_input": "2022-07-28T01:11:41.945521Z",
     "iopub.status.busy": "2022-07-28T01:11:41.945121Z",
     "iopub.status.idle": "2022-07-28T01:11:41.962466Z",
     "shell.execute_reply": "2022-07-28T01:11:41.960803Z"
    },
    "papermill": {
     "duration": 0.050883,
     "end_time": "2022-07-28T01:11:41.965073",
     "exception": false,
     "start_time": "2022-07-28T01:11:41.914190",
     "status": "completed"
    },
    "tags": []
   },
   "outputs": [],
   "source": [
    "class Config:\n",
    "    path = \"../input/titanic\"\n",
    "    gpu = False\n",
    "    debug = False\n",
    "    optimize = False\n",
    "    model_type = \"tf\"  # (xgb, cat, lgbm, keras)\n",
    "    model_name = \"tf1\"\n",
    "    competition = \"titanic\"\n",
    "    calc_probability = True\n",
    "    seed = 42\n",
    "    N_ESTIMATORS = 5000  # 100, 300, 2000, 5000 GBDT\n",
    "\n",
    "    batch_size = 64\n",
    "    epochs = 25\n",
    "    N_FOLDS = 5  # 5,10,15\n",
    "    SEED_LENGTH = 1  # 5,10"
   ]
  },
  {
   "cell_type": "markdown",
   "id": "47895f42",
   "metadata": {
    "papermill": {
     "duration": 0.02711,
     "end_time": "2022-07-28T01:11:42.020031",
     "exception": false,
     "start_time": "2022-07-28T01:11:41.992921",
     "status": "completed"
    },
    "tags": []
   },
   "source": [
    "### The target/dependent variable in the dataset"
   ]
  },
  {
   "cell_type": "code",
   "execution_count": 4,
   "id": "42305648",
   "metadata": {
    "execution": {
     "iopub.execute_input": "2022-07-28T01:11:42.076991Z",
     "iopub.status.busy": "2022-07-28T01:11:42.076377Z",
     "iopub.status.idle": "2022-07-28T01:11:42.083611Z",
     "shell.execute_reply": "2022-07-28T01:11:42.082293Z"
    },
    "papermill": {
     "duration": 0.038037,
     "end_time": "2022-07-28T01:11:42.086032",
     "exception": false,
     "start_time": "2022-07-28T01:11:42.047995",
     "status": "completed"
    },
    "tags": []
   },
   "outputs": [],
   "source": [
    "# Did the passenger survive?\n",
    "# 0 = No, 1 = Yes\n",
    "TARGET = \"Survived\""
   ]
  },
  {
   "cell_type": "markdown",
   "id": "f7f293ff",
   "metadata": {
    "papermill": {
     "duration": 0.024783,
     "end_time": "2022-07-28T01:11:42.137495",
     "exception": false,
     "start_time": "2022-07-28T01:11:42.112712",
     "status": "completed"
    },
    "tags": []
   },
   "source": [
    "<div style=\"background-color:rgba(255, 215, 0, 0.6);border-radius:5px;display:fill\"><h1 style=\"text-align: center;padding: 12px 0px 12px 0px;\">Library</h1>\n",
    "</div>\n",
    "\n",
    "Creating a few functions that we will reuse in each project."
   ]
  },
  {
   "cell_type": "code",
   "execution_count": 5,
   "id": "d4843f73",
   "metadata": {
    "execution": {
     "iopub.execute_input": "2022-07-28T01:11:42.194273Z",
     "iopub.status.busy": "2022-07-28T01:11:42.193631Z",
     "iopub.status.idle": "2022-07-28T01:11:42.209929Z",
     "shell.execute_reply": "2022-07-28T01:11:42.208716Z"
    },
    "papermill": {
     "duration": 0.048211,
     "end_time": "2022-07-28T01:11:42.212399",
     "exception": false,
     "start_time": "2022-07-28T01:11:42.164188",
     "status": "completed"
    },
    "tags": []
   },
   "outputs": [],
   "source": [
    "def read_data(path):\n",
    "    data_dir = Path(path)\n",
    "\n",
    "    train = pd.read_csv(data_dir / \"train.csv\")\n",
    "    test = pd.read_csv(data_dir / \"test.csv\")\n",
    "    submission_df = pd.read_csv(data_dir / \"gender_submission.csv\")\n",
    "\n",
    "    print(f\"train data: Rows={train.shape[0]}, Columns={train.shape[1]}\")\n",
    "    print(f\"test data : Rows={test.shape[0]}, Columns={test.shape[1]}\")\n",
    "    return train, test, submission_df"
   ]
  },
  {
   "cell_type": "code",
   "execution_count": 6,
   "id": "f17ad61a",
   "metadata": {
    "execution": {
     "iopub.execute_input": "2022-07-28T01:11:42.265523Z",
     "iopub.status.busy": "2022-07-28T01:11:42.265087Z",
     "iopub.status.idle": "2022-07-28T01:11:42.277984Z",
     "shell.execute_reply": "2022-07-28T01:11:42.276673Z"
    },
    "papermill": {
     "duration": 0.042599,
     "end_time": "2022-07-28T01:11:42.280622",
     "exception": false,
     "start_time": "2022-07-28T01:11:42.238023",
     "status": "completed"
    },
    "tags": []
   },
   "outputs": [],
   "source": [
    "def create_submission(model_name, target, preds):\n",
    "    sample_submission[target] = preds\n",
    "\n",
    "    if len(model_name) > 0:\n",
    "        fname = \"submission_{model_name}.csv\"\n",
    "    else:\n",
    "        fname = \"submission.csv\"\n",
    "\n",
    "    sample_submission.to_csv(fname, index=False)\n",
    "\n",
    "    return sample_submission"
   ]
  },
  {
   "cell_type": "code",
   "execution_count": 7,
   "id": "e132c7fb",
   "metadata": {
    "execution": {
     "iopub.execute_input": "2022-07-28T01:11:42.335794Z",
     "iopub.status.busy": "2022-07-28T01:11:42.335371Z",
     "iopub.status.idle": "2022-07-28T01:11:42.352592Z",
     "shell.execute_reply": "2022-07-28T01:11:42.351684Z"
    },
    "papermill": {
     "duration": 0.047803,
     "end_time": "2022-07-28T01:11:42.355324",
     "exception": false,
     "start_time": "2022-07-28T01:11:42.307521",
     "status": "completed"
    },
    "tags": []
   },
   "outputs": [],
   "source": [
    "from sklearn.metrics import (\n",
    "    accuracy_score,\n",
    "    precision_score,\n",
    "    recall_score,\n",
    "    f1_score,\n",
    "    roc_auc_score,\n",
    ")\n",
    "\n",
    "\n",
    "def show_scores(gt, yhat):\n",
    "    accuracy = accuracy_score(gt, yhat)\n",
    "    precision = precision_score(gt, yhat)\n",
    "    recall = recall_score(gt, yhat)\n",
    "    f1 = f1_score(gt, yhat)\n",
    "\n",
    "    print(f\"Accuracy: {accuracy:.4f}\")\n",
    "    print(f\"Precision: {precision:.4f}\")\n",
    "    print(f\"Recall: {recall:.4f}\")\n",
    "    print(f\"f1: {f1:.4f}\")"
   ]
  },
  {
   "cell_type": "code",
   "execution_count": 8,
   "id": "27edd3ef",
   "metadata": {
    "execution": {
     "iopub.execute_input": "2022-07-28T01:11:42.409159Z",
     "iopub.status.busy": "2022-07-28T01:11:42.408377Z",
     "iopub.status.idle": "2022-07-28T01:11:42.425429Z",
     "shell.execute_reply": "2022-07-28T01:11:42.424434Z"
    },
    "papermill": {
     "duration": 0.046752,
     "end_time": "2022-07-28T01:11:42.427967",
     "exception": false,
     "start_time": "2022-07-28T01:11:42.381215",
     "status": "completed"
    },
    "tags": []
   },
   "outputs": [],
   "source": [
    "from sklearn.preprocessing import LabelEncoder\n",
    "\n",
    "\n",
    "def label_encoder(train, test, columns):\n",
    "    for col in columns:\n",
    "        train[col] = train[col].astype(str)\n",
    "        test[col] = test[col].astype(str)\n",
    "        train[col] = LabelEncoder().fit_transform(train[col])\n",
    "        test[col] = LabelEncoder().fit_transform(test[col])\n",
    "    return train, test"
   ]
  },
  {
   "cell_type": "code",
   "execution_count": 9,
   "id": "8480f588",
   "metadata": {
    "execution": {
     "iopub.execute_input": "2022-07-28T01:11:42.481101Z",
     "iopub.status.busy": "2022-07-28T01:11:42.480406Z",
     "iopub.status.idle": "2022-07-28T01:11:42.496973Z",
     "shell.execute_reply": "2022-07-28T01:11:42.495718Z"
    },
    "papermill": {
     "duration": 0.045759,
     "end_time": "2022-07-28T01:11:42.499606",
     "exception": false,
     "start_time": "2022-07-28T01:11:42.453847",
     "status": "completed"
    },
    "tags": []
   },
   "outputs": [],
   "source": [
    "from sklearn.preprocessing import OneHotEncoder\n",
    "\n",
    "\n",
    "def one_hot_encoder(train, test, columns):\n",
    "    for col in columns:\n",
    "        train[col] = train[col].astype(str)\n",
    "        test[col] = test[col].astype(str)\n",
    "        train[col] = OneHotEncoder().fit_transform(train[col])\n",
    "        test[col] = OneHotEncoder().fit_transform(test[col])\n",
    "    return train, test"
   ]
  },
  {
   "cell_type": "code",
   "execution_count": 10,
   "id": "1653508f",
   "metadata": {
    "execution": {
     "iopub.execute_input": "2022-07-28T01:11:42.552765Z",
     "iopub.status.busy": "2022-07-28T01:11:42.552302Z",
     "iopub.status.idle": "2022-07-28T01:11:42.561631Z",
     "shell.execute_reply": "2022-07-28T01:11:42.560244Z"
    },
    "papermill": {
     "duration": 0.038924,
     "end_time": "2022-07-28T01:11:42.564401",
     "exception": false,
     "start_time": "2022-07-28T01:11:42.525477",
     "status": "completed"
    },
    "tags": []
   },
   "outputs": [],
   "source": [
    "def show_missing_features(df):\n",
    "    missing_vals = df.isna().sum()\n",
    "    print(missing_vals[missing_vals > 0])"
   ]
  },
  {
   "cell_type": "code",
   "execution_count": 11,
   "id": "c9a01870",
   "metadata": {
    "execution": {
     "iopub.execute_input": "2022-07-28T01:11:42.619531Z",
     "iopub.status.busy": "2022-07-28T01:11:42.619128Z",
     "iopub.status.idle": "2022-07-28T01:11:42.638408Z",
     "shell.execute_reply": "2022-07-28T01:11:42.637202Z"
    },
    "papermill": {
     "duration": 0.051531,
     "end_time": "2022-07-28T01:11:42.641325",
     "exception": false,
     "start_time": "2022-07-28T01:11:42.589794",
     "status": "completed"
    },
    "tags": []
   },
   "outputs": [],
   "source": [
    "def create_folds(df, TARGET, n_folds=5, seed=42):\n",
    "    print(f\"TARGET={TARGET}, n_folds={n_folds}, seed={seed}\")\n",
    "    df[\"fold\"] = -1\n",
    "\n",
    "    kf = StratifiedKFold(n_splits=n_folds, shuffle=True, random_state=seed)\n",
    "    # kf = GroupKFold(n_splits=Config.N_FOLDS)\n",
    "\n",
    "    for fold, (train_idx, valid_idx) in enumerate(kf.split(df, df[TARGET])):\n",
    "        df.loc[valid_idx, \"fold\"] = fold\n",
    "\n",
    "    # df.to_csv(f\"train_fold{num_folds}.csv\", index=False)\n",
    "    return df"
   ]
  },
  {
   "cell_type": "code",
   "execution_count": 12,
   "id": "d1037970",
   "metadata": {
    "execution": {
     "iopub.execute_input": "2022-07-28T01:11:42.694843Z",
     "iopub.status.busy": "2022-07-28T01:11:42.694414Z",
     "iopub.status.idle": "2022-07-28T01:11:42.703219Z",
     "shell.execute_reply": "2022-07-28T01:11:42.702300Z"
    },
    "papermill": {
     "duration": 0.038434,
     "end_time": "2022-07-28T01:11:42.705741",
     "exception": false,
     "start_time": "2022-07-28T01:11:42.667307",
     "status": "completed"
    },
    "tags": []
   },
   "outputs": [],
   "source": [
    "def show_fold_scores(scores):\n",
    "    cv_score = np.mean(scores)  # Used in filename\n",
    "    print(\n",
    "        f\"Scores -> Adjusted: {np.mean(scores) - np.std(scores):.8f} , mean: {np.mean(scores):.8f}, std: {np.std(scores):.8f}\"\n",
    "    )"
   ]
  },
  {
   "cell_type": "code",
   "execution_count": 13,
   "id": "d05caf62",
   "metadata": {
    "execution": {
     "iopub.execute_input": "2022-07-28T01:11:42.758184Z",
     "iopub.status.busy": "2022-07-28T01:11:42.757470Z",
     "iopub.status.idle": "2022-07-28T01:11:42.766050Z",
     "shell.execute_reply": "2022-07-28T01:11:42.764829Z"
    },
    "papermill": {
     "duration": 0.037752,
     "end_time": "2022-07-28T01:11:42.768664",
     "exception": false,
     "start_time": "2022-07-28T01:11:42.730912",
     "status": "completed"
    },
    "tags": []
   },
   "outputs": [],
   "source": [
    "# Save OOF Results\n",
    "if not os.path.exists(\"results\"):\n",
    "    os.makedirs(\"results\")"
   ]
  },
  {
   "cell_type": "markdown",
   "id": "f1b32485",
   "metadata": {
    "papermill": {
     "duration": 0.025757,
     "end_time": "2022-07-28T01:11:42.819960",
     "exception": false,
     "start_time": "2022-07-28T01:11:42.794203",
     "status": "completed"
    },
    "tags": []
   },
   "source": [
    "<div style=\"background-color:rgba(255, 215, 0, 0.6);border-radius:5px;display:fill\"><h1 style=\"text-align: center;padding: 12px 0px 12px 0px;\">Load Train/Test Data</h1>\n",
    "</div>\n",
    "\n",
    "## Load the following files\n",
    "\n",
    " - train.csv - Data used to build our machine learning model\n",
    " - test.csv - Data used to build our machine learning model. Does not contain the `Suvived` target variable\n",
    " - gender_submission.csv - A file in the proper format to submit test predictions"
   ]
  },
  {
   "cell_type": "code",
   "execution_count": 14,
   "id": "1819322e",
   "metadata": {
    "execution": {
     "iopub.execute_input": "2022-07-28T01:11:42.872128Z",
     "iopub.status.busy": "2022-07-28T01:11:42.871695Z",
     "iopub.status.idle": "2022-07-28T01:11:42.915222Z",
     "shell.execute_reply": "2022-07-28T01:11:42.913893Z"
    },
    "papermill": {
     "duration": 0.073438,
     "end_time": "2022-07-28T01:11:42.918498",
     "exception": false,
     "start_time": "2022-07-28T01:11:42.845060",
     "status": "completed"
    },
    "tags": []
   },
   "outputs": [
    {
     "name": "stdout",
     "output_type": "stream",
     "text": [
      "train data: Rows=891, Columns=12\n",
      "test data : Rows=418, Columns=11\n"
     ]
    }
   ],
   "source": [
    "train, test, sample_submission = read_data(Config.path)"
   ]
  },
  {
   "cell_type": "code",
   "execution_count": 15,
   "id": "f551234e",
   "metadata": {
    "execution": {
     "iopub.execute_input": "2022-07-28T01:11:42.977127Z",
     "iopub.status.busy": "2022-07-28T01:11:42.976373Z",
     "iopub.status.idle": "2022-07-28T01:11:43.004700Z",
     "shell.execute_reply": "2022-07-28T01:11:43.003732Z"
    },
    "papermill": {
     "duration": 0.060915,
     "end_time": "2022-07-28T01:11:43.007281",
     "exception": false,
     "start_time": "2022-07-28T01:11:42.946366",
     "status": "completed"
    },
    "tags": []
   },
   "outputs": [
    {
     "data": {
      "text/html": [
       "<div>\n",
       "<style scoped>\n",
       "    .dataframe tbody tr th:only-of-type {\n",
       "        vertical-align: middle;\n",
       "    }\n",
       "\n",
       "    .dataframe tbody tr th {\n",
       "        vertical-align: top;\n",
       "    }\n",
       "\n",
       "    .dataframe thead th {\n",
       "        text-align: right;\n",
       "    }\n",
       "</style>\n",
       "<table border=\"1\" class=\"dataframe\">\n",
       "  <thead>\n",
       "    <tr style=\"text-align: right;\">\n",
       "      <th></th>\n",
       "      <th>PassengerId</th>\n",
       "      <th>Survived</th>\n",
       "      <th>Pclass</th>\n",
       "      <th>Name</th>\n",
       "      <th>Sex</th>\n",
       "      <th>Age</th>\n",
       "      <th>SibSp</th>\n",
       "      <th>Parch</th>\n",
       "      <th>Ticket</th>\n",
       "      <th>Fare</th>\n",
       "      <th>Cabin</th>\n",
       "      <th>Embarked</th>\n",
       "    </tr>\n",
       "  </thead>\n",
       "  <tbody>\n",
       "    <tr>\n",
       "      <th>0</th>\n",
       "      <td>1</td>\n",
       "      <td>0</td>\n",
       "      <td>3</td>\n",
       "      <td>Braund, Mr. Owen Harris</td>\n",
       "      <td>male</td>\n",
       "      <td>22.0</td>\n",
       "      <td>1</td>\n",
       "      <td>0</td>\n",
       "      <td>A/5 21171</td>\n",
       "      <td>7.2500</td>\n",
       "      <td>NaN</td>\n",
       "      <td>S</td>\n",
       "    </tr>\n",
       "    <tr>\n",
       "      <th>1</th>\n",
       "      <td>2</td>\n",
       "      <td>1</td>\n",
       "      <td>1</td>\n",
       "      <td>Cumings, Mrs. John Bradley (Florence Briggs Th...</td>\n",
       "      <td>female</td>\n",
       "      <td>38.0</td>\n",
       "      <td>1</td>\n",
       "      <td>0</td>\n",
       "      <td>PC 17599</td>\n",
       "      <td>71.2833</td>\n",
       "      <td>C85</td>\n",
       "      <td>C</td>\n",
       "    </tr>\n",
       "    <tr>\n",
       "      <th>2</th>\n",
       "      <td>3</td>\n",
       "      <td>1</td>\n",
       "      <td>3</td>\n",
       "      <td>Heikkinen, Miss. Laina</td>\n",
       "      <td>female</td>\n",
       "      <td>26.0</td>\n",
       "      <td>0</td>\n",
       "      <td>0</td>\n",
       "      <td>STON/O2. 3101282</td>\n",
       "      <td>7.9250</td>\n",
       "      <td>NaN</td>\n",
       "      <td>S</td>\n",
       "    </tr>\n",
       "    <tr>\n",
       "      <th>3</th>\n",
       "      <td>4</td>\n",
       "      <td>1</td>\n",
       "      <td>1</td>\n",
       "      <td>Futrelle, Mrs. Jacques Heath (Lily May Peel)</td>\n",
       "      <td>female</td>\n",
       "      <td>35.0</td>\n",
       "      <td>1</td>\n",
       "      <td>0</td>\n",
       "      <td>113803</td>\n",
       "      <td>53.1000</td>\n",
       "      <td>C123</td>\n",
       "      <td>S</td>\n",
       "    </tr>\n",
       "    <tr>\n",
       "      <th>4</th>\n",
       "      <td>5</td>\n",
       "      <td>0</td>\n",
       "      <td>3</td>\n",
       "      <td>Allen, Mr. William Henry</td>\n",
       "      <td>male</td>\n",
       "      <td>35.0</td>\n",
       "      <td>0</td>\n",
       "      <td>0</td>\n",
       "      <td>373450</td>\n",
       "      <td>8.0500</td>\n",
       "      <td>NaN</td>\n",
       "      <td>S</td>\n",
       "    </tr>\n",
       "  </tbody>\n",
       "</table>\n",
       "</div>"
      ],
      "text/plain": [
       "   PassengerId  Survived  Pclass  \\\n",
       "0            1         0       3   \n",
       "1            2         1       1   \n",
       "2            3         1       3   \n",
       "3            4         1       1   \n",
       "4            5         0       3   \n",
       "\n",
       "                                                Name     Sex   Age  SibSp  \\\n",
       "0                            Braund, Mr. Owen Harris    male  22.0      1   \n",
       "1  Cumings, Mrs. John Bradley (Florence Briggs Th...  female  38.0      1   \n",
       "2                             Heikkinen, Miss. Laina  female  26.0      0   \n",
       "3       Futrelle, Mrs. Jacques Heath (Lily May Peel)  female  35.0      1   \n",
       "4                           Allen, Mr. William Henry    male  35.0      0   \n",
       "\n",
       "   Parch            Ticket     Fare Cabin Embarked  \n",
       "0      0         A/5 21171   7.2500   NaN        S  \n",
       "1      0          PC 17599  71.2833   C85        C  \n",
       "2      0  STON/O2. 3101282   7.9250   NaN        S  \n",
       "3      0            113803  53.1000  C123        S  \n",
       "4      0            373450   8.0500   NaN        S  "
      ]
     },
     "execution_count": 15,
     "metadata": {},
     "output_type": "execute_result"
    }
   ],
   "source": [
    "train.head()"
   ]
  },
  {
   "cell_type": "code",
   "execution_count": 16,
   "id": "07aec651",
   "metadata": {
    "execution": {
     "iopub.execute_input": "2022-07-28T01:11:43.069332Z",
     "iopub.status.busy": "2022-07-28T01:11:43.068110Z",
     "iopub.status.idle": "2022-07-28T01:11:43.078797Z",
     "shell.execute_reply": "2022-07-28T01:11:43.077245Z"
    },
    "papermill": {
     "duration": 0.047494,
     "end_time": "2022-07-28T01:11:43.082175",
     "exception": false,
     "start_time": "2022-07-28T01:11:43.034681",
     "status": "completed"
    },
    "tags": []
   },
   "outputs": [
    {
     "data": {
      "text/plain": [
       "Index(['PassengerId', 'Survived', 'Pclass', 'Name', 'Sex', 'Age', 'SibSp',\n",
       "       'Parch', 'Ticket', 'Fare', 'Cabin', 'Embarked'],\n",
       "      dtype='object')"
      ]
     },
     "execution_count": 16,
     "metadata": {},
     "output_type": "execute_result"
    }
   ],
   "source": [
    "train.columns"
   ]
  },
  {
   "cell_type": "code",
   "execution_count": 17,
   "id": "ee240832",
   "metadata": {
    "execution": {
     "iopub.execute_input": "2022-07-28T01:11:43.142340Z",
     "iopub.status.busy": "2022-07-28T01:11:43.141494Z",
     "iopub.status.idle": "2022-07-28T01:11:43.157868Z",
     "shell.execute_reply": "2022-07-28T01:11:43.156866Z"
    },
    "papermill": {
     "duration": 0.050345,
     "end_time": "2022-07-28T01:11:43.160449",
     "exception": false,
     "start_time": "2022-07-28T01:11:43.110104",
     "status": "completed"
    },
    "tags": []
   },
   "outputs": [],
   "source": [
    "train = train.drop(columns=[\"Name\", \"Ticket\", \"Cabin\"], axis=1).copy()\n",
    "# test = test.drop(columns=[\"PassengerId\"], axis=1).copy()"
   ]
  },
  {
   "cell_type": "markdown",
   "id": "3da97102",
   "metadata": {
    "papermill": {
     "duration": 0.02656,
     "end_time": "2022-07-28T01:11:43.215402",
     "exception": false,
     "start_time": "2022-07-28T01:11:43.188842",
     "status": "completed"
    },
    "tags": []
   },
   "source": [
    "## Categorical/Numerical Variables"
   ]
  },
  {
   "cell_type": "code",
   "execution_count": 18,
   "id": "cdfe7248",
   "metadata": {
    "execution": {
     "iopub.execute_input": "2022-07-28T01:11:43.270437Z",
     "iopub.status.busy": "2022-07-28T01:11:43.269913Z",
     "iopub.status.idle": "2022-07-28T01:11:43.295127Z",
     "shell.execute_reply": "2022-07-28T01:11:43.293871Z"
    },
    "papermill": {
     "duration": 0.057025,
     "end_time": "2022-07-28T01:11:43.298012",
     "exception": false,
     "start_time": "2022-07-28T01:11:43.240987",
     "status": "completed"
    },
    "tags": []
   },
   "outputs": [
    {
     "data": {
      "text/plain": [
       "['Sex', 'Embarked', 'Pclass', 'Age', 'SibSp', 'Parch', 'Fare']"
      ]
     },
     "execution_count": 18,
     "metadata": {},
     "output_type": "execute_result"
    }
   ],
   "source": [
    "## Separate Categorical and Numerical Features\n",
    "cat_features = list(train.select_dtypes(include=[\"category\", \"object\"]).columns)\n",
    "num_features = list(test.select_dtypes(include=[\"number\"]).columns)\n",
    "num_features.remove(\"PassengerId\")\n",
    "\n",
    "FEATURES = cat_features + num_features\n",
    "FEATURES"
   ]
  },
  {
   "cell_type": "code",
   "execution_count": 19,
   "id": "3828fff0",
   "metadata": {
    "execution": {
     "iopub.execute_input": "2022-07-28T01:11:43.354777Z",
     "iopub.status.busy": "2022-07-28T01:11:43.354351Z",
     "iopub.status.idle": "2022-07-28T01:11:43.398917Z",
     "shell.execute_reply": "2022-07-28T01:11:43.397639Z"
    },
    "papermill": {
     "duration": 0.077662,
     "end_time": "2022-07-28T01:11:43.402382",
     "exception": false,
     "start_time": "2022-07-28T01:11:43.324720",
     "status": "completed"
    },
    "tags": []
   },
   "outputs": [],
   "source": [
    "from sklearn.impute import SimpleImputer\n",
    "\n",
    "# Categorical\n",
    "imputer = SimpleImputer(strategy=\"most_frequent\")\n",
    "\n",
    "train[cat_features] = imputer.fit_transform(train[cat_features])\n",
    "test[cat_features] = imputer.transform(test[cat_features])\n",
    "\n",
    "# Numerical\n",
    "\n",
    "# imputer = SimpleImputer(strategy=\"mean\")\n",
    "imputer = SimpleImputer(strategy=\"median\")  # median is more robust to outliers\n",
    "\n",
    "train[num_features] = imputer.fit_transform(train[num_features])\n",
    "test[num_features] = imputer.transform(test[num_features])"
   ]
  },
  {
   "cell_type": "markdown",
   "id": "2f565fa5",
   "metadata": {
    "papermill": {
     "duration": 0.026881,
     "end_time": "2022-07-28T01:11:43.457187",
     "exception": false,
     "start_time": "2022-07-28T01:11:43.430306",
     "status": "completed"
    },
    "tags": []
   },
   "source": [
    "<div style=\"background-color:rgba(255, 215, 0, 0.6);border-radius:5px;display:fill\"><h1 style=\"text-align: center;padding: 12px 0px 12px 0px;\">Feature Engineering</h1>\n",
    "</div>\n",
    "\n",
    "- [Titanic - Advanced Feature Engineering Tutorial](https://www.kaggle.com/gunesevitan/titanic-advanced-feature-engineering-tutorial)\n",
    "- [Titanic Survival Predictions (Beginner)](https://www.kaggle.com/nadintamer/titanic-survival-predictions-beginner)\n",
    "- [Exploring Survival on the Titanic](https://www.kaggle.com/mrisdal/exploring-survival-on-the-titanic)"
   ]
  },
  {
   "cell_type": "code",
   "execution_count": 20,
   "id": "557622ab",
   "metadata": {
    "execution": {
     "iopub.execute_input": "2022-07-28T01:11:43.512577Z",
     "iopub.status.busy": "2022-07-28T01:11:43.512184Z",
     "iopub.status.idle": "2022-07-28T01:11:43.517646Z",
     "shell.execute_reply": "2022-07-28T01:11:43.516388Z"
    },
    "papermill": {
     "duration": 0.036748,
     "end_time": "2022-07-28T01:11:43.520241",
     "exception": false,
     "start_time": "2022-07-28T01:11:43.483493",
     "status": "completed"
    },
    "tags": []
   },
   "outputs": [],
   "source": [
    "# FEATURES = [\"Pclass\", \"Sex\", \"Age\", \"SibSp\", \"Parch\", \"Embarked\"]"
   ]
  },
  {
   "cell_type": "code",
   "execution_count": 21,
   "id": "f63fd32f",
   "metadata": {
    "execution": {
     "iopub.execute_input": "2022-07-28T01:11:43.573561Z",
     "iopub.status.busy": "2022-07-28T01:11:43.573131Z",
     "iopub.status.idle": "2022-07-28T01:11:43.594139Z",
     "shell.execute_reply": "2022-07-28T01:11:43.592894Z"
    },
    "papermill": {
     "duration": 0.050872,
     "end_time": "2022-07-28T01:11:43.596677",
     "exception": false,
     "start_time": "2022-07-28T01:11:43.545805",
     "status": "completed"
    },
    "tags": []
   },
   "outputs": [
    {
     "data": {
      "text/html": [
       "<div>\n",
       "<style scoped>\n",
       "    .dataframe tbody tr th:only-of-type {\n",
       "        vertical-align: middle;\n",
       "    }\n",
       "\n",
       "    .dataframe tbody tr th {\n",
       "        vertical-align: top;\n",
       "    }\n",
       "\n",
       "    .dataframe thead th {\n",
       "        text-align: right;\n",
       "    }\n",
       "</style>\n",
       "<table border=\"1\" class=\"dataframe\">\n",
       "  <thead>\n",
       "    <tr style=\"text-align: right;\">\n",
       "      <th></th>\n",
       "      <th>Sex</th>\n",
       "      <th>Embarked</th>\n",
       "      <th>Pclass</th>\n",
       "      <th>Age</th>\n",
       "      <th>SibSp</th>\n",
       "      <th>Parch</th>\n",
       "      <th>Fare</th>\n",
       "    </tr>\n",
       "  </thead>\n",
       "  <tbody>\n",
       "    <tr>\n",
       "      <th>0</th>\n",
       "      <td>male</td>\n",
       "      <td>S</td>\n",
       "      <td>3.0</td>\n",
       "      <td>22.0</td>\n",
       "      <td>1.0</td>\n",
       "      <td>0.0</td>\n",
       "      <td>7.2500</td>\n",
       "    </tr>\n",
       "    <tr>\n",
       "      <th>1</th>\n",
       "      <td>female</td>\n",
       "      <td>C</td>\n",
       "      <td>1.0</td>\n",
       "      <td>38.0</td>\n",
       "      <td>1.0</td>\n",
       "      <td>0.0</td>\n",
       "      <td>71.2833</td>\n",
       "    </tr>\n",
       "    <tr>\n",
       "      <th>2</th>\n",
       "      <td>female</td>\n",
       "      <td>S</td>\n",
       "      <td>3.0</td>\n",
       "      <td>26.0</td>\n",
       "      <td>0.0</td>\n",
       "      <td>0.0</td>\n",
       "      <td>7.9250</td>\n",
       "    </tr>\n",
       "    <tr>\n",
       "      <th>3</th>\n",
       "      <td>female</td>\n",
       "      <td>S</td>\n",
       "      <td>1.0</td>\n",
       "      <td>35.0</td>\n",
       "      <td>1.0</td>\n",
       "      <td>0.0</td>\n",
       "      <td>53.1000</td>\n",
       "    </tr>\n",
       "    <tr>\n",
       "      <th>4</th>\n",
       "      <td>male</td>\n",
       "      <td>S</td>\n",
       "      <td>3.0</td>\n",
       "      <td>35.0</td>\n",
       "      <td>0.0</td>\n",
       "      <td>0.0</td>\n",
       "      <td>8.0500</td>\n",
       "    </tr>\n",
       "  </tbody>\n",
       "</table>\n",
       "</div>"
      ],
      "text/plain": [
       "      Sex Embarked  Pclass   Age  SibSp  Parch     Fare\n",
       "0    male        S     3.0  22.0    1.0    0.0   7.2500\n",
       "1  female        C     1.0  38.0    1.0    0.0  71.2833\n",
       "2  female        S     3.0  26.0    0.0    0.0   7.9250\n",
       "3  female        S     1.0  35.0    1.0    0.0  53.1000\n",
       "4    male        S     3.0  35.0    0.0    0.0   8.0500"
      ]
     },
     "execution_count": 21,
     "metadata": {},
     "output_type": "execute_result"
    }
   ],
   "source": [
    "train[FEATURES].head()"
   ]
  },
  {
   "cell_type": "markdown",
   "id": "3cc3aa55",
   "metadata": {
    "papermill": {
     "duration": 0.026295,
     "end_time": "2022-07-28T01:11:43.651912",
     "exception": false,
     "start_time": "2022-07-28T01:11:43.625617",
     "status": "completed"
    },
    "tags": []
   },
   "source": [
    "# Extract Target and Drop Unused Columns"
   ]
  },
  {
   "cell_type": "code",
   "execution_count": 22,
   "id": "f164b06f",
   "metadata": {
    "execution": {
     "iopub.execute_input": "2022-07-28T01:11:43.709650Z",
     "iopub.status.busy": "2022-07-28T01:11:43.709229Z",
     "iopub.status.idle": "2022-07-28T01:11:43.715379Z",
     "shell.execute_reply": "2022-07-28T01:11:43.713981Z"
    },
    "papermill": {
     "duration": 0.039274,
     "end_time": "2022-07-28T01:11:43.718090",
     "exception": false,
     "start_time": "2022-07-28T01:11:43.678816",
     "status": "completed"
    },
    "tags": []
   },
   "outputs": [],
   "source": [
    "# y = train[TARGET]\n",
    "\n",
    "# X = train_df.drop(columns=[\"PassengerId\", \"Survived\"], axis=1).copy()\n",
    "# X = train[FEATURES].copy()"
   ]
  },
  {
   "cell_type": "markdown",
   "id": "253071b0",
   "metadata": {
    "papermill": {
     "duration": 0.025967,
     "end_time": "2022-07-28T01:11:43.772555",
     "exception": false,
     "start_time": "2022-07-28T01:11:43.746588",
     "status": "completed"
    },
    "tags": []
   },
   "source": [
    "<div style=\"background-color:rgba(255, 215, 0, 0.6);border-radius:5px;display:fill\"><h1 style=\"text-align: center;padding: 12px 0px 12px 0px;\">Missing Values</h1>\n",
    "</div>\n",
    "\n",
    "We have 891 rows of training data. Age is the only feature, that we are using, with missing data.\n",
    "\n",
    "Note, handling missing data is an entire subject that should be studied in detail.  Kaggle offers a [course](https://www.kaggle.com/learn/data-cleaning)\n",
    "\n",
    "- [sklearn.impute.SimpleImputer](https://scikit-learn.org/stable/modules/impute.html)\n",
    "- https://scikit-learn.org/stable/modules/impute.html\n",
    "\n",
    "- [A Guide to Handling Missing values in Python](https://www.kaggle.com/parulpandey/a-guide-to-handling-missing-values-in-python)"
   ]
  },
  {
   "cell_type": "code",
   "execution_count": 23,
   "id": "1d1e7099",
   "metadata": {
    "execution": {
     "iopub.execute_input": "2022-07-28T01:11:43.827811Z",
     "iopub.status.busy": "2022-07-28T01:11:43.827329Z",
     "iopub.status.idle": "2022-07-28T01:11:43.837327Z",
     "shell.execute_reply": "2022-07-28T01:11:43.835947Z"
    },
    "papermill": {
     "duration": 0.040164,
     "end_time": "2022-07-28T01:11:43.839568",
     "exception": false,
     "start_time": "2022-07-28T01:11:43.799404",
     "status": "completed"
    },
    "tags": []
   },
   "outputs": [
    {
     "name": "stdout",
     "output_type": "stream",
     "text": [
      "Series([], dtype: int64)\n"
     ]
    }
   ],
   "source": [
    "show_missing_features(train)"
   ]
  },
  {
   "cell_type": "code",
   "execution_count": 24,
   "id": "679f481a",
   "metadata": {
    "execution": {
     "iopub.execute_input": "2022-07-28T01:11:43.896913Z",
     "iopub.status.busy": "2022-07-28T01:11:43.896474Z",
     "iopub.status.idle": "2022-07-28T01:11:43.907315Z",
     "shell.execute_reply": "2022-07-28T01:11:43.905991Z"
    },
    "papermill": {
     "duration": 0.043726,
     "end_time": "2022-07-28T01:11:43.910633",
     "exception": false,
     "start_time": "2022-07-28T01:11:43.866907",
     "status": "completed"
    },
    "tags": []
   },
   "outputs": [
    {
     "name": "stdout",
     "output_type": "stream",
     "text": [
      "Number missing: 0\n"
     ]
    }
   ],
   "source": [
    "n = train[\"Age\"].isna().sum()\n",
    "print(f\"Number missing: {n}\")"
   ]
  },
  {
   "cell_type": "markdown",
   "id": "9a0d3d23",
   "metadata": {
    "papermill": {
     "duration": 0.029264,
     "end_time": "2022-07-28T01:11:43.967893",
     "exception": false,
     "start_time": "2022-07-28T01:11:43.938629",
     "status": "completed"
    },
    "tags": []
   },
   "source": [
    "### Manual Imputation of Age"
   ]
  },
  {
   "cell_type": "code",
   "execution_count": 25,
   "id": "03408f64",
   "metadata": {
    "execution": {
     "iopub.execute_input": "2022-07-28T01:11:44.027939Z",
     "iopub.status.busy": "2022-07-28T01:11:44.027439Z",
     "iopub.status.idle": "2022-07-28T01:11:44.039263Z",
     "shell.execute_reply": "2022-07-28T01:11:44.037842Z"
    },
    "papermill": {
     "duration": 0.045365,
     "end_time": "2022-07-28T01:11:44.041896",
     "exception": false,
     "start_time": "2022-07-28T01:11:43.996531",
     "status": "completed"
    },
    "tags": []
   },
   "outputs": [
    {
     "name": "stdout",
     "output_type": "stream",
     "text": [
      "Mean age of person on the Titanic: 29.36\n"
     ]
    }
   ],
   "source": [
    "# train_df[\"Age\"].fillna(train_df[\"Age\"].mean(), inplace = True)\n",
    "m = train[\"Age\"].mean()\n",
    "print(f\"Mean age of person on the Titanic: {m:0.2f}\")"
   ]
  },
  {
   "cell_type": "code",
   "execution_count": 26,
   "id": "f59a25e0",
   "metadata": {
    "execution": {
     "iopub.execute_input": "2022-07-28T01:11:44.098258Z",
     "iopub.status.busy": "2022-07-28T01:11:44.097879Z",
     "iopub.status.idle": "2022-07-28T01:11:44.114210Z",
     "shell.execute_reply": "2022-07-28T01:11:44.113265Z"
    },
    "papermill": {
     "duration": 0.048838,
     "end_time": "2022-07-28T01:11:44.117458",
     "exception": false,
     "start_time": "2022-07-28T01:11:44.068620",
     "status": "completed"
    },
    "tags": []
   },
   "outputs": [],
   "source": [
    "train[\"Age\"].fillna(train[\"Age\"].median(skipna=True), inplace=True)\n",
    "train[\"Embarked\"].fillna(train[\"Embarked\"].value_counts().idxmax(), inplace=True)"
   ]
  },
  {
   "cell_type": "markdown",
   "id": "a3de9dd0",
   "metadata": {
    "papermill": {
     "duration": 0.026704,
     "end_time": "2022-07-28T01:11:44.172120",
     "exception": false,
     "start_time": "2022-07-28T01:11:44.145416",
     "status": "completed"
    },
    "tags": []
   },
   "source": [
    "### Use SimpleImputer Function for Age\n",
    "\n",
    "Leaving the SimpleImputer code uncommented.  It should do nothing since we filled in the values above."
   ]
  },
  {
   "cell_type": "code",
   "execution_count": 27,
   "id": "5ce8e222",
   "metadata": {
    "execution": {
     "iopub.execute_input": "2022-07-28T01:11:44.231644Z",
     "iopub.status.busy": "2022-07-28T01:11:44.231233Z",
     "iopub.status.idle": "2022-07-28T01:11:44.262866Z",
     "shell.execute_reply": "2022-07-28T01:11:44.260245Z"
    },
    "papermill": {
     "duration": 0.066878,
     "end_time": "2022-07-28T01:11:44.266493",
     "exception": false,
     "start_time": "2022-07-28T01:11:44.199615",
     "status": "completed"
    },
    "tags": []
   },
   "outputs": [],
   "source": [
    "impute_mean = SimpleImputer(missing_values=np.nan, strategy=\"mean\", verbose=1)\n",
    "m = impute_mean.fit_transform(train[[\"Age\"]])\n",
    "# mt = impute_mean.transform(test[[\"Age\"]])\n",
    "\n",
    "train[\"Age\"] = impute_mean.fit_transform(train[[\"Age\"]])\n",
    "test[\"Age\"] = impute_mean.transform(test[[\"Age\"]])"
   ]
  },
  {
   "cell_type": "markdown",
   "id": "4fd9eddf",
   "metadata": {
    "papermill": {
     "duration": 0.028521,
     "end_time": "2022-07-28T01:11:44.324129",
     "exception": false,
     "start_time": "2022-07-28T01:11:44.295608",
     "status": "completed"
    },
    "tags": []
   },
   "source": [
    "### At this point we no longer have missing values"
   ]
  },
  {
   "cell_type": "code",
   "execution_count": 28,
   "id": "0fb7ef69",
   "metadata": {
    "execution": {
     "iopub.execute_input": "2022-07-28T01:11:44.382453Z",
     "iopub.status.busy": "2022-07-28T01:11:44.381987Z",
     "iopub.status.idle": "2022-07-28T01:11:44.394386Z",
     "shell.execute_reply": "2022-07-28T01:11:44.392502Z"
    },
    "papermill": {
     "duration": 0.044384,
     "end_time": "2022-07-28T01:11:44.397044",
     "exception": false,
     "start_time": "2022-07-28T01:11:44.352660",
     "status": "completed"
    },
    "tags": []
   },
   "outputs": [
    {
     "name": "stdout",
     "output_type": "stream",
     "text": [
      "Series([], dtype: int64)\n"
     ]
    }
   ],
   "source": [
    "show_missing_features(train)"
   ]
  },
  {
   "cell_type": "markdown",
   "id": "ab2a6bf8",
   "metadata": {
    "papermill": {
     "duration": 0.030099,
     "end_time": "2022-07-28T01:11:44.456980",
     "exception": false,
     "start_time": "2022-07-28T01:11:44.426881",
     "status": "completed"
    },
    "tags": []
   },
   "source": [
    "# Encoding Categorical Features\n",
    "\n",
    "Need to convert categorical features into numerical features.\n",
    "\n",
    "Several ways:\n",
    "- One-hot Encode\n",
    "- Label Encode"
   ]
  },
  {
   "cell_type": "markdown",
   "id": "ea3495ca",
   "metadata": {
    "papermill": {
     "duration": 0.030694,
     "end_time": "2022-07-28T01:11:44.515969",
     "exception": false,
     "start_time": "2022-07-28T01:11:44.485275",
     "status": "completed"
    },
    "tags": []
   },
   "source": [
    "### Encode `Embarked`\n",
    "\n",
    "First compare what the **drop_first=True** option does.  Some machine learning models require this option while others do not.  Logitistic regression requires us to drop the value."
   ]
  },
  {
   "cell_type": "code",
   "execution_count": 29,
   "id": "38ff2759",
   "metadata": {
    "execution": {
     "iopub.execute_input": "2022-07-28T01:11:44.573998Z",
     "iopub.status.busy": "2022-07-28T01:11:44.573429Z",
     "iopub.status.idle": "2022-07-28T01:11:44.599979Z",
     "shell.execute_reply": "2022-07-28T01:11:44.598989Z"
    },
    "papermill": {
     "duration": 0.057534,
     "end_time": "2022-07-28T01:11:44.602510",
     "exception": false,
     "start_time": "2022-07-28T01:11:44.544976",
     "status": "completed"
    },
    "tags": []
   },
   "outputs": [
    {
     "data": {
      "text/html": [
       "<div>\n",
       "<style scoped>\n",
       "    .dataframe tbody tr th:only-of-type {\n",
       "        vertical-align: middle;\n",
       "    }\n",
       "\n",
       "    .dataframe tbody tr th {\n",
       "        vertical-align: top;\n",
       "    }\n",
       "\n",
       "    .dataframe thead th {\n",
       "        text-align: right;\n",
       "    }\n",
       "</style>\n",
       "<table border=\"1\" class=\"dataframe\">\n",
       "  <thead>\n",
       "    <tr style=\"text-align: right;\">\n",
       "      <th></th>\n",
       "      <th>PassengerId</th>\n",
       "      <th>Survived</th>\n",
       "      <th>Pclass</th>\n",
       "      <th>Sex</th>\n",
       "      <th>Age</th>\n",
       "      <th>SibSp</th>\n",
       "      <th>Parch</th>\n",
       "      <th>Fare</th>\n",
       "      <th>Embarked</th>\n",
       "    </tr>\n",
       "  </thead>\n",
       "  <tbody>\n",
       "    <tr>\n",
       "      <th>0</th>\n",
       "      <td>1</td>\n",
       "      <td>0</td>\n",
       "      <td>3.0</td>\n",
       "      <td>1</td>\n",
       "      <td>22.0</td>\n",
       "      <td>1.0</td>\n",
       "      <td>0.0</td>\n",
       "      <td>7.2500</td>\n",
       "      <td>2</td>\n",
       "    </tr>\n",
       "    <tr>\n",
       "      <th>1</th>\n",
       "      <td>2</td>\n",
       "      <td>1</td>\n",
       "      <td>1.0</td>\n",
       "      <td>0</td>\n",
       "      <td>38.0</td>\n",
       "      <td>1.0</td>\n",
       "      <td>0.0</td>\n",
       "      <td>71.2833</td>\n",
       "      <td>0</td>\n",
       "    </tr>\n",
       "    <tr>\n",
       "      <th>2</th>\n",
       "      <td>3</td>\n",
       "      <td>1</td>\n",
       "      <td>3.0</td>\n",
       "      <td>0</td>\n",
       "      <td>26.0</td>\n",
       "      <td>0.0</td>\n",
       "      <td>0.0</td>\n",
       "      <td>7.9250</td>\n",
       "      <td>2</td>\n",
       "    </tr>\n",
       "    <tr>\n",
       "      <th>3</th>\n",
       "      <td>4</td>\n",
       "      <td>1</td>\n",
       "      <td>1.0</td>\n",
       "      <td>0</td>\n",
       "      <td>35.0</td>\n",
       "      <td>1.0</td>\n",
       "      <td>0.0</td>\n",
       "      <td>53.1000</td>\n",
       "      <td>2</td>\n",
       "    </tr>\n",
       "    <tr>\n",
       "      <th>4</th>\n",
       "      <td>5</td>\n",
       "      <td>0</td>\n",
       "      <td>3.0</td>\n",
       "      <td>1</td>\n",
       "      <td>35.0</td>\n",
       "      <td>0.0</td>\n",
       "      <td>0.0</td>\n",
       "      <td>8.0500</td>\n",
       "      <td>2</td>\n",
       "    </tr>\n",
       "  </tbody>\n",
       "</table>\n",
       "</div>"
      ],
      "text/plain": [
       "   PassengerId  Survived  Pclass  Sex   Age  SibSp  Parch     Fare  Embarked\n",
       "0            1         0     3.0    1  22.0    1.0    0.0   7.2500         2\n",
       "1            2         1     1.0    0  38.0    1.0    0.0  71.2833         0\n",
       "2            3         1     3.0    0  26.0    0.0    0.0   7.9250         2\n",
       "3            4         1     1.0    0  35.0    1.0    0.0  53.1000         2\n",
       "4            5         0     3.0    1  35.0    0.0    0.0   8.0500         2"
      ]
     },
     "execution_count": 29,
     "metadata": {},
     "output_type": "execute_result"
    }
   ],
   "source": [
    "train, test = label_encoder(train, test, [\"Embarked\", \"Sex\"])\n",
    "# X_test = pd.get_dummies(test[FEATURES], drop_first=True)\n",
    "\n",
    "train.head()"
   ]
  },
  {
   "cell_type": "markdown",
   "id": "be4c330a",
   "metadata": {
    "papermill": {
     "duration": 0.029048,
     "end_time": "2022-07-28T01:11:44.659948",
     "exception": false,
     "start_time": "2022-07-28T01:11:44.630900",
     "status": "completed"
    },
    "tags": []
   },
   "source": [
    "- [sklearn.linear_model.LogisticRegression](https://scikit-learn.org/stable/modules/generated/sklearn.linear_model.LogisticRegression.html)"
   ]
  },
  {
   "cell_type": "code",
   "execution_count": 30,
   "id": "7111431d",
   "metadata": {
    "execution": {
     "iopub.execute_input": "2022-07-28T01:11:44.719613Z",
     "iopub.status.busy": "2022-07-28T01:11:44.719202Z",
     "iopub.status.idle": "2022-07-28T01:11:44.725710Z",
     "shell.execute_reply": "2022-07-28T01:11:44.723877Z"
    },
    "papermill": {
     "duration": 0.039356,
     "end_time": "2022-07-28T01:11:44.728644",
     "exception": false,
     "start_time": "2022-07-28T01:11:44.689288",
     "status": "completed"
    },
    "tags": []
   },
   "outputs": [],
   "source": [
    "# y = train[TARGET]\n",
    "# X = train[FEATURES].copy()\n",
    "\n",
    "# X_test = test[FEATURES].copy()"
   ]
  },
  {
   "cell_type": "code",
   "execution_count": 31,
   "id": "294762ff",
   "metadata": {
    "execution": {
     "iopub.execute_input": "2022-07-28T01:11:44.787984Z",
     "iopub.status.busy": "2022-07-28T01:11:44.786494Z",
     "iopub.status.idle": "2022-07-28T01:11:44.806485Z",
     "shell.execute_reply": "2022-07-28T01:11:44.804842Z"
    },
    "papermill": {
     "duration": 0.052909,
     "end_time": "2022-07-28T01:11:44.810066",
     "exception": false,
     "start_time": "2022-07-28T01:11:44.757157",
     "status": "completed"
    },
    "tags": []
   },
   "outputs": [
    {
     "name": "stdout",
     "output_type": "stream",
     "text": [
      "TARGET=Survived, n_folds=5, seed=42\n"
     ]
    }
   ],
   "source": [
    "train = create_folds(train, TARGET, Config.N_FOLDS)"
   ]
  },
  {
   "cell_type": "code",
   "execution_count": 32,
   "id": "65137970",
   "metadata": {
    "execution": {
     "iopub.execute_input": "2022-07-28T01:11:44.872009Z",
     "iopub.status.busy": "2022-07-28T01:11:44.871606Z",
     "iopub.status.idle": "2022-07-28T01:11:44.894092Z",
     "shell.execute_reply": "2022-07-28T01:11:44.892860Z"
    },
    "papermill": {
     "duration": 0.057565,
     "end_time": "2022-07-28T01:11:44.897127",
     "exception": false,
     "start_time": "2022-07-28T01:11:44.839562",
     "status": "completed"
    },
    "tags": []
   },
   "outputs": [
    {
     "data": {
      "text/html": [
       "<div>\n",
       "<style scoped>\n",
       "    .dataframe tbody tr th:only-of-type {\n",
       "        vertical-align: middle;\n",
       "    }\n",
       "\n",
       "    .dataframe tbody tr th {\n",
       "        vertical-align: top;\n",
       "    }\n",
       "\n",
       "    .dataframe thead th {\n",
       "        text-align: right;\n",
       "    }\n",
       "</style>\n",
       "<table border=\"1\" class=\"dataframe\">\n",
       "  <thead>\n",
       "    <tr style=\"text-align: right;\">\n",
       "      <th></th>\n",
       "      <th>Survived</th>\n",
       "      <th>fold</th>\n",
       "    </tr>\n",
       "    <tr>\n",
       "      <th>PassengerId</th>\n",
       "      <th></th>\n",
       "      <th></th>\n",
       "    </tr>\n",
       "  </thead>\n",
       "  <tbody>\n",
       "    <tr>\n",
       "      <th>1</th>\n",
       "      <td>0</td>\n",
       "      <td>1</td>\n",
       "    </tr>\n",
       "    <tr>\n",
       "      <th>2</th>\n",
       "      <td>1</td>\n",
       "      <td>4</td>\n",
       "    </tr>\n",
       "    <tr>\n",
       "      <th>3</th>\n",
       "      <td>1</td>\n",
       "      <td>3</td>\n",
       "    </tr>\n",
       "    <tr>\n",
       "      <th>4</th>\n",
       "      <td>1</td>\n",
       "      <td>3</td>\n",
       "    </tr>\n",
       "    <tr>\n",
       "      <th>5</th>\n",
       "      <td>0</td>\n",
       "      <td>0</td>\n",
       "    </tr>\n",
       "  </tbody>\n",
       "</table>\n",
       "</div>"
      ],
      "text/plain": [
       "             Survived  fold\n",
       "PassengerId                \n",
       "1                   0     1\n",
       "2                   1     4\n",
       "3                   1     3\n",
       "4                   1     3\n",
       "5                   0     0"
      ]
     },
     "execution_count": 32,
     "metadata": {},
     "output_type": "execute_result"
    }
   ],
   "source": [
    "submission_df = test[[\"PassengerId\"]].copy()\n",
    "oof = train[[\"PassengerId\", TARGET, \"fold\"]].copy().reset_index(drop=True).copy()\n",
    "oof.set_index(\"PassengerId\", inplace=True)\n",
    "oof.head()"
   ]
  },
  {
   "cell_type": "code",
   "execution_count": 33,
   "id": "c77ade87",
   "metadata": {
    "execution": {
     "iopub.execute_input": "2022-07-28T01:11:44.955798Z",
     "iopub.status.busy": "2022-07-28T01:11:44.955389Z",
     "iopub.status.idle": "2022-07-28T01:11:44.961326Z",
     "shell.execute_reply": "2022-07-28T01:11:44.959950Z"
    },
    "papermill": {
     "duration": 0.038301,
     "end_time": "2022-07-28T01:11:44.964793",
     "exception": false,
     "start_time": "2022-07-28T01:11:44.926492",
     "status": "completed"
    },
    "tags": []
   },
   "outputs": [],
   "source": [
    "# oof = train[[\"PassengerId\", TARGET, \"fold\"]].set_index(\"PassengerId\")\n",
    "# oof.head()"
   ]
  },
  {
   "cell_type": "markdown",
   "id": "ef28ee40",
   "metadata": {
    "execution": {
     "iopub.execute_input": "2022-01-20T17:32:12.023204Z",
     "iopub.status.busy": "2022-01-20T17:32:12.022346Z",
     "iopub.status.idle": "2022-01-20T17:32:12.027226Z",
     "shell.execute_reply": "2022-01-20T17:32:12.026176Z",
     "shell.execute_reply.started": "2022-01-20T17:32:12.023164Z"
    },
    "papermill": {
     "duration": 0.028769,
     "end_time": "2022-07-28T01:11:45.023259",
     "exception": false,
     "start_time": "2022-07-28T01:11:44.994490",
     "status": "completed"
    },
    "tags": []
   },
   "source": [
    "## Train Model"
   ]
  },
  {
   "cell_type": "markdown",
   "id": "97f2af34",
   "metadata": {
    "papermill": {
     "duration": 0.027547,
     "end_time": "2022-07-28T01:11:45.082244",
     "exception": false,
     "start_time": "2022-07-28T01:11:45.054697",
     "status": "completed"
    },
    "tags": []
   },
   "source": [
    "<div style=\"background-color:rgba(255, 215, 0, 0.6);border-radius:5px;display:fill\"><h1 style=\"text-align: center;padding: 12px 0px 12px 0px;\">Train Model with Cross Validation</h1>\n",
    "</div>\n",
    "\n",
    "Four out five folds will be used for training. The fifth will be used for validation\n",
    "\n",
    "Each fold will have a turn at being the validation fold\n",
    "\n",
    "After each time through the loop\n"
   ]
  },
  {
   "cell_type": "code",
   "execution_count": null,
   "id": "a4e36f83",
   "metadata": {
    "papermill": {
     "duration": 0.028791,
     "end_time": "2022-07-28T01:11:45.142479",
     "exception": false,
     "start_time": "2022-07-28T01:11:45.113688",
     "status": "completed"
    },
    "tags": []
   },
   "outputs": [],
   "source": []
  },
  {
   "cell_type": "code",
   "execution_count": 34,
   "id": "91e0c4f5",
   "metadata": {
    "execution": {
     "iopub.execute_input": "2022-07-28T01:11:45.209068Z",
     "iopub.status.busy": "2022-07-28T01:11:45.208612Z",
     "iopub.status.idle": "2022-07-28T01:11:45.277614Z",
     "shell.execute_reply": "2022-07-28T01:11:45.276619Z"
    },
    "papermill": {
     "duration": 0.106338,
     "end_time": "2022-07-28T01:11:45.280472",
     "exception": false,
     "start_time": "2022-07-28T01:11:45.174134",
     "status": "completed"
    },
    "tags": []
   },
   "outputs": [],
   "source": [
    "def train_xgb_model(\n",
    "    df,\n",
    "    test,\n",
    "    get_model_fn,\n",
    "    FEATURES,\n",
    "    TARGET,\n",
    "    calc_probability,\n",
    "    rowid,\n",
    "    params,\n",
    "    n_folds=5,\n",
    "    seed=42,\n",
    "):\n",
    "\n",
    "    final_test_predictions = []\n",
    "    final_valid_predictions = {}\n",
    "    fold_scores = []  # Scores of Validation Set\n",
    "    feature_importance_lst = []\n",
    "\n",
    "    test = test[FEATURES].copy()\n",
    "\n",
    "    # oof_preds = np.zeros((df.shape[0],)) # Zero array\n",
    "    # print(f\"oof_preds size={df.shape[0]}\")\n",
    "    #     print(\n",
    "    #         f\"\\n===== XGBoost Estimators: {params['n_estimators']}, Random State: {seed} =====\"\n",
    "    #     )\n",
    "\n",
    "    for fold in range(n_folds):\n",
    "        print(10 * \"=\", f\"Fold {fold+1}/{n_folds}\", 10 * \"=\")\n",
    "\n",
    "        start_time = time.time()\n",
    "\n",
    "        xtrain = df[df.fold != fold].reset_index(\n",
    "            drop=True\n",
    "        )  # Everything not in validation fold\n",
    "        xvalid = df[df.fold == fold].reset_index(drop=True)\n",
    "        xtest = test.copy()\n",
    "\n",
    "        valid_ids = (\n",
    "            xvalid.PassengerId.values.tolist()\n",
    "        )  # Id's of everything in validation fold\n",
    "\n",
    "        ytrain = xtrain[TARGET]\n",
    "        yvalid = xvalid[TARGET]\n",
    "\n",
    "        xtrain = xtrain[FEATURES]\n",
    "        xvalid = xvalid[FEATURES]\n",
    "        xtrain.head()\n",
    "        #         print(f\"{yvalid}\")\n",
    "        model = get_model_fn()\n",
    "\n",
    "        model.fit(\n",
    "            xtrain,\n",
    "            ytrain,\n",
    "            eval_set=[(xvalid, yvalid)],\n",
    "            #             eval_metric=\"acc\",  # auc\n",
    "            verbose=False,\n",
    "            #             early_stopping_rounds=3000,\n",
    "            #             callbacks=[\n",
    "            #                 xgb.log_evaluation(0),\n",
    "            #                 xgb.early_stopping(500, False, True),\n",
    "            #             ],\n",
    "        )\n",
    "\n",
    "        # Mean of the predictions\n",
    "        #         preds_valid = model.predict(xvalid)\n",
    "        #         test_preds = model.predict(xtest)\n",
    "        if calc_probability:\n",
    "            preds_valid = model.predict_proba(xvalid)[:, 1]\n",
    "            test_preds = model.predict_proba(xtest)[:, 1]\n",
    "        else:\n",
    "            preds_valid = model.predict(xvalid)\n",
    "            test_preds = model.predict(xtest)\n",
    "\n",
    "        preds_valid_class = model.predict(xvalid)\n",
    "\n",
    "        final_test_predictions.append(test_preds)\n",
    "        final_valid_predictions.update(dict(zip(valid_ids, preds_valid)))\n",
    "\n",
    "        fold_score = accuracy_score(yvalid, preds_valid_class)  # Validation Set Score\n",
    "        #         fold_score = roc_auc_score(yvalid, preds_valid)  # Validation Set Score\n",
    "\n",
    "        fold_scores.append(fold_score)\n",
    "\n",
    "        # Feature importance\n",
    "        fi = pd.DataFrame(\n",
    "            index=FEATURES,\n",
    "            data=model.feature_importances_,\n",
    "            columns=[f\"{fold}_importance\"],\n",
    "        )\n",
    "        feature_importance_lst.append(fi)\n",
    "\n",
    "        run_time = time.time() - start_time\n",
    "\n",
    "        print(f\"fold: {fold+1}, Accuracy: {fold_score}, Run Time: {run_time:.2f}\")\n",
    "\n",
    "    return (\n",
    "        model,\n",
    "        feature_importance_lst,\n",
    "        fold_scores,\n",
    "        final_valid_predictions,\n",
    "        final_test_predictions,\n",
    "    )"
   ]
  },
  {
   "cell_type": "code",
   "execution_count": 35,
   "id": "edc7a100",
   "metadata": {
    "execution": {
     "iopub.execute_input": "2022-07-28T01:11:45.340574Z",
     "iopub.status.busy": "2022-07-28T01:11:45.339735Z",
     "iopub.status.idle": "2022-07-28T01:11:45.357148Z",
     "shell.execute_reply": "2022-07-28T01:11:45.356113Z"
    },
    "papermill": {
     "duration": 0.049241,
     "end_time": "2022-07-28T01:11:45.359678",
     "exception": false,
     "start_time": "2022-07-28T01:11:45.310437",
     "status": "completed"
    },
    "tags": []
   },
   "outputs": [],
   "source": [
    "xgb_params = {\n",
    "    \"enable_categorical\": True,\n",
    "    \"objective\": \"binary:logistic\",\n",
    "    \"eval_metric\": \"logloss\",  # auc\n",
    "    \"n_estimators\": Config.N_ESTIMATORS,\n",
    "    \"learning_rate\": 0.021138659045230178,\n",
    "    \"subsample\": 0.4,\n",
    "    \"colsample_bytree\": 0.91,\n",
    "    \"max_depth\": 17,\n",
    "    \"gamma\": 0.6000000000000001,\n",
    "    \"booster\": \"gbtree\",\n",
    "    \"tree_method\": \"hist\",\n",
    "    \"reg_lambda\": 0.005882742898970815,\n",
    "    \"reg_alpha\": 0.0014501578157205654,\n",
    "    \"random_state\": 42,\n",
    "    \"n_jobs\": 4,\n",
    "    \"min_child_weight\": 5.567082153821453,\n",
    "}"
   ]
  },
  {
   "cell_type": "code",
   "execution_count": 36,
   "id": "4cbfe9b5",
   "metadata": {
    "execution": {
     "iopub.execute_input": "2022-07-28T01:11:45.417253Z",
     "iopub.status.busy": "2022-07-28T01:11:45.416170Z",
     "iopub.status.idle": "2022-07-28T01:11:45.425152Z",
     "shell.execute_reply": "2022-07-28T01:11:45.424067Z"
    },
    "papermill": {
     "duration": 0.041464,
     "end_time": "2022-07-28T01:11:45.427774",
     "exception": false,
     "start_time": "2022-07-28T01:11:45.386310",
     "status": "completed"
    },
    "tags": []
   },
   "outputs": [],
   "source": [
    "def get_xgb_clf_model():\n",
    "    #     model = xgb.XGBClassifier(n_estimators=1000)\n",
    "    model = xgb.XGBClassifier(**xgb_params)\n",
    "    return model"
   ]
  },
  {
   "cell_type": "code",
   "execution_count": 37,
   "id": "7edb32f5",
   "metadata": {
    "execution": {
     "iopub.execute_input": "2022-07-28T01:11:45.484190Z",
     "iopub.status.busy": "2022-07-28T01:11:45.483788Z",
     "iopub.status.idle": "2022-07-28T01:11:45.505947Z",
     "shell.execute_reply": "2022-07-28T01:11:45.504596Z"
    },
    "papermill": {
     "duration": 0.054277,
     "end_time": "2022-07-28T01:11:45.508580",
     "exception": false,
     "start_time": "2022-07-28T01:11:45.454303",
     "status": "completed"
    },
    "tags": []
   },
   "outputs": [],
   "source": [
    "# https://lightgbm.readthedocs.io/en/latest/Parameters.html\n",
    "\n",
    "lgbm_params = {\n",
    "    \"n_estimators\": Config.N_ESTIMATORS,\n",
    "    #     \"device_type\": \"gpu\",\n",
    "    #     \"objective\": \"multiclass\",\n",
    "    #     \"metric\": \"multi_logloss\",\n",
    "    \"objective\": \"binary\",\n",
    "    \"metric\": \"accuracy\",  # auc\n",
    "    \"lambda_l1\": 0.009130931198077825,\n",
    "    \"lambda_l2\": 3.530680683338868e-05,\n",
    "    #     \"reg_alpha\": 0.009130931198077825,\n",
    "    #     \"reg_lambda\": 3.530680683338868e-05,\n",
    "    \"num_leaves\": 430,\n",
    "    \"importance_type\": \"split\",\n",
    "    #     \"learning_rate\": 0.029330486500731102,\n",
    "    \"learning_rate\": 0.1,\n",
    "    \"feature_fraction\": 0.8757445736567416,\n",
    "    \"bagging_fraction\": 0.9989307214277753,\n",
    "    \"bagging_freq\": 10,\n",
    "    \"min_child_samples\": 20,\n",
    "    \"random_state\": 42,\n",
    "    \"n_jobs\": -1,\n",
    "}\n",
    "if Config.gpu:\n",
    "    lgbm_params[\"device_type\"] = \"gpu\""
   ]
  },
  {
   "cell_type": "code",
   "execution_count": 38,
   "id": "d65a0253",
   "metadata": {
    "execution": {
     "iopub.execute_input": "2022-07-28T01:11:45.563791Z",
     "iopub.status.busy": "2022-07-28T01:11:45.563381Z",
     "iopub.status.idle": "2022-07-28T01:11:45.572331Z",
     "shell.execute_reply": "2022-07-28T01:11:45.571144Z"
    },
    "papermill": {
     "duration": 0.039686,
     "end_time": "2022-07-28T01:11:45.574837",
     "exception": false,
     "start_time": "2022-07-28T01:11:45.535151",
     "status": "completed"
    },
    "tags": []
   },
   "outputs": [],
   "source": [
    "def get_lgbm_clf_model():\n",
    "    model = lgb.LGBMClassifier(**lgbm_params)\n",
    "    return model"
   ]
  },
  {
   "cell_type": "code",
   "execution_count": 39,
   "id": "6d6a644f",
   "metadata": {
    "execution": {
     "iopub.execute_input": "2022-07-28T01:11:45.631070Z",
     "iopub.status.busy": "2022-07-28T01:11:45.629856Z",
     "iopub.status.idle": "2022-07-28T01:13:24.947328Z",
     "shell.execute_reply": "2022-07-28T01:13:24.945683Z"
    },
    "papermill": {
     "duration": 99.348343,
     "end_time": "2022-07-28T01:13:24.950081",
     "exception": false,
     "start_time": "2022-07-28T01:11:45.601738",
     "status": "completed"
    },
    "tags": []
   },
   "outputs": [
    {
     "name": "stdout",
     "output_type": "stream",
     "text": [
      "========== Fold 1/5 ==========\n",
      "fold: 1, Accuracy: 0.8659217877094972, Run Time: 19.62\n",
      "========== Fold 2/5 ==========\n",
      "fold: 2, Accuracy: 0.8258426966292135, Run Time: 20.95\n",
      "========== Fold 3/5 ==========\n",
      "fold: 3, Accuracy: 0.7921348314606742, Run Time: 20.60\n",
      "========== Fold 4/5 ==========\n",
      "fold: 4, Accuracy: 0.8033707865168539, Run Time: 18.77\n",
      "========== Fold 5/5 ==========\n",
      "fold: 5, Accuracy: 0.8426966292134831, Run Time: 19.35\n"
     ]
    }
   ],
   "source": [
    "(\n",
    "    model,\n",
    "    feature_importance_lst,\n",
    "    fold_scores,\n",
    "    final_valid_predictions,\n",
    "    final_test_predictions,\n",
    ") = train_xgb_model(\n",
    "    train,\n",
    "    test,\n",
    "    get_xgb_clf_model,\n",
    "    FEATURES,\n",
    "    TARGET,\n",
    "    Config.calc_probability,\n",
    "    \"PassengerId\",\n",
    "    xgb_params,\n",
    "    Config.N_FOLDS,\n",
    "    Config.seed,\n",
    ")"
   ]
  },
  {
   "cell_type": "markdown",
   "id": "74b3a76c",
   "metadata": {
    "papermill": {
     "duration": 0.028708,
     "end_time": "2022-07-28T01:13:25.006246",
     "exception": false,
     "start_time": "2022-07-28T01:13:24.977538",
     "status": "completed"
    },
    "tags": []
   },
   "source": [
    "<div style=\"background-color:rgba(255, 215, 0, 0.6);border-radius:5px;display:fill\"><h1 style=\"text-align: center;padding: 12px 0px 12px 0px;\">Scores</h1>\n",
    "</div>\n",
    "\n",
    "CV, or Cross Validation, Score.\n",
    "\n",
    "We average the means and the standard deviations.\n",
    "\n",
    "The Adjusted Score is the average of the means minus the average of standard deviation. Do this to attempt to get one number to evaluate the score when comparing different models."
   ]
  },
  {
   "cell_type": "code",
   "execution_count": 40,
   "id": "02e34143",
   "metadata": {
    "execution": {
     "iopub.execute_input": "2022-07-28T01:13:25.063761Z",
     "iopub.status.busy": "2022-07-28T01:13:25.062778Z",
     "iopub.status.idle": "2022-07-28T01:13:25.069876Z",
     "shell.execute_reply": "2022-07-28T01:13:25.068494Z"
    },
    "papermill": {
     "duration": 0.038769,
     "end_time": "2022-07-28T01:13:25.072441",
     "exception": false,
     "start_time": "2022-07-28T01:13:25.033672",
     "status": "completed"
    },
    "tags": []
   },
   "outputs": [
    {
     "name": "stdout",
     "output_type": "stream",
     "text": [
      "Scores -> Adjusted: 0.79941711 , mean: 0.82599335, std: 0.02657624\n"
     ]
    }
   ],
   "source": [
    "show_fold_scores(fold_scores)"
   ]
  },
  {
   "cell_type": "code",
   "execution_count": 41,
   "id": "56100281",
   "metadata": {
    "execution": {
     "iopub.execute_input": "2022-07-28T01:13:25.141729Z",
     "iopub.status.busy": "2022-07-28T01:13:25.140521Z",
     "iopub.status.idle": "2022-07-28T01:13:25.145455Z",
     "shell.execute_reply": "2022-07-28T01:13:25.144654Z"
    },
    "papermill": {
     "duration": 0.041694,
     "end_time": "2022-07-28T01:13:25.147739",
     "exception": false,
     "start_time": "2022-07-28T01:13:25.106045",
     "status": "completed"
    },
    "tags": []
   },
   "outputs": [],
   "source": [
    "# final_valid_predictions"
   ]
  },
  {
   "cell_type": "code",
   "execution_count": 42,
   "id": "c9c81e1f",
   "metadata": {
    "execution": {
     "iopub.execute_input": "2022-07-28T01:13:25.216830Z",
     "iopub.status.busy": "2022-07-28T01:13:25.215743Z",
     "iopub.status.idle": "2022-07-28T01:13:25.240214Z",
     "shell.execute_reply": "2022-07-28T01:13:25.239035Z"
    },
    "papermill": {
     "duration": 0.061424,
     "end_time": "2022-07-28T01:13:25.242784",
     "exception": false,
     "start_time": "2022-07-28T01:13:25.181360",
     "status": "completed"
    },
    "tags": []
   },
   "outputs": [],
   "source": [
    "final_valid_predictions_df = pd.DataFrame.from_dict(\n",
    "    final_valid_predictions, orient=\"index\"\n",
    ").reset_index()\n",
    "final_valid_predictions_df.columns = [\"id\", \"pred_xgb1\"]\n",
    "final_valid_predictions_df.set_index(\"id\", inplace=True)\n",
    "final_valid_predictions_df.sort_index(inplace=True)  # .head(20)  # head(100)\n",
    "final_valid_predictions_df.to_csv(\"train_pred_xgb1.csv\", index=False)"
   ]
  },
  {
   "cell_type": "code",
   "execution_count": 43,
   "id": "95aec93d",
   "metadata": {
    "execution": {
     "iopub.execute_input": "2022-07-28T01:13:25.298700Z",
     "iopub.status.busy": "2022-07-28T01:13:25.298291Z",
     "iopub.status.idle": "2022-07-28T01:13:25.309271Z",
     "shell.execute_reply": "2022-07-28T01:13:25.308346Z"
    },
    "papermill": {
     "duration": 0.041511,
     "end_time": "2022-07-28T01:13:25.311407",
     "exception": false,
     "start_time": "2022-07-28T01:13:25.269896",
     "status": "completed"
    },
    "tags": []
   },
   "outputs": [
    {
     "data": {
      "text/html": [
       "<div>\n",
       "<style scoped>\n",
       "    .dataframe tbody tr th:only-of-type {\n",
       "        vertical-align: middle;\n",
       "    }\n",
       "\n",
       "    .dataframe tbody tr th {\n",
       "        vertical-align: top;\n",
       "    }\n",
       "\n",
       "    .dataframe thead th {\n",
       "        text-align: right;\n",
       "    }\n",
       "</style>\n",
       "<table border=\"1\" class=\"dataframe\">\n",
       "  <thead>\n",
       "    <tr style=\"text-align: right;\">\n",
       "      <th></th>\n",
       "      <th>pred_xgb1</th>\n",
       "    </tr>\n",
       "    <tr>\n",
       "      <th>id</th>\n",
       "      <th></th>\n",
       "    </tr>\n",
       "  </thead>\n",
       "  <tbody>\n",
       "    <tr>\n",
       "      <th>1</th>\n",
       "      <td>0.058896</td>\n",
       "    </tr>\n",
       "    <tr>\n",
       "      <th>2</th>\n",
       "      <td>0.988556</td>\n",
       "    </tr>\n",
       "    <tr>\n",
       "      <th>3</th>\n",
       "      <td>0.642813</td>\n",
       "    </tr>\n",
       "    <tr>\n",
       "      <th>4</th>\n",
       "      <td>0.998058</td>\n",
       "    </tr>\n",
       "    <tr>\n",
       "      <th>5</th>\n",
       "      <td>0.163119</td>\n",
       "    </tr>\n",
       "  </tbody>\n",
       "</table>\n",
       "</div>"
      ],
      "text/plain": [
       "    pred_xgb1\n",
       "id           \n",
       "1    0.058896\n",
       "2    0.988556\n",
       "3    0.642813\n",
       "4    0.998058\n",
       "5    0.163119"
      ]
     },
     "execution_count": 43,
     "metadata": {},
     "output_type": "execute_result"
    }
   ],
   "source": [
    "# final_valid_predictions_df.set_index(\"id\", inplace=True)\n",
    "final_valid_predictions_df.head()"
   ]
  },
  {
   "cell_type": "code",
   "execution_count": 44,
   "id": "18bff1a6",
   "metadata": {
    "execution": {
     "iopub.execute_input": "2022-07-28T01:13:25.368518Z",
     "iopub.status.busy": "2022-07-28T01:13:25.367469Z",
     "iopub.status.idle": "2022-07-28T01:13:25.381582Z",
     "shell.execute_reply": "2022-07-28T01:13:25.380668Z"
    },
    "papermill": {
     "duration": 0.045592,
     "end_time": "2022-07-28T01:13:25.384288",
     "exception": false,
     "start_time": "2022-07-28T01:13:25.338696",
     "status": "completed"
    },
    "tags": []
   },
   "outputs": [
    {
     "data": {
      "text/html": [
       "<div>\n",
       "<style scoped>\n",
       "    .dataframe tbody tr th:only-of-type {\n",
       "        vertical-align: middle;\n",
       "    }\n",
       "\n",
       "    .dataframe tbody tr th {\n",
       "        vertical-align: top;\n",
       "    }\n",
       "\n",
       "    .dataframe thead th {\n",
       "        text-align: right;\n",
       "    }\n",
       "</style>\n",
       "<table border=\"1\" class=\"dataframe\">\n",
       "  <thead>\n",
       "    <tr style=\"text-align: right;\">\n",
       "      <th></th>\n",
       "      <th>Survived</th>\n",
       "      <th>fold</th>\n",
       "      <th>pred_xgb1</th>\n",
       "    </tr>\n",
       "    <tr>\n",
       "      <th>PassengerId</th>\n",
       "      <th></th>\n",
       "      <th></th>\n",
       "      <th></th>\n",
       "    </tr>\n",
       "  </thead>\n",
       "  <tbody>\n",
       "    <tr>\n",
       "      <th>1</th>\n",
       "      <td>0</td>\n",
       "      <td>1</td>\n",
       "      <td>0.058896</td>\n",
       "    </tr>\n",
       "    <tr>\n",
       "      <th>2</th>\n",
       "      <td>1</td>\n",
       "      <td>4</td>\n",
       "      <td>0.988556</td>\n",
       "    </tr>\n",
       "    <tr>\n",
       "      <th>3</th>\n",
       "      <td>1</td>\n",
       "      <td>3</td>\n",
       "      <td>0.642813</td>\n",
       "    </tr>\n",
       "    <tr>\n",
       "      <th>4</th>\n",
       "      <td>1</td>\n",
       "      <td>3</td>\n",
       "      <td>0.998058</td>\n",
       "    </tr>\n",
       "    <tr>\n",
       "      <th>5</th>\n",
       "      <td>0</td>\n",
       "      <td>0</td>\n",
       "      <td>0.163119</td>\n",
       "    </tr>\n",
       "  </tbody>\n",
       "</table>\n",
       "</div>"
      ],
      "text/plain": [
       "             Survived  fold  pred_xgb1\n",
       "PassengerId                           \n",
       "1                   0     1   0.058896\n",
       "2                   1     4   0.988556\n",
       "3                   1     3   0.642813\n",
       "4                   1     3   0.998058\n",
       "5                   0     0   0.163119"
      ]
     },
     "execution_count": 44,
     "metadata": {},
     "output_type": "execute_result"
    }
   ],
   "source": [
    "oof[\"pred_xgb1\"] = final_valid_predictions_df[\"pred_xgb1\"]\n",
    "oof.head()"
   ]
  },
  {
   "cell_type": "code",
   "execution_count": 45,
   "id": "f0868cd4",
   "metadata": {
    "execution": {
     "iopub.execute_input": "2022-07-28T01:13:25.441166Z",
     "iopub.status.busy": "2022-07-28T01:13:25.440746Z",
     "iopub.status.idle": "2022-07-28T01:13:25.462000Z",
     "shell.execute_reply": "2022-07-28T01:13:25.460556Z"
    },
    "papermill": {
     "duration": 0.052829,
     "end_time": "2022-07-28T01:13:25.464608",
     "exception": false,
     "start_time": "2022-07-28T01:13:25.411779",
     "status": "completed"
    },
    "tags": []
   },
   "outputs": [
    {
     "name": "stdout",
     "output_type": "stream",
     "text": [
      "Mean\n"
     ]
    },
    {
     "data": {
      "text/plain": [
       "array([0.05694786, 0.1334971 , 0.04289696, 0.34051475, 0.41546088,\n",
       "       0.18136656, 0.56030864, 0.08341026, 0.73889196, 0.00407112,\n",
       "       0.01332417, 0.0779133 , 0.93242043, 0.03342528, 0.97902966,\n",
       "       0.9126965 , 0.23217289, 0.14292091, 0.8624336 , 0.2864476 ],\n",
       "      dtype=float32)"
      ]
     },
     "execution_count": 45,
     "metadata": {},
     "output_type": "execute_result"
    }
   ],
   "source": [
    "from scipy.stats import mode\n",
    "\n",
    "if Config.calc_probability:\n",
    "    print(\"Mean\")\n",
    "    result = np.mean(np.column_stack(final_test_predictions), axis=1)\n",
    "#     result = np.rint(m).astype(int)\n",
    "#     display(result)\n",
    "else:\n",
    "    print(\"Mode\")\n",
    "    mode_result = mode(np.column_stack(final_test_predictions), axis=1)\n",
    "    result = mode_result[0].ravel()\n",
    "\n",
    "result[:20]"
   ]
  },
  {
   "cell_type": "code",
   "execution_count": 46,
   "id": "46613a48",
   "metadata": {
    "execution": {
     "iopub.execute_input": "2022-07-28T01:13:25.522267Z",
     "iopub.status.busy": "2022-07-28T01:13:25.521510Z",
     "iopub.status.idle": "2022-07-28T01:13:25.534744Z",
     "shell.execute_reply": "2022-07-28T01:13:25.533901Z"
    },
    "papermill": {
     "duration": 0.044959,
     "end_time": "2022-07-28T01:13:25.537152",
     "exception": false,
     "start_time": "2022-07-28T01:13:25.492193",
     "status": "completed"
    },
    "tags": []
   },
   "outputs": [
    {
     "data": {
      "text/html": [
       "<div>\n",
       "<style scoped>\n",
       "    .dataframe tbody tr th:only-of-type {\n",
       "        vertical-align: middle;\n",
       "    }\n",
       "\n",
       "    .dataframe tbody tr th {\n",
       "        vertical-align: top;\n",
       "    }\n",
       "\n",
       "    .dataframe thead th {\n",
       "        text-align: right;\n",
       "    }\n",
       "</style>\n",
       "<table border=\"1\" class=\"dataframe\">\n",
       "  <thead>\n",
       "    <tr style=\"text-align: right;\">\n",
       "      <th></th>\n",
       "      <th>PassengerId</th>\n",
       "      <th>target_xgb1</th>\n",
       "    </tr>\n",
       "  </thead>\n",
       "  <tbody>\n",
       "    <tr>\n",
       "      <th>0</th>\n",
       "      <td>892</td>\n",
       "      <td>0.056948</td>\n",
       "    </tr>\n",
       "    <tr>\n",
       "      <th>1</th>\n",
       "      <td>893</td>\n",
       "      <td>0.133497</td>\n",
       "    </tr>\n",
       "    <tr>\n",
       "      <th>2</th>\n",
       "      <td>894</td>\n",
       "      <td>0.042897</td>\n",
       "    </tr>\n",
       "    <tr>\n",
       "      <th>3</th>\n",
       "      <td>895</td>\n",
       "      <td>0.340515</td>\n",
       "    </tr>\n",
       "    <tr>\n",
       "      <th>4</th>\n",
       "      <td>896</td>\n",
       "      <td>0.415461</td>\n",
       "    </tr>\n",
       "    <tr>\n",
       "      <th>5</th>\n",
       "      <td>897</td>\n",
       "      <td>0.181367</td>\n",
       "    </tr>\n",
       "    <tr>\n",
       "      <th>6</th>\n",
       "      <td>898</td>\n",
       "      <td>0.560309</td>\n",
       "    </tr>\n",
       "    <tr>\n",
       "      <th>7</th>\n",
       "      <td>899</td>\n",
       "      <td>0.083410</td>\n",
       "    </tr>\n",
       "    <tr>\n",
       "      <th>8</th>\n",
       "      <td>900</td>\n",
       "      <td>0.738892</td>\n",
       "    </tr>\n",
       "    <tr>\n",
       "      <th>9</th>\n",
       "      <td>901</td>\n",
       "      <td>0.004071</td>\n",
       "    </tr>\n",
       "  </tbody>\n",
       "</table>\n",
       "</div>"
      ],
      "text/plain": [
       "   PassengerId  target_xgb1\n",
       "0          892     0.056948\n",
       "1          893     0.133497\n",
       "2          894     0.042897\n",
       "3          895     0.340515\n",
       "4          896     0.415461\n",
       "5          897     0.181367\n",
       "6          898     0.560309\n",
       "7          899     0.083410\n",
       "8          900     0.738892\n",
       "9          901     0.004071"
      ]
     },
     "execution_count": 46,
     "metadata": {},
     "output_type": "execute_result"
    }
   ],
   "source": [
    "# submission_df[\"target_xgb1\"] = np.mean(np.column_stack(final_test_predictions), axis=1)\n",
    "submission_df[\"target_xgb1\"] = result\n",
    "submission_df.head(10)"
   ]
  },
  {
   "cell_type": "code",
   "execution_count": 47,
   "id": "90232da6",
   "metadata": {
    "execution": {
     "iopub.execute_input": "2022-07-28T01:13:25.596274Z",
     "iopub.status.busy": "2022-07-28T01:13:25.595496Z",
     "iopub.status.idle": "2022-07-28T01:13:25.619089Z",
     "shell.execute_reply": "2022-07-28T01:13:25.618034Z"
    },
    "papermill": {
     "duration": 0.055383,
     "end_time": "2022-07-28T01:13:25.621676",
     "exception": false,
     "start_time": "2022-07-28T01:13:25.566293",
     "status": "completed"
    },
    "tags": []
   },
   "outputs": [
    {
     "data": {
      "text/html": [
       "<div>\n",
       "<style scoped>\n",
       "    .dataframe tbody tr th:only-of-type {\n",
       "        vertical-align: middle;\n",
       "    }\n",
       "\n",
       "    .dataframe tbody tr th {\n",
       "        vertical-align: top;\n",
       "    }\n",
       "\n",
       "    .dataframe thead th {\n",
       "        text-align: right;\n",
       "    }\n",
       "</style>\n",
       "<table border=\"1\" class=\"dataframe\">\n",
       "  <thead>\n",
       "    <tr style=\"text-align: right;\">\n",
       "      <th></th>\n",
       "      <th>PassengerId</th>\n",
       "      <th>Survived</th>\n",
       "    </tr>\n",
       "  </thead>\n",
       "  <tbody>\n",
       "    <tr>\n",
       "      <th>0</th>\n",
       "      <td>892</td>\n",
       "      <td>0.056948</td>\n",
       "    </tr>\n",
       "    <tr>\n",
       "      <th>1</th>\n",
       "      <td>893</td>\n",
       "      <td>0.133497</td>\n",
       "    </tr>\n",
       "    <tr>\n",
       "      <th>2</th>\n",
       "      <td>894</td>\n",
       "      <td>0.042897</td>\n",
       "    </tr>\n",
       "    <tr>\n",
       "      <th>3</th>\n",
       "      <td>895</td>\n",
       "      <td>0.340515</td>\n",
       "    </tr>\n",
       "    <tr>\n",
       "      <th>4</th>\n",
       "      <td>896</td>\n",
       "      <td>0.415461</td>\n",
       "    </tr>\n",
       "    <tr>\n",
       "      <th>...</th>\n",
       "      <td>...</td>\n",
       "      <td>...</td>\n",
       "    </tr>\n",
       "    <tr>\n",
       "      <th>413</th>\n",
       "      <td>1305</td>\n",
       "      <td>0.053827</td>\n",
       "    </tr>\n",
       "    <tr>\n",
       "      <th>414</th>\n",
       "      <td>1306</td>\n",
       "      <td>0.986300</td>\n",
       "    </tr>\n",
       "    <tr>\n",
       "      <th>415</th>\n",
       "      <td>1307</td>\n",
       "      <td>0.016881</td>\n",
       "    </tr>\n",
       "    <tr>\n",
       "      <th>416</th>\n",
       "      <td>1308</td>\n",
       "      <td>0.053827</td>\n",
       "    </tr>\n",
       "    <tr>\n",
       "      <th>417</th>\n",
       "      <td>1309</td>\n",
       "      <td>0.483202</td>\n",
       "    </tr>\n",
       "  </tbody>\n",
       "</table>\n",
       "<p>418 rows × 2 columns</p>\n",
       "</div>"
      ],
      "text/plain": [
       "     PassengerId  Survived\n",
       "0            892  0.056948\n",
       "1            893  0.133497\n",
       "2            894  0.042897\n",
       "3            895  0.340515\n",
       "4            896  0.415461\n",
       "..           ...       ...\n",
       "413         1305  0.053827\n",
       "414         1306  0.986300\n",
       "415         1307  0.016881\n",
       "416         1308  0.053827\n",
       "417         1309  0.483202\n",
       "\n",
       "[418 rows x 2 columns]"
      ]
     },
     "execution_count": 47,
     "metadata": {},
     "output_type": "execute_result"
    }
   ],
   "source": [
    "ss = (\n",
    "    submission_df[[\"PassengerId\", \"target_xgb1\"]].copy().reset_index(drop=True)\n",
    ")  # [np.rint(sample_submission[\"target_lgbm1\"]).astype(int)\n",
    "ss.rename(columns={\"target_xgb1\": \"Survived\"}, inplace=True)\n",
    "ss"
   ]
  },
  {
   "cell_type": "code",
   "execution_count": 48,
   "id": "a283e2e2",
   "metadata": {
    "execution": {
     "iopub.execute_input": "2022-07-28T01:13:25.681110Z",
     "iopub.status.busy": "2022-07-28T01:13:25.680359Z",
     "iopub.status.idle": "2022-07-28T01:13:25.699123Z",
     "shell.execute_reply": "2022-07-28T01:13:25.697996Z"
    },
    "papermill": {
     "duration": 0.051865,
     "end_time": "2022-07-28T01:13:25.701634",
     "exception": false,
     "start_time": "2022-07-28T01:13:25.649769",
     "status": "completed"
    },
    "tags": []
   },
   "outputs": [
    {
     "data": {
      "text/html": [
       "<div>\n",
       "<style scoped>\n",
       "    .dataframe tbody tr th:only-of-type {\n",
       "        vertical-align: middle;\n",
       "    }\n",
       "\n",
       "    .dataframe tbody tr th {\n",
       "        vertical-align: top;\n",
       "    }\n",
       "\n",
       "    .dataframe thead th {\n",
       "        text-align: right;\n",
       "    }\n",
       "</style>\n",
       "<table border=\"1\" class=\"dataframe\">\n",
       "  <thead>\n",
       "    <tr style=\"text-align: right;\">\n",
       "      <th></th>\n",
       "      <th>PassengerId</th>\n",
       "      <th>Survived</th>\n",
       "    </tr>\n",
       "  </thead>\n",
       "  <tbody>\n",
       "    <tr>\n",
       "      <th>0</th>\n",
       "      <td>892</td>\n",
       "      <td>0</td>\n",
       "    </tr>\n",
       "    <tr>\n",
       "      <th>1</th>\n",
       "      <td>893</td>\n",
       "      <td>0</td>\n",
       "    </tr>\n",
       "    <tr>\n",
       "      <th>2</th>\n",
       "      <td>894</td>\n",
       "      <td>0</td>\n",
       "    </tr>\n",
       "    <tr>\n",
       "      <th>3</th>\n",
       "      <td>895</td>\n",
       "      <td>0</td>\n",
       "    </tr>\n",
       "    <tr>\n",
       "      <th>4</th>\n",
       "      <td>896</td>\n",
       "      <td>0</td>\n",
       "    </tr>\n",
       "    <tr>\n",
       "      <th>5</th>\n",
       "      <td>897</td>\n",
       "      <td>0</td>\n",
       "    </tr>\n",
       "    <tr>\n",
       "      <th>6</th>\n",
       "      <td>898</td>\n",
       "      <td>1</td>\n",
       "    </tr>\n",
       "    <tr>\n",
       "      <th>7</th>\n",
       "      <td>899</td>\n",
       "      <td>0</td>\n",
       "    </tr>\n",
       "    <tr>\n",
       "      <th>8</th>\n",
       "      <td>900</td>\n",
       "      <td>1</td>\n",
       "    </tr>\n",
       "    <tr>\n",
       "      <th>9</th>\n",
       "      <td>901</td>\n",
       "      <td>0</td>\n",
       "    </tr>\n",
       "  </tbody>\n",
       "</table>\n",
       "</div>"
      ],
      "text/plain": [
       "   PassengerId  Survived\n",
       "0          892         0\n",
       "1          893         0\n",
       "2          894         0\n",
       "3          895         0\n",
       "4          896         0\n",
       "5          897         0\n",
       "6          898         1\n",
       "7          899         0\n",
       "8          900         1\n",
       "9          901         0"
      ]
     },
     "execution_count": 48,
     "metadata": {},
     "output_type": "execute_result"
    }
   ],
   "source": [
    "ss[TARGET] = np.rint(ss[TARGET]).astype(int)\n",
    "ss.to_csv(\"submission_xgb1.csv\", index=False)\n",
    "ss.head(10)"
   ]
  },
  {
   "cell_type": "markdown",
   "id": "59309fda",
   "metadata": {
    "papermill": {
     "duration": 0.03126,
     "end_time": "2022-07-28T01:13:25.761492",
     "exception": false,
     "start_time": "2022-07-28T01:13:25.730232",
     "status": "completed"
    },
    "tags": []
   },
   "source": [
    "## LGBM Model"
   ]
  },
  {
   "cell_type": "code",
   "execution_count": 49,
   "id": "86bfb3f9",
   "metadata": {
    "execution": {
     "iopub.execute_input": "2022-07-28T01:13:25.829601Z",
     "iopub.status.busy": "2022-07-28T01:13:25.828509Z",
     "iopub.status.idle": "2022-07-28T01:13:39.427175Z",
     "shell.execute_reply": "2022-07-28T01:13:39.425081Z"
    },
    "papermill": {
     "duration": 13.634037,
     "end_time": "2022-07-28T01:13:39.430022",
     "exception": false,
     "start_time": "2022-07-28T01:13:25.795985",
     "status": "completed"
    },
    "tags": []
   },
   "outputs": [
    {
     "name": "stdout",
     "output_type": "stream",
     "text": [
      "========== Fold 1/5 ==========\n",
      "[LightGBM] [Warning] lambda_l1 is set=0.009130931198077825, reg_alpha=0.0 will be ignored. Current value: lambda_l1=0.009130931198077825\n",
      "[LightGBM] [Warning] bagging_fraction is set=0.9989307214277753, subsample=1.0 will be ignored. Current value: bagging_fraction=0.9989307214277753\n",
      "[LightGBM] [Warning] feature_fraction is set=0.8757445736567416, colsample_bytree=1.0 will be ignored. Current value: feature_fraction=0.8757445736567416\n",
      "[LightGBM] [Warning] bagging_freq is set=10, subsample_freq=0 will be ignored. Current value: bagging_freq=10\n",
      "[LightGBM] [Warning] lambda_l2 is set=3.530680683338868e-05, reg_lambda=0.0 will be ignored. Current value: lambda_l2=3.530680683338868e-05\n"
     ]
    },
    {
     "name": "stderr",
     "output_type": "stream",
     "text": [
      "/opt/conda/lib/python3.7/site-packages/lightgbm/sklearn.py:736: UserWarning: 'verbose' argument is deprecated and will be removed in a future release of LightGBM. Pass 'log_evaluation()' callback via 'callbacks' argument instead.\n",
      "  _log_warning(\"'verbose' argument is deprecated and will be removed in a future release of LightGBM. \"\n"
     ]
    },
    {
     "name": "stdout",
     "output_type": "stream",
     "text": [
      "fold: 1, Accuracy: 0.8324022346368715, Run Time: 2.71\n",
      "========== Fold 2/5 ==========\n",
      "[LightGBM] [Warning] lambda_l1 is set=0.009130931198077825, reg_alpha=0.0 will be ignored. Current value: lambda_l1=0.009130931198077825\n",
      "[LightGBM] [Warning] bagging_fraction is set=0.9989307214277753, subsample=1.0 will be ignored. Current value: bagging_fraction=0.9989307214277753\n",
      "[LightGBM] [Warning] feature_fraction is set=0.8757445736567416, colsample_bytree=1.0 will be ignored. Current value: feature_fraction=0.8757445736567416\n",
      "[LightGBM] [Warning] bagging_freq is set=10, subsample_freq=0 will be ignored. Current value: bagging_freq=10\n",
      "[LightGBM] [Warning] lambda_l2 is set=3.530680683338868e-05, reg_lambda=0.0 will be ignored. Current value: lambda_l2=3.530680683338868e-05\n"
     ]
    },
    {
     "name": "stderr",
     "output_type": "stream",
     "text": [
      "/opt/conda/lib/python3.7/site-packages/lightgbm/sklearn.py:736: UserWarning: 'verbose' argument is deprecated and will be removed in a future release of LightGBM. Pass 'log_evaluation()' callback via 'callbacks' argument instead.\n",
      "  _log_warning(\"'verbose' argument is deprecated and will be removed in a future release of LightGBM. \"\n"
     ]
    },
    {
     "name": "stdout",
     "output_type": "stream",
     "text": [
      "fold: 2, Accuracy: 0.8089887640449438, Run Time: 2.73\n",
      "========== Fold 3/5 ==========\n",
      "[LightGBM] [Warning] lambda_l1 is set=0.009130931198077825, reg_alpha=0.0 will be ignored. Current value: lambda_l1=0.009130931198077825\n",
      "[LightGBM] [Warning] bagging_fraction is set=0.9989307214277753, subsample=1.0 will be ignored. Current value: bagging_fraction=0.9989307214277753\n",
      "[LightGBM] [Warning] feature_fraction is set=0.8757445736567416, colsample_bytree=1.0 will be ignored. Current value: feature_fraction=0.8757445736567416\n",
      "[LightGBM] [Warning] bagging_freq is set=10, subsample_freq=0 will be ignored. Current value: bagging_freq=10\n",
      "[LightGBM] [Warning] lambda_l2 is set=3.530680683338868e-05, reg_lambda=0.0 will be ignored. Current value: lambda_l2=3.530680683338868e-05\n"
     ]
    },
    {
     "name": "stderr",
     "output_type": "stream",
     "text": [
      "/opt/conda/lib/python3.7/site-packages/lightgbm/sklearn.py:736: UserWarning: 'verbose' argument is deprecated and will be removed in a future release of LightGBM. Pass 'log_evaluation()' callback via 'callbacks' argument instead.\n",
      "  _log_warning(\"'verbose' argument is deprecated and will be removed in a future release of LightGBM. \"\n"
     ]
    },
    {
     "name": "stdout",
     "output_type": "stream",
     "text": [
      "fold: 3, Accuracy: 0.7696629213483146, Run Time: 2.66\n",
      "========== Fold 4/5 ==========\n",
      "[LightGBM] [Warning] lambda_l1 is set=0.009130931198077825, reg_alpha=0.0 will be ignored. Current value: lambda_l1=0.009130931198077825\n",
      "[LightGBM] [Warning] bagging_fraction is set=0.9989307214277753, subsample=1.0 will be ignored. Current value: bagging_fraction=0.9989307214277753\n",
      "[LightGBM] [Warning] feature_fraction is set=0.8757445736567416, colsample_bytree=1.0 will be ignored. Current value: feature_fraction=0.8757445736567416\n",
      "[LightGBM] [Warning] bagging_freq is set=10, subsample_freq=0 will be ignored. Current value: bagging_freq=10\n",
      "[LightGBM] [Warning] lambda_l2 is set=3.530680683338868e-05, reg_lambda=0.0 will be ignored. Current value: lambda_l2=3.530680683338868e-05\n"
     ]
    },
    {
     "name": "stderr",
     "output_type": "stream",
     "text": [
      "/opt/conda/lib/python3.7/site-packages/lightgbm/sklearn.py:736: UserWarning: 'verbose' argument is deprecated and will be removed in a future release of LightGBM. Pass 'log_evaluation()' callback via 'callbacks' argument instead.\n",
      "  _log_warning(\"'verbose' argument is deprecated and will be removed in a future release of LightGBM. \"\n"
     ]
    },
    {
     "name": "stdout",
     "output_type": "stream",
     "text": [
      "fold: 4, Accuracy: 0.797752808988764, Run Time: 2.57\n",
      "========== Fold 5/5 ==========\n",
      "[LightGBM] [Warning] lambda_l1 is set=0.009130931198077825, reg_alpha=0.0 will be ignored. Current value: lambda_l1=0.009130931198077825\n",
      "[LightGBM] [Warning] bagging_fraction is set=0.9989307214277753, subsample=1.0 will be ignored. Current value: bagging_fraction=0.9989307214277753\n",
      "[LightGBM] [Warning] feature_fraction is set=0.8757445736567416, colsample_bytree=1.0 will be ignored. Current value: feature_fraction=0.8757445736567416\n",
      "[LightGBM] [Warning] bagging_freq is set=10, subsample_freq=0 will be ignored. Current value: bagging_freq=10\n",
      "[LightGBM] [Warning] lambda_l2 is set=3.530680683338868e-05, reg_lambda=0.0 will be ignored. Current value: lambda_l2=3.530680683338868e-05\n"
     ]
    },
    {
     "name": "stderr",
     "output_type": "stream",
     "text": [
      "/opt/conda/lib/python3.7/site-packages/lightgbm/sklearn.py:736: UserWarning: 'verbose' argument is deprecated and will be removed in a future release of LightGBM. Pass 'log_evaluation()' callback via 'callbacks' argument instead.\n",
      "  _log_warning(\"'verbose' argument is deprecated and will be removed in a future release of LightGBM. \"\n"
     ]
    },
    {
     "name": "stdout",
     "output_type": "stream",
     "text": [
      "fold: 5, Accuracy: 0.8033707865168539, Run Time: 2.91\n"
     ]
    }
   ],
   "source": [
    "(\n",
    "    model,\n",
    "    feature_importance_lst,\n",
    "    fold_scores,\n",
    "    final_valid_predictions,\n",
    "    final_test_predictions,\n",
    ") = train_xgb_model(\n",
    "    train,\n",
    "    test,\n",
    "    get_lgbm_clf_model,\n",
    "    FEATURES,\n",
    "    TARGET,\n",
    "    Config.calc_probability,\n",
    "    \"PassengerId\",\n",
    "    lgbm_params,\n",
    "    Config.N_FOLDS,\n",
    "    Config.seed,\n",
    ")"
   ]
  },
  {
   "cell_type": "code",
   "execution_count": 50,
   "id": "c543d080",
   "metadata": {
    "execution": {
     "iopub.execute_input": "2022-07-28T01:13:39.491444Z",
     "iopub.status.busy": "2022-07-28T01:13:39.491061Z",
     "iopub.status.idle": "2022-07-28T01:13:39.497853Z",
     "shell.execute_reply": "2022-07-28T01:13:39.496690Z"
    },
    "papermill": {
     "duration": 0.041211,
     "end_time": "2022-07-28T01:13:39.500352",
     "exception": false,
     "start_time": "2022-07-28T01:13:39.459141",
     "status": "completed"
    },
    "tags": []
   },
   "outputs": [
    {
     "name": "stdout",
     "output_type": "stream",
     "text": [
      "Scores -> Adjusted: 0.78224741 , mean: 0.80243550, std: 0.02018809\n"
     ]
    }
   ],
   "source": [
    "show_fold_scores(fold_scores)"
   ]
  },
  {
   "cell_type": "markdown",
   "id": "0bbcdcee",
   "metadata": {
    "papermill": {
     "duration": 0.028298,
     "end_time": "2022-07-28T01:13:39.557033",
     "exception": false,
     "start_time": "2022-07-28T01:13:39.528735",
     "status": "completed"
    },
    "tags": []
   },
   "source": [
    "<div style=\"background-color:rgba(255, 215, 0, 0.6);border-radius:5px;display:fill\"><h1 style=\"text-align: center;padding: 12px 0px 12px 0px;\">Save OOF Predictions</h1>\n",
    "</div>\n",
    "\n",
    "This is unused for this example but needed later for [Blending](https://towardsdatascience.com/ensemble-learning-stacking-blending-voting-b37737c4f483).\n",
    "\n",
    "**General idea**: The values will be use to create new features in a blended model.\n",
    "\n",
    "- [Stacking and Blending — An Intuitive ExplanationStacking and Blending — An Intuitive Explanation](https://medium.com/@stevenyu530_73989/stacking-and-blending-intuitive-explanation-of-advanced-ensemble-methods-46b295da413chttps://medium.com/@stevenyu530_73989/stacking-and-blending-intuitive-explanation-of-advanced-ensemble-methods-46b295da413c)"
   ]
  },
  {
   "cell_type": "code",
   "execution_count": 51,
   "id": "5c24dafe",
   "metadata": {
    "execution": {
     "iopub.execute_input": "2022-07-28T01:13:39.616657Z",
     "iopub.status.busy": "2022-07-28T01:13:39.615919Z",
     "iopub.status.idle": "2022-07-28T01:13:39.620960Z",
     "shell.execute_reply": "2022-07-28T01:13:39.620141Z"
    },
    "papermill": {
     "duration": 0.037476,
     "end_time": "2022-07-28T01:13:39.623112",
     "exception": false,
     "start_time": "2022-07-28T01:13:39.585636",
     "status": "completed"
    },
    "tags": []
   },
   "outputs": [],
   "source": [
    "# final_valid_predictions"
   ]
  },
  {
   "cell_type": "code",
   "execution_count": 52,
   "id": "fa5ec0a7",
   "metadata": {
    "execution": {
     "iopub.execute_input": "2022-07-28T01:13:39.683030Z",
     "iopub.status.busy": "2022-07-28T01:13:39.682385Z",
     "iopub.status.idle": "2022-07-28T01:13:39.839770Z",
     "shell.execute_reply": "2022-07-28T01:13:39.838519Z"
    },
    "papermill": {
     "duration": 0.19056,
     "end_time": "2022-07-28T01:13:39.842460",
     "exception": false,
     "start_time": "2022-07-28T01:13:39.651900",
     "status": "completed"
    },
    "tags": []
   },
   "outputs": [],
   "source": [
    "final_valid_predictions_df = pd.DataFrame.from_dict(\n",
    "    final_valid_predictions, orient=\"index\"\n",
    ").reset_index()\n",
    "final_valid_predictions_df.columns = [\"id\", \"pred_lgbm1\"]\n",
    "final_valid_predictions_df.set_index(\"id\", inplace=True)\n",
    "final_valid_predictions_df.sort_index(inplace=True)\n",
    "final_valid_predictions_df.to_csv(\"train_pred_lgbm1.csv\", index=False)"
   ]
  },
  {
   "cell_type": "code",
   "execution_count": 53,
   "id": "c8d7e038",
   "metadata": {
    "execution": {
     "iopub.execute_input": "2022-07-28T01:13:39.902193Z",
     "iopub.status.busy": "2022-07-28T01:13:39.901842Z",
     "iopub.status.idle": "2022-07-28T01:13:39.913368Z",
     "shell.execute_reply": "2022-07-28T01:13:39.912275Z"
    },
    "papermill": {
     "duration": 0.043967,
     "end_time": "2022-07-28T01:13:39.915333",
     "exception": false,
     "start_time": "2022-07-28T01:13:39.871366",
     "status": "completed"
    },
    "tags": []
   },
   "outputs": [
    {
     "data": {
      "text/html": [
       "<div>\n",
       "<style scoped>\n",
       "    .dataframe tbody tr th:only-of-type {\n",
       "        vertical-align: middle;\n",
       "    }\n",
       "\n",
       "    .dataframe tbody tr th {\n",
       "        vertical-align: top;\n",
       "    }\n",
       "\n",
       "    .dataframe thead th {\n",
       "        text-align: right;\n",
       "    }\n",
       "</style>\n",
       "<table border=\"1\" class=\"dataframe\">\n",
       "  <thead>\n",
       "    <tr style=\"text-align: right;\">\n",
       "      <th></th>\n",
       "      <th>pred_lgbm1</th>\n",
       "    </tr>\n",
       "    <tr>\n",
       "      <th>id</th>\n",
       "      <th></th>\n",
       "    </tr>\n",
       "  </thead>\n",
       "  <tbody>\n",
       "    <tr>\n",
       "      <th>1</th>\n",
       "      <td>0.000578</td>\n",
       "    </tr>\n",
       "    <tr>\n",
       "      <th>2</th>\n",
       "      <td>0.999999</td>\n",
       "    </tr>\n",
       "    <tr>\n",
       "      <th>3</th>\n",
       "      <td>0.031318</td>\n",
       "    </tr>\n",
       "    <tr>\n",
       "      <th>4</th>\n",
       "      <td>1.000000</td>\n",
       "    </tr>\n",
       "    <tr>\n",
       "      <th>5</th>\n",
       "      <td>0.000009</td>\n",
       "    </tr>\n",
       "  </tbody>\n",
       "</table>\n",
       "</div>"
      ],
      "text/plain": [
       "    pred_lgbm1\n",
       "id            \n",
       "1     0.000578\n",
       "2     0.999999\n",
       "3     0.031318\n",
       "4     1.000000\n",
       "5     0.000009"
      ]
     },
     "execution_count": 53,
     "metadata": {},
     "output_type": "execute_result"
    }
   ],
   "source": [
    "final_valid_predictions_df.head()"
   ]
  },
  {
   "cell_type": "code",
   "execution_count": 54,
   "id": "7c38825e",
   "metadata": {
    "execution": {
     "iopub.execute_input": "2022-07-28T01:13:39.976126Z",
     "iopub.status.busy": "2022-07-28T01:13:39.975129Z",
     "iopub.status.idle": "2022-07-28T01:13:39.996335Z",
     "shell.execute_reply": "2022-07-28T01:13:39.995559Z"
    },
    "papermill": {
     "duration": 0.053857,
     "end_time": "2022-07-28T01:13:39.998551",
     "exception": false,
     "start_time": "2022-07-28T01:13:39.944694",
     "status": "completed"
    },
    "tags": []
   },
   "outputs": [
    {
     "data": {
      "text/html": [
       "<div>\n",
       "<style scoped>\n",
       "    .dataframe tbody tr th:only-of-type {\n",
       "        vertical-align: middle;\n",
       "    }\n",
       "\n",
       "    .dataframe tbody tr th {\n",
       "        vertical-align: top;\n",
       "    }\n",
       "\n",
       "    .dataframe thead th {\n",
       "        text-align: right;\n",
       "    }\n",
       "</style>\n",
       "<table border=\"1\" class=\"dataframe\">\n",
       "  <thead>\n",
       "    <tr style=\"text-align: right;\">\n",
       "      <th></th>\n",
       "      <th>PassengerId</th>\n",
       "      <th>Survived</th>\n",
       "      <th>Pclass</th>\n",
       "      <th>Sex</th>\n",
       "      <th>Age</th>\n",
       "      <th>SibSp</th>\n",
       "      <th>Parch</th>\n",
       "      <th>Fare</th>\n",
       "      <th>Embarked</th>\n",
       "      <th>fold</th>\n",
       "    </tr>\n",
       "  </thead>\n",
       "  <tbody>\n",
       "    <tr>\n",
       "      <th>0</th>\n",
       "      <td>1</td>\n",
       "      <td>0</td>\n",
       "      <td>3.0</td>\n",
       "      <td>1</td>\n",
       "      <td>22.0</td>\n",
       "      <td>1.0</td>\n",
       "      <td>0.0</td>\n",
       "      <td>7.2500</td>\n",
       "      <td>2</td>\n",
       "      <td>1</td>\n",
       "    </tr>\n",
       "    <tr>\n",
       "      <th>1</th>\n",
       "      <td>2</td>\n",
       "      <td>1</td>\n",
       "      <td>1.0</td>\n",
       "      <td>0</td>\n",
       "      <td>38.0</td>\n",
       "      <td>1.0</td>\n",
       "      <td>0.0</td>\n",
       "      <td>71.2833</td>\n",
       "      <td>0</td>\n",
       "      <td>4</td>\n",
       "    </tr>\n",
       "    <tr>\n",
       "      <th>2</th>\n",
       "      <td>3</td>\n",
       "      <td>1</td>\n",
       "      <td>3.0</td>\n",
       "      <td>0</td>\n",
       "      <td>26.0</td>\n",
       "      <td>0.0</td>\n",
       "      <td>0.0</td>\n",
       "      <td>7.9250</td>\n",
       "      <td>2</td>\n",
       "      <td>3</td>\n",
       "    </tr>\n",
       "    <tr>\n",
       "      <th>3</th>\n",
       "      <td>4</td>\n",
       "      <td>1</td>\n",
       "      <td>1.0</td>\n",
       "      <td>0</td>\n",
       "      <td>35.0</td>\n",
       "      <td>1.0</td>\n",
       "      <td>0.0</td>\n",
       "      <td>53.1000</td>\n",
       "      <td>2</td>\n",
       "      <td>3</td>\n",
       "    </tr>\n",
       "    <tr>\n",
       "      <th>4</th>\n",
       "      <td>5</td>\n",
       "      <td>0</td>\n",
       "      <td>3.0</td>\n",
       "      <td>1</td>\n",
       "      <td>35.0</td>\n",
       "      <td>0.0</td>\n",
       "      <td>0.0</td>\n",
       "      <td>8.0500</td>\n",
       "      <td>2</td>\n",
       "      <td>0</td>\n",
       "    </tr>\n",
       "    <tr>\n",
       "      <th>5</th>\n",
       "      <td>6</td>\n",
       "      <td>0</td>\n",
       "      <td>3.0</td>\n",
       "      <td>1</td>\n",
       "      <td>28.0</td>\n",
       "      <td>0.0</td>\n",
       "      <td>0.0</td>\n",
       "      <td>8.4583</td>\n",
       "      <td>1</td>\n",
       "      <td>4</td>\n",
       "    </tr>\n",
       "    <tr>\n",
       "      <th>6</th>\n",
       "      <td>7</td>\n",
       "      <td>0</td>\n",
       "      <td>1.0</td>\n",
       "      <td>1</td>\n",
       "      <td>54.0</td>\n",
       "      <td>0.0</td>\n",
       "      <td>0.0</td>\n",
       "      <td>51.8625</td>\n",
       "      <td>2</td>\n",
       "      <td>0</td>\n",
       "    </tr>\n",
       "    <tr>\n",
       "      <th>7</th>\n",
       "      <td>8</td>\n",
       "      <td>0</td>\n",
       "      <td>3.0</td>\n",
       "      <td>1</td>\n",
       "      <td>2.0</td>\n",
       "      <td>3.0</td>\n",
       "      <td>1.0</td>\n",
       "      <td>21.0750</td>\n",
       "      <td>2</td>\n",
       "      <td>4</td>\n",
       "    </tr>\n",
       "    <tr>\n",
       "      <th>8</th>\n",
       "      <td>9</td>\n",
       "      <td>1</td>\n",
       "      <td>3.0</td>\n",
       "      <td>0</td>\n",
       "      <td>27.0</td>\n",
       "      <td>0.0</td>\n",
       "      <td>2.0</td>\n",
       "      <td>11.1333</td>\n",
       "      <td>2</td>\n",
       "      <td>4</td>\n",
       "    </tr>\n",
       "    <tr>\n",
       "      <th>9</th>\n",
       "      <td>10</td>\n",
       "      <td>1</td>\n",
       "      <td>2.0</td>\n",
       "      <td>0</td>\n",
       "      <td>14.0</td>\n",
       "      <td>1.0</td>\n",
       "      <td>0.0</td>\n",
       "      <td>30.0708</td>\n",
       "      <td>0</td>\n",
       "      <td>3</td>\n",
       "    </tr>\n",
       "  </tbody>\n",
       "</table>\n",
       "</div>"
      ],
      "text/plain": [
       "   PassengerId  Survived  Pclass  Sex   Age  SibSp  Parch     Fare  Embarked  \\\n",
       "0            1         0     3.0    1  22.0    1.0    0.0   7.2500         2   \n",
       "1            2         1     1.0    0  38.0    1.0    0.0  71.2833         0   \n",
       "2            3         1     3.0    0  26.0    0.0    0.0   7.9250         2   \n",
       "3            4         1     1.0    0  35.0    1.0    0.0  53.1000         2   \n",
       "4            5         0     3.0    1  35.0    0.0    0.0   8.0500         2   \n",
       "5            6         0     3.0    1  28.0    0.0    0.0   8.4583         1   \n",
       "6            7         0     1.0    1  54.0    0.0    0.0  51.8625         2   \n",
       "7            8         0     3.0    1   2.0    3.0    1.0  21.0750         2   \n",
       "8            9         1     3.0    0  27.0    0.0    2.0  11.1333         2   \n",
       "9           10         1     2.0    0  14.0    1.0    0.0  30.0708         0   \n",
       "\n",
       "   fold  \n",
       "0     1  \n",
       "1     4  \n",
       "2     3  \n",
       "3     3  \n",
       "4     0  \n",
       "5     4  \n",
       "6     0  \n",
       "7     4  \n",
       "8     4  \n",
       "9     3  "
      ]
     },
     "execution_count": 54,
     "metadata": {},
     "output_type": "execute_result"
    }
   ],
   "source": [
    "train.head(10)"
   ]
  },
  {
   "cell_type": "code",
   "execution_count": 55,
   "id": "112e0776",
   "metadata": {
    "execution": {
     "iopub.execute_input": "2022-07-28T01:13:40.060290Z",
     "iopub.status.busy": "2022-07-28T01:13:40.059649Z",
     "iopub.status.idle": "2022-07-28T01:13:40.074456Z",
     "shell.execute_reply": "2022-07-28T01:13:40.073719Z"
    },
    "papermill": {
     "duration": 0.047924,
     "end_time": "2022-07-28T01:13:40.076615",
     "exception": false,
     "start_time": "2022-07-28T01:13:40.028691",
     "status": "completed"
    },
    "tags": []
   },
   "outputs": [
    {
     "data": {
      "text/html": [
       "<div>\n",
       "<style scoped>\n",
       "    .dataframe tbody tr th:only-of-type {\n",
       "        vertical-align: middle;\n",
       "    }\n",
       "\n",
       "    .dataframe tbody tr th {\n",
       "        vertical-align: top;\n",
       "    }\n",
       "\n",
       "    .dataframe thead th {\n",
       "        text-align: right;\n",
       "    }\n",
       "</style>\n",
       "<table border=\"1\" class=\"dataframe\">\n",
       "  <thead>\n",
       "    <tr style=\"text-align: right;\">\n",
       "      <th></th>\n",
       "      <th>Survived</th>\n",
       "      <th>fold</th>\n",
       "      <th>pred_xgb1</th>\n",
       "      <th>pred_lgbm1</th>\n",
       "    </tr>\n",
       "    <tr>\n",
       "      <th>PassengerId</th>\n",
       "      <th></th>\n",
       "      <th></th>\n",
       "      <th></th>\n",
       "      <th></th>\n",
       "    </tr>\n",
       "  </thead>\n",
       "  <tbody>\n",
       "    <tr>\n",
       "      <th>1</th>\n",
       "      <td>0</td>\n",
       "      <td>1</td>\n",
       "      <td>0.058896</td>\n",
       "      <td>0.000578</td>\n",
       "    </tr>\n",
       "    <tr>\n",
       "      <th>2</th>\n",
       "      <td>1</td>\n",
       "      <td>4</td>\n",
       "      <td>0.988556</td>\n",
       "      <td>0.999999</td>\n",
       "    </tr>\n",
       "    <tr>\n",
       "      <th>3</th>\n",
       "      <td>1</td>\n",
       "      <td>3</td>\n",
       "      <td>0.642813</td>\n",
       "      <td>0.031318</td>\n",
       "    </tr>\n",
       "    <tr>\n",
       "      <th>4</th>\n",
       "      <td>1</td>\n",
       "      <td>3</td>\n",
       "      <td>0.998058</td>\n",
       "      <td>1.000000</td>\n",
       "    </tr>\n",
       "    <tr>\n",
       "      <th>5</th>\n",
       "      <td>0</td>\n",
       "      <td>0</td>\n",
       "      <td>0.163119</td>\n",
       "      <td>0.000009</td>\n",
       "    </tr>\n",
       "  </tbody>\n",
       "</table>\n",
       "</div>"
      ],
      "text/plain": [
       "             Survived  fold  pred_xgb1  pred_lgbm1\n",
       "PassengerId                                       \n",
       "1                   0     1   0.058896    0.000578\n",
       "2                   1     4   0.988556    0.999999\n",
       "3                   1     3   0.642813    0.031318\n",
       "4                   1     3   0.998058    1.000000\n",
       "5                   0     0   0.163119    0.000009"
      ]
     },
     "execution_count": 55,
     "metadata": {},
     "output_type": "execute_result"
    }
   ],
   "source": [
    "oof[\"pred_lgbm1\"] = final_valid_predictions_df[\"pred_lgbm1\"]\n",
    "oof.head()"
   ]
  },
  {
   "cell_type": "code",
   "execution_count": 56,
   "id": "0d1e9de8",
   "metadata": {
    "execution": {
     "iopub.execute_input": "2022-07-28T01:13:40.137574Z",
     "iopub.status.busy": "2022-07-28T01:13:40.136973Z",
     "iopub.status.idle": "2022-07-28T01:13:40.158255Z",
     "shell.execute_reply": "2022-07-28T01:13:40.157150Z"
    },
    "papermill": {
     "duration": 0.054707,
     "end_time": "2022-07-28T01:13:40.160712",
     "exception": false,
     "start_time": "2022-07-28T01:13:40.106005",
     "status": "completed"
    },
    "tags": []
   },
   "outputs": [
    {
     "name": "stdout",
     "output_type": "stream",
     "text": [
      "Mean\n"
     ]
    },
    {
     "data": {
      "text/plain": [
       "array([1.17383674e-02, 9.30104007e-04, 6.03364262e-01, 7.93310428e-01,\n",
       "       3.10568962e-01, 2.02799162e-02, 3.86147546e-03, 3.97459571e-04,\n",
       "       9.99657319e-01, 9.49576304e-06, 3.07740271e-06, 1.81684175e-04,\n",
       "       9.99990020e-01, 1.53473128e-05, 9.97289885e-01, 9.99021703e-01,\n",
       "       1.20891212e-03, 5.21279428e-01, 9.73517627e-01, 2.93805774e-01])"
      ]
     },
     "execution_count": 56,
     "metadata": {},
     "output_type": "execute_result"
    }
   ],
   "source": [
    "from scipy.stats import mode\n",
    "\n",
    "if Config.calc_probability:\n",
    "    print(\"Mean\")\n",
    "    result = np.mean(np.column_stack(final_test_predictions), axis=1)\n",
    "#     result = np.rint(m).astype(int)\n",
    "#     display(result)\n",
    "else:\n",
    "    print(\"Mode\")\n",
    "    mode_result = mode(np.column_stack(final_test_predictions), axis=1)\n",
    "    result = mode_result[0].ravel()\n",
    "\n",
    "result[:20]"
   ]
  },
  {
   "cell_type": "code",
   "execution_count": 57,
   "id": "d09da4a9",
   "metadata": {
    "execution": {
     "iopub.execute_input": "2022-07-28T01:13:40.223852Z",
     "iopub.status.busy": "2022-07-28T01:13:40.222907Z",
     "iopub.status.idle": "2022-07-28T01:13:40.237505Z",
     "shell.execute_reply": "2022-07-28T01:13:40.236690Z"
    },
    "papermill": {
     "duration": 0.048422,
     "end_time": "2022-07-28T01:13:40.239872",
     "exception": false,
     "start_time": "2022-07-28T01:13:40.191450",
     "status": "completed"
    },
    "tags": []
   },
   "outputs": [
    {
     "data": {
      "text/html": [
       "<div>\n",
       "<style scoped>\n",
       "    .dataframe tbody tr th:only-of-type {\n",
       "        vertical-align: middle;\n",
       "    }\n",
       "\n",
       "    .dataframe tbody tr th {\n",
       "        vertical-align: top;\n",
       "    }\n",
       "\n",
       "    .dataframe thead th {\n",
       "        text-align: right;\n",
       "    }\n",
       "</style>\n",
       "<table border=\"1\" class=\"dataframe\">\n",
       "  <thead>\n",
       "    <tr style=\"text-align: right;\">\n",
       "      <th></th>\n",
       "      <th>PassengerId</th>\n",
       "      <th>target_xgb1</th>\n",
       "      <th>target_lgbm1</th>\n",
       "    </tr>\n",
       "  </thead>\n",
       "  <tbody>\n",
       "    <tr>\n",
       "      <th>0</th>\n",
       "      <td>892</td>\n",
       "      <td>0.056948</td>\n",
       "      <td>0.011738</td>\n",
       "    </tr>\n",
       "    <tr>\n",
       "      <th>1</th>\n",
       "      <td>893</td>\n",
       "      <td>0.133497</td>\n",
       "      <td>0.000930</td>\n",
       "    </tr>\n",
       "    <tr>\n",
       "      <th>2</th>\n",
       "      <td>894</td>\n",
       "      <td>0.042897</td>\n",
       "      <td>0.603364</td>\n",
       "    </tr>\n",
       "    <tr>\n",
       "      <th>3</th>\n",
       "      <td>895</td>\n",
       "      <td>0.340515</td>\n",
       "      <td>0.793310</td>\n",
       "    </tr>\n",
       "    <tr>\n",
       "      <th>4</th>\n",
       "      <td>896</td>\n",
       "      <td>0.415461</td>\n",
       "      <td>0.310569</td>\n",
       "    </tr>\n",
       "    <tr>\n",
       "      <th>5</th>\n",
       "      <td>897</td>\n",
       "      <td>0.181367</td>\n",
       "      <td>0.020280</td>\n",
       "    </tr>\n",
       "    <tr>\n",
       "      <th>6</th>\n",
       "      <td>898</td>\n",
       "      <td>0.560309</td>\n",
       "      <td>0.003861</td>\n",
       "    </tr>\n",
       "    <tr>\n",
       "      <th>7</th>\n",
       "      <td>899</td>\n",
       "      <td>0.083410</td>\n",
       "      <td>0.000397</td>\n",
       "    </tr>\n",
       "    <tr>\n",
       "      <th>8</th>\n",
       "      <td>900</td>\n",
       "      <td>0.738892</td>\n",
       "      <td>0.999657</td>\n",
       "    </tr>\n",
       "    <tr>\n",
       "      <th>9</th>\n",
       "      <td>901</td>\n",
       "      <td>0.004071</td>\n",
       "      <td>0.000009</td>\n",
       "    </tr>\n",
       "  </tbody>\n",
       "</table>\n",
       "</div>"
      ],
      "text/plain": [
       "   PassengerId  target_xgb1  target_lgbm1\n",
       "0          892     0.056948      0.011738\n",
       "1          893     0.133497      0.000930\n",
       "2          894     0.042897      0.603364\n",
       "3          895     0.340515      0.793310\n",
       "4          896     0.415461      0.310569\n",
       "5          897     0.181367      0.020280\n",
       "6          898     0.560309      0.003861\n",
       "7          899     0.083410      0.000397\n",
       "8          900     0.738892      0.999657\n",
       "9          901     0.004071      0.000009"
      ]
     },
     "execution_count": 57,
     "metadata": {},
     "output_type": "execute_result"
    }
   ],
   "source": [
    "submission_df[\"target_lgbm1\"] = result\n",
    "submission_df.head(10)"
   ]
  },
  {
   "cell_type": "code",
   "execution_count": 58,
   "id": "9da67acb",
   "metadata": {
    "execution": {
     "iopub.execute_input": "2022-07-28T01:13:40.303634Z",
     "iopub.status.busy": "2022-07-28T01:13:40.303224Z",
     "iopub.status.idle": "2022-07-28T01:13:40.324299Z",
     "shell.execute_reply": "2022-07-28T01:13:40.323038Z"
    },
    "papermill": {
     "duration": 0.056595,
     "end_time": "2022-07-28T01:13:40.326864",
     "exception": false,
     "start_time": "2022-07-28T01:13:40.270269",
     "status": "completed"
    },
    "tags": []
   },
   "outputs": [
    {
     "data": {
      "text/html": [
       "<div>\n",
       "<style scoped>\n",
       "    .dataframe tbody tr th:only-of-type {\n",
       "        vertical-align: middle;\n",
       "    }\n",
       "\n",
       "    .dataframe tbody tr th {\n",
       "        vertical-align: top;\n",
       "    }\n",
       "\n",
       "    .dataframe thead th {\n",
       "        text-align: right;\n",
       "    }\n",
       "</style>\n",
       "<table border=\"1\" class=\"dataframe\">\n",
       "  <thead>\n",
       "    <tr style=\"text-align: right;\">\n",
       "      <th></th>\n",
       "      <th>PassengerId</th>\n",
       "      <th>Survived</th>\n",
       "    </tr>\n",
       "  </thead>\n",
       "  <tbody>\n",
       "    <tr>\n",
       "      <th>0</th>\n",
       "      <td>892</td>\n",
       "      <td>1.173837e-02</td>\n",
       "    </tr>\n",
       "    <tr>\n",
       "      <th>1</th>\n",
       "      <td>893</td>\n",
       "      <td>9.301040e-04</td>\n",
       "    </tr>\n",
       "    <tr>\n",
       "      <th>2</th>\n",
       "      <td>894</td>\n",
       "      <td>6.033643e-01</td>\n",
       "    </tr>\n",
       "    <tr>\n",
       "      <th>3</th>\n",
       "      <td>895</td>\n",
       "      <td>7.933104e-01</td>\n",
       "    </tr>\n",
       "    <tr>\n",
       "      <th>4</th>\n",
       "      <td>896</td>\n",
       "      <td>3.105690e-01</td>\n",
       "    </tr>\n",
       "    <tr>\n",
       "      <th>...</th>\n",
       "      <td>...</td>\n",
       "      <td>...</td>\n",
       "    </tr>\n",
       "    <tr>\n",
       "      <th>413</th>\n",
       "      <td>1305</td>\n",
       "      <td>1.977018e-04</td>\n",
       "    </tr>\n",
       "    <tr>\n",
       "      <th>414</th>\n",
       "      <td>1306</td>\n",
       "      <td>9.999997e-01</td>\n",
       "    </tr>\n",
       "    <tr>\n",
       "      <th>415</th>\n",
       "      <td>1307</td>\n",
       "      <td>2.427606e-07</td>\n",
       "    </tr>\n",
       "    <tr>\n",
       "      <th>416</th>\n",
       "      <td>1308</td>\n",
       "      <td>1.977018e-04</td>\n",
       "    </tr>\n",
       "    <tr>\n",
       "      <th>417</th>\n",
       "      <td>1309</td>\n",
       "      <td>5.542326e-01</td>\n",
       "    </tr>\n",
       "  </tbody>\n",
       "</table>\n",
       "<p>418 rows × 2 columns</p>\n",
       "</div>"
      ],
      "text/plain": [
       "     PassengerId      Survived\n",
       "0            892  1.173837e-02\n",
       "1            893  9.301040e-04\n",
       "2            894  6.033643e-01\n",
       "3            895  7.933104e-01\n",
       "4            896  3.105690e-01\n",
       "..           ...           ...\n",
       "413         1305  1.977018e-04\n",
       "414         1306  9.999997e-01\n",
       "415         1307  2.427606e-07\n",
       "416         1308  1.977018e-04\n",
       "417         1309  5.542326e-01\n",
       "\n",
       "[418 rows x 2 columns]"
      ]
     },
     "execution_count": 58,
     "metadata": {},
     "output_type": "execute_result"
    }
   ],
   "source": [
    "ss = (\n",
    "    submission_df[[\"PassengerId\", \"target_lgbm1\"]].copy().reset_index(drop=True)\n",
    ")  # [np.rint(sample_submission[\"target_lgbm1\"]).astype(int)\n",
    "ss.rename(columns={\"target_lgbm1\": \"Survived\"}, inplace=True)\n",
    "ss"
   ]
  },
  {
   "cell_type": "code",
   "execution_count": 59,
   "id": "e8f541d6",
   "metadata": {
    "execution": {
     "iopub.execute_input": "2022-07-28T01:13:40.391402Z",
     "iopub.status.busy": "2022-07-28T01:13:40.391010Z",
     "iopub.status.idle": "2022-07-28T01:13:40.407931Z",
     "shell.execute_reply": "2022-07-28T01:13:40.407024Z"
    },
    "papermill": {
     "duration": 0.052182,
     "end_time": "2022-07-28T01:13:40.410592",
     "exception": false,
     "start_time": "2022-07-28T01:13:40.358410",
     "status": "completed"
    },
    "tags": []
   },
   "outputs": [
    {
     "data": {
      "text/html": [
       "<div>\n",
       "<style scoped>\n",
       "    .dataframe tbody tr th:only-of-type {\n",
       "        vertical-align: middle;\n",
       "    }\n",
       "\n",
       "    .dataframe tbody tr th {\n",
       "        vertical-align: top;\n",
       "    }\n",
       "\n",
       "    .dataframe thead th {\n",
       "        text-align: right;\n",
       "    }\n",
       "</style>\n",
       "<table border=\"1\" class=\"dataframe\">\n",
       "  <thead>\n",
       "    <tr style=\"text-align: right;\">\n",
       "      <th></th>\n",
       "      <th>PassengerId</th>\n",
       "      <th>Survived</th>\n",
       "    </tr>\n",
       "  </thead>\n",
       "  <tbody>\n",
       "    <tr>\n",
       "      <th>0</th>\n",
       "      <td>892</td>\n",
       "      <td>0</td>\n",
       "    </tr>\n",
       "    <tr>\n",
       "      <th>1</th>\n",
       "      <td>893</td>\n",
       "      <td>0</td>\n",
       "    </tr>\n",
       "    <tr>\n",
       "      <th>2</th>\n",
       "      <td>894</td>\n",
       "      <td>1</td>\n",
       "    </tr>\n",
       "    <tr>\n",
       "      <th>3</th>\n",
       "      <td>895</td>\n",
       "      <td>1</td>\n",
       "    </tr>\n",
       "    <tr>\n",
       "      <th>4</th>\n",
       "      <td>896</td>\n",
       "      <td>0</td>\n",
       "    </tr>\n",
       "  </tbody>\n",
       "</table>\n",
       "</div>"
      ],
      "text/plain": [
       "   PassengerId  Survived\n",
       "0          892         0\n",
       "1          893         0\n",
       "2          894         1\n",
       "3          895         1\n",
       "4          896         0"
      ]
     },
     "execution_count": 59,
     "metadata": {},
     "output_type": "execute_result"
    }
   ],
   "source": [
    "ss[TARGET] = np.rint(ss[TARGET]).astype(int)\n",
    "ss.to_csv(\"submission_lgbm1.csv\", index=False)\n",
    "ss.head()"
   ]
  },
  {
   "cell_type": "markdown",
   "id": "bef4d33e",
   "metadata": {
    "papermill": {
     "duration": 0.030258,
     "end_time": "2022-07-28T01:13:40.471561",
     "exception": false,
     "start_time": "2022-07-28T01:13:40.441303",
     "status": "completed"
    },
    "tags": []
   },
   "source": [
    "<div style=\"background-color:rgba(255, 215, 0, 0.6);border-radius:5px;display:fill\"><h1 style=\"text-align: center;padding: 12px 0px 12px 0px;\">Weighted Blend Based on OOF</h1>\n",
    "</div>"
   ]
  },
  {
   "cell_type": "code",
   "execution_count": 60,
   "id": "4e9e448e",
   "metadata": {
    "execution": {
     "iopub.execute_input": "2022-07-28T01:13:40.555041Z",
     "iopub.status.busy": "2022-07-28T01:13:40.554089Z",
     "iopub.status.idle": "2022-07-28T01:13:40.569893Z",
     "shell.execute_reply": "2022-07-28T01:13:40.568830Z"
    },
    "papermill": {
     "duration": 0.059375,
     "end_time": "2022-07-28T01:13:40.572725",
     "exception": false,
     "start_time": "2022-07-28T01:13:40.513350",
     "status": "completed"
    },
    "tags": []
   },
   "outputs": [
    {
     "data": {
      "text/html": [
       "<div>\n",
       "<style scoped>\n",
       "    .dataframe tbody tr th:only-of-type {\n",
       "        vertical-align: middle;\n",
       "    }\n",
       "\n",
       "    .dataframe tbody tr th {\n",
       "        vertical-align: top;\n",
       "    }\n",
       "\n",
       "    .dataframe thead th {\n",
       "        text-align: right;\n",
       "    }\n",
       "</style>\n",
       "<table border=\"1\" class=\"dataframe\">\n",
       "  <thead>\n",
       "    <tr style=\"text-align: right;\">\n",
       "      <th></th>\n",
       "      <th>Survived</th>\n",
       "      <th>fold</th>\n",
       "      <th>pred_xgb1</th>\n",
       "      <th>pred_lgbm1</th>\n",
       "    </tr>\n",
       "    <tr>\n",
       "      <th>PassengerId</th>\n",
       "      <th></th>\n",
       "      <th></th>\n",
       "      <th></th>\n",
       "      <th></th>\n",
       "    </tr>\n",
       "  </thead>\n",
       "  <tbody>\n",
       "    <tr>\n",
       "      <th>1</th>\n",
       "      <td>0</td>\n",
       "      <td>1</td>\n",
       "      <td>0.058896</td>\n",
       "      <td>0.000578</td>\n",
       "    </tr>\n",
       "    <tr>\n",
       "      <th>2</th>\n",
       "      <td>1</td>\n",
       "      <td>4</td>\n",
       "      <td>0.988556</td>\n",
       "      <td>0.999999</td>\n",
       "    </tr>\n",
       "    <tr>\n",
       "      <th>3</th>\n",
       "      <td>1</td>\n",
       "      <td>3</td>\n",
       "      <td>0.642813</td>\n",
       "      <td>0.031318</td>\n",
       "    </tr>\n",
       "    <tr>\n",
       "      <th>4</th>\n",
       "      <td>1</td>\n",
       "      <td>3</td>\n",
       "      <td>0.998058</td>\n",
       "      <td>1.000000</td>\n",
       "    </tr>\n",
       "    <tr>\n",
       "      <th>5</th>\n",
       "      <td>0</td>\n",
       "      <td>0</td>\n",
       "      <td>0.163119</td>\n",
       "      <td>0.000009</td>\n",
       "    </tr>\n",
       "  </tbody>\n",
       "</table>\n",
       "</div>"
      ],
      "text/plain": [
       "             Survived  fold  pred_xgb1  pred_lgbm1\n",
       "PassengerId                                       \n",
       "1                   0     1   0.058896    0.000578\n",
       "2                   1     4   0.988556    0.999999\n",
       "3                   1     3   0.642813    0.031318\n",
       "4                   1     3   0.998058    1.000000\n",
       "5                   0     0   0.163119    0.000009"
      ]
     },
     "execution_count": 60,
     "metadata": {},
     "output_type": "execute_result"
    }
   ],
   "source": [
    "oof.head()"
   ]
  },
  {
   "cell_type": "code",
   "execution_count": 61,
   "id": "b04ec6dc",
   "metadata": {
    "execution": {
     "iopub.execute_input": "2022-07-28T01:13:40.643222Z",
     "iopub.status.busy": "2022-07-28T01:13:40.642508Z",
     "iopub.status.idle": "2022-07-28T01:13:40.651990Z",
     "shell.execute_reply": "2022-07-28T01:13:40.651057Z"
    },
    "papermill": {
     "duration": 0.044959,
     "end_time": "2022-07-28T01:13:40.654606",
     "exception": false,
     "start_time": "2022-07-28T01:13:40.609647",
     "status": "completed"
    },
    "tags": []
   },
   "outputs": [
    {
     "data": {
      "text/plain": [
       "[]"
      ]
     },
     "execution_count": 61,
     "metadata": {},
     "output_type": "execute_result"
    }
   ],
   "source": [
    "pred_cols = [c for c in submission_df.columns if c.startswith(\"pred_\")]\n",
    "pred_cols"
   ]
  },
  {
   "cell_type": "code",
   "execution_count": 62,
   "id": "2197be21",
   "metadata": {
    "execution": {
     "iopub.execute_input": "2022-07-28T01:13:40.724529Z",
     "iopub.status.busy": "2022-07-28T01:13:40.723909Z",
     "iopub.status.idle": "2022-07-28T01:13:41.171662Z",
     "shell.execute_reply": "2022-07-28T01:13:41.170295Z"
    },
    "papermill": {
     "duration": 0.485357,
     "end_time": "2022-07-28T01:13:41.174400",
     "exception": false,
     "start_time": "2022-07-28T01:13:40.689043",
     "status": "completed"
    },
    "tags": []
   },
   "outputs": [
    {
     "data": {
      "image/png": "[encoded data removed]",
      "text/plain": [
       "<Figure size 864x360 with 2 Axes>"
      ]
     },
     "metadata": {},
     "output_type": "display_data"
    }
   ],
   "source": [
    "fig, axs = plt.subplots(1, 2, figsize=(12, 5))\n",
    "oof.plot(\n",
    "    x=\"pred_lgbm1\",\n",
    "    y=\"pred_xgb1\",\n",
    "    kind=\"scatter\",\n",
    "    title=\"Compare OOF predictions for two models\",\n",
    "    ax=axs[0],\n",
    ")\n",
    "\n",
    "submission_df.plot(\n",
    "    x=\"target_lgbm1\",\n",
    "    y=\"target_xgb1\",\n",
    "    kind=\"scatter\",\n",
    "    title=\"Compare Test predictions for two models\",\n",
    "    ax=axs[1],\n",
    ")\n",
    "plt.show()"
   ]
  },
  {
   "cell_type": "code",
   "execution_count": 63,
   "id": "ae6f59b6",
   "metadata": {
    "execution": {
     "iopub.execute_input": "2022-07-28T01:13:41.242812Z",
     "iopub.status.busy": "2022-07-28T01:13:41.242347Z",
     "iopub.status.idle": "2022-07-28T01:13:41.255549Z",
     "shell.execute_reply": "2022-07-28T01:13:41.254550Z"
    },
    "papermill": {
     "duration": 0.05014,
     "end_time": "2022-07-28T01:13:41.258682",
     "exception": false,
     "start_time": "2022-07-28T01:13:41.208542",
     "status": "completed"
    },
    "tags": []
   },
   "outputs": [],
   "source": [
    "from sklearn.metrics import mean_absolute_error\n",
    "\n",
    "\n",
    "def get_oof_mae_score(weight, oof, pred_model1, pred_model2):\n",
    "    blend_pred = (oof[pred_model1] * weight) + (oof[pred_model2] * (1 - weight))\n",
    "    return mean_absolute_error(oof[TARGET], blend_pred)"
   ]
  },
  {
   "cell_type": "code",
   "execution_count": 64,
   "id": "077e5c19",
   "metadata": {
    "execution": {
     "iopub.execute_input": "2022-07-28T01:13:41.338893Z",
     "iopub.status.busy": "2022-07-28T01:13:41.337984Z",
     "iopub.status.idle": "2022-07-28T01:13:41.351781Z",
     "shell.execute_reply": "2022-07-28T01:13:41.350934Z"
    },
    "papermill": {
     "duration": 0.051467,
     "end_time": "2022-07-28T01:13:41.354165",
     "exception": false,
     "start_time": "2022-07-28T01:13:41.302698",
     "status": "completed"
    },
    "tags": []
   },
   "outputs": [
    {
     "data": {
      "text/html": [
       "<div>\n",
       "<style scoped>\n",
       "    .dataframe tbody tr th:only-of-type {\n",
       "        vertical-align: middle;\n",
       "    }\n",
       "\n",
       "    .dataframe tbody tr th {\n",
       "        vertical-align: top;\n",
       "    }\n",
       "\n",
       "    .dataframe thead th {\n",
       "        text-align: right;\n",
       "    }\n",
       "</style>\n",
       "<table border=\"1\" class=\"dataframe\">\n",
       "  <thead>\n",
       "    <tr style=\"text-align: right;\">\n",
       "      <th></th>\n",
       "      <th>Survived</th>\n",
       "      <th>fold</th>\n",
       "      <th>pred_xgb1</th>\n",
       "      <th>pred_lgbm1</th>\n",
       "    </tr>\n",
       "    <tr>\n",
       "      <th>PassengerId</th>\n",
       "      <th></th>\n",
       "      <th></th>\n",
       "      <th></th>\n",
       "      <th></th>\n",
       "    </tr>\n",
       "  </thead>\n",
       "  <tbody>\n",
       "    <tr>\n",
       "      <th>1</th>\n",
       "      <td>0</td>\n",
       "      <td>1</td>\n",
       "      <td>0.058896</td>\n",
       "      <td>0.000578</td>\n",
       "    </tr>\n",
       "    <tr>\n",
       "      <th>2</th>\n",
       "      <td>1</td>\n",
       "      <td>4</td>\n",
       "      <td>0.988556</td>\n",
       "      <td>0.999999</td>\n",
       "    </tr>\n",
       "    <tr>\n",
       "      <th>3</th>\n",
       "      <td>1</td>\n",
       "      <td>3</td>\n",
       "      <td>0.642813</td>\n",
       "      <td>0.031318</td>\n",
       "    </tr>\n",
       "    <tr>\n",
       "      <th>4</th>\n",
       "      <td>1</td>\n",
       "      <td>3</td>\n",
       "      <td>0.998058</td>\n",
       "      <td>1.000000</td>\n",
       "    </tr>\n",
       "    <tr>\n",
       "      <th>5</th>\n",
       "      <td>0</td>\n",
       "      <td>0</td>\n",
       "      <td>0.163119</td>\n",
       "      <td>0.000009</td>\n",
       "    </tr>\n",
       "  </tbody>\n",
       "</table>\n",
       "</div>"
      ],
      "text/plain": [
       "             Survived  fold  pred_xgb1  pred_lgbm1\n",
       "PassengerId                                       \n",
       "1                   0     1   0.058896    0.000578\n",
       "2                   1     4   0.988556    0.999999\n",
       "3                   1     3   0.642813    0.031318\n",
       "4                   1     3   0.998058    1.000000\n",
       "5                   0     0   0.163119    0.000009"
      ]
     },
     "execution_count": 64,
     "metadata": {},
     "output_type": "execute_result"
    }
   ],
   "source": [
    "oof.head()"
   ]
  },
  {
   "cell_type": "code",
   "execution_count": 65,
   "id": "e3bf8a01",
   "metadata": {
    "execution": {
     "iopub.execute_input": "2022-07-28T01:13:41.421121Z",
     "iopub.status.busy": "2022-07-28T01:13:41.420534Z",
     "iopub.status.idle": "2022-07-28T01:13:41.436200Z",
     "shell.execute_reply": "2022-07-28T01:13:41.435080Z"
    },
    "papermill": {
     "duration": 0.052498,
     "end_time": "2022-07-28T01:13:41.438859",
     "exception": false,
     "start_time": "2022-07-28T01:13:41.386361",
     "status": "completed"
    },
    "tags": []
   },
   "outputs": [],
   "source": [
    "def get_oof_score(weight, oof, pred_model1, pred_model2):\n",
    "    blend_pred = (oof[pred_model1] * weight) + (oof[pred_model2] * (1 - weight))\n",
    "    blend_int = np.rint(blend_pred).astype(int)\n",
    "    score = accuracy_score(oof[TARGET], blend_int)\n",
    "    #     print(f\"weight: {weight} Score: {score}\")\n",
    "    return score"
   ]
  },
  {
   "cell_type": "code",
   "execution_count": 66,
   "id": "4cf737f3",
   "metadata": {
    "execution": {
     "iopub.execute_input": "2022-07-28T01:13:41.505558Z",
     "iopub.status.busy": "2022-07-28T01:13:41.504577Z",
     "iopub.status.idle": "2022-07-28T01:13:41.631410Z",
     "shell.execute_reply": "2022-07-28T01:13:41.630033Z"
    },
    "papermill": {
     "duration": 0.16498,
     "end_time": "2022-07-28T01:13:41.635964",
     "exception": false,
     "start_time": "2022-07-28T01:13:41.470984",
     "status": "completed"
    },
    "tags": []
   },
   "outputs": [
    {
     "name": "stdout",
     "output_type": "stream",
     "text": [
      "Best Weight: 0.0,Score 0.8024691358024691\n",
      "Best Weight: 0.01,Score 0.8035914702581369\n",
      "Best Weight: 0.11,Score 0.8047138047138047\n",
      "Best Weight: 0.13,Score 0.8058361391694725\n",
      "Best Weight: 0.14,Score 0.8069584736251403\n",
      "Best Weight: 0.16,Score 0.8092031425364759\n",
      "Best Weight: 0.23,Score 0.8103254769921436\n",
      "Best Weight: 0.25,Score 0.8114478114478114\n",
      "Best Weight: 0.27,Score 0.8125701459034792\n",
      "Best Weight: 0.29,Score 0.813692480359147\n",
      "Best Weight: 0.32,Score 0.8148148148148148\n",
      "Best Weight: 0.33,Score 0.8159371492704826\n",
      "Best Weight: 0.34,Score 0.8170594837261503\n",
      "Best Weight: 0.35,Score 0.8181818181818182\n",
      "Best Weight: 0.37,Score 0.819304152637486\n",
      "Best Weight: 0.42,Score 0.8204264870931538\n",
      "Best Weight: 0.49,Score 0.8215488215488216\n",
      "Best Weight: 0.51,Score 0.8226711560044894\n",
      "Best Weight: 0.53,Score 0.8237934904601572\n",
      "Best Weight: 0.54,Score 0.8249158249158249\n",
      "Best Weight: 0.55,Score 0.8282828282828283\n",
      "Best Weight: 0.65,Score 0.8305274971941639\n",
      "Best Weight: 0.68,Score 0.8327721661054994\n",
      "Best Weight: 0.71,Score 0.8338945005611672\n",
      "Best Weight: 0.73,Score 0.835016835016835\n",
      "Best Weight: 0.76,Score 0.8372615039281706\n"
     ]
    }
   ],
   "source": [
    "myscores = {}\n",
    "best = 0\n",
    "best_weight = 0\n",
    "\n",
    "for weight in range(100):\n",
    "    weight /= 100\n",
    "    score = get_oof_score(weight, oof, \"pred_xgb1\", \"pred_lgbm1\")\n",
    "    if score > best:\n",
    "        best = score\n",
    "        best_weight = weight\n",
    "        print(f\"Best Weight: {best_weight},Score {best}\")\n",
    "    myscores[weight] = score"
   ]
  },
  {
   "cell_type": "code",
   "execution_count": 67,
   "id": "908556d0",
   "metadata": {
    "execution": {
     "iopub.execute_input": "2022-07-28T01:13:41.708488Z",
     "iopub.status.busy": "2022-07-28T01:13:41.707851Z",
     "iopub.status.idle": "2022-07-28T01:13:41.719866Z",
     "shell.execute_reply": "2022-07-28T01:13:41.718859Z"
    },
    "papermill": {
     "duration": 0.051549,
     "end_time": "2022-07-28T01:13:41.722613",
     "exception": false,
     "start_time": "2022-07-28T01:13:41.671064",
     "status": "completed"
    },
    "tags": []
   },
   "outputs": [],
   "source": [
    "blend_results = pd.DataFrame(myscores, index=[\"score\"]).T"
   ]
  },
  {
   "cell_type": "code",
   "execution_count": 68,
   "id": "d76bc19b",
   "metadata": {
    "execution": {
     "iopub.execute_input": "2022-07-28T01:13:41.790384Z",
     "iopub.status.busy": "2022-07-28T01:13:41.789999Z",
     "iopub.status.idle": "2022-07-28T01:13:42.018326Z",
     "shell.execute_reply": "2022-07-28T01:13:42.016848Z"
    },
    "papermill": {
     "duration": 0.265225,
     "end_time": "2022-07-28T01:13:42.021213",
     "exception": false,
     "start_time": "2022-07-28T01:13:41.755988",
     "status": "completed"
    },
    "tags": []
   },
   "outputs": [
    {
     "data": {
      "image/png": "[encoded data removed]",
      "text/plain": [
       "<Figure size 432x288 with 1 Axes>"
      ]
     },
     "metadata": {},
     "output_type": "display_data"
    }
   ],
   "source": [
    "ax = blend_results.plot(title=\"Weight vs. OOF Score\")\n",
    "ax.set_ylabel(\"OOF Score\")\n",
    "ax.set_xlabel(\"Weight %\")\n",
    "\n",
    "plt.show()"
   ]
  },
  {
   "cell_type": "markdown",
   "id": "e7ae73fb",
   "metadata": {
    "papermill": {
     "duration": 0.034059,
     "end_time": "2022-07-28T01:13:42.090491",
     "exception": false,
     "start_time": "2022-07-28T01:13:42.056432",
     "status": "completed"
    },
    "tags": []
   },
   "source": [
    "### The Blended Weight is ..."
   ]
  },
  {
   "cell_type": "code",
   "execution_count": 69,
   "id": "c61b3a02",
   "metadata": {
    "execution": {
     "iopub.execute_input": "2022-07-28T01:13:42.160580Z",
     "iopub.status.busy": "2022-07-28T01:13:42.159414Z",
     "iopub.status.idle": "2022-07-28T01:13:42.174028Z",
     "shell.execute_reply": "2022-07-28T01:13:42.172637Z"
    },
    "papermill": {
     "duration": 0.052029,
     "end_time": "2022-07-28T01:13:42.176527",
     "exception": false,
     "start_time": "2022-07-28T01:13:42.124498",
     "status": "completed"
    },
    "tags": []
   },
   "outputs": [
    {
     "data": {
      "text/html": [
       "<div>\n",
       "<style scoped>\n",
       "    .dataframe tbody tr th:only-of-type {\n",
       "        vertical-align: middle;\n",
       "    }\n",
       "\n",
       "    .dataframe tbody tr th {\n",
       "        vertical-align: top;\n",
       "    }\n",
       "\n",
       "    .dataframe thead th {\n",
       "        text-align: right;\n",
       "    }\n",
       "</style>\n",
       "<table border=\"1\" class=\"dataframe\">\n",
       "  <thead>\n",
       "    <tr style=\"text-align: right;\">\n",
       "      <th></th>\n",
       "      <th>score</th>\n",
       "    </tr>\n",
       "  </thead>\n",
       "  <tbody>\n",
       "    <tr>\n",
       "      <th>0.76</th>\n",
       "      <td>0.837262</td>\n",
       "    </tr>\n",
       "  </tbody>\n",
       "</table>\n",
       "</div>"
      ],
      "text/plain": [
       "         score\n",
       "0.76  0.837262"
      ]
     },
     "execution_count": 69,
     "metadata": {},
     "output_type": "execute_result"
    }
   ],
   "source": [
    "blend_results.loc[blend_results[\"score\"] == blend_results[\"score\"].max()]"
   ]
  },
  {
   "cell_type": "code",
   "execution_count": 70,
   "id": "cae62ce9",
   "metadata": {
    "execution": {
     "iopub.execute_input": "2022-07-28T01:13:42.248431Z",
     "iopub.status.busy": "2022-07-28T01:13:42.247589Z",
     "iopub.status.idle": "2022-07-28T01:13:42.257393Z",
     "shell.execute_reply": "2022-07-28T01:13:42.256130Z"
    },
    "papermill": {
     "duration": 0.050226,
     "end_time": "2022-07-28T01:13:42.261608",
     "exception": false,
     "start_time": "2022-07-28T01:13:42.211382",
     "status": "completed"
    },
    "tags": []
   },
   "outputs": [
    {
     "name": "stdout",
     "output_type": "stream",
     "text": [
      "Blended Score: 0.83726150\n"
     ]
    }
   ],
   "source": [
    "blend_score = blend_results[\"score\"].max()\n",
    "# best_cv_score = 0.004722\n",
    "print(f\"Blended Score: {blend_score:.8f}\")"
   ]
  },
  {
   "cell_type": "code",
   "execution_count": 71,
   "id": "c8c12de6",
   "metadata": {
    "execution": {
     "iopub.execute_input": "2022-07-28T01:13:42.335592Z",
     "iopub.status.busy": "2022-07-28T01:13:42.334479Z",
     "iopub.status.idle": "2022-07-28T01:13:42.350213Z",
     "shell.execute_reply": "2022-07-28T01:13:42.348914Z"
    },
    "papermill": {
     "duration": 0.055761,
     "end_time": "2022-07-28T01:13:42.352884",
     "exception": false,
     "start_time": "2022-07-28T01:13:42.297123",
     "status": "completed"
    },
    "tags": []
   },
   "outputs": [
    {
     "data": {
      "text/html": [
       "<div>\n",
       "<style scoped>\n",
       "    .dataframe tbody tr th:only-of-type {\n",
       "        vertical-align: middle;\n",
       "    }\n",
       "\n",
       "    .dataframe tbody tr th {\n",
       "        vertical-align: top;\n",
       "    }\n",
       "\n",
       "    .dataframe thead th {\n",
       "        text-align: right;\n",
       "    }\n",
       "</style>\n",
       "<table border=\"1\" class=\"dataframe\">\n",
       "  <thead>\n",
       "    <tr style=\"text-align: right;\">\n",
       "      <th></th>\n",
       "      <th>score</th>\n",
       "    </tr>\n",
       "  </thead>\n",
       "  <tbody>\n",
       "    <tr>\n",
       "      <th>0.76</th>\n",
       "      <td>0.837262</td>\n",
       "    </tr>\n",
       "  </tbody>\n",
       "</table>\n",
       "</div>"
      ],
      "text/plain": [
       "         score\n",
       "0.76  0.837262"
      ]
     },
     "execution_count": 71,
     "metadata": {},
     "output_type": "execute_result"
    }
   ],
   "source": [
    "w = blend_results.loc[blend_results[\"score\"] == blend_results[\"score\"].max()]\n",
    "w"
   ]
  },
  {
   "cell_type": "code",
   "execution_count": 72,
   "id": "1572746c",
   "metadata": {
    "execution": {
     "iopub.execute_input": "2022-07-28T01:13:42.423007Z",
     "iopub.status.busy": "2022-07-28T01:13:42.421820Z",
     "iopub.status.idle": "2022-07-28T01:13:42.431296Z",
     "shell.execute_reply": "2022-07-28T01:13:42.430352Z"
    },
    "papermill": {
     "duration": 0.046544,
     "end_time": "2022-07-28T01:13:42.433583",
     "exception": false,
     "start_time": "2022-07-28T01:13:42.387039",
     "status": "completed"
    },
    "tags": []
   },
   "outputs": [
    {
     "data": {
      "text/plain": [
       "0.76"
      ]
     },
     "execution_count": 72,
     "metadata": {},
     "output_type": "execute_result"
    }
   ],
   "source": [
    "wt = w.first_valid_index()\n",
    "wt"
   ]
  },
  {
   "cell_type": "code",
   "execution_count": 73,
   "id": "a59c7a22",
   "metadata": {
    "execution": {
     "iopub.execute_input": "2022-07-28T01:13:42.505197Z",
     "iopub.status.busy": "2022-07-28T01:13:42.503924Z",
     "iopub.status.idle": "2022-07-28T01:13:42.515624Z",
     "shell.execute_reply": "2022-07-28T01:13:42.514018Z"
    },
    "papermill": {
     "duration": 0.049864,
     "end_time": "2022-07-28T01:13:42.518197",
     "exception": false,
     "start_time": "2022-07-28T01:13:42.468333",
     "status": "completed"
    },
    "tags": []
   },
   "outputs": [
    {
     "data": {
      "text/plain": [
       "0.00    0.802469\n",
       "0.01    0.803591\n",
       "0.02    0.802469\n",
       "0.03    0.802469\n",
       "0.04    0.802469\n",
       "          ...   \n",
       "0.95    0.831650\n",
       "0.96    0.830527\n",
       "0.97    0.831650\n",
       "0.98    0.829405\n",
       "0.99    0.828283\n",
       "Name: score, Length: 100, dtype: float64"
      ]
     },
     "execution_count": 73,
     "metadata": {},
     "output_type": "execute_result"
    }
   ],
   "source": [
    "blend_results[\"score\"]"
   ]
  },
  {
   "cell_type": "markdown",
   "id": "e793c89b",
   "metadata": {
    "papermill": {
     "duration": 0.032896,
     "end_time": "2022-07-28T01:13:42.584937",
     "exception": false,
     "start_time": "2022-07-28T01:13:42.552041",
     "status": "completed"
    },
    "tags": []
   },
   "source": [
    "<div style=\"background-color:rgba(255, 215, 0, 0.6);border-radius:5px;display:fill\"><h1 style=\"text-align: center;padding: 12px 0px 12px 0px;\">Submission File</h1>\n",
    "</div>\n",
    "\n",
    "The sample file and our data is in the same row order.  This allows us to simply assign our prediction to the target column (`Survived`) in the sample submission."
   ]
  },
  {
   "cell_type": "code",
   "execution_count": 74,
   "id": "96613bd6",
   "metadata": {
    "execution": {
     "iopub.execute_input": "2022-07-28T01:13:42.655708Z",
     "iopub.status.busy": "2022-07-28T01:13:42.654503Z",
     "iopub.status.idle": "2022-07-28T01:13:42.660580Z",
     "shell.execute_reply": "2022-07-28T01:13:42.659628Z"
    },
    "papermill": {
     "duration": 0.044431,
     "end_time": "2022-07-28T01:13:42.662868",
     "exception": false,
     "start_time": "2022-07-28T01:13:42.618437",
     "status": "completed"
    },
    "tags": []
   },
   "outputs": [],
   "source": [
    "# pred_cols = [c for c in submission_df.columns if c.startswith(\"pred_\")]\n",
    "# pred_cols"
   ]
  },
  {
   "cell_type": "code",
   "execution_count": 75,
   "id": "f872db4c",
   "metadata": {
    "execution": {
     "iopub.execute_input": "2022-07-28T01:13:42.735795Z",
     "iopub.status.busy": "2022-07-28T01:13:42.734818Z",
     "iopub.status.idle": "2022-07-28T01:13:42.747644Z",
     "shell.execute_reply": "2022-07-28T01:13:42.746538Z"
    },
    "papermill": {
     "duration": 0.052449,
     "end_time": "2022-07-28T01:13:42.750105",
     "exception": false,
     "start_time": "2022-07-28T01:13:42.697656",
     "status": "completed"
    },
    "tags": []
   },
   "outputs": [
    {
     "data": {
      "text/html": [
       "<div>\n",
       "<style scoped>\n",
       "    .dataframe tbody tr th:only-of-type {\n",
       "        vertical-align: middle;\n",
       "    }\n",
       "\n",
       "    .dataframe tbody tr th {\n",
       "        vertical-align: top;\n",
       "    }\n",
       "\n",
       "    .dataframe thead th {\n",
       "        text-align: right;\n",
       "    }\n",
       "</style>\n",
       "<table border=\"1\" class=\"dataframe\">\n",
       "  <thead>\n",
       "    <tr style=\"text-align: right;\">\n",
       "      <th></th>\n",
       "      <th>PassengerId</th>\n",
       "      <th>target_xgb1</th>\n",
       "      <th>target_lgbm1</th>\n",
       "    </tr>\n",
       "  </thead>\n",
       "  <tbody>\n",
       "    <tr>\n",
       "      <th>0</th>\n",
       "      <td>892</td>\n",
       "      <td>0.056948</td>\n",
       "      <td>0.011738</td>\n",
       "    </tr>\n",
       "    <tr>\n",
       "      <th>1</th>\n",
       "      <td>893</td>\n",
       "      <td>0.133497</td>\n",
       "      <td>0.000930</td>\n",
       "    </tr>\n",
       "    <tr>\n",
       "      <th>2</th>\n",
       "      <td>894</td>\n",
       "      <td>0.042897</td>\n",
       "      <td>0.603364</td>\n",
       "    </tr>\n",
       "    <tr>\n",
       "      <th>3</th>\n",
       "      <td>895</td>\n",
       "      <td>0.340515</td>\n",
       "      <td>0.793310</td>\n",
       "    </tr>\n",
       "    <tr>\n",
       "      <th>4</th>\n",
       "      <td>896</td>\n",
       "      <td>0.415461</td>\n",
       "      <td>0.310569</td>\n",
       "    </tr>\n",
       "  </tbody>\n",
       "</table>\n",
       "</div>"
      ],
      "text/plain": [
       "   PassengerId  target_xgb1  target_lgbm1\n",
       "0          892     0.056948      0.011738\n",
       "1          893     0.133497      0.000930\n",
       "2          894     0.042897      0.603364\n",
       "3          895     0.340515      0.793310\n",
       "4          896     0.415461      0.310569"
      ]
     },
     "execution_count": 75,
     "metadata": {},
     "output_type": "execute_result"
    }
   ],
   "source": [
    "submission_df.head()"
   ]
  },
  {
   "cell_type": "code",
   "execution_count": 76,
   "id": "e3abcd59",
   "metadata": {
    "execution": {
     "iopub.execute_input": "2022-07-28T01:13:42.823889Z",
     "iopub.status.busy": "2022-07-28T01:13:42.822845Z",
     "iopub.status.idle": "2022-07-28T01:13:42.844129Z",
     "shell.execute_reply": "2022-07-28T01:13:42.842635Z"
    },
    "papermill": {
     "duration": 0.060946,
     "end_time": "2022-07-28T01:13:42.847020",
     "exception": false,
     "start_time": "2022-07-28T01:13:42.786074",
     "status": "completed"
    },
    "tags": []
   },
   "outputs": [
    {
     "name": "stdout",
     "output_type": "stream",
     "text": [
      "Weights=(0.76, 0.24)\n"
     ]
    },
    {
     "data": {
      "text/html": [
       "<div>\n",
       "<style scoped>\n",
       "    .dataframe tbody tr th:only-of-type {\n",
       "        vertical-align: middle;\n",
       "    }\n",
       "\n",
       "    .dataframe tbody tr th {\n",
       "        vertical-align: top;\n",
       "    }\n",
       "\n",
       "    .dataframe thead th {\n",
       "        text-align: right;\n",
       "    }\n",
       "</style>\n",
       "<table border=\"1\" class=\"dataframe\">\n",
       "  <thead>\n",
       "    <tr style=\"text-align: right;\">\n",
       "      <th></th>\n",
       "      <th>PassengerId</th>\n",
       "      <th>Survived</th>\n",
       "    </tr>\n",
       "  </thead>\n",
       "  <tbody>\n",
       "    <tr>\n",
       "      <th>0</th>\n",
       "      <td>892</td>\n",
       "      <td>0.046098</td>\n",
       "    </tr>\n",
       "    <tr>\n",
       "      <th>1</th>\n",
       "      <td>893</td>\n",
       "      <td>0.101681</td>\n",
       "    </tr>\n",
       "    <tr>\n",
       "      <th>2</th>\n",
       "      <td>894</td>\n",
       "      <td>0.177409</td>\n",
       "    </tr>\n",
       "    <tr>\n",
       "      <th>3</th>\n",
       "      <td>895</td>\n",
       "      <td>0.449186</td>\n",
       "    </tr>\n",
       "    <tr>\n",
       "      <th>4</th>\n",
       "      <td>896</td>\n",
       "      <td>0.390287</td>\n",
       "    </tr>\n",
       "    <tr>\n",
       "      <th>5</th>\n",
       "      <td>897</td>\n",
       "      <td>0.142706</td>\n",
       "    </tr>\n",
       "    <tr>\n",
       "      <th>6</th>\n",
       "      <td>898</td>\n",
       "      <td>0.426761</td>\n",
       "    </tr>\n",
       "    <tr>\n",
       "      <th>7</th>\n",
       "      <td>899</td>\n",
       "      <td>0.063487</td>\n",
       "    </tr>\n",
       "  </tbody>\n",
       "</table>\n",
       "</div>"
      ],
      "text/plain": [
       "   PassengerId  Survived\n",
       "0          892  0.046098\n",
       "1          893  0.101681\n",
       "2          894  0.177409\n",
       "3          895  0.449186\n",
       "4          896  0.390287\n",
       "5          897  0.142706\n",
       "6          898  0.426761\n",
       "7          899  0.063487"
      ]
     },
     "execution_count": 76,
     "metadata": {},
     "output_type": "execute_result"
    }
   ],
   "source": [
    "print(f\"Weights=({wt}, {1-wt})\")\n",
    "\n",
    "sample_submission[TARGET] = (submission_df[\"target_xgb1\"] * wt) + (\n",
    "    submission_df[\"target_lgbm1\"] * (1 - wt)\n",
    ")\n",
    "sample_submission.head(8)"
   ]
  },
  {
   "cell_type": "code",
   "execution_count": 77,
   "id": "407cc1f7",
   "metadata": {
    "execution": {
     "iopub.execute_input": "2022-07-28T01:13:42.921838Z",
     "iopub.status.busy": "2022-07-28T01:13:42.921403Z",
     "iopub.status.idle": "2022-07-28T01:13:42.940269Z",
     "shell.execute_reply": "2022-07-28T01:13:42.939139Z"
    },
    "papermill": {
     "duration": 0.059681,
     "end_time": "2022-07-28T01:13:42.943065",
     "exception": false,
     "start_time": "2022-07-28T01:13:42.883384",
     "status": "completed"
    },
    "tags": []
   },
   "outputs": [
    {
     "data": {
      "text/html": [
       "<div>\n",
       "<style scoped>\n",
       "    .dataframe tbody tr th:only-of-type {\n",
       "        vertical-align: middle;\n",
       "    }\n",
       "\n",
       "    .dataframe tbody tr th {\n",
       "        vertical-align: top;\n",
       "    }\n",
       "\n",
       "    .dataframe thead th {\n",
       "        text-align: right;\n",
       "    }\n",
       "</style>\n",
       "<table border=\"1\" class=\"dataframe\">\n",
       "  <thead>\n",
       "    <tr style=\"text-align: right;\">\n",
       "      <th></th>\n",
       "      <th>PassengerId</th>\n",
       "      <th>Survived</th>\n",
       "    </tr>\n",
       "  </thead>\n",
       "  <tbody>\n",
       "    <tr>\n",
       "      <th>0</th>\n",
       "      <td>892</td>\n",
       "      <td>0</td>\n",
       "    </tr>\n",
       "    <tr>\n",
       "      <th>1</th>\n",
       "      <td>893</td>\n",
       "      <td>0</td>\n",
       "    </tr>\n",
       "    <tr>\n",
       "      <th>2</th>\n",
       "      <td>894</td>\n",
       "      <td>0</td>\n",
       "    </tr>\n",
       "    <tr>\n",
       "      <th>3</th>\n",
       "      <td>895</td>\n",
       "      <td>0</td>\n",
       "    </tr>\n",
       "    <tr>\n",
       "      <th>4</th>\n",
       "      <td>896</td>\n",
       "      <td>0</td>\n",
       "    </tr>\n",
       "    <tr>\n",
       "      <th>5</th>\n",
       "      <td>897</td>\n",
       "      <td>0</td>\n",
       "    </tr>\n",
       "    <tr>\n",
       "      <th>6</th>\n",
       "      <td>898</td>\n",
       "      <td>0</td>\n",
       "    </tr>\n",
       "    <tr>\n",
       "      <th>7</th>\n",
       "      <td>899</td>\n",
       "      <td>0</td>\n",
       "    </tr>\n",
       "  </tbody>\n",
       "</table>\n",
       "</div>"
      ],
      "text/plain": [
       "   PassengerId  Survived\n",
       "0          892         0\n",
       "1          893         0\n",
       "2          894         0\n",
       "3          895         0\n",
       "4          896         0\n",
       "5          897         0\n",
       "6          898         0\n",
       "7          899         0"
      ]
     },
     "execution_count": 77,
     "metadata": {},
     "output_type": "execute_result"
    }
   ],
   "source": [
    "sample_submission[\"Survived\"] = np.rint(sample_submission[\"Survived\"]).astype(int)\n",
    "sample_submission.to_csv(\"submission.csv\", index=False)\n",
    "sample_submission.head(8)"
   ]
  }
 ],
 "metadata": {
  "kernelspec": {
   "display_name": "Python 3",
   "language": "python",
   "name": "python3"
  },
  "language_info": {
   "codemirror_mode": {
    "name": "ipython",
    "version": 3
   },
   "file_extension": ".py",
   "mimetype": "text/x-python",
   "name": "python",
   "nbconvert_exporter": "python",
   "pygments_lexer": "ipython3",
   "version": "3.7.12"
  },
  "papermill": {
   "default_parameters": {},
   "duration": 164.123568,
   "end_time": "2022-07-28T01:13:44.005827",
   "environment_variables": {},
   "exception": null,
   "input_path": "__notebook__.ipynb",
   "output_path": "__notebook__.ipynb",
   "parameters": {},
   "start_time": "2022-07-28T01:10:59.882259",
   "version": "2.3.4"
  }
 },
 "nbformat": 4,
 "nbformat_minor": 5
}
