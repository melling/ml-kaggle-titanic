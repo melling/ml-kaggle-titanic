{
 "cells": [
  {
   "cell_type": "markdown",
   "id": "f336181c",
   "metadata": {
    "papermill": {
     "duration": 0.026464,
     "end_time": "2022-07-28T19:10:17.935475",
     "exception": false,
     "start_time": "2022-07-28T19:10:17.909011",
     "status": "completed"
    },
    "tags": []
   },
   "source": [
    "<div style=\"background-color:rgba(255, 215, 0, 0.6);border-radius:5px;display:fill\">\n",
    "    <h1 style=\"text-align: center;padding: 12px 0px 12px 0px;\">🚢 Titanic: XGBoost + Optuna</h1>\n",
    "</div>\n",
    "<img src=\"https://www.seekpng.com/png/full/200-2002376_predicting-titanic-survivors-old-photos-of-the-titanic.png\" alt=\"Titanic\" width=\"300\"/>\n",
    "\n"
   ]
  },
  {
   "cell_type": "markdown",
   "id": "bb89bc19",
   "metadata": {
    "papermill": {
     "duration": 0.02252,
     "end_time": "2022-07-28T19:10:17.983479",
     "exception": false,
     "start_time": "2022-07-28T19:10:17.960959",
     "status": "completed"
    },
    "tags": []
   },
   "source": [
    "# Understanding the Titanic Data\n",
    "\n",
    "## Target - What we want to predict\n",
    "\n",
    "For the Titantic dataset the target is:`Survived`\n",
    "\n",
    "## Features\n",
    "\n",
    "- `Pclass` - Ticket class (1st,2nd,3rd)\n",
    "- `Name` - Full name\n",
    "- `Sex` - Gender\n",
    "- `Age` - Passenger's age\n",
    "- `SibSp` - # of siblings / spouses aboard the Titanic\n",
    "- `Parch` - # of parents / children aboard the Titanic\n",
    "- `Ticket` - Ticket number\n",
    "- `Fare` - What the passenger paid for a ticket\n",
    "- `Cabin` - Cabin number\n",
    "- `Embarked` - C = Cherbourg, Q = Queenstown, S = Southampton\n",
    "\n",
    "## Evaluation Metric\n",
    "\n",
    "$Acurracy = \\frac{True Positives (TP) + True Negatives (TN)}{True Positives (TP) + True Negatives (TN) + False Positives(FP) + False Negatives(FN)}$\n",
    "\n",
    "- https://en.wikipedia.org/wiki/Accuracy_and_precision#In_binary_classification\n",
    "\n",
    "Percentage of passengers you correctly predict.  In other words, accurately predict who survived and who did not.\n",
    "\n",
    "- https://developers.google.com/machine-learning/crash-course/classification/accuracy\n",
    "\n"
   ]
  },
  {
   "cell_type": "code",
   "execution_count": 1,
   "id": "c23956a7",
   "metadata": {
    "execution": {
     "iopub.execute_input": "2022-07-28T19:10:18.029790Z",
     "iopub.status.busy": "2022-07-28T19:10:18.029017Z",
     "iopub.status.idle": "2022-07-28T19:10:32.704687Z",
     "shell.execute_reply": "2022-07-28T19:10:32.703577Z"
    },
    "papermill": {
     "duration": 14.701973,
     "end_time": "2022-07-28T19:10:32.707733",
     "exception": false,
     "start_time": "2022-07-28T19:10:18.005760",
     "status": "completed"
    },
    "tags": []
   },
   "outputs": [
    {
     "name": "stdout",
     "output_type": "stream",
     "text": [
      "\u001b[33mWARNING: Running pip as the 'root' user can result in broken permissions and conflicting behaviour with the system package manager. It is recommended to use a virtual environment instead: https://pip.pypa.io/warnings/venv\u001b[0m\u001b[33m\r\n",
      "\u001b[0m"
     ]
    }
   ],
   "source": [
    "# Black formatter https://black.readthedocs.io/en/stable/\n",
    "\n",
    "! pip install nb-black > /dev/null\n",
    "\n",
    "%load_ext lab_black"
   ]
  },
  {
   "cell_type": "markdown",
   "id": "77b25a4b",
   "metadata": {
    "papermill": {
     "duration": 0.021716,
     "end_time": "2022-07-28T19:10:32.751515",
     "exception": false,
     "start_time": "2022-07-28T19:10:32.729799",
     "status": "completed"
    },
    "tags": []
   },
   "source": [
    "<div style=\"background-color:rgba(255, 215, 0, 0.6);border-radius:5px;display:fill\"><h1 style=\"text-align: center;padding: 12px 0px 12px 0px;\">Import Libraries</h1>\n",
    "</div>"
   ]
  },
  {
   "cell_type": "code",
   "execution_count": 2,
   "id": "e94ac5cc",
   "metadata": {
    "execution": {
     "iopub.execute_input": "2022-07-28T19:10:32.796713Z",
     "iopub.status.busy": "2022-07-28T19:10:32.796328Z",
     "iopub.status.idle": "2022-07-28T19:10:35.548808Z",
     "shell.execute_reply": "2022-07-28T19:10:35.547813Z"
    },
    "papermill": {
     "duration": 2.778088,
     "end_time": "2022-07-28T19:10:35.551277",
     "exception": false,
     "start_time": "2022-07-28T19:10:32.773189",
     "status": "completed"
    },
    "tags": []
   },
   "outputs": [
    {
     "data": {
      "text/html": [
       "<style type='text/css'>\n",
       ".datatable table.frame { margin-bottom: 0; }\n",
       ".datatable table.frame thead { border-bottom: none; }\n",
       ".datatable table.frame tr.coltypes td {  color: #FFFFFF;  line-height: 6px;  padding: 0 0.5em;}\n",
       ".datatable .bool    { background: #DDDD99; }\n",
       ".datatable .object  { background: #565656; }\n",
       ".datatable .int     { background: #5D9E5D; }\n",
       ".datatable .float   { background: #4040CC; }\n",
       ".datatable .str     { background: #CC4040; }\n",
       ".datatable .time    { background: #40CC40; }\n",
       ".datatable .row_index {  background: var(--jp-border-color3);  border-right: 1px solid var(--jp-border-color0);  color: var(--jp-ui-font-color3);  font-size: 9px;}\n",
       ".datatable .frame tbody td { text-align: left; }\n",
       ".datatable .frame tr.coltypes .row_index {  background: var(--jp-border-color0);}\n",
       ".datatable th:nth-child(2) { padding-left: 12px; }\n",
       ".datatable .hellipsis {  color: var(--jp-cell-editor-border-color);}\n",
       ".datatable .vellipsis {  background: var(--jp-layout-color0);  color: var(--jp-cell-editor-border-color);}\n",
       ".datatable .na {  color: var(--jp-cell-editor-border-color);  font-size: 80%;}\n",
       ".datatable .sp {  opacity: 0.25;}\n",
       ".datatable .footer { font-size: 9px; }\n",
       ".datatable .frame_dimensions {  background: var(--jp-border-color3);  border-top: 1px solid var(--jp-border-color0);  color: var(--jp-ui-font-color3);  display: inline-block;  opacity: 0.6;  padding: 1px 10px 1px 5px;}\n",
       "</style>\n"
      ],
      "text/plain": [
       "<IPython.core.display.HTML object>"
      ]
     },
     "metadata": {},
     "output_type": "display_data"
    }
   ],
   "source": [
    "import os\n",
    "import time\n",
    "from pathlib import Path\n",
    "\n",
    "import pandas as pd\n",
    "import numpy as np\n",
    "\n",
    "from sklearn.model_selection import train_test_split\n",
    "from sklearn.impute import SimpleImputer\n",
    "from sklearn.model_selection import KFold, StratifiedKFold\n",
    "\n",
    "# from sklearn.metrics import accuracy_score, roc_auc_score\n",
    "from sklearn.metrics import classification_report, confusion_matrix\n",
    "\n",
    "import xgboost as xgb\n",
    "import catboost as cb\n",
    "import lightgbm as lgb\n",
    "\n",
    "# Visualization Libraries\n",
    "import matplotlib.pylab as plt\n",
    "import seaborn as sns\n",
    "\n",
    "%matplotlib inline\n",
    "\n",
    "from itertools import cycle\n",
    "\n",
    "plt.style.use(\"ggplot\")  # ggplot, fivethirtyeight\n",
    "color_pal = plt.rcParams[\"axes.prop_cycle\"].by_key()[\"color\"]\n",
    "color_cycle = cycle(plt.rcParams[\"axes.prop_cycle\"].by_key()[\"color\"])"
   ]
  },
  {
   "cell_type": "markdown",
   "id": "55337aad",
   "metadata": {
    "papermill": {
     "duration": 0.022106,
     "end_time": "2022-07-28T19:10:35.595824",
     "exception": false,
     "start_time": "2022-07-28T19:10:35.573718",
     "status": "completed"
    },
    "tags": []
   },
   "source": [
    "<div style=\"background-color:rgba(255, 215, 0, 0.6);border-radius:5px;display:fill\"><h1 style=\"text-align: center;padding: 12px 0px 12px 0px;\">Configuration</h1>\n",
    "</div>"
   ]
  },
  {
   "cell_type": "code",
   "execution_count": 3,
   "id": "29391bdc",
   "metadata": {
    "execution": {
     "iopub.execute_input": "2022-07-28T19:10:35.642397Z",
     "iopub.status.busy": "2022-07-28T19:10:35.641635Z",
     "iopub.status.idle": "2022-07-28T19:10:35.655767Z",
     "shell.execute_reply": "2022-07-28T19:10:35.654445Z"
    },
    "papermill": {
     "duration": 0.040688,
     "end_time": "2022-07-28T19:10:35.658713",
     "exception": false,
     "start_time": "2022-07-28T19:10:35.618025",
     "status": "completed"
    },
    "tags": []
   },
   "outputs": [],
   "source": [
    "class Config:\n",
    "    path = \"../input/titanic\"\n",
    "    gpu = False\n",
    "    debug = False\n",
    "    optimize = False\n",
    "    model_type = \"tf\"  # (xgb, cat, lgbm, keras)\n",
    "    model_name = \"tf1\"\n",
    "    competition = \"titanic\"\n",
    "    calc_probability = True\n",
    "    seed = 42\n",
    "    N_ESTIMATORS = 100  # 100, 300, 2000, 5000 GBDT\n",
    "\n",
    "    batch_size = 64\n",
    "    epochs = 25\n",
    "    N_FOLDS = 5  # 5,10,15\n",
    "    SEED_LENGTH = 1  # 5,10"
   ]
  },
  {
   "cell_type": "markdown",
   "id": "04ab6f44",
   "metadata": {
    "papermill": {
     "duration": 0.022687,
     "end_time": "2022-07-28T19:10:35.703654",
     "exception": false,
     "start_time": "2022-07-28T19:10:35.680967",
     "status": "completed"
    },
    "tags": []
   },
   "source": [
    "### The target/dependent variable in the dataset"
   ]
  },
  {
   "cell_type": "code",
   "execution_count": 4,
   "id": "02b400a0",
   "metadata": {
    "execution": {
     "iopub.execute_input": "2022-07-28T19:10:35.751971Z",
     "iopub.status.busy": "2022-07-28T19:10:35.750730Z",
     "iopub.status.idle": "2022-07-28T19:10:35.757267Z",
     "shell.execute_reply": "2022-07-28T19:10:35.756310Z"
    },
    "papermill": {
     "duration": 0.033079,
     "end_time": "2022-07-28T19:10:35.759566",
     "exception": false,
     "start_time": "2022-07-28T19:10:35.726487",
     "status": "completed"
    },
    "tags": []
   },
   "outputs": [],
   "source": [
    "# Did the passenger survive?\n",
    "# 0 = No, 1 = Yes\n",
    "TARGET = \"Survived\""
   ]
  },
  {
   "cell_type": "markdown",
   "id": "93fc3f20",
   "metadata": {
    "papermill": {
     "duration": 0.022835,
     "end_time": "2022-07-28T19:10:35.805570",
     "exception": false,
     "start_time": "2022-07-28T19:10:35.782735",
     "status": "completed"
    },
    "tags": []
   },
   "source": [
    "<div style=\"background-color:rgba(255, 215, 0, 0.6);border-radius:5px;display:fill\"><h1 style=\"text-align: center;padding: 12px 0px 12px 0px;\">Library</h1>\n",
    "</div>\n",
    "\n",
    "Creating a few functions that we will reuse in each project."
   ]
  },
  {
   "cell_type": "code",
   "execution_count": 5,
   "id": "c606dacc",
   "metadata": {
    "execution": {
     "iopub.execute_input": "2022-07-28T19:10:35.856082Z",
     "iopub.status.busy": "2022-07-28T19:10:35.855273Z",
     "iopub.status.idle": "2022-07-28T19:10:35.869241Z",
     "shell.execute_reply": "2022-07-28T19:10:35.868372Z"
    },
    "papermill": {
     "duration": 0.041758,
     "end_time": "2022-07-28T19:10:35.871455",
     "exception": false,
     "start_time": "2022-07-28T19:10:35.829697",
     "status": "completed"
    },
    "tags": []
   },
   "outputs": [],
   "source": [
    "def read_data(path):\n",
    "    data_dir = Path(path)\n",
    "\n",
    "    train = pd.read_csv(data_dir / \"train.csv\")\n",
    "    test = pd.read_csv(data_dir / \"test.csv\")\n",
    "    submission_df = pd.read_csv(data_dir / \"gender_submission.csv\")\n",
    "\n",
    "    print(f\"train data: Rows={train.shape[0]}, Columns={train.shape[1]}\")\n",
    "    print(f\"test data : Rows={test.shape[0]}, Columns={test.shape[1]}\")\n",
    "    return train, test, submission_df"
   ]
  },
  {
   "cell_type": "code",
   "execution_count": 6,
   "id": "4a59fca2",
   "metadata": {
    "execution": {
     "iopub.execute_input": "2022-07-28T19:10:35.918492Z",
     "iopub.status.busy": "2022-07-28T19:10:35.917642Z",
     "iopub.status.idle": "2022-07-28T19:10:35.929534Z",
     "shell.execute_reply": "2022-07-28T19:10:35.928512Z"
    },
    "papermill": {
     "duration": 0.038159,
     "end_time": "2022-07-28T19:10:35.931993",
     "exception": false,
     "start_time": "2022-07-28T19:10:35.893834",
     "status": "completed"
    },
    "tags": []
   },
   "outputs": [],
   "source": [
    "def create_submission(model_name, target, preds):\n",
    "    sample_submission[target] = preds\n",
    "\n",
    "    if len(model_name) > 0:\n",
    "        fname = \"submission_{model_name}.csv\"\n",
    "    else:\n",
    "        fname = \"submission.csv\"\n",
    "\n",
    "    sample_submission.to_csv(fname, index=False)\n",
    "\n",
    "    return sample_submission"
   ]
  },
  {
   "cell_type": "code",
   "execution_count": 7,
   "id": "a49e1091",
   "metadata": {
    "execution": {
     "iopub.execute_input": "2022-07-28T19:10:35.979760Z",
     "iopub.status.busy": "2022-07-28T19:10:35.978907Z",
     "iopub.status.idle": "2022-07-28T19:10:35.995218Z",
     "shell.execute_reply": "2022-07-28T19:10:35.994311Z"
    },
    "papermill": {
     "duration": 0.043404,
     "end_time": "2022-07-28T19:10:35.997821",
     "exception": false,
     "start_time": "2022-07-28T19:10:35.954417",
     "status": "completed"
    },
    "tags": []
   },
   "outputs": [],
   "source": [
    "from sklearn.metrics import (\n",
    "    accuracy_score,\n",
    "    precision_score,\n",
    "    recall_score,\n",
    "    f1_score,\n",
    "    roc_auc_score,\n",
    ")\n",
    "\n",
    "\n",
    "def show_scores(gt, yhat):\n",
    "    accuracy = accuracy_score(gt, yhat)\n",
    "    precision = precision_score(gt, yhat)\n",
    "    recall = recall_score(gt, yhat)\n",
    "    f1 = f1_score(gt, yhat)\n",
    "\n",
    "    print(f\"Accuracy: {accuracy:.4f}\")\n",
    "    print(f\"Precision: {precision:.4f}\")\n",
    "    print(f\"Recall: {recall:.4f}\")\n",
    "    print(f\"f1: {f1:.4f}\")"
   ]
  },
  {
   "cell_type": "code",
   "execution_count": 8,
   "id": "66cea57e",
   "metadata": {
    "execution": {
     "iopub.execute_input": "2022-07-28T19:10:36.044880Z",
     "iopub.status.busy": "2022-07-28T19:10:36.044048Z",
     "iopub.status.idle": "2022-07-28T19:10:36.059138Z",
     "shell.execute_reply": "2022-07-28T19:10:36.058327Z"
    },
    "papermill": {
     "duration": 0.041403,
     "end_time": "2022-07-28T19:10:36.061649",
     "exception": false,
     "start_time": "2022-07-28T19:10:36.020246",
     "status": "completed"
    },
    "tags": []
   },
   "outputs": [],
   "source": [
    "from sklearn.preprocessing import LabelEncoder\n",
    "\n",
    "\n",
    "def label_encoder(train, test, columns):\n",
    "    for col in columns:\n",
    "        train[col] = train[col].astype(str)\n",
    "        test[col] = test[col].astype(str)\n",
    "        train[col] = LabelEncoder().fit_transform(train[col])\n",
    "        test[col] = LabelEncoder().fit_transform(test[col])\n",
    "    return train, test"
   ]
  },
  {
   "cell_type": "code",
   "execution_count": 9,
   "id": "15d95283",
   "metadata": {
    "execution": {
     "iopub.execute_input": "2022-07-28T19:10:36.108492Z",
     "iopub.status.busy": "2022-07-28T19:10:36.108052Z",
     "iopub.status.idle": "2022-07-28T19:10:36.123815Z",
     "shell.execute_reply": "2022-07-28T19:10:36.122936Z"
    },
    "papermill": {
     "duration": 0.041987,
     "end_time": "2022-07-28T19:10:36.125913",
     "exception": false,
     "start_time": "2022-07-28T19:10:36.083926",
     "status": "completed"
    },
    "tags": []
   },
   "outputs": [],
   "source": [
    "from sklearn.preprocessing import OneHotEncoder\n",
    "\n",
    "\n",
    "def one_hot_encoder(train, test, columns):\n",
    "    for col in columns:\n",
    "        train[col] = train[col].astype(str)\n",
    "        test[col] = test[col].astype(str)\n",
    "        train[col] = OneHotEncoder().fit_transform(train[col])\n",
    "        test[col] = OneHotEncoder().fit_transform(test[col])\n",
    "    return train, test"
   ]
  },
  {
   "cell_type": "code",
   "execution_count": 10,
   "id": "5e706a13",
   "metadata": {
    "execution": {
     "iopub.execute_input": "2022-07-28T19:10:36.172770Z",
     "iopub.status.busy": "2022-07-28T19:10:36.172008Z",
     "iopub.status.idle": "2022-07-28T19:10:36.180221Z",
     "shell.execute_reply": "2022-07-28T19:10:36.179450Z"
    },
    "papermill": {
     "duration": 0.033939,
     "end_time": "2022-07-28T19:10:36.182236",
     "exception": false,
     "start_time": "2022-07-28T19:10:36.148297",
     "status": "completed"
    },
    "tags": []
   },
   "outputs": [],
   "source": [
    "def show_missing_features(df):\n",
    "    #     print(train.isna().sum().sort_values(ascending = False))\n",
    "    missing_vals = df.isna().sum().sort_values(ascending=False)\n",
    "    print(missing_vals[missing_vals > 0])"
   ]
  },
  {
   "cell_type": "code",
   "execution_count": 11,
   "id": "23976197",
   "metadata": {
    "execution": {
     "iopub.execute_input": "2022-07-28T19:10:36.229092Z",
     "iopub.status.busy": "2022-07-28T19:10:36.227969Z",
     "iopub.status.idle": "2022-07-28T19:10:36.244098Z",
     "shell.execute_reply": "2022-07-28T19:10:36.242960Z"
    },
    "papermill": {
     "duration": 0.042153,
     "end_time": "2022-07-28T19:10:36.246634",
     "exception": false,
     "start_time": "2022-07-28T19:10:36.204481",
     "status": "completed"
    },
    "tags": []
   },
   "outputs": [],
   "source": [
    "def create_folds(df, TARGET, n_folds=5, seed=42):\n",
    "    print(f\"TARGET={TARGET}, n_folds={n_folds}, seed={seed}\")\n",
    "    df[\"fold\"] = -1\n",
    "\n",
    "    kf = StratifiedKFold(n_splits=n_folds, shuffle=True, random_state=seed)\n",
    "    # kf = GroupKFold(n_splits=Config.N_FOLDS)\n",
    "\n",
    "    for fold, (train_idx, valid_idx) in enumerate(kf.split(df, df[TARGET])):\n",
    "        df.loc[valid_idx, \"fold\"] = fold\n",
    "\n",
    "    # df.to_csv(f\"train_fold{num_folds}.csv\", index=False)\n",
    "    return df"
   ]
  },
  {
   "cell_type": "code",
   "execution_count": 12,
   "id": "10b27993",
   "metadata": {
    "execution": {
     "iopub.execute_input": "2022-07-28T19:10:36.294356Z",
     "iopub.status.busy": "2022-07-28T19:10:36.293652Z",
     "iopub.status.idle": "2022-07-28T19:10:36.304187Z",
     "shell.execute_reply": "2022-07-28T19:10:36.302966Z"
    },
    "papermill": {
     "duration": 0.037427,
     "end_time": "2022-07-28T19:10:36.306431",
     "exception": false,
     "start_time": "2022-07-28T19:10:36.269004",
     "status": "completed"
    },
    "tags": []
   },
   "outputs": [],
   "source": [
    "def show_fold_scores(scores):\n",
    "    cv_score = np.mean(scores)  # Used in filename\n",
    "    print(\n",
    "        f\"Scores -> Adjusted: {np.mean(scores) - np.std(scores):.8f} , mean: {np.mean(scores):.8f}, std: {np.std(scores):.8f}\"\n",
    "    )"
   ]
  },
  {
   "cell_type": "code",
   "execution_count": 13,
   "id": "e6efb9c4",
   "metadata": {
    "execution": {
     "iopub.execute_input": "2022-07-28T19:10:36.366774Z",
     "iopub.status.busy": "2022-07-28T19:10:36.365986Z",
     "iopub.status.idle": "2022-07-28T19:10:36.373766Z",
     "shell.execute_reply": "2022-07-28T19:10:36.372968Z"
    },
    "papermill": {
     "duration": 0.042734,
     "end_time": "2022-07-28T19:10:36.375971",
     "exception": false,
     "start_time": "2022-07-28T19:10:36.333237",
     "status": "completed"
    },
    "tags": []
   },
   "outputs": [],
   "source": [
    "# Save OOF Results\n",
    "if not os.path.exists(\"results\"):\n",
    "    os.makedirs(\"results\")"
   ]
  },
  {
   "cell_type": "markdown",
   "id": "cc1a065d",
   "metadata": {
    "papermill": {
     "duration": 0.030616,
     "end_time": "2022-07-28T19:10:36.430256",
     "exception": false,
     "start_time": "2022-07-28T19:10:36.399640",
     "status": "completed"
    },
    "tags": []
   },
   "source": [
    "<div style=\"background-color:rgba(255, 215, 0, 0.6);border-radius:5px;display:fill\"><h1 style=\"text-align: center;padding: 12px 0px 12px 0px;\">Load Train/Test Data</h1>\n",
    "</div>\n",
    "\n",
    "## Load the following files\n",
    "\n",
    " - train.csv - Data used to build our machine learning model\n",
    " - test.csv - Data used to build our machine learning model. Does not contain the `Suvived` target variable\n",
    " - gender_submission.csv - A file in the proper format to submit test predictions"
   ]
  },
  {
   "cell_type": "code",
   "execution_count": 14,
   "id": "146165eb",
   "metadata": {
    "execution": {
     "iopub.execute_input": "2022-07-28T19:10:36.476972Z",
     "iopub.status.busy": "2022-07-28T19:10:36.476149Z",
     "iopub.status.idle": "2022-07-28T19:10:36.519202Z",
     "shell.execute_reply": "2022-07-28T19:10:36.517884Z"
    },
    "papermill": {
     "duration": 0.070142,
     "end_time": "2022-07-28T19:10:36.522657",
     "exception": false,
     "start_time": "2022-07-28T19:10:36.452515",
     "status": "completed"
    },
    "tags": []
   },
   "outputs": [
    {
     "name": "stdout",
     "output_type": "stream",
     "text": [
      "train data: Rows=891, Columns=12\n",
      "test data : Rows=418, Columns=11\n"
     ]
    }
   ],
   "source": [
    "train, test, sample_submission = read_data(Config.path)"
   ]
  },
  {
   "cell_type": "code",
   "execution_count": 15,
   "id": "44c50f01",
   "metadata": {
    "execution": {
     "iopub.execute_input": "2022-07-28T19:10:36.572700Z",
     "iopub.status.busy": "2022-07-28T19:10:36.571646Z",
     "iopub.status.idle": "2022-07-28T19:10:36.596196Z",
     "shell.execute_reply": "2022-07-28T19:10:36.595392Z"
    },
    "papermill": {
     "duration": 0.050919,
     "end_time": "2022-07-28T19:10:36.598767",
     "exception": false,
     "start_time": "2022-07-28T19:10:36.547848",
     "status": "completed"
    },
    "tags": []
   },
   "outputs": [
    {
     "data": {
      "text/html": [
       "<div>\n",
       "<style scoped>\n",
       "    .dataframe tbody tr th:only-of-type {\n",
       "        vertical-align: middle;\n",
       "    }\n",
       "\n",
       "    .dataframe tbody tr th {\n",
       "        vertical-align: top;\n",
       "    }\n",
       "\n",
       "    .dataframe thead th {\n",
       "        text-align: right;\n",
       "    }\n",
       "</style>\n",
       "<table border=\"1\" class=\"dataframe\">\n",
       "  <thead>\n",
       "    <tr style=\"text-align: right;\">\n",
       "      <th></th>\n",
       "      <th>PassengerId</th>\n",
       "      <th>Survived</th>\n",
       "      <th>Pclass</th>\n",
       "      <th>Name</th>\n",
       "      <th>Sex</th>\n",
       "      <th>Age</th>\n",
       "      <th>SibSp</th>\n",
       "      <th>Parch</th>\n",
       "      <th>Ticket</th>\n",
       "      <th>Fare</th>\n",
       "      <th>Cabin</th>\n",
       "      <th>Embarked</th>\n",
       "    </tr>\n",
       "  </thead>\n",
       "  <tbody>\n",
       "    <tr>\n",
       "      <th>0</th>\n",
       "      <td>1</td>\n",
       "      <td>0</td>\n",
       "      <td>3</td>\n",
       "      <td>Braund, Mr. Owen Harris</td>\n",
       "      <td>male</td>\n",
       "      <td>22.0</td>\n",
       "      <td>1</td>\n",
       "      <td>0</td>\n",
       "      <td>A/5 21171</td>\n",
       "      <td>7.2500</td>\n",
       "      <td>NaN</td>\n",
       "      <td>S</td>\n",
       "    </tr>\n",
       "    <tr>\n",
       "      <th>1</th>\n",
       "      <td>2</td>\n",
       "      <td>1</td>\n",
       "      <td>1</td>\n",
       "      <td>Cumings, Mrs. John Bradley (Florence Briggs Th...</td>\n",
       "      <td>female</td>\n",
       "      <td>38.0</td>\n",
       "      <td>1</td>\n",
       "      <td>0</td>\n",
       "      <td>PC 17599</td>\n",
       "      <td>71.2833</td>\n",
       "      <td>C85</td>\n",
       "      <td>C</td>\n",
       "    </tr>\n",
       "    <tr>\n",
       "      <th>2</th>\n",
       "      <td>3</td>\n",
       "      <td>1</td>\n",
       "      <td>3</td>\n",
       "      <td>Heikkinen, Miss. Laina</td>\n",
       "      <td>female</td>\n",
       "      <td>26.0</td>\n",
       "      <td>0</td>\n",
       "      <td>0</td>\n",
       "      <td>STON/O2. 3101282</td>\n",
       "      <td>7.9250</td>\n",
       "      <td>NaN</td>\n",
       "      <td>S</td>\n",
       "    </tr>\n",
       "    <tr>\n",
       "      <th>3</th>\n",
       "      <td>4</td>\n",
       "      <td>1</td>\n",
       "      <td>1</td>\n",
       "      <td>Futrelle, Mrs. Jacques Heath (Lily May Peel)</td>\n",
       "      <td>female</td>\n",
       "      <td>35.0</td>\n",
       "      <td>1</td>\n",
       "      <td>0</td>\n",
       "      <td>113803</td>\n",
       "      <td>53.1000</td>\n",
       "      <td>C123</td>\n",
       "      <td>S</td>\n",
       "    </tr>\n",
       "    <tr>\n",
       "      <th>4</th>\n",
       "      <td>5</td>\n",
       "      <td>0</td>\n",
       "      <td>3</td>\n",
       "      <td>Allen, Mr. William Henry</td>\n",
       "      <td>male</td>\n",
       "      <td>35.0</td>\n",
       "      <td>0</td>\n",
       "      <td>0</td>\n",
       "      <td>373450</td>\n",
       "      <td>8.0500</td>\n",
       "      <td>NaN</td>\n",
       "      <td>S</td>\n",
       "    </tr>\n",
       "  </tbody>\n",
       "</table>\n",
       "</div>"
      ],
      "text/plain": [
       "   PassengerId  Survived  Pclass  \\\n",
       "0            1         0       3   \n",
       "1            2         1       1   \n",
       "2            3         1       3   \n",
       "3            4         1       1   \n",
       "4            5         0       3   \n",
       "\n",
       "                                                Name     Sex   Age  SibSp  \\\n",
       "0                            Braund, Mr. Owen Harris    male  22.0      1   \n",
       "1  Cumings, Mrs. John Bradley (Florence Briggs Th...  female  38.0      1   \n",
       "2                             Heikkinen, Miss. Laina  female  26.0      0   \n",
       "3       Futrelle, Mrs. Jacques Heath (Lily May Peel)  female  35.0      1   \n",
       "4                           Allen, Mr. William Henry    male  35.0      0   \n",
       "\n",
       "   Parch            Ticket     Fare Cabin Embarked  \n",
       "0      0         A/5 21171   7.2500   NaN        S  \n",
       "1      0          PC 17599  71.2833   C85        C  \n",
       "2      0  STON/O2. 3101282   7.9250   NaN        S  \n",
       "3      0            113803  53.1000  C123        S  \n",
       "4      0            373450   8.0500   NaN        S  "
      ]
     },
     "execution_count": 15,
     "metadata": {},
     "output_type": "execute_result"
    }
   ],
   "source": [
    "train.head()"
   ]
  },
  {
   "cell_type": "code",
   "execution_count": 16,
   "id": "5ffcdc99",
   "metadata": {
    "execution": {
     "iopub.execute_input": "2022-07-28T19:10:36.653385Z",
     "iopub.status.busy": "2022-07-28T19:10:36.652316Z",
     "iopub.status.idle": "2022-07-28T19:10:36.661836Z",
     "shell.execute_reply": "2022-07-28T19:10:36.660480Z"
    },
    "papermill": {
     "duration": 0.03905,
     "end_time": "2022-07-28T19:10:36.664544",
     "exception": false,
     "start_time": "2022-07-28T19:10:36.625494",
     "status": "completed"
    },
    "tags": []
   },
   "outputs": [
    {
     "data": {
      "text/plain": [
       "Index(['PassengerId', 'Survived', 'Pclass', 'Name', 'Sex', 'Age', 'SibSp',\n",
       "       'Parch', 'Ticket', 'Fare', 'Cabin', 'Embarked'],\n",
       "      dtype='object')"
      ]
     },
     "execution_count": 16,
     "metadata": {},
     "output_type": "execute_result"
    }
   ],
   "source": [
    "train.columns"
   ]
  },
  {
   "cell_type": "code",
   "execution_count": 17,
   "id": "0a9fe4d3",
   "metadata": {
    "execution": {
     "iopub.execute_input": "2022-07-28T19:10:36.726534Z",
     "iopub.status.busy": "2022-07-28T19:10:36.725653Z",
     "iopub.status.idle": "2022-07-28T19:10:36.741738Z",
     "shell.execute_reply": "2022-07-28T19:10:36.740683Z"
    },
    "papermill": {
     "duration": 0.047319,
     "end_time": "2022-07-28T19:10:36.744153",
     "exception": false,
     "start_time": "2022-07-28T19:10:36.696834",
     "status": "completed"
    },
    "tags": []
   },
   "outputs": [],
   "source": [
    "train = train.drop(columns=[\"Name\", \"Ticket\", \"Cabin\"], axis=1).copy()\n",
    "# test = test.drop(columns=[\"PassengerId\"], axis=1).copy()"
   ]
  },
  {
   "cell_type": "markdown",
   "id": "a9452aa4",
   "metadata": {
    "papermill": {
     "duration": 0.022245,
     "end_time": "2022-07-28T19:10:36.789255",
     "exception": false,
     "start_time": "2022-07-28T19:10:36.767010",
     "status": "completed"
    },
    "tags": []
   },
   "source": [
    "## Categorical/Numerical Variables"
   ]
  },
  {
   "cell_type": "code",
   "execution_count": 18,
   "id": "f99aef2b",
   "metadata": {
    "execution": {
     "iopub.execute_input": "2022-07-28T19:10:36.837081Z",
     "iopub.status.busy": "2022-07-28T19:10:36.836215Z",
     "iopub.status.idle": "2022-07-28T19:10:36.858399Z",
     "shell.execute_reply": "2022-07-28T19:10:36.857395Z"
    },
    "papermill": {
     "duration": 0.049394,
     "end_time": "2022-07-28T19:10:36.861299",
     "exception": false,
     "start_time": "2022-07-28T19:10:36.811905",
     "status": "completed"
    },
    "tags": []
   },
   "outputs": [
    {
     "data": {
      "text/plain": [
       "['Sex', 'Embarked', 'Pclass', 'Age', 'SibSp', 'Parch', 'Fare']"
      ]
     },
     "execution_count": 18,
     "metadata": {},
     "output_type": "execute_result"
    }
   ],
   "source": [
    "## Separate Categorical and Numerical Features\n",
    "cat_features = list(train.select_dtypes(include=[\"category\", \"object\"]).columns)\n",
    "num_features = list(test.select_dtypes(include=[\"number\"]).columns)\n",
    "num_features.remove(\"PassengerId\")\n",
    "\n",
    "FEATURES = cat_features + num_features\n",
    "FEATURES"
   ]
  },
  {
   "cell_type": "code",
   "execution_count": 19,
   "id": "9f61cf9e",
   "metadata": {
    "execution": {
     "iopub.execute_input": "2022-07-28T19:10:36.911929Z",
     "iopub.status.busy": "2022-07-28T19:10:36.911050Z",
     "iopub.status.idle": "2022-07-28T19:10:36.945587Z",
     "shell.execute_reply": "2022-07-28T19:10:36.944352Z"
    },
    "papermill": {
     "duration": 0.06115,
     "end_time": "2022-07-28T19:10:36.948120",
     "exception": false,
     "start_time": "2022-07-28T19:10:36.886970",
     "status": "completed"
    },
    "tags": []
   },
   "outputs": [],
   "source": [
    "from sklearn.impute import SimpleImputer\n",
    "\n",
    "# Categorical\n",
    "imputer = SimpleImputer(strategy=\"most_frequent\")\n",
    "\n",
    "train[cat_features] = imputer.fit_transform(train[cat_features])\n",
    "test[cat_features] = imputer.transform(test[cat_features])\n",
    "\n",
    "# Numerical\n",
    "\n",
    "# imputer = SimpleImputer(strategy=\"mean\")\n",
    "imputer = SimpleImputer(strategy=\"median\")  # median is more robust to outliers\n",
    "\n",
    "train[num_features] = imputer.fit_transform(train[num_features])\n",
    "test[num_features] = imputer.transform(test[num_features])"
   ]
  },
  {
   "cell_type": "markdown",
   "id": "f1f52018",
   "metadata": {
    "papermill": {
     "duration": 0.022087,
     "end_time": "2022-07-28T19:10:36.993122",
     "exception": false,
     "start_time": "2022-07-28T19:10:36.971035",
     "status": "completed"
    },
    "tags": []
   },
   "source": [
    "<div style=\"background-color:rgba(255, 215, 0, 0.6);border-radius:5px;display:fill\"><h1 style=\"text-align: center;padding: 12px 0px 12px 0px;\">Feature Engineering</h1>\n",
    "</div>\n",
    "\n",
    "- [Titanic - Advanced Feature Engineering Tutorial](https://www.kaggle.com/gunesevitan/titanic-advanced-feature-engineering-tutorial)\n",
    "- [Titanic Survival Predictions (Beginner)](https://www.kaggle.com/nadintamer/titanic-survival-predictions-beginner)\n",
    "- [Exploring Survival on the Titanic](https://www.kaggle.com/mrisdal/exploring-survival-on-the-titanic)"
   ]
  },
  {
   "cell_type": "code",
   "execution_count": 20,
   "id": "bb25633b",
   "metadata": {
    "execution": {
     "iopub.execute_input": "2022-07-28T19:10:37.040523Z",
     "iopub.status.busy": "2022-07-28T19:10:37.039630Z",
     "iopub.status.idle": "2022-07-28T19:10:37.045218Z",
     "shell.execute_reply": "2022-07-28T19:10:37.044221Z"
    },
    "papermill": {
     "duration": 0.031702,
     "end_time": "2022-07-28T19:10:37.047309",
     "exception": false,
     "start_time": "2022-07-28T19:10:37.015607",
     "status": "completed"
    },
    "tags": []
   },
   "outputs": [],
   "source": [
    "# FEATURES = [\"Pclass\", \"Sex\", \"Age\", \"SibSp\", \"Parch\", \"Embarked\"]"
   ]
  },
  {
   "cell_type": "code",
   "execution_count": 21,
   "id": "6f895adc",
   "metadata": {
    "execution": {
     "iopub.execute_input": "2022-07-28T19:10:37.094450Z",
     "iopub.status.busy": "2022-07-28T19:10:37.093560Z",
     "iopub.status.idle": "2022-07-28T19:10:37.112444Z",
     "shell.execute_reply": "2022-07-28T19:10:37.111456Z"
    },
    "papermill": {
     "duration": 0.044867,
     "end_time": "2022-07-28T19:10:37.114563",
     "exception": false,
     "start_time": "2022-07-28T19:10:37.069696",
     "status": "completed"
    },
    "tags": []
   },
   "outputs": [
    {
     "data": {
      "text/html": [
       "<div>\n",
       "<style scoped>\n",
       "    .dataframe tbody tr th:only-of-type {\n",
       "        vertical-align: middle;\n",
       "    }\n",
       "\n",
       "    .dataframe tbody tr th {\n",
       "        vertical-align: top;\n",
       "    }\n",
       "\n",
       "    .dataframe thead th {\n",
       "        text-align: right;\n",
       "    }\n",
       "</style>\n",
       "<table border=\"1\" class=\"dataframe\">\n",
       "  <thead>\n",
       "    <tr style=\"text-align: right;\">\n",
       "      <th></th>\n",
       "      <th>Sex</th>\n",
       "      <th>Embarked</th>\n",
       "      <th>Pclass</th>\n",
       "      <th>Age</th>\n",
       "      <th>SibSp</th>\n",
       "      <th>Parch</th>\n",
       "      <th>Fare</th>\n",
       "    </tr>\n",
       "  </thead>\n",
       "  <tbody>\n",
       "    <tr>\n",
       "      <th>0</th>\n",
       "      <td>male</td>\n",
       "      <td>S</td>\n",
       "      <td>3.0</td>\n",
       "      <td>22.0</td>\n",
       "      <td>1.0</td>\n",
       "      <td>0.0</td>\n",
       "      <td>7.2500</td>\n",
       "    </tr>\n",
       "    <tr>\n",
       "      <th>1</th>\n",
       "      <td>female</td>\n",
       "      <td>C</td>\n",
       "      <td>1.0</td>\n",
       "      <td>38.0</td>\n",
       "      <td>1.0</td>\n",
       "      <td>0.0</td>\n",
       "      <td>71.2833</td>\n",
       "    </tr>\n",
       "    <tr>\n",
       "      <th>2</th>\n",
       "      <td>female</td>\n",
       "      <td>S</td>\n",
       "      <td>3.0</td>\n",
       "      <td>26.0</td>\n",
       "      <td>0.0</td>\n",
       "      <td>0.0</td>\n",
       "      <td>7.9250</td>\n",
       "    </tr>\n",
       "    <tr>\n",
       "      <th>3</th>\n",
       "      <td>female</td>\n",
       "      <td>S</td>\n",
       "      <td>1.0</td>\n",
       "      <td>35.0</td>\n",
       "      <td>1.0</td>\n",
       "      <td>0.0</td>\n",
       "      <td>53.1000</td>\n",
       "    </tr>\n",
       "    <tr>\n",
       "      <th>4</th>\n",
       "      <td>male</td>\n",
       "      <td>S</td>\n",
       "      <td>3.0</td>\n",
       "      <td>35.0</td>\n",
       "      <td>0.0</td>\n",
       "      <td>0.0</td>\n",
       "      <td>8.0500</td>\n",
       "    </tr>\n",
       "  </tbody>\n",
       "</table>\n",
       "</div>"
      ],
      "text/plain": [
       "      Sex Embarked  Pclass   Age  SibSp  Parch     Fare\n",
       "0    male        S     3.0  22.0    1.0    0.0   7.2500\n",
       "1  female        C     1.0  38.0    1.0    0.0  71.2833\n",
       "2  female        S     3.0  26.0    0.0    0.0   7.9250\n",
       "3  female        S     1.0  35.0    1.0    0.0  53.1000\n",
       "4    male        S     3.0  35.0    0.0    0.0   8.0500"
      ]
     },
     "execution_count": 21,
     "metadata": {},
     "output_type": "execute_result"
    }
   ],
   "source": [
    "train[FEATURES].head()"
   ]
  },
  {
   "cell_type": "markdown",
   "id": "56f852d3",
   "metadata": {
    "papermill": {
     "duration": 0.023333,
     "end_time": "2022-07-28T19:10:37.160620",
     "exception": false,
     "start_time": "2022-07-28T19:10:37.137287",
     "status": "completed"
    },
    "tags": []
   },
   "source": [
    "# Extract Target and Drop Unused Columns"
   ]
  },
  {
   "cell_type": "code",
   "execution_count": 22,
   "id": "699589ce",
   "metadata": {
    "execution": {
     "iopub.execute_input": "2022-07-28T19:10:37.208360Z",
     "iopub.status.busy": "2022-07-28T19:10:37.207478Z",
     "iopub.status.idle": "2022-07-28T19:10:37.213696Z",
     "shell.execute_reply": "2022-07-28T19:10:37.212719Z"
    },
    "papermill": {
     "duration": 0.033644,
     "end_time": "2022-07-28T19:10:37.216961",
     "exception": false,
     "start_time": "2022-07-28T19:10:37.183317",
     "status": "completed"
    },
    "tags": []
   },
   "outputs": [],
   "source": [
    "# y = train[TARGET]\n",
    "\n",
    "# X = train_df.drop(columns=[\"PassengerId\", \"Survived\"], axis=1).copy()\n",
    "# X = train[FEATURES].copy()"
   ]
  },
  {
   "cell_type": "markdown",
   "id": "45435f47",
   "metadata": {
    "papermill": {
     "duration": 0.0222,
     "end_time": "2022-07-28T19:10:37.266822",
     "exception": false,
     "start_time": "2022-07-28T19:10:37.244622",
     "status": "completed"
    },
    "tags": []
   },
   "source": [
    "<div style=\"background-color:rgba(255, 215, 0, 0.6);border-radius:5px;display:fill\"><h1 style=\"text-align: center;padding: 12px 0px 12px 0px;\">Missing Values</h1>\n",
    "</div>\n",
    "\n",
    "We have 891 rows of training data. Age is the only feature, that we are using, with missing data.\n",
    "\n",
    "Note, handling missing data is an entire subject that should be studied in detail.  Kaggle offers a [course](https://www.kaggle.com/learn/data-cleaning)\n",
    "\n",
    "- [sklearn.impute.SimpleImputer](https://scikit-learn.org/stable/modules/impute.html)\n",
    "- https://scikit-learn.org/stable/modules/impute.html\n",
    "\n",
    "- [A Guide to Handling Missing values in Python](https://www.kaggle.com/parulpandey/a-guide-to-handling-missing-values-in-python)"
   ]
  },
  {
   "cell_type": "code",
   "execution_count": 23,
   "id": "3ade18c1",
   "metadata": {
    "execution": {
     "iopub.execute_input": "2022-07-28T19:10:37.313739Z",
     "iopub.status.busy": "2022-07-28T19:10:37.313323Z",
     "iopub.status.idle": "2022-07-28T19:10:37.322958Z",
     "shell.execute_reply": "2022-07-28T19:10:37.321695Z"
    },
    "papermill": {
     "duration": 0.03585,
     "end_time": "2022-07-28T19:10:37.325212",
     "exception": false,
     "start_time": "2022-07-28T19:10:37.289362",
     "status": "completed"
    },
    "tags": []
   },
   "outputs": [
    {
     "name": "stdout",
     "output_type": "stream",
     "text": [
      "Series([], dtype: int64)\n"
     ]
    }
   ],
   "source": [
    "show_missing_features(train)"
   ]
  },
  {
   "cell_type": "code",
   "execution_count": 24,
   "id": "28ca9645",
   "metadata": {
    "execution": {
     "iopub.execute_input": "2022-07-28T19:10:37.373284Z",
     "iopub.status.busy": "2022-07-28T19:10:37.372498Z",
     "iopub.status.idle": "2022-07-28T19:10:37.382306Z",
     "shell.execute_reply": "2022-07-28T19:10:37.380895Z"
    },
    "papermill": {
     "duration": 0.036803,
     "end_time": "2022-07-28T19:10:37.384927",
     "exception": false,
     "start_time": "2022-07-28T19:10:37.348124",
     "status": "completed"
    },
    "tags": []
   },
   "outputs": [
    {
     "name": "stdout",
     "output_type": "stream",
     "text": [
      "Number missing: 0\n"
     ]
    }
   ],
   "source": [
    "n = train[\"Age\"].isna().sum()\n",
    "print(f\"Number missing: {n}\")"
   ]
  },
  {
   "cell_type": "markdown",
   "id": "1d2a9fec",
   "metadata": {
    "papermill": {
     "duration": 0.022558,
     "end_time": "2022-07-28T19:10:37.430657",
     "exception": false,
     "start_time": "2022-07-28T19:10:37.408099",
     "status": "completed"
    },
    "tags": []
   },
   "source": [
    "### Manual Imputation of Age"
   ]
  },
  {
   "cell_type": "code",
   "execution_count": 25,
   "id": "cb61524b",
   "metadata": {
    "execution": {
     "iopub.execute_input": "2022-07-28T19:10:37.478874Z",
     "iopub.status.busy": "2022-07-28T19:10:37.478074Z",
     "iopub.status.idle": "2022-07-28T19:10:37.487836Z",
     "shell.execute_reply": "2022-07-28T19:10:37.486454Z"
    },
    "papermill": {
     "duration": 0.036468,
     "end_time": "2022-07-28T19:10:37.489995",
     "exception": false,
     "start_time": "2022-07-28T19:10:37.453527",
     "status": "completed"
    },
    "tags": []
   },
   "outputs": [
    {
     "name": "stdout",
     "output_type": "stream",
     "text": [
      "Mean age of person on the Titanic: 29.36\n"
     ]
    }
   ],
   "source": [
    "# train_df[\"Age\"].fillna(train_df[\"Age\"].mean(), inplace = True)\n",
    "m = train[\"Age\"].mean()\n",
    "print(f\"Mean age of person on the Titanic: {m:0.2f}\")"
   ]
  },
  {
   "cell_type": "code",
   "execution_count": 26,
   "id": "f64b7787",
   "metadata": {
    "execution": {
     "iopub.execute_input": "2022-07-28T19:10:37.537385Z",
     "iopub.status.busy": "2022-07-28T19:10:37.536990Z",
     "iopub.status.idle": "2022-07-28T19:10:37.550004Z",
     "shell.execute_reply": "2022-07-28T19:10:37.549040Z"
    },
    "papermill": {
     "duration": 0.039398,
     "end_time": "2022-07-28T19:10:37.552260",
     "exception": false,
     "start_time": "2022-07-28T19:10:37.512862",
     "status": "completed"
    },
    "tags": []
   },
   "outputs": [],
   "source": [
    "train[\"Age\"].fillna(train[\"Age\"].median(skipna=True), inplace=True)\n",
    "train[\"Embarked\"].fillna(train[\"Embarked\"].value_counts().idxmax(), inplace=True)"
   ]
  },
  {
   "cell_type": "markdown",
   "id": "43c9e053",
   "metadata": {
    "papermill": {
     "duration": 0.022551,
     "end_time": "2022-07-28T19:10:37.597696",
     "exception": false,
     "start_time": "2022-07-28T19:10:37.575145",
     "status": "completed"
    },
    "tags": []
   },
   "source": [
    "### Use SimpleImputer Function for Age\n",
    "\n",
    "Leaving the SimpleImputer code uncommented.  It should do nothing since we filled in the values above."
   ]
  },
  {
   "cell_type": "code",
   "execution_count": 27,
   "id": "babce70d",
   "metadata": {
    "execution": {
     "iopub.execute_input": "2022-07-28T19:10:37.645451Z",
     "iopub.status.busy": "2022-07-28T19:10:37.644358Z",
     "iopub.status.idle": "2022-07-28T19:10:37.666935Z",
     "shell.execute_reply": "2022-07-28T19:10:37.665959Z"
    },
    "papermill": {
     "duration": 0.048693,
     "end_time": "2022-07-28T19:10:37.669199",
     "exception": false,
     "start_time": "2022-07-28T19:10:37.620506",
     "status": "completed"
    },
    "tags": []
   },
   "outputs": [],
   "source": [
    "impute_mean = SimpleImputer(missing_values=np.nan, strategy=\"mean\", verbose=1)\n",
    "m = impute_mean.fit_transform(train[[\"Age\"]])\n",
    "# mt = impute_mean.transform(test[[\"Age\"]])\n",
    "\n",
    "train[\"Age\"] = impute_mean.fit_transform(train[[\"Age\"]])\n",
    "test[\"Age\"] = impute_mean.transform(test[[\"Age\"]])"
   ]
  },
  {
   "cell_type": "markdown",
   "id": "cab4e6b5",
   "metadata": {
    "papermill": {
     "duration": 0.022342,
     "end_time": "2022-07-28T19:10:37.714390",
     "exception": false,
     "start_time": "2022-07-28T19:10:37.692048",
     "status": "completed"
    },
    "tags": []
   },
   "source": [
    "### At this point we no longer have missing values"
   ]
  },
  {
   "cell_type": "code",
   "execution_count": 28,
   "id": "9b5b682a",
   "metadata": {
    "execution": {
     "iopub.execute_input": "2022-07-28T19:10:37.766261Z",
     "iopub.status.busy": "2022-07-28T19:10:37.764981Z",
     "iopub.status.idle": "2022-07-28T19:10:37.776094Z",
     "shell.execute_reply": "2022-07-28T19:10:37.774715Z"
    },
    "papermill": {
     "duration": 0.041419,
     "end_time": "2022-07-28T19:10:37.778442",
     "exception": false,
     "start_time": "2022-07-28T19:10:37.737023",
     "status": "completed"
    },
    "tags": []
   },
   "outputs": [
    {
     "name": "stdout",
     "output_type": "stream",
     "text": [
      "Series([], dtype: int64)\n"
     ]
    }
   ],
   "source": [
    "show_missing_features(train)"
   ]
  },
  {
   "cell_type": "markdown",
   "id": "4fce8f92",
   "metadata": {
    "papermill": {
     "duration": 0.023281,
     "end_time": "2022-07-28T19:10:37.825300",
     "exception": false,
     "start_time": "2022-07-28T19:10:37.802019",
     "status": "completed"
    },
    "tags": []
   },
   "source": [
    "# Encoding Categorical Features\n",
    "\n",
    "Need to convert categorical features into numerical features.\n",
    "\n",
    "Several ways:\n",
    "- One-hot Encode\n",
    "- Label Encode"
   ]
  },
  {
   "cell_type": "markdown",
   "id": "aa4f577e",
   "metadata": {
    "papermill": {
     "duration": 0.022946,
     "end_time": "2022-07-28T19:10:37.871670",
     "exception": false,
     "start_time": "2022-07-28T19:10:37.848724",
     "status": "completed"
    },
    "tags": []
   },
   "source": [
    "### Encode `Embarked`\n",
    "\n",
    "First compare what the **drop_first=True** option does.  Some machine learning models require this option while others do not.  Logitistic regression requires us to drop the value."
   ]
  },
  {
   "cell_type": "code",
   "execution_count": 29,
   "id": "f8b457cc",
   "metadata": {
    "execution": {
     "iopub.execute_input": "2022-07-28T19:10:37.920678Z",
     "iopub.status.busy": "2022-07-28T19:10:37.920300Z",
     "iopub.status.idle": "2022-07-28T19:10:37.942915Z",
     "shell.execute_reply": "2022-07-28T19:10:37.941644Z"
    },
    "papermill": {
     "duration": 0.049681,
     "end_time": "2022-07-28T19:10:37.945470",
     "exception": false,
     "start_time": "2022-07-28T19:10:37.895789",
     "status": "completed"
    },
    "tags": []
   },
   "outputs": [
    {
     "data": {
      "text/html": [
       "<div>\n",
       "<style scoped>\n",
       "    .dataframe tbody tr th:only-of-type {\n",
       "        vertical-align: middle;\n",
       "    }\n",
       "\n",
       "    .dataframe tbody tr th {\n",
       "        vertical-align: top;\n",
       "    }\n",
       "\n",
       "    .dataframe thead th {\n",
       "        text-align: right;\n",
       "    }\n",
       "</style>\n",
       "<table border=\"1\" class=\"dataframe\">\n",
       "  <thead>\n",
       "    <tr style=\"text-align: right;\">\n",
       "      <th></th>\n",
       "      <th>PassengerId</th>\n",
       "      <th>Survived</th>\n",
       "      <th>Pclass</th>\n",
       "      <th>Sex</th>\n",
       "      <th>Age</th>\n",
       "      <th>SibSp</th>\n",
       "      <th>Parch</th>\n",
       "      <th>Fare</th>\n",
       "      <th>Embarked</th>\n",
       "    </tr>\n",
       "  </thead>\n",
       "  <tbody>\n",
       "    <tr>\n",
       "      <th>0</th>\n",
       "      <td>1</td>\n",
       "      <td>0</td>\n",
       "      <td>3.0</td>\n",
       "      <td>1</td>\n",
       "      <td>22.0</td>\n",
       "      <td>1.0</td>\n",
       "      <td>0.0</td>\n",
       "      <td>7.2500</td>\n",
       "      <td>2</td>\n",
       "    </tr>\n",
       "    <tr>\n",
       "      <th>1</th>\n",
       "      <td>2</td>\n",
       "      <td>1</td>\n",
       "      <td>1.0</td>\n",
       "      <td>0</td>\n",
       "      <td>38.0</td>\n",
       "      <td>1.0</td>\n",
       "      <td>0.0</td>\n",
       "      <td>71.2833</td>\n",
       "      <td>0</td>\n",
       "    </tr>\n",
       "    <tr>\n",
       "      <th>2</th>\n",
       "      <td>3</td>\n",
       "      <td>1</td>\n",
       "      <td>3.0</td>\n",
       "      <td>0</td>\n",
       "      <td>26.0</td>\n",
       "      <td>0.0</td>\n",
       "      <td>0.0</td>\n",
       "      <td>7.9250</td>\n",
       "      <td>2</td>\n",
       "    </tr>\n",
       "    <tr>\n",
       "      <th>3</th>\n",
       "      <td>4</td>\n",
       "      <td>1</td>\n",
       "      <td>1.0</td>\n",
       "      <td>0</td>\n",
       "      <td>35.0</td>\n",
       "      <td>1.0</td>\n",
       "      <td>0.0</td>\n",
       "      <td>53.1000</td>\n",
       "      <td>2</td>\n",
       "    </tr>\n",
       "    <tr>\n",
       "      <th>4</th>\n",
       "      <td>5</td>\n",
       "      <td>0</td>\n",
       "      <td>3.0</td>\n",
       "      <td>1</td>\n",
       "      <td>35.0</td>\n",
       "      <td>0.0</td>\n",
       "      <td>0.0</td>\n",
       "      <td>8.0500</td>\n",
       "      <td>2</td>\n",
       "    </tr>\n",
       "  </tbody>\n",
       "</table>\n",
       "</div>"
      ],
      "text/plain": [
       "   PassengerId  Survived  Pclass  Sex   Age  SibSp  Parch     Fare  Embarked\n",
       "0            1         0     3.0    1  22.0    1.0    0.0   7.2500         2\n",
       "1            2         1     1.0    0  38.0    1.0    0.0  71.2833         0\n",
       "2            3         1     3.0    0  26.0    0.0    0.0   7.9250         2\n",
       "3            4         1     1.0    0  35.0    1.0    0.0  53.1000         2\n",
       "4            5         0     3.0    1  35.0    0.0    0.0   8.0500         2"
      ]
     },
     "execution_count": 29,
     "metadata": {},
     "output_type": "execute_result"
    }
   ],
   "source": [
    "train, test = label_encoder(train, test, [\"Embarked\", \"Sex\"])\n",
    "# X_test = pd.get_dummies(test[FEATURES], drop_first=True)\n",
    "\n",
    "train.head()"
   ]
  },
  {
   "cell_type": "markdown",
   "id": "d6cb7921",
   "metadata": {
    "papermill": {
     "duration": 0.023369,
     "end_time": "2022-07-28T19:10:37.992938",
     "exception": false,
     "start_time": "2022-07-28T19:10:37.969569",
     "status": "completed"
    },
    "tags": []
   },
   "source": [
    "- [sklearn.linear_model.LogisticRegression](https://scikit-learn.org/stable/modules/generated/sklearn.linear_model.LogisticRegression.html)"
   ]
  },
  {
   "cell_type": "code",
   "execution_count": 30,
   "id": "d51c8ea2",
   "metadata": {
    "execution": {
     "iopub.execute_input": "2022-07-28T19:10:38.042466Z",
     "iopub.status.busy": "2022-07-28T19:10:38.041280Z",
     "iopub.status.idle": "2022-07-28T19:10:38.046961Z",
     "shell.execute_reply": "2022-07-28T19:10:38.046195Z"
    },
    "papermill": {
     "duration": 0.032766,
     "end_time": "2022-07-28T19:10:38.049076",
     "exception": false,
     "start_time": "2022-07-28T19:10:38.016310",
     "status": "completed"
    },
    "tags": []
   },
   "outputs": [],
   "source": [
    "# y = train[TARGET]\n",
    "# X = train[FEATURES].copy()\n",
    "\n",
    "# X_test = test[FEATURES].copy()"
   ]
  },
  {
   "cell_type": "code",
   "execution_count": 31,
   "id": "a744e504",
   "metadata": {
    "execution": {
     "iopub.execute_input": "2022-07-28T19:10:38.098408Z",
     "iopub.status.busy": "2022-07-28T19:10:38.097977Z",
     "iopub.status.idle": "2022-07-28T19:10:38.113230Z",
     "shell.execute_reply": "2022-07-28T19:10:38.111747Z"
    },
    "papermill": {
     "duration": 0.04272,
     "end_time": "2022-07-28T19:10:38.115662",
     "exception": false,
     "start_time": "2022-07-28T19:10:38.072942",
     "status": "completed"
    },
    "tags": []
   },
   "outputs": [
    {
     "name": "stdout",
     "output_type": "stream",
     "text": [
      "TARGET=Survived, n_folds=5, seed=42\n"
     ]
    }
   ],
   "source": [
    "train = create_folds(train, TARGET, Config.N_FOLDS)"
   ]
  },
  {
   "cell_type": "code",
   "execution_count": 32,
   "id": "0c49f7ad",
   "metadata": {
    "execution": {
     "iopub.execute_input": "2022-07-28T19:10:38.164304Z",
     "iopub.status.busy": "2022-07-28T19:10:38.163878Z",
     "iopub.status.idle": "2022-07-28T19:10:38.183811Z",
     "shell.execute_reply": "2022-07-28T19:10:38.182692Z"
    },
    "papermill": {
     "duration": 0.046814,
     "end_time": "2022-07-28T19:10:38.186034",
     "exception": false,
     "start_time": "2022-07-28T19:10:38.139220",
     "status": "completed"
    },
    "tags": []
   },
   "outputs": [
    {
     "data": {
      "text/html": [
       "<div>\n",
       "<style scoped>\n",
       "    .dataframe tbody tr th:only-of-type {\n",
       "        vertical-align: middle;\n",
       "    }\n",
       "\n",
       "    .dataframe tbody tr th {\n",
       "        vertical-align: top;\n",
       "    }\n",
       "\n",
       "    .dataframe thead th {\n",
       "        text-align: right;\n",
       "    }\n",
       "</style>\n",
       "<table border=\"1\" class=\"dataframe\">\n",
       "  <thead>\n",
       "    <tr style=\"text-align: right;\">\n",
       "      <th></th>\n",
       "      <th>Survived</th>\n",
       "      <th>fold</th>\n",
       "    </tr>\n",
       "    <tr>\n",
       "      <th>PassengerId</th>\n",
       "      <th></th>\n",
       "      <th></th>\n",
       "    </tr>\n",
       "  </thead>\n",
       "  <tbody>\n",
       "    <tr>\n",
       "      <th>1</th>\n",
       "      <td>0</td>\n",
       "      <td>1</td>\n",
       "    </tr>\n",
       "    <tr>\n",
       "      <th>2</th>\n",
       "      <td>1</td>\n",
       "      <td>4</td>\n",
       "    </tr>\n",
       "    <tr>\n",
       "      <th>3</th>\n",
       "      <td>1</td>\n",
       "      <td>3</td>\n",
       "    </tr>\n",
       "    <tr>\n",
       "      <th>4</th>\n",
       "      <td>1</td>\n",
       "      <td>3</td>\n",
       "    </tr>\n",
       "    <tr>\n",
       "      <th>5</th>\n",
       "      <td>0</td>\n",
       "      <td>0</td>\n",
       "    </tr>\n",
       "  </tbody>\n",
       "</table>\n",
       "</div>"
      ],
      "text/plain": [
       "             Survived  fold\n",
       "PassengerId                \n",
       "1                   0     1\n",
       "2                   1     4\n",
       "3                   1     3\n",
       "4                   1     3\n",
       "5                   0     0"
      ]
     },
     "execution_count": 32,
     "metadata": {},
     "output_type": "execute_result"
    }
   ],
   "source": [
    "submission_df = test[[\"PassengerId\"]].copy()\n",
    "oof = train[[\"PassengerId\", TARGET, \"fold\"]].copy().reset_index(drop=True).copy()\n",
    "oof.set_index(\"PassengerId\", inplace=True)\n",
    "oof.head()"
   ]
  },
  {
   "cell_type": "code",
   "execution_count": 33,
   "id": "dabdd703",
   "metadata": {
    "execution": {
     "iopub.execute_input": "2022-07-28T19:10:38.234523Z",
     "iopub.status.busy": "2022-07-28T19:10:38.233750Z",
     "iopub.status.idle": "2022-07-28T19:10:38.239782Z",
     "shell.execute_reply": "2022-07-28T19:10:38.238658Z"
    },
    "papermill": {
     "duration": 0.032753,
     "end_time": "2022-07-28T19:10:38.242084",
     "exception": false,
     "start_time": "2022-07-28T19:10:38.209331",
     "status": "completed"
    },
    "tags": []
   },
   "outputs": [],
   "source": [
    "# oof = train[[\"PassengerId\", TARGET, \"fold\"]].set_index(\"PassengerId\")\n",
    "# oof.head()"
   ]
  },
  {
   "cell_type": "markdown",
   "id": "68ced3db",
   "metadata": {
    "execution": {
     "iopub.execute_input": "2022-01-20T17:32:12.023204Z",
     "iopub.status.busy": "2022-01-20T17:32:12.022346Z",
     "iopub.status.idle": "2022-01-20T17:32:12.027226Z",
     "shell.execute_reply": "2022-01-20T17:32:12.026176Z",
     "shell.execute_reply.started": "2022-01-20T17:32:12.023164Z"
    },
    "papermill": {
     "duration": 0.022884,
     "end_time": "2022-07-28T19:10:38.288184",
     "exception": false,
     "start_time": "2022-07-28T19:10:38.265300",
     "status": "completed"
    },
    "tags": []
   },
   "source": [
    "## Train Model"
   ]
  },
  {
   "cell_type": "markdown",
   "id": "f2c807fd",
   "metadata": {
    "papermill": {
     "duration": 0.022906,
     "end_time": "2022-07-28T19:10:38.334341",
     "exception": false,
     "start_time": "2022-07-28T19:10:38.311435",
     "status": "completed"
    },
    "tags": []
   },
   "source": [
    "<div style=\"background-color:rgba(255, 215, 0, 0.6);border-radius:5px;display:fill\"><h1 style=\"text-align: center;padding: 12px 0px 12px 0px;\">Train Model with Cross Validation</h1>\n",
    "</div>\n",
    "\n",
    "Four out five folds will be used for training. The fifth will be used for validation\n",
    "\n",
    "Each fold will have a turn at being the validation fold\n",
    "\n",
    "After each time through the loop\n"
   ]
  },
  {
   "cell_type": "markdown",
   "id": "61f00897",
   "metadata": {
    "papermill": {
     "duration": 0.02312,
     "end_time": "2022-07-28T19:10:38.380956",
     "exception": false,
     "start_time": "2022-07-28T19:10:38.357836",
     "status": "completed"
    },
    "tags": []
   },
   "source": [
    "### Some common functions"
   ]
  },
  {
   "cell_type": "code",
   "execution_count": 34,
   "id": "40bb6540",
   "metadata": {
    "execution": {
     "iopub.execute_input": "2022-07-28T19:10:38.429448Z",
     "iopub.status.busy": "2022-07-28T19:10:38.429033Z",
     "iopub.status.idle": "2022-07-28T19:10:38.444027Z",
     "shell.execute_reply": "2022-07-28T19:10:38.443120Z"
    },
    "papermill": {
     "duration": 0.041656,
     "end_time": "2022-07-28T19:10:38.446075",
     "exception": false,
     "start_time": "2022-07-28T19:10:38.404419",
     "status": "completed"
    },
    "tags": []
   },
   "outputs": [],
   "source": [
    "def process_valid_predictions(final_valid_predictions, train_id, model_name):\n",
    "    model = f\"pred_{model_name}\"\n",
    "    final_valid_predictions_df = pd.DataFrame.from_dict(\n",
    "        final_valid_predictions, orient=\"index\"\n",
    "    ).reset_index()\n",
    "    final_valid_predictions_df.columns = [train_id, model]\n",
    "    final_valid_predictions_df.set_index(train_id, inplace=True)\n",
    "    final_valid_predictions_df.sort_index(inplace=True)\n",
    "    final_valid_predictions_df.to_csv(f\"train_pred_{model_name}.csv\", index=False)\n",
    "\n",
    "    return final_valid_predictions_df"
   ]
  },
  {
   "cell_type": "code",
   "execution_count": 35,
   "id": "5a00813d",
   "metadata": {
    "execution": {
     "iopub.execute_input": "2022-07-28T19:10:38.495955Z",
     "iopub.status.busy": "2022-07-28T19:10:38.495573Z",
     "iopub.status.idle": "2022-07-28T19:10:38.510504Z",
     "shell.execute_reply": "2022-07-28T19:10:38.509259Z"
    },
    "papermill": {
     "duration": 0.04218,
     "end_time": "2022-07-28T19:10:38.512659",
     "exception": false,
     "start_time": "2022-07-28T19:10:38.470479",
     "status": "completed"
    },
    "tags": []
   },
   "outputs": [],
   "source": [
    "from scipy.stats import mode\n",
    "\n",
    "\n",
    "def merge_test_predictions(final_test_predictions, calc_probability=True):\n",
    "\n",
    "    if Config.calc_probability:\n",
    "        print(\"Mean\")\n",
    "        result = np.mean(np.column_stack(final_test_predictions), axis=1)\n",
    "    else:\n",
    "        print(\"Mode\")\n",
    "        mode_result = mode(np.column_stack(final_test_predictions), axis=1)\n",
    "        result = mode_result[0].ravel()\n",
    "\n",
    "    return result"
   ]
  },
  {
   "cell_type": "code",
   "execution_count": 36,
   "id": "6c34f7f7",
   "metadata": {
    "execution": {
     "iopub.execute_input": "2022-07-28T19:10:38.561331Z",
     "iopub.status.busy": "2022-07-28T19:10:38.560892Z",
     "iopub.status.idle": "2022-07-28T19:10:38.614936Z",
     "shell.execute_reply": "2022-07-28T19:10:38.613682Z"
    },
    "papermill": {
     "duration": 0.081544,
     "end_time": "2022-07-28T19:10:38.617680",
     "exception": false,
     "start_time": "2022-07-28T19:10:38.536136",
     "status": "completed"
    },
    "tags": []
   },
   "outputs": [],
   "source": [
    "def train_xgb_model(\n",
    "    df,\n",
    "    test,\n",
    "    get_model_fn,\n",
    "    FEATURES,\n",
    "    TARGET,\n",
    "    calc_probability,\n",
    "    rowid,\n",
    "    params,\n",
    "    n_folds=5,\n",
    "    seed=42,\n",
    "):\n",
    "\n",
    "    final_test_predictions = []\n",
    "    final_valid_predictions = {}\n",
    "    fold_scores = []  # Scores of Validation Set\n",
    "    feature_importance_lst = []\n",
    "\n",
    "    test = test[FEATURES].copy()\n",
    "\n",
    "    # oof_preds = np.zeros((df.shape[0],)) # Zero array\n",
    "    # print(f\"oof_preds size={df.shape[0]}\")\n",
    "    #     print(\n",
    "    #         f\"\\n===== XGBoost Estimators: {params['n_estimators']}, Random State: {seed} =====\"\n",
    "    #     )\n",
    "\n",
    "    for fold in range(n_folds):\n",
    "        print(10 * \"=\", f\"Fold {fold+1}/{n_folds}\", 10 * \"=\")\n",
    "\n",
    "        start_time = time.time()\n",
    "\n",
    "        xtrain = df[df.fold != fold].reset_index(\n",
    "            drop=True\n",
    "        )  # Everything not in validation fold\n",
    "        xvalid = df[df.fold == fold].reset_index(drop=True)\n",
    "        xtest = test.copy()\n",
    "\n",
    "        valid_ids = (\n",
    "            xvalid.PassengerId.values.tolist()\n",
    "        )  # Id's of everything in validation fold\n",
    "\n",
    "        ytrain = xtrain[TARGET]\n",
    "        yvalid = xvalid[TARGET]\n",
    "\n",
    "        xtrain = xtrain[FEATURES]\n",
    "        xvalid = xvalid[FEATURES]\n",
    "        xtrain.head()\n",
    "        #         print(f\"{yvalid}\")\n",
    "        model = get_model_fn()\n",
    "\n",
    "        model.fit(\n",
    "            xtrain,\n",
    "            ytrain,\n",
    "            eval_set=[(xvalid, yvalid)],\n",
    "            #             eval_metric=\"acc\",  # auc\n",
    "            verbose=False,\n",
    "            #             early_stopping_rounds=3000,\n",
    "            #             callbacks=[\n",
    "            #                 xgb.log_evaluation(0),\n",
    "            #                 xgb.early_stopping(500, False, True),\n",
    "            #             ],\n",
    "        )\n",
    "\n",
    "        # Mean of the predictions\n",
    "        #         preds_valid = model.predict(xvalid)\n",
    "        #         test_preds = model.predict(xtest)\n",
    "        if calc_probability:\n",
    "            preds_valid = model.predict_proba(xvalid)[:, 1]\n",
    "            test_preds = model.predict_proba(xtest)[:, 1]\n",
    "        else:\n",
    "            preds_valid = model.predict(xvalid)\n",
    "            test_preds = model.predict(xtest)\n",
    "\n",
    "        preds_valid_class = model.predict(xvalid)\n",
    "\n",
    "        final_test_predictions.append(test_preds)\n",
    "        final_valid_predictions.update(dict(zip(valid_ids, preds_valid)))\n",
    "\n",
    "        fold_score = accuracy_score(yvalid, preds_valid_class)  # Validation Set Score\n",
    "        #         fold_score = roc_auc_score(yvalid, preds_valid)  # Validation Set Score\n",
    "\n",
    "        fold_scores.append(fold_score)\n",
    "\n",
    "        # Feature importance\n",
    "        fi = pd.DataFrame(\n",
    "            index=FEATURES,\n",
    "            data=model.feature_importances_,\n",
    "            columns=[f\"{fold}_importance\"],\n",
    "        )\n",
    "        feature_importance_lst.append(fi)\n",
    "\n",
    "        run_time = time.time() - start_time\n",
    "\n",
    "        print(f\"fold: {fold+1}, Accuracy: {fold_score}, Run Time: {run_time:.2f}\")\n",
    "\n",
    "    return (\n",
    "        model,\n",
    "        feature_importance_lst,\n",
    "        fold_scores,\n",
    "        final_valid_predictions,\n",
    "        final_test_predictions,\n",
    "    )"
   ]
  },
  {
   "cell_type": "code",
   "execution_count": 37,
   "id": "f96255db",
   "metadata": {
    "execution": {
     "iopub.execute_input": "2022-07-28T19:10:38.666805Z",
     "iopub.status.busy": "2022-07-28T19:10:38.666399Z",
     "iopub.status.idle": "2022-07-28T19:10:38.682386Z",
     "shell.execute_reply": "2022-07-28T19:10:38.681192Z"
    },
    "papermill": {
     "duration": 0.04348,
     "end_time": "2022-07-28T19:10:38.684773",
     "exception": false,
     "start_time": "2022-07-28T19:10:38.641293",
     "status": "completed"
    },
    "tags": []
   },
   "outputs": [],
   "source": [
    "xgb_params = {\n",
    "    \"enable_categorical\": True,\n",
    "    \"objective\": \"binary:logistic\",\n",
    "    \"eval_metric\": \"logloss\",  # auc\n",
    "    \"n_estimators\": Config.N_ESTIMATORS,\n",
    "    \"learning_rate\": 0.021138659045230178,\n",
    "    \"subsample\": 0.4,\n",
    "    \"colsample_bytree\": 0.91,\n",
    "    \"max_depth\": 17,\n",
    "    \"gamma\": 0.6000000000000001,\n",
    "    \"booster\": \"gbtree\",\n",
    "    \"tree_method\": \"hist\",\n",
    "    \"reg_lambda\": 0.005882742898970815,\n",
    "    \"reg_alpha\": 0.0014501578157205654,\n",
    "    \"random_state\": 42,\n",
    "    \"n_jobs\": 4,\n",
    "    \"min_child_weight\": 5.567082153821453,\n",
    "}"
   ]
  },
  {
   "cell_type": "code",
   "execution_count": 38,
   "id": "52d0bdcd",
   "metadata": {
    "execution": {
     "iopub.execute_input": "2022-07-28T19:10:38.733926Z",
     "iopub.status.busy": "2022-07-28T19:10:38.733115Z",
     "iopub.status.idle": "2022-07-28T19:10:38.741359Z",
     "shell.execute_reply": "2022-07-28T19:10:38.740432Z"
    },
    "papermill": {
     "duration": 0.035444,
     "end_time": "2022-07-28T19:10:38.743720",
     "exception": false,
     "start_time": "2022-07-28T19:10:38.708276",
     "status": "completed"
    },
    "tags": []
   },
   "outputs": [],
   "source": [
    "def get_xgb_clf_model():\n",
    "    #     model = xgb.XGBClassifier(n_estimators=1000)\n",
    "    model = xgb.XGBClassifier(**xgb_params)\n",
    "    return model"
   ]
  },
  {
   "cell_type": "code",
   "execution_count": 39,
   "id": "bd0529a0",
   "metadata": {
    "execution": {
     "iopub.execute_input": "2022-07-28T19:10:38.792046Z",
     "iopub.status.busy": "2022-07-28T19:10:38.791658Z",
     "iopub.status.idle": "2022-07-28T19:10:38.809808Z",
     "shell.execute_reply": "2022-07-28T19:10:38.808833Z"
    },
    "papermill": {
     "duration": 0.045034,
     "end_time": "2022-07-28T19:10:38.812009",
     "exception": false,
     "start_time": "2022-07-28T19:10:38.766975",
     "status": "completed"
    },
    "tags": []
   },
   "outputs": [],
   "source": [
    "# https://lightgbm.readthedocs.io/en/latest/Parameters.html\n",
    "\n",
    "lgbm_params = {\n",
    "    \"n_estimators\": Config.N_ESTIMATORS,\n",
    "    #     \"device_type\": \"gpu\",\n",
    "    #     \"objective\": \"multiclass\",\n",
    "    #     \"metric\": \"multi_logloss\",\n",
    "    \"objective\": \"binary\",\n",
    "    \"metric\": \"accuracy\",  # auc\n",
    "    \"lambda_l1\": 0.009130931198077825,\n",
    "    \"lambda_l2\": 3.530680683338868e-05,\n",
    "    #     \"reg_alpha\": 0.009130931198077825,\n",
    "    #     \"reg_lambda\": 3.530680683338868e-05,\n",
    "    \"num_leaves\": 430,\n",
    "    \"importance_type\": \"split\",\n",
    "    #     \"learning_rate\": 0.029330486500731102,\n",
    "    \"learning_rate\": 0.1,\n",
    "    \"feature_fraction\": 0.8757445736567416,\n",
    "    \"bagging_fraction\": 0.9989307214277753,\n",
    "    \"bagging_freq\": 10,\n",
    "    \"min_child_samples\": 20,\n",
    "    \"random_state\": 42,\n",
    "    \"n_jobs\": -1,\n",
    "}\n",
    "if Config.gpu:\n",
    "    lgbm_params[\"device_type\"] = \"gpu\""
   ]
  },
  {
   "cell_type": "code",
   "execution_count": 40,
   "id": "8e7e3f1e",
   "metadata": {
    "execution": {
     "iopub.execute_input": "2022-07-28T19:10:38.864536Z",
     "iopub.status.busy": "2022-07-28T19:10:38.863548Z",
     "iopub.status.idle": "2022-07-28T19:10:38.871295Z",
     "shell.execute_reply": "2022-07-28T19:10:38.870380Z"
    },
    "papermill": {
     "duration": 0.037735,
     "end_time": "2022-07-28T19:10:38.873493",
     "exception": false,
     "start_time": "2022-07-28T19:10:38.835758",
     "status": "completed"
    },
    "tags": []
   },
   "outputs": [],
   "source": [
    "def get_lgbm_clf_model():\n",
    "    model = lgb.LGBMClassifier(**lgbm_params)\n",
    "    return model"
   ]
  },
  {
   "cell_type": "code",
   "execution_count": 41,
   "id": "8dd2ce74",
   "metadata": {
    "execution": {
     "iopub.execute_input": "2022-07-28T19:10:38.921970Z",
     "iopub.status.busy": "2022-07-28T19:10:38.921297Z",
     "iopub.status.idle": "2022-07-28T19:10:38.926493Z",
     "shell.execute_reply": "2022-07-28T19:10:38.925773Z"
    },
    "papermill": {
     "duration": 0.031467,
     "end_time": "2022-07-28T19:10:38.928455",
     "exception": false,
     "start_time": "2022-07-28T19:10:38.896988",
     "status": "completed"
    },
    "tags": []
   },
   "outputs": [],
   "source": [
    "model_name = \"xgb1\"  # Make the code more generic"
   ]
  },
  {
   "cell_type": "code",
   "execution_count": 42,
   "id": "fc394bd1",
   "metadata": {
    "execution": {
     "iopub.execute_input": "2022-07-28T19:10:38.976438Z",
     "iopub.status.busy": "2022-07-28T19:10:38.975732Z",
     "iopub.status.idle": "2022-07-28T19:10:41.318235Z",
     "shell.execute_reply": "2022-07-28T19:10:41.316611Z"
    },
    "papermill": {
     "duration": 2.369912,
     "end_time": "2022-07-28T19:10:41.321450",
     "exception": false,
     "start_time": "2022-07-28T19:10:38.951538",
     "status": "completed"
    },
    "tags": []
   },
   "outputs": [
    {
     "name": "stdout",
     "output_type": "stream",
     "text": [
      "========== Fold 1/5 ==========\n",
      "fold: 1, Accuracy: 0.8212290502793296, Run Time: 0.46\n",
      "========== Fold 2/5 ==========\n",
      "fold: 2, Accuracy: 0.7808988764044944, Run Time: 0.44\n",
      "========== Fold 3/5 ==========\n",
      "fold: 3, Accuracy: 0.7752808988764045, Run Time: 0.54\n",
      "========== Fold 4/5 ==========\n",
      "fold: 4, Accuracy: 0.8033707865168539, Run Time: 0.44\n",
      "========== Fold 5/5 ==========\n",
      "fold: 5, Accuracy: 0.8314606741573034, Run Time: 0.45\n"
     ]
    }
   ],
   "source": [
    "(\n",
    "    model,\n",
    "    feature_importance_lst,\n",
    "    fold_scores,\n",
    "    final_valid_predictions,\n",
    "    final_test_predictions,\n",
    ") = train_xgb_model(\n",
    "    train,\n",
    "    test,\n",
    "    get_xgb_clf_model,\n",
    "    FEATURES,\n",
    "    TARGET,\n",
    "    Config.calc_probability,\n",
    "    \"PassengerId\",\n",
    "    xgb_params,\n",
    "    Config.N_FOLDS,\n",
    "    Config.seed,\n",
    ")"
   ]
  },
  {
   "cell_type": "markdown",
   "id": "333a94e7",
   "metadata": {
    "papermill": {
     "duration": 0.024652,
     "end_time": "2022-07-28T19:10:41.371190",
     "exception": false,
     "start_time": "2022-07-28T19:10:41.346538",
     "status": "completed"
    },
    "tags": []
   },
   "source": [
    "<div style=\"background-color:rgba(255, 215, 0, 0.6);border-radius:5px;display:fill\"><h1 style=\"text-align: center;padding: 12px 0px 12px 0px;\">Scores</h1>\n",
    "</div>\n",
    "\n",
    "CV, or Cross Validation, Score.\n",
    "\n",
    "We average the means and the standard deviations.\n",
    "\n",
    "The Adjusted Score is the average of the means minus the average of standard deviation. Do this to attempt to get one number to evaluate the score when comparing different models."
   ]
  },
  {
   "cell_type": "code",
   "execution_count": 43,
   "id": "c6bd70c5",
   "metadata": {
    "execution": {
     "iopub.execute_input": "2022-07-28T19:10:41.421811Z",
     "iopub.status.busy": "2022-07-28T19:10:41.421319Z",
     "iopub.status.idle": "2022-07-28T19:10:41.430515Z",
     "shell.execute_reply": "2022-07-28T19:10:41.429093Z"
    },
    "papermill": {
     "duration": 0.037744,
     "end_time": "2022-07-28T19:10:41.433482",
     "exception": false,
     "start_time": "2022-07-28T19:10:41.395738",
     "status": "completed"
    },
    "tags": []
   },
   "outputs": [
    {
     "name": "stdout",
     "output_type": "stream",
     "text": [
      "Scores -> Adjusted: 0.78054952 , mean: 0.80244806, std: 0.02189854\n"
     ]
    }
   ],
   "source": [
    "show_fold_scores(fold_scores)"
   ]
  },
  {
   "cell_type": "code",
   "execution_count": 44,
   "id": "d6778f26",
   "metadata": {
    "execution": {
     "iopub.execute_input": "2022-07-28T19:10:41.486306Z",
     "iopub.status.busy": "2022-07-28T19:10:41.485034Z",
     "iopub.status.idle": "2022-07-28T19:10:41.508462Z",
     "shell.execute_reply": "2022-07-28T19:10:41.507289Z"
    },
    "papermill": {
     "duration": 0.052243,
     "end_time": "2022-07-28T19:10:41.510760",
     "exception": false,
     "start_time": "2022-07-28T19:10:41.458517",
     "status": "completed"
    },
    "tags": []
   },
   "outputs": [
    {
     "data": {
      "text/html": [
       "<div>\n",
       "<style scoped>\n",
       "    .dataframe tbody tr th:only-of-type {\n",
       "        vertical-align: middle;\n",
       "    }\n",
       "\n",
       "    .dataframe tbody tr th {\n",
       "        vertical-align: top;\n",
       "    }\n",
       "\n",
       "    .dataframe thead th {\n",
       "        text-align: right;\n",
       "    }\n",
       "</style>\n",
       "<table border=\"1\" class=\"dataframe\">\n",
       "  <thead>\n",
       "    <tr style=\"text-align: right;\">\n",
       "      <th></th>\n",
       "      <th>pred_xgb1</th>\n",
       "    </tr>\n",
       "    <tr>\n",
       "      <th>id</th>\n",
       "      <th></th>\n",
       "    </tr>\n",
       "  </thead>\n",
       "  <tbody>\n",
       "    <tr>\n",
       "      <th>1</th>\n",
       "      <td>0.134735</td>\n",
       "    </tr>\n",
       "    <tr>\n",
       "      <th>2</th>\n",
       "      <td>0.894681</td>\n",
       "    </tr>\n",
       "    <tr>\n",
       "      <th>3</th>\n",
       "      <td>0.510565</td>\n",
       "    </tr>\n",
       "    <tr>\n",
       "      <th>4</th>\n",
       "      <td>0.874457</td>\n",
       "    </tr>\n",
       "    <tr>\n",
       "      <th>5</th>\n",
       "      <td>0.183899</td>\n",
       "    </tr>\n",
       "  </tbody>\n",
       "</table>\n",
       "</div>"
      ],
      "text/plain": [
       "    pred_xgb1\n",
       "id           \n",
       "1    0.134735\n",
       "2    0.894681\n",
       "3    0.510565\n",
       "4    0.874457\n",
       "5    0.183899"
      ]
     },
     "execution_count": 44,
     "metadata": {},
     "output_type": "execute_result"
    }
   ],
   "source": [
    "final_valid_predictions_df = process_valid_predictions(\n",
    "    final_valid_predictions, \"id\", model_name\n",
    ")\n",
    "final_valid_predictions_df.head()"
   ]
  },
  {
   "cell_type": "code",
   "execution_count": 45,
   "id": "68d3c894",
   "metadata": {
    "execution": {
     "iopub.execute_input": "2022-07-28T19:10:41.564115Z",
     "iopub.status.busy": "2022-07-28T19:10:41.562727Z",
     "iopub.status.idle": "2022-07-28T19:10:41.583432Z",
     "shell.execute_reply": "2022-07-28T19:10:41.582297Z"
    },
    "papermill": {
     "duration": 0.049738,
     "end_time": "2022-07-28T19:10:41.586148",
     "exception": false,
     "start_time": "2022-07-28T19:10:41.536410",
     "status": "completed"
    },
    "tags": []
   },
   "outputs": [],
   "source": [
    "final_valid_predictions_df = pd.DataFrame.from_dict(\n",
    "    final_valid_predictions, orient=\"index\"\n",
    ").reset_index()\n",
    "final_valid_predictions_df.columns = [\"id\", \"pred_xgb1\"]\n",
    "final_valid_predictions_df.set_index(\"id\", inplace=True)\n",
    "final_valid_predictions_df.sort_index(inplace=True)  # .head(20)  # head(100)\n",
    "final_valid_predictions_df.to_csv(\"train_pred_xgb1.csv\", index=False)"
   ]
  },
  {
   "cell_type": "code",
   "execution_count": 46,
   "id": "4465af87",
   "metadata": {
    "execution": {
     "iopub.execute_input": "2022-07-28T19:10:41.636969Z",
     "iopub.status.busy": "2022-07-28T19:10:41.635681Z",
     "iopub.status.idle": "2022-07-28T19:10:41.648655Z",
     "shell.execute_reply": "2022-07-28T19:10:41.647632Z"
    },
    "papermill": {
     "duration": 0.040586,
     "end_time": "2022-07-28T19:10:41.650873",
     "exception": false,
     "start_time": "2022-07-28T19:10:41.610287",
     "status": "completed"
    },
    "tags": []
   },
   "outputs": [
    {
     "data": {
      "text/html": [
       "<div>\n",
       "<style scoped>\n",
       "    .dataframe tbody tr th:only-of-type {\n",
       "        vertical-align: middle;\n",
       "    }\n",
       "\n",
       "    .dataframe tbody tr th {\n",
       "        vertical-align: top;\n",
       "    }\n",
       "\n",
       "    .dataframe thead th {\n",
       "        text-align: right;\n",
       "    }\n",
       "</style>\n",
       "<table border=\"1\" class=\"dataframe\">\n",
       "  <thead>\n",
       "    <tr style=\"text-align: right;\">\n",
       "      <th></th>\n",
       "      <th>pred_xgb1</th>\n",
       "    </tr>\n",
       "    <tr>\n",
       "      <th>id</th>\n",
       "      <th></th>\n",
       "    </tr>\n",
       "  </thead>\n",
       "  <tbody>\n",
       "    <tr>\n",
       "      <th>1</th>\n",
       "      <td>0.134735</td>\n",
       "    </tr>\n",
       "    <tr>\n",
       "      <th>2</th>\n",
       "      <td>0.894681</td>\n",
       "    </tr>\n",
       "    <tr>\n",
       "      <th>3</th>\n",
       "      <td>0.510565</td>\n",
       "    </tr>\n",
       "    <tr>\n",
       "      <th>4</th>\n",
       "      <td>0.874457</td>\n",
       "    </tr>\n",
       "    <tr>\n",
       "      <th>5</th>\n",
       "      <td>0.183899</td>\n",
       "    </tr>\n",
       "  </tbody>\n",
       "</table>\n",
       "</div>"
      ],
      "text/plain": [
       "    pred_xgb1\n",
       "id           \n",
       "1    0.134735\n",
       "2    0.894681\n",
       "3    0.510565\n",
       "4    0.874457\n",
       "5    0.183899"
      ]
     },
     "execution_count": 46,
     "metadata": {},
     "output_type": "execute_result"
    }
   ],
   "source": [
    "# final_valid_predictions_df.set_index(\"id\", inplace=True)\n",
    "final_valid_predictions_df.head()"
   ]
  },
  {
   "cell_type": "code",
   "execution_count": 47,
   "id": "09170fbd",
   "metadata": {
    "execution": {
     "iopub.execute_input": "2022-07-28T19:10:41.702787Z",
     "iopub.status.busy": "2022-07-28T19:10:41.701318Z",
     "iopub.status.idle": "2022-07-28T19:10:41.716628Z",
     "shell.execute_reply": "2022-07-28T19:10:41.715429Z"
    },
    "papermill": {
     "duration": 0.043065,
     "end_time": "2022-07-28T19:10:41.718971",
     "exception": false,
     "start_time": "2022-07-28T19:10:41.675906",
     "status": "completed"
    },
    "tags": []
   },
   "outputs": [
    {
     "data": {
      "text/html": [
       "<div>\n",
       "<style scoped>\n",
       "    .dataframe tbody tr th:only-of-type {\n",
       "        vertical-align: middle;\n",
       "    }\n",
       "\n",
       "    .dataframe tbody tr th {\n",
       "        vertical-align: top;\n",
       "    }\n",
       "\n",
       "    .dataframe thead th {\n",
       "        text-align: right;\n",
       "    }\n",
       "</style>\n",
       "<table border=\"1\" class=\"dataframe\">\n",
       "  <thead>\n",
       "    <tr style=\"text-align: right;\">\n",
       "      <th></th>\n",
       "      <th>Survived</th>\n",
       "      <th>fold</th>\n",
       "      <th>pred_xgb1</th>\n",
       "    </tr>\n",
       "    <tr>\n",
       "      <th>PassengerId</th>\n",
       "      <th></th>\n",
       "      <th></th>\n",
       "      <th></th>\n",
       "    </tr>\n",
       "  </thead>\n",
       "  <tbody>\n",
       "    <tr>\n",
       "      <th>1</th>\n",
       "      <td>0</td>\n",
       "      <td>1</td>\n",
       "      <td>0.134735</td>\n",
       "    </tr>\n",
       "    <tr>\n",
       "      <th>2</th>\n",
       "      <td>1</td>\n",
       "      <td>4</td>\n",
       "      <td>0.894681</td>\n",
       "    </tr>\n",
       "    <tr>\n",
       "      <th>3</th>\n",
       "      <td>1</td>\n",
       "      <td>3</td>\n",
       "      <td>0.510565</td>\n",
       "    </tr>\n",
       "    <tr>\n",
       "      <th>4</th>\n",
       "      <td>1</td>\n",
       "      <td>3</td>\n",
       "      <td>0.874457</td>\n",
       "    </tr>\n",
       "    <tr>\n",
       "      <th>5</th>\n",
       "      <td>0</td>\n",
       "      <td>0</td>\n",
       "      <td>0.183899</td>\n",
       "    </tr>\n",
       "  </tbody>\n",
       "</table>\n",
       "</div>"
      ],
      "text/plain": [
       "             Survived  fold  pred_xgb1\n",
       "PassengerId                           \n",
       "1                   0     1   0.134735\n",
       "2                   1     4   0.894681\n",
       "3                   1     3   0.510565\n",
       "4                   1     3   0.874457\n",
       "5                   0     0   0.183899"
      ]
     },
     "execution_count": 47,
     "metadata": {},
     "output_type": "execute_result"
    }
   ],
   "source": [
    "oof[f\"pred_{model_name}\"] = final_valid_predictions_df[f\"pred_{model_name}\"]\n",
    "oof.head()"
   ]
  },
  {
   "cell_type": "code",
   "execution_count": 48,
   "id": "7ef67e68",
   "metadata": {
    "execution": {
     "iopub.execute_input": "2022-07-28T19:10:41.772933Z",
     "iopub.status.busy": "2022-07-28T19:10:41.772001Z",
     "iopub.status.idle": "2022-07-28T19:10:41.784146Z",
     "shell.execute_reply": "2022-07-28T19:10:41.782690Z"
    },
    "papermill": {
     "duration": 0.041815,
     "end_time": "2022-07-28T19:10:41.786861",
     "exception": false,
     "start_time": "2022-07-28T19:10:41.745046",
     "status": "completed"
    },
    "tags": []
   },
   "outputs": [
    {
     "name": "stdout",
     "output_type": "stream",
     "text": [
      "Mean\n"
     ]
    },
    {
     "data": {
      "text/plain": [
       "array([0.15908203, 0.4599703 , 0.16751441, 0.17553684, 0.45746678,\n",
       "       0.251716  , 0.59088695, 0.29825214, 0.6122156 , 0.18039449,\n",
       "       0.13397141, 0.27065   , 0.88031197, 0.17601505, 0.86870843,\n",
       "       0.8541446 , 0.20339628, 0.18163481, 0.48710805, 0.57074726],\n",
       "      dtype=float32)"
      ]
     },
     "execution_count": 48,
     "metadata": {},
     "output_type": "execute_result"
    }
   ],
   "source": [
    "result = merge_test_predictions(final_test_predictions, Config.calc_probability)\n",
    "result[:20]"
   ]
  },
  {
   "cell_type": "code",
   "execution_count": 49,
   "id": "200bcbc6",
   "metadata": {
    "execution": {
     "iopub.execute_input": "2022-07-28T19:10:41.841397Z",
     "iopub.status.busy": "2022-07-28T19:10:41.840959Z",
     "iopub.status.idle": "2022-07-28T19:10:41.856174Z",
     "shell.execute_reply": "2022-07-28T19:10:41.855117Z"
    },
    "papermill": {
     "duration": 0.045158,
     "end_time": "2022-07-28T19:10:41.858469",
     "exception": false,
     "start_time": "2022-07-28T19:10:41.813311",
     "status": "completed"
    },
    "tags": []
   },
   "outputs": [
    {
     "data": {
      "text/html": [
       "<div>\n",
       "<style scoped>\n",
       "    .dataframe tbody tr th:only-of-type {\n",
       "        vertical-align: middle;\n",
       "    }\n",
       "\n",
       "    .dataframe tbody tr th {\n",
       "        vertical-align: top;\n",
       "    }\n",
       "\n",
       "    .dataframe thead th {\n",
       "        text-align: right;\n",
       "    }\n",
       "</style>\n",
       "<table border=\"1\" class=\"dataframe\">\n",
       "  <thead>\n",
       "    <tr style=\"text-align: right;\">\n",
       "      <th></th>\n",
       "      <th>PassengerId</th>\n",
       "      <th>target_xgb1</th>\n",
       "    </tr>\n",
       "  </thead>\n",
       "  <tbody>\n",
       "    <tr>\n",
       "      <th>0</th>\n",
       "      <td>892</td>\n",
       "      <td>0.159082</td>\n",
       "    </tr>\n",
       "    <tr>\n",
       "      <th>1</th>\n",
       "      <td>893</td>\n",
       "      <td>0.459970</td>\n",
       "    </tr>\n",
       "    <tr>\n",
       "      <th>2</th>\n",
       "      <td>894</td>\n",
       "      <td>0.167514</td>\n",
       "    </tr>\n",
       "    <tr>\n",
       "      <th>3</th>\n",
       "      <td>895</td>\n",
       "      <td>0.175537</td>\n",
       "    </tr>\n",
       "    <tr>\n",
       "      <th>4</th>\n",
       "      <td>896</td>\n",
       "      <td>0.457467</td>\n",
       "    </tr>\n",
       "    <tr>\n",
       "      <th>5</th>\n",
       "      <td>897</td>\n",
       "      <td>0.251716</td>\n",
       "    </tr>\n",
       "    <tr>\n",
       "      <th>6</th>\n",
       "      <td>898</td>\n",
       "      <td>0.590887</td>\n",
       "    </tr>\n",
       "    <tr>\n",
       "      <th>7</th>\n",
       "      <td>899</td>\n",
       "      <td>0.298252</td>\n",
       "    </tr>\n",
       "    <tr>\n",
       "      <th>8</th>\n",
       "      <td>900</td>\n",
       "      <td>0.612216</td>\n",
       "    </tr>\n",
       "    <tr>\n",
       "      <th>9</th>\n",
       "      <td>901</td>\n",
       "      <td>0.180394</td>\n",
       "    </tr>\n",
       "  </tbody>\n",
       "</table>\n",
       "</div>"
      ],
      "text/plain": [
       "   PassengerId  target_xgb1\n",
       "0          892     0.159082\n",
       "1          893     0.459970\n",
       "2          894     0.167514\n",
       "3          895     0.175537\n",
       "4          896     0.457467\n",
       "5          897     0.251716\n",
       "6          898     0.590887\n",
       "7          899     0.298252\n",
       "8          900     0.612216\n",
       "9          901     0.180394"
      ]
     },
     "execution_count": 49,
     "metadata": {},
     "output_type": "execute_result"
    }
   ],
   "source": [
    "# submission_df[\"target_xgb1\"] = np.mean(np.column_stack(final_test_predictions), axis=1)\n",
    "submission_df[f\"target_{model_name}\"] = result\n",
    "submission_df.head(10)"
   ]
  },
  {
   "cell_type": "code",
   "execution_count": 50,
   "id": "1f5a04c0",
   "metadata": {
    "execution": {
     "iopub.execute_input": "2022-07-28T19:10:41.910319Z",
     "iopub.status.busy": "2022-07-28T19:10:41.909888Z",
     "iopub.status.idle": "2022-07-28T19:10:41.933775Z",
     "shell.execute_reply": "2022-07-28T19:10:41.932962Z"
    },
    "papermill": {
     "duration": 0.052846,
     "end_time": "2022-07-28T19:10:41.935985",
     "exception": false,
     "start_time": "2022-07-28T19:10:41.883139",
     "status": "completed"
    },
    "tags": []
   },
   "outputs": [
    {
     "data": {
      "text/html": [
       "<div>\n",
       "<style scoped>\n",
       "    .dataframe tbody tr th:only-of-type {\n",
       "        vertical-align: middle;\n",
       "    }\n",
       "\n",
       "    .dataframe tbody tr th {\n",
       "        vertical-align: top;\n",
       "    }\n",
       "\n",
       "    .dataframe thead th {\n",
       "        text-align: right;\n",
       "    }\n",
       "</style>\n",
       "<table border=\"1\" class=\"dataframe\">\n",
       "  <thead>\n",
       "    <tr style=\"text-align: right;\">\n",
       "      <th></th>\n",
       "      <th>PassengerId</th>\n",
       "      <th>Survived</th>\n",
       "    </tr>\n",
       "  </thead>\n",
       "  <tbody>\n",
       "    <tr>\n",
       "      <th>0</th>\n",
       "      <td>892</td>\n",
       "      <td>0.159082</td>\n",
       "    </tr>\n",
       "    <tr>\n",
       "      <th>1</th>\n",
       "      <td>893</td>\n",
       "      <td>0.459970</td>\n",
       "    </tr>\n",
       "    <tr>\n",
       "      <th>2</th>\n",
       "      <td>894</td>\n",
       "      <td>0.167514</td>\n",
       "    </tr>\n",
       "    <tr>\n",
       "      <th>3</th>\n",
       "      <td>895</td>\n",
       "      <td>0.175537</td>\n",
       "    </tr>\n",
       "    <tr>\n",
       "      <th>4</th>\n",
       "      <td>896</td>\n",
       "      <td>0.457467</td>\n",
       "    </tr>\n",
       "    <tr>\n",
       "      <th>...</th>\n",
       "      <td>...</td>\n",
       "      <td>...</td>\n",
       "    </tr>\n",
       "    <tr>\n",
       "      <th>413</th>\n",
       "      <td>1305</td>\n",
       "      <td>0.160881</td>\n",
       "    </tr>\n",
       "    <tr>\n",
       "      <th>414</th>\n",
       "      <td>1306</td>\n",
       "      <td>0.897857</td>\n",
       "    </tr>\n",
       "    <tr>\n",
       "      <th>415</th>\n",
       "      <td>1307</td>\n",
       "      <td>0.122333</td>\n",
       "    </tr>\n",
       "    <tr>\n",
       "      <th>416</th>\n",
       "      <td>1308</td>\n",
       "      <td>0.160881</td>\n",
       "    </tr>\n",
       "    <tr>\n",
       "      <th>417</th>\n",
       "      <td>1309</td>\n",
       "      <td>0.266037</td>\n",
       "    </tr>\n",
       "  </tbody>\n",
       "</table>\n",
       "<p>418 rows × 2 columns</p>\n",
       "</div>"
      ],
      "text/plain": [
       "     PassengerId  Survived\n",
       "0            892  0.159082\n",
       "1            893  0.459970\n",
       "2            894  0.167514\n",
       "3            895  0.175537\n",
       "4            896  0.457467\n",
       "..           ...       ...\n",
       "413         1305  0.160881\n",
       "414         1306  0.897857\n",
       "415         1307  0.122333\n",
       "416         1308  0.160881\n",
       "417         1309  0.266037\n",
       "\n",
       "[418 rows x 2 columns]"
      ]
     },
     "execution_count": 50,
     "metadata": {},
     "output_type": "execute_result"
    }
   ],
   "source": [
    "ss = (\n",
    "    submission_df[[\"PassengerId\", f\"target_{model_name}\"]].copy().reset_index(drop=True)\n",
    ")\n",
    "ss.rename(columns={f\"target_{model_name}\": TARGET}, inplace=True)\n",
    "ss"
   ]
  },
  {
   "cell_type": "code",
   "execution_count": 51,
   "id": "0d231c54",
   "metadata": {
    "execution": {
     "iopub.execute_input": "2022-07-28T19:10:41.987695Z",
     "iopub.status.busy": "2022-07-28T19:10:41.987316Z",
     "iopub.status.idle": "2022-07-28T19:10:42.006003Z",
     "shell.execute_reply": "2022-07-28T19:10:42.004996Z"
    },
    "papermill": {
     "duration": 0.046811,
     "end_time": "2022-07-28T19:10:42.008055",
     "exception": false,
     "start_time": "2022-07-28T19:10:41.961244",
     "status": "completed"
    },
    "tags": []
   },
   "outputs": [
    {
     "data": {
      "text/html": [
       "<div>\n",
       "<style scoped>\n",
       "    .dataframe tbody tr th:only-of-type {\n",
       "        vertical-align: middle;\n",
       "    }\n",
       "\n",
       "    .dataframe tbody tr th {\n",
       "        vertical-align: top;\n",
       "    }\n",
       "\n",
       "    .dataframe thead th {\n",
       "        text-align: right;\n",
       "    }\n",
       "</style>\n",
       "<table border=\"1\" class=\"dataframe\">\n",
       "  <thead>\n",
       "    <tr style=\"text-align: right;\">\n",
       "      <th></th>\n",
       "      <th>PassengerId</th>\n",
       "      <th>Survived</th>\n",
       "    </tr>\n",
       "  </thead>\n",
       "  <tbody>\n",
       "    <tr>\n",
       "      <th>0</th>\n",
       "      <td>892</td>\n",
       "      <td>0</td>\n",
       "    </tr>\n",
       "    <tr>\n",
       "      <th>1</th>\n",
       "      <td>893</td>\n",
       "      <td>0</td>\n",
       "    </tr>\n",
       "    <tr>\n",
       "      <th>2</th>\n",
       "      <td>894</td>\n",
       "      <td>0</td>\n",
       "    </tr>\n",
       "    <tr>\n",
       "      <th>3</th>\n",
       "      <td>895</td>\n",
       "      <td>0</td>\n",
       "    </tr>\n",
       "    <tr>\n",
       "      <th>4</th>\n",
       "      <td>896</td>\n",
       "      <td>0</td>\n",
       "    </tr>\n",
       "    <tr>\n",
       "      <th>5</th>\n",
       "      <td>897</td>\n",
       "      <td>0</td>\n",
       "    </tr>\n",
       "    <tr>\n",
       "      <th>6</th>\n",
       "      <td>898</td>\n",
       "      <td>1</td>\n",
       "    </tr>\n",
       "    <tr>\n",
       "      <th>7</th>\n",
       "      <td>899</td>\n",
       "      <td>0</td>\n",
       "    </tr>\n",
       "    <tr>\n",
       "      <th>8</th>\n",
       "      <td>900</td>\n",
       "      <td>1</td>\n",
       "    </tr>\n",
       "    <tr>\n",
       "      <th>9</th>\n",
       "      <td>901</td>\n",
       "      <td>0</td>\n",
       "    </tr>\n",
       "  </tbody>\n",
       "</table>\n",
       "</div>"
      ],
      "text/plain": [
       "   PassengerId  Survived\n",
       "0          892         0\n",
       "1          893         0\n",
       "2          894         0\n",
       "3          895         0\n",
       "4          896         0\n",
       "5          897         0\n",
       "6          898         1\n",
       "7          899         0\n",
       "8          900         1\n",
       "9          901         0"
      ]
     },
     "execution_count": 51,
     "metadata": {},
     "output_type": "execute_result"
    }
   ],
   "source": [
    "ss[TARGET] = np.rint(ss[TARGET]).astype(int)\n",
    "ss.to_csv(\n",
    "    f\"submission_{model_name}.csv\", index=False\n",
    ")  # Can submit the individual model\n",
    "ss.head(10)"
   ]
  },
  {
   "cell_type": "markdown",
   "id": "87fc90f0",
   "metadata": {
    "papermill": {
     "duration": 0.027664,
     "end_time": "2022-07-28T19:10:42.062451",
     "exception": false,
     "start_time": "2022-07-28T19:10:42.034787",
     "status": "completed"
    },
    "tags": []
   },
   "source": [
    "## LGBM Model"
   ]
  },
  {
   "cell_type": "code",
   "execution_count": 52,
   "id": "ccc41365",
   "metadata": {
    "execution": {
     "iopub.execute_input": "2022-07-28T19:10:42.117492Z",
     "iopub.status.busy": "2022-07-28T19:10:42.117058Z",
     "iopub.status.idle": "2022-07-28T19:10:42.123261Z",
     "shell.execute_reply": "2022-07-28T19:10:42.122040Z"
    },
    "papermill": {
     "duration": 0.036729,
     "end_time": "2022-07-28T19:10:42.125857",
     "exception": false,
     "start_time": "2022-07-28T19:10:42.089128",
     "status": "completed"
    },
    "tags": []
   },
   "outputs": [],
   "source": [
    "model_name = \"lgbm1\"  # Make the code more generic"
   ]
  },
  {
   "cell_type": "code",
   "execution_count": 53,
   "id": "e8743a11",
   "metadata": {
    "execution": {
     "iopub.execute_input": "2022-07-28T19:10:42.181388Z",
     "iopub.status.busy": "2022-07-28T19:10:42.180923Z",
     "iopub.status.idle": "2022-07-28T19:10:42.811368Z",
     "shell.execute_reply": "2022-07-28T19:10:42.810146Z"
    },
    "papermill": {
     "duration": 0.661416,
     "end_time": "2022-07-28T19:10:42.814239",
     "exception": false,
     "start_time": "2022-07-28T19:10:42.152823",
     "status": "completed"
    },
    "tags": []
   },
   "outputs": [
    {
     "name": "stdout",
     "output_type": "stream",
     "text": [
      "========== Fold 1/5 ==========\n",
      "[LightGBM] [Warning] lambda_l1 is set=0.009130931198077825, reg_alpha=0.0 will be ignored. Current value: lambda_l1=0.009130931198077825\n",
      "[LightGBM] [Warning] bagging_fraction is set=0.9989307214277753, subsample=1.0 will be ignored. Current value: bagging_fraction=0.9989307214277753\n",
      "[LightGBM] [Warning] feature_fraction is set=0.8757445736567416, colsample_bytree=1.0 will be ignored. Current value: feature_fraction=0.8757445736567416\n",
      "[LightGBM] [Warning] bagging_freq is set=10, subsample_freq=0 will be ignored. Current value: bagging_freq=10\n",
      "[LightGBM] [Warning] lambda_l2 is set=3.530680683338868e-05, reg_lambda=0.0 will be ignored. Current value: lambda_l2=3.530680683338868e-05\n",
      "fold: 1, Accuracy: 0.8547486033519553, Run Time: 0.17\n",
      "========== Fold 2/5 ==========\n",
      "[LightGBM] [Warning] lambda_l1 is set=0.009130931198077825, reg_alpha=0.0 will be ignored. Current value: lambda_l1=0.009130931198077825\n",
      "[LightGBM] [Warning] bagging_fraction is set=0.9989307214277753, subsample=1.0 will be ignored. Current value: bagging_fraction=0.9989307214277753\n",
      "[LightGBM] [Warning] feature_fraction is set=0.8757445736567416, colsample_bytree=1.0 will be ignored. Current value: feature_fraction=0.8757445736567416\n",
      "[LightGBM] [Warning] bagging_freq is set=10, subsample_freq=0 will be ignored. Current value: bagging_freq=10\n",
      "[LightGBM] [Warning] lambda_l2 is set=3.530680683338868e-05, reg_lambda=0.0 will be ignored. Current value: lambda_l2=3.530680683338868e-05\n"
     ]
    },
    {
     "name": "stderr",
     "output_type": "stream",
     "text": [
      "/opt/conda/lib/python3.7/site-packages/lightgbm/sklearn.py:736: UserWarning: 'verbose' argument is deprecated and will be removed in a future release of LightGBM. Pass 'log_evaluation()' callback via 'callbacks' argument instead.\n",
      "  _log_warning(\"'verbose' argument is deprecated and will be removed in a future release of LightGBM. \"\n",
      "/opt/conda/lib/python3.7/site-packages/lightgbm/sklearn.py:736: UserWarning: 'verbose' argument is deprecated and will be removed in a future release of LightGBM. Pass 'log_evaluation()' callback via 'callbacks' argument instead.\n",
      "  _log_warning(\"'verbose' argument is deprecated and will be removed in a future release of LightGBM. \"\n"
     ]
    },
    {
     "name": "stdout",
     "output_type": "stream",
     "text": [
      "fold: 2, Accuracy: 0.8539325842696629, Run Time: 0.12\n",
      "========== Fold 3/5 ==========\n",
      "[LightGBM] [Warning] lambda_l1 is set=0.009130931198077825, reg_alpha=0.0 will be ignored. Current value: lambda_l1=0.009130931198077825\n",
      "[LightGBM] [Warning] bagging_fraction is set=0.9989307214277753, subsample=1.0 will be ignored. Current value: bagging_fraction=0.9989307214277753\n",
      "[LightGBM] [Warning] feature_fraction is set=0.8757445736567416, colsample_bytree=1.0 will be ignored. Current value: feature_fraction=0.8757445736567416\n",
      "[LightGBM] [Warning] bagging_freq is set=10, subsample_freq=0 will be ignored. Current value: bagging_freq=10\n",
      "[LightGBM] [Warning] lambda_l2 is set=3.530680683338868e-05, reg_lambda=0.0 will be ignored. Current value: lambda_l2=3.530680683338868e-05\n",
      "fold: 3, Accuracy: 0.797752808988764, Run Time: 0.12\n",
      "========== Fold 4/5 ==========\n",
      "[LightGBM] [Warning] lambda_l1 is set=0.009130931198077825, reg_alpha=0.0 will be ignored. Current value: lambda_l1=0.009130931198077825\n",
      "[LightGBM] [Warning] bagging_fraction is set=0.9989307214277753, subsample=1.0 will be ignored. Current value: bagging_fraction=0.9989307214277753\n",
      "[LightGBM] [Warning] feature_fraction is set=0.8757445736567416, colsample_bytree=1.0 will be ignored. Current value: feature_fraction=0.8757445736567416\n",
      "[LightGBM] [Warning] bagging_freq is set=10, subsample_freq=0 will be ignored. Current value: bagging_freq=10\n",
      "[LightGBM] [Warning] lambda_l2 is set=3.530680683338868e-05, reg_lambda=0.0 will be ignored. Current value: lambda_l2=3.530680683338868e-05\n"
     ]
    },
    {
     "name": "stderr",
     "output_type": "stream",
     "text": [
      "/opt/conda/lib/python3.7/site-packages/lightgbm/sklearn.py:736: UserWarning: 'verbose' argument is deprecated and will be removed in a future release of LightGBM. Pass 'log_evaluation()' callback via 'callbacks' argument instead.\n",
      "  _log_warning(\"'verbose' argument is deprecated and will be removed in a future release of LightGBM. \"\n",
      "/opt/conda/lib/python3.7/site-packages/lightgbm/sklearn.py:736: UserWarning: 'verbose' argument is deprecated and will be removed in a future release of LightGBM. Pass 'log_evaluation()' callback via 'callbacks' argument instead.\n",
      "  _log_warning(\"'verbose' argument is deprecated and will be removed in a future release of LightGBM. \"\n"
     ]
    },
    {
     "name": "stdout",
     "output_type": "stream",
     "text": [
      "fold: 4, Accuracy: 0.8258426966292135, Run Time: 0.11\n",
      "========== Fold 5/5 ==========\n",
      "[LightGBM] [Warning] lambda_l1 is set=0.009130931198077825, reg_alpha=0.0 will be ignored. Current value: lambda_l1=0.009130931198077825\n",
      "[LightGBM] [Warning] bagging_fraction is set=0.9989307214277753, subsample=1.0 will be ignored. Current value: bagging_fraction=0.9989307214277753\n",
      "[LightGBM] [Warning] feature_fraction is set=0.8757445736567416, colsample_bytree=1.0 will be ignored. Current value: feature_fraction=0.8757445736567416\n",
      "[LightGBM] [Warning] bagging_freq is set=10, subsample_freq=0 will be ignored. Current value: bagging_freq=10\n",
      "[LightGBM] [Warning] lambda_l2 is set=3.530680683338868e-05, reg_lambda=0.0 will be ignored. Current value: lambda_l2=3.530680683338868e-05\n",
      "fold: 5, Accuracy: 0.848314606741573, Run Time: 0.10\n"
     ]
    },
    {
     "name": "stderr",
     "output_type": "stream",
     "text": [
      "/opt/conda/lib/python3.7/site-packages/lightgbm/sklearn.py:736: UserWarning: 'verbose' argument is deprecated and will be removed in a future release of LightGBM. Pass 'log_evaluation()' callback via 'callbacks' argument instead.\n",
      "  _log_warning(\"'verbose' argument is deprecated and will be removed in a future release of LightGBM. \"\n"
     ]
    }
   ],
   "source": [
    "(\n",
    "    model,\n",
    "    feature_importance_lst,\n",
    "    fold_scores,\n",
    "    final_valid_predictions,\n",
    "    final_test_predictions,\n",
    ") = train_xgb_model(\n",
    "    train,\n",
    "    test,\n",
    "    get_lgbm_clf_model,\n",
    "    FEATURES,\n",
    "    TARGET,\n",
    "    Config.calc_probability,\n",
    "    \"PassengerId\",\n",
    "    lgbm_params,\n",
    "    Config.N_FOLDS,\n",
    "    Config.seed,\n",
    ")"
   ]
  },
  {
   "cell_type": "code",
   "execution_count": 54,
   "id": "bed56670",
   "metadata": {
    "execution": {
     "iopub.execute_input": "2022-07-28T19:10:42.870554Z",
     "iopub.status.busy": "2022-07-28T19:10:42.869305Z",
     "iopub.status.idle": "2022-07-28T19:10:42.877887Z",
     "shell.execute_reply": "2022-07-28T19:10:42.876129Z"
    },
    "papermill": {
     "duration": 0.039738,
     "end_time": "2022-07-28T19:10:42.880809",
     "exception": false,
     "start_time": "2022-07-28T19:10:42.841071",
     "status": "completed"
    },
    "tags": []
   },
   "outputs": [
    {
     "name": "stdout",
     "output_type": "stream",
     "text": [
      "Scores -> Adjusted: 0.81425191 , mean: 0.83611826, std: 0.02186635\n"
     ]
    }
   ],
   "source": [
    "show_fold_scores(fold_scores)"
   ]
  },
  {
   "cell_type": "markdown",
   "id": "b96ff870",
   "metadata": {
    "papermill": {
     "duration": 0.025536,
     "end_time": "2022-07-28T19:10:42.934013",
     "exception": false,
     "start_time": "2022-07-28T19:10:42.908477",
     "status": "completed"
    },
    "tags": []
   },
   "source": [
    "<div style=\"background-color:rgba(255, 215, 0, 0.6);border-radius:5px;display:fill\"><h1 style=\"text-align: center;padding: 12px 0px 12px 0px;\">Save OOF Predictions</h1>\n",
    "</div>\n",
    "\n",
    "This is unused for this example but needed later for [Blending](https://towardsdatascience.com/ensemble-learning-stacking-blending-voting-b37737c4f483).\n",
    "\n",
    "**General idea**: The values will be use to create new features in a blended model.\n",
    "\n",
    "- [Stacking and Blending — An Intuitive ExplanationStacking and Blending — An Intuitive Explanation](https://medium.com/@stevenyu530_73989/stacking-and-blending-intuitive-explanation-of-advanced-ensemble-methods-46b295da413chttps://medium.com/@stevenyu530_73989/stacking-and-blending-intuitive-explanation-of-advanced-ensemble-methods-46b295da413c)"
   ]
  },
  {
   "cell_type": "code",
   "execution_count": 55,
   "id": "6593867a",
   "metadata": {
    "execution": {
     "iopub.execute_input": "2022-07-28T19:10:42.988242Z",
     "iopub.status.busy": "2022-07-28T19:10:42.986843Z",
     "iopub.status.idle": "2022-07-28T19:10:42.993221Z",
     "shell.execute_reply": "2022-07-28T19:10:42.992261Z"
    },
    "papermill": {
     "duration": 0.036077,
     "end_time": "2022-07-28T19:10:42.995615",
     "exception": false,
     "start_time": "2022-07-28T19:10:42.959538",
     "status": "completed"
    },
    "tags": []
   },
   "outputs": [],
   "source": [
    "# final_valid_predictions"
   ]
  },
  {
   "cell_type": "code",
   "execution_count": 56,
   "id": "87d168e8",
   "metadata": {
    "execution": {
     "iopub.execute_input": "2022-07-28T19:10:43.053457Z",
     "iopub.status.busy": "2022-07-28T19:10:43.052612Z",
     "iopub.status.idle": "2022-07-28T19:10:43.073092Z",
     "shell.execute_reply": "2022-07-28T19:10:43.072033Z"
    },
    "papermill": {
     "duration": 0.051712,
     "end_time": "2022-07-28T19:10:43.075624",
     "exception": false,
     "start_time": "2022-07-28T19:10:43.023912",
     "status": "completed"
    },
    "tags": []
   },
   "outputs": [
    {
     "data": {
      "text/html": [
       "<div>\n",
       "<style scoped>\n",
       "    .dataframe tbody tr th:only-of-type {\n",
       "        vertical-align: middle;\n",
       "    }\n",
       "\n",
       "    .dataframe tbody tr th {\n",
       "        vertical-align: top;\n",
       "    }\n",
       "\n",
       "    .dataframe thead th {\n",
       "        text-align: right;\n",
       "    }\n",
       "</style>\n",
       "<table border=\"1\" class=\"dataframe\">\n",
       "  <thead>\n",
       "    <tr style=\"text-align: right;\">\n",
       "      <th></th>\n",
       "      <th>pred_lgbm1</th>\n",
       "    </tr>\n",
       "    <tr>\n",
       "      <th>PassengerId</th>\n",
       "      <th></th>\n",
       "    </tr>\n",
       "  </thead>\n",
       "  <tbody>\n",
       "    <tr>\n",
       "      <th>1</th>\n",
       "      <td>0.058313</td>\n",
       "    </tr>\n",
       "    <tr>\n",
       "      <th>2</th>\n",
       "      <td>0.995972</td>\n",
       "    </tr>\n",
       "    <tr>\n",
       "      <th>3</th>\n",
       "      <td>0.251670</td>\n",
       "    </tr>\n",
       "    <tr>\n",
       "      <th>4</th>\n",
       "      <td>0.999298</td>\n",
       "    </tr>\n",
       "    <tr>\n",
       "      <th>5</th>\n",
       "      <td>0.061780</td>\n",
       "    </tr>\n",
       "  </tbody>\n",
       "</table>\n",
       "</div>"
      ],
      "text/plain": [
       "             pred_lgbm1\n",
       "PassengerId            \n",
       "1              0.058313\n",
       "2              0.995972\n",
       "3              0.251670\n",
       "4              0.999298\n",
       "5              0.061780"
      ]
     },
     "execution_count": 56,
     "metadata": {},
     "output_type": "execute_result"
    }
   ],
   "source": [
    "final_valid_predictions_df = process_valid_predictions(\n",
    "    final_valid_predictions, \"PassengerId\", model_name\n",
    ")\n",
    "final_valid_predictions_df.head()"
   ]
  },
  {
   "cell_type": "code",
   "execution_count": 57,
   "id": "b0670e1d",
   "metadata": {
    "execution": {
     "iopub.execute_input": "2022-07-28T19:10:43.131708Z",
     "iopub.status.busy": "2022-07-28T19:10:43.131000Z",
     "iopub.status.idle": "2022-07-28T19:10:43.146614Z",
     "shell.execute_reply": "2022-07-28T19:10:43.145737Z"
    },
    "papermill": {
     "duration": 0.045633,
     "end_time": "2022-07-28T19:10:43.148883",
     "exception": false,
     "start_time": "2022-07-28T19:10:43.103250",
     "status": "completed"
    },
    "tags": []
   },
   "outputs": [
    {
     "data": {
      "text/html": [
       "<div>\n",
       "<style scoped>\n",
       "    .dataframe tbody tr th:only-of-type {\n",
       "        vertical-align: middle;\n",
       "    }\n",
       "\n",
       "    .dataframe tbody tr th {\n",
       "        vertical-align: top;\n",
       "    }\n",
       "\n",
       "    .dataframe thead th {\n",
       "        text-align: right;\n",
       "    }\n",
       "</style>\n",
       "<table border=\"1\" class=\"dataframe\">\n",
       "  <thead>\n",
       "    <tr style=\"text-align: right;\">\n",
       "      <th></th>\n",
       "      <th>Survived</th>\n",
       "      <th>fold</th>\n",
       "      <th>pred_xgb1</th>\n",
       "      <th>pred_lgbm1</th>\n",
       "    </tr>\n",
       "    <tr>\n",
       "      <th>PassengerId</th>\n",
       "      <th></th>\n",
       "      <th></th>\n",
       "      <th></th>\n",
       "      <th></th>\n",
       "    </tr>\n",
       "  </thead>\n",
       "  <tbody>\n",
       "    <tr>\n",
       "      <th>1</th>\n",
       "      <td>0</td>\n",
       "      <td>1</td>\n",
       "      <td>0.134735</td>\n",
       "      <td>0.058313</td>\n",
       "    </tr>\n",
       "    <tr>\n",
       "      <th>2</th>\n",
       "      <td>1</td>\n",
       "      <td>4</td>\n",
       "      <td>0.894681</td>\n",
       "      <td>0.995972</td>\n",
       "    </tr>\n",
       "    <tr>\n",
       "      <th>3</th>\n",
       "      <td>1</td>\n",
       "      <td>3</td>\n",
       "      <td>0.510565</td>\n",
       "      <td>0.251670</td>\n",
       "    </tr>\n",
       "    <tr>\n",
       "      <th>4</th>\n",
       "      <td>1</td>\n",
       "      <td>3</td>\n",
       "      <td>0.874457</td>\n",
       "      <td>0.999298</td>\n",
       "    </tr>\n",
       "    <tr>\n",
       "      <th>5</th>\n",
       "      <td>0</td>\n",
       "      <td>0</td>\n",
       "      <td>0.183899</td>\n",
       "      <td>0.061780</td>\n",
       "    </tr>\n",
       "  </tbody>\n",
       "</table>\n",
       "</div>"
      ],
      "text/plain": [
       "             Survived  fold  pred_xgb1  pred_lgbm1\n",
       "PassengerId                                       \n",
       "1                   0     1   0.134735    0.058313\n",
       "2                   1     4   0.894681    0.995972\n",
       "3                   1     3   0.510565    0.251670\n",
       "4                   1     3   0.874457    0.999298\n",
       "5                   0     0   0.183899    0.061780"
      ]
     },
     "execution_count": 57,
     "metadata": {},
     "output_type": "execute_result"
    }
   ],
   "source": [
    "oof[f\"pred_{model_name}\"] = final_valid_predictions_df[f\"pred_{model_name}\"]\n",
    "oof.head()"
   ]
  },
  {
   "cell_type": "code",
   "execution_count": 58,
   "id": "8b8b0095",
   "metadata": {
    "execution": {
     "iopub.execute_input": "2022-07-28T19:10:43.207330Z",
     "iopub.status.busy": "2022-07-28T19:10:43.206669Z",
     "iopub.status.idle": "2022-07-28T19:10:43.217375Z",
     "shell.execute_reply": "2022-07-28T19:10:43.215996Z"
    },
    "papermill": {
     "duration": 0.042207,
     "end_time": "2022-07-28T19:10:43.219481",
     "exception": false,
     "start_time": "2022-07-28T19:10:43.177274",
     "status": "completed"
    },
    "tags": []
   },
   "outputs": [
    {
     "name": "stdout",
     "output_type": "stream",
     "text": [
      "Mean\n"
     ]
    },
    {
     "data": {
      "text/plain": [
       "array([0.04402473, 0.15600662, 0.08687633, 0.41602595, 0.30781646,\n",
       "       0.33547589, 0.30317674, 0.07931551, 0.83769097, 0.01235911,\n",
       "       0.00698296, 0.07074512, 0.98846805, 0.01846501, 0.97294458,\n",
       "       0.94908093, 0.07640772, 0.40469224, 0.58995286, 0.51586358])"
      ]
     },
     "execution_count": 58,
     "metadata": {},
     "output_type": "execute_result"
    }
   ],
   "source": [
    "result = merge_test_predictions(final_test_predictions, Config.calc_probability)\n",
    "result[:20]"
   ]
  },
  {
   "cell_type": "code",
   "execution_count": 59,
   "id": "e6b3a70e",
   "metadata": {
    "execution": {
     "iopub.execute_input": "2022-07-28T19:10:43.274564Z",
     "iopub.status.busy": "2022-07-28T19:10:43.273209Z",
     "iopub.status.idle": "2022-07-28T19:10:43.289964Z",
     "shell.execute_reply": "2022-07-28T19:10:43.288765Z"
    },
    "papermill": {
     "duration": 0.04646,
     "end_time": "2022-07-28T19:10:43.292113",
     "exception": false,
     "start_time": "2022-07-28T19:10:43.245653",
     "status": "completed"
    },
    "tags": []
   },
   "outputs": [
    {
     "data": {
      "text/html": [
       "<div>\n",
       "<style scoped>\n",
       "    .dataframe tbody tr th:only-of-type {\n",
       "        vertical-align: middle;\n",
       "    }\n",
       "\n",
       "    .dataframe tbody tr th {\n",
       "        vertical-align: top;\n",
       "    }\n",
       "\n",
       "    .dataframe thead th {\n",
       "        text-align: right;\n",
       "    }\n",
       "</style>\n",
       "<table border=\"1\" class=\"dataframe\">\n",
       "  <thead>\n",
       "    <tr style=\"text-align: right;\">\n",
       "      <th></th>\n",
       "      <th>PassengerId</th>\n",
       "      <th>target_xgb1</th>\n",
       "      <th>target_lgbm1</th>\n",
       "    </tr>\n",
       "  </thead>\n",
       "  <tbody>\n",
       "    <tr>\n",
       "      <th>0</th>\n",
       "      <td>892</td>\n",
       "      <td>0.159082</td>\n",
       "      <td>0.044025</td>\n",
       "    </tr>\n",
       "    <tr>\n",
       "      <th>1</th>\n",
       "      <td>893</td>\n",
       "      <td>0.459970</td>\n",
       "      <td>0.156007</td>\n",
       "    </tr>\n",
       "    <tr>\n",
       "      <th>2</th>\n",
       "      <td>894</td>\n",
       "      <td>0.167514</td>\n",
       "      <td>0.086876</td>\n",
       "    </tr>\n",
       "    <tr>\n",
       "      <th>3</th>\n",
       "      <td>895</td>\n",
       "      <td>0.175537</td>\n",
       "      <td>0.416026</td>\n",
       "    </tr>\n",
       "    <tr>\n",
       "      <th>4</th>\n",
       "      <td>896</td>\n",
       "      <td>0.457467</td>\n",
       "      <td>0.307816</td>\n",
       "    </tr>\n",
       "    <tr>\n",
       "      <th>5</th>\n",
       "      <td>897</td>\n",
       "      <td>0.251716</td>\n",
       "      <td>0.335476</td>\n",
       "    </tr>\n",
       "    <tr>\n",
       "      <th>6</th>\n",
       "      <td>898</td>\n",
       "      <td>0.590887</td>\n",
       "      <td>0.303177</td>\n",
       "    </tr>\n",
       "    <tr>\n",
       "      <th>7</th>\n",
       "      <td>899</td>\n",
       "      <td>0.298252</td>\n",
       "      <td>0.079316</td>\n",
       "    </tr>\n",
       "    <tr>\n",
       "      <th>8</th>\n",
       "      <td>900</td>\n",
       "      <td>0.612216</td>\n",
       "      <td>0.837691</td>\n",
       "    </tr>\n",
       "    <tr>\n",
       "      <th>9</th>\n",
       "      <td>901</td>\n",
       "      <td>0.180394</td>\n",
       "      <td>0.012359</td>\n",
       "    </tr>\n",
       "  </tbody>\n",
       "</table>\n",
       "</div>"
      ],
      "text/plain": [
       "   PassengerId  target_xgb1  target_lgbm1\n",
       "0          892     0.159082      0.044025\n",
       "1          893     0.459970      0.156007\n",
       "2          894     0.167514      0.086876\n",
       "3          895     0.175537      0.416026\n",
       "4          896     0.457467      0.307816\n",
       "5          897     0.251716      0.335476\n",
       "6          898     0.590887      0.303177\n",
       "7          899     0.298252      0.079316\n",
       "8          900     0.612216      0.837691\n",
       "9          901     0.180394      0.012359"
      ]
     },
     "execution_count": 59,
     "metadata": {},
     "output_type": "execute_result"
    }
   ],
   "source": [
    "submission_df[f\"target_{model_name}\"] = result\n",
    "submission_df.head(10)"
   ]
  },
  {
   "cell_type": "code",
   "execution_count": 60,
   "id": "8757a40e",
   "metadata": {
    "execution": {
     "iopub.execute_input": "2022-07-28T19:10:43.348230Z",
     "iopub.status.busy": "2022-07-28T19:10:43.347473Z",
     "iopub.status.idle": "2022-07-28T19:10:43.368126Z",
     "shell.execute_reply": "2022-07-28T19:10:43.367278Z"
    },
    "papermill": {
     "duration": 0.051333,
     "end_time": "2022-07-28T19:10:43.370614",
     "exception": false,
     "start_time": "2022-07-28T19:10:43.319281",
     "status": "completed"
    },
    "tags": []
   },
   "outputs": [
    {
     "data": {
      "text/html": [
       "<div>\n",
       "<style scoped>\n",
       "    .dataframe tbody tr th:only-of-type {\n",
       "        vertical-align: middle;\n",
       "    }\n",
       "\n",
       "    .dataframe tbody tr th {\n",
       "        vertical-align: top;\n",
       "    }\n",
       "\n",
       "    .dataframe thead th {\n",
       "        text-align: right;\n",
       "    }\n",
       "</style>\n",
       "<table border=\"1\" class=\"dataframe\">\n",
       "  <thead>\n",
       "    <tr style=\"text-align: right;\">\n",
       "      <th></th>\n",
       "      <th>PassengerId</th>\n",
       "      <th>Survived</th>\n",
       "    </tr>\n",
       "  </thead>\n",
       "  <tbody>\n",
       "    <tr>\n",
       "      <th>0</th>\n",
       "      <td>892</td>\n",
       "      <td>0.044025</td>\n",
       "    </tr>\n",
       "    <tr>\n",
       "      <th>1</th>\n",
       "      <td>893</td>\n",
       "      <td>0.156007</td>\n",
       "    </tr>\n",
       "    <tr>\n",
       "      <th>2</th>\n",
       "      <td>894</td>\n",
       "      <td>0.086876</td>\n",
       "    </tr>\n",
       "    <tr>\n",
       "      <th>3</th>\n",
       "      <td>895</td>\n",
       "      <td>0.416026</td>\n",
       "    </tr>\n",
       "    <tr>\n",
       "      <th>4</th>\n",
       "      <td>896</td>\n",
       "      <td>0.307816</td>\n",
       "    </tr>\n",
       "    <tr>\n",
       "      <th>...</th>\n",
       "      <td>...</td>\n",
       "      <td>...</td>\n",
       "    </tr>\n",
       "    <tr>\n",
       "      <th>413</th>\n",
       "      <td>1305</td>\n",
       "      <td>0.022661</td>\n",
       "    </tr>\n",
       "    <tr>\n",
       "      <th>414</th>\n",
       "      <td>1306</td>\n",
       "      <td>0.996516</td>\n",
       "    </tr>\n",
       "    <tr>\n",
       "      <th>415</th>\n",
       "      <td>1307</td>\n",
       "      <td>0.002021</td>\n",
       "    </tr>\n",
       "    <tr>\n",
       "      <th>416</th>\n",
       "      <td>1308</td>\n",
       "      <td>0.022661</td>\n",
       "    </tr>\n",
       "    <tr>\n",
       "      <th>417</th>\n",
       "      <td>1309</td>\n",
       "      <td>0.523850</td>\n",
       "    </tr>\n",
       "  </tbody>\n",
       "</table>\n",
       "<p>418 rows × 2 columns</p>\n",
       "</div>"
      ],
      "text/plain": [
       "     PassengerId  Survived\n",
       "0            892  0.044025\n",
       "1            893  0.156007\n",
       "2            894  0.086876\n",
       "3            895  0.416026\n",
       "4            896  0.307816\n",
       "..           ...       ...\n",
       "413         1305  0.022661\n",
       "414         1306  0.996516\n",
       "415         1307  0.002021\n",
       "416         1308  0.022661\n",
       "417         1309  0.523850\n",
       "\n",
       "[418 rows x 2 columns]"
      ]
     },
     "execution_count": 60,
     "metadata": {},
     "output_type": "execute_result"
    }
   ],
   "source": [
    "ss = (\n",
    "    submission_df[[\"PassengerId\", f\"target_{model_name}\"]].copy().reset_index(drop=True)\n",
    ")\n",
    "ss.rename(columns={f\"target_{model_name}\": TARGET}, inplace=True)\n",
    "ss"
   ]
  },
  {
   "cell_type": "code",
   "execution_count": 61,
   "id": "83fc6f91",
   "metadata": {
    "execution": {
     "iopub.execute_input": "2022-07-28T19:10:43.427322Z",
     "iopub.status.busy": "2022-07-28T19:10:43.426813Z",
     "iopub.status.idle": "2022-07-28T19:10:43.446940Z",
     "shell.execute_reply": "2022-07-28T19:10:43.445706Z"
    },
    "papermill": {
     "duration": 0.05094,
     "end_time": "2022-07-28T19:10:43.449220",
     "exception": false,
     "start_time": "2022-07-28T19:10:43.398280",
     "status": "completed"
    },
    "tags": []
   },
   "outputs": [
    {
     "data": {
      "text/html": [
       "<div>\n",
       "<style scoped>\n",
       "    .dataframe tbody tr th:only-of-type {\n",
       "        vertical-align: middle;\n",
       "    }\n",
       "\n",
       "    .dataframe tbody tr th {\n",
       "        vertical-align: top;\n",
       "    }\n",
       "\n",
       "    .dataframe thead th {\n",
       "        text-align: right;\n",
       "    }\n",
       "</style>\n",
       "<table border=\"1\" class=\"dataframe\">\n",
       "  <thead>\n",
       "    <tr style=\"text-align: right;\">\n",
       "      <th></th>\n",
       "      <th>PassengerId</th>\n",
       "      <th>Survived</th>\n",
       "    </tr>\n",
       "  </thead>\n",
       "  <tbody>\n",
       "    <tr>\n",
       "      <th>0</th>\n",
       "      <td>892</td>\n",
       "      <td>0</td>\n",
       "    </tr>\n",
       "    <tr>\n",
       "      <th>1</th>\n",
       "      <td>893</td>\n",
       "      <td>0</td>\n",
       "    </tr>\n",
       "    <tr>\n",
       "      <th>2</th>\n",
       "      <td>894</td>\n",
       "      <td>0</td>\n",
       "    </tr>\n",
       "    <tr>\n",
       "      <th>3</th>\n",
       "      <td>895</td>\n",
       "      <td>0</td>\n",
       "    </tr>\n",
       "    <tr>\n",
       "      <th>4</th>\n",
       "      <td>896</td>\n",
       "      <td>0</td>\n",
       "    </tr>\n",
       "  </tbody>\n",
       "</table>\n",
       "</div>"
      ],
      "text/plain": [
       "   PassengerId  Survived\n",
       "0          892         0\n",
       "1          893         0\n",
       "2          894         0\n",
       "3          895         0\n",
       "4          896         0"
      ]
     },
     "execution_count": 61,
     "metadata": {},
     "output_type": "execute_result"
    }
   ],
   "source": [
    "ss[TARGET] = np.rint(ss[TARGET]).astype(int)\n",
    "ss.to_csv(f\"submission_{model_name}.csv\", index=False)\n",
    "ss.head()"
   ]
  },
  {
   "cell_type": "markdown",
   "id": "41fcd967",
   "metadata": {
    "papermill": {
     "duration": 0.026407,
     "end_time": "2022-07-28T19:10:43.502615",
     "exception": false,
     "start_time": "2022-07-28T19:10:43.476208",
     "status": "completed"
    },
    "tags": []
   },
   "source": [
    "<div style=\"background-color:rgba(255, 215, 0, 0.6);border-radius:5px;display:fill\"><h1 style=\"text-align: center;padding: 12px 0px 12px 0px;\">Weighted Blend Based on OOF</h1>\n",
    "</div>"
   ]
  },
  {
   "cell_type": "code",
   "execution_count": 62,
   "id": "8c6892d8",
   "metadata": {
    "execution": {
     "iopub.execute_input": "2022-07-28T19:10:43.559040Z",
     "iopub.status.busy": "2022-07-28T19:10:43.558054Z",
     "iopub.status.idle": "2022-07-28T19:10:43.571648Z",
     "shell.execute_reply": "2022-07-28T19:10:43.570816Z"
    },
    "papermill": {
     "duration": 0.043919,
     "end_time": "2022-07-28T19:10:43.573734",
     "exception": false,
     "start_time": "2022-07-28T19:10:43.529815",
     "status": "completed"
    },
    "tags": []
   },
   "outputs": [
    {
     "data": {
      "text/html": [
       "<div>\n",
       "<style scoped>\n",
       "    .dataframe tbody tr th:only-of-type {\n",
       "        vertical-align: middle;\n",
       "    }\n",
       "\n",
       "    .dataframe tbody tr th {\n",
       "        vertical-align: top;\n",
       "    }\n",
       "\n",
       "    .dataframe thead th {\n",
       "        text-align: right;\n",
       "    }\n",
       "</style>\n",
       "<table border=\"1\" class=\"dataframe\">\n",
       "  <thead>\n",
       "    <tr style=\"text-align: right;\">\n",
       "      <th></th>\n",
       "      <th>Survived</th>\n",
       "      <th>fold</th>\n",
       "      <th>pred_xgb1</th>\n",
       "      <th>pred_lgbm1</th>\n",
       "    </tr>\n",
       "    <tr>\n",
       "      <th>PassengerId</th>\n",
       "      <th></th>\n",
       "      <th></th>\n",
       "      <th></th>\n",
       "      <th></th>\n",
       "    </tr>\n",
       "  </thead>\n",
       "  <tbody>\n",
       "    <tr>\n",
       "      <th>1</th>\n",
       "      <td>0</td>\n",
       "      <td>1</td>\n",
       "      <td>0.134735</td>\n",
       "      <td>0.058313</td>\n",
       "    </tr>\n",
       "    <tr>\n",
       "      <th>2</th>\n",
       "      <td>1</td>\n",
       "      <td>4</td>\n",
       "      <td>0.894681</td>\n",
       "      <td>0.995972</td>\n",
       "    </tr>\n",
       "    <tr>\n",
       "      <th>3</th>\n",
       "      <td>1</td>\n",
       "      <td>3</td>\n",
       "      <td>0.510565</td>\n",
       "      <td>0.251670</td>\n",
       "    </tr>\n",
       "    <tr>\n",
       "      <th>4</th>\n",
       "      <td>1</td>\n",
       "      <td>3</td>\n",
       "      <td>0.874457</td>\n",
       "      <td>0.999298</td>\n",
       "    </tr>\n",
       "    <tr>\n",
       "      <th>5</th>\n",
       "      <td>0</td>\n",
       "      <td>0</td>\n",
       "      <td>0.183899</td>\n",
       "      <td>0.061780</td>\n",
       "    </tr>\n",
       "  </tbody>\n",
       "</table>\n",
       "</div>"
      ],
      "text/plain": [
       "             Survived  fold  pred_xgb1  pred_lgbm1\n",
       "PassengerId                                       \n",
       "1                   0     1   0.134735    0.058313\n",
       "2                   1     4   0.894681    0.995972\n",
       "3                   1     3   0.510565    0.251670\n",
       "4                   1     3   0.874457    0.999298\n",
       "5                   0     0   0.183899    0.061780"
      ]
     },
     "execution_count": 62,
     "metadata": {},
     "output_type": "execute_result"
    }
   ],
   "source": [
    "oof.head()"
   ]
  },
  {
   "cell_type": "code",
   "execution_count": 63,
   "id": "1d71a4e9",
   "metadata": {
    "execution": {
     "iopub.execute_input": "2022-07-28T19:10:43.632393Z",
     "iopub.status.busy": "2022-07-28T19:10:43.631360Z",
     "iopub.status.idle": "2022-07-28T19:10:43.641385Z",
     "shell.execute_reply": "2022-07-28T19:10:43.640464Z"
    },
    "papermill": {
     "duration": 0.041748,
     "end_time": "2022-07-28T19:10:43.643609",
     "exception": false,
     "start_time": "2022-07-28T19:10:43.601861",
     "status": "completed"
    },
    "tags": []
   },
   "outputs": [
    {
     "data": {
      "text/plain": [
       "[]"
      ]
     },
     "execution_count": 63,
     "metadata": {},
     "output_type": "execute_result"
    }
   ],
   "source": [
    "pred_cols = [c for c in submission_df.columns if c.startswith(\"pred_\")]\n",
    "pred_cols"
   ]
  },
  {
   "cell_type": "code",
   "execution_count": 64,
   "id": "ce1dd0df",
   "metadata": {
    "execution": {
     "iopub.execute_input": "2022-07-28T19:10:43.703110Z",
     "iopub.status.busy": "2022-07-28T19:10:43.702539Z",
     "iopub.status.idle": "2022-07-28T19:10:44.303520Z",
     "shell.execute_reply": "2022-07-28T19:10:44.302459Z"
    },
    "papermill": {
     "duration": 0.633441,
     "end_time": "2022-07-28T19:10:44.305999",
     "exception": false,
     "start_time": "2022-07-28T19:10:43.672558",
     "status": "completed"
    },
    "tags": []
   },
   "outputs": [
    {
     "data": {
      "image/png": "[encoded data removed]",
      "text/plain": [
       "<Figure size 864x360 with 2 Axes>"
      ]
     },
     "metadata": {},
     "output_type": "display_data"
    }
   ],
   "source": [
    "fig, axs = plt.subplots(1, 2, figsize=(12, 5))\n",
    "oof.plot(\n",
    "    x=\"pred_lgbm1\",\n",
    "    y=\"pred_xgb1\",\n",
    "    kind=\"scatter\",\n",
    "    title=\"Compare OOF predictions for two models\",\n",
    "    ax=axs[0],\n",
    ")\n",
    "\n",
    "submission_df.plot(\n",
    "    x=\"target_lgbm1\",\n",
    "    y=\"target_xgb1\",\n",
    "    kind=\"scatter\",\n",
    "    title=\"Compare Test predictions for two models\",\n",
    "    ax=axs[1],\n",
    ")\n",
    "plt.show()"
   ]
  },
  {
   "cell_type": "code",
   "execution_count": 65,
   "id": "caa927cb",
   "metadata": {
    "execution": {
     "iopub.execute_input": "2022-07-28T19:10:44.366358Z",
     "iopub.status.busy": "2022-07-28T19:10:44.365433Z",
     "iopub.status.idle": "2022-07-28T19:10:44.376890Z",
     "shell.execute_reply": "2022-07-28T19:10:44.375994Z"
    },
    "papermill": {
     "duration": 0.043994,
     "end_time": "2022-07-28T19:10:44.379227",
     "exception": false,
     "start_time": "2022-07-28T19:10:44.335233",
     "status": "completed"
    },
    "tags": []
   },
   "outputs": [],
   "source": [
    "from sklearn.metrics import mean_absolute_error\n",
    "\n",
    "\n",
    "def get_oof_mae_score(weight, oof, pred_model1, pred_model2):\n",
    "    blend_pred = (oof[pred_model1] * weight) + (oof[pred_model2] * (1 - weight))\n",
    "    return mean_absolute_error(oof[TARGET], blend_pred)"
   ]
  },
  {
   "cell_type": "code",
   "execution_count": 66,
   "id": "0e10a488",
   "metadata": {
    "execution": {
     "iopub.execute_input": "2022-07-28T19:10:44.442142Z",
     "iopub.status.busy": "2022-07-28T19:10:44.441714Z",
     "iopub.status.idle": "2022-07-28T19:10:44.455807Z",
     "shell.execute_reply": "2022-07-28T19:10:44.454848Z"
    },
    "papermill": {
     "duration": 0.048468,
     "end_time": "2022-07-28T19:10:44.458008",
     "exception": false,
     "start_time": "2022-07-28T19:10:44.409540",
     "status": "completed"
    },
    "tags": []
   },
   "outputs": [
    {
     "data": {
      "text/html": [
       "<div>\n",
       "<style scoped>\n",
       "    .dataframe tbody tr th:only-of-type {\n",
       "        vertical-align: middle;\n",
       "    }\n",
       "\n",
       "    .dataframe tbody tr th {\n",
       "        vertical-align: top;\n",
       "    }\n",
       "\n",
       "    .dataframe thead th {\n",
       "        text-align: right;\n",
       "    }\n",
       "</style>\n",
       "<table border=\"1\" class=\"dataframe\">\n",
       "  <thead>\n",
       "    <tr style=\"text-align: right;\">\n",
       "      <th></th>\n",
       "      <th>Survived</th>\n",
       "      <th>fold</th>\n",
       "      <th>pred_xgb1</th>\n",
       "      <th>pred_lgbm1</th>\n",
       "    </tr>\n",
       "    <tr>\n",
       "      <th>PassengerId</th>\n",
       "      <th></th>\n",
       "      <th></th>\n",
       "      <th></th>\n",
       "      <th></th>\n",
       "    </tr>\n",
       "  </thead>\n",
       "  <tbody>\n",
       "    <tr>\n",
       "      <th>1</th>\n",
       "      <td>0</td>\n",
       "      <td>1</td>\n",
       "      <td>0.134735</td>\n",
       "      <td>0.058313</td>\n",
       "    </tr>\n",
       "    <tr>\n",
       "      <th>2</th>\n",
       "      <td>1</td>\n",
       "      <td>4</td>\n",
       "      <td>0.894681</td>\n",
       "      <td>0.995972</td>\n",
       "    </tr>\n",
       "    <tr>\n",
       "      <th>3</th>\n",
       "      <td>1</td>\n",
       "      <td>3</td>\n",
       "      <td>0.510565</td>\n",
       "      <td>0.251670</td>\n",
       "    </tr>\n",
       "    <tr>\n",
       "      <th>4</th>\n",
       "      <td>1</td>\n",
       "      <td>3</td>\n",
       "      <td>0.874457</td>\n",
       "      <td>0.999298</td>\n",
       "    </tr>\n",
       "    <tr>\n",
       "      <th>5</th>\n",
       "      <td>0</td>\n",
       "      <td>0</td>\n",
       "      <td>0.183899</td>\n",
       "      <td>0.061780</td>\n",
       "    </tr>\n",
       "  </tbody>\n",
       "</table>\n",
       "</div>"
      ],
      "text/plain": [
       "             Survived  fold  pred_xgb1  pred_lgbm1\n",
       "PassengerId                                       \n",
       "1                   0     1   0.134735    0.058313\n",
       "2                   1     4   0.894681    0.995972\n",
       "3                   1     3   0.510565    0.251670\n",
       "4                   1     3   0.874457    0.999298\n",
       "5                   0     0   0.183899    0.061780"
      ]
     },
     "execution_count": 66,
     "metadata": {},
     "output_type": "execute_result"
    }
   ],
   "source": [
    "oof.head()"
   ]
  },
  {
   "cell_type": "markdown",
   "id": "84ea9833",
   "metadata": {
    "papermill": {
     "duration": 0.030082,
     "end_time": "2022-07-28T19:10:44.518730",
     "exception": false,
     "start_time": "2022-07-28T19:10:44.488648",
     "status": "completed"
    },
    "tags": []
   },
   "source": []
  },
  {
   "cell_type": "code",
   "execution_count": 67,
   "id": "0c3b73aa",
   "metadata": {
    "execution": {
     "iopub.execute_input": "2022-07-28T19:10:44.578461Z",
     "iopub.status.busy": "2022-07-28T19:10:44.577869Z",
     "iopub.status.idle": "2022-07-28T19:10:44.591867Z",
     "shell.execute_reply": "2022-07-28T19:10:44.590579Z"
    },
    "papermill": {
     "duration": 0.046943,
     "end_time": "2022-07-28T19:10:44.594664",
     "exception": false,
     "start_time": "2022-07-28T19:10:44.547721",
     "status": "completed"
    },
    "tags": []
   },
   "outputs": [],
   "source": [
    "def get_oof_accuracy_score(weight, oof, pred_model1, pred_model2):\n",
    "    blend_pred = (oof[pred_model1] * weight) + (oof[pred_model2] * (1 - weight))\n",
    "    blend_int = np.rint(blend_pred).astype(int)\n",
    "    score = accuracy_score(oof[TARGET], blend_int)\n",
    "    #     print(f\"weight: {weight} Score: {score}\")\n",
    "    return score"
   ]
  },
  {
   "cell_type": "code",
   "execution_count": 68,
   "id": "fd29a90a",
   "metadata": {
    "execution": {
     "iopub.execute_input": "2022-07-28T19:10:44.661502Z",
     "iopub.status.busy": "2022-07-28T19:10:44.660861Z",
     "iopub.status.idle": "2022-07-28T19:10:44.776693Z",
     "shell.execute_reply": "2022-07-28T19:10:44.775286Z"
    },
    "papermill": {
     "duration": 0.153002,
     "end_time": "2022-07-28T19:10:44.779464",
     "exception": false,
     "start_time": "2022-07-28T19:10:44.626462",
     "status": "completed"
    },
    "tags": []
   },
   "outputs": [
    {
     "name": "stdout",
     "output_type": "stream",
     "text": [
      "Best Weight: 0.0,Score 0.8361391694725028\n",
      "Best Weight: 0.1,Score 0.8372615039281706\n",
      "Best Weight: 0.11,Score 0.8383838383838383\n",
      "Best Weight: 0.12,Score 0.8395061728395061\n",
      "Best Weight: 0.29,Score 0.8406285072951739\n",
      "Best Weight: 0.3,Score 0.8417508417508418\n",
      "Best Weight: 0.38,Score 0.8428731762065096\n",
      "Best Weight: 0.41,Score 0.8439955106621774\n",
      "Best Weight: 0.47,Score 0.8462401795735129\n",
      "Best Weight: 0.48,Score 0.8473625140291807\n",
      "Best Weight: 0.49,Score 0.8484848484848485\n",
      "Best Weight: 0.5,Score 0.8496071829405163\n"
     ]
    }
   ],
   "source": [
    "myscores = {}\n",
    "best = 0\n",
    "best_weight = 0\n",
    "\n",
    "for weight in range(100):\n",
    "    weight /= 100\n",
    "    score = get_oof_accuracy_score(weight, oof, \"pred_xgb1\", \"pred_lgbm1\")\n",
    "    if score > best:\n",
    "        best = score\n",
    "        best_weight = weight\n",
    "        print(f\"Best Weight: {best_weight},Score {best}\")\n",
    "    myscores[weight] = score"
   ]
  },
  {
   "cell_type": "code",
   "execution_count": 69,
   "id": "42284239",
   "metadata": {
    "execution": {
     "iopub.execute_input": "2022-07-28T19:10:44.840178Z",
     "iopub.status.busy": "2022-07-28T19:10:44.839760Z",
     "iopub.status.idle": "2022-07-28T19:10:44.852364Z",
     "shell.execute_reply": "2022-07-28T19:10:44.851082Z"
    },
    "papermill": {
     "duration": 0.045701,
     "end_time": "2022-07-28T19:10:44.855006",
     "exception": false,
     "start_time": "2022-07-28T19:10:44.809305",
     "status": "completed"
    },
    "tags": []
   },
   "outputs": [],
   "source": [
    "blend_results = pd.DataFrame(myscores, index=[\"score\"]).T"
   ]
  },
  {
   "cell_type": "code",
   "execution_count": 70,
   "id": "8435ba23",
   "metadata": {
    "execution": {
     "iopub.execute_input": "2022-07-28T19:10:44.917015Z",
     "iopub.status.busy": "2022-07-28T19:10:44.916602Z",
     "iopub.status.idle": "2022-07-28T19:10:45.129780Z",
     "shell.execute_reply": "2022-07-28T19:10:45.128505Z"
    },
    "papermill": {
     "duration": 0.246778,
     "end_time": "2022-07-28T19:10:45.132412",
     "exception": false,
     "start_time": "2022-07-28T19:10:44.885634",
     "status": "completed"
    },
    "tags": []
   },
   "outputs": [
    {
     "data": {
      "image/png": "[encoded data removed]",
      "text/plain": [
       "<Figure size 432x288 with 1 Axes>"
      ]
     },
     "metadata": {},
     "output_type": "display_data"
    }
   ],
   "source": [
    "ax = blend_results.plot(title=\"Weight vs. OOF Score\")\n",
    "ax.set_ylabel(\"OOF Score\")\n",
    "ax.set_xlabel(\"Weight %\")\n",
    "\n",
    "plt.show()"
   ]
  },
  {
   "cell_type": "markdown",
   "id": "1063970c",
   "metadata": {
    "papermill": {
     "duration": 0.029543,
     "end_time": "2022-07-28T19:10:45.192261",
     "exception": false,
     "start_time": "2022-07-28T19:10:45.162718",
     "status": "completed"
    },
    "tags": []
   },
   "source": [
    "### The Blended Weight is ..."
   ]
  },
  {
   "cell_type": "code",
   "execution_count": 71,
   "id": "f1f65039",
   "metadata": {
    "execution": {
     "iopub.execute_input": "2022-07-28T19:10:45.252562Z",
     "iopub.status.busy": "2022-07-28T19:10:45.251489Z",
     "iopub.status.idle": "2022-07-28T19:10:45.265120Z",
     "shell.execute_reply": "2022-07-28T19:10:45.264240Z"
    },
    "papermill": {
     "duration": 0.046259,
     "end_time": "2022-07-28T19:10:45.267323",
     "exception": false,
     "start_time": "2022-07-28T19:10:45.221064",
     "status": "completed"
    },
    "tags": []
   },
   "outputs": [
    {
     "data": {
      "text/html": [
       "<div>\n",
       "<style scoped>\n",
       "    .dataframe tbody tr th:only-of-type {\n",
       "        vertical-align: middle;\n",
       "    }\n",
       "\n",
       "    .dataframe tbody tr th {\n",
       "        vertical-align: top;\n",
       "    }\n",
       "\n",
       "    .dataframe thead th {\n",
       "        text-align: right;\n",
       "    }\n",
       "</style>\n",
       "<table border=\"1\" class=\"dataframe\">\n",
       "  <thead>\n",
       "    <tr style=\"text-align: right;\">\n",
       "      <th></th>\n",
       "      <th>score</th>\n",
       "    </tr>\n",
       "  </thead>\n",
       "  <tbody>\n",
       "    <tr>\n",
       "      <th>0.5</th>\n",
       "      <td>0.849607</td>\n",
       "    </tr>\n",
       "  </tbody>\n",
       "</table>\n",
       "</div>"
      ],
      "text/plain": [
       "        score\n",
       "0.5  0.849607"
      ]
     },
     "execution_count": 71,
     "metadata": {},
     "output_type": "execute_result"
    }
   ],
   "source": [
    "blend_results.loc[blend_results[\"score\"] == blend_results[\"score\"].max()]"
   ]
  },
  {
   "cell_type": "code",
   "execution_count": 72,
   "id": "2b4817d7",
   "metadata": {
    "execution": {
     "iopub.execute_input": "2022-07-28T19:10:45.327896Z",
     "iopub.status.busy": "2022-07-28T19:10:45.326788Z",
     "iopub.status.idle": "2022-07-28T19:10:45.335714Z",
     "shell.execute_reply": "2022-07-28T19:10:45.334444Z"
    },
    "papermill": {
     "duration": 0.041798,
     "end_time": "2022-07-28T19:10:45.338348",
     "exception": false,
     "start_time": "2022-07-28T19:10:45.296550",
     "status": "completed"
    },
    "tags": []
   },
   "outputs": [
    {
     "name": "stdout",
     "output_type": "stream",
     "text": [
      "Blended Score: 0.84960718\n"
     ]
    }
   ],
   "source": [
    "blend_score = blend_results[\"score\"].max()\n",
    "# best_cv_score = 0.004722\n",
    "print(f\"Blended Score: {blend_score:.8f}\")"
   ]
  },
  {
   "cell_type": "code",
   "execution_count": 73,
   "id": "b48107c7",
   "metadata": {
    "execution": {
     "iopub.execute_input": "2022-07-28T19:10:45.400777Z",
     "iopub.status.busy": "2022-07-28T19:10:45.399707Z",
     "iopub.status.idle": "2022-07-28T19:10:45.412622Z",
     "shell.execute_reply": "2022-07-28T19:10:45.411734Z"
    },
    "papermill": {
     "duration": 0.046338,
     "end_time": "2022-07-28T19:10:45.414749",
     "exception": false,
     "start_time": "2022-07-28T19:10:45.368411",
     "status": "completed"
    },
    "tags": []
   },
   "outputs": [
    {
     "data": {
      "text/html": [
       "<div>\n",
       "<style scoped>\n",
       "    .dataframe tbody tr th:only-of-type {\n",
       "        vertical-align: middle;\n",
       "    }\n",
       "\n",
       "    .dataframe tbody tr th {\n",
       "        vertical-align: top;\n",
       "    }\n",
       "\n",
       "    .dataframe thead th {\n",
       "        text-align: right;\n",
       "    }\n",
       "</style>\n",
       "<table border=\"1\" class=\"dataframe\">\n",
       "  <thead>\n",
       "    <tr style=\"text-align: right;\">\n",
       "      <th></th>\n",
       "      <th>score</th>\n",
       "    </tr>\n",
       "  </thead>\n",
       "  <tbody>\n",
       "    <tr>\n",
       "      <th>0.5</th>\n",
       "      <td>0.849607</td>\n",
       "    </tr>\n",
       "  </tbody>\n",
       "</table>\n",
       "</div>"
      ],
      "text/plain": [
       "        score\n",
       "0.5  0.849607"
      ]
     },
     "execution_count": 73,
     "metadata": {},
     "output_type": "execute_result"
    }
   ],
   "source": [
    "w = blend_results.loc[blend_results[\"score\"] == blend_results[\"score\"].max()]\n",
    "w"
   ]
  },
  {
   "cell_type": "code",
   "execution_count": 74,
   "id": "1a777e41",
   "metadata": {
    "execution": {
     "iopub.execute_input": "2022-07-28T19:10:45.476312Z",
     "iopub.status.busy": "2022-07-28T19:10:45.475520Z",
     "iopub.status.idle": "2022-07-28T19:10:45.483421Z",
     "shell.execute_reply": "2022-07-28T19:10:45.482543Z"
    },
    "papermill": {
     "duration": 0.040698,
     "end_time": "2022-07-28T19:10:45.485506",
     "exception": false,
     "start_time": "2022-07-28T19:10:45.444808",
     "status": "completed"
    },
    "tags": []
   },
   "outputs": [
    {
     "data": {
      "text/plain": [
       "0.5"
      ]
     },
     "execution_count": 74,
     "metadata": {},
     "output_type": "execute_result"
    }
   ],
   "source": [
    "wt = w.first_valid_index()\n",
    "wt"
   ]
  },
  {
   "cell_type": "code",
   "execution_count": 75,
   "id": "7c434b98",
   "metadata": {
    "execution": {
     "iopub.execute_input": "2022-07-28T19:10:45.547286Z",
     "iopub.status.busy": "2022-07-28T19:10:45.546078Z",
     "iopub.status.idle": "2022-07-28T19:10:45.555509Z",
     "shell.execute_reply": "2022-07-28T19:10:45.554740Z"
    },
    "papermill": {
     "duration": 0.042129,
     "end_time": "2022-07-28T19:10:45.557441",
     "exception": false,
     "start_time": "2022-07-28T19:10:45.515312",
     "status": "completed"
    },
    "tags": []
   },
   "outputs": [
    {
     "data": {
      "text/plain": [
       "0.00    0.836139\n",
       "0.01    0.836139\n",
       "0.02    0.836139\n",
       "0.03    0.836139\n",
       "0.04    0.836139\n",
       "          ...   \n",
       "0.95    0.812570\n",
       "0.96    0.811448\n",
       "0.97    0.812570\n",
       "0.98    0.810325\n",
       "0.99    0.804714\n",
       "Name: score, Length: 100, dtype: float64"
      ]
     },
     "execution_count": 75,
     "metadata": {},
     "output_type": "execute_result"
    }
   ],
   "source": [
    "blend_results[\"score\"]"
   ]
  },
  {
   "cell_type": "markdown",
   "id": "4ba8ee58",
   "metadata": {
    "papermill": {
     "duration": 0.029403,
     "end_time": "2022-07-28T19:10:45.616391",
     "exception": false,
     "start_time": "2022-07-28T19:10:45.586988",
     "status": "completed"
    },
    "tags": []
   },
   "source": [
    "<div style=\"background-color:rgba(255, 215, 0, 0.6);border-radius:5px;display:fill\"><h1 style=\"text-align: center;padding: 12px 0px 12px 0px;\">Submission File</h1>\n",
    "</div>\n",
    "\n",
    "The sample file and our data is in the same row order.  This allows us to simply assign our prediction to the target column (`Survived`) in the sample submission."
   ]
  },
  {
   "cell_type": "code",
   "execution_count": 76,
   "id": "e7f4b94a",
   "metadata": {
    "execution": {
     "iopub.execute_input": "2022-07-28T19:10:45.678015Z",
     "iopub.status.busy": "2022-07-28T19:10:45.677235Z",
     "iopub.status.idle": "2022-07-28T19:10:45.682605Z",
     "shell.execute_reply": "2022-07-28T19:10:45.681794Z"
    },
    "papermill": {
     "duration": 0.038266,
     "end_time": "2022-07-28T19:10:45.684640",
     "exception": false,
     "start_time": "2022-07-28T19:10:45.646374",
     "status": "completed"
    },
    "tags": []
   },
   "outputs": [],
   "source": [
    "# pred_cols = [c for c in submission_df.columns if c.startswith(\"pred_\")]\n",
    "# pred_cols"
   ]
  },
  {
   "cell_type": "code",
   "execution_count": 77,
   "id": "00ad3607",
   "metadata": {
    "execution": {
     "iopub.execute_input": "2022-07-28T19:10:45.745946Z",
     "iopub.status.busy": "2022-07-28T19:10:45.745179Z",
     "iopub.status.idle": "2022-07-28T19:10:45.756734Z",
     "shell.execute_reply": "2022-07-28T19:10:45.755886Z"
    },
    "papermill": {
     "duration": 0.044422,
     "end_time": "2022-07-28T19:10:45.758730",
     "exception": false,
     "start_time": "2022-07-28T19:10:45.714308",
     "status": "completed"
    },
    "tags": []
   },
   "outputs": [
    {
     "data": {
      "text/html": [
       "<div>\n",
       "<style scoped>\n",
       "    .dataframe tbody tr th:only-of-type {\n",
       "        vertical-align: middle;\n",
       "    }\n",
       "\n",
       "    .dataframe tbody tr th {\n",
       "        vertical-align: top;\n",
       "    }\n",
       "\n",
       "    .dataframe thead th {\n",
       "        text-align: right;\n",
       "    }\n",
       "</style>\n",
       "<table border=\"1\" class=\"dataframe\">\n",
       "  <thead>\n",
       "    <tr style=\"text-align: right;\">\n",
       "      <th></th>\n",
       "      <th>PassengerId</th>\n",
       "      <th>target_xgb1</th>\n",
       "      <th>target_lgbm1</th>\n",
       "    </tr>\n",
       "  </thead>\n",
       "  <tbody>\n",
       "    <tr>\n",
       "      <th>0</th>\n",
       "      <td>892</td>\n",
       "      <td>0.159082</td>\n",
       "      <td>0.044025</td>\n",
       "    </tr>\n",
       "    <tr>\n",
       "      <th>1</th>\n",
       "      <td>893</td>\n",
       "      <td>0.459970</td>\n",
       "      <td>0.156007</td>\n",
       "    </tr>\n",
       "    <tr>\n",
       "      <th>2</th>\n",
       "      <td>894</td>\n",
       "      <td>0.167514</td>\n",
       "      <td>0.086876</td>\n",
       "    </tr>\n",
       "    <tr>\n",
       "      <th>3</th>\n",
       "      <td>895</td>\n",
       "      <td>0.175537</td>\n",
       "      <td>0.416026</td>\n",
       "    </tr>\n",
       "    <tr>\n",
       "      <th>4</th>\n",
       "      <td>896</td>\n",
       "      <td>0.457467</td>\n",
       "      <td>0.307816</td>\n",
       "    </tr>\n",
       "  </tbody>\n",
       "</table>\n",
       "</div>"
      ],
      "text/plain": [
       "   PassengerId  target_xgb1  target_lgbm1\n",
       "0          892     0.159082      0.044025\n",
       "1          893     0.459970      0.156007\n",
       "2          894     0.167514      0.086876\n",
       "3          895     0.175537      0.416026\n",
       "4          896     0.457467      0.307816"
      ]
     },
     "execution_count": 77,
     "metadata": {},
     "output_type": "execute_result"
    }
   ],
   "source": [
    "submission_df.head()"
   ]
  },
  {
   "cell_type": "code",
   "execution_count": 78,
   "id": "816e12a1",
   "metadata": {
    "execution": {
     "iopub.execute_input": "2022-07-28T19:10:45.820519Z",
     "iopub.status.busy": "2022-07-28T19:10:45.819856Z",
     "iopub.status.idle": "2022-07-28T19:10:45.838757Z",
     "shell.execute_reply": "2022-07-28T19:10:45.837340Z"
    },
    "papermill": {
     "duration": 0.052649,
     "end_time": "2022-07-28T19:10:45.841285",
     "exception": false,
     "start_time": "2022-07-28T19:10:45.788636",
     "status": "completed"
    },
    "tags": []
   },
   "outputs": [
    {
     "name": "stdout",
     "output_type": "stream",
     "text": [
      "Weights=(0.5, 0.5)\n"
     ]
    },
    {
     "data": {
      "text/html": [
       "<div>\n",
       "<style scoped>\n",
       "    .dataframe tbody tr th:only-of-type {\n",
       "        vertical-align: middle;\n",
       "    }\n",
       "\n",
       "    .dataframe tbody tr th {\n",
       "        vertical-align: top;\n",
       "    }\n",
       "\n",
       "    .dataframe thead th {\n",
       "        text-align: right;\n",
       "    }\n",
       "</style>\n",
       "<table border=\"1\" class=\"dataframe\">\n",
       "  <thead>\n",
       "    <tr style=\"text-align: right;\">\n",
       "      <th></th>\n",
       "      <th>PassengerId</th>\n",
       "      <th>Survived</th>\n",
       "    </tr>\n",
       "  </thead>\n",
       "  <tbody>\n",
       "    <tr>\n",
       "      <th>0</th>\n",
       "      <td>892</td>\n",
       "      <td>0.101553</td>\n",
       "    </tr>\n",
       "    <tr>\n",
       "      <th>1</th>\n",
       "      <td>893</td>\n",
       "      <td>0.307988</td>\n",
       "    </tr>\n",
       "    <tr>\n",
       "      <th>2</th>\n",
       "      <td>894</td>\n",
       "      <td>0.127195</td>\n",
       "    </tr>\n",
       "    <tr>\n",
       "      <th>3</th>\n",
       "      <td>895</td>\n",
       "      <td>0.295781</td>\n",
       "    </tr>\n",
       "    <tr>\n",
       "      <th>4</th>\n",
       "      <td>896</td>\n",
       "      <td>0.382642</td>\n",
       "    </tr>\n",
       "    <tr>\n",
       "      <th>5</th>\n",
       "      <td>897</td>\n",
       "      <td>0.293596</td>\n",
       "    </tr>\n",
       "    <tr>\n",
       "      <th>6</th>\n",
       "      <td>898</td>\n",
       "      <td>0.447032</td>\n",
       "    </tr>\n",
       "    <tr>\n",
       "      <th>7</th>\n",
       "      <td>899</td>\n",
       "      <td>0.188784</td>\n",
       "    </tr>\n",
       "  </tbody>\n",
       "</table>\n",
       "</div>"
      ],
      "text/plain": [
       "   PassengerId  Survived\n",
       "0          892  0.101553\n",
       "1          893  0.307988\n",
       "2          894  0.127195\n",
       "3          895  0.295781\n",
       "4          896  0.382642\n",
       "5          897  0.293596\n",
       "6          898  0.447032\n",
       "7          899  0.188784"
      ]
     },
     "execution_count": 78,
     "metadata": {},
     "output_type": "execute_result"
    }
   ],
   "source": [
    "print(f\"Weights=({wt}, {1-wt})\")\n",
    "\n",
    "sample_submission[TARGET] = (submission_df[\"target_xgb1\"] * wt) + (\n",
    "    submission_df[\"target_lgbm1\"] * (1 - wt)\n",
    ")\n",
    "sample_submission.head(8)"
   ]
  },
  {
   "cell_type": "code",
   "execution_count": 79,
   "id": "037a6c5a",
   "metadata": {
    "execution": {
     "iopub.execute_input": "2022-07-28T19:10:45.904944Z",
     "iopub.status.busy": "2022-07-28T19:10:45.904221Z",
     "iopub.status.idle": "2022-07-28T19:10:45.921008Z",
     "shell.execute_reply": "2022-07-28T19:10:45.920216Z"
    },
    "papermill": {
     "duration": 0.050348,
     "end_time": "2022-07-28T19:10:45.923067",
     "exception": false,
     "start_time": "2022-07-28T19:10:45.872719",
     "status": "completed"
    },
    "tags": []
   },
   "outputs": [
    {
     "data": {
      "text/html": [
       "<div>\n",
       "<style scoped>\n",
       "    .dataframe tbody tr th:only-of-type {\n",
       "        vertical-align: middle;\n",
       "    }\n",
       "\n",
       "    .dataframe tbody tr th {\n",
       "        vertical-align: top;\n",
       "    }\n",
       "\n",
       "    .dataframe thead th {\n",
       "        text-align: right;\n",
       "    }\n",
       "</style>\n",
       "<table border=\"1\" class=\"dataframe\">\n",
       "  <thead>\n",
       "    <tr style=\"text-align: right;\">\n",
       "      <th></th>\n",
       "      <th>PassengerId</th>\n",
       "      <th>Survived</th>\n",
       "    </tr>\n",
       "  </thead>\n",
       "  <tbody>\n",
       "    <tr>\n",
       "      <th>0</th>\n",
       "      <td>892</td>\n",
       "      <td>0</td>\n",
       "    </tr>\n",
       "    <tr>\n",
       "      <th>1</th>\n",
       "      <td>893</td>\n",
       "      <td>0</td>\n",
       "    </tr>\n",
       "    <tr>\n",
       "      <th>2</th>\n",
       "      <td>894</td>\n",
       "      <td>0</td>\n",
       "    </tr>\n",
       "    <tr>\n",
       "      <th>3</th>\n",
       "      <td>895</td>\n",
       "      <td>0</td>\n",
       "    </tr>\n",
       "    <tr>\n",
       "      <th>4</th>\n",
       "      <td>896</td>\n",
       "      <td>0</td>\n",
       "    </tr>\n",
       "    <tr>\n",
       "      <th>5</th>\n",
       "      <td>897</td>\n",
       "      <td>0</td>\n",
       "    </tr>\n",
       "    <tr>\n",
       "      <th>6</th>\n",
       "      <td>898</td>\n",
       "      <td>0</td>\n",
       "    </tr>\n",
       "    <tr>\n",
       "      <th>7</th>\n",
       "      <td>899</td>\n",
       "      <td>0</td>\n",
       "    </tr>\n",
       "  </tbody>\n",
       "</table>\n",
       "</div>"
      ],
      "text/plain": [
       "   PassengerId  Survived\n",
       "0          892         0\n",
       "1          893         0\n",
       "2          894         0\n",
       "3          895         0\n",
       "4          896         0\n",
       "5          897         0\n",
       "6          898         0\n",
       "7          899         0"
      ]
     },
     "execution_count": 79,
     "metadata": {},
     "output_type": "execute_result"
    }
   ],
   "source": [
    "sample_submission[TARGET] = np.rint(sample_submission[TARGET]).astype(int)\n",
    "sample_submission.to_csv(\"submission.csv\", index=False)\n",
    "sample_submission.head(8)"
   ]
  }
 ],
 "metadata": {
  "kernelspec": {
   "display_name": "Python 3",
   "language": "python",
   "name": "python3"
  },
  "language_info": {
   "codemirror_mode": {
    "name": "ipython",
    "version": 3
   },
   "file_extension": ".py",
   "mimetype": "text/x-python",
   "name": "python",
   "nbconvert_exporter": "python",
   "pygments_lexer": "ipython3",
   "version": "3.7.12"
  },
  "papermill": {
   "default_parameters": {},
   "duration": 38.638905,
   "end_time": "2022-07-28T19:10:46.876665",
   "environment_variables": {},
   "exception": null,
   "input_path": "__notebook__.ipynb",
   "output_path": "__notebook__.ipynb",
   "parameters": {},
   "start_time": "2022-07-28T19:10:08.237760",
   "version": "2.3.4"
  }
 },
 "nbformat": 4,
 "nbformat_minor": 5
}
