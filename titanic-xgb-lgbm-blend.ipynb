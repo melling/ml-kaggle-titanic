{
 "cells": [
  {
   "cell_type": "markdown",
   "id": "85372e77",
   "metadata": {
    "papermill": {
     "duration": 0.017309,
     "end_time": "2022-07-27T16:13:25.819215",
     "exception": false,
     "start_time": "2022-07-27T16:13:25.801906",
     "status": "completed"
    },
    "tags": []
   },
   "source": [
    "<div style=\"background-color:rgba(255, 215, 0, 0.6);border-radius:5px;display:fill\">\n",
    "    <h1 style=\"text-align: center;padding: 12px 0px 12px 0px;\">🚢 Titanic: XGBoost + Optuna</h1>\n",
    "</div>\n",
    "<img src=\"https://www.seekpng.com/png/full/200-2002376_predicting-titanic-survivors-old-photos-of-the-titanic.png\" alt=\"Titanic\" width=\"300\"/>\n",
    "\n"
   ]
  },
  {
   "cell_type": "markdown",
   "id": "33882d3a",
   "metadata": {
    "papermill": {
     "duration": 0.015691,
     "end_time": "2022-07-27T16:13:25.851163",
     "exception": false,
     "start_time": "2022-07-27T16:13:25.835472",
     "status": "completed"
    },
    "tags": []
   },
   "source": [
    "# Understanding the Titanic Data\n",
    "\n",
    "## Target - What we want to predict\n",
    "\n",
    "For the Titantic dataset the target is:`Survived`\n",
    "\n",
    "## Features\n",
    "\n",
    "- `Pclass` - Ticket class (1st,2nd,3rd)\n",
    "- `Name` - Full name\n",
    "- `Sex` - Gender\n",
    "- `Age` - Passenger's age\n",
    "- `SibSp` - # of siblings / spouses aboard the Titanic\n",
    "- `Parch` - # of parents / children aboard the Titanic\n",
    "- `Ticket` - Ticket number\n",
    "- `Fare` - What the passenger paid for a ticket\n",
    "- `Cabin` - Cabin number\n",
    "- `Embarked` - C = Cherbourg, Q = Queenstown, S = Southampton\n",
    "\n",
    "## Evaluation Metric\n",
    "\n",
    "$Acurracy = \\frac{True Positives (TP) + True Negatives (TN)}{True Positives (TP) + True Negatives (TN) + False Positives(FP) + False Negatives(FN)}$\n",
    "\n",
    "- https://en.wikipedia.org/wiki/Accuracy_and_precision#In_binary_classification\n",
    "\n",
    "Percentage of passengers you correctly predict.  In other words, accurately predict who survived and who did not.\n",
    "\n",
    "- https://developers.google.com/machine-learning/crash-course/classification/accuracy\n",
    "\n"
   ]
  },
  {
   "cell_type": "code",
   "execution_count": 1,
   "id": "32d70666",
   "metadata": {
    "execution": {
     "iopub.execute_input": "2022-07-27T16:13:25.887982Z",
     "iopub.status.busy": "2022-07-27T16:13:25.886974Z",
     "iopub.status.idle": "2022-07-27T16:13:41.443336Z",
     "shell.execute_reply": "2022-07-27T16:13:41.442026Z"
    },
    "papermill": {
     "duration": 15.577785,
     "end_time": "2022-07-27T16:13:41.446298",
     "exception": false,
     "start_time": "2022-07-27T16:13:25.868513",
     "status": "completed"
    },
    "tags": []
   },
   "outputs": [
    {
     "name": "stdout",
     "output_type": "stream",
     "text": [
      "\u001b[33mWARNING: Running pip as the 'root' user can result in broken permissions and conflicting behaviour with the system package manager. It is recommended to use a virtual environment instead: https://pip.pypa.io/warnings/venv\u001b[0m\u001b[33m\r\n",
      "\u001b[0m"
     ]
    }
   ],
   "source": [
    "# Black formatter https://black.readthedocs.io/en/stable/\n",
    "\n",
    "! pip install nb-black > /dev/null\n",
    "\n",
    "%load_ext lab_black"
   ]
  },
  {
   "cell_type": "markdown",
   "id": "11d7085c",
   "metadata": {
    "papermill": {
     "duration": 0.015843,
     "end_time": "2022-07-27T16:13:41.478651",
     "exception": false,
     "start_time": "2022-07-27T16:13:41.462808",
     "status": "completed"
    },
    "tags": []
   },
   "source": [
    "<div style=\"background-color:rgba(255, 215, 0, 0.6);border-radius:5px;display:fill\"><h1 style=\"text-align: center;padding: 12px 0px 12px 0px;\">Import Libraries</h1>\n",
    "</div>"
   ]
  },
  {
   "cell_type": "code",
   "execution_count": 2,
   "id": "f28fc0e1",
   "metadata": {
    "execution": {
     "iopub.execute_input": "2022-07-27T16:13:41.514049Z",
     "iopub.status.busy": "2022-07-27T16:13:41.513573Z",
     "iopub.status.idle": "2022-07-27T16:13:44.299391Z",
     "shell.execute_reply": "2022-07-27T16:13:44.297981Z"
    },
    "papermill": {
     "duration": 2.807344,
     "end_time": "2022-07-27T16:13:44.302433",
     "exception": false,
     "start_time": "2022-07-27T16:13:41.495089",
     "status": "completed"
    },
    "tags": []
   },
   "outputs": [
    {
     "data": {
      "text/html": [
       "<style type='text/css'>\n",
       ".datatable table.frame { margin-bottom: 0; }\n",
       ".datatable table.frame thead { border-bottom: none; }\n",
       ".datatable table.frame tr.coltypes td {  color: #FFFFFF;  line-height: 6px;  padding: 0 0.5em;}\n",
       ".datatable .bool    { background: #DDDD99; }\n",
       ".datatable .object  { background: #565656; }\n",
       ".datatable .int     { background: #5D9E5D; }\n",
       ".datatable .float   { background: #4040CC; }\n",
       ".datatable .str     { background: #CC4040; }\n",
       ".datatable .time    { background: #40CC40; }\n",
       ".datatable .row_index {  background: var(--jp-border-color3);  border-right: 1px solid var(--jp-border-color0);  color: var(--jp-ui-font-color3);  font-size: 9px;}\n",
       ".datatable .frame tbody td { text-align: left; }\n",
       ".datatable .frame tr.coltypes .row_index {  background: var(--jp-border-color0);}\n",
       ".datatable th:nth-child(2) { padding-left: 12px; }\n",
       ".datatable .hellipsis {  color: var(--jp-cell-editor-border-color);}\n",
       ".datatable .vellipsis {  background: var(--jp-layout-color0);  color: var(--jp-cell-editor-border-color);}\n",
       ".datatable .na {  color: var(--jp-cell-editor-border-color);  font-size: 80%;}\n",
       ".datatable .sp {  opacity: 0.25;}\n",
       ".datatable .footer { font-size: 9px; }\n",
       ".datatable .frame_dimensions {  background: var(--jp-border-color3);  border-top: 1px solid var(--jp-border-color0);  color: var(--jp-ui-font-color3);  display: inline-block;  opacity: 0.6;  padding: 1px 10px 1px 5px;}\n",
       "</style>\n"
      ],
      "text/plain": [
       "<IPython.core.display.HTML object>"
      ]
     },
     "metadata": {},
     "output_type": "display_data"
    }
   ],
   "source": [
    "import os\n",
    "import time\n",
    "from pathlib import Path\n",
    "\n",
    "import pandas as pd\n",
    "import numpy as np\n",
    "\n",
    "from sklearn.model_selection import train_test_split\n",
    "from sklearn.impute import SimpleImputer\n",
    "from sklearn.model_selection import KFold, StratifiedKFold\n",
    "\n",
    "# from sklearn.metrics import accuracy_score, roc_auc_score\n",
    "from sklearn.metrics import classification_report, confusion_matrix\n",
    "\n",
    "import xgboost as xgb\n",
    "import catboost as cb\n",
    "import lightgbm as lgb\n",
    "\n",
    "# Visualization Libraries\n",
    "import matplotlib.pylab as plt\n",
    "import seaborn as sns\n",
    "\n",
    "%matplotlib inline\n",
    "\n",
    "from itertools import cycle\n",
    "\n",
    "plt.style.use(\"ggplot\")  # ggplot, fivethirtyeight\n",
    "color_pal = plt.rcParams[\"axes.prop_cycle\"].by_key()[\"color\"]\n",
    "color_cycle = cycle(plt.rcParams[\"axes.prop_cycle\"].by_key()[\"color\"])"
   ]
  },
  {
   "cell_type": "markdown",
   "id": "9330cd3f",
   "metadata": {
    "papermill": {
     "duration": 0.015948,
     "end_time": "2022-07-27T16:13:44.334777",
     "exception": false,
     "start_time": "2022-07-27T16:13:44.318829",
     "status": "completed"
    },
    "tags": []
   },
   "source": [
    "<div style=\"background-color:rgba(255, 215, 0, 0.6);border-radius:5px;display:fill\"><h1 style=\"text-align: center;padding: 12px 0px 12px 0px;\">Configuration</h1>\n",
    "</div>"
   ]
  },
  {
   "cell_type": "code",
   "execution_count": 3,
   "id": "80fccd8b",
   "metadata": {
    "execution": {
     "iopub.execute_input": "2022-07-27T16:13:44.369493Z",
     "iopub.status.busy": "2022-07-27T16:13:44.368731Z",
     "iopub.status.idle": "2022-07-27T16:13:44.383183Z",
     "shell.execute_reply": "2022-07-27T16:13:44.382179Z"
    },
    "papermill": {
     "duration": 0.03491,
     "end_time": "2022-07-27T16:13:44.385825",
     "exception": false,
     "start_time": "2022-07-27T16:13:44.350915",
     "status": "completed"
    },
    "tags": []
   },
   "outputs": [],
   "source": [
    "class Config:\n",
    "    path = \"../input/titanic\"\n",
    "    gpu = False\n",
    "    debug = False\n",
    "    optimize = False\n",
    "    model_type = \"tf\"  # (xgb, cat, lgbm, keras)\n",
    "    model_name = \"tf1\"\n",
    "    competition = \"titanic\"\n",
    "    calc_probability = True\n",
    "    seed = 42\n",
    "    N_ESTIMATORS = 100  # 100, 300, 2000, 5000 GBDT\n",
    "\n",
    "    batch_size = 64\n",
    "    epochs = 25\n",
    "    N_FOLDS = 5  # 5,10,15\n",
    "    SEED_LENGTH = 1  # 5,10"
   ]
  },
  {
   "cell_type": "markdown",
   "id": "85749c11",
   "metadata": {
    "papermill": {
     "duration": 0.015989,
     "end_time": "2022-07-27T16:13:44.418123",
     "exception": false,
     "start_time": "2022-07-27T16:13:44.402134",
     "status": "completed"
    },
    "tags": []
   },
   "source": [
    "### The target/dependent variable in the dataset"
   ]
  },
  {
   "cell_type": "code",
   "execution_count": 4,
   "id": "185a7b62",
   "metadata": {
    "execution": {
     "iopub.execute_input": "2022-07-27T16:13:44.452896Z",
     "iopub.status.busy": "2022-07-27T16:13:44.452255Z",
     "iopub.status.idle": "2022-07-27T16:13:44.457729Z",
     "shell.execute_reply": "2022-07-27T16:13:44.456869Z"
    },
    "papermill": {
     "duration": 0.025658,
     "end_time": "2022-07-27T16:13:44.460052",
     "exception": false,
     "start_time": "2022-07-27T16:13:44.434394",
     "status": "completed"
    },
    "tags": []
   },
   "outputs": [],
   "source": [
    "# Did the passenger survive?\n",
    "# 0 = No, 1 = Yes\n",
    "TARGET = \"Survived\""
   ]
  },
  {
   "cell_type": "markdown",
   "id": "abdbbe26",
   "metadata": {
    "papermill": {
     "duration": 0.016322,
     "end_time": "2022-07-27T16:13:44.493030",
     "exception": false,
     "start_time": "2022-07-27T16:13:44.476708",
     "status": "completed"
    },
    "tags": []
   },
   "source": [
    "<div style=\"background-color:rgba(255, 215, 0, 0.6);border-radius:5px;display:fill\"><h1 style=\"text-align: center;padding: 12px 0px 12px 0px;\">Library</h1>\n",
    "</div>\n",
    "\n",
    "Creating a few functions that we will reuse in each project."
   ]
  },
  {
   "cell_type": "code",
   "execution_count": 5,
   "id": "51691ee3",
   "metadata": {
    "execution": {
     "iopub.execute_input": "2022-07-27T16:13:44.527951Z",
     "iopub.status.busy": "2022-07-27T16:13:44.527275Z",
     "iopub.status.idle": "2022-07-27T16:13:44.540449Z",
     "shell.execute_reply": "2022-07-27T16:13:44.539425Z"
    },
    "papermill": {
     "duration": 0.033755,
     "end_time": "2022-07-27T16:13:44.543067",
     "exception": false,
     "start_time": "2022-07-27T16:13:44.509312",
     "status": "completed"
    },
    "tags": []
   },
   "outputs": [],
   "source": [
    "def read_data(path):\n",
    "    data_dir = Path(path)\n",
    "\n",
    "    train = pd.read_csv(data_dir / \"train.csv\")\n",
    "    test = pd.read_csv(data_dir / \"test.csv\")\n",
    "    submission_df = pd.read_csv(data_dir / \"gender_submission.csv\")\n",
    "\n",
    "    print(f\"train data: Rows={train.shape[0]}, Columns={train.shape[1]}\")\n",
    "    print(f\"test data : Rows={test.shape[0]}, Columns={test.shape[1]}\")\n",
    "    return train, test, submission_df"
   ]
  },
  {
   "cell_type": "code",
   "execution_count": 6,
   "id": "5037665f",
   "metadata": {
    "execution": {
     "iopub.execute_input": "2022-07-27T16:13:44.578622Z",
     "iopub.status.busy": "2022-07-27T16:13:44.577917Z",
     "iopub.status.idle": "2022-07-27T16:13:44.589166Z",
     "shell.execute_reply": "2022-07-27T16:13:44.587958Z"
    },
    "papermill": {
     "duration": 0.032009,
     "end_time": "2022-07-27T16:13:44.591767",
     "exception": false,
     "start_time": "2022-07-27T16:13:44.559758",
     "status": "completed"
    },
    "tags": []
   },
   "outputs": [],
   "source": [
    "def create_submission(model_name, target, preds):\n",
    "    sample_submission[target] = preds\n",
    "\n",
    "    if len(model_name) > 0:\n",
    "        fname = \"submission_{model_name}.csv\"\n",
    "    else:\n",
    "        fname = \"submission.csv\"\n",
    "\n",
    "    sample_submission.to_csv(fname, index=False)\n",
    "\n",
    "    return sample_submission"
   ]
  },
  {
   "cell_type": "code",
   "execution_count": 7,
   "id": "d42bb3ff",
   "metadata": {
    "execution": {
     "iopub.execute_input": "2022-07-27T16:13:44.626189Z",
     "iopub.status.busy": "2022-07-27T16:13:44.625801Z",
     "iopub.status.idle": "2022-07-27T16:13:44.642569Z",
     "shell.execute_reply": "2022-07-27T16:13:44.641026Z"
    },
    "papermill": {
     "duration": 0.037068,
     "end_time": "2022-07-27T16:13:44.645300",
     "exception": false,
     "start_time": "2022-07-27T16:13:44.608232",
     "status": "completed"
    },
    "tags": []
   },
   "outputs": [],
   "source": [
    "from sklearn.metrics import (\n",
    "    accuracy_score,\n",
    "    precision_score,\n",
    "    recall_score,\n",
    "    f1_score,\n",
    "    roc_auc_score,\n",
    ")\n",
    "\n",
    "\n",
    "def show_scores(gt, yhat):\n",
    "    accuracy = accuracy_score(gt, yhat)\n",
    "    precision = precision_score(gt, yhat)\n",
    "    recall = recall_score(gt, yhat)\n",
    "    f1 = f1_score(gt, yhat)\n",
    "\n",
    "    print(f\"Accuracy: {accuracy:.4f}\")\n",
    "    print(f\"Precision: {precision:.4f}\")\n",
    "    print(f\"Recall: {recall:.4f}\")\n",
    "    print(f\"f1: {f1:.4f}\")"
   ]
  },
  {
   "cell_type": "code",
   "execution_count": 8,
   "id": "d96d8710",
   "metadata": {
    "execution": {
     "iopub.execute_input": "2022-07-27T16:13:44.680580Z",
     "iopub.status.busy": "2022-07-27T16:13:44.679830Z",
     "iopub.status.idle": "2022-07-27T16:13:44.695761Z",
     "shell.execute_reply": "2022-07-27T16:13:44.694780Z"
    },
    "papermill": {
     "duration": 0.036405,
     "end_time": "2022-07-27T16:13:44.698392",
     "exception": false,
     "start_time": "2022-07-27T16:13:44.661987",
     "status": "completed"
    },
    "tags": []
   },
   "outputs": [],
   "source": [
    "from sklearn.preprocessing import LabelEncoder\n",
    "\n",
    "\n",
    "def label_encoder(train, test, columns):\n",
    "    for col in columns:\n",
    "        train[col] = train[col].astype(str)\n",
    "        test[col] = test[col].astype(str)\n",
    "        train[col] = LabelEncoder().fit_transform(train[col])\n",
    "        test[col] = LabelEncoder().fit_transform(test[col])\n",
    "    return train, test"
   ]
  },
  {
   "cell_type": "code",
   "execution_count": 9,
   "id": "835e8a40",
   "metadata": {
    "execution": {
     "iopub.execute_input": "2022-07-27T16:13:44.733637Z",
     "iopub.status.busy": "2022-07-27T16:13:44.732623Z",
     "iopub.status.idle": "2022-07-27T16:13:44.749347Z",
     "shell.execute_reply": "2022-07-27T16:13:44.747944Z"
    },
    "papermill": {
     "duration": 0.036661,
     "end_time": "2022-07-27T16:13:44.751628",
     "exception": false,
     "start_time": "2022-07-27T16:13:44.714967",
     "status": "completed"
    },
    "tags": []
   },
   "outputs": [],
   "source": [
    "from sklearn.preprocessing import OneHotEncoder\n",
    "\n",
    "\n",
    "def one_hot_encoder(train, test, columns):\n",
    "    for col in columns:\n",
    "        train[col] = train[col].astype(str)\n",
    "        test[col] = test[col].astype(str)\n",
    "        train[col] = OneHotEncoder().fit_transform(train[col])\n",
    "        test[col] = OneHotEncoder().fit_transform(test[col])\n",
    "    return train, test"
   ]
  },
  {
   "cell_type": "code",
   "execution_count": 10,
   "id": "a6f087bd",
   "metadata": {
    "execution": {
     "iopub.execute_input": "2022-07-27T16:13:44.787378Z",
     "iopub.status.busy": "2022-07-27T16:13:44.786717Z",
     "iopub.status.idle": "2022-07-27T16:13:44.794954Z",
     "shell.execute_reply": "2022-07-27T16:13:44.793749Z"
    },
    "papermill": {
     "duration": 0.029313,
     "end_time": "2022-07-27T16:13:44.797631",
     "exception": false,
     "start_time": "2022-07-27T16:13:44.768318",
     "status": "completed"
    },
    "tags": []
   },
   "outputs": [],
   "source": [
    "def show_missing_features(df):\n",
    "    missing_vals = df.isna().sum()\n",
    "    print(missing_vals[missing_vals > 0])"
   ]
  },
  {
   "cell_type": "code",
   "execution_count": 11,
   "id": "f566216b",
   "metadata": {
    "execution": {
     "iopub.execute_input": "2022-07-27T16:13:44.832428Z",
     "iopub.status.busy": "2022-07-27T16:13:44.831594Z",
     "iopub.status.idle": "2022-07-27T16:13:44.847019Z",
     "shell.execute_reply": "2022-07-27T16:13:44.845992Z"
    },
    "papermill": {
     "duration": 0.035616,
     "end_time": "2022-07-27T16:13:44.849603",
     "exception": false,
     "start_time": "2022-07-27T16:13:44.813987",
     "status": "completed"
    },
    "tags": []
   },
   "outputs": [],
   "source": [
    "def create_folds(df, TARGET, n_folds=5, seed=42):\n",
    "    print(f\"TARGET={TARGET}, n_folds={n_folds}, seed={seed}\")\n",
    "    df[\"fold\"] = -1\n",
    "\n",
    "    kf = StratifiedKFold(n_splits=n_folds, shuffle=True, random_state=seed)\n",
    "    # kf = GroupKFold(n_splits=Config.N_FOLDS)\n",
    "\n",
    "    for fold, (train_idx, valid_idx) in enumerate(kf.split(df, df[TARGET])):\n",
    "        df.loc[valid_idx, \"fold\"] = fold\n",
    "\n",
    "    # df.to_csv(f\"train_fold{num_folds}.csv\", index=False)\n",
    "    return df"
   ]
  },
  {
   "cell_type": "code",
   "execution_count": 12,
   "id": "8a75ef93",
   "metadata": {
    "execution": {
     "iopub.execute_input": "2022-07-27T16:13:44.885907Z",
     "iopub.status.busy": "2022-07-27T16:13:44.885097Z",
     "iopub.status.idle": "2022-07-27T16:13:44.894555Z",
     "shell.execute_reply": "2022-07-27T16:13:44.893571Z"
    },
    "papermill": {
     "duration": 0.030872,
     "end_time": "2022-07-27T16:13:44.897441",
     "exception": false,
     "start_time": "2022-07-27T16:13:44.866569",
     "status": "completed"
    },
    "tags": []
   },
   "outputs": [],
   "source": [
    "def show_fold_scores(scores):\n",
    "    cv_score = np.mean(scores)  # Used in filename\n",
    "    print(\n",
    "        f\"Scores -> Adjusted: {np.mean(scores) - np.std(scores):.8f} , mean: {np.mean(scores):.8f}, std: {np.std(scores):.8f}\"\n",
    "    )"
   ]
  },
  {
   "cell_type": "code",
   "execution_count": 13,
   "id": "6123d355",
   "metadata": {
    "execution": {
     "iopub.execute_input": "2022-07-27T16:13:44.931915Z",
     "iopub.status.busy": "2022-07-27T16:13:44.931497Z",
     "iopub.status.idle": "2022-07-27T16:13:44.939281Z",
     "shell.execute_reply": "2022-07-27T16:13:44.938239Z"
    },
    "papermill": {
     "duration": 0.027843,
     "end_time": "2022-07-27T16:13:44.941688",
     "exception": false,
     "start_time": "2022-07-27T16:13:44.913845",
     "status": "completed"
    },
    "tags": []
   },
   "outputs": [],
   "source": [
    "# Save OOF Results\n",
    "if not os.path.exists(\"results\"):\n",
    "    os.makedirs(\"results\")"
   ]
  },
  {
   "cell_type": "markdown",
   "id": "cf415f94",
   "metadata": {
    "papermill": {
     "duration": 0.015959,
     "end_time": "2022-07-27T16:13:44.974460",
     "exception": false,
     "start_time": "2022-07-27T16:13:44.958501",
     "status": "completed"
    },
    "tags": []
   },
   "source": [
    "<div style=\"background-color:rgba(255, 215, 0, 0.6);border-radius:5px;display:fill\"><h1 style=\"text-align: center;padding: 12px 0px 12px 0px;\">Load Train/Test Data</h1>\n",
    "</div>\n",
    "\n",
    "## Load the following files\n",
    "\n",
    " - train.csv - Data used to build our machine learning model\n",
    " - test.csv - Data used to build our machine learning model. Does not contain the `Suvived` target variable\n",
    " - gender_submission.csv - A file in the proper format to submit test predictions"
   ]
  },
  {
   "cell_type": "code",
   "execution_count": 14,
   "id": "06716a06",
   "metadata": {
    "execution": {
     "iopub.execute_input": "2022-07-27T16:13:45.009686Z",
     "iopub.status.busy": "2022-07-27T16:13:45.008904Z",
     "iopub.status.idle": "2022-07-27T16:13:45.047183Z",
     "shell.execute_reply": "2022-07-27T16:13:45.045946Z"
    },
    "papermill": {
     "duration": 0.05936,
     "end_time": "2022-07-27T16:13:45.050057",
     "exception": false,
     "start_time": "2022-07-27T16:13:44.990697",
     "status": "completed"
    },
    "tags": []
   },
   "outputs": [
    {
     "name": "stdout",
     "output_type": "stream",
     "text": [
      "train data: Rows=891, Columns=12\n",
      "test data : Rows=418, Columns=11\n"
     ]
    }
   ],
   "source": [
    "train, test, sample_submission = read_data(Config.path)"
   ]
  },
  {
   "cell_type": "code",
   "execution_count": 15,
   "id": "1f202951",
   "metadata": {
    "execution": {
     "iopub.execute_input": "2022-07-27T16:13:45.086148Z",
     "iopub.status.busy": "2022-07-27T16:13:45.085426Z",
     "iopub.status.idle": "2022-07-27T16:13:45.109220Z",
     "shell.execute_reply": "2022-07-27T16:13:45.108215Z"
    },
    "papermill": {
     "duration": 0.04409,
     "end_time": "2022-07-27T16:13:45.111376",
     "exception": false,
     "start_time": "2022-07-27T16:13:45.067286",
     "status": "completed"
    },
    "tags": []
   },
   "outputs": [
    {
     "data": {
      "text/html": [
       "<div>\n",
       "<style scoped>\n",
       "    .dataframe tbody tr th:only-of-type {\n",
       "        vertical-align: middle;\n",
       "    }\n",
       "\n",
       "    .dataframe tbody tr th {\n",
       "        vertical-align: top;\n",
       "    }\n",
       "\n",
       "    .dataframe thead th {\n",
       "        text-align: right;\n",
       "    }\n",
       "</style>\n",
       "<table border=\"1\" class=\"dataframe\">\n",
       "  <thead>\n",
       "    <tr style=\"text-align: right;\">\n",
       "      <th></th>\n",
       "      <th>PassengerId</th>\n",
       "      <th>Survived</th>\n",
       "      <th>Pclass</th>\n",
       "      <th>Name</th>\n",
       "      <th>Sex</th>\n",
       "      <th>Age</th>\n",
       "      <th>SibSp</th>\n",
       "      <th>Parch</th>\n",
       "      <th>Ticket</th>\n",
       "      <th>Fare</th>\n",
       "      <th>Cabin</th>\n",
       "      <th>Embarked</th>\n",
       "    </tr>\n",
       "  </thead>\n",
       "  <tbody>\n",
       "    <tr>\n",
       "      <th>0</th>\n",
       "      <td>1</td>\n",
       "      <td>0</td>\n",
       "      <td>3</td>\n",
       "      <td>Braund, Mr. Owen Harris</td>\n",
       "      <td>male</td>\n",
       "      <td>22.0</td>\n",
       "      <td>1</td>\n",
       "      <td>0</td>\n",
       "      <td>A/5 21171</td>\n",
       "      <td>7.2500</td>\n",
       "      <td>NaN</td>\n",
       "      <td>S</td>\n",
       "    </tr>\n",
       "    <tr>\n",
       "      <th>1</th>\n",
       "      <td>2</td>\n",
       "      <td>1</td>\n",
       "      <td>1</td>\n",
       "      <td>Cumings, Mrs. John Bradley (Florence Briggs Th...</td>\n",
       "      <td>female</td>\n",
       "      <td>38.0</td>\n",
       "      <td>1</td>\n",
       "      <td>0</td>\n",
       "      <td>PC 17599</td>\n",
       "      <td>71.2833</td>\n",
       "      <td>C85</td>\n",
       "      <td>C</td>\n",
       "    </tr>\n",
       "    <tr>\n",
       "      <th>2</th>\n",
       "      <td>3</td>\n",
       "      <td>1</td>\n",
       "      <td>3</td>\n",
       "      <td>Heikkinen, Miss. Laina</td>\n",
       "      <td>female</td>\n",
       "      <td>26.0</td>\n",
       "      <td>0</td>\n",
       "      <td>0</td>\n",
       "      <td>STON/O2. 3101282</td>\n",
       "      <td>7.9250</td>\n",
       "      <td>NaN</td>\n",
       "      <td>S</td>\n",
       "    </tr>\n",
       "    <tr>\n",
       "      <th>3</th>\n",
       "      <td>4</td>\n",
       "      <td>1</td>\n",
       "      <td>1</td>\n",
       "      <td>Futrelle, Mrs. Jacques Heath (Lily May Peel)</td>\n",
       "      <td>female</td>\n",
       "      <td>35.0</td>\n",
       "      <td>1</td>\n",
       "      <td>0</td>\n",
       "      <td>113803</td>\n",
       "      <td>53.1000</td>\n",
       "      <td>C123</td>\n",
       "      <td>S</td>\n",
       "    </tr>\n",
       "    <tr>\n",
       "      <th>4</th>\n",
       "      <td>5</td>\n",
       "      <td>0</td>\n",
       "      <td>3</td>\n",
       "      <td>Allen, Mr. William Henry</td>\n",
       "      <td>male</td>\n",
       "      <td>35.0</td>\n",
       "      <td>0</td>\n",
       "      <td>0</td>\n",
       "      <td>373450</td>\n",
       "      <td>8.0500</td>\n",
       "      <td>NaN</td>\n",
       "      <td>S</td>\n",
       "    </tr>\n",
       "  </tbody>\n",
       "</table>\n",
       "</div>"
      ],
      "text/plain": [
       "   PassengerId  Survived  Pclass  \\\n",
       "0            1         0       3   \n",
       "1            2         1       1   \n",
       "2            3         1       3   \n",
       "3            4         1       1   \n",
       "4            5         0       3   \n",
       "\n",
       "                                                Name     Sex   Age  SibSp  \\\n",
       "0                            Braund, Mr. Owen Harris    male  22.0      1   \n",
       "1  Cumings, Mrs. John Bradley (Florence Briggs Th...  female  38.0      1   \n",
       "2                             Heikkinen, Miss. Laina  female  26.0      0   \n",
       "3       Futrelle, Mrs. Jacques Heath (Lily May Peel)  female  35.0      1   \n",
       "4                           Allen, Mr. William Henry    male  35.0      0   \n",
       "\n",
       "   Parch            Ticket     Fare Cabin Embarked  \n",
       "0      0         A/5 21171   7.2500   NaN        S  \n",
       "1      0          PC 17599  71.2833   C85        C  \n",
       "2      0  STON/O2. 3101282   7.9250   NaN        S  \n",
       "3      0            113803  53.1000  C123        S  \n",
       "4      0            373450   8.0500   NaN        S  "
      ]
     },
     "execution_count": 15,
     "metadata": {},
     "output_type": "execute_result"
    }
   ],
   "source": [
    "train.head()"
   ]
  },
  {
   "cell_type": "code",
   "execution_count": 16,
   "id": "90a6ea08",
   "metadata": {
    "execution": {
     "iopub.execute_input": "2022-07-27T16:13:45.148038Z",
     "iopub.status.busy": "2022-07-27T16:13:45.146662Z",
     "iopub.status.idle": "2022-07-27T16:13:45.155430Z",
     "shell.execute_reply": "2022-07-27T16:13:45.154171Z"
    },
    "papermill": {
     "duration": 0.029489,
     "end_time": "2022-07-27T16:13:45.157608",
     "exception": false,
     "start_time": "2022-07-27T16:13:45.128119",
     "status": "completed"
    },
    "tags": []
   },
   "outputs": [
    {
     "data": {
      "text/plain": [
       "Index(['PassengerId', 'Survived', 'Pclass', 'Name', 'Sex', 'Age', 'SibSp',\n",
       "       'Parch', 'Ticket', 'Fare', 'Cabin', 'Embarked'],\n",
       "      dtype='object')"
      ]
     },
     "execution_count": 16,
     "metadata": {},
     "output_type": "execute_result"
    }
   ],
   "source": [
    "train.columns"
   ]
  },
  {
   "cell_type": "code",
   "execution_count": 17,
   "id": "d638212f",
   "metadata": {
    "execution": {
     "iopub.execute_input": "2022-07-27T16:13:45.193287Z",
     "iopub.status.busy": "2022-07-27T16:13:45.192350Z",
     "iopub.status.idle": "2022-07-27T16:13:45.208191Z",
     "shell.execute_reply": "2022-07-27T16:13:45.206964Z"
    },
    "papermill": {
     "duration": 0.036221,
     "end_time": "2022-07-27T16:13:45.210588",
     "exception": false,
     "start_time": "2022-07-27T16:13:45.174367",
     "status": "completed"
    },
    "tags": []
   },
   "outputs": [],
   "source": [
    "train = train.drop(columns=[\"Name\", \"Ticket\", \"Cabin\"], axis=1).copy()\n",
    "# test = test.drop(columns=[\"PassengerId\"], axis=1).copy()"
   ]
  },
  {
   "cell_type": "markdown",
   "id": "9e93b810",
   "metadata": {
    "papermill": {
     "duration": 0.016426,
     "end_time": "2022-07-27T16:13:45.243854",
     "exception": false,
     "start_time": "2022-07-27T16:13:45.227428",
     "status": "completed"
    },
    "tags": []
   },
   "source": [
    "## Categorical/Numerical Variables"
   ]
  },
  {
   "cell_type": "code",
   "execution_count": 18,
   "id": "21b506eb",
   "metadata": {
    "execution": {
     "iopub.execute_input": "2022-07-27T16:13:45.279097Z",
     "iopub.status.busy": "2022-07-27T16:13:45.278636Z",
     "iopub.status.idle": "2022-07-27T16:13:45.299475Z",
     "shell.execute_reply": "2022-07-27T16:13:45.298148Z"
    },
    "papermill": {
     "duration": 0.041334,
     "end_time": "2022-07-27T16:13:45.302089",
     "exception": false,
     "start_time": "2022-07-27T16:13:45.260755",
     "status": "completed"
    },
    "tags": []
   },
   "outputs": [
    {
     "data": {
      "text/plain": [
       "['Sex', 'Embarked', 'Pclass', 'Age', 'SibSp', 'Parch', 'Fare']"
      ]
     },
     "execution_count": 18,
     "metadata": {},
     "output_type": "execute_result"
    }
   ],
   "source": [
    "## Separate Categorical and Numerical Features\n",
    "cat_features = list(train.select_dtypes(include=[\"category\", \"object\"]).columns)\n",
    "num_features = list(test.select_dtypes(include=[\"number\"]).columns)\n",
    "num_features.remove(\"PassengerId\")\n",
    "\n",
    "FEATURES = cat_features + num_features\n",
    "FEATURES"
   ]
  },
  {
   "cell_type": "code",
   "execution_count": 19,
   "id": "092c89c3",
   "metadata": {
    "execution": {
     "iopub.execute_input": "2022-07-27T16:13:45.337160Z",
     "iopub.status.busy": "2022-07-27T16:13:45.336737Z",
     "iopub.status.idle": "2022-07-27T16:13:45.369578Z",
     "shell.execute_reply": "2022-07-27T16:13:45.368515Z"
    },
    "papermill": {
     "duration": 0.053047,
     "end_time": "2022-07-27T16:13:45.371951",
     "exception": false,
     "start_time": "2022-07-27T16:13:45.318904",
     "status": "completed"
    },
    "tags": []
   },
   "outputs": [],
   "source": [
    "from sklearn.impute import SimpleImputer\n",
    "\n",
    "# Categorical\n",
    "imputer = SimpleImputer(strategy=\"most_frequent\")\n",
    "\n",
    "train[cat_features] = imputer.fit_transform(train[cat_features])\n",
    "test[cat_features] = imputer.transform(test[cat_features])\n",
    "\n",
    "# Numerical\n",
    "\n",
    "# imputer = SimpleImputer(strategy=\"mean\")\n",
    "imputer = SimpleImputer(strategy=\"median\")  # median is more robust to outliers\n",
    "\n",
    "train[num_features] = imputer.fit_transform(train[num_features])\n",
    "test[num_features] = imputer.transform(test[num_features])"
   ]
  },
  {
   "cell_type": "markdown",
   "id": "33c10edf",
   "metadata": {
    "papermill": {
     "duration": 0.01647,
     "end_time": "2022-07-27T16:13:45.405240",
     "exception": false,
     "start_time": "2022-07-27T16:13:45.388770",
     "status": "completed"
    },
    "tags": []
   },
   "source": [
    "<div style=\"background-color:rgba(255, 215, 0, 0.6);border-radius:5px;display:fill\"><h1 style=\"text-align: center;padding: 12px 0px 12px 0px;\">Feature Engineering</h1>\n",
    "</div>\n",
    "\n",
    "- [Titanic - Advanced Feature Engineering Tutorial](https://www.kaggle.com/gunesevitan/titanic-advanced-feature-engineering-tutorial)\n",
    "- [Titanic Survival Predictions (Beginner)](https://www.kaggle.com/nadintamer/titanic-survival-predictions-beginner)\n",
    "- [Exploring Survival on the Titanic](https://www.kaggle.com/mrisdal/exploring-survival-on-the-titanic)"
   ]
  },
  {
   "cell_type": "code",
   "execution_count": 20,
   "id": "eb4faa1d",
   "metadata": {
    "execution": {
     "iopub.execute_input": "2022-07-27T16:13:45.441014Z",
     "iopub.status.busy": "2022-07-27T16:13:45.440555Z",
     "iopub.status.idle": "2022-07-27T16:13:45.445585Z",
     "shell.execute_reply": "2022-07-27T16:13:45.444475Z"
    },
    "papermill": {
     "duration": 0.02552,
     "end_time": "2022-07-27T16:13:45.447745",
     "exception": false,
     "start_time": "2022-07-27T16:13:45.422225",
     "status": "completed"
    },
    "tags": []
   },
   "outputs": [],
   "source": [
    "# FEATURES = [\"Pclass\", \"Sex\", \"Age\", \"SibSp\", \"Parch\", \"Embarked\"]"
   ]
  },
  {
   "cell_type": "code",
   "execution_count": 21,
   "id": "e2f0af57",
   "metadata": {
    "execution": {
     "iopub.execute_input": "2022-07-27T16:13:45.482865Z",
     "iopub.status.busy": "2022-07-27T16:13:45.482421Z",
     "iopub.status.idle": "2022-07-27T16:13:45.502179Z",
     "shell.execute_reply": "2022-07-27T16:13:45.501232Z"
    },
    "papermill": {
     "duration": 0.039912,
     "end_time": "2022-07-27T16:13:45.504571",
     "exception": false,
     "start_time": "2022-07-27T16:13:45.464659",
     "status": "completed"
    },
    "tags": []
   },
   "outputs": [
    {
     "data": {
      "text/html": [
       "<div>\n",
       "<style scoped>\n",
       "    .dataframe tbody tr th:only-of-type {\n",
       "        vertical-align: middle;\n",
       "    }\n",
       "\n",
       "    .dataframe tbody tr th {\n",
       "        vertical-align: top;\n",
       "    }\n",
       "\n",
       "    .dataframe thead th {\n",
       "        text-align: right;\n",
       "    }\n",
       "</style>\n",
       "<table border=\"1\" class=\"dataframe\">\n",
       "  <thead>\n",
       "    <tr style=\"text-align: right;\">\n",
       "      <th></th>\n",
       "      <th>Sex</th>\n",
       "      <th>Embarked</th>\n",
       "      <th>Pclass</th>\n",
       "      <th>Age</th>\n",
       "      <th>SibSp</th>\n",
       "      <th>Parch</th>\n",
       "      <th>Fare</th>\n",
       "    </tr>\n",
       "  </thead>\n",
       "  <tbody>\n",
       "    <tr>\n",
       "      <th>0</th>\n",
       "      <td>male</td>\n",
       "      <td>S</td>\n",
       "      <td>3.0</td>\n",
       "      <td>22.0</td>\n",
       "      <td>1.0</td>\n",
       "      <td>0.0</td>\n",
       "      <td>7.2500</td>\n",
       "    </tr>\n",
       "    <tr>\n",
       "      <th>1</th>\n",
       "      <td>female</td>\n",
       "      <td>C</td>\n",
       "      <td>1.0</td>\n",
       "      <td>38.0</td>\n",
       "      <td>1.0</td>\n",
       "      <td>0.0</td>\n",
       "      <td>71.2833</td>\n",
       "    </tr>\n",
       "    <tr>\n",
       "      <th>2</th>\n",
       "      <td>female</td>\n",
       "      <td>S</td>\n",
       "      <td>3.0</td>\n",
       "      <td>26.0</td>\n",
       "      <td>0.0</td>\n",
       "      <td>0.0</td>\n",
       "      <td>7.9250</td>\n",
       "    </tr>\n",
       "    <tr>\n",
       "      <th>3</th>\n",
       "      <td>female</td>\n",
       "      <td>S</td>\n",
       "      <td>1.0</td>\n",
       "      <td>35.0</td>\n",
       "      <td>1.0</td>\n",
       "      <td>0.0</td>\n",
       "      <td>53.1000</td>\n",
       "    </tr>\n",
       "    <tr>\n",
       "      <th>4</th>\n",
       "      <td>male</td>\n",
       "      <td>S</td>\n",
       "      <td>3.0</td>\n",
       "      <td>35.0</td>\n",
       "      <td>0.0</td>\n",
       "      <td>0.0</td>\n",
       "      <td>8.0500</td>\n",
       "    </tr>\n",
       "  </tbody>\n",
       "</table>\n",
       "</div>"
      ],
      "text/plain": [
       "      Sex Embarked  Pclass   Age  SibSp  Parch     Fare\n",
       "0    male        S     3.0  22.0    1.0    0.0   7.2500\n",
       "1  female        C     1.0  38.0    1.0    0.0  71.2833\n",
       "2  female        S     3.0  26.0    0.0    0.0   7.9250\n",
       "3  female        S     1.0  35.0    1.0    0.0  53.1000\n",
       "4    male        S     3.0  35.0    0.0    0.0   8.0500"
      ]
     },
     "execution_count": 21,
     "metadata": {},
     "output_type": "execute_result"
    }
   ],
   "source": [
    "train[FEATURES].head()"
   ]
  },
  {
   "cell_type": "markdown",
   "id": "86ca6b9d",
   "metadata": {
    "papermill": {
     "duration": 0.016593,
     "end_time": "2022-07-27T16:13:45.539061",
     "exception": false,
     "start_time": "2022-07-27T16:13:45.522468",
     "status": "completed"
    },
    "tags": []
   },
   "source": [
    "# Extract Target and Drop Unused Columns"
   ]
  },
  {
   "cell_type": "code",
   "execution_count": 22,
   "id": "9dbdce62",
   "metadata": {
    "execution": {
     "iopub.execute_input": "2022-07-27T16:13:45.574949Z",
     "iopub.status.busy": "2022-07-27T16:13:45.574219Z",
     "iopub.status.idle": "2022-07-27T16:13:45.580279Z",
     "shell.execute_reply": "2022-07-27T16:13:45.579103Z"
    },
    "papermill": {
     "duration": 0.027244,
     "end_time": "2022-07-27T16:13:45.583089",
     "exception": false,
     "start_time": "2022-07-27T16:13:45.555845",
     "status": "completed"
    },
    "tags": []
   },
   "outputs": [],
   "source": [
    "# y = train[TARGET]\n",
    "\n",
    "# X = train_df.drop(columns=[\"PassengerId\", \"Survived\"], axis=1).copy()\n",
    "# X = train[FEATURES].copy()"
   ]
  },
  {
   "cell_type": "markdown",
   "id": "565b6acd",
   "metadata": {
    "papermill": {
     "duration": 0.017036,
     "end_time": "2022-07-27T16:13:45.617256",
     "exception": false,
     "start_time": "2022-07-27T16:13:45.600220",
     "status": "completed"
    },
    "tags": []
   },
   "source": [
    "<div style=\"background-color:rgba(255, 215, 0, 0.6);border-radius:5px;display:fill\"><h1 style=\"text-align: center;padding: 12px 0px 12px 0px;\">Missing Values</h1>\n",
    "</div>\n",
    "\n",
    "We have 891 rows of training data. Age is the only feature, that we are using, with missing data.\n",
    "\n",
    "Note, handling missing data is an entire subject that should be studied in detail.  Kaggle offers a [course](https://www.kaggle.com/learn/data-cleaning)\n",
    "\n",
    "- [sklearn.impute.SimpleImputer](https://scikit-learn.org/stable/modules/impute.html)\n",
    "- https://scikit-learn.org/stable/modules/impute.html\n",
    "\n",
    "- [A Guide to Handling Missing values in Python](https://www.kaggle.com/parulpandey/a-guide-to-handling-missing-values-in-python)"
   ]
  },
  {
   "cell_type": "code",
   "execution_count": 23,
   "id": "57596f94",
   "metadata": {
    "execution": {
     "iopub.execute_input": "2022-07-27T16:13:45.654552Z",
     "iopub.status.busy": "2022-07-27T16:13:45.653368Z",
     "iopub.status.idle": "2022-07-27T16:13:45.663450Z",
     "shell.execute_reply": "2022-07-27T16:13:45.662247Z"
    },
    "papermill": {
     "duration": 0.03102,
     "end_time": "2022-07-27T16:13:45.665705",
     "exception": false,
     "start_time": "2022-07-27T16:13:45.634685",
     "status": "completed"
    },
    "tags": []
   },
   "outputs": [
    {
     "name": "stdout",
     "output_type": "stream",
     "text": [
      "Series([], dtype: int64)\n"
     ]
    }
   ],
   "source": [
    "show_missing_features(train)"
   ]
  },
  {
   "cell_type": "code",
   "execution_count": 24,
   "id": "fb689aaa",
   "metadata": {
    "execution": {
     "iopub.execute_input": "2022-07-27T16:13:45.702061Z",
     "iopub.status.busy": "2022-07-27T16:13:45.701005Z",
     "iopub.status.idle": "2022-07-27T16:13:45.710376Z",
     "shell.execute_reply": "2022-07-27T16:13:45.709149Z"
    },
    "papermill": {
     "duration": 0.030078,
     "end_time": "2022-07-27T16:13:45.712833",
     "exception": false,
     "start_time": "2022-07-27T16:13:45.682755",
     "status": "completed"
    },
    "tags": []
   },
   "outputs": [
    {
     "name": "stdout",
     "output_type": "stream",
     "text": [
      "Number missing: 0\n"
     ]
    }
   ],
   "source": [
    "n = train[\"Age\"].isna().sum()\n",
    "print(f\"Number missing: {n}\")"
   ]
  },
  {
   "cell_type": "markdown",
   "id": "80561615",
   "metadata": {
    "papermill": {
     "duration": 0.016608,
     "end_time": "2022-07-27T16:13:45.746530",
     "exception": false,
     "start_time": "2022-07-27T16:13:45.729922",
     "status": "completed"
    },
    "tags": []
   },
   "source": [
    "### Manual Imputation of Age"
   ]
  },
  {
   "cell_type": "code",
   "execution_count": 25,
   "id": "423ba11e",
   "metadata": {
    "execution": {
     "iopub.execute_input": "2022-07-27T16:13:45.783419Z",
     "iopub.status.busy": "2022-07-27T16:13:45.782998Z",
     "iopub.status.idle": "2022-07-27T16:13:45.791749Z",
     "shell.execute_reply": "2022-07-27T16:13:45.790711Z"
    },
    "papermill": {
     "duration": 0.029745,
     "end_time": "2022-07-27T16:13:45.794169",
     "exception": false,
     "start_time": "2022-07-27T16:13:45.764424",
     "status": "completed"
    },
    "tags": []
   },
   "outputs": [
    {
     "name": "stdout",
     "output_type": "stream",
     "text": [
      "Mean age of person on the Titanic: 29.36\n"
     ]
    }
   ],
   "source": [
    "# train_df[\"Age\"].fillna(train_df[\"Age\"].mean(), inplace = True)\n",
    "m = train[\"Age\"].mean()\n",
    "print(f\"Mean age of person on the Titanic: {m:0.2f}\")"
   ]
  },
  {
   "cell_type": "code",
   "execution_count": 26,
   "id": "608e2463",
   "metadata": {
    "execution": {
     "iopub.execute_input": "2022-07-27T16:13:45.830196Z",
     "iopub.status.busy": "2022-07-27T16:13:45.829792Z",
     "iopub.status.idle": "2022-07-27T16:13:45.842805Z",
     "shell.execute_reply": "2022-07-27T16:13:45.841929Z"
    },
    "papermill": {
     "duration": 0.034108,
     "end_time": "2022-07-27T16:13:45.845425",
     "exception": false,
     "start_time": "2022-07-27T16:13:45.811317",
     "status": "completed"
    },
    "tags": []
   },
   "outputs": [],
   "source": [
    "train[\"Age\"].fillna(train[\"Age\"].median(skipna=True), inplace=True)\n",
    "train[\"Embarked\"].fillna(train[\"Embarked\"].value_counts().idxmax(), inplace=True)"
   ]
  },
  {
   "cell_type": "markdown",
   "id": "162fc411",
   "metadata": {
    "papermill": {
     "duration": 0.016637,
     "end_time": "2022-07-27T16:13:45.879978",
     "exception": false,
     "start_time": "2022-07-27T16:13:45.863341",
     "status": "completed"
    },
    "tags": []
   },
   "source": [
    "### Use SimpleImputer Function for Age\n",
    "\n",
    "Leaving the SimpleImputer code uncommented.  It should do nothing since we filled in the values above."
   ]
  },
  {
   "cell_type": "code",
   "execution_count": 27,
   "id": "0f4cc000",
   "metadata": {
    "execution": {
     "iopub.execute_input": "2022-07-27T16:13:45.916551Z",
     "iopub.status.busy": "2022-07-27T16:13:45.915707Z",
     "iopub.status.idle": "2022-07-27T16:13:45.939723Z",
     "shell.execute_reply": "2022-07-27T16:13:45.938540Z"
    },
    "papermill": {
     "duration": 0.045457,
     "end_time": "2022-07-27T16:13:45.942481",
     "exception": false,
     "start_time": "2022-07-27T16:13:45.897024",
     "status": "completed"
    },
    "tags": []
   },
   "outputs": [],
   "source": [
    "impute_mean = SimpleImputer(missing_values=np.nan, strategy=\"mean\", verbose=1)\n",
    "m = impute_mean.fit_transform(train[[\"Age\"]])\n",
    "# mt = impute_mean.transform(test[[\"Age\"]])\n",
    "\n",
    "train[\"Age\"] = impute_mean.fit_transform(train[[\"Age\"]])\n",
    "test[\"Age\"] = impute_mean.transform(test[[\"Age\"]])"
   ]
  },
  {
   "cell_type": "markdown",
   "id": "b3f69b0b",
   "metadata": {
    "papermill": {
     "duration": 0.016639,
     "end_time": "2022-07-27T16:13:45.976134",
     "exception": false,
     "start_time": "2022-07-27T16:13:45.959495",
     "status": "completed"
    },
    "tags": []
   },
   "source": [
    "### At this point we no longer have missing values"
   ]
  },
  {
   "cell_type": "code",
   "execution_count": 28,
   "id": "9d67cf90",
   "metadata": {
    "execution": {
     "iopub.execute_input": "2022-07-27T16:13:46.011798Z",
     "iopub.status.busy": "2022-07-27T16:13:46.011343Z",
     "iopub.status.idle": "2022-07-27T16:13:46.021287Z",
     "shell.execute_reply": "2022-07-27T16:13:46.020421Z"
    },
    "papermill": {
     "duration": 0.030711,
     "end_time": "2022-07-27T16:13:46.023814",
     "exception": false,
     "start_time": "2022-07-27T16:13:45.993103",
     "status": "completed"
    },
    "tags": []
   },
   "outputs": [
    {
     "name": "stdout",
     "output_type": "stream",
     "text": [
      "Series([], dtype: int64)\n"
     ]
    }
   ],
   "source": [
    "show_missing_features(train)"
   ]
  },
  {
   "cell_type": "markdown",
   "id": "bb6d1840",
   "metadata": {
    "papermill": {
     "duration": 0.017369,
     "end_time": "2022-07-27T16:13:46.058426",
     "exception": false,
     "start_time": "2022-07-27T16:13:46.041057",
     "status": "completed"
    },
    "tags": []
   },
   "source": [
    "# Encoding Categorical Features\n",
    "\n",
    "Need to convert categorical features into numerical features.\n",
    "\n",
    "Several ways:\n",
    "- One-hot Encode\n",
    "- Label Encode"
   ]
  },
  {
   "cell_type": "markdown",
   "id": "c399cea0",
   "metadata": {
    "papermill": {
     "duration": 0.016747,
     "end_time": "2022-07-27T16:13:46.092604",
     "exception": false,
     "start_time": "2022-07-27T16:13:46.075857",
     "status": "completed"
    },
    "tags": []
   },
   "source": [
    "### Encode `Embarked`\n",
    "\n",
    "First compare what the **drop_first=True** option does.  Some machine learning models require this option while others do not.  Logitistic regression requires us to drop the value."
   ]
  },
  {
   "cell_type": "code",
   "execution_count": 29,
   "id": "bd00badd",
   "metadata": {
    "execution": {
     "iopub.execute_input": "2022-07-27T16:13:46.129116Z",
     "iopub.status.busy": "2022-07-27T16:13:46.128702Z",
     "iopub.status.idle": "2022-07-27T16:13:46.151570Z",
     "shell.execute_reply": "2022-07-27T16:13:46.150579Z"
    },
    "papermill": {
     "duration": 0.04364,
     "end_time": "2022-07-27T16:13:46.153781",
     "exception": false,
     "start_time": "2022-07-27T16:13:46.110141",
     "status": "completed"
    },
    "tags": []
   },
   "outputs": [
    {
     "data": {
      "text/html": [
       "<div>\n",
       "<style scoped>\n",
       "    .dataframe tbody tr th:only-of-type {\n",
       "        vertical-align: middle;\n",
       "    }\n",
       "\n",
       "    .dataframe tbody tr th {\n",
       "        vertical-align: top;\n",
       "    }\n",
       "\n",
       "    .dataframe thead th {\n",
       "        text-align: right;\n",
       "    }\n",
       "</style>\n",
       "<table border=\"1\" class=\"dataframe\">\n",
       "  <thead>\n",
       "    <tr style=\"text-align: right;\">\n",
       "      <th></th>\n",
       "      <th>PassengerId</th>\n",
       "      <th>Survived</th>\n",
       "      <th>Pclass</th>\n",
       "      <th>Sex</th>\n",
       "      <th>Age</th>\n",
       "      <th>SibSp</th>\n",
       "      <th>Parch</th>\n",
       "      <th>Fare</th>\n",
       "      <th>Embarked</th>\n",
       "    </tr>\n",
       "  </thead>\n",
       "  <tbody>\n",
       "    <tr>\n",
       "      <th>0</th>\n",
       "      <td>1</td>\n",
       "      <td>0</td>\n",
       "      <td>3.0</td>\n",
       "      <td>1</td>\n",
       "      <td>22.0</td>\n",
       "      <td>1.0</td>\n",
       "      <td>0.0</td>\n",
       "      <td>7.2500</td>\n",
       "      <td>2</td>\n",
       "    </tr>\n",
       "    <tr>\n",
       "      <th>1</th>\n",
       "      <td>2</td>\n",
       "      <td>1</td>\n",
       "      <td>1.0</td>\n",
       "      <td>0</td>\n",
       "      <td>38.0</td>\n",
       "      <td>1.0</td>\n",
       "      <td>0.0</td>\n",
       "      <td>71.2833</td>\n",
       "      <td>0</td>\n",
       "    </tr>\n",
       "    <tr>\n",
       "      <th>2</th>\n",
       "      <td>3</td>\n",
       "      <td>1</td>\n",
       "      <td>3.0</td>\n",
       "      <td>0</td>\n",
       "      <td>26.0</td>\n",
       "      <td>0.0</td>\n",
       "      <td>0.0</td>\n",
       "      <td>7.9250</td>\n",
       "      <td>2</td>\n",
       "    </tr>\n",
       "    <tr>\n",
       "      <th>3</th>\n",
       "      <td>4</td>\n",
       "      <td>1</td>\n",
       "      <td>1.0</td>\n",
       "      <td>0</td>\n",
       "      <td>35.0</td>\n",
       "      <td>1.0</td>\n",
       "      <td>0.0</td>\n",
       "      <td>53.1000</td>\n",
       "      <td>2</td>\n",
       "    </tr>\n",
       "    <tr>\n",
       "      <th>4</th>\n",
       "      <td>5</td>\n",
       "      <td>0</td>\n",
       "      <td>3.0</td>\n",
       "      <td>1</td>\n",
       "      <td>35.0</td>\n",
       "      <td>0.0</td>\n",
       "      <td>0.0</td>\n",
       "      <td>8.0500</td>\n",
       "      <td>2</td>\n",
       "    </tr>\n",
       "  </tbody>\n",
       "</table>\n",
       "</div>"
      ],
      "text/plain": [
       "   PassengerId  Survived  Pclass  Sex   Age  SibSp  Parch     Fare  Embarked\n",
       "0            1         0     3.0    1  22.0    1.0    0.0   7.2500         2\n",
       "1            2         1     1.0    0  38.0    1.0    0.0  71.2833         0\n",
       "2            3         1     3.0    0  26.0    0.0    0.0   7.9250         2\n",
       "3            4         1     1.0    0  35.0    1.0    0.0  53.1000         2\n",
       "4            5         0     3.0    1  35.0    0.0    0.0   8.0500         2"
      ]
     },
     "execution_count": 29,
     "metadata": {},
     "output_type": "execute_result"
    }
   ],
   "source": [
    "train, test = label_encoder(train, test, [\"Embarked\", \"Sex\"])\n",
    "# X_test = pd.get_dummies(test[FEATURES], drop_first=True)\n",
    "\n",
    "train.head()"
   ]
  },
  {
   "cell_type": "markdown",
   "id": "c52263ce",
   "metadata": {
    "papermill": {
     "duration": 0.017404,
     "end_time": "2022-07-27T16:13:46.188625",
     "exception": false,
     "start_time": "2022-07-27T16:13:46.171221",
     "status": "completed"
    },
    "tags": []
   },
   "source": [
    "- [sklearn.linear_model.LogisticRegression](https://scikit-learn.org/stable/modules/generated/sklearn.linear_model.LogisticRegression.html)"
   ]
  },
  {
   "cell_type": "code",
   "execution_count": 30,
   "id": "c8c6c3ba",
   "metadata": {
    "execution": {
     "iopub.execute_input": "2022-07-27T16:13:46.226140Z",
     "iopub.status.busy": "2022-07-27T16:13:46.225368Z",
     "iopub.status.idle": "2022-07-27T16:13:46.230855Z",
     "shell.execute_reply": "2022-07-27T16:13:46.229789Z"
    },
    "papermill": {
     "duration": 0.026994,
     "end_time": "2022-07-27T16:13:46.233302",
     "exception": false,
     "start_time": "2022-07-27T16:13:46.206308",
     "status": "completed"
    },
    "tags": []
   },
   "outputs": [],
   "source": [
    "# y = train[TARGET]\n",
    "# X = train[FEATURES].copy()\n",
    "\n",
    "# X_test = test[FEATURES].copy()"
   ]
  },
  {
   "cell_type": "code",
   "execution_count": 31,
   "id": "6b3224ec",
   "metadata": {
    "execution": {
     "iopub.execute_input": "2022-07-27T16:13:46.270742Z",
     "iopub.status.busy": "2022-07-27T16:13:46.270331Z",
     "iopub.status.idle": "2022-07-27T16:13:46.286342Z",
     "shell.execute_reply": "2022-07-27T16:13:46.284532Z"
    },
    "papermill": {
     "duration": 0.037619,
     "end_time": "2022-07-27T16:13:46.288981",
     "exception": false,
     "start_time": "2022-07-27T16:13:46.251362",
     "status": "completed"
    },
    "tags": []
   },
   "outputs": [
    {
     "name": "stdout",
     "output_type": "stream",
     "text": [
      "TARGET=Survived, n_folds=5, seed=42\n"
     ]
    }
   ],
   "source": [
    "train = create_folds(train, TARGET, Config.N_FOLDS)"
   ]
  },
  {
   "cell_type": "code",
   "execution_count": 32,
   "id": "38aa483f",
   "metadata": {
    "execution": {
     "iopub.execute_input": "2022-07-27T16:13:46.338794Z",
     "iopub.status.busy": "2022-07-27T16:13:46.338353Z",
     "iopub.status.idle": "2022-07-27T16:13:46.360505Z",
     "shell.execute_reply": "2022-07-27T16:13:46.359345Z"
    },
    "papermill": {
     "duration": 0.054579,
     "end_time": "2022-07-27T16:13:46.363162",
     "exception": false,
     "start_time": "2022-07-27T16:13:46.308583",
     "status": "completed"
    },
    "tags": []
   },
   "outputs": [
    {
     "data": {
      "text/html": [
       "<div>\n",
       "<style scoped>\n",
       "    .dataframe tbody tr th:only-of-type {\n",
       "        vertical-align: middle;\n",
       "    }\n",
       "\n",
       "    .dataframe tbody tr th {\n",
       "        vertical-align: top;\n",
       "    }\n",
       "\n",
       "    .dataframe thead th {\n",
       "        text-align: right;\n",
       "    }\n",
       "</style>\n",
       "<table border=\"1\" class=\"dataframe\">\n",
       "  <thead>\n",
       "    <tr style=\"text-align: right;\">\n",
       "      <th></th>\n",
       "      <th>PassengerId</th>\n",
       "      <th>Survived</th>\n",
       "      <th>fold</th>\n",
       "    </tr>\n",
       "  </thead>\n",
       "  <tbody>\n",
       "    <tr>\n",
       "      <th>0</th>\n",
       "      <td>1</td>\n",
       "      <td>0</td>\n",
       "      <td>1</td>\n",
       "    </tr>\n",
       "    <tr>\n",
       "      <th>1</th>\n",
       "      <td>2</td>\n",
       "      <td>1</td>\n",
       "      <td>4</td>\n",
       "    </tr>\n",
       "    <tr>\n",
       "      <th>2</th>\n",
       "      <td>3</td>\n",
       "      <td>1</td>\n",
       "      <td>3</td>\n",
       "    </tr>\n",
       "    <tr>\n",
       "      <th>3</th>\n",
       "      <td>4</td>\n",
       "      <td>1</td>\n",
       "      <td>3</td>\n",
       "    </tr>\n",
       "    <tr>\n",
       "      <th>4</th>\n",
       "      <td>5</td>\n",
       "      <td>0</td>\n",
       "      <td>0</td>\n",
       "    </tr>\n",
       "  </tbody>\n",
       "</table>\n",
       "</div>"
      ],
      "text/plain": [
       "   PassengerId  Survived  fold\n",
       "0            1         0     1\n",
       "1            2         1     4\n",
       "2            3         1     3\n",
       "3            4         1     3\n",
       "4            5         0     0"
      ]
     },
     "execution_count": 32,
     "metadata": {},
     "output_type": "execute_result"
    }
   ],
   "source": [
    "submission_df = test[[\"PassengerId\"]].copy()\n",
    "oof = train[[\"PassengerId\", TARGET, \"fold\"]].reset_index(drop=True).copy()\n",
    "oof.head()"
   ]
  },
  {
   "cell_type": "markdown",
   "id": "2b35a45a",
   "metadata": {
    "execution": {
     "iopub.execute_input": "2022-01-20T17:32:12.023204Z",
     "iopub.status.busy": "2022-01-20T17:32:12.022346Z",
     "iopub.status.idle": "2022-01-20T17:32:12.027226Z",
     "shell.execute_reply": "2022-01-20T17:32:12.026176Z",
     "shell.execute_reply.started": "2022-01-20T17:32:12.023164Z"
    },
    "papermill": {
     "duration": 0.018425,
     "end_time": "2022-07-27T16:13:46.399715",
     "exception": false,
     "start_time": "2022-07-27T16:13:46.381290",
     "status": "completed"
    },
    "tags": []
   },
   "source": [
    "## Train Model"
   ]
  },
  {
   "cell_type": "markdown",
   "id": "4ff365d6",
   "metadata": {
    "papermill": {
     "duration": 0.018712,
     "end_time": "2022-07-27T16:13:46.437136",
     "exception": false,
     "start_time": "2022-07-27T16:13:46.418424",
     "status": "completed"
    },
    "tags": []
   },
   "source": [
    "<div style=\"background-color:rgba(255, 215, 0, 0.6);border-radius:5px;display:fill\"><h1 style=\"text-align: center;padding: 12px 0px 12px 0px;\">Train Model with Cross Validation</h1>\n",
    "</div>\n",
    "\n",
    "Four out five folds will be used for training. The fifth will be used for validation\n",
    "\n",
    "Each fold will have a turn at being the validation fold\n",
    "\n",
    "After each time through the loop\n"
   ]
  },
  {
   "cell_type": "code",
   "execution_count": null,
   "id": "df5df3b8",
   "metadata": {
    "papermill": {
     "duration": 0.020762,
     "end_time": "2022-07-27T16:13:46.476863",
     "exception": false,
     "start_time": "2022-07-27T16:13:46.456101",
     "status": "completed"
    },
    "tags": []
   },
   "outputs": [],
   "source": []
  },
  {
   "cell_type": "code",
   "execution_count": 33,
   "id": "f0ed2ade",
   "metadata": {
    "execution": {
     "iopub.execute_input": "2022-07-27T16:13:46.515691Z",
     "iopub.status.busy": "2022-07-27T16:13:46.515168Z",
     "iopub.status.idle": "2022-07-27T16:13:46.575607Z",
     "shell.execute_reply": "2022-07-27T16:13:46.574548Z"
    },
    "papermill": {
     "duration": 0.083611,
     "end_time": "2022-07-27T16:13:46.578796",
     "exception": false,
     "start_time": "2022-07-27T16:13:46.495185",
     "status": "completed"
    },
    "tags": []
   },
   "outputs": [],
   "source": [
    "def train_xgb_model(\n",
    "    df,\n",
    "    test,\n",
    "    get_model_fn,\n",
    "    FEATURES,\n",
    "    TARGET,\n",
    "    calc_probability,\n",
    "    rowid,\n",
    "    params,\n",
    "    n_folds=5,\n",
    "    seed=42,\n",
    "):\n",
    "\n",
    "    final_test_predictions = []\n",
    "    final_valid_predictions = {}\n",
    "    fold_scores = []  # Scores of Validation Set\n",
    "    feature_importance_lst = []\n",
    "\n",
    "    test = test[FEATURES].copy()\n",
    "\n",
    "    # oof_preds = np.zeros((df.shape[0],)) # Zero array\n",
    "    # print(f\"oof_preds size={df.shape[0]}\")\n",
    "    #     print(\n",
    "    #         f\"\\n===== XGBoost Estimators: {params['n_estimators']}, Random State: {seed} =====\"\n",
    "    #     )\n",
    "\n",
    "    for fold in range(n_folds):\n",
    "        print(10 * \"=\", f\"Fold {fold+1}/{n_folds}\", 10 * \"=\")\n",
    "\n",
    "        start_time = time.time()\n",
    "\n",
    "        xtrain = df[df.fold != fold].reset_index(\n",
    "            drop=True\n",
    "        )  # Everything not in validation fold\n",
    "        xvalid = df[df.fold == fold].reset_index(drop=True)\n",
    "        xtest = test.copy()\n",
    "\n",
    "        valid_ids = (\n",
    "            xvalid.PassengerId.values.tolist()\n",
    "        )  # Id's of everything in validation fold\n",
    "\n",
    "        ytrain = xtrain[TARGET]\n",
    "        yvalid = xvalid[TARGET]\n",
    "\n",
    "        xtrain = xtrain[FEATURES]\n",
    "        xvalid = xvalid[FEATURES]\n",
    "        xtrain.head()\n",
    "\n",
    "        model = get_model_fn()\n",
    "\n",
    "        model.fit(\n",
    "            xtrain,\n",
    "            ytrain,\n",
    "            eval_set=[(xvalid, yvalid)],\n",
    "            #              eval_metric = \"auc\",\n",
    "            verbose=False,\n",
    "            early_stopping_rounds=3000,\n",
    "            #             callbacks=[\n",
    "            #                 xgb.log_evaluation(0),\n",
    "            #                 xgb.early_stopping(500, False, True),\n",
    "            #             ],\n",
    "        )\n",
    "\n",
    "        # Mean of the predictions\n",
    "        #         preds_valid = model.predict(xvalid)\n",
    "        #         test_preds = model.predict(xtest)\n",
    "        if calc_probability:\n",
    "            preds_valid = model.predict_proba(xvalid)[:, 1]\n",
    "            test_preds = model.predict_proba(xtest)[:, 1]\n",
    "        else:\n",
    "            preds_valid = model.predict(xvalid)\n",
    "            test_preds = model.predict(xtest)\n",
    "\n",
    "        final_test_predictions.append(test_preds)\n",
    "        final_valid_predictions.update(dict(zip(valid_ids, preds_valid)))\n",
    "\n",
    "        #         fold_score = accuracy_score(yvalid, preds_valid)  # Validation Set Score\n",
    "        fold_score = roc_auc_score(yvalid, preds_valid)  # Validation Set Score\n",
    "\n",
    "        fold_scores.append(fold_score)\n",
    "\n",
    "        # Feature importance\n",
    "        fi = pd.DataFrame(\n",
    "            index=FEATURES,\n",
    "            data=model.feature_importances_,\n",
    "            columns=[f\"{fold}_importance\"],\n",
    "        )\n",
    "        feature_importance_lst.append(fi)\n",
    "\n",
    "        run_time = time.time() - start_time\n",
    "\n",
    "        print(f\"fold: {fold+1}, AUC: {fold_score}, Run Time: {run_time:.2f}\")\n",
    "\n",
    "    return (\n",
    "        model,\n",
    "        feature_importance_lst,\n",
    "        fold_scores,\n",
    "        final_valid_predictions,\n",
    "        final_test_predictions,\n",
    "    )"
   ]
  },
  {
   "cell_type": "code",
   "execution_count": 34,
   "id": "8fc4c150",
   "metadata": {
    "execution": {
     "iopub.execute_input": "2022-07-27T16:13:46.625701Z",
     "iopub.status.busy": "2022-07-27T16:13:46.624962Z",
     "iopub.status.idle": "2022-07-27T16:13:46.639628Z",
     "shell.execute_reply": "2022-07-27T16:13:46.638184Z"
    },
    "papermill": {
     "duration": 0.040558,
     "end_time": "2022-07-27T16:13:46.642160",
     "exception": false,
     "start_time": "2022-07-27T16:13:46.601602",
     "status": "completed"
    },
    "tags": []
   },
   "outputs": [],
   "source": [
    "xgb_params = {\n",
    "    \"enable_categorical\": True,\n",
    "    \"n_estimators\": 1000,\n",
    "    \"learning_rate\": 0.021138659045230178,\n",
    "    \"subsample\": 0.4,\n",
    "    \"colsample_bytree\": 0.91,\n",
    "    \"max_depth\": 17,\n",
    "    \"gamma\": 0.6000000000000001,\n",
    "    \"booster\": \"gbtree\",\n",
    "    \"tree_method\": \"hist\",\n",
    "    \"reg_lambda\": 0.005882742898970815,\n",
    "    \"reg_alpha\": 0.0014501578157205654,\n",
    "    \"random_state\": 42,\n",
    "    \"n_jobs\": 4,\n",
    "    \"min_child_weight\": 5.567082153821453,\n",
    "}"
   ]
  },
  {
   "cell_type": "code",
   "execution_count": 35,
   "id": "59962da7",
   "metadata": {
    "execution": {
     "iopub.execute_input": "2022-07-27T16:13:46.688904Z",
     "iopub.status.busy": "2022-07-27T16:13:46.687628Z",
     "iopub.status.idle": "2022-07-27T16:13:46.697632Z",
     "shell.execute_reply": "2022-07-27T16:13:46.696532Z"
    },
    "papermill": {
     "duration": 0.035521,
     "end_time": "2022-07-27T16:13:46.699900",
     "exception": false,
     "start_time": "2022-07-27T16:13:46.664379",
     "status": "completed"
    },
    "tags": []
   },
   "outputs": [],
   "source": [
    "def get_xgb_clf_model():\n",
    "    #     model = xgb.XGBClassifier(n_estimators=1000)\n",
    "    model = xgb.XGBClassifier(**xgb_params)\n",
    "    return model"
   ]
  },
  {
   "cell_type": "code",
   "execution_count": 36,
   "id": "f04173bd",
   "metadata": {
    "execution": {
     "iopub.execute_input": "2022-07-27T16:13:46.738731Z",
     "iopub.status.busy": "2022-07-27T16:13:46.737837Z",
     "iopub.status.idle": "2022-07-27T16:13:46.757778Z",
     "shell.execute_reply": "2022-07-27T16:13:46.756842Z"
    },
    "papermill": {
     "duration": 0.042093,
     "end_time": "2022-07-27T16:13:46.760265",
     "exception": false,
     "start_time": "2022-07-27T16:13:46.718172",
     "status": "completed"
    },
    "tags": []
   },
   "outputs": [],
   "source": [
    "# https://lightgbm.readthedocs.io/en/latest/Parameters.html\n",
    "\n",
    "lgbm_params = {\n",
    "    \"n_estimators\": Config.N_ESTIMATORS,\n",
    "    #     \"device_type\": \"gpu\",\n",
    "    #     \"objective\": \"multiclass\",\n",
    "    #     \"metric\": \"multi_logloss\",\n",
    "    \"objective\": \"binary\",\n",
    "    \"metric\": \"auc\",\n",
    "    \"lambda_l1\": 0.009130931198077825,\n",
    "    \"lambda_l2\": 3.530680683338868e-05,\n",
    "    #     \"reg_alpha\": 0.009130931198077825,\n",
    "    #     \"reg_lambda\": 3.530680683338868e-05,\n",
    "    \"num_leaves\": 430,\n",
    "    \"importance_type\": \"split\",\n",
    "    #     \"learning_rate\": 0.029330486500731102,\n",
    "    \"learning_rate\": 0.1,\n",
    "    \"feature_fraction\": 0.8757445736567416,\n",
    "    \"bagging_fraction\": 0.9989307214277753,\n",
    "    \"bagging_freq\": 10,\n",
    "    \"min_child_samples\": 20,\n",
    "    \"random_state\": 42,\n",
    "    \"n_jobs\": -1,\n",
    "}\n",
    "if Config.gpu:\n",
    "    lgbm_params[\"device_type\"] = \"gpu\""
   ]
  },
  {
   "cell_type": "code",
   "execution_count": 37,
   "id": "0fcbeba4",
   "metadata": {
    "execution": {
     "iopub.execute_input": "2022-07-27T16:13:46.798557Z",
     "iopub.status.busy": "2022-07-27T16:13:46.798152Z",
     "iopub.status.idle": "2022-07-27T16:13:46.805586Z",
     "shell.execute_reply": "2022-07-27T16:13:46.804445Z"
    },
    "papermill": {
     "duration": 0.029716,
     "end_time": "2022-07-27T16:13:46.807921",
     "exception": false,
     "start_time": "2022-07-27T16:13:46.778205",
     "status": "completed"
    },
    "tags": []
   },
   "outputs": [],
   "source": [
    "def get_lgbm_clf_model():\n",
    "    model = lgb.LGBMClassifier(**lgbm_params)\n",
    "    return model"
   ]
  },
  {
   "cell_type": "code",
   "execution_count": 38,
   "id": "614e4b48",
   "metadata": {
    "execution": {
     "iopub.execute_input": "2022-07-27T16:13:46.845365Z",
     "iopub.status.busy": "2022-07-27T16:13:46.844414Z",
     "iopub.status.idle": "2022-07-27T16:14:07.244326Z",
     "shell.execute_reply": "2022-07-27T16:14:07.243115Z"
    },
    "papermill": {
     "duration": 20.421718,
     "end_time": "2022-07-27T16:14:07.247261",
     "exception": false,
     "start_time": "2022-07-27T16:13:46.825543",
     "status": "completed"
    },
    "tags": []
   },
   "outputs": [
    {
     "name": "stdout",
     "output_type": "stream",
     "text": [
      "========== Fold 1/5 ==========\n"
     ]
    },
    {
     "name": "stderr",
     "output_type": "stream",
     "text": [
      "/opt/conda/lib/python3.7/site-packages/xgboost/sklearn.py:797: UserWarning: `early_stopping_rounds` in `fit` method is deprecated for better compatibility with scikit-learn, use `early_stopping_rounds` in constructor or`set_params` instead.\n",
      "  UserWarning,\n"
     ]
    },
    {
     "name": "stdout",
     "output_type": "stream",
     "text": [
      "fold: 1, AUC: 0.918642951251647, Run Time: 4.52\n",
      "========== Fold 2/5 ==========\n"
     ]
    },
    {
     "name": "stderr",
     "output_type": "stream",
     "text": [
      "/opt/conda/lib/python3.7/site-packages/xgboost/sklearn.py:797: UserWarning: `early_stopping_rounds` in `fit` method is deprecated for better compatibility with scikit-learn, use `early_stopping_rounds` in constructor or`set_params` instead.\n",
      "  UserWarning,\n"
     ]
    },
    {
     "name": "stdout",
     "output_type": "stream",
     "text": [
      "fold: 2, AUC: 0.8922459893048129, Run Time: 4.03\n",
      "========== Fold 3/5 ==========\n"
     ]
    },
    {
     "name": "stderr",
     "output_type": "stream",
     "text": [
      "/opt/conda/lib/python3.7/site-packages/xgboost/sklearn.py:797: UserWarning: `early_stopping_rounds` in `fit` method is deprecated for better compatibility with scikit-learn, use `early_stopping_rounds` in constructor or`set_params` instead.\n",
      "  UserWarning,\n"
     ]
    },
    {
     "name": "stdout",
     "output_type": "stream",
     "text": [
      "fold: 3, AUC: 0.8428475935828879, Run Time: 4.01\n",
      "========== Fold 4/5 ==========\n"
     ]
    },
    {
     "name": "stderr",
     "output_type": "stream",
     "text": [
      "/opt/conda/lib/python3.7/site-packages/xgboost/sklearn.py:797: UserWarning: `early_stopping_rounds` in `fit` method is deprecated for better compatibility with scikit-learn, use `early_stopping_rounds` in constructor or`set_params` instead.\n",
      "  UserWarning,\n"
     ]
    },
    {
     "name": "stdout",
     "output_type": "stream",
     "text": [
      "fold: 4, AUC: 0.8683823529411765, Run Time: 3.95\n",
      "========== Fold 5/5 ==========\n"
     ]
    },
    {
     "name": "stderr",
     "output_type": "stream",
     "text": [
      "/opt/conda/lib/python3.7/site-packages/xgboost/sklearn.py:797: UserWarning: `early_stopping_rounds` in `fit` method is deprecated for better compatibility with scikit-learn, use `early_stopping_rounds` in constructor or`set_params` instead.\n",
      "  UserWarning,\n"
     ]
    },
    {
     "name": "stdout",
     "output_type": "stream",
     "text": [
      "fold: 5, AUC: 0.8798032176572264, Run Time: 3.87\n"
     ]
    }
   ],
   "source": [
    "(\n",
    "    model,\n",
    "    feature_importance_lst,\n",
    "    fold_scores,\n",
    "    final_valid_predictions,\n",
    "    final_test_predictions,\n",
    ") = train_xgb_model(\n",
    "    train,\n",
    "    test,\n",
    "    get_xgb_clf_model,\n",
    "    FEATURES,\n",
    "    TARGET,\n",
    "    Config.calc_probability,\n",
    "    \"PassengerId\",\n",
    "    xgb_params,\n",
    "    Config.N_FOLDS,\n",
    "    Config.seed,\n",
    ")"
   ]
  },
  {
   "cell_type": "markdown",
   "id": "3c4c64d8",
   "metadata": {
    "papermill": {
     "duration": 0.018314,
     "end_time": "2022-07-27T16:14:07.284354",
     "exception": false,
     "start_time": "2022-07-27T16:14:07.266040",
     "status": "completed"
    },
    "tags": []
   },
   "source": [
    "<div style=\"background-color:rgba(255, 215, 0, 0.6);border-radius:5px;display:fill\"><h1 style=\"text-align: center;padding: 12px 0px 12px 0px;\">Scores</h1>\n",
    "</div>\n",
    "\n",
    "CV, or Cross Validation, Score.\n",
    "\n",
    "We average the means and the standard deviations.\n",
    "\n",
    "The Adjusted Score is the average of the means minus the average of standard deviation. Do this to attempt to get one number to evaluate the score when comparing different models."
   ]
  },
  {
   "cell_type": "code",
   "execution_count": 39,
   "id": "f8145e7e",
   "metadata": {
    "execution": {
     "iopub.execute_input": "2022-07-27T16:14:07.323520Z",
     "iopub.status.busy": "2022-07-27T16:14:07.322848Z",
     "iopub.status.idle": "2022-07-27T16:14:07.329774Z",
     "shell.execute_reply": "2022-07-27T16:14:07.328529Z"
    },
    "papermill": {
     "duration": 0.029259,
     "end_time": "2022-07-27T16:14:07.332131",
     "exception": false,
     "start_time": "2022-07-27T16:14:07.302872",
     "status": "completed"
    },
    "tags": []
   },
   "outputs": [
    {
     "name": "stdout",
     "output_type": "stream",
     "text": [
      "Scores -> Adjusted: 0.85525351 , mean: 0.88038442, std: 0.02513091\n"
     ]
    }
   ],
   "source": [
    "show_fold_scores(fold_scores)"
   ]
  },
  {
   "cell_type": "code",
   "execution_count": 40,
   "id": "a64071ea",
   "metadata": {
    "execution": {
     "iopub.execute_input": "2022-07-27T16:14:07.371179Z",
     "iopub.status.busy": "2022-07-27T16:14:07.370428Z",
     "iopub.status.idle": "2022-07-27T16:14:07.387519Z",
     "shell.execute_reply": "2022-07-27T16:14:07.386192Z"
    },
    "papermill": {
     "duration": 0.039494,
     "end_time": "2022-07-27T16:14:07.390083",
     "exception": false,
     "start_time": "2022-07-27T16:14:07.350589",
     "status": "completed"
    },
    "tags": []
   },
   "outputs": [],
   "source": [
    "final_valid_predictions_df = pd.DataFrame.from_dict(\n",
    "    final_valid_predictions, orient=\"index\"\n",
    ").reset_index()\n",
    "final_valid_predictions_df.columns = [\"id\", \"pred_xgb\"]\n",
    "final_valid_predictions_df.to_csv(\"train_pred_xgb.csv\", index=False)"
   ]
  },
  {
   "cell_type": "code",
   "execution_count": 41,
   "id": "1eb79c86",
   "metadata": {
    "execution": {
     "iopub.execute_input": "2022-07-27T16:14:07.429522Z",
     "iopub.status.busy": "2022-07-27T16:14:07.428593Z",
     "iopub.status.idle": "2022-07-27T16:14:07.448607Z",
     "shell.execute_reply": "2022-07-27T16:14:07.447697Z"
    },
    "papermill": {
     "duration": 0.042384,
     "end_time": "2022-07-27T16:14:07.451010",
     "exception": false,
     "start_time": "2022-07-27T16:14:07.408626",
     "status": "completed"
    },
    "tags": []
   },
   "outputs": [
    {
     "name": "stdout",
     "output_type": "stream",
     "text": [
      "Mean\n"
     ]
    },
    {
     "data": {
      "text/plain": [
       "array([0.12707493, 0.24531329, 0.0601217 , 0.15703344, 0.36903167,\n",
       "       0.2520413 , 0.6464669 , 0.14999278, 0.7070511 , 0.03526946,\n",
       "       0.05098905, 0.17711352, 0.91629744, 0.07315017, 0.9425286 ,\n",
       "       0.87489337, 0.2211051 , 0.15072212, 0.6656117 , 0.44384485],\n",
       "      dtype=float32)"
      ]
     },
     "execution_count": 41,
     "metadata": {},
     "output_type": "execute_result"
    }
   ],
   "source": [
    "from scipy.stats import mode\n",
    "\n",
    "if Config.calc_probability:\n",
    "    print(\"Mean\")\n",
    "    result = np.mean(np.column_stack(final_test_predictions), axis=1)\n",
    "#     result = np.rint(m).astype(int)\n",
    "#     display(result)\n",
    "else:\n",
    "    print(\"Mode\")\n",
    "    mode_result = mode(np.column_stack(final_test_predictions), axis=1)\n",
    "    result = mode_result[0].ravel()\n",
    "\n",
    "result[:20]"
   ]
  },
  {
   "cell_type": "code",
   "execution_count": 42,
   "id": "26845021",
   "metadata": {
    "execution": {
     "iopub.execute_input": "2022-07-27T16:14:07.491127Z",
     "iopub.status.busy": "2022-07-27T16:14:07.490054Z",
     "iopub.status.idle": "2022-07-27T16:14:07.504836Z",
     "shell.execute_reply": "2022-07-27T16:14:07.503605Z"
    },
    "papermill": {
     "duration": 0.037337,
     "end_time": "2022-07-27T16:14:07.507213",
     "exception": false,
     "start_time": "2022-07-27T16:14:07.469876",
     "status": "completed"
    },
    "tags": []
   },
   "outputs": [
    {
     "data": {
      "text/html": [
       "<div>\n",
       "<style scoped>\n",
       "    .dataframe tbody tr th:only-of-type {\n",
       "        vertical-align: middle;\n",
       "    }\n",
       "\n",
       "    .dataframe tbody tr th {\n",
       "        vertical-align: top;\n",
       "    }\n",
       "\n",
       "    .dataframe thead th {\n",
       "        text-align: right;\n",
       "    }\n",
       "</style>\n",
       "<table border=\"1\" class=\"dataframe\">\n",
       "  <thead>\n",
       "    <tr style=\"text-align: right;\">\n",
       "      <th></th>\n",
       "      <th>PassengerId</th>\n",
       "      <th>target_xgb1</th>\n",
       "    </tr>\n",
       "  </thead>\n",
       "  <tbody>\n",
       "    <tr>\n",
       "      <th>0</th>\n",
       "      <td>892</td>\n",
       "      <td>0.127075</td>\n",
       "    </tr>\n",
       "    <tr>\n",
       "      <th>1</th>\n",
       "      <td>893</td>\n",
       "      <td>0.245313</td>\n",
       "    </tr>\n",
       "    <tr>\n",
       "      <th>2</th>\n",
       "      <td>894</td>\n",
       "      <td>0.060122</td>\n",
       "    </tr>\n",
       "    <tr>\n",
       "      <th>3</th>\n",
       "      <td>895</td>\n",
       "      <td>0.157033</td>\n",
       "    </tr>\n",
       "    <tr>\n",
       "      <th>4</th>\n",
       "      <td>896</td>\n",
       "      <td>0.369032</td>\n",
       "    </tr>\n",
       "    <tr>\n",
       "      <th>5</th>\n",
       "      <td>897</td>\n",
       "      <td>0.252041</td>\n",
       "    </tr>\n",
       "    <tr>\n",
       "      <th>6</th>\n",
       "      <td>898</td>\n",
       "      <td>0.646467</td>\n",
       "    </tr>\n",
       "    <tr>\n",
       "      <th>7</th>\n",
       "      <td>899</td>\n",
       "      <td>0.149993</td>\n",
       "    </tr>\n",
       "    <tr>\n",
       "      <th>8</th>\n",
       "      <td>900</td>\n",
       "      <td>0.707051</td>\n",
       "    </tr>\n",
       "    <tr>\n",
       "      <th>9</th>\n",
       "      <td>901</td>\n",
       "      <td>0.035269</td>\n",
       "    </tr>\n",
       "  </tbody>\n",
       "</table>\n",
       "</div>"
      ],
      "text/plain": [
       "   PassengerId  target_xgb1\n",
       "0          892     0.127075\n",
       "1          893     0.245313\n",
       "2          894     0.060122\n",
       "3          895     0.157033\n",
       "4          896     0.369032\n",
       "5          897     0.252041\n",
       "6          898     0.646467\n",
       "7          899     0.149993\n",
       "8          900     0.707051\n",
       "9          901     0.035269"
      ]
     },
     "execution_count": 42,
     "metadata": {},
     "output_type": "execute_result"
    }
   ],
   "source": [
    "# submission_df[\"target_xgb1\"] = np.mean(np.column_stack(final_test_predictions), axis=1)\n",
    "submission_df[\"target_xgb1\"] = result\n",
    "submission_df.head(10)"
   ]
  },
  {
   "cell_type": "markdown",
   "id": "1471bac1",
   "metadata": {
    "papermill": {
     "duration": 0.019006,
     "end_time": "2022-07-27T16:14:07.545403",
     "exception": false,
     "start_time": "2022-07-27T16:14:07.526397",
     "status": "completed"
    },
    "tags": []
   },
   "source": [
    "## LGBM Model"
   ]
  },
  {
   "cell_type": "code",
   "execution_count": 43,
   "id": "1ec8461e",
   "metadata": {
    "execution": {
     "iopub.execute_input": "2022-07-27T16:14:07.585429Z",
     "iopub.status.busy": "2022-07-27T16:14:07.584559Z",
     "iopub.status.idle": "2022-07-27T16:14:08.174334Z",
     "shell.execute_reply": "2022-07-27T16:14:08.173183Z"
    },
    "papermill": {
     "duration": 0.612696,
     "end_time": "2022-07-27T16:14:08.177009",
     "exception": false,
     "start_time": "2022-07-27T16:14:07.564313",
     "status": "completed"
    },
    "tags": []
   },
   "outputs": [
    {
     "name": "stdout",
     "output_type": "stream",
     "text": [
      "========== Fold 1/5 ==========\n",
      "[LightGBM] [Warning] lambda_l1 is set=0.009130931198077825, reg_alpha=0.0 will be ignored. Current value: lambda_l1=0.009130931198077825\n",
      "[LightGBM] [Warning] bagging_fraction is set=0.9989307214277753, subsample=1.0 will be ignored. Current value: bagging_fraction=0.9989307214277753\n",
      "[LightGBM] [Warning] feature_fraction is set=0.8757445736567416, colsample_bytree=1.0 will be ignored. Current value: feature_fraction=0.8757445736567416\n",
      "[LightGBM] [Warning] bagging_freq is set=10, subsample_freq=0 will be ignored. Current value: bagging_freq=10\n",
      "[LightGBM] [Warning] lambda_l2 is set=3.530680683338868e-05, reg_lambda=0.0 will be ignored. Current value: lambda_l2=3.530680683338868e-05\n",
      "fold: 1, AUC: 0.9148221343873518, Run Time: 0.16\n",
      "========== Fold 2/5 ==========\n",
      "[LightGBM] [Warning] lambda_l1 is set=0.009130931198077825, reg_alpha=0.0 will be ignored. Current value: lambda_l1=0.009130931198077825\n",
      "[LightGBM] [Warning] bagging_fraction is set=0.9989307214277753, subsample=1.0 will be ignored. Current value: bagging_fraction=0.9989307214277753\n",
      "[LightGBM] [Warning] feature_fraction is set=0.8757445736567416, colsample_bytree=1.0 will be ignored. Current value: feature_fraction=0.8757445736567416\n",
      "[LightGBM] [Warning] bagging_freq is set=10, subsample_freq=0 will be ignored. Current value: bagging_freq=10\n",
      "[LightGBM] [Warning] lambda_l2 is set=3.530680683338868e-05, reg_lambda=0.0 will be ignored. Current value: lambda_l2=3.530680683338868e-05\n"
     ]
    },
    {
     "name": "stderr",
     "output_type": "stream",
     "text": [
      "/opt/conda/lib/python3.7/site-packages/lightgbm/sklearn.py:726: UserWarning: 'early_stopping_rounds' argument is deprecated and will be removed in a future release of LightGBM. Pass 'early_stopping()' callback via 'callbacks' argument instead.\n",
      "  _log_warning(\"'early_stopping_rounds' argument is deprecated and will be removed in a future release of LightGBM. \"\n",
      "/opt/conda/lib/python3.7/site-packages/lightgbm/sklearn.py:736: UserWarning: 'verbose' argument is deprecated and will be removed in a future release of LightGBM. Pass 'log_evaluation()' callback via 'callbacks' argument instead.\n",
      "  _log_warning(\"'verbose' argument is deprecated and will be removed in a future release of LightGBM. \"\n",
      "/opt/conda/lib/python3.7/site-packages/lightgbm/sklearn.py:726: UserWarning: 'early_stopping_rounds' argument is deprecated and will be removed in a future release of LightGBM. Pass 'early_stopping()' callback via 'callbacks' argument instead.\n",
      "  _log_warning(\"'early_stopping_rounds' argument is deprecated and will be removed in a future release of LightGBM. \"\n",
      "/opt/conda/lib/python3.7/site-packages/lightgbm/sklearn.py:736: UserWarning: 'verbose' argument is deprecated and will be removed in a future release of LightGBM. Pass 'log_evaluation()' callback via 'callbacks' argument instead.\n",
      "  _log_warning(\"'verbose' argument is deprecated and will be removed in a future release of LightGBM. \"\n"
     ]
    },
    {
     "name": "stdout",
     "output_type": "stream",
     "text": [
      "fold: 2, AUC: 0.902139037433155, Run Time: 0.11\n",
      "========== Fold 3/5 ==========\n",
      "[LightGBM] [Warning] lambda_l1 is set=0.009130931198077825, reg_alpha=0.0 will be ignored. Current value: lambda_l1=0.009130931198077825\n",
      "[LightGBM] [Warning] bagging_fraction is set=0.9989307214277753, subsample=1.0 will be ignored. Current value: bagging_fraction=0.9989307214277753\n",
      "[LightGBM] [Warning] feature_fraction is set=0.8757445736567416, colsample_bytree=1.0 will be ignored. Current value: feature_fraction=0.8757445736567416\n",
      "[LightGBM] [Warning] bagging_freq is set=10, subsample_freq=0 will be ignored. Current value: bagging_freq=10\n",
      "[LightGBM] [Warning] lambda_l2 is set=3.530680683338868e-05, reg_lambda=0.0 will be ignored. Current value: lambda_l2=3.530680683338868e-05\n",
      "fold: 3, AUC: 0.8584893048128343, Run Time: 0.10\n",
      "========== Fold 4/5 ==========\n",
      "[LightGBM] [Warning] lambda_l1 is set=0.009130931198077825, reg_alpha=0.0 will be ignored. Current value: lambda_l1=0.009130931198077825\n",
      "[LightGBM] [Warning] bagging_fraction is set=0.9989307214277753, subsample=1.0 will be ignored. Current value: bagging_fraction=0.9989307214277753\n",
      "[LightGBM] [Warning] feature_fraction is set=0.8757445736567416, colsample_bytree=1.0 will be ignored. Current value: feature_fraction=0.8757445736567416\n",
      "[LightGBM] [Warning] bagging_freq is set=10, subsample_freq=0 will be ignored. Current value: bagging_freq=10\n",
      "[LightGBM] [Warning] lambda_l2 is set=3.530680683338868e-05, reg_lambda=0.0 will be ignored. Current value: lambda_l2=3.530680683338868e-05\n"
     ]
    },
    {
     "name": "stderr",
     "output_type": "stream",
     "text": [
      "/opt/conda/lib/python3.7/site-packages/lightgbm/sklearn.py:726: UserWarning: 'early_stopping_rounds' argument is deprecated and will be removed in a future release of LightGBM. Pass 'early_stopping()' callback via 'callbacks' argument instead.\n",
      "  _log_warning(\"'early_stopping_rounds' argument is deprecated and will be removed in a future release of LightGBM. \"\n",
      "/opt/conda/lib/python3.7/site-packages/lightgbm/sklearn.py:736: UserWarning: 'verbose' argument is deprecated and will be removed in a future release of LightGBM. Pass 'log_evaluation()' callback via 'callbacks' argument instead.\n",
      "  _log_warning(\"'verbose' argument is deprecated and will be removed in a future release of LightGBM. \"\n",
      "/opt/conda/lib/python3.7/site-packages/lightgbm/sklearn.py:726: UserWarning: 'early_stopping_rounds' argument is deprecated and will be removed in a future release of LightGBM. Pass 'early_stopping()' callback via 'callbacks' argument instead.\n",
      "  _log_warning(\"'early_stopping_rounds' argument is deprecated and will be removed in a future release of LightGBM. \"\n",
      "/opt/conda/lib/python3.7/site-packages/lightgbm/sklearn.py:736: UserWarning: 'verbose' argument is deprecated and will be removed in a future release of LightGBM. Pass 'log_evaluation()' callback via 'callbacks' argument instead.\n",
      "  _log_warning(\"'verbose' argument is deprecated and will be removed in a future release of LightGBM. \"\n"
     ]
    },
    {
     "name": "stdout",
     "output_type": "stream",
     "text": [
      "fold: 4, AUC: 0.8679812834224598, Run Time: 0.10\n",
      "========== Fold 5/5 ==========\n",
      "[LightGBM] [Warning] lambda_l1 is set=0.009130931198077825, reg_alpha=0.0 will be ignored. Current value: lambda_l1=0.009130931198077825\n",
      "[LightGBM] [Warning] bagging_fraction is set=0.9989307214277753, subsample=1.0 will be ignored. Current value: bagging_fraction=0.9989307214277753\n",
      "[LightGBM] [Warning] feature_fraction is set=0.8757445736567416, colsample_bytree=1.0 will be ignored. Current value: feature_fraction=0.8757445736567416\n",
      "[LightGBM] [Warning] bagging_freq is set=10, subsample_freq=0 will be ignored. Current value: bagging_freq=10\n",
      "[LightGBM] [Warning] lambda_l2 is set=3.530680683338868e-05, reg_lambda=0.0 will be ignored. Current value: lambda_l2=3.530680683338868e-05\n",
      "fold: 5, AUC: 0.8966892700438771, Run Time: 0.10\n"
     ]
    },
    {
     "name": "stderr",
     "output_type": "stream",
     "text": [
      "/opt/conda/lib/python3.7/site-packages/lightgbm/sklearn.py:726: UserWarning: 'early_stopping_rounds' argument is deprecated and will be removed in a future release of LightGBM. Pass 'early_stopping()' callback via 'callbacks' argument instead.\n",
      "  _log_warning(\"'early_stopping_rounds' argument is deprecated and will be removed in a future release of LightGBM. \"\n",
      "/opt/conda/lib/python3.7/site-packages/lightgbm/sklearn.py:736: UserWarning: 'verbose' argument is deprecated and will be removed in a future release of LightGBM. Pass 'log_evaluation()' callback via 'callbacks' argument instead.\n",
      "  _log_warning(\"'verbose' argument is deprecated and will be removed in a future release of LightGBM. \"\n"
     ]
    }
   ],
   "source": [
    "(\n",
    "    model,\n",
    "    feature_importance_lst,\n",
    "    fold_scores,\n",
    "    final_valid_predictions,\n",
    "    final_test_predictions,\n",
    ") = train_xgb_model(\n",
    "    train,\n",
    "    test,\n",
    "    get_lgbm_clf_model,\n",
    "    FEATURES,\n",
    "    TARGET,\n",
    "    Config.calc_probability,\n",
    "    \"PassengerId\",\n",
    "    lgbm_params,\n",
    "    Config.N_FOLDS,\n",
    "    Config.seed,\n",
    ")"
   ]
  },
  {
   "cell_type": "code",
   "execution_count": 44,
   "id": "22dbdd0a",
   "metadata": {
    "execution": {
     "iopub.execute_input": "2022-07-27T16:14:08.218481Z",
     "iopub.status.busy": "2022-07-27T16:14:08.217614Z",
     "iopub.status.idle": "2022-07-27T16:14:08.224202Z",
     "shell.execute_reply": "2022-07-27T16:14:08.222958Z"
    },
    "papermill": {
     "duration": 0.030437,
     "end_time": "2022-07-27T16:14:08.227353",
     "exception": false,
     "start_time": "2022-07-27T16:14:08.196916",
     "status": "completed"
    },
    "tags": []
   },
   "outputs": [
    {
     "name": "stdout",
     "output_type": "stream",
     "text": [
      "Scores -> Adjusted: 0.86673350 , mean: 0.88802421, std: 0.02129070\n"
     ]
    }
   ],
   "source": [
    "show_fold_scores(fold_scores)"
   ]
  },
  {
   "cell_type": "markdown",
   "id": "48339663",
   "metadata": {
    "papermill": {
     "duration": 0.019014,
     "end_time": "2022-07-27T16:14:08.266775",
     "exception": false,
     "start_time": "2022-07-27T16:14:08.247761",
     "status": "completed"
    },
    "tags": []
   },
   "source": [
    "<div style=\"background-color:rgba(255, 215, 0, 0.6);border-radius:5px;display:fill\"><h1 style=\"text-align: center;padding: 12px 0px 12px 0px;\">Save OOF Predictions</h1>\n",
    "</div>\n",
    "\n",
    "This is unused for this example but needed later for [Blending](https://towardsdatascience.com/ensemble-learning-stacking-blending-voting-b37737c4f483).\n",
    "\n",
    "**General idea**: The values will be use to create new features in a blended model.\n",
    "\n",
    "- [Stacking and Blending — An Intuitive ExplanationStacking and Blending — An Intuitive Explanation](https://medium.com/@stevenyu530_73989/stacking-and-blending-intuitive-explanation-of-advanced-ensemble-methods-46b295da413chttps://medium.com/@stevenyu530_73989/stacking-and-blending-intuitive-explanation-of-advanced-ensemble-methods-46b295da413c)"
   ]
  },
  {
   "cell_type": "code",
   "execution_count": 45,
   "id": "cf5b89a3",
   "metadata": {
    "execution": {
     "iopub.execute_input": "2022-07-27T16:14:08.307870Z",
     "iopub.status.busy": "2022-07-27T16:14:08.307204Z",
     "iopub.status.idle": "2022-07-27T16:14:08.323401Z",
     "shell.execute_reply": "2022-07-27T16:14:08.322510Z"
    },
    "papermill": {
     "duration": 0.039686,
     "end_time": "2022-07-27T16:14:08.325907",
     "exception": false,
     "start_time": "2022-07-27T16:14:08.286221",
     "status": "completed"
    },
    "tags": []
   },
   "outputs": [],
   "source": [
    "final_valid_predictions_df = pd.DataFrame.from_dict(\n",
    "    final_valid_predictions, orient=\"index\"\n",
    ").reset_index()\n",
    "final_valid_predictions_df.columns = [\"id\", \"pred_xgb\"]\n",
    "final_valid_predictions_df.to_csv(\"train_pred_xgb.csv\", index=False)"
   ]
  },
  {
   "cell_type": "markdown",
   "id": "8299354d",
   "metadata": {
    "papermill": {
     "duration": 0.01985,
     "end_time": "2022-07-27T16:14:08.365606",
     "exception": false,
     "start_time": "2022-07-27T16:14:08.345756",
     "status": "completed"
    },
    "tags": []
   },
   "source": [
    "<div style=\"background-color:rgba(255, 215, 0, 0.6);border-radius:5px;display:fill\"><h1 style=\"text-align: center;padding: 12px 0px 12px 0px;\">Submission File</h1>\n",
    "</div>\n",
    "\n",
    "The sample file and our data is in the same row order.  This allows us to simply assign our prediction to the target column (`Survived`) in the sample submission."
   ]
  },
  {
   "cell_type": "code",
   "execution_count": 46,
   "id": "522d3032",
   "metadata": {
    "execution": {
     "iopub.execute_input": "2022-07-27T16:14:08.406631Z",
     "iopub.status.busy": "2022-07-27T16:14:08.406009Z",
     "iopub.status.idle": "2022-07-27T16:14:08.410521Z",
     "shell.execute_reply": "2022-07-27T16:14:08.409738Z"
    },
    "papermill": {
     "duration": 0.027637,
     "end_time": "2022-07-27T16:14:08.412654",
     "exception": false,
     "start_time": "2022-07-27T16:14:08.385017",
     "status": "completed"
    },
    "tags": []
   },
   "outputs": [],
   "source": [
    "# pred_cols = [c for c in submission_df.columns if c.startswith(\"pred_\")]\n",
    "# pred_cols"
   ]
  },
  {
   "cell_type": "code",
   "execution_count": 47,
   "id": "01b6dc48",
   "metadata": {
    "execution": {
     "iopub.execute_input": "2022-07-27T16:14:08.453449Z",
     "iopub.status.busy": "2022-07-27T16:14:08.452840Z",
     "iopub.status.idle": "2022-07-27T16:14:08.596167Z",
     "shell.execute_reply": "2022-07-27T16:14:08.595054Z"
    },
    "papermill": {
     "duration": 0.166787,
     "end_time": "2022-07-27T16:14:08.598841",
     "exception": false,
     "start_time": "2022-07-27T16:14:08.432054",
     "status": "completed"
    },
    "tags": []
   },
   "outputs": [
    {
     "name": "stdout",
     "output_type": "stream",
     "text": [
      "Mean\n"
     ]
    },
    {
     "data": {
      "text/plain": [
       "array([0.07866885, 0.26068843, 0.08841815, 0.28875258, 0.29955905,\n",
       "       0.37177733, 0.50750124, 0.18450079, 0.73589166, 0.04400028,\n",
       "       0.0334911 , 0.12490202, 0.94775474, 0.04540242, 0.9431925 ,\n",
       "       0.88002872, 0.11788597, 0.30616484, 0.51443279, 0.50999095])"
      ]
     },
     "execution_count": 47,
     "metadata": {},
     "output_type": "execute_result"
    }
   ],
   "source": [
    "from scipy.stats import mode\n",
    "\n",
    "if Config.calc_probability:\n",
    "    print(\"Mean\")\n",
    "    result = np.mean(np.column_stack(final_test_predictions), axis=1)\n",
    "#     result = np.rint(m).astype(int)\n",
    "#     display(result)\n",
    "else:\n",
    "    print(\"Mode\")\n",
    "    mode_result = mode(np.column_stack(final_test_predictions), axis=1)\n",
    "    result = mode_result[0].ravel()\n",
    "\n",
    "result[:20]"
   ]
  },
  {
   "cell_type": "code",
   "execution_count": 48,
   "id": "d78dcee1",
   "metadata": {
    "execution": {
     "iopub.execute_input": "2022-07-27T16:14:08.641491Z",
     "iopub.status.busy": "2022-07-27T16:14:08.640512Z",
     "iopub.status.idle": "2022-07-27T16:14:08.655711Z",
     "shell.execute_reply": "2022-07-27T16:14:08.654494Z"
    },
    "papermill": {
     "duration": 0.038706,
     "end_time": "2022-07-27T16:14:08.658011",
     "exception": false,
     "start_time": "2022-07-27T16:14:08.619305",
     "status": "completed"
    },
    "tags": []
   },
   "outputs": [
    {
     "data": {
      "text/html": [
       "<div>\n",
       "<style scoped>\n",
       "    .dataframe tbody tr th:only-of-type {\n",
       "        vertical-align: middle;\n",
       "    }\n",
       "\n",
       "    .dataframe tbody tr th {\n",
       "        vertical-align: top;\n",
       "    }\n",
       "\n",
       "    .dataframe thead th {\n",
       "        text-align: right;\n",
       "    }\n",
       "</style>\n",
       "<table border=\"1\" class=\"dataframe\">\n",
       "  <thead>\n",
       "    <tr style=\"text-align: right;\">\n",
       "      <th></th>\n",
       "      <th>PassengerId</th>\n",
       "      <th>target_xgb1</th>\n",
       "      <th>target_lgbm1</th>\n",
       "    </tr>\n",
       "  </thead>\n",
       "  <tbody>\n",
       "    <tr>\n",
       "      <th>0</th>\n",
       "      <td>892</td>\n",
       "      <td>0.127075</td>\n",
       "      <td>0.078669</td>\n",
       "    </tr>\n",
       "    <tr>\n",
       "      <th>1</th>\n",
       "      <td>893</td>\n",
       "      <td>0.245313</td>\n",
       "      <td>0.260688</td>\n",
       "    </tr>\n",
       "    <tr>\n",
       "      <th>2</th>\n",
       "      <td>894</td>\n",
       "      <td>0.060122</td>\n",
       "      <td>0.088418</td>\n",
       "    </tr>\n",
       "    <tr>\n",
       "      <th>3</th>\n",
       "      <td>895</td>\n",
       "      <td>0.157033</td>\n",
       "      <td>0.288753</td>\n",
       "    </tr>\n",
       "    <tr>\n",
       "      <th>4</th>\n",
       "      <td>896</td>\n",
       "      <td>0.369032</td>\n",
       "      <td>0.299559</td>\n",
       "    </tr>\n",
       "    <tr>\n",
       "      <th>5</th>\n",
       "      <td>897</td>\n",
       "      <td>0.252041</td>\n",
       "      <td>0.371777</td>\n",
       "    </tr>\n",
       "    <tr>\n",
       "      <th>6</th>\n",
       "      <td>898</td>\n",
       "      <td>0.646467</td>\n",
       "      <td>0.507501</td>\n",
       "    </tr>\n",
       "    <tr>\n",
       "      <th>7</th>\n",
       "      <td>899</td>\n",
       "      <td>0.149993</td>\n",
       "      <td>0.184501</td>\n",
       "    </tr>\n",
       "    <tr>\n",
       "      <th>8</th>\n",
       "      <td>900</td>\n",
       "      <td>0.707051</td>\n",
       "      <td>0.735892</td>\n",
       "    </tr>\n",
       "    <tr>\n",
       "      <th>9</th>\n",
       "      <td>901</td>\n",
       "      <td>0.035269</td>\n",
       "      <td>0.044000</td>\n",
       "    </tr>\n",
       "  </tbody>\n",
       "</table>\n",
       "</div>"
      ],
      "text/plain": [
       "   PassengerId  target_xgb1  target_lgbm1\n",
       "0          892     0.127075      0.078669\n",
       "1          893     0.245313      0.260688\n",
       "2          894     0.060122      0.088418\n",
       "3          895     0.157033      0.288753\n",
       "4          896     0.369032      0.299559\n",
       "5          897     0.252041      0.371777\n",
       "6          898     0.646467      0.507501\n",
       "7          899     0.149993      0.184501\n",
       "8          900     0.707051      0.735892\n",
       "9          901     0.035269      0.044000"
      ]
     },
     "execution_count": 48,
     "metadata": {},
     "output_type": "execute_result"
    }
   ],
   "source": [
    "submission_df[\"target_lgbm1\"] = result\n",
    "submission_df.head(10)"
   ]
  },
  {
   "cell_type": "code",
   "execution_count": 49,
   "id": "d986463b",
   "metadata": {
    "execution": {
     "iopub.execute_input": "2022-07-27T16:14:08.699949Z",
     "iopub.status.busy": "2022-07-27T16:14:08.699218Z",
     "iopub.status.idle": "2022-07-27T16:14:08.710478Z",
     "shell.execute_reply": "2022-07-27T16:14:08.709726Z"
    },
    "papermill": {
     "duration": 0.034634,
     "end_time": "2022-07-27T16:14:08.712777",
     "exception": false,
     "start_time": "2022-07-27T16:14:08.678143",
     "status": "completed"
    },
    "tags": []
   },
   "outputs": [
    {
     "data": {
      "text/plain": [
       "array([0.07866885, 0.26068843, 0.08841815, 0.28875258, 0.29955905,\n",
       "       0.37177733, 0.50750124, 0.18450079, 0.73589166, 0.04400028,\n",
       "       0.0334911 , 0.12490202, 0.94775474, 0.04540242, 0.9431925 ,\n",
       "       0.88002872, 0.11788597, 0.30616484, 0.51443279, 0.50999095,\n",
       "       0.3506078 , 0.49669282, 0.94112289, 0.47990049, 0.90083183,\n",
       "       0.0465185 , 0.96152763, 0.33905513, 0.61730016, 0.23365772,\n",
       "       0.06411534, 0.12956862, 0.47034668, 0.24239829, 0.53838481,\n",
       "       0.18878038, 0.21845721, 0.19510311, 0.05115906, 0.47719738,\n",
       "       0.12116155, 0.57886194, 0.08088777, 0.92175663, 0.95188132,\n",
       "       0.09645622, 0.38807062, 0.13974526, 0.95515348, 0.6171472 ,\n",
       "       0.39772385, 0.22636934, 0.88107525, 0.80735351, 0.24543544,\n",
       "       0.06081654, 0.04313973, 0.14311118, 0.08067078, 0.95592539,\n",
       "       0.06419178, 0.24831369, 0.08362299, 0.80559651, 0.59134415,\n",
       "       0.88928984, 0.76037287, 0.12455107, 0.41864222, 0.86817142,\n",
       "       0.77895024, 0.04124896, 0.42508736, 0.3149903 , 0.95631608,\n",
       "       0.49999262, 0.06559545, 0.76125255, 0.23327312, 0.77895024,\n",
       "       0.86098381, 0.24300343, 0.20468541, 0.0334911 , 0.17052469,\n",
       "       0.17003773, 0.84086137, 0.4952763 , 0.76996674, 0.8863256 ,\n",
       "       0.24011643, 0.17329213, 0.87389155, 0.06559545, 0.35104978,\n",
       "       0.25060205, 0.93710174, 0.22453849, 0.56278283, 0.10621223,\n",
       "       0.96558402, 0.1208776 , 0.13974526, 0.29975566, 0.65228344,\n",
       "       0.06801235, 0.10180465, 0.13974526, 0.14708754, 0.09380152,\n",
       "       0.07821251, 0.77654238, 0.95553251, 0.70409645, 0.91457403,\n",
       "       0.14245581, 0.08314101, 0.70155691, 0.5066128 , 0.90491737,\n",
       "       0.91367703, 0.1475696 , 0.97175428, 0.03896434, 0.13974526,\n",
       "       0.64564517, 0.12464577, 0.68950443, 0.2020852 , 0.060581  ,\n",
       "       0.29012605, 0.17894512, 0.20374537, 0.08667272, 0.06414226,\n",
       "       0.09434324, 0.36382777, 0.09474829, 0.21151959, 0.06628455,\n",
       "       0.09061805, 0.95286665, 0.24623446, 0.09251932, 0.63550478,\n",
       "       0.05662892, 0.16459031, 0.05390569, 0.57886194, 0.12298915,\n",
       "       0.9600693 , 0.13295217, 0.03616885, 0.42909513, 0.06095641,\n",
       "       0.12540509, 0.94177815, 0.5632436 , 0.63550478, 0.37445778,\n",
       "       0.75041768, 0.83951994, 0.78771187, 0.04028137, 0.14833757,\n",
       "       0.31156242, 0.2154648 , 0.08012524, 0.92299632, 0.21905619,\n",
       "       0.03823097, 0.3479859 , 0.03591785, 0.11727145, 0.12628761,\n",
       "       0.92748077, 0.94521991, 0.38438845, 0.92582431, 0.93493483,\n",
       "       0.23327312, 0.43584258, 0.95305726, 0.13974526, 0.86444998,\n",
       "       0.05099161, 0.90805693, 0.18984714, 0.12069428, 0.14502377,\n",
       "       0.10278481, 0.17430398, 0.3427348 , 0.09345469, 0.80108297,\n",
       "       0.07430296, 0.85156019, 0.5292472 , 0.04013726, 0.29169952,\n",
       "       0.75445106, 0.85365443, 0.37695591, 0.92092257, 0.05190433,\n",
       "       0.27154167, 0.58935535, 0.04283355, 0.92147344, 0.04896059,\n",
       "       0.16792004, 0.03859255, 0.16386737, 0.73144994, 0.23485133,\n",
       "       0.17956597, 0.80800018, 0.19732602, 0.92183063, 0.06559545,\n",
       "       0.90313922, 0.07899273, 0.79752316, 0.16212873, 0.79800468,\n",
       "       0.53387335, 0.12170697, 0.76996674, 0.03901617, 0.13367815,\n",
       "       0.4309669 , 0.93334568, 0.09270305, 0.08779586, 0.49451993,\n",
       "       0.10887208, 0.25703609, 0.32554838, 0.88139911, 0.96083484,\n",
       "       0.79204381, 0.84605729, 0.40485726, 0.04602869, 0.10195137,\n",
       "       0.21301398, 0.86321352, 0.12791628, 0.90491737, 0.35717572,\n",
       "       0.91866445, 0.20292744, 0.46759861, 0.03749621, 0.10289613,\n",
       "       0.03823097, 0.13974526, 0.06559545, 0.9081878 , 0.11895258,\n",
       "       0.03921353, 0.08031873, 0.91174391, 0.65840565, 0.30185156,\n",
       "       0.0334911 , 0.07383128, 0.03823097, 0.21845721, 0.10885236,\n",
       "       0.32701249, 0.13974526, 0.90997403, 0.74032789, 0.11174966,\n",
       "       0.86319122, 0.15775618, 0.0585354 , 0.06810976, 0.04090214,\n",
       "       0.18401623, 0.86930984, 0.76996674, 0.50602137, 0.67342051,\n",
       "       0.0223734 , 0.03896434, 0.23151045, 0.11727145, 0.06559545,\n",
       "       0.15764765, 0.46469599, 0.11727145, 0.16495925, 0.08310016,\n",
       "       0.06444144, 0.94989658, 0.23365772, 0.13376723, 0.20477148,\n",
       "       0.2281142 , 0.17463583, 0.08092659, 0.04096311, 0.76996674,\n",
       "       0.8244684 , 0.30006425, 0.85412274, 0.23089664, 0.20961284,\n",
       "       0.10933193, 0.33905513, 0.03823097, 0.49760591, 0.93912921,\n",
       "       0.73815287, 0.29968244, 0.14338747, 0.21818624, 0.12661958,\n",
       "       0.29975566, 0.30984546, 0.09474829, 0.7645856 , 0.93960575,\n",
       "       0.0995587 , 0.92938399, 0.28656959, 0.09539683, 0.04353457,\n",
       "       0.88594171, 0.4736212 , 0.11174966, 0.78084957, 0.09331003,\n",
       "       0.19542834, 0.37103477, 0.05400452, 0.26225023, 0.11727145,\n",
       "       0.11582404, 0.05837304, 0.15162745, 0.91822876, 0.08573157,\n",
       "       0.59851898, 0.09474829, 0.48343695, 0.03581691, 0.92258762,\n",
       "       0.95102381, 0.05190433, 0.14076586, 0.20540737, 0.61254979,\n",
       "       0.1486414 , 0.92722189, 0.05959675, 0.13974526, 0.59646146,\n",
       "       0.03322323, 0.93330166, 0.92258762, 0.28875258, 0.95592239,\n",
       "       0.19493211, 0.1681011 , 0.31144905, 0.95297022, 0.34582167,\n",
       "       0.04880211, 0.96607014, 0.06683306, 0.18243171, 0.93550314,\n",
       "       0.93010151, 0.16688269, 0.04252004, 0.09544158, 0.27505246,\n",
       "       0.13974526, 0.1351864 , 0.31296876, 0.55034247, 0.18451949,\n",
       "       0.89452032, 0.19603157, 0.09796853, 0.10029764, 0.16784135,\n",
       "       0.29616651, 0.91984896, 0.42656371, 0.11614425, 0.03268592,\n",
       "       0.95548687, 0.13591179, 0.95507992, 0.1224708 , 0.07370898,\n",
       "       0.94860202, 0.04070565, 0.96415915, 0.15798783, 0.36587003,\n",
       "       0.24220533, 0.04703222, 0.3388944 , 0.73506709, 0.69244214,\n",
       "       0.76996674, 0.97136006, 0.55574652, 0.06559545, 0.96655991,\n",
       "       0.02147506, 0.06559545, 0.38388863])"
      ]
     },
     "execution_count": 49,
     "metadata": {},
     "output_type": "execute_result"
    }
   ],
   "source": [
    "result"
   ]
  },
  {
   "cell_type": "code",
   "execution_count": 50,
   "id": "a0a9ef6d",
   "metadata": {
    "execution": {
     "iopub.execute_input": "2022-07-27T16:14:08.755359Z",
     "iopub.status.busy": "2022-07-27T16:14:08.754687Z",
     "iopub.status.idle": "2022-07-27T16:14:08.766792Z",
     "shell.execute_reply": "2022-07-27T16:14:08.765948Z"
    },
    "papermill": {
     "duration": 0.036183,
     "end_time": "2022-07-27T16:14:08.769104",
     "exception": false,
     "start_time": "2022-07-27T16:14:08.732921",
     "status": "completed"
    },
    "tags": []
   },
   "outputs": [
    {
     "data": {
      "text/html": [
       "<div>\n",
       "<style scoped>\n",
       "    .dataframe tbody tr th:only-of-type {\n",
       "        vertical-align: middle;\n",
       "    }\n",
       "\n",
       "    .dataframe tbody tr th {\n",
       "        vertical-align: top;\n",
       "    }\n",
       "\n",
       "    .dataframe thead th {\n",
       "        text-align: right;\n",
       "    }\n",
       "</style>\n",
       "<table border=\"1\" class=\"dataframe\">\n",
       "  <thead>\n",
       "    <tr style=\"text-align: right;\">\n",
       "      <th></th>\n",
       "      <th>PassengerId</th>\n",
       "      <th>target_xgb1</th>\n",
       "      <th>target_lgbm1</th>\n",
       "    </tr>\n",
       "  </thead>\n",
       "  <tbody>\n",
       "    <tr>\n",
       "      <th>0</th>\n",
       "      <td>892</td>\n",
       "      <td>0.127075</td>\n",
       "      <td>0.078669</td>\n",
       "    </tr>\n",
       "    <tr>\n",
       "      <th>1</th>\n",
       "      <td>893</td>\n",
       "      <td>0.245313</td>\n",
       "      <td>0.260688</td>\n",
       "    </tr>\n",
       "    <tr>\n",
       "      <th>2</th>\n",
       "      <td>894</td>\n",
       "      <td>0.060122</td>\n",
       "      <td>0.088418</td>\n",
       "    </tr>\n",
       "    <tr>\n",
       "      <th>3</th>\n",
       "      <td>895</td>\n",
       "      <td>0.157033</td>\n",
       "      <td>0.288753</td>\n",
       "    </tr>\n",
       "    <tr>\n",
       "      <th>4</th>\n",
       "      <td>896</td>\n",
       "      <td>0.369032</td>\n",
       "      <td>0.299559</td>\n",
       "    </tr>\n",
       "  </tbody>\n",
       "</table>\n",
       "</div>"
      ],
      "text/plain": [
       "   PassengerId  target_xgb1  target_lgbm1\n",
       "0          892     0.127075      0.078669\n",
       "1          893     0.245313      0.260688\n",
       "2          894     0.060122      0.088418\n",
       "3          895     0.157033      0.288753\n",
       "4          896     0.369032      0.299559"
      ]
     },
     "execution_count": 50,
     "metadata": {},
     "output_type": "execute_result"
    }
   ],
   "source": [
    "submission_df.head()"
   ]
  },
  {
   "cell_type": "code",
   "execution_count": 51,
   "id": "613b66b2",
   "metadata": {
    "execution": {
     "iopub.execute_input": "2022-07-27T16:14:08.811886Z",
     "iopub.status.busy": "2022-07-27T16:14:08.811224Z",
     "iopub.status.idle": "2022-07-27T16:14:08.827297Z",
     "shell.execute_reply": "2022-07-27T16:14:08.826015Z"
    },
    "papermill": {
     "duration": 0.040441,
     "end_time": "2022-07-27T16:14:08.829767",
     "exception": false,
     "start_time": "2022-07-27T16:14:08.789326",
     "status": "completed"
    },
    "tags": []
   },
   "outputs": [
    {
     "data": {
      "text/html": [
       "<div>\n",
       "<style scoped>\n",
       "    .dataframe tbody tr th:only-of-type {\n",
       "        vertical-align: middle;\n",
       "    }\n",
       "\n",
       "    .dataframe tbody tr th {\n",
       "        vertical-align: top;\n",
       "    }\n",
       "\n",
       "    .dataframe thead th {\n",
       "        text-align: right;\n",
       "    }\n",
       "</style>\n",
       "<table border=\"1\" class=\"dataframe\">\n",
       "  <thead>\n",
       "    <tr style=\"text-align: right;\">\n",
       "      <th></th>\n",
       "      <th>PassengerId</th>\n",
       "      <th>Survived</th>\n",
       "    </tr>\n",
       "  </thead>\n",
       "  <tbody>\n",
       "    <tr>\n",
       "      <th>0</th>\n",
       "      <td>892</td>\n",
       "      <td>0.102872</td>\n",
       "    </tr>\n",
       "    <tr>\n",
       "      <th>1</th>\n",
       "      <td>893</td>\n",
       "      <td>0.253001</td>\n",
       "    </tr>\n",
       "    <tr>\n",
       "      <th>2</th>\n",
       "      <td>894</td>\n",
       "      <td>0.074270</td>\n",
       "    </tr>\n",
       "    <tr>\n",
       "      <th>3</th>\n",
       "      <td>895</td>\n",
       "      <td>0.222893</td>\n",
       "    </tr>\n",
       "    <tr>\n",
       "      <th>4</th>\n",
       "      <td>896</td>\n",
       "      <td>0.334295</td>\n",
       "    </tr>\n",
       "    <tr>\n",
       "      <th>5</th>\n",
       "      <td>897</td>\n",
       "      <td>0.311909</td>\n",
       "    </tr>\n",
       "    <tr>\n",
       "      <th>6</th>\n",
       "      <td>898</td>\n",
       "      <td>0.576984</td>\n",
       "    </tr>\n",
       "    <tr>\n",
       "      <th>7</th>\n",
       "      <td>899</td>\n",
       "      <td>0.167247</td>\n",
       "    </tr>\n",
       "  </tbody>\n",
       "</table>\n",
       "</div>"
      ],
      "text/plain": [
       "   PassengerId  Survived\n",
       "0          892  0.102872\n",
       "1          893  0.253001\n",
       "2          894  0.074270\n",
       "3          895  0.222893\n",
       "4          896  0.334295\n",
       "5          897  0.311909\n",
       "6          898  0.576984\n",
       "7          899  0.167247"
      ]
     },
     "execution_count": 51,
     "metadata": {},
     "output_type": "execute_result"
    }
   ],
   "source": [
    "sample_submission[\"Survived\"] = (\n",
    "    submission_df[\"target_xgb1\"] * 0.5 + submission_df[\"target_lgbm1\"] * 0.5\n",
    ")\n",
    "sample_submission.head(8)"
   ]
  },
  {
   "cell_type": "code",
   "execution_count": 52,
   "id": "dddf4ec1",
   "metadata": {
    "execution": {
     "iopub.execute_input": "2022-07-27T16:14:08.872183Z",
     "iopub.status.busy": "2022-07-27T16:14:08.871771Z",
     "iopub.status.idle": "2022-07-27T16:14:08.888081Z",
     "shell.execute_reply": "2022-07-27T16:14:08.887062Z"
    },
    "papermill": {
     "duration": 0.040296,
     "end_time": "2022-07-27T16:14:08.890418",
     "exception": false,
     "start_time": "2022-07-27T16:14:08.850122",
     "status": "completed"
    },
    "tags": []
   },
   "outputs": [
    {
     "data": {
      "text/html": [
       "<div>\n",
       "<style scoped>\n",
       "    .dataframe tbody tr th:only-of-type {\n",
       "        vertical-align: middle;\n",
       "    }\n",
       "\n",
       "    .dataframe tbody tr th {\n",
       "        vertical-align: top;\n",
       "    }\n",
       "\n",
       "    .dataframe thead th {\n",
       "        text-align: right;\n",
       "    }\n",
       "</style>\n",
       "<table border=\"1\" class=\"dataframe\">\n",
       "  <thead>\n",
       "    <tr style=\"text-align: right;\">\n",
       "      <th></th>\n",
       "      <th>PassengerId</th>\n",
       "      <th>Survived</th>\n",
       "    </tr>\n",
       "  </thead>\n",
       "  <tbody>\n",
       "    <tr>\n",
       "      <th>0</th>\n",
       "      <td>892</td>\n",
       "      <td>0</td>\n",
       "    </tr>\n",
       "    <tr>\n",
       "      <th>1</th>\n",
       "      <td>893</td>\n",
       "      <td>0</td>\n",
       "    </tr>\n",
       "    <tr>\n",
       "      <th>2</th>\n",
       "      <td>894</td>\n",
       "      <td>0</td>\n",
       "    </tr>\n",
       "    <tr>\n",
       "      <th>3</th>\n",
       "      <td>895</td>\n",
       "      <td>0</td>\n",
       "    </tr>\n",
       "    <tr>\n",
       "      <th>4</th>\n",
       "      <td>896</td>\n",
       "      <td>0</td>\n",
       "    </tr>\n",
       "    <tr>\n",
       "      <th>5</th>\n",
       "      <td>897</td>\n",
       "      <td>0</td>\n",
       "    </tr>\n",
       "    <tr>\n",
       "      <th>6</th>\n",
       "      <td>898</td>\n",
       "      <td>1</td>\n",
       "    </tr>\n",
       "    <tr>\n",
       "      <th>7</th>\n",
       "      <td>899</td>\n",
       "      <td>0</td>\n",
       "    </tr>\n",
       "  </tbody>\n",
       "</table>\n",
       "</div>"
      ],
      "text/plain": [
       "   PassengerId  Survived\n",
       "0          892         0\n",
       "1          893         0\n",
       "2          894         0\n",
       "3          895         0\n",
       "4          896         0\n",
       "5          897         0\n",
       "6          898         1\n",
       "7          899         0"
      ]
     },
     "execution_count": 52,
     "metadata": {},
     "output_type": "execute_result"
    }
   ],
   "source": [
    "sample_submission[\"Survived\"] = np.rint(sample_submission[\"Survived\"]).astype(int)\n",
    "sample_submission.to_csv(\"submission.csv\", index=False)\n",
    "sample_submission.head(8)"
   ]
  }
 ],
 "metadata": {
  "kernelspec": {
   "display_name": "Python 3",
   "language": "python",
   "name": "python3"
  },
  "language_info": {
   "codemirror_mode": {
    "name": "ipython",
    "version": 3
   },
   "file_extension": ".py",
   "mimetype": "text/x-python",
   "name": "python",
   "nbconvert_exporter": "python",
   "pygments_lexer": "ipython3",
   "version": "3.7.12"
  },
  "papermill": {
   "default_parameters": {},
   "duration": 53.517613,
   "end_time": "2022-07-27T16:14:09.733264",
   "environment_variables": {},
   "exception": null,
   "input_path": "__notebook__.ipynb",
   "output_path": "__notebook__.ipynb",
   "parameters": {},
   "start_time": "2022-07-27T16:13:16.215651",
   "version": "2.3.4"
  }
 },
 "nbformat": 4,
 "nbformat_minor": 5
}
