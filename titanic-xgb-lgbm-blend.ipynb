{
 "cells": [
  {
   "cell_type": "markdown",
   "id": "7f0b2a37",
   "metadata": {
    "papermill": {
     "duration": 0.026228,
     "end_time": "2022-07-27T22:07:20.303132",
     "exception": false,
     "start_time": "2022-07-27T22:07:20.276904",
     "status": "completed"
    },
    "tags": []
   },
   "source": [
    "<div style=\"background-color:rgba(255, 215, 0, 0.6);border-radius:5px;display:fill\">\n",
    "    <h1 style=\"text-align: center;padding: 12px 0px 12px 0px;\">🚢 Titanic: XGBoost + Optuna</h1>\n",
    "</div>\n",
    "<img src=\"https://www.seekpng.com/png/full/200-2002376_predicting-titanic-survivors-old-photos-of-the-titanic.png\" alt=\"Titanic\" width=\"300\"/>\n",
    "\n"
   ]
  },
  {
   "cell_type": "markdown",
   "id": "ddf8d10c",
   "metadata": {
    "papermill": {
     "duration": 0.024041,
     "end_time": "2022-07-27T22:07:20.351362",
     "exception": false,
     "start_time": "2022-07-27T22:07:20.327321",
     "status": "completed"
    },
    "tags": []
   },
   "source": [
    "# Understanding the Titanic Data\n",
    "\n",
    "## Target - What we want to predict\n",
    "\n",
    "For the Titantic dataset the target is:`Survived`\n",
    "\n",
    "## Features\n",
    "\n",
    "- `Pclass` - Ticket class (1st,2nd,3rd)\n",
    "- `Name` - Full name\n",
    "- `Sex` - Gender\n",
    "- `Age` - Passenger's age\n",
    "- `SibSp` - # of siblings / spouses aboard the Titanic\n",
    "- `Parch` - # of parents / children aboard the Titanic\n",
    "- `Ticket` - Ticket number\n",
    "- `Fare` - What the passenger paid for a ticket\n",
    "- `Cabin` - Cabin number\n",
    "- `Embarked` - C = Cherbourg, Q = Queenstown, S = Southampton\n",
    "\n",
    "## Evaluation Metric\n",
    "\n",
    "$Acurracy = \\frac{True Positives (TP) + True Negatives (TN)}{True Positives (TP) + True Negatives (TN) + False Positives(FP) + False Negatives(FN)}$\n",
    "\n",
    "- https://en.wikipedia.org/wiki/Accuracy_and_precision#In_binary_classification\n",
    "\n",
    "Percentage of passengers you correctly predict.  In other words, accurately predict who survived and who did not.\n",
    "\n",
    "- https://developers.google.com/machine-learning/crash-course/classification/accuracy\n",
    "\n"
   ]
  },
  {
   "cell_type": "code",
   "execution_count": 1,
   "id": "7f1282f6",
   "metadata": {
    "execution": {
     "iopub.execute_input": "2022-07-27T22:07:20.402402Z",
     "iopub.status.busy": "2022-07-27T22:07:20.401942Z",
     "iopub.status.idle": "2022-07-27T22:07:35.528572Z",
     "shell.execute_reply": "2022-07-27T22:07:35.527396Z"
    },
    "papermill": {
     "duration": 15.155822,
     "end_time": "2022-07-27T22:07:35.531492",
     "exception": false,
     "start_time": "2022-07-27T22:07:20.375670",
     "status": "completed"
    },
    "tags": []
   },
   "outputs": [
    {
     "name": "stdout",
     "output_type": "stream",
     "text": [
      "\u001b[33mWARNING: Running pip as the 'root' user can result in broken permissions and conflicting behaviour with the system package manager. It is recommended to use a virtual environment instead: https://pip.pypa.io/warnings/venv\u001b[0m\u001b[33m\r\n",
      "\u001b[0m"
     ]
    }
   ],
   "source": [
    "# Black formatter https://black.readthedocs.io/en/stable/\n",
    "\n",
    "! pip install nb-black > /dev/null\n",
    "\n",
    "%load_ext lab_black"
   ]
  },
  {
   "cell_type": "markdown",
   "id": "914714ce",
   "metadata": {
    "papermill": {
     "duration": 0.024063,
     "end_time": "2022-07-27T22:07:35.580242",
     "exception": false,
     "start_time": "2022-07-27T22:07:35.556179",
     "status": "completed"
    },
    "tags": []
   },
   "source": [
    "<div style=\"background-color:rgba(255, 215, 0, 0.6);border-radius:5px;display:fill\"><h1 style=\"text-align: center;padding: 12px 0px 12px 0px;\">Import Libraries</h1>\n",
    "</div>"
   ]
  },
  {
   "cell_type": "code",
   "execution_count": 2,
   "id": "b3562d6b",
   "metadata": {
    "execution": {
     "iopub.execute_input": "2022-07-27T22:07:35.632081Z",
     "iopub.status.busy": "2022-07-27T22:07:35.631592Z",
     "iopub.status.idle": "2022-07-27T22:07:38.396173Z",
     "shell.execute_reply": "2022-07-27T22:07:38.394839Z"
    },
    "papermill": {
     "duration": 2.793402,
     "end_time": "2022-07-27T22:07:38.398784",
     "exception": false,
     "start_time": "2022-07-27T22:07:35.605382",
     "status": "completed"
    },
    "tags": []
   },
   "outputs": [
    {
     "data": {
      "text/html": [
       "<style type='text/css'>\n",
       ".datatable table.frame { margin-bottom: 0; }\n",
       ".datatable table.frame thead { border-bottom: none; }\n",
       ".datatable table.frame tr.coltypes td {  color: #FFFFFF;  line-height: 6px;  padding: 0 0.5em;}\n",
       ".datatable .bool    { background: #DDDD99; }\n",
       ".datatable .object  { background: #565656; }\n",
       ".datatable .int     { background: #5D9E5D; }\n",
       ".datatable .float   { background: #4040CC; }\n",
       ".datatable .str     { background: #CC4040; }\n",
       ".datatable .time    { background: #40CC40; }\n",
       ".datatable .row_index {  background: var(--jp-border-color3);  border-right: 1px solid var(--jp-border-color0);  color: var(--jp-ui-font-color3);  font-size: 9px;}\n",
       ".datatable .frame tbody td { text-align: left; }\n",
       ".datatable .frame tr.coltypes .row_index {  background: var(--jp-border-color0);}\n",
       ".datatable th:nth-child(2) { padding-left: 12px; }\n",
       ".datatable .hellipsis {  color: var(--jp-cell-editor-border-color);}\n",
       ".datatable .vellipsis {  background: var(--jp-layout-color0);  color: var(--jp-cell-editor-border-color);}\n",
       ".datatable .na {  color: var(--jp-cell-editor-border-color);  font-size: 80%;}\n",
       ".datatable .sp {  opacity: 0.25;}\n",
       ".datatable .footer { font-size: 9px; }\n",
       ".datatable .frame_dimensions {  background: var(--jp-border-color3);  border-top: 1px solid var(--jp-border-color0);  color: var(--jp-ui-font-color3);  display: inline-block;  opacity: 0.6;  padding: 1px 10px 1px 5px;}\n",
       "</style>\n"
      ],
      "text/plain": [
       "<IPython.core.display.HTML object>"
      ]
     },
     "metadata": {},
     "output_type": "display_data"
    }
   ],
   "source": [
    "import os\n",
    "import time\n",
    "from pathlib import Path\n",
    "\n",
    "import pandas as pd\n",
    "import numpy as np\n",
    "\n",
    "from sklearn.model_selection import train_test_split\n",
    "from sklearn.impute import SimpleImputer\n",
    "from sklearn.model_selection import KFold, StratifiedKFold\n",
    "\n",
    "# from sklearn.metrics import accuracy_score, roc_auc_score\n",
    "from sklearn.metrics import classification_report, confusion_matrix\n",
    "\n",
    "import xgboost as xgb\n",
    "import catboost as cb\n",
    "import lightgbm as lgb\n",
    "\n",
    "# Visualization Libraries\n",
    "import matplotlib.pylab as plt\n",
    "import seaborn as sns\n",
    "\n",
    "%matplotlib inline\n",
    "\n",
    "from itertools import cycle\n",
    "\n",
    "plt.style.use(\"ggplot\")  # ggplot, fivethirtyeight\n",
    "color_pal = plt.rcParams[\"axes.prop_cycle\"].by_key()[\"color\"]\n",
    "color_cycle = cycle(plt.rcParams[\"axes.prop_cycle\"].by_key()[\"color\"])"
   ]
  },
  {
   "cell_type": "markdown",
   "id": "d99d68ee",
   "metadata": {
    "papermill": {
     "duration": 0.024416,
     "end_time": "2022-07-27T22:07:38.448468",
     "exception": false,
     "start_time": "2022-07-27T22:07:38.424052",
     "status": "completed"
    },
    "tags": []
   },
   "source": [
    "<div style=\"background-color:rgba(255, 215, 0, 0.6);border-radius:5px;display:fill\"><h1 style=\"text-align: center;padding: 12px 0px 12px 0px;\">Configuration</h1>\n",
    "</div>"
   ]
  },
  {
   "cell_type": "code",
   "execution_count": 3,
   "id": "be1dc95d",
   "metadata": {
    "execution": {
     "iopub.execute_input": "2022-07-27T22:07:38.500082Z",
     "iopub.status.busy": "2022-07-27T22:07:38.499353Z",
     "iopub.status.idle": "2022-07-27T22:07:38.514835Z",
     "shell.execute_reply": "2022-07-27T22:07:38.513924Z"
    },
    "papermill": {
     "duration": 0.044211,
     "end_time": "2022-07-27T22:07:38.517358",
     "exception": false,
     "start_time": "2022-07-27T22:07:38.473147",
     "status": "completed"
    },
    "tags": []
   },
   "outputs": [],
   "source": [
    "class Config:\n",
    "    path = \"../input/titanic\"\n",
    "    gpu = False\n",
    "    debug = False\n",
    "    optimize = False\n",
    "    model_type = \"tf\"  # (xgb, cat, lgbm, keras)\n",
    "    model_name = \"tf1\"\n",
    "    competition = \"titanic\"\n",
    "    calc_probability = True\n",
    "    seed = 42\n",
    "    N_ESTIMATORS = 100  # 100, 300, 2000, 5000 GBDT\n",
    "\n",
    "    batch_size = 64\n",
    "    epochs = 25\n",
    "    N_FOLDS = 5  # 5,10,15\n",
    "    SEED_LENGTH = 1  # 5,10"
   ]
  },
  {
   "cell_type": "markdown",
   "id": "c3033d0a",
   "metadata": {
    "papermill": {
     "duration": 0.024368,
     "end_time": "2022-07-27T22:07:38.567342",
     "exception": false,
     "start_time": "2022-07-27T22:07:38.542974",
     "status": "completed"
    },
    "tags": []
   },
   "source": [
    "### The target/dependent variable in the dataset"
   ]
  },
  {
   "cell_type": "code",
   "execution_count": 4,
   "id": "a6a3729d",
   "metadata": {
    "execution": {
     "iopub.execute_input": "2022-07-27T22:07:38.619183Z",
     "iopub.status.busy": "2022-07-27T22:07:38.618518Z",
     "iopub.status.idle": "2022-07-27T22:07:38.624453Z",
     "shell.execute_reply": "2022-07-27T22:07:38.623684Z"
    },
    "papermill": {
     "duration": 0.03419,
     "end_time": "2022-07-27T22:07:38.626540",
     "exception": false,
     "start_time": "2022-07-27T22:07:38.592350",
     "status": "completed"
    },
    "tags": []
   },
   "outputs": [],
   "source": [
    "# Did the passenger survive?\n",
    "# 0 = No, 1 = Yes\n",
    "TARGET = \"Survived\""
   ]
  },
  {
   "cell_type": "markdown",
   "id": "d7c111cf",
   "metadata": {
    "papermill": {
     "duration": 0.024154,
     "end_time": "2022-07-27T22:07:38.675390",
     "exception": false,
     "start_time": "2022-07-27T22:07:38.651236",
     "status": "completed"
    },
    "tags": []
   },
   "source": [
    "<div style=\"background-color:rgba(255, 215, 0, 0.6);border-radius:5px;display:fill\"><h1 style=\"text-align: center;padding: 12px 0px 12px 0px;\">Library</h1>\n",
    "</div>\n",
    "\n",
    "Creating a few functions that we will reuse in each project."
   ]
  },
  {
   "cell_type": "code",
   "execution_count": 5,
   "id": "bd1b032c",
   "metadata": {
    "execution": {
     "iopub.execute_input": "2022-07-27T22:07:38.726616Z",
     "iopub.status.busy": "2022-07-27T22:07:38.725966Z",
     "iopub.status.idle": "2022-07-27T22:07:38.740338Z",
     "shell.execute_reply": "2022-07-27T22:07:38.739272Z"
    },
    "papermill": {
     "duration": 0.042929,
     "end_time": "2022-07-27T22:07:38.742850",
     "exception": false,
     "start_time": "2022-07-27T22:07:38.699921",
     "status": "completed"
    },
    "tags": []
   },
   "outputs": [],
   "source": [
    "def read_data(path):\n",
    "    data_dir = Path(path)\n",
    "\n",
    "    train = pd.read_csv(data_dir / \"train.csv\")\n",
    "    test = pd.read_csv(data_dir / \"test.csv\")\n",
    "    submission_df = pd.read_csv(data_dir / \"gender_submission.csv\")\n",
    "\n",
    "    print(f\"train data: Rows={train.shape[0]}, Columns={train.shape[1]}\")\n",
    "    print(f\"test data : Rows={test.shape[0]}, Columns={test.shape[1]}\")\n",
    "    return train, test, submission_df"
   ]
  },
  {
   "cell_type": "code",
   "execution_count": 6,
   "id": "25b379de",
   "metadata": {
    "execution": {
     "iopub.execute_input": "2022-07-27T22:07:38.794897Z",
     "iopub.status.busy": "2022-07-27T22:07:38.794489Z",
     "iopub.status.idle": "2022-07-27T22:07:38.806831Z",
     "shell.execute_reply": "2022-07-27T22:07:38.805533Z"
    },
    "papermill": {
     "duration": 0.041444,
     "end_time": "2022-07-27T22:07:38.809061",
     "exception": false,
     "start_time": "2022-07-27T22:07:38.767617",
     "status": "completed"
    },
    "tags": []
   },
   "outputs": [],
   "source": [
    "def create_submission(model_name, target, preds):\n",
    "    sample_submission[target] = preds\n",
    "\n",
    "    if len(model_name) > 0:\n",
    "        fname = \"submission_{model_name}.csv\"\n",
    "    else:\n",
    "        fname = \"submission.csv\"\n",
    "\n",
    "    sample_submission.to_csv(fname, index=False)\n",
    "\n",
    "    return sample_submission"
   ]
  },
  {
   "cell_type": "code",
   "execution_count": 7,
   "id": "339df48e",
   "metadata": {
    "execution": {
     "iopub.execute_input": "2022-07-27T22:07:38.861397Z",
     "iopub.status.busy": "2022-07-27T22:07:38.860733Z",
     "iopub.status.idle": "2022-07-27T22:07:38.877400Z",
     "shell.execute_reply": "2022-07-27T22:07:38.876218Z"
    },
    "papermill": {
     "duration": 0.046277,
     "end_time": "2022-07-27T22:07:38.879998",
     "exception": false,
     "start_time": "2022-07-27T22:07:38.833721",
     "status": "completed"
    },
    "tags": []
   },
   "outputs": [],
   "source": [
    "from sklearn.metrics import (\n",
    "    accuracy_score,\n",
    "    precision_score,\n",
    "    recall_score,\n",
    "    f1_score,\n",
    "    roc_auc_score,\n",
    ")\n",
    "\n",
    "\n",
    "def show_scores(gt, yhat):\n",
    "    accuracy = accuracy_score(gt, yhat)\n",
    "    precision = precision_score(gt, yhat)\n",
    "    recall = recall_score(gt, yhat)\n",
    "    f1 = f1_score(gt, yhat)\n",
    "\n",
    "    print(f\"Accuracy: {accuracy:.4f}\")\n",
    "    print(f\"Precision: {precision:.4f}\")\n",
    "    print(f\"Recall: {recall:.4f}\")\n",
    "    print(f\"f1: {f1:.4f}\")"
   ]
  },
  {
   "cell_type": "code",
   "execution_count": 8,
   "id": "79cc7c85",
   "metadata": {
    "execution": {
     "iopub.execute_input": "2022-07-27T22:07:38.932226Z",
     "iopub.status.busy": "2022-07-27T22:07:38.931559Z",
     "iopub.status.idle": "2022-07-27T22:07:38.947423Z",
     "shell.execute_reply": "2022-07-27T22:07:38.946434Z"
    },
    "papermill": {
     "duration": 0.044567,
     "end_time": "2022-07-27T22:07:38.949923",
     "exception": false,
     "start_time": "2022-07-27T22:07:38.905356",
     "status": "completed"
    },
    "tags": []
   },
   "outputs": [],
   "source": [
    "from sklearn.preprocessing import LabelEncoder\n",
    "\n",
    "\n",
    "def label_encoder(train, test, columns):\n",
    "    for col in columns:\n",
    "        train[col] = train[col].astype(str)\n",
    "        test[col] = test[col].astype(str)\n",
    "        train[col] = LabelEncoder().fit_transform(train[col])\n",
    "        test[col] = LabelEncoder().fit_transform(test[col])\n",
    "    return train, test"
   ]
  },
  {
   "cell_type": "code",
   "execution_count": 9,
   "id": "23db494f",
   "metadata": {
    "execution": {
     "iopub.execute_input": "2022-07-27T22:07:39.001618Z",
     "iopub.status.busy": "2022-07-27T22:07:39.000750Z",
     "iopub.status.idle": "2022-07-27T22:07:39.017181Z",
     "shell.execute_reply": "2022-07-27T22:07:39.015962Z"
    },
    "papermill": {
     "duration": 0.045183,
     "end_time": "2022-07-27T22:07:39.019785",
     "exception": false,
     "start_time": "2022-07-27T22:07:38.974602",
     "status": "completed"
    },
    "tags": []
   },
   "outputs": [],
   "source": [
    "from sklearn.preprocessing import OneHotEncoder\n",
    "\n",
    "\n",
    "def one_hot_encoder(train, test, columns):\n",
    "    for col in columns:\n",
    "        train[col] = train[col].astype(str)\n",
    "        test[col] = test[col].astype(str)\n",
    "        train[col] = OneHotEncoder().fit_transform(train[col])\n",
    "        test[col] = OneHotEncoder().fit_transform(test[col])\n",
    "    return train, test"
   ]
  },
  {
   "cell_type": "code",
   "execution_count": 10,
   "id": "ba79a8bf",
   "metadata": {
    "execution": {
     "iopub.execute_input": "2022-07-27T22:07:39.073040Z",
     "iopub.status.busy": "2022-07-27T22:07:39.072372Z",
     "iopub.status.idle": "2022-07-27T22:07:39.081330Z",
     "shell.execute_reply": "2022-07-27T22:07:39.080391Z"
    },
    "papermill": {
     "duration": 0.03798,
     "end_time": "2022-07-27T22:07:39.083994",
     "exception": false,
     "start_time": "2022-07-27T22:07:39.046014",
     "status": "completed"
    },
    "tags": []
   },
   "outputs": [],
   "source": [
    "def show_missing_features(df):\n",
    "    missing_vals = df.isna().sum()\n",
    "    print(missing_vals[missing_vals > 0])"
   ]
  },
  {
   "cell_type": "code",
   "execution_count": 11,
   "id": "b8faf011",
   "metadata": {
    "execution": {
     "iopub.execute_input": "2022-07-27T22:07:39.135858Z",
     "iopub.status.busy": "2022-07-27T22:07:39.135430Z",
     "iopub.status.idle": "2022-07-27T22:07:39.152548Z",
     "shell.execute_reply": "2022-07-27T22:07:39.151380Z"
    },
    "papermill": {
     "duration": 0.046003,
     "end_time": "2022-07-27T22:07:39.155204",
     "exception": false,
     "start_time": "2022-07-27T22:07:39.109201",
     "status": "completed"
    },
    "tags": []
   },
   "outputs": [],
   "source": [
    "def create_folds(df, TARGET, n_folds=5, seed=42):\n",
    "    print(f\"TARGET={TARGET}, n_folds={n_folds}, seed={seed}\")\n",
    "    df[\"fold\"] = -1\n",
    "\n",
    "    kf = StratifiedKFold(n_splits=n_folds, shuffle=True, random_state=seed)\n",
    "    # kf = GroupKFold(n_splits=Config.N_FOLDS)\n",
    "\n",
    "    for fold, (train_idx, valid_idx) in enumerate(kf.split(df, df[TARGET])):\n",
    "        df.loc[valid_idx, \"fold\"] = fold\n",
    "\n",
    "    # df.to_csv(f\"train_fold{num_folds}.csv\", index=False)\n",
    "    return df"
   ]
  },
  {
   "cell_type": "code",
   "execution_count": 12,
   "id": "fbef2e34",
   "metadata": {
    "execution": {
     "iopub.execute_input": "2022-07-27T22:07:39.206125Z",
     "iopub.status.busy": "2022-07-27T22:07:39.205669Z",
     "iopub.status.idle": "2022-07-27T22:07:39.215294Z",
     "shell.execute_reply": "2022-07-27T22:07:39.214057Z"
    },
    "papermill": {
     "duration": 0.037686,
     "end_time": "2022-07-27T22:07:39.217535",
     "exception": false,
     "start_time": "2022-07-27T22:07:39.179849",
     "status": "completed"
    },
    "tags": []
   },
   "outputs": [],
   "source": [
    "def show_fold_scores(scores):\n",
    "    cv_score = np.mean(scores)  # Used in filename\n",
    "    print(\n",
    "        f\"Scores -> Adjusted: {np.mean(scores) - np.std(scores):.8f} , mean: {np.mean(scores):.8f}, std: {np.std(scores):.8f}\"\n",
    "    )"
   ]
  },
  {
   "cell_type": "code",
   "execution_count": 13,
   "id": "7fbb1a5a",
   "metadata": {
    "execution": {
     "iopub.execute_input": "2022-07-27T22:07:39.268623Z",
     "iopub.status.busy": "2022-07-27T22:07:39.268236Z",
     "iopub.status.idle": "2022-07-27T22:07:39.275663Z",
     "shell.execute_reply": "2022-07-27T22:07:39.274848Z"
    },
    "papermill": {
     "duration": 0.035493,
     "end_time": "2022-07-27T22:07:39.277745",
     "exception": false,
     "start_time": "2022-07-27T22:07:39.242252",
     "status": "completed"
    },
    "tags": []
   },
   "outputs": [],
   "source": [
    "# Save OOF Results\n",
    "if not os.path.exists(\"results\"):\n",
    "    os.makedirs(\"results\")"
   ]
  },
  {
   "cell_type": "markdown",
   "id": "67829c2f",
   "metadata": {
    "papermill": {
     "duration": 0.024548,
     "end_time": "2022-07-27T22:07:39.327064",
     "exception": false,
     "start_time": "2022-07-27T22:07:39.302516",
     "status": "completed"
    },
    "tags": []
   },
   "source": [
    "<div style=\"background-color:rgba(255, 215, 0, 0.6);border-radius:5px;display:fill\"><h1 style=\"text-align: center;padding: 12px 0px 12px 0px;\">Load Train/Test Data</h1>\n",
    "</div>\n",
    "\n",
    "## Load the following files\n",
    "\n",
    " - train.csv - Data used to build our machine learning model\n",
    " - test.csv - Data used to build our machine learning model. Does not contain the `Suvived` target variable\n",
    " - gender_submission.csv - A file in the proper format to submit test predictions"
   ]
  },
  {
   "cell_type": "code",
   "execution_count": 14,
   "id": "56bafa1a",
   "metadata": {
    "execution": {
     "iopub.execute_input": "2022-07-27T22:07:39.378648Z",
     "iopub.status.busy": "2022-07-27T22:07:39.378073Z",
     "iopub.status.idle": "2022-07-27T22:07:39.418567Z",
     "shell.execute_reply": "2022-07-27T22:07:39.417149Z"
    },
    "papermill": {
     "duration": 0.069551,
     "end_time": "2022-07-27T22:07:39.421283",
     "exception": false,
     "start_time": "2022-07-27T22:07:39.351732",
     "status": "completed"
    },
    "tags": []
   },
   "outputs": [
    {
     "name": "stdout",
     "output_type": "stream",
     "text": [
      "train data: Rows=891, Columns=12\n",
      "test data : Rows=418, Columns=11\n"
     ]
    }
   ],
   "source": [
    "train, test, sample_submission = read_data(Config.path)"
   ]
  },
  {
   "cell_type": "code",
   "execution_count": 15,
   "id": "ed093354",
   "metadata": {
    "execution": {
     "iopub.execute_input": "2022-07-27T22:07:39.473576Z",
     "iopub.status.busy": "2022-07-27T22:07:39.472638Z",
     "iopub.status.idle": "2022-07-27T22:07:39.499073Z",
     "shell.execute_reply": "2022-07-27T22:07:39.497885Z"
    },
    "papermill": {
     "duration": 0.054891,
     "end_time": "2022-07-27T22:07:39.501490",
     "exception": false,
     "start_time": "2022-07-27T22:07:39.446599",
     "status": "completed"
    },
    "tags": []
   },
   "outputs": [
    {
     "data": {
      "text/html": [
       "<div>\n",
       "<style scoped>\n",
       "    .dataframe tbody tr th:only-of-type {\n",
       "        vertical-align: middle;\n",
       "    }\n",
       "\n",
       "    .dataframe tbody tr th {\n",
       "        vertical-align: top;\n",
       "    }\n",
       "\n",
       "    .dataframe thead th {\n",
       "        text-align: right;\n",
       "    }\n",
       "</style>\n",
       "<table border=\"1\" class=\"dataframe\">\n",
       "  <thead>\n",
       "    <tr style=\"text-align: right;\">\n",
       "      <th></th>\n",
       "      <th>PassengerId</th>\n",
       "      <th>Survived</th>\n",
       "      <th>Pclass</th>\n",
       "      <th>Name</th>\n",
       "      <th>Sex</th>\n",
       "      <th>Age</th>\n",
       "      <th>SibSp</th>\n",
       "      <th>Parch</th>\n",
       "      <th>Ticket</th>\n",
       "      <th>Fare</th>\n",
       "      <th>Cabin</th>\n",
       "      <th>Embarked</th>\n",
       "    </tr>\n",
       "  </thead>\n",
       "  <tbody>\n",
       "    <tr>\n",
       "      <th>0</th>\n",
       "      <td>1</td>\n",
       "      <td>0</td>\n",
       "      <td>3</td>\n",
       "      <td>Braund, Mr. Owen Harris</td>\n",
       "      <td>male</td>\n",
       "      <td>22.0</td>\n",
       "      <td>1</td>\n",
       "      <td>0</td>\n",
       "      <td>A/5 21171</td>\n",
       "      <td>7.2500</td>\n",
       "      <td>NaN</td>\n",
       "      <td>S</td>\n",
       "    </tr>\n",
       "    <tr>\n",
       "      <th>1</th>\n",
       "      <td>2</td>\n",
       "      <td>1</td>\n",
       "      <td>1</td>\n",
       "      <td>Cumings, Mrs. John Bradley (Florence Briggs Th...</td>\n",
       "      <td>female</td>\n",
       "      <td>38.0</td>\n",
       "      <td>1</td>\n",
       "      <td>0</td>\n",
       "      <td>PC 17599</td>\n",
       "      <td>71.2833</td>\n",
       "      <td>C85</td>\n",
       "      <td>C</td>\n",
       "    </tr>\n",
       "    <tr>\n",
       "      <th>2</th>\n",
       "      <td>3</td>\n",
       "      <td>1</td>\n",
       "      <td>3</td>\n",
       "      <td>Heikkinen, Miss. Laina</td>\n",
       "      <td>female</td>\n",
       "      <td>26.0</td>\n",
       "      <td>0</td>\n",
       "      <td>0</td>\n",
       "      <td>STON/O2. 3101282</td>\n",
       "      <td>7.9250</td>\n",
       "      <td>NaN</td>\n",
       "      <td>S</td>\n",
       "    </tr>\n",
       "    <tr>\n",
       "      <th>3</th>\n",
       "      <td>4</td>\n",
       "      <td>1</td>\n",
       "      <td>1</td>\n",
       "      <td>Futrelle, Mrs. Jacques Heath (Lily May Peel)</td>\n",
       "      <td>female</td>\n",
       "      <td>35.0</td>\n",
       "      <td>1</td>\n",
       "      <td>0</td>\n",
       "      <td>113803</td>\n",
       "      <td>53.1000</td>\n",
       "      <td>C123</td>\n",
       "      <td>S</td>\n",
       "    </tr>\n",
       "    <tr>\n",
       "      <th>4</th>\n",
       "      <td>5</td>\n",
       "      <td>0</td>\n",
       "      <td>3</td>\n",
       "      <td>Allen, Mr. William Henry</td>\n",
       "      <td>male</td>\n",
       "      <td>35.0</td>\n",
       "      <td>0</td>\n",
       "      <td>0</td>\n",
       "      <td>373450</td>\n",
       "      <td>8.0500</td>\n",
       "      <td>NaN</td>\n",
       "      <td>S</td>\n",
       "    </tr>\n",
       "  </tbody>\n",
       "</table>\n",
       "</div>"
      ],
      "text/plain": [
       "   PassengerId  Survived  Pclass  \\\n",
       "0            1         0       3   \n",
       "1            2         1       1   \n",
       "2            3         1       3   \n",
       "3            4         1       1   \n",
       "4            5         0       3   \n",
       "\n",
       "                                                Name     Sex   Age  SibSp  \\\n",
       "0                            Braund, Mr. Owen Harris    male  22.0      1   \n",
       "1  Cumings, Mrs. John Bradley (Florence Briggs Th...  female  38.0      1   \n",
       "2                             Heikkinen, Miss. Laina  female  26.0      0   \n",
       "3       Futrelle, Mrs. Jacques Heath (Lily May Peel)  female  35.0      1   \n",
       "4                           Allen, Mr. William Henry    male  35.0      0   \n",
       "\n",
       "   Parch            Ticket     Fare Cabin Embarked  \n",
       "0      0         A/5 21171   7.2500   NaN        S  \n",
       "1      0          PC 17599  71.2833   C85        C  \n",
       "2      0  STON/O2. 3101282   7.9250   NaN        S  \n",
       "3      0            113803  53.1000  C123        S  \n",
       "4      0            373450   8.0500   NaN        S  "
      ]
     },
     "execution_count": 15,
     "metadata": {},
     "output_type": "execute_result"
    }
   ],
   "source": [
    "train.head()"
   ]
  },
  {
   "cell_type": "code",
   "execution_count": 16,
   "id": "114dae8b",
   "metadata": {
    "execution": {
     "iopub.execute_input": "2022-07-27T22:07:39.553863Z",
     "iopub.status.busy": "2022-07-27T22:07:39.553463Z",
     "iopub.status.idle": "2022-07-27T22:07:39.561354Z",
     "shell.execute_reply": "2022-07-27T22:07:39.560572Z"
    },
    "papermill": {
     "duration": 0.036947,
     "end_time": "2022-07-27T22:07:39.563352",
     "exception": false,
     "start_time": "2022-07-27T22:07:39.526405",
     "status": "completed"
    },
    "tags": []
   },
   "outputs": [
    {
     "data": {
      "text/plain": [
       "Index(['PassengerId', 'Survived', 'Pclass', 'Name', 'Sex', 'Age', 'SibSp',\n",
       "       'Parch', 'Ticket', 'Fare', 'Cabin', 'Embarked'],\n",
       "      dtype='object')"
      ]
     },
     "execution_count": 16,
     "metadata": {},
     "output_type": "execute_result"
    }
   ],
   "source": [
    "train.columns"
   ]
  },
  {
   "cell_type": "code",
   "execution_count": 17,
   "id": "13658d59",
   "metadata": {
    "execution": {
     "iopub.execute_input": "2022-07-27T22:07:39.615963Z",
     "iopub.status.busy": "2022-07-27T22:07:39.615530Z",
     "iopub.status.idle": "2022-07-27T22:07:39.631310Z",
     "shell.execute_reply": "2022-07-27T22:07:39.630068Z"
    },
    "papermill": {
     "duration": 0.04571,
     "end_time": "2022-07-27T22:07:39.634470",
     "exception": false,
     "start_time": "2022-07-27T22:07:39.588760",
     "status": "completed"
    },
    "tags": []
   },
   "outputs": [],
   "source": [
    "train = train.drop(columns=[\"Name\", \"Ticket\", \"Cabin\"], axis=1).copy()\n",
    "# test = test.drop(columns=[\"PassengerId\"], axis=1).copy()"
   ]
  },
  {
   "cell_type": "markdown",
   "id": "6c94ea0b",
   "metadata": {
    "papermill": {
     "duration": 0.025927,
     "end_time": "2022-07-27T22:07:39.686105",
     "exception": false,
     "start_time": "2022-07-27T22:07:39.660178",
     "status": "completed"
    },
    "tags": []
   },
   "source": [
    "## Categorical/Numerical Variables"
   ]
  },
  {
   "cell_type": "code",
   "execution_count": 18,
   "id": "6e73436e",
   "metadata": {
    "execution": {
     "iopub.execute_input": "2022-07-27T22:07:39.738841Z",
     "iopub.status.busy": "2022-07-27T22:07:39.738127Z",
     "iopub.status.idle": "2022-07-27T22:07:39.760880Z",
     "shell.execute_reply": "2022-07-27T22:07:39.759898Z"
    },
    "papermill": {
     "duration": 0.051804,
     "end_time": "2022-07-27T22:07:39.763269",
     "exception": false,
     "start_time": "2022-07-27T22:07:39.711465",
     "status": "completed"
    },
    "tags": []
   },
   "outputs": [
    {
     "data": {
      "text/plain": [
       "['Sex', 'Embarked', 'Pclass', 'Age', 'SibSp', 'Parch', 'Fare']"
      ]
     },
     "execution_count": 18,
     "metadata": {},
     "output_type": "execute_result"
    }
   ],
   "source": [
    "## Separate Categorical and Numerical Features\n",
    "cat_features = list(train.select_dtypes(include=[\"category\", \"object\"]).columns)\n",
    "num_features = list(test.select_dtypes(include=[\"number\"]).columns)\n",
    "num_features.remove(\"PassengerId\")\n",
    "\n",
    "FEATURES = cat_features + num_features\n",
    "FEATURES"
   ]
  },
  {
   "cell_type": "code",
   "execution_count": 19,
   "id": "02c8551c",
   "metadata": {
    "execution": {
     "iopub.execute_input": "2022-07-27T22:07:39.816134Z",
     "iopub.status.busy": "2022-07-27T22:07:39.815403Z",
     "iopub.status.idle": "2022-07-27T22:07:39.849345Z",
     "shell.execute_reply": "2022-07-27T22:07:39.848330Z"
    },
    "papermill": {
     "duration": 0.062972,
     "end_time": "2022-07-27T22:07:39.851834",
     "exception": false,
     "start_time": "2022-07-27T22:07:39.788862",
     "status": "completed"
    },
    "tags": []
   },
   "outputs": [],
   "source": [
    "from sklearn.impute import SimpleImputer\n",
    "\n",
    "# Categorical\n",
    "imputer = SimpleImputer(strategy=\"most_frequent\")\n",
    "\n",
    "train[cat_features] = imputer.fit_transform(train[cat_features])\n",
    "test[cat_features] = imputer.transform(test[cat_features])\n",
    "\n",
    "# Numerical\n",
    "\n",
    "# imputer = SimpleImputer(strategy=\"mean\")\n",
    "imputer = SimpleImputer(strategy=\"median\")  # median is more robust to outliers\n",
    "\n",
    "train[num_features] = imputer.fit_transform(train[num_features])\n",
    "test[num_features] = imputer.transform(test[num_features])"
   ]
  },
  {
   "cell_type": "markdown",
   "id": "4756d3bb",
   "metadata": {
    "papermill": {
     "duration": 0.025187,
     "end_time": "2022-07-27T22:07:39.903149",
     "exception": false,
     "start_time": "2022-07-27T22:07:39.877962",
     "status": "completed"
    },
    "tags": []
   },
   "source": [
    "<div style=\"background-color:rgba(255, 215, 0, 0.6);border-radius:5px;display:fill\"><h1 style=\"text-align: center;padding: 12px 0px 12px 0px;\">Feature Engineering</h1>\n",
    "</div>\n",
    "\n",
    "- [Titanic - Advanced Feature Engineering Tutorial](https://www.kaggle.com/gunesevitan/titanic-advanced-feature-engineering-tutorial)\n",
    "- [Titanic Survival Predictions (Beginner)](https://www.kaggle.com/nadintamer/titanic-survival-predictions-beginner)\n",
    "- [Exploring Survival on the Titanic](https://www.kaggle.com/mrisdal/exploring-survival-on-the-titanic)"
   ]
  },
  {
   "cell_type": "code",
   "execution_count": 20,
   "id": "34a1f163",
   "metadata": {
    "execution": {
     "iopub.execute_input": "2022-07-27T22:07:39.957734Z",
     "iopub.status.busy": "2022-07-27T22:07:39.957054Z",
     "iopub.status.idle": "2022-07-27T22:07:39.961648Z",
     "shell.execute_reply": "2022-07-27T22:07:39.960759Z"
    },
    "papermill": {
     "duration": 0.034472,
     "end_time": "2022-07-27T22:07:39.964125",
     "exception": false,
     "start_time": "2022-07-27T22:07:39.929653",
     "status": "completed"
    },
    "tags": []
   },
   "outputs": [],
   "source": [
    "# FEATURES = [\"Pclass\", \"Sex\", \"Age\", \"SibSp\", \"Parch\", \"Embarked\"]"
   ]
  },
  {
   "cell_type": "code",
   "execution_count": 21,
   "id": "cc73e221",
   "metadata": {
    "execution": {
     "iopub.execute_input": "2022-07-27T22:07:40.019449Z",
     "iopub.status.busy": "2022-07-27T22:07:40.018752Z",
     "iopub.status.idle": "2022-07-27T22:07:40.037024Z",
     "shell.execute_reply": "2022-07-27T22:07:40.036073Z"
    },
    "papermill": {
     "duration": 0.048801,
     "end_time": "2022-07-27T22:07:40.039440",
     "exception": false,
     "start_time": "2022-07-27T22:07:39.990639",
     "status": "completed"
    },
    "tags": []
   },
   "outputs": [
    {
     "data": {
      "text/html": [
       "<div>\n",
       "<style scoped>\n",
       "    .dataframe tbody tr th:only-of-type {\n",
       "        vertical-align: middle;\n",
       "    }\n",
       "\n",
       "    .dataframe tbody tr th {\n",
       "        vertical-align: top;\n",
       "    }\n",
       "\n",
       "    .dataframe thead th {\n",
       "        text-align: right;\n",
       "    }\n",
       "</style>\n",
       "<table border=\"1\" class=\"dataframe\">\n",
       "  <thead>\n",
       "    <tr style=\"text-align: right;\">\n",
       "      <th></th>\n",
       "      <th>Sex</th>\n",
       "      <th>Embarked</th>\n",
       "      <th>Pclass</th>\n",
       "      <th>Age</th>\n",
       "      <th>SibSp</th>\n",
       "      <th>Parch</th>\n",
       "      <th>Fare</th>\n",
       "    </tr>\n",
       "  </thead>\n",
       "  <tbody>\n",
       "    <tr>\n",
       "      <th>0</th>\n",
       "      <td>male</td>\n",
       "      <td>S</td>\n",
       "      <td>3.0</td>\n",
       "      <td>22.0</td>\n",
       "      <td>1.0</td>\n",
       "      <td>0.0</td>\n",
       "      <td>7.2500</td>\n",
       "    </tr>\n",
       "    <tr>\n",
       "      <th>1</th>\n",
       "      <td>female</td>\n",
       "      <td>C</td>\n",
       "      <td>1.0</td>\n",
       "      <td>38.0</td>\n",
       "      <td>1.0</td>\n",
       "      <td>0.0</td>\n",
       "      <td>71.2833</td>\n",
       "    </tr>\n",
       "    <tr>\n",
       "      <th>2</th>\n",
       "      <td>female</td>\n",
       "      <td>S</td>\n",
       "      <td>3.0</td>\n",
       "      <td>26.0</td>\n",
       "      <td>0.0</td>\n",
       "      <td>0.0</td>\n",
       "      <td>7.9250</td>\n",
       "    </tr>\n",
       "    <tr>\n",
       "      <th>3</th>\n",
       "      <td>female</td>\n",
       "      <td>S</td>\n",
       "      <td>1.0</td>\n",
       "      <td>35.0</td>\n",
       "      <td>1.0</td>\n",
       "      <td>0.0</td>\n",
       "      <td>53.1000</td>\n",
       "    </tr>\n",
       "    <tr>\n",
       "      <th>4</th>\n",
       "      <td>male</td>\n",
       "      <td>S</td>\n",
       "      <td>3.0</td>\n",
       "      <td>35.0</td>\n",
       "      <td>0.0</td>\n",
       "      <td>0.0</td>\n",
       "      <td>8.0500</td>\n",
       "    </tr>\n",
       "  </tbody>\n",
       "</table>\n",
       "</div>"
      ],
      "text/plain": [
       "      Sex Embarked  Pclass   Age  SibSp  Parch     Fare\n",
       "0    male        S     3.0  22.0    1.0    0.0   7.2500\n",
       "1  female        C     1.0  38.0    1.0    0.0  71.2833\n",
       "2  female        S     3.0  26.0    0.0    0.0   7.9250\n",
       "3  female        S     1.0  35.0    1.0    0.0  53.1000\n",
       "4    male        S     3.0  35.0    0.0    0.0   8.0500"
      ]
     },
     "execution_count": 21,
     "metadata": {},
     "output_type": "execute_result"
    }
   ],
   "source": [
    "train[FEATURES].head()"
   ]
  },
  {
   "cell_type": "markdown",
   "id": "00bbc429",
   "metadata": {
    "papermill": {
     "duration": 0.025574,
     "end_time": "2022-07-27T22:07:40.090626",
     "exception": false,
     "start_time": "2022-07-27T22:07:40.065052",
     "status": "completed"
    },
    "tags": []
   },
   "source": [
    "# Extract Target and Drop Unused Columns"
   ]
  },
  {
   "cell_type": "code",
   "execution_count": 22,
   "id": "ea5ba951",
   "metadata": {
    "execution": {
     "iopub.execute_input": "2022-07-27T22:07:40.144067Z",
     "iopub.status.busy": "2022-07-27T22:07:40.142636Z",
     "iopub.status.idle": "2022-07-27T22:07:40.148845Z",
     "shell.execute_reply": "2022-07-27T22:07:40.147608Z"
    },
    "papermill": {
     "duration": 0.035696,
     "end_time": "2022-07-27T22:07:40.151615",
     "exception": false,
     "start_time": "2022-07-27T22:07:40.115919",
     "status": "completed"
    },
    "tags": []
   },
   "outputs": [],
   "source": [
    "# y = train[TARGET]\n",
    "\n",
    "# X = train_df.drop(columns=[\"PassengerId\", \"Survived\"], axis=1).copy()\n",
    "# X = train[FEATURES].copy()"
   ]
  },
  {
   "cell_type": "markdown",
   "id": "0dcba256",
   "metadata": {
    "papermill": {
     "duration": 0.025594,
     "end_time": "2022-07-27T22:07:40.202700",
     "exception": false,
     "start_time": "2022-07-27T22:07:40.177106",
     "status": "completed"
    },
    "tags": []
   },
   "source": [
    "<div style=\"background-color:rgba(255, 215, 0, 0.6);border-radius:5px;display:fill\"><h1 style=\"text-align: center;padding: 12px 0px 12px 0px;\">Missing Values</h1>\n",
    "</div>\n",
    "\n",
    "We have 891 rows of training data. Age is the only feature, that we are using, with missing data.\n",
    "\n",
    "Note, handling missing data is an entire subject that should be studied in detail.  Kaggle offers a [course](https://www.kaggle.com/learn/data-cleaning)\n",
    "\n",
    "- [sklearn.impute.SimpleImputer](https://scikit-learn.org/stable/modules/impute.html)\n",
    "- https://scikit-learn.org/stable/modules/impute.html\n",
    "\n",
    "- [A Guide to Handling Missing values in Python](https://www.kaggle.com/parulpandey/a-guide-to-handling-missing-values-in-python)"
   ]
  },
  {
   "cell_type": "code",
   "execution_count": 23,
   "id": "cb9db394",
   "metadata": {
    "execution": {
     "iopub.execute_input": "2022-07-27T22:07:40.255457Z",
     "iopub.status.busy": "2022-07-27T22:07:40.255036Z",
     "iopub.status.idle": "2022-07-27T22:07:40.264724Z",
     "shell.execute_reply": "2022-07-27T22:07:40.262997Z"
    },
    "papermill": {
     "duration": 0.038882,
     "end_time": "2022-07-27T22:07:40.267164",
     "exception": false,
     "start_time": "2022-07-27T22:07:40.228282",
     "status": "completed"
    },
    "tags": []
   },
   "outputs": [
    {
     "name": "stdout",
     "output_type": "stream",
     "text": [
      "Series([], dtype: int64)\n"
     ]
    }
   ],
   "source": [
    "show_missing_features(train)"
   ]
  },
  {
   "cell_type": "code",
   "execution_count": 24,
   "id": "78d2ad68",
   "metadata": {
    "execution": {
     "iopub.execute_input": "2022-07-27T22:07:40.321162Z",
     "iopub.status.busy": "2022-07-27T22:07:40.320047Z",
     "iopub.status.idle": "2022-07-27T22:07:40.329498Z",
     "shell.execute_reply": "2022-07-27T22:07:40.328173Z"
    },
    "papermill": {
     "duration": 0.038852,
     "end_time": "2022-07-27T22:07:40.331986",
     "exception": false,
     "start_time": "2022-07-27T22:07:40.293134",
     "status": "completed"
    },
    "tags": []
   },
   "outputs": [
    {
     "name": "stdout",
     "output_type": "stream",
     "text": [
      "Number missing: 0\n"
     ]
    }
   ],
   "source": [
    "n = train[\"Age\"].isna().sum()\n",
    "print(f\"Number missing: {n}\")"
   ]
  },
  {
   "cell_type": "markdown",
   "id": "4b3ff393",
   "metadata": {
    "papermill": {
     "duration": 0.025382,
     "end_time": "2022-07-27T22:07:40.382970",
     "exception": false,
     "start_time": "2022-07-27T22:07:40.357588",
     "status": "completed"
    },
    "tags": []
   },
   "source": [
    "### Manual Imputation of Age"
   ]
  },
  {
   "cell_type": "code",
   "execution_count": 25,
   "id": "4315950e",
   "metadata": {
    "execution": {
     "iopub.execute_input": "2022-07-27T22:07:40.436427Z",
     "iopub.status.busy": "2022-07-27T22:07:40.436008Z",
     "iopub.status.idle": "2022-07-27T22:07:40.446161Z",
     "shell.execute_reply": "2022-07-27T22:07:40.444363Z"
    },
    "papermill": {
     "duration": 0.040069,
     "end_time": "2022-07-27T22:07:40.448585",
     "exception": false,
     "start_time": "2022-07-27T22:07:40.408516",
     "status": "completed"
    },
    "tags": []
   },
   "outputs": [
    {
     "name": "stdout",
     "output_type": "stream",
     "text": [
      "Mean age of person on the Titanic: 29.36\n"
     ]
    }
   ],
   "source": [
    "# train_df[\"Age\"].fillna(train_df[\"Age\"].mean(), inplace = True)\n",
    "m = train[\"Age\"].mean()\n",
    "print(f\"Mean age of person on the Titanic: {m:0.2f}\")"
   ]
  },
  {
   "cell_type": "code",
   "execution_count": 26,
   "id": "dcc9c73f",
   "metadata": {
    "execution": {
     "iopub.execute_input": "2022-07-27T22:07:40.503209Z",
     "iopub.status.busy": "2022-07-27T22:07:40.502481Z",
     "iopub.status.idle": "2022-07-27T22:07:40.516313Z",
     "shell.execute_reply": "2022-07-27T22:07:40.515453Z"
    },
    "papermill": {
     "duration": 0.044155,
     "end_time": "2022-07-27T22:07:40.518726",
     "exception": false,
     "start_time": "2022-07-27T22:07:40.474571",
     "status": "completed"
    },
    "tags": []
   },
   "outputs": [],
   "source": [
    "train[\"Age\"].fillna(train[\"Age\"].median(skipna=True), inplace=True)\n",
    "train[\"Embarked\"].fillna(train[\"Embarked\"].value_counts().idxmax(), inplace=True)"
   ]
  },
  {
   "cell_type": "markdown",
   "id": "0b302c61",
   "metadata": {
    "papermill": {
     "duration": 0.025504,
     "end_time": "2022-07-27T22:07:40.569785",
     "exception": false,
     "start_time": "2022-07-27T22:07:40.544281",
     "status": "completed"
    },
    "tags": []
   },
   "source": [
    "### Use SimpleImputer Function for Age\n",
    "\n",
    "Leaving the SimpleImputer code uncommented.  It should do nothing since we filled in the values above."
   ]
  },
  {
   "cell_type": "code",
   "execution_count": 27,
   "id": "7b8e7bf7",
   "metadata": {
    "execution": {
     "iopub.execute_input": "2022-07-27T22:07:40.623023Z",
     "iopub.status.busy": "2022-07-27T22:07:40.622613Z",
     "iopub.status.idle": "2022-07-27T22:07:40.650047Z",
     "shell.execute_reply": "2022-07-27T22:07:40.648812Z"
    },
    "papermill": {
     "duration": 0.057272,
     "end_time": "2022-07-27T22:07:40.652678",
     "exception": false,
     "start_time": "2022-07-27T22:07:40.595406",
     "status": "completed"
    },
    "tags": []
   },
   "outputs": [],
   "source": [
    "impute_mean = SimpleImputer(missing_values=np.nan, strategy=\"mean\", verbose=1)\n",
    "m = impute_mean.fit_transform(train[[\"Age\"]])\n",
    "# mt = impute_mean.transform(test[[\"Age\"]])\n",
    "\n",
    "train[\"Age\"] = impute_mean.fit_transform(train[[\"Age\"]])\n",
    "test[\"Age\"] = impute_mean.transform(test[[\"Age\"]])"
   ]
  },
  {
   "cell_type": "markdown",
   "id": "dd3961f8",
   "metadata": {
    "papermill": {
     "duration": 0.026142,
     "end_time": "2022-07-27T22:07:40.705207",
     "exception": false,
     "start_time": "2022-07-27T22:07:40.679065",
     "status": "completed"
    },
    "tags": []
   },
   "source": [
    "### At this point we no longer have missing values"
   ]
  },
  {
   "cell_type": "code",
   "execution_count": 28,
   "id": "b8d00115",
   "metadata": {
    "execution": {
     "iopub.execute_input": "2022-07-27T22:07:40.759897Z",
     "iopub.status.busy": "2022-07-27T22:07:40.759259Z",
     "iopub.status.idle": "2022-07-27T22:07:40.768100Z",
     "shell.execute_reply": "2022-07-27T22:07:40.766559Z"
    },
    "papermill": {
     "duration": 0.039574,
     "end_time": "2022-07-27T22:07:40.770731",
     "exception": false,
     "start_time": "2022-07-27T22:07:40.731157",
     "status": "completed"
    },
    "tags": []
   },
   "outputs": [
    {
     "name": "stdout",
     "output_type": "stream",
     "text": [
      "Series([], dtype: int64)\n"
     ]
    }
   ],
   "source": [
    "show_missing_features(train)"
   ]
  },
  {
   "cell_type": "markdown",
   "id": "4982a455",
   "metadata": {
    "papermill": {
     "duration": 0.025205,
     "end_time": "2022-07-27T22:07:40.822389",
     "exception": false,
     "start_time": "2022-07-27T22:07:40.797184",
     "status": "completed"
    },
    "tags": []
   },
   "source": [
    "# Encoding Categorical Features\n",
    "\n",
    "Need to convert categorical features into numerical features.\n",
    "\n",
    "Several ways:\n",
    "- One-hot Encode\n",
    "- Label Encode"
   ]
  },
  {
   "cell_type": "markdown",
   "id": "200aa0a8",
   "metadata": {
    "papermill": {
     "duration": 0.025256,
     "end_time": "2022-07-27T22:07:40.873335",
     "exception": false,
     "start_time": "2022-07-27T22:07:40.848079",
     "status": "completed"
    },
    "tags": []
   },
   "source": [
    "### Encode `Embarked`\n",
    "\n",
    "First compare what the **drop_first=True** option does.  Some machine learning models require this option while others do not.  Logitistic regression requires us to drop the value."
   ]
  },
  {
   "cell_type": "code",
   "execution_count": 29,
   "id": "413a41a3",
   "metadata": {
    "execution": {
     "iopub.execute_input": "2022-07-27T22:07:40.927338Z",
     "iopub.status.busy": "2022-07-27T22:07:40.926482Z",
     "iopub.status.idle": "2022-07-27T22:07:40.948452Z",
     "shell.execute_reply": "2022-07-27T22:07:40.947544Z"
    },
    "papermill": {
     "duration": 0.051906,
     "end_time": "2022-07-27T22:07:40.950738",
     "exception": false,
     "start_time": "2022-07-27T22:07:40.898832",
     "status": "completed"
    },
    "tags": []
   },
   "outputs": [
    {
     "data": {
      "text/html": [
       "<div>\n",
       "<style scoped>\n",
       "    .dataframe tbody tr th:only-of-type {\n",
       "        vertical-align: middle;\n",
       "    }\n",
       "\n",
       "    .dataframe tbody tr th {\n",
       "        vertical-align: top;\n",
       "    }\n",
       "\n",
       "    .dataframe thead th {\n",
       "        text-align: right;\n",
       "    }\n",
       "</style>\n",
       "<table border=\"1\" class=\"dataframe\">\n",
       "  <thead>\n",
       "    <tr style=\"text-align: right;\">\n",
       "      <th></th>\n",
       "      <th>PassengerId</th>\n",
       "      <th>Survived</th>\n",
       "      <th>Pclass</th>\n",
       "      <th>Sex</th>\n",
       "      <th>Age</th>\n",
       "      <th>SibSp</th>\n",
       "      <th>Parch</th>\n",
       "      <th>Fare</th>\n",
       "      <th>Embarked</th>\n",
       "    </tr>\n",
       "  </thead>\n",
       "  <tbody>\n",
       "    <tr>\n",
       "      <th>0</th>\n",
       "      <td>1</td>\n",
       "      <td>0</td>\n",
       "      <td>3.0</td>\n",
       "      <td>1</td>\n",
       "      <td>22.0</td>\n",
       "      <td>1.0</td>\n",
       "      <td>0.0</td>\n",
       "      <td>7.2500</td>\n",
       "      <td>2</td>\n",
       "    </tr>\n",
       "    <tr>\n",
       "      <th>1</th>\n",
       "      <td>2</td>\n",
       "      <td>1</td>\n",
       "      <td>1.0</td>\n",
       "      <td>0</td>\n",
       "      <td>38.0</td>\n",
       "      <td>1.0</td>\n",
       "      <td>0.0</td>\n",
       "      <td>71.2833</td>\n",
       "      <td>0</td>\n",
       "    </tr>\n",
       "    <tr>\n",
       "      <th>2</th>\n",
       "      <td>3</td>\n",
       "      <td>1</td>\n",
       "      <td>3.0</td>\n",
       "      <td>0</td>\n",
       "      <td>26.0</td>\n",
       "      <td>0.0</td>\n",
       "      <td>0.0</td>\n",
       "      <td>7.9250</td>\n",
       "      <td>2</td>\n",
       "    </tr>\n",
       "    <tr>\n",
       "      <th>3</th>\n",
       "      <td>4</td>\n",
       "      <td>1</td>\n",
       "      <td>1.0</td>\n",
       "      <td>0</td>\n",
       "      <td>35.0</td>\n",
       "      <td>1.0</td>\n",
       "      <td>0.0</td>\n",
       "      <td>53.1000</td>\n",
       "      <td>2</td>\n",
       "    </tr>\n",
       "    <tr>\n",
       "      <th>4</th>\n",
       "      <td>5</td>\n",
       "      <td>0</td>\n",
       "      <td>3.0</td>\n",
       "      <td>1</td>\n",
       "      <td>35.0</td>\n",
       "      <td>0.0</td>\n",
       "      <td>0.0</td>\n",
       "      <td>8.0500</td>\n",
       "      <td>2</td>\n",
       "    </tr>\n",
       "  </tbody>\n",
       "</table>\n",
       "</div>"
      ],
      "text/plain": [
       "   PassengerId  Survived  Pclass  Sex   Age  SibSp  Parch     Fare  Embarked\n",
       "0            1         0     3.0    1  22.0    1.0    0.0   7.2500         2\n",
       "1            2         1     1.0    0  38.0    1.0    0.0  71.2833         0\n",
       "2            3         1     3.0    0  26.0    0.0    0.0   7.9250         2\n",
       "3            4         1     1.0    0  35.0    1.0    0.0  53.1000         2\n",
       "4            5         0     3.0    1  35.0    0.0    0.0   8.0500         2"
      ]
     },
     "execution_count": 29,
     "metadata": {},
     "output_type": "execute_result"
    }
   ],
   "source": [
    "train, test = label_encoder(train, test, [\"Embarked\", \"Sex\"])\n",
    "# X_test = pd.get_dummies(test[FEATURES], drop_first=True)\n",
    "\n",
    "train.head()"
   ]
  },
  {
   "cell_type": "markdown",
   "id": "10e078a4",
   "metadata": {
    "papermill": {
     "duration": 0.026122,
     "end_time": "2022-07-27T22:07:41.003122",
     "exception": false,
     "start_time": "2022-07-27T22:07:40.977000",
     "status": "completed"
    },
    "tags": []
   },
   "source": [
    "- [sklearn.linear_model.LogisticRegression](https://scikit-learn.org/stable/modules/generated/sklearn.linear_model.LogisticRegression.html)"
   ]
  },
  {
   "cell_type": "code",
   "execution_count": 30,
   "id": "80990907",
   "metadata": {
    "execution": {
     "iopub.execute_input": "2022-07-27T22:07:41.067470Z",
     "iopub.status.busy": "2022-07-27T22:07:41.066901Z",
     "iopub.status.idle": "2022-07-27T22:07:41.074969Z",
     "shell.execute_reply": "2022-07-27T22:07:41.072952Z"
    },
    "papermill": {
     "duration": 0.044537,
     "end_time": "2022-07-27T22:07:41.078042",
     "exception": false,
     "start_time": "2022-07-27T22:07:41.033505",
     "status": "completed"
    },
    "tags": []
   },
   "outputs": [],
   "source": [
    "# y = train[TARGET]\n",
    "# X = train[FEATURES].copy()\n",
    "\n",
    "# X_test = test[FEATURES].copy()"
   ]
  },
  {
   "cell_type": "code",
   "execution_count": 31,
   "id": "5943b5d7",
   "metadata": {
    "execution": {
     "iopub.execute_input": "2022-07-27T22:07:41.143065Z",
     "iopub.status.busy": "2022-07-27T22:07:41.142649Z",
     "iopub.status.idle": "2022-07-27T22:07:41.158761Z",
     "shell.execute_reply": "2022-07-27T22:07:41.157049Z"
    },
    "papermill": {
     "duration": 0.052278,
     "end_time": "2022-07-27T22:07:41.161484",
     "exception": false,
     "start_time": "2022-07-27T22:07:41.109206",
     "status": "completed"
    },
    "tags": []
   },
   "outputs": [
    {
     "name": "stdout",
     "output_type": "stream",
     "text": [
      "TARGET=Survived, n_folds=5, seed=42\n"
     ]
    }
   ],
   "source": [
    "train = create_folds(train, TARGET, Config.N_FOLDS)"
   ]
  },
  {
   "cell_type": "code",
   "execution_count": 32,
   "id": "6ec52c2e",
   "metadata": {
    "execution": {
     "iopub.execute_input": "2022-07-27T22:07:41.216099Z",
     "iopub.status.busy": "2022-07-27T22:07:41.215032Z",
     "iopub.status.idle": "2022-07-27T22:07:41.236010Z",
     "shell.execute_reply": "2022-07-27T22:07:41.234768Z"
    },
    "papermill": {
     "duration": 0.050988,
     "end_time": "2022-07-27T22:07:41.238662",
     "exception": false,
     "start_time": "2022-07-27T22:07:41.187674",
     "status": "completed"
    },
    "tags": []
   },
   "outputs": [
    {
     "data": {
      "text/html": [
       "<div>\n",
       "<style scoped>\n",
       "    .dataframe tbody tr th:only-of-type {\n",
       "        vertical-align: middle;\n",
       "    }\n",
       "\n",
       "    .dataframe tbody tr th {\n",
       "        vertical-align: top;\n",
       "    }\n",
       "\n",
       "    .dataframe thead th {\n",
       "        text-align: right;\n",
       "    }\n",
       "</style>\n",
       "<table border=\"1\" class=\"dataframe\">\n",
       "  <thead>\n",
       "    <tr style=\"text-align: right;\">\n",
       "      <th></th>\n",
       "      <th>Survived</th>\n",
       "      <th>fold</th>\n",
       "    </tr>\n",
       "    <tr>\n",
       "      <th>PassengerId</th>\n",
       "      <th></th>\n",
       "      <th></th>\n",
       "    </tr>\n",
       "  </thead>\n",
       "  <tbody>\n",
       "    <tr>\n",
       "      <th>1</th>\n",
       "      <td>0</td>\n",
       "      <td>1</td>\n",
       "    </tr>\n",
       "    <tr>\n",
       "      <th>2</th>\n",
       "      <td>1</td>\n",
       "      <td>4</td>\n",
       "    </tr>\n",
       "    <tr>\n",
       "      <th>3</th>\n",
       "      <td>1</td>\n",
       "      <td>3</td>\n",
       "    </tr>\n",
       "    <tr>\n",
       "      <th>4</th>\n",
       "      <td>1</td>\n",
       "      <td>3</td>\n",
       "    </tr>\n",
       "    <tr>\n",
       "      <th>5</th>\n",
       "      <td>0</td>\n",
       "      <td>0</td>\n",
       "    </tr>\n",
       "  </tbody>\n",
       "</table>\n",
       "</div>"
      ],
      "text/plain": [
       "             Survived  fold\n",
       "PassengerId                \n",
       "1                   0     1\n",
       "2                   1     4\n",
       "3                   1     3\n",
       "4                   1     3\n",
       "5                   0     0"
      ]
     },
     "execution_count": 32,
     "metadata": {},
     "output_type": "execute_result"
    }
   ],
   "source": [
    "submission_df = test[[\"PassengerId\"]].copy()\n",
    "oof = train[[\"PassengerId\", TARGET, \"fold\"]].copy().reset_index(drop=True).copy()\n",
    "oof.set_index(\"PassengerId\", inplace=True)\n",
    "oof.head()"
   ]
  },
  {
   "cell_type": "code",
   "execution_count": 33,
   "id": "f2378fc3",
   "metadata": {
    "execution": {
     "iopub.execute_input": "2022-07-27T22:07:41.293170Z",
     "iopub.status.busy": "2022-07-27T22:07:41.292479Z",
     "iopub.status.idle": "2022-07-27T22:07:41.298254Z",
     "shell.execute_reply": "2022-07-27T22:07:41.296855Z"
    },
    "papermill": {
     "duration": 0.0357,
     "end_time": "2022-07-27T22:07:41.300714",
     "exception": false,
     "start_time": "2022-07-27T22:07:41.265014",
     "status": "completed"
    },
    "tags": []
   },
   "outputs": [],
   "source": [
    "# oof = train[[\"PassengerId\", TARGET, \"fold\"]].set_index(\"PassengerId\")\n",
    "# oof.head()"
   ]
  },
  {
   "cell_type": "markdown",
   "id": "2127d46e",
   "metadata": {
    "execution": {
     "iopub.execute_input": "2022-01-20T17:32:12.023204Z",
     "iopub.status.busy": "2022-01-20T17:32:12.022346Z",
     "iopub.status.idle": "2022-01-20T17:32:12.027226Z",
     "shell.execute_reply": "2022-01-20T17:32:12.026176Z",
     "shell.execute_reply.started": "2022-01-20T17:32:12.023164Z"
    },
    "papermill": {
     "duration": 0.025848,
     "end_time": "2022-07-27T22:07:41.352668",
     "exception": false,
     "start_time": "2022-07-27T22:07:41.326820",
     "status": "completed"
    },
    "tags": []
   },
   "source": [
    "## Train Model"
   ]
  },
  {
   "cell_type": "markdown",
   "id": "88339d0d",
   "metadata": {
    "papermill": {
     "duration": 0.025729,
     "end_time": "2022-07-27T22:07:41.404425",
     "exception": false,
     "start_time": "2022-07-27T22:07:41.378696",
     "status": "completed"
    },
    "tags": []
   },
   "source": [
    "<div style=\"background-color:rgba(255, 215, 0, 0.6);border-radius:5px;display:fill\"><h1 style=\"text-align: center;padding: 12px 0px 12px 0px;\">Train Model with Cross Validation</h1>\n",
    "</div>\n",
    "\n",
    "Four out five folds will be used for training. The fifth will be used for validation\n",
    "\n",
    "Each fold will have a turn at being the validation fold\n",
    "\n",
    "After each time through the loop\n"
   ]
  },
  {
   "cell_type": "code",
   "execution_count": null,
   "id": "53098848",
   "metadata": {
    "papermill": {
     "duration": 0.025836,
     "end_time": "2022-07-27T22:07:41.456251",
     "exception": false,
     "start_time": "2022-07-27T22:07:41.430415",
     "status": "completed"
    },
    "tags": []
   },
   "outputs": [],
   "source": []
  },
  {
   "cell_type": "code",
   "execution_count": 34,
   "id": "fb6c2769",
   "metadata": {
    "execution": {
     "iopub.execute_input": "2022-07-27T22:07:41.510840Z",
     "iopub.status.busy": "2022-07-27T22:07:41.510400Z",
     "iopub.status.idle": "2022-07-27T22:07:41.569151Z",
     "shell.execute_reply": "2022-07-27T22:07:41.567897Z"
    },
    "papermill": {
     "duration": 0.089337,
     "end_time": "2022-07-27T22:07:41.571955",
     "exception": false,
     "start_time": "2022-07-27T22:07:41.482618",
     "status": "completed"
    },
    "tags": []
   },
   "outputs": [],
   "source": [
    "def train_xgb_model(\n",
    "    df,\n",
    "    test,\n",
    "    get_model_fn,\n",
    "    FEATURES,\n",
    "    TARGET,\n",
    "    calc_probability,\n",
    "    rowid,\n",
    "    params,\n",
    "    n_folds=5,\n",
    "    seed=42,\n",
    "):\n",
    "\n",
    "    final_test_predictions = []\n",
    "    final_valid_predictions = {}\n",
    "    fold_scores = []  # Scores of Validation Set\n",
    "    feature_importance_lst = []\n",
    "\n",
    "    test = test[FEATURES].copy()\n",
    "\n",
    "    # oof_preds = np.zeros((df.shape[0],)) # Zero array\n",
    "    # print(f\"oof_preds size={df.shape[0]}\")\n",
    "    #     print(\n",
    "    #         f\"\\n===== XGBoost Estimators: {params['n_estimators']}, Random State: {seed} =====\"\n",
    "    #     )\n",
    "\n",
    "    for fold in range(n_folds):\n",
    "        print(10 * \"=\", f\"Fold {fold+1}/{n_folds}\", 10 * \"=\")\n",
    "\n",
    "        start_time = time.time()\n",
    "\n",
    "        xtrain = df[df.fold != fold].reset_index(\n",
    "            drop=True\n",
    "        )  # Everything not in validation fold\n",
    "        xvalid = df[df.fold == fold].reset_index(drop=True)\n",
    "        xtest = test.copy()\n",
    "\n",
    "        valid_ids = (\n",
    "            xvalid.PassengerId.values.tolist()\n",
    "        )  # Id's of everything in validation fold\n",
    "\n",
    "        ytrain = xtrain[TARGET]\n",
    "        yvalid = xvalid[TARGET]\n",
    "\n",
    "        xtrain = xtrain[FEATURES]\n",
    "        xvalid = xvalid[FEATURES]\n",
    "        xtrain.head()\n",
    "\n",
    "        model = get_model_fn()\n",
    "\n",
    "        model.fit(\n",
    "            xtrain,\n",
    "            ytrain,\n",
    "            eval_set=[(xvalid, yvalid)],\n",
    "            #              eval_metric = \"auc\",\n",
    "            verbose=False,\n",
    "            early_stopping_rounds=3000,\n",
    "            #             callbacks=[\n",
    "            #                 xgb.log_evaluation(0),\n",
    "            #                 xgb.early_stopping(500, False, True),\n",
    "            #             ],\n",
    "        )\n",
    "\n",
    "        # Mean of the predictions\n",
    "        #         preds_valid = model.predict(xvalid)\n",
    "        #         test_preds = model.predict(xtest)\n",
    "        if calc_probability:\n",
    "            preds_valid = model.predict_proba(xvalid)[:, 1]\n",
    "            test_preds = model.predict_proba(xtest)[:, 1]\n",
    "        else:\n",
    "            preds_valid = model.predict(xvalid)\n",
    "            test_preds = model.predict(xtest)\n",
    "\n",
    "        final_test_predictions.append(test_preds)\n",
    "        final_valid_predictions.update(dict(zip(valid_ids, preds_valid)))\n",
    "\n",
    "        #         fold_score = accuracy_score(yvalid, preds_valid)  # Validation Set Score\n",
    "        fold_score = roc_auc_score(yvalid, preds_valid)  # Validation Set Score\n",
    "\n",
    "        fold_scores.append(fold_score)\n",
    "\n",
    "        # Feature importance\n",
    "        fi = pd.DataFrame(\n",
    "            index=FEATURES,\n",
    "            data=model.feature_importances_,\n",
    "            columns=[f\"{fold}_importance\"],\n",
    "        )\n",
    "        feature_importance_lst.append(fi)\n",
    "\n",
    "        run_time = time.time() - start_time\n",
    "\n",
    "        print(f\"fold: {fold+1}, AUC: {fold_score}, Run Time: {run_time:.2f}\")\n",
    "\n",
    "    return (\n",
    "        model,\n",
    "        feature_importance_lst,\n",
    "        fold_scores,\n",
    "        final_valid_predictions,\n",
    "        final_test_predictions,\n",
    "    )"
   ]
  },
  {
   "cell_type": "code",
   "execution_count": 35,
   "id": "8db6c494",
   "metadata": {
    "execution": {
     "iopub.execute_input": "2022-07-27T22:07:41.626411Z",
     "iopub.status.busy": "2022-07-27T22:07:41.626014Z",
     "iopub.status.idle": "2022-07-27T22:07:41.641487Z",
     "shell.execute_reply": "2022-07-27T22:07:41.640518Z"
    },
    "papermill": {
     "duration": 0.045674,
     "end_time": "2022-07-27T22:07:41.644008",
     "exception": false,
     "start_time": "2022-07-27T22:07:41.598334",
     "status": "completed"
    },
    "tags": []
   },
   "outputs": [],
   "source": [
    "xgb_params = {\n",
    "    \"enable_categorical\": True,\n",
    "    \"n_estimators\": 1000,\n",
    "    \"learning_rate\": 0.021138659045230178,\n",
    "    \"subsample\": 0.4,\n",
    "    \"colsample_bytree\": 0.91,\n",
    "    \"max_depth\": 17,\n",
    "    \"gamma\": 0.6000000000000001,\n",
    "    \"booster\": \"gbtree\",\n",
    "    \"tree_method\": \"hist\",\n",
    "    \"reg_lambda\": 0.005882742898970815,\n",
    "    \"reg_alpha\": 0.0014501578157205654,\n",
    "    \"random_state\": 42,\n",
    "    \"n_jobs\": 4,\n",
    "    \"min_child_weight\": 5.567082153821453,\n",
    "}"
   ]
  },
  {
   "cell_type": "code",
   "execution_count": 36,
   "id": "7995295b",
   "metadata": {
    "execution": {
     "iopub.execute_input": "2022-07-27T22:07:41.700447Z",
     "iopub.status.busy": "2022-07-27T22:07:41.699276Z",
     "iopub.status.idle": "2022-07-27T22:07:41.708003Z",
     "shell.execute_reply": "2022-07-27T22:07:41.706776Z"
    },
    "papermill": {
     "duration": 0.039259,
     "end_time": "2022-07-27T22:07:41.710296",
     "exception": false,
     "start_time": "2022-07-27T22:07:41.671037",
     "status": "completed"
    },
    "tags": []
   },
   "outputs": [],
   "source": [
    "def get_xgb_clf_model():\n",
    "    #     model = xgb.XGBClassifier(n_estimators=1000)\n",
    "    model = xgb.XGBClassifier(**xgb_params)\n",
    "    return model"
   ]
  },
  {
   "cell_type": "code",
   "execution_count": 37,
   "id": "ef80d347",
   "metadata": {
    "execution": {
     "iopub.execute_input": "2022-07-27T22:07:41.765068Z",
     "iopub.status.busy": "2022-07-27T22:07:41.764218Z",
     "iopub.status.idle": "2022-07-27T22:07:41.783720Z",
     "shell.execute_reply": "2022-07-27T22:07:41.782868Z"
    },
    "papermill": {
     "duration": 0.049603,
     "end_time": "2022-07-27T22:07:41.786182",
     "exception": false,
     "start_time": "2022-07-27T22:07:41.736579",
     "status": "completed"
    },
    "tags": []
   },
   "outputs": [],
   "source": [
    "# https://lightgbm.readthedocs.io/en/latest/Parameters.html\n",
    "\n",
    "lgbm_params = {\n",
    "    \"n_estimators\": Config.N_ESTIMATORS,\n",
    "    #     \"device_type\": \"gpu\",\n",
    "    #     \"objective\": \"multiclass\",\n",
    "    #     \"metric\": \"multi_logloss\",\n",
    "    \"objective\": \"binary\",\n",
    "    \"metric\": \"auc\",\n",
    "    \"lambda_l1\": 0.009130931198077825,\n",
    "    \"lambda_l2\": 3.530680683338868e-05,\n",
    "    #     \"reg_alpha\": 0.009130931198077825,\n",
    "    #     \"reg_lambda\": 3.530680683338868e-05,\n",
    "    \"num_leaves\": 430,\n",
    "    \"importance_type\": \"split\",\n",
    "    #     \"learning_rate\": 0.029330486500731102,\n",
    "    \"learning_rate\": 0.1,\n",
    "    \"feature_fraction\": 0.8757445736567416,\n",
    "    \"bagging_fraction\": 0.9989307214277753,\n",
    "    \"bagging_freq\": 10,\n",
    "    \"min_child_samples\": 20,\n",
    "    \"random_state\": 42,\n",
    "    \"n_jobs\": -1,\n",
    "}\n",
    "if Config.gpu:\n",
    "    lgbm_params[\"device_type\"] = \"gpu\""
   ]
  },
  {
   "cell_type": "code",
   "execution_count": 38,
   "id": "af9b9f00",
   "metadata": {
    "execution": {
     "iopub.execute_input": "2022-07-27T22:07:41.840574Z",
     "iopub.status.busy": "2022-07-27T22:07:41.839846Z",
     "iopub.status.idle": "2022-07-27T22:07:41.847697Z",
     "shell.execute_reply": "2022-07-27T22:07:41.846780Z"
    },
    "papermill": {
     "duration": 0.037596,
     "end_time": "2022-07-27T22:07:41.850072",
     "exception": false,
     "start_time": "2022-07-27T22:07:41.812476",
     "status": "completed"
    },
    "tags": []
   },
   "outputs": [],
   "source": [
    "def get_lgbm_clf_model():\n",
    "    model = lgb.LGBMClassifier(**lgbm_params)\n",
    "    return model"
   ]
  },
  {
   "cell_type": "code",
   "execution_count": 39,
   "id": "ac0f3a17",
   "metadata": {
    "execution": {
     "iopub.execute_input": "2022-07-27T22:07:41.905269Z",
     "iopub.status.busy": "2022-07-27T22:07:41.904455Z",
     "iopub.status.idle": "2022-07-27T22:08:02.293045Z",
     "shell.execute_reply": "2022-07-27T22:08:02.291842Z"
    },
    "papermill": {
     "duration": 20.419194,
     "end_time": "2022-07-27T22:08:02.295987",
     "exception": false,
     "start_time": "2022-07-27T22:07:41.876793",
     "status": "completed"
    },
    "tags": []
   },
   "outputs": [
    {
     "name": "stdout",
     "output_type": "stream",
     "text": [
      "========== Fold 1/5 ==========\n"
     ]
    },
    {
     "name": "stderr",
     "output_type": "stream",
     "text": [
      "/opt/conda/lib/python3.7/site-packages/xgboost/sklearn.py:797: UserWarning: `early_stopping_rounds` in `fit` method is deprecated for better compatibility with scikit-learn, use `early_stopping_rounds` in constructor or`set_params` instead.\n",
      "  UserWarning,\n"
     ]
    },
    {
     "name": "stdout",
     "output_type": "stream",
     "text": [
      "fold: 1, AUC: 0.918642951251647, Run Time: 3.98\n",
      "========== Fold 2/5 ==========\n"
     ]
    },
    {
     "name": "stderr",
     "output_type": "stream",
     "text": [
      "/opt/conda/lib/python3.7/site-packages/xgboost/sklearn.py:797: UserWarning: `early_stopping_rounds` in `fit` method is deprecated for better compatibility with scikit-learn, use `early_stopping_rounds` in constructor or`set_params` instead.\n",
      "  UserWarning,\n"
     ]
    },
    {
     "name": "stdout",
     "output_type": "stream",
     "text": [
      "fold: 2, AUC: 0.8922459893048129, Run Time: 3.92\n",
      "========== Fold 3/5 ==========\n"
     ]
    },
    {
     "name": "stderr",
     "output_type": "stream",
     "text": [
      "/opt/conda/lib/python3.7/site-packages/xgboost/sklearn.py:797: UserWarning: `early_stopping_rounds` in `fit` method is deprecated for better compatibility with scikit-learn, use `early_stopping_rounds` in constructor or`set_params` instead.\n",
      "  UserWarning,\n"
     ]
    },
    {
     "name": "stdout",
     "output_type": "stream",
     "text": [
      "fold: 3, AUC: 0.8428475935828879, Run Time: 3.92\n",
      "========== Fold 4/5 ==========\n"
     ]
    },
    {
     "name": "stderr",
     "output_type": "stream",
     "text": [
      "/opt/conda/lib/python3.7/site-packages/xgboost/sklearn.py:797: UserWarning: `early_stopping_rounds` in `fit` method is deprecated for better compatibility with scikit-learn, use `early_stopping_rounds` in constructor or`set_params` instead.\n",
      "  UserWarning,\n"
     ]
    },
    {
     "name": "stdout",
     "output_type": "stream",
     "text": [
      "fold: 4, AUC: 0.8683823529411765, Run Time: 4.80\n",
      "========== Fold 5/5 ==========\n"
     ]
    },
    {
     "name": "stderr",
     "output_type": "stream",
     "text": [
      "/opt/conda/lib/python3.7/site-packages/xgboost/sklearn.py:797: UserWarning: `early_stopping_rounds` in `fit` method is deprecated for better compatibility with scikit-learn, use `early_stopping_rounds` in constructor or`set_params` instead.\n",
      "  UserWarning,\n"
     ]
    },
    {
     "name": "stdout",
     "output_type": "stream",
     "text": [
      "fold: 5, AUC: 0.8798032176572264, Run Time: 3.75\n"
     ]
    }
   ],
   "source": [
    "(\n",
    "    model,\n",
    "    feature_importance_lst,\n",
    "    fold_scores,\n",
    "    final_valid_predictions,\n",
    "    final_test_predictions,\n",
    ") = train_xgb_model(\n",
    "    train,\n",
    "    test,\n",
    "    get_xgb_clf_model,\n",
    "    FEATURES,\n",
    "    TARGET,\n",
    "    Config.calc_probability,\n",
    "    \"PassengerId\",\n",
    "    xgb_params,\n",
    "    Config.N_FOLDS,\n",
    "    Config.seed,\n",
    ")"
   ]
  },
  {
   "cell_type": "markdown",
   "id": "1493082c",
   "metadata": {
    "papermill": {
     "duration": 0.02672,
     "end_time": "2022-07-27T22:08:02.350301",
     "exception": false,
     "start_time": "2022-07-27T22:08:02.323581",
     "status": "completed"
    },
    "tags": []
   },
   "source": [
    "<div style=\"background-color:rgba(255, 215, 0, 0.6);border-radius:5px;display:fill\"><h1 style=\"text-align: center;padding: 12px 0px 12px 0px;\">Scores</h1>\n",
    "</div>\n",
    "\n",
    "CV, or Cross Validation, Score.\n",
    "\n",
    "We average the means and the standard deviations.\n",
    "\n",
    "The Adjusted Score is the average of the means minus the average of standard deviation. Do this to attempt to get one number to evaluate the score when comparing different models."
   ]
  },
  {
   "cell_type": "code",
   "execution_count": 40,
   "id": "4e3602cc",
   "metadata": {
    "execution": {
     "iopub.execute_input": "2022-07-27T22:08:02.406669Z",
     "iopub.status.busy": "2022-07-27T22:08:02.405949Z",
     "iopub.status.idle": "2022-07-27T22:08:02.412592Z",
     "shell.execute_reply": "2022-07-27T22:08:02.411354Z"
    },
    "papermill": {
     "duration": 0.037641,
     "end_time": "2022-07-27T22:08:02.415020",
     "exception": false,
     "start_time": "2022-07-27T22:08:02.377379",
     "status": "completed"
    },
    "tags": []
   },
   "outputs": [
    {
     "name": "stdout",
     "output_type": "stream",
     "text": [
      "Scores -> Adjusted: 0.85525351 , mean: 0.88038442, std: 0.02513091\n"
     ]
    }
   ],
   "source": [
    "show_fold_scores(fold_scores)"
   ]
  },
  {
   "cell_type": "code",
   "execution_count": 41,
   "id": "7ca3a26f",
   "metadata": {
    "execution": {
     "iopub.execute_input": "2022-07-27T22:08:02.470590Z",
     "iopub.status.busy": "2022-07-27T22:08:02.470224Z",
     "iopub.status.idle": "2022-07-27T22:08:02.475091Z",
     "shell.execute_reply": "2022-07-27T22:08:02.474055Z"
    },
    "papermill": {
     "duration": 0.03523,
     "end_time": "2022-07-27T22:08:02.477224",
     "exception": false,
     "start_time": "2022-07-27T22:08:02.441994",
     "status": "completed"
    },
    "tags": []
   },
   "outputs": [],
   "source": [
    "# final_valid_predictions"
   ]
  },
  {
   "cell_type": "code",
   "execution_count": 42,
   "id": "3327ba97",
   "metadata": {
    "execution": {
     "iopub.execute_input": "2022-07-27T22:08:02.533848Z",
     "iopub.status.busy": "2022-07-27T22:08:02.533170Z",
     "iopub.status.idle": "2022-07-27T22:08:02.555582Z",
     "shell.execute_reply": "2022-07-27T22:08:02.554254Z"
    },
    "papermill": {
     "duration": 0.053036,
     "end_time": "2022-07-27T22:08:02.558095",
     "exception": false,
     "start_time": "2022-07-27T22:08:02.505059",
     "status": "completed"
    },
    "tags": []
   },
   "outputs": [],
   "source": [
    "final_valid_predictions_df = pd.DataFrame.from_dict(\n",
    "    final_valid_predictions, orient=\"index\"\n",
    ").reset_index()\n",
    "final_valid_predictions_df.columns = [\"id\", \"pred_xgb1\"]\n",
    "final_valid_predictions_df.set_index(\"id\", inplace=True)\n",
    "final_valid_predictions_df.sort_index(inplace=True)  # .head(20)  # head(100)\n",
    "final_valid_predictions_df.to_csv(\"train_pred_xgb1.csv\", index=False)"
   ]
  },
  {
   "cell_type": "code",
   "execution_count": 43,
   "id": "11247de1",
   "metadata": {
    "execution": {
     "iopub.execute_input": "2022-07-27T22:08:02.613981Z",
     "iopub.status.busy": "2022-07-27T22:08:02.613326Z",
     "iopub.status.idle": "2022-07-27T22:08:02.623197Z",
     "shell.execute_reply": "2022-07-27T22:08:02.622259Z"
    },
    "papermill": {
     "duration": 0.040194,
     "end_time": "2022-07-27T22:08:02.625324",
     "exception": false,
     "start_time": "2022-07-27T22:08:02.585130",
     "status": "completed"
    },
    "tags": []
   },
   "outputs": [
    {
     "data": {
      "text/html": [
       "<div>\n",
       "<style scoped>\n",
       "    .dataframe tbody tr th:only-of-type {\n",
       "        vertical-align: middle;\n",
       "    }\n",
       "\n",
       "    .dataframe tbody tr th {\n",
       "        vertical-align: top;\n",
       "    }\n",
       "\n",
       "    .dataframe thead th {\n",
       "        text-align: right;\n",
       "    }\n",
       "</style>\n",
       "<table border=\"1\" class=\"dataframe\">\n",
       "  <thead>\n",
       "    <tr style=\"text-align: right;\">\n",
       "      <th></th>\n",
       "      <th>pred_xgb1</th>\n",
       "    </tr>\n",
       "    <tr>\n",
       "      <th>id</th>\n",
       "      <th></th>\n",
       "    </tr>\n",
       "  </thead>\n",
       "  <tbody>\n",
       "    <tr>\n",
       "      <th>1</th>\n",
       "      <td>0.063560</td>\n",
       "    </tr>\n",
       "    <tr>\n",
       "      <th>2</th>\n",
       "      <td>0.967066</td>\n",
       "    </tr>\n",
       "    <tr>\n",
       "      <th>3</th>\n",
       "      <td>0.641143</td>\n",
       "    </tr>\n",
       "    <tr>\n",
       "      <th>4</th>\n",
       "      <td>0.987377</td>\n",
       "    </tr>\n",
       "    <tr>\n",
       "      <th>5</th>\n",
       "      <td>0.163485</td>\n",
       "    </tr>\n",
       "  </tbody>\n",
       "</table>\n",
       "</div>"
      ],
      "text/plain": [
       "    pred_xgb1\n",
       "id           \n",
       "1    0.063560\n",
       "2    0.967066\n",
       "3    0.641143\n",
       "4    0.987377\n",
       "5    0.163485"
      ]
     },
     "execution_count": 43,
     "metadata": {},
     "output_type": "execute_result"
    }
   ],
   "source": [
    "# final_valid_predictions_df.set_index(\"id\", inplace=True)\n",
    "final_valid_predictions_df.head()"
   ]
  },
  {
   "cell_type": "code",
   "execution_count": 44,
   "id": "657fe513",
   "metadata": {
    "execution": {
     "iopub.execute_input": "2022-07-27T22:08:02.681196Z",
     "iopub.status.busy": "2022-07-27T22:08:02.680737Z",
     "iopub.status.idle": "2022-07-27T22:08:02.695454Z",
     "shell.execute_reply": "2022-07-27T22:08:02.694294Z"
    },
    "papermill": {
     "duration": 0.045367,
     "end_time": "2022-07-27T22:08:02.697706",
     "exception": false,
     "start_time": "2022-07-27T22:08:02.652339",
     "status": "completed"
    },
    "tags": []
   },
   "outputs": [
    {
     "data": {
      "text/html": [
       "<div>\n",
       "<style scoped>\n",
       "    .dataframe tbody tr th:only-of-type {\n",
       "        vertical-align: middle;\n",
       "    }\n",
       "\n",
       "    .dataframe tbody tr th {\n",
       "        vertical-align: top;\n",
       "    }\n",
       "\n",
       "    .dataframe thead th {\n",
       "        text-align: right;\n",
       "    }\n",
       "</style>\n",
       "<table border=\"1\" class=\"dataframe\">\n",
       "  <thead>\n",
       "    <tr style=\"text-align: right;\">\n",
       "      <th></th>\n",
       "      <th>Survived</th>\n",
       "      <th>fold</th>\n",
       "      <th>pred_xgb1</th>\n",
       "    </tr>\n",
       "    <tr>\n",
       "      <th>PassengerId</th>\n",
       "      <th></th>\n",
       "      <th></th>\n",
       "      <th></th>\n",
       "    </tr>\n",
       "  </thead>\n",
       "  <tbody>\n",
       "    <tr>\n",
       "      <th>1</th>\n",
       "      <td>0</td>\n",
       "      <td>1</td>\n",
       "      <td>0.063560</td>\n",
       "    </tr>\n",
       "    <tr>\n",
       "      <th>2</th>\n",
       "      <td>1</td>\n",
       "      <td>4</td>\n",
       "      <td>0.967066</td>\n",
       "    </tr>\n",
       "    <tr>\n",
       "      <th>3</th>\n",
       "      <td>1</td>\n",
       "      <td>3</td>\n",
       "      <td>0.641143</td>\n",
       "    </tr>\n",
       "    <tr>\n",
       "      <th>4</th>\n",
       "      <td>1</td>\n",
       "      <td>3</td>\n",
       "      <td>0.987377</td>\n",
       "    </tr>\n",
       "    <tr>\n",
       "      <th>5</th>\n",
       "      <td>0</td>\n",
       "      <td>0</td>\n",
       "      <td>0.163485</td>\n",
       "    </tr>\n",
       "  </tbody>\n",
       "</table>\n",
       "</div>"
      ],
      "text/plain": [
       "             Survived  fold  pred_xgb1\n",
       "PassengerId                           \n",
       "1                   0     1   0.063560\n",
       "2                   1     4   0.967066\n",
       "3                   1     3   0.641143\n",
       "4                   1     3   0.987377\n",
       "5                   0     0   0.163485"
      ]
     },
     "execution_count": 44,
     "metadata": {},
     "output_type": "execute_result"
    }
   ],
   "source": [
    "oof[\"pred_xgb1\"] = final_valid_predictions_df[\"pred_xgb1\"]\n",
    "oof.head()"
   ]
  },
  {
   "cell_type": "code",
   "execution_count": 45,
   "id": "b05dc095",
   "metadata": {
    "execution": {
     "iopub.execute_input": "2022-07-27T22:08:02.754754Z",
     "iopub.status.busy": "2022-07-27T22:08:02.753990Z",
     "iopub.status.idle": "2022-07-27T22:08:02.773858Z",
     "shell.execute_reply": "2022-07-27T22:08:02.773006Z"
    },
    "papermill": {
     "duration": 0.05114,
     "end_time": "2022-07-27T22:08:02.776227",
     "exception": false,
     "start_time": "2022-07-27T22:08:02.725087",
     "status": "completed"
    },
    "tags": []
   },
   "outputs": [
    {
     "name": "stdout",
     "output_type": "stream",
     "text": [
      "Mean\n"
     ]
    },
    {
     "data": {
      "text/plain": [
       "array([0.12707493, 0.24531329, 0.0601217 , 0.15703344, 0.36903167,\n",
       "       0.2520413 , 0.6464669 , 0.14999278, 0.7070511 , 0.03526946,\n",
       "       0.05098905, 0.17711352, 0.91629744, 0.07315017, 0.9425286 ,\n",
       "       0.87489337, 0.2211051 , 0.15072212, 0.6656117 , 0.44384485],\n",
       "      dtype=float32)"
      ]
     },
     "execution_count": 45,
     "metadata": {},
     "output_type": "execute_result"
    }
   ],
   "source": [
    "from scipy.stats import mode\n",
    "\n",
    "if Config.calc_probability:\n",
    "    print(\"Mean\")\n",
    "    result = np.mean(np.column_stack(final_test_predictions), axis=1)\n",
    "#     result = np.rint(m).astype(int)\n",
    "#     display(result)\n",
    "else:\n",
    "    print(\"Mode\")\n",
    "    mode_result = mode(np.column_stack(final_test_predictions), axis=1)\n",
    "    result = mode_result[0].ravel()\n",
    "\n",
    "result[:20]"
   ]
  },
  {
   "cell_type": "code",
   "execution_count": 46,
   "id": "ef6fc446",
   "metadata": {
    "execution": {
     "iopub.execute_input": "2022-07-27T22:08:02.834654Z",
     "iopub.status.busy": "2022-07-27T22:08:02.833886Z",
     "iopub.status.idle": "2022-07-27T22:08:02.848389Z",
     "shell.execute_reply": "2022-07-27T22:08:02.847582Z"
    },
    "papermill": {
     "duration": 0.045966,
     "end_time": "2022-07-27T22:08:02.850716",
     "exception": false,
     "start_time": "2022-07-27T22:08:02.804750",
     "status": "completed"
    },
    "tags": []
   },
   "outputs": [
    {
     "data": {
      "text/html": [
       "<div>\n",
       "<style scoped>\n",
       "    .dataframe tbody tr th:only-of-type {\n",
       "        vertical-align: middle;\n",
       "    }\n",
       "\n",
       "    .dataframe tbody tr th {\n",
       "        vertical-align: top;\n",
       "    }\n",
       "\n",
       "    .dataframe thead th {\n",
       "        text-align: right;\n",
       "    }\n",
       "</style>\n",
       "<table border=\"1\" class=\"dataframe\">\n",
       "  <thead>\n",
       "    <tr style=\"text-align: right;\">\n",
       "      <th></th>\n",
       "      <th>PassengerId</th>\n",
       "      <th>target_xgb1</th>\n",
       "    </tr>\n",
       "  </thead>\n",
       "  <tbody>\n",
       "    <tr>\n",
       "      <th>0</th>\n",
       "      <td>892</td>\n",
       "      <td>0.127075</td>\n",
       "    </tr>\n",
       "    <tr>\n",
       "      <th>1</th>\n",
       "      <td>893</td>\n",
       "      <td>0.245313</td>\n",
       "    </tr>\n",
       "    <tr>\n",
       "      <th>2</th>\n",
       "      <td>894</td>\n",
       "      <td>0.060122</td>\n",
       "    </tr>\n",
       "    <tr>\n",
       "      <th>3</th>\n",
       "      <td>895</td>\n",
       "      <td>0.157033</td>\n",
       "    </tr>\n",
       "    <tr>\n",
       "      <th>4</th>\n",
       "      <td>896</td>\n",
       "      <td>0.369032</td>\n",
       "    </tr>\n",
       "    <tr>\n",
       "      <th>5</th>\n",
       "      <td>897</td>\n",
       "      <td>0.252041</td>\n",
       "    </tr>\n",
       "    <tr>\n",
       "      <th>6</th>\n",
       "      <td>898</td>\n",
       "      <td>0.646467</td>\n",
       "    </tr>\n",
       "    <tr>\n",
       "      <th>7</th>\n",
       "      <td>899</td>\n",
       "      <td>0.149993</td>\n",
       "    </tr>\n",
       "    <tr>\n",
       "      <th>8</th>\n",
       "      <td>900</td>\n",
       "      <td>0.707051</td>\n",
       "    </tr>\n",
       "    <tr>\n",
       "      <th>9</th>\n",
       "      <td>901</td>\n",
       "      <td>0.035269</td>\n",
       "    </tr>\n",
       "  </tbody>\n",
       "</table>\n",
       "</div>"
      ],
      "text/plain": [
       "   PassengerId  target_xgb1\n",
       "0          892     0.127075\n",
       "1          893     0.245313\n",
       "2          894     0.060122\n",
       "3          895     0.157033\n",
       "4          896     0.369032\n",
       "5          897     0.252041\n",
       "6          898     0.646467\n",
       "7          899     0.149993\n",
       "8          900     0.707051\n",
       "9          901     0.035269"
      ]
     },
     "execution_count": 46,
     "metadata": {},
     "output_type": "execute_result"
    }
   ],
   "source": [
    "# submission_df[\"target_xgb1\"] = np.mean(np.column_stack(final_test_predictions), axis=1)\n",
    "submission_df[\"target_xgb1\"] = result\n",
    "submission_df.head(10)"
   ]
  },
  {
   "cell_type": "code",
   "execution_count": 47,
   "id": "346d6448",
   "metadata": {
    "execution": {
     "iopub.execute_input": "2022-07-27T22:08:02.908487Z",
     "iopub.status.busy": "2022-07-27T22:08:02.907693Z",
     "iopub.status.idle": "2022-07-27T22:08:02.929380Z",
     "shell.execute_reply": "2022-07-27T22:08:02.928423Z"
    },
    "papermill": {
     "duration": 0.05329,
     "end_time": "2022-07-27T22:08:02.931850",
     "exception": false,
     "start_time": "2022-07-27T22:08:02.878560",
     "status": "completed"
    },
    "tags": []
   },
   "outputs": [
    {
     "data": {
      "text/html": [
       "<div>\n",
       "<style scoped>\n",
       "    .dataframe tbody tr th:only-of-type {\n",
       "        vertical-align: middle;\n",
       "    }\n",
       "\n",
       "    .dataframe tbody tr th {\n",
       "        vertical-align: top;\n",
       "    }\n",
       "\n",
       "    .dataframe thead th {\n",
       "        text-align: right;\n",
       "    }\n",
       "</style>\n",
       "<table border=\"1\" class=\"dataframe\">\n",
       "  <thead>\n",
       "    <tr style=\"text-align: right;\">\n",
       "      <th></th>\n",
       "      <th>PassengerId</th>\n",
       "      <th>Survived</th>\n",
       "    </tr>\n",
       "  </thead>\n",
       "  <tbody>\n",
       "    <tr>\n",
       "      <th>0</th>\n",
       "      <td>892</td>\n",
       "      <td>0.127075</td>\n",
       "    </tr>\n",
       "    <tr>\n",
       "      <th>1</th>\n",
       "      <td>893</td>\n",
       "      <td>0.245313</td>\n",
       "    </tr>\n",
       "    <tr>\n",
       "      <th>2</th>\n",
       "      <td>894</td>\n",
       "      <td>0.060122</td>\n",
       "    </tr>\n",
       "    <tr>\n",
       "      <th>3</th>\n",
       "      <td>895</td>\n",
       "      <td>0.157033</td>\n",
       "    </tr>\n",
       "    <tr>\n",
       "      <th>4</th>\n",
       "      <td>896</td>\n",
       "      <td>0.369032</td>\n",
       "    </tr>\n",
       "    <tr>\n",
       "      <th>...</th>\n",
       "      <td>...</td>\n",
       "      <td>...</td>\n",
       "    </tr>\n",
       "    <tr>\n",
       "      <th>413</th>\n",
       "      <td>1305</td>\n",
       "      <td>0.082912</td>\n",
       "    </tr>\n",
       "    <tr>\n",
       "      <th>414</th>\n",
       "      <td>1306</td>\n",
       "      <td>0.971090</td>\n",
       "    </tr>\n",
       "    <tr>\n",
       "      <th>415</th>\n",
       "      <td>1307</td>\n",
       "      <td>0.047153</td>\n",
       "    </tr>\n",
       "    <tr>\n",
       "      <th>416</th>\n",
       "      <td>1308</td>\n",
       "      <td>0.082912</td>\n",
       "    </tr>\n",
       "    <tr>\n",
       "      <th>417</th>\n",
       "      <td>1309</td>\n",
       "      <td>0.236729</td>\n",
       "    </tr>\n",
       "  </tbody>\n",
       "</table>\n",
       "<p>418 rows × 2 columns</p>\n",
       "</div>"
      ],
      "text/plain": [
       "     PassengerId  Survived\n",
       "0            892  0.127075\n",
       "1            893  0.245313\n",
       "2            894  0.060122\n",
       "3            895  0.157033\n",
       "4            896  0.369032\n",
       "..           ...       ...\n",
       "413         1305  0.082912\n",
       "414         1306  0.971090\n",
       "415         1307  0.047153\n",
       "416         1308  0.082912\n",
       "417         1309  0.236729\n",
       "\n",
       "[418 rows x 2 columns]"
      ]
     },
     "execution_count": 47,
     "metadata": {},
     "output_type": "execute_result"
    }
   ],
   "source": [
    "ss = (\n",
    "    submission_df[[\"PassengerId\", \"target_xgb1\"]].copy().reset_index(drop=True)\n",
    ")  # [np.rint(sample_submission[\"target_lgbm1\"]).astype(int)\n",
    "ss.rename(columns={\"target_xgb1\": \"Survived\"}, inplace=True)\n",
    "ss"
   ]
  },
  {
   "cell_type": "code",
   "execution_count": 48,
   "id": "3fd62e53",
   "metadata": {
    "execution": {
     "iopub.execute_input": "2022-07-27T22:08:02.991656Z",
     "iopub.status.busy": "2022-07-27T22:08:02.990902Z",
     "iopub.status.idle": "2022-07-27T22:08:03.008633Z",
     "shell.execute_reply": "2022-07-27T22:08:03.007858Z"
    },
    "papermill": {
     "duration": 0.049818,
     "end_time": "2022-07-27T22:08:03.011082",
     "exception": false,
     "start_time": "2022-07-27T22:08:02.961264",
     "status": "completed"
    },
    "tags": []
   },
   "outputs": [
    {
     "data": {
      "text/html": [
       "<div>\n",
       "<style scoped>\n",
       "    .dataframe tbody tr th:only-of-type {\n",
       "        vertical-align: middle;\n",
       "    }\n",
       "\n",
       "    .dataframe tbody tr th {\n",
       "        vertical-align: top;\n",
       "    }\n",
       "\n",
       "    .dataframe thead th {\n",
       "        text-align: right;\n",
       "    }\n",
       "</style>\n",
       "<table border=\"1\" class=\"dataframe\">\n",
       "  <thead>\n",
       "    <tr style=\"text-align: right;\">\n",
       "      <th></th>\n",
       "      <th>PassengerId</th>\n",
       "      <th>Survived</th>\n",
       "    </tr>\n",
       "  </thead>\n",
       "  <tbody>\n",
       "    <tr>\n",
       "      <th>0</th>\n",
       "      <td>892</td>\n",
       "      <td>0</td>\n",
       "    </tr>\n",
       "    <tr>\n",
       "      <th>1</th>\n",
       "      <td>893</td>\n",
       "      <td>0</td>\n",
       "    </tr>\n",
       "    <tr>\n",
       "      <th>2</th>\n",
       "      <td>894</td>\n",
       "      <td>0</td>\n",
       "    </tr>\n",
       "    <tr>\n",
       "      <th>3</th>\n",
       "      <td>895</td>\n",
       "      <td>0</td>\n",
       "    </tr>\n",
       "    <tr>\n",
       "      <th>4</th>\n",
       "      <td>896</td>\n",
       "      <td>0</td>\n",
       "    </tr>\n",
       "    <tr>\n",
       "      <th>5</th>\n",
       "      <td>897</td>\n",
       "      <td>0</td>\n",
       "    </tr>\n",
       "    <tr>\n",
       "      <th>6</th>\n",
       "      <td>898</td>\n",
       "      <td>1</td>\n",
       "    </tr>\n",
       "    <tr>\n",
       "      <th>7</th>\n",
       "      <td>899</td>\n",
       "      <td>0</td>\n",
       "    </tr>\n",
       "    <tr>\n",
       "      <th>8</th>\n",
       "      <td>900</td>\n",
       "      <td>1</td>\n",
       "    </tr>\n",
       "    <tr>\n",
       "      <th>9</th>\n",
       "      <td>901</td>\n",
       "      <td>0</td>\n",
       "    </tr>\n",
       "  </tbody>\n",
       "</table>\n",
       "</div>"
      ],
      "text/plain": [
       "   PassengerId  Survived\n",
       "0          892         0\n",
       "1          893         0\n",
       "2          894         0\n",
       "3          895         0\n",
       "4          896         0\n",
       "5          897         0\n",
       "6          898         1\n",
       "7          899         0\n",
       "8          900         1\n",
       "9          901         0"
      ]
     },
     "execution_count": 48,
     "metadata": {},
     "output_type": "execute_result"
    }
   ],
   "source": [
    "ss[TARGET] = np.rint(ss[TARGET]).astype(int)\n",
    "ss.to_csv(\"submission_xgb1.csv\", index=False)\n",
    "ss.head(10)"
   ]
  },
  {
   "cell_type": "markdown",
   "id": "4776f55f",
   "metadata": {
    "papermill": {
     "duration": 0.035055,
     "end_time": "2022-07-27T22:08:03.081275",
     "exception": false,
     "start_time": "2022-07-27T22:08:03.046220",
     "status": "completed"
    },
    "tags": []
   },
   "source": [
    "## LGBM Model"
   ]
  },
  {
   "cell_type": "code",
   "execution_count": 49,
   "id": "367380cf",
   "metadata": {
    "execution": {
     "iopub.execute_input": "2022-07-27T22:08:03.149084Z",
     "iopub.status.busy": "2022-07-27T22:08:03.148513Z",
     "iopub.status.idle": "2022-07-27T22:08:03.866569Z",
     "shell.execute_reply": "2022-07-27T22:08:03.865484Z"
    },
    "papermill": {
     "duration": 0.755753,
     "end_time": "2022-07-27T22:08:03.869021",
     "exception": false,
     "start_time": "2022-07-27T22:08:03.113268",
     "status": "completed"
    },
    "tags": []
   },
   "outputs": [
    {
     "name": "stdout",
     "output_type": "stream",
     "text": [
      "========== Fold 1/5 ==========\n",
      "[LightGBM] [Warning] lambda_l1 is set=0.009130931198077825, reg_alpha=0.0 will be ignored. Current value: lambda_l1=0.009130931198077825\n",
      "[LightGBM] [Warning] bagging_fraction is set=0.9989307214277753, subsample=1.0 will be ignored. Current value: bagging_fraction=0.9989307214277753\n",
      "[LightGBM] [Warning] feature_fraction is set=0.8757445736567416, colsample_bytree=1.0 will be ignored. Current value: feature_fraction=0.8757445736567416\n",
      "[LightGBM] [Warning] bagging_freq is set=10, subsample_freq=0 will be ignored. Current value: bagging_freq=10\n",
      "[LightGBM] [Warning] lambda_l2 is set=3.530680683338868e-05, reg_lambda=0.0 will be ignored. Current value: lambda_l2=3.530680683338868e-05\n",
      "fold: 1, AUC: 0.9148221343873518, Run Time: 0.16\n",
      "========== Fold 2/5 ==========\n",
      "[LightGBM] [Warning] lambda_l1 is set=0.009130931198077825, reg_alpha=0.0 will be ignored. Current value: lambda_l1=0.009130931198077825\n",
      "[LightGBM] [Warning] bagging_fraction is set=0.9989307214277753, subsample=1.0 will be ignored. Current value: bagging_fraction=0.9989307214277753\n",
      "[LightGBM] [Warning] feature_fraction is set=0.8757445736567416, colsample_bytree=1.0 will be ignored. Current value: feature_fraction=0.8757445736567416\n",
      "[LightGBM] [Warning] bagging_freq is set=10, subsample_freq=0 will be ignored. Current value: bagging_freq=10\n",
      "[LightGBM] [Warning] lambda_l2 is set=3.530680683338868e-05, reg_lambda=0.0 will be ignored. Current value: lambda_l2=3.530680683338868e-05\n"
     ]
    },
    {
     "name": "stderr",
     "output_type": "stream",
     "text": [
      "/opt/conda/lib/python3.7/site-packages/lightgbm/sklearn.py:726: UserWarning: 'early_stopping_rounds' argument is deprecated and will be removed in a future release of LightGBM. Pass 'early_stopping()' callback via 'callbacks' argument instead.\n",
      "  _log_warning(\"'early_stopping_rounds' argument is deprecated and will be removed in a future release of LightGBM. \"\n",
      "/opt/conda/lib/python3.7/site-packages/lightgbm/sklearn.py:736: UserWarning: 'verbose' argument is deprecated and will be removed in a future release of LightGBM. Pass 'log_evaluation()' callback via 'callbacks' argument instead.\n",
      "  _log_warning(\"'verbose' argument is deprecated and will be removed in a future release of LightGBM. \"\n",
      "/opt/conda/lib/python3.7/site-packages/lightgbm/sklearn.py:726: UserWarning: 'early_stopping_rounds' argument is deprecated and will be removed in a future release of LightGBM. Pass 'early_stopping()' callback via 'callbacks' argument instead.\n",
      "  _log_warning(\"'early_stopping_rounds' argument is deprecated and will be removed in a future release of LightGBM. \"\n",
      "/opt/conda/lib/python3.7/site-packages/lightgbm/sklearn.py:736: UserWarning: 'verbose' argument is deprecated and will be removed in a future release of LightGBM. Pass 'log_evaluation()' callback via 'callbacks' argument instead.\n",
      "  _log_warning(\"'verbose' argument is deprecated and will be removed in a future release of LightGBM. \"\n"
     ]
    },
    {
     "name": "stdout",
     "output_type": "stream",
     "text": [
      "fold: 2, AUC: 0.902139037433155, Run Time: 0.10\n",
      "========== Fold 3/5 ==========\n",
      "[LightGBM] [Warning] lambda_l1 is set=0.009130931198077825, reg_alpha=0.0 will be ignored. Current value: lambda_l1=0.009130931198077825\n",
      "[LightGBM] [Warning] bagging_fraction is set=0.9989307214277753, subsample=1.0 will be ignored. Current value: bagging_fraction=0.9989307214277753\n",
      "[LightGBM] [Warning] feature_fraction is set=0.8757445736567416, colsample_bytree=1.0 will be ignored. Current value: feature_fraction=0.8757445736567416\n",
      "[LightGBM] [Warning] bagging_freq is set=10, subsample_freq=0 will be ignored. Current value: bagging_freq=10\n",
      "[LightGBM] [Warning] lambda_l2 is set=3.530680683338868e-05, reg_lambda=0.0 will be ignored. Current value: lambda_l2=3.530680683338868e-05\n"
     ]
    },
    {
     "name": "stderr",
     "output_type": "stream",
     "text": [
      "/opt/conda/lib/python3.7/site-packages/lightgbm/sklearn.py:726: UserWarning: 'early_stopping_rounds' argument is deprecated and will be removed in a future release of LightGBM. Pass 'early_stopping()' callback via 'callbacks' argument instead.\n",
      "  _log_warning(\"'early_stopping_rounds' argument is deprecated and will be removed in a future release of LightGBM. \"\n",
      "/opt/conda/lib/python3.7/site-packages/lightgbm/sklearn.py:736: UserWarning: 'verbose' argument is deprecated and will be removed in a future release of LightGBM. Pass 'log_evaluation()' callback via 'callbacks' argument instead.\n",
      "  _log_warning(\"'verbose' argument is deprecated and will be removed in a future release of LightGBM. \"\n"
     ]
    },
    {
     "name": "stdout",
     "output_type": "stream",
     "text": [
      "fold: 3, AUC: 0.8584893048128343, Run Time: 0.24\n",
      "========== Fold 4/5 ==========\n",
      "[LightGBM] [Warning] lambda_l1 is set=0.009130931198077825, reg_alpha=0.0 will be ignored. Current value: lambda_l1=0.009130931198077825\n",
      "[LightGBM] [Warning] bagging_fraction is set=0.9989307214277753, subsample=1.0 will be ignored. Current value: bagging_fraction=0.9989307214277753\n",
      "[LightGBM] [Warning] feature_fraction is set=0.8757445736567416, colsample_bytree=1.0 will be ignored. Current value: feature_fraction=0.8757445736567416\n",
      "[LightGBM] [Warning] bagging_freq is set=10, subsample_freq=0 will be ignored. Current value: bagging_freq=10\n",
      "[LightGBM] [Warning] lambda_l2 is set=3.530680683338868e-05, reg_lambda=0.0 will be ignored. Current value: lambda_l2=3.530680683338868e-05\n",
      "fold: 4, AUC: 0.8679812834224598, Run Time: 0.10\n",
      "========== Fold 5/5 ==========\n",
      "[LightGBM] [Warning] lambda_l1 is set=0.009130931198077825, reg_alpha=0.0 will be ignored. Current value: lambda_l1=0.009130931198077825\n",
      "[LightGBM] [Warning] bagging_fraction is set=0.9989307214277753, subsample=1.0 will be ignored. Current value: bagging_fraction=0.9989307214277753\n",
      "[LightGBM] [Warning] feature_fraction is set=0.8757445736567416, colsample_bytree=1.0 will be ignored. Current value: feature_fraction=0.8757445736567416\n",
      "[LightGBM] [Warning] bagging_freq is set=10, subsample_freq=0 will be ignored. Current value: bagging_freq=10\n",
      "[LightGBM] [Warning] lambda_l2 is set=3.530680683338868e-05, reg_lambda=0.0 will be ignored. Current value: lambda_l2=3.530680683338868e-05\n",
      "fold: 5, AUC: 0.8966892700438771, Run Time: 0.10\n"
     ]
    },
    {
     "name": "stderr",
     "output_type": "stream",
     "text": [
      "/opt/conda/lib/python3.7/site-packages/lightgbm/sklearn.py:726: UserWarning: 'early_stopping_rounds' argument is deprecated and will be removed in a future release of LightGBM. Pass 'early_stopping()' callback via 'callbacks' argument instead.\n",
      "  _log_warning(\"'early_stopping_rounds' argument is deprecated and will be removed in a future release of LightGBM. \"\n",
      "/opt/conda/lib/python3.7/site-packages/lightgbm/sklearn.py:736: UserWarning: 'verbose' argument is deprecated and will be removed in a future release of LightGBM. Pass 'log_evaluation()' callback via 'callbacks' argument instead.\n",
      "  _log_warning(\"'verbose' argument is deprecated and will be removed in a future release of LightGBM. \"\n",
      "/opt/conda/lib/python3.7/site-packages/lightgbm/sklearn.py:726: UserWarning: 'early_stopping_rounds' argument is deprecated and will be removed in a future release of LightGBM. Pass 'early_stopping()' callback via 'callbacks' argument instead.\n",
      "  _log_warning(\"'early_stopping_rounds' argument is deprecated and will be removed in a future release of LightGBM. \"\n",
      "/opt/conda/lib/python3.7/site-packages/lightgbm/sklearn.py:736: UserWarning: 'verbose' argument is deprecated and will be removed in a future release of LightGBM. Pass 'log_evaluation()' callback via 'callbacks' argument instead.\n",
      "  _log_warning(\"'verbose' argument is deprecated and will be removed in a future release of LightGBM. \"\n"
     ]
    }
   ],
   "source": [
    "(\n",
    "    model,\n",
    "    feature_importance_lst,\n",
    "    fold_scores,\n",
    "    final_valid_predictions,\n",
    "    final_test_predictions,\n",
    ") = train_xgb_model(\n",
    "    train,\n",
    "    test,\n",
    "    get_lgbm_clf_model,\n",
    "    FEATURES,\n",
    "    TARGET,\n",
    "    Config.calc_probability,\n",
    "    \"PassengerId\",\n",
    "    lgbm_params,\n",
    "    Config.N_FOLDS,\n",
    "    Config.seed,\n",
    ")"
   ]
  },
  {
   "cell_type": "code",
   "execution_count": 50,
   "id": "fcd3783c",
   "metadata": {
    "execution": {
     "iopub.execute_input": "2022-07-27T22:08:03.928969Z",
     "iopub.status.busy": "2022-07-27T22:08:03.928257Z",
     "iopub.status.idle": "2022-07-27T22:08:03.934935Z",
     "shell.execute_reply": "2022-07-27T22:08:03.933588Z"
    },
    "papermill": {
     "duration": 0.038906,
     "end_time": "2022-07-27T22:08:03.937125",
     "exception": false,
     "start_time": "2022-07-27T22:08:03.898219",
     "status": "completed"
    },
    "tags": []
   },
   "outputs": [
    {
     "name": "stdout",
     "output_type": "stream",
     "text": [
      "Scores -> Adjusted: 0.86673350 , mean: 0.88802421, std: 0.02129070\n"
     ]
    }
   ],
   "source": [
    "show_fold_scores(fold_scores)"
   ]
  },
  {
   "cell_type": "markdown",
   "id": "d6b74b7a",
   "metadata": {
    "papermill": {
     "duration": 0.028193,
     "end_time": "2022-07-27T22:08:03.995209",
     "exception": false,
     "start_time": "2022-07-27T22:08:03.967016",
     "status": "completed"
    },
    "tags": []
   },
   "source": [
    "<div style=\"background-color:rgba(255, 215, 0, 0.6);border-radius:5px;display:fill\"><h1 style=\"text-align: center;padding: 12px 0px 12px 0px;\">Save OOF Predictions</h1>\n",
    "</div>\n",
    "\n",
    "This is unused for this example but needed later for [Blending](https://towardsdatascience.com/ensemble-learning-stacking-blending-voting-b37737c4f483).\n",
    "\n",
    "**General idea**: The values will be use to create new features in a blended model.\n",
    "\n",
    "- [Stacking and Blending — An Intuitive ExplanationStacking and Blending — An Intuitive Explanation](https://medium.com/@stevenyu530_73989/stacking-and-blending-intuitive-explanation-of-advanced-ensemble-methods-46b295da413chttps://medium.com/@stevenyu530_73989/stacking-and-blending-intuitive-explanation-of-advanced-ensemble-methods-46b295da413c)"
   ]
  },
  {
   "cell_type": "code",
   "execution_count": 51,
   "id": "aafdcc54",
   "metadata": {
    "execution": {
     "iopub.execute_input": "2022-07-27T22:08:04.054858Z",
     "iopub.status.busy": "2022-07-27T22:08:04.054445Z",
     "iopub.status.idle": "2022-07-27T22:08:04.059865Z",
     "shell.execute_reply": "2022-07-27T22:08:04.058847Z"
    },
    "papermill": {
     "duration": 0.037641,
     "end_time": "2022-07-27T22:08:04.062063",
     "exception": false,
     "start_time": "2022-07-27T22:08:04.024422",
     "status": "completed"
    },
    "tags": []
   },
   "outputs": [],
   "source": [
    "# final_valid_predictions"
   ]
  },
  {
   "cell_type": "code",
   "execution_count": 52,
   "id": "555dd664",
   "metadata": {
    "execution": {
     "iopub.execute_input": "2022-07-27T22:08:04.121574Z",
     "iopub.status.busy": "2022-07-27T22:08:04.120457Z",
     "iopub.status.idle": "2022-07-27T22:08:04.140265Z",
     "shell.execute_reply": "2022-07-27T22:08:04.139165Z"
    },
    "papermill": {
     "duration": 0.051965,
     "end_time": "2022-07-27T22:08:04.142578",
     "exception": false,
     "start_time": "2022-07-27T22:08:04.090613",
     "status": "completed"
    },
    "tags": []
   },
   "outputs": [],
   "source": [
    "final_valid_predictions_df = pd.DataFrame.from_dict(\n",
    "    final_valid_predictions, orient=\"index\"\n",
    ").reset_index()\n",
    "final_valid_predictions_df.columns = [\"id\", \"pred_lgbm1\"]\n",
    "final_valid_predictions_df.set_index(\"id\", inplace=True)\n",
    "final_valid_predictions_df.sort_index(inplace=True)\n",
    "final_valid_predictions_df.to_csv(\"train_pred_lgbm1.csv\", index=False)"
   ]
  },
  {
   "cell_type": "code",
   "execution_count": 53,
   "id": "9e35ef0b",
   "metadata": {
    "execution": {
     "iopub.execute_input": "2022-07-27T22:08:04.201778Z",
     "iopub.status.busy": "2022-07-27T22:08:04.201117Z",
     "iopub.status.idle": "2022-07-27T22:08:04.210943Z",
     "shell.execute_reply": "2022-07-27T22:08:04.210123Z"
    },
    "papermill": {
     "duration": 0.041663,
     "end_time": "2022-07-27T22:08:04.212962",
     "exception": false,
     "start_time": "2022-07-27T22:08:04.171299",
     "status": "completed"
    },
    "tags": []
   },
   "outputs": [
    {
     "data": {
      "text/html": [
       "<div>\n",
       "<style scoped>\n",
       "    .dataframe tbody tr th:only-of-type {\n",
       "        vertical-align: middle;\n",
       "    }\n",
       "\n",
       "    .dataframe tbody tr th {\n",
       "        vertical-align: top;\n",
       "    }\n",
       "\n",
       "    .dataframe thead th {\n",
       "        text-align: right;\n",
       "    }\n",
       "</style>\n",
       "<table border=\"1\" class=\"dataframe\">\n",
       "  <thead>\n",
       "    <tr style=\"text-align: right;\">\n",
       "      <th></th>\n",
       "      <th>pred_lgbm1</th>\n",
       "    </tr>\n",
       "    <tr>\n",
       "      <th>id</th>\n",
       "      <th></th>\n",
       "    </tr>\n",
       "  </thead>\n",
       "  <tbody>\n",
       "    <tr>\n",
       "      <th>1</th>\n",
       "      <td>0.049931</td>\n",
       "    </tr>\n",
       "    <tr>\n",
       "      <th>2</th>\n",
       "      <td>0.873740</td>\n",
       "    </tr>\n",
       "    <tr>\n",
       "      <th>3</th>\n",
       "      <td>0.274642</td>\n",
       "    </tr>\n",
       "    <tr>\n",
       "      <th>4</th>\n",
       "      <td>0.995384</td>\n",
       "    </tr>\n",
       "    <tr>\n",
       "      <th>5</th>\n",
       "      <td>0.077964</td>\n",
       "    </tr>\n",
       "  </tbody>\n",
       "</table>\n",
       "</div>"
      ],
      "text/plain": [
       "    pred_lgbm1\n",
       "id            \n",
       "1     0.049931\n",
       "2     0.873740\n",
       "3     0.274642\n",
       "4     0.995384\n",
       "5     0.077964"
      ]
     },
     "execution_count": 53,
     "metadata": {},
     "output_type": "execute_result"
    }
   ],
   "source": [
    "final_valid_predictions_df.head()"
   ]
  },
  {
   "cell_type": "code",
   "execution_count": 54,
   "id": "d01f4fc3",
   "metadata": {
    "execution": {
     "iopub.execute_input": "2022-07-27T22:08:04.272972Z",
     "iopub.status.busy": "2022-07-27T22:08:04.272267Z",
     "iopub.status.idle": "2022-07-27T22:08:04.292787Z",
     "shell.execute_reply": "2022-07-27T22:08:04.291892Z"
    },
    "papermill": {
     "duration": 0.053307,
     "end_time": "2022-07-27T22:08:04.295064",
     "exception": false,
     "start_time": "2022-07-27T22:08:04.241757",
     "status": "completed"
    },
    "tags": []
   },
   "outputs": [
    {
     "data": {
      "text/html": [
       "<div>\n",
       "<style scoped>\n",
       "    .dataframe tbody tr th:only-of-type {\n",
       "        vertical-align: middle;\n",
       "    }\n",
       "\n",
       "    .dataframe tbody tr th {\n",
       "        vertical-align: top;\n",
       "    }\n",
       "\n",
       "    .dataframe thead th {\n",
       "        text-align: right;\n",
       "    }\n",
       "</style>\n",
       "<table border=\"1\" class=\"dataframe\">\n",
       "  <thead>\n",
       "    <tr style=\"text-align: right;\">\n",
       "      <th></th>\n",
       "      <th>PassengerId</th>\n",
       "      <th>Survived</th>\n",
       "      <th>Pclass</th>\n",
       "      <th>Sex</th>\n",
       "      <th>Age</th>\n",
       "      <th>SibSp</th>\n",
       "      <th>Parch</th>\n",
       "      <th>Fare</th>\n",
       "      <th>Embarked</th>\n",
       "      <th>fold</th>\n",
       "    </tr>\n",
       "  </thead>\n",
       "  <tbody>\n",
       "    <tr>\n",
       "      <th>0</th>\n",
       "      <td>1</td>\n",
       "      <td>0</td>\n",
       "      <td>3.0</td>\n",
       "      <td>1</td>\n",
       "      <td>22.0</td>\n",
       "      <td>1.0</td>\n",
       "      <td>0.0</td>\n",
       "      <td>7.2500</td>\n",
       "      <td>2</td>\n",
       "      <td>1</td>\n",
       "    </tr>\n",
       "    <tr>\n",
       "      <th>1</th>\n",
       "      <td>2</td>\n",
       "      <td>1</td>\n",
       "      <td>1.0</td>\n",
       "      <td>0</td>\n",
       "      <td>38.0</td>\n",
       "      <td>1.0</td>\n",
       "      <td>0.0</td>\n",
       "      <td>71.2833</td>\n",
       "      <td>0</td>\n",
       "      <td>4</td>\n",
       "    </tr>\n",
       "    <tr>\n",
       "      <th>2</th>\n",
       "      <td>3</td>\n",
       "      <td>1</td>\n",
       "      <td>3.0</td>\n",
       "      <td>0</td>\n",
       "      <td>26.0</td>\n",
       "      <td>0.0</td>\n",
       "      <td>0.0</td>\n",
       "      <td>7.9250</td>\n",
       "      <td>2</td>\n",
       "      <td>3</td>\n",
       "    </tr>\n",
       "    <tr>\n",
       "      <th>3</th>\n",
       "      <td>4</td>\n",
       "      <td>1</td>\n",
       "      <td>1.0</td>\n",
       "      <td>0</td>\n",
       "      <td>35.0</td>\n",
       "      <td>1.0</td>\n",
       "      <td>0.0</td>\n",
       "      <td>53.1000</td>\n",
       "      <td>2</td>\n",
       "      <td>3</td>\n",
       "    </tr>\n",
       "    <tr>\n",
       "      <th>4</th>\n",
       "      <td>5</td>\n",
       "      <td>0</td>\n",
       "      <td>3.0</td>\n",
       "      <td>1</td>\n",
       "      <td>35.0</td>\n",
       "      <td>0.0</td>\n",
       "      <td>0.0</td>\n",
       "      <td>8.0500</td>\n",
       "      <td>2</td>\n",
       "      <td>0</td>\n",
       "    </tr>\n",
       "    <tr>\n",
       "      <th>5</th>\n",
       "      <td>6</td>\n",
       "      <td>0</td>\n",
       "      <td>3.0</td>\n",
       "      <td>1</td>\n",
       "      <td>28.0</td>\n",
       "      <td>0.0</td>\n",
       "      <td>0.0</td>\n",
       "      <td>8.4583</td>\n",
       "      <td>1</td>\n",
       "      <td>4</td>\n",
       "    </tr>\n",
       "    <tr>\n",
       "      <th>6</th>\n",
       "      <td>7</td>\n",
       "      <td>0</td>\n",
       "      <td>1.0</td>\n",
       "      <td>1</td>\n",
       "      <td>54.0</td>\n",
       "      <td>0.0</td>\n",
       "      <td>0.0</td>\n",
       "      <td>51.8625</td>\n",
       "      <td>2</td>\n",
       "      <td>0</td>\n",
       "    </tr>\n",
       "    <tr>\n",
       "      <th>7</th>\n",
       "      <td>8</td>\n",
       "      <td>0</td>\n",
       "      <td>3.0</td>\n",
       "      <td>1</td>\n",
       "      <td>2.0</td>\n",
       "      <td>3.0</td>\n",
       "      <td>1.0</td>\n",
       "      <td>21.0750</td>\n",
       "      <td>2</td>\n",
       "      <td>4</td>\n",
       "    </tr>\n",
       "    <tr>\n",
       "      <th>8</th>\n",
       "      <td>9</td>\n",
       "      <td>1</td>\n",
       "      <td>3.0</td>\n",
       "      <td>0</td>\n",
       "      <td>27.0</td>\n",
       "      <td>0.0</td>\n",
       "      <td>2.0</td>\n",
       "      <td>11.1333</td>\n",
       "      <td>2</td>\n",
       "      <td>4</td>\n",
       "    </tr>\n",
       "    <tr>\n",
       "      <th>9</th>\n",
       "      <td>10</td>\n",
       "      <td>1</td>\n",
       "      <td>2.0</td>\n",
       "      <td>0</td>\n",
       "      <td>14.0</td>\n",
       "      <td>1.0</td>\n",
       "      <td>0.0</td>\n",
       "      <td>30.0708</td>\n",
       "      <td>0</td>\n",
       "      <td>3</td>\n",
       "    </tr>\n",
       "  </tbody>\n",
       "</table>\n",
       "</div>"
      ],
      "text/plain": [
       "   PassengerId  Survived  Pclass  Sex   Age  SibSp  Parch     Fare  Embarked  \\\n",
       "0            1         0     3.0    1  22.0    1.0    0.0   7.2500         2   \n",
       "1            2         1     1.0    0  38.0    1.0    0.0  71.2833         0   \n",
       "2            3         1     3.0    0  26.0    0.0    0.0   7.9250         2   \n",
       "3            4         1     1.0    0  35.0    1.0    0.0  53.1000         2   \n",
       "4            5         0     3.0    1  35.0    0.0    0.0   8.0500         2   \n",
       "5            6         0     3.0    1  28.0    0.0    0.0   8.4583         1   \n",
       "6            7         0     1.0    1  54.0    0.0    0.0  51.8625         2   \n",
       "7            8         0     3.0    1   2.0    3.0    1.0  21.0750         2   \n",
       "8            9         1     3.0    0  27.0    0.0    2.0  11.1333         2   \n",
       "9           10         1     2.0    0  14.0    1.0    0.0  30.0708         0   \n",
       "\n",
       "   fold  \n",
       "0     1  \n",
       "1     4  \n",
       "2     3  \n",
       "3     3  \n",
       "4     0  \n",
       "5     4  \n",
       "6     0  \n",
       "7     4  \n",
       "8     4  \n",
       "9     3  "
      ]
     },
     "execution_count": 54,
     "metadata": {},
     "output_type": "execute_result"
    }
   ],
   "source": [
    "train.head(10)"
   ]
  },
  {
   "cell_type": "code",
   "execution_count": 55,
   "id": "662095cd",
   "metadata": {
    "execution": {
     "iopub.execute_input": "2022-07-27T22:08:04.356577Z",
     "iopub.status.busy": "2022-07-27T22:08:04.355858Z",
     "iopub.status.idle": "2022-07-27T22:08:04.369857Z",
     "shell.execute_reply": "2022-07-27T22:08:04.368992Z"
    },
    "papermill": {
     "duration": 0.046994,
     "end_time": "2022-07-27T22:08:04.371986",
     "exception": false,
     "start_time": "2022-07-27T22:08:04.324992",
     "status": "completed"
    },
    "tags": []
   },
   "outputs": [
    {
     "data": {
      "text/html": [
       "<div>\n",
       "<style scoped>\n",
       "    .dataframe tbody tr th:only-of-type {\n",
       "        vertical-align: middle;\n",
       "    }\n",
       "\n",
       "    .dataframe tbody tr th {\n",
       "        vertical-align: top;\n",
       "    }\n",
       "\n",
       "    .dataframe thead th {\n",
       "        text-align: right;\n",
       "    }\n",
       "</style>\n",
       "<table border=\"1\" class=\"dataframe\">\n",
       "  <thead>\n",
       "    <tr style=\"text-align: right;\">\n",
       "      <th></th>\n",
       "      <th>Survived</th>\n",
       "      <th>fold</th>\n",
       "      <th>pred_xgb1</th>\n",
       "      <th>pred_lgbm1</th>\n",
       "    </tr>\n",
       "    <tr>\n",
       "      <th>PassengerId</th>\n",
       "      <th></th>\n",
       "      <th></th>\n",
       "      <th></th>\n",
       "      <th></th>\n",
       "    </tr>\n",
       "  </thead>\n",
       "  <tbody>\n",
       "    <tr>\n",
       "      <th>1</th>\n",
       "      <td>0</td>\n",
       "      <td>1</td>\n",
       "      <td>0.063560</td>\n",
       "      <td>0.049931</td>\n",
       "    </tr>\n",
       "    <tr>\n",
       "      <th>2</th>\n",
       "      <td>1</td>\n",
       "      <td>4</td>\n",
       "      <td>0.967066</td>\n",
       "      <td>0.873740</td>\n",
       "    </tr>\n",
       "    <tr>\n",
       "      <th>3</th>\n",
       "      <td>1</td>\n",
       "      <td>3</td>\n",
       "      <td>0.641143</td>\n",
       "      <td>0.274642</td>\n",
       "    </tr>\n",
       "    <tr>\n",
       "      <th>4</th>\n",
       "      <td>1</td>\n",
       "      <td>3</td>\n",
       "      <td>0.987377</td>\n",
       "      <td>0.995384</td>\n",
       "    </tr>\n",
       "    <tr>\n",
       "      <th>5</th>\n",
       "      <td>0</td>\n",
       "      <td>0</td>\n",
       "      <td>0.163485</td>\n",
       "      <td>0.077964</td>\n",
       "    </tr>\n",
       "  </tbody>\n",
       "</table>\n",
       "</div>"
      ],
      "text/plain": [
       "             Survived  fold  pred_xgb1  pred_lgbm1\n",
       "PassengerId                                       \n",
       "1                   0     1   0.063560    0.049931\n",
       "2                   1     4   0.967066    0.873740\n",
       "3                   1     3   0.641143    0.274642\n",
       "4                   1     3   0.987377    0.995384\n",
       "5                   0     0   0.163485    0.077964"
      ]
     },
     "execution_count": 55,
     "metadata": {},
     "output_type": "execute_result"
    }
   ],
   "source": [
    "oof[\"pred_lgbm1\"] = final_valid_predictions_df[\"pred_lgbm1\"]\n",
    "oof.head()"
   ]
  },
  {
   "cell_type": "code",
   "execution_count": 56,
   "id": "0f818752",
   "metadata": {
    "execution": {
     "iopub.execute_input": "2022-07-27T22:08:04.433031Z",
     "iopub.status.busy": "2022-07-27T22:08:04.432307Z",
     "iopub.status.idle": "2022-07-27T22:08:04.450546Z",
     "shell.execute_reply": "2022-07-27T22:08:04.449689Z"
    },
    "papermill": {
     "duration": 0.051197,
     "end_time": "2022-07-27T22:08:04.452728",
     "exception": false,
     "start_time": "2022-07-27T22:08:04.401531",
     "status": "completed"
    },
    "tags": []
   },
   "outputs": [
    {
     "name": "stdout",
     "output_type": "stream",
     "text": [
      "Mean\n"
     ]
    },
    {
     "data": {
      "text/plain": [
       "array([0.07866885, 0.26068843, 0.08841815, 0.28875258, 0.29955905,\n",
       "       0.37177733, 0.50750124, 0.18450079, 0.73589166, 0.04400028,\n",
       "       0.0334911 , 0.12490202, 0.94775474, 0.04540242, 0.9431925 ,\n",
       "       0.88002872, 0.11788597, 0.30616484, 0.51443279, 0.50999095])"
      ]
     },
     "execution_count": 56,
     "metadata": {},
     "output_type": "execute_result"
    }
   ],
   "source": [
    "from scipy.stats import mode\n",
    "\n",
    "if Config.calc_probability:\n",
    "    print(\"Mean\")\n",
    "    result = np.mean(np.column_stack(final_test_predictions), axis=1)\n",
    "#     result = np.rint(m).astype(int)\n",
    "#     display(result)\n",
    "else:\n",
    "    print(\"Mode\")\n",
    "    mode_result = mode(np.column_stack(final_test_predictions), axis=1)\n",
    "    result = mode_result[0].ravel()\n",
    "\n",
    "result[:20]"
   ]
  },
  {
   "cell_type": "code",
   "execution_count": 57,
   "id": "71009220",
   "metadata": {
    "execution": {
     "iopub.execute_input": "2022-07-27T22:08:04.514045Z",
     "iopub.status.busy": "2022-07-27T22:08:04.513355Z",
     "iopub.status.idle": "2022-07-27T22:08:04.526995Z",
     "shell.execute_reply": "2022-07-27T22:08:04.526173Z"
    },
    "papermill": {
     "duration": 0.046572,
     "end_time": "2022-07-27T22:08:04.529018",
     "exception": false,
     "start_time": "2022-07-27T22:08:04.482446",
     "status": "completed"
    },
    "tags": []
   },
   "outputs": [
    {
     "data": {
      "text/html": [
       "<div>\n",
       "<style scoped>\n",
       "    .dataframe tbody tr th:only-of-type {\n",
       "        vertical-align: middle;\n",
       "    }\n",
       "\n",
       "    .dataframe tbody tr th {\n",
       "        vertical-align: top;\n",
       "    }\n",
       "\n",
       "    .dataframe thead th {\n",
       "        text-align: right;\n",
       "    }\n",
       "</style>\n",
       "<table border=\"1\" class=\"dataframe\">\n",
       "  <thead>\n",
       "    <tr style=\"text-align: right;\">\n",
       "      <th></th>\n",
       "      <th>PassengerId</th>\n",
       "      <th>target_xgb1</th>\n",
       "      <th>target_lgbm1</th>\n",
       "    </tr>\n",
       "  </thead>\n",
       "  <tbody>\n",
       "    <tr>\n",
       "      <th>0</th>\n",
       "      <td>892</td>\n",
       "      <td>0.127075</td>\n",
       "      <td>0.078669</td>\n",
       "    </tr>\n",
       "    <tr>\n",
       "      <th>1</th>\n",
       "      <td>893</td>\n",
       "      <td>0.245313</td>\n",
       "      <td>0.260688</td>\n",
       "    </tr>\n",
       "    <tr>\n",
       "      <th>2</th>\n",
       "      <td>894</td>\n",
       "      <td>0.060122</td>\n",
       "      <td>0.088418</td>\n",
       "    </tr>\n",
       "    <tr>\n",
       "      <th>3</th>\n",
       "      <td>895</td>\n",
       "      <td>0.157033</td>\n",
       "      <td>0.288753</td>\n",
       "    </tr>\n",
       "    <tr>\n",
       "      <th>4</th>\n",
       "      <td>896</td>\n",
       "      <td>0.369032</td>\n",
       "      <td>0.299559</td>\n",
       "    </tr>\n",
       "    <tr>\n",
       "      <th>5</th>\n",
       "      <td>897</td>\n",
       "      <td>0.252041</td>\n",
       "      <td>0.371777</td>\n",
       "    </tr>\n",
       "    <tr>\n",
       "      <th>6</th>\n",
       "      <td>898</td>\n",
       "      <td>0.646467</td>\n",
       "      <td>0.507501</td>\n",
       "    </tr>\n",
       "    <tr>\n",
       "      <th>7</th>\n",
       "      <td>899</td>\n",
       "      <td>0.149993</td>\n",
       "      <td>0.184501</td>\n",
       "    </tr>\n",
       "    <tr>\n",
       "      <th>8</th>\n",
       "      <td>900</td>\n",
       "      <td>0.707051</td>\n",
       "      <td>0.735892</td>\n",
       "    </tr>\n",
       "    <tr>\n",
       "      <th>9</th>\n",
       "      <td>901</td>\n",
       "      <td>0.035269</td>\n",
       "      <td>0.044000</td>\n",
       "    </tr>\n",
       "  </tbody>\n",
       "</table>\n",
       "</div>"
      ],
      "text/plain": [
       "   PassengerId  target_xgb1  target_lgbm1\n",
       "0          892     0.127075      0.078669\n",
       "1          893     0.245313      0.260688\n",
       "2          894     0.060122      0.088418\n",
       "3          895     0.157033      0.288753\n",
       "4          896     0.369032      0.299559\n",
       "5          897     0.252041      0.371777\n",
       "6          898     0.646467      0.507501\n",
       "7          899     0.149993      0.184501\n",
       "8          900     0.707051      0.735892\n",
       "9          901     0.035269      0.044000"
      ]
     },
     "execution_count": 57,
     "metadata": {},
     "output_type": "execute_result"
    }
   ],
   "source": [
    "submission_df[\"target_lgbm1\"] = result\n",
    "submission_df.head(10)"
   ]
  },
  {
   "cell_type": "code",
   "execution_count": 58,
   "id": "1221d5d1",
   "metadata": {
    "execution": {
     "iopub.execute_input": "2022-07-27T22:08:04.590812Z",
     "iopub.status.busy": "2022-07-27T22:08:04.590097Z",
     "iopub.status.idle": "2022-07-27T22:08:04.609542Z",
     "shell.execute_reply": "2022-07-27T22:08:04.608611Z"
    },
    "papermill": {
     "duration": 0.052918,
     "end_time": "2022-07-27T22:08:04.611783",
     "exception": false,
     "start_time": "2022-07-27T22:08:04.558865",
     "status": "completed"
    },
    "tags": []
   },
   "outputs": [
    {
     "data": {
      "text/html": [
       "<div>\n",
       "<style scoped>\n",
       "    .dataframe tbody tr th:only-of-type {\n",
       "        vertical-align: middle;\n",
       "    }\n",
       "\n",
       "    .dataframe tbody tr th {\n",
       "        vertical-align: top;\n",
       "    }\n",
       "\n",
       "    .dataframe thead th {\n",
       "        text-align: right;\n",
       "    }\n",
       "</style>\n",
       "<table border=\"1\" class=\"dataframe\">\n",
       "  <thead>\n",
       "    <tr style=\"text-align: right;\">\n",
       "      <th></th>\n",
       "      <th>PassengerId</th>\n",
       "      <th>Survived</th>\n",
       "    </tr>\n",
       "  </thead>\n",
       "  <tbody>\n",
       "    <tr>\n",
       "      <th>0</th>\n",
       "      <td>892</td>\n",
       "      <td>0.078669</td>\n",
       "    </tr>\n",
       "    <tr>\n",
       "      <th>1</th>\n",
       "      <td>893</td>\n",
       "      <td>0.260688</td>\n",
       "    </tr>\n",
       "    <tr>\n",
       "      <th>2</th>\n",
       "      <td>894</td>\n",
       "      <td>0.088418</td>\n",
       "    </tr>\n",
       "    <tr>\n",
       "      <th>3</th>\n",
       "      <td>895</td>\n",
       "      <td>0.288753</td>\n",
       "    </tr>\n",
       "    <tr>\n",
       "      <th>4</th>\n",
       "      <td>896</td>\n",
       "      <td>0.299559</td>\n",
       "    </tr>\n",
       "    <tr>\n",
       "      <th>...</th>\n",
       "      <td>...</td>\n",
       "      <td>...</td>\n",
       "    </tr>\n",
       "    <tr>\n",
       "      <th>413</th>\n",
       "      <td>1305</td>\n",
       "      <td>0.065595</td>\n",
       "    </tr>\n",
       "    <tr>\n",
       "      <th>414</th>\n",
       "      <td>1306</td>\n",
       "      <td>0.966560</td>\n",
       "    </tr>\n",
       "    <tr>\n",
       "      <th>415</th>\n",
       "      <td>1307</td>\n",
       "      <td>0.021475</td>\n",
       "    </tr>\n",
       "    <tr>\n",
       "      <th>416</th>\n",
       "      <td>1308</td>\n",
       "      <td>0.065595</td>\n",
       "    </tr>\n",
       "    <tr>\n",
       "      <th>417</th>\n",
       "      <td>1309</td>\n",
       "      <td>0.383889</td>\n",
       "    </tr>\n",
       "  </tbody>\n",
       "</table>\n",
       "<p>418 rows × 2 columns</p>\n",
       "</div>"
      ],
      "text/plain": [
       "     PassengerId  Survived\n",
       "0            892  0.078669\n",
       "1            893  0.260688\n",
       "2            894  0.088418\n",
       "3            895  0.288753\n",
       "4            896  0.299559\n",
       "..           ...       ...\n",
       "413         1305  0.065595\n",
       "414         1306  0.966560\n",
       "415         1307  0.021475\n",
       "416         1308  0.065595\n",
       "417         1309  0.383889\n",
       "\n",
       "[418 rows x 2 columns]"
      ]
     },
     "execution_count": 58,
     "metadata": {},
     "output_type": "execute_result"
    }
   ],
   "source": [
    "ss = (\n",
    "    submission_df[[\"PassengerId\", \"target_lgbm1\"]].copy().reset_index(drop=True)\n",
    ")  # [np.rint(sample_submission[\"target_lgbm1\"]).astype(int)\n",
    "ss.rename(columns={\"target_lgbm1\": \"Survived\"}, inplace=True)\n",
    "ss"
   ]
  },
  {
   "cell_type": "code",
   "execution_count": 59,
   "id": "2276f1a1",
   "metadata": {
    "execution": {
     "iopub.execute_input": "2022-07-27T22:08:04.673964Z",
     "iopub.status.busy": "2022-07-27T22:08:04.673540Z",
     "iopub.status.idle": "2022-07-27T22:08:04.690284Z",
     "shell.execute_reply": "2022-07-27T22:08:04.689316Z"
    },
    "papermill": {
     "duration": 0.050185,
     "end_time": "2022-07-27T22:08:04.692332",
     "exception": false,
     "start_time": "2022-07-27T22:08:04.642147",
     "status": "completed"
    },
    "tags": []
   },
   "outputs": [
    {
     "data": {
      "text/html": [
       "<div>\n",
       "<style scoped>\n",
       "    .dataframe tbody tr th:only-of-type {\n",
       "        vertical-align: middle;\n",
       "    }\n",
       "\n",
       "    .dataframe tbody tr th {\n",
       "        vertical-align: top;\n",
       "    }\n",
       "\n",
       "    .dataframe thead th {\n",
       "        text-align: right;\n",
       "    }\n",
       "</style>\n",
       "<table border=\"1\" class=\"dataframe\">\n",
       "  <thead>\n",
       "    <tr style=\"text-align: right;\">\n",
       "      <th></th>\n",
       "      <th>PassengerId</th>\n",
       "      <th>Survived</th>\n",
       "    </tr>\n",
       "  </thead>\n",
       "  <tbody>\n",
       "    <tr>\n",
       "      <th>0</th>\n",
       "      <td>892</td>\n",
       "      <td>0</td>\n",
       "    </tr>\n",
       "    <tr>\n",
       "      <th>1</th>\n",
       "      <td>893</td>\n",
       "      <td>0</td>\n",
       "    </tr>\n",
       "    <tr>\n",
       "      <th>2</th>\n",
       "      <td>894</td>\n",
       "      <td>0</td>\n",
       "    </tr>\n",
       "    <tr>\n",
       "      <th>3</th>\n",
       "      <td>895</td>\n",
       "      <td>0</td>\n",
       "    </tr>\n",
       "    <tr>\n",
       "      <th>4</th>\n",
       "      <td>896</td>\n",
       "      <td>0</td>\n",
       "    </tr>\n",
       "  </tbody>\n",
       "</table>\n",
       "</div>"
      ],
      "text/plain": [
       "   PassengerId  Survived\n",
       "0          892         0\n",
       "1          893         0\n",
       "2          894         0\n",
       "3          895         0\n",
       "4          896         0"
      ]
     },
     "execution_count": 59,
     "metadata": {},
     "output_type": "execute_result"
    }
   ],
   "source": [
    "ss[TARGET] = np.rint(ss[TARGET]).astype(int)\n",
    "ss.to_csv(\"submission_lgbm1.csv\", index=False)\n",
    "ss.head()"
   ]
  },
  {
   "cell_type": "markdown",
   "id": "38ccceee",
   "metadata": {
    "papermill": {
     "duration": 0.02971,
     "end_time": "2022-07-27T22:08:04.752073",
     "exception": false,
     "start_time": "2022-07-27T22:08:04.722363",
     "status": "completed"
    },
    "tags": []
   },
   "source": [
    "<div style=\"background-color:rgba(255, 215, 0, 0.6);border-radius:5px;display:fill\"><h1 style=\"text-align: center;padding: 12px 0px 12px 0px;\">Weighted Blend Based on OOF</h1>\n",
    "</div>"
   ]
  },
  {
   "cell_type": "code",
   "execution_count": 60,
   "id": "eaa4b70d",
   "metadata": {
    "execution": {
     "iopub.execute_input": "2022-07-27T22:08:04.815541Z",
     "iopub.status.busy": "2022-07-27T22:08:04.814819Z",
     "iopub.status.idle": "2022-07-27T22:08:04.826709Z",
     "shell.execute_reply": "2022-07-27T22:08:04.825929Z"
    },
    "papermill": {
     "duration": 0.045901,
     "end_time": "2022-07-27T22:08:04.829017",
     "exception": false,
     "start_time": "2022-07-27T22:08:04.783116",
     "status": "completed"
    },
    "tags": []
   },
   "outputs": [
    {
     "data": {
      "text/html": [
       "<div>\n",
       "<style scoped>\n",
       "    .dataframe tbody tr th:only-of-type {\n",
       "        vertical-align: middle;\n",
       "    }\n",
       "\n",
       "    .dataframe tbody tr th {\n",
       "        vertical-align: top;\n",
       "    }\n",
       "\n",
       "    .dataframe thead th {\n",
       "        text-align: right;\n",
       "    }\n",
       "</style>\n",
       "<table border=\"1\" class=\"dataframe\">\n",
       "  <thead>\n",
       "    <tr style=\"text-align: right;\">\n",
       "      <th></th>\n",
       "      <th>Survived</th>\n",
       "      <th>fold</th>\n",
       "      <th>pred_xgb1</th>\n",
       "      <th>pred_lgbm1</th>\n",
       "    </tr>\n",
       "    <tr>\n",
       "      <th>PassengerId</th>\n",
       "      <th></th>\n",
       "      <th></th>\n",
       "      <th></th>\n",
       "      <th></th>\n",
       "    </tr>\n",
       "  </thead>\n",
       "  <tbody>\n",
       "    <tr>\n",
       "      <th>1</th>\n",
       "      <td>0</td>\n",
       "      <td>1</td>\n",
       "      <td>0.063560</td>\n",
       "      <td>0.049931</td>\n",
       "    </tr>\n",
       "    <tr>\n",
       "      <th>2</th>\n",
       "      <td>1</td>\n",
       "      <td>4</td>\n",
       "      <td>0.967066</td>\n",
       "      <td>0.873740</td>\n",
       "    </tr>\n",
       "    <tr>\n",
       "      <th>3</th>\n",
       "      <td>1</td>\n",
       "      <td>3</td>\n",
       "      <td>0.641143</td>\n",
       "      <td>0.274642</td>\n",
       "    </tr>\n",
       "    <tr>\n",
       "      <th>4</th>\n",
       "      <td>1</td>\n",
       "      <td>3</td>\n",
       "      <td>0.987377</td>\n",
       "      <td>0.995384</td>\n",
       "    </tr>\n",
       "    <tr>\n",
       "      <th>5</th>\n",
       "      <td>0</td>\n",
       "      <td>0</td>\n",
       "      <td>0.163485</td>\n",
       "      <td>0.077964</td>\n",
       "    </tr>\n",
       "  </tbody>\n",
       "</table>\n",
       "</div>"
      ],
      "text/plain": [
       "             Survived  fold  pred_xgb1  pred_lgbm1\n",
       "PassengerId                                       \n",
       "1                   0     1   0.063560    0.049931\n",
       "2                   1     4   0.967066    0.873740\n",
       "3                   1     3   0.641143    0.274642\n",
       "4                   1     3   0.987377    0.995384\n",
       "5                   0     0   0.163485    0.077964"
      ]
     },
     "execution_count": 60,
     "metadata": {},
     "output_type": "execute_result"
    }
   ],
   "source": [
    "oof.head()"
   ]
  },
  {
   "cell_type": "code",
   "execution_count": 61,
   "id": "be4ccda4",
   "metadata": {
    "execution": {
     "iopub.execute_input": "2022-07-27T22:08:04.891961Z",
     "iopub.status.busy": "2022-07-27T22:08:04.891563Z",
     "iopub.status.idle": "2022-07-27T22:08:04.902315Z",
     "shell.execute_reply": "2022-07-27T22:08:04.901445Z"
    },
    "papermill": {
     "duration": 0.045017,
     "end_time": "2022-07-27T22:08:04.904677",
     "exception": false,
     "start_time": "2022-07-27T22:08:04.859660",
     "status": "completed"
    },
    "tags": []
   },
   "outputs": [
    {
     "data": {
      "text/plain": [
       "[]"
      ]
     },
     "execution_count": 61,
     "metadata": {},
     "output_type": "execute_result"
    }
   ],
   "source": [
    "pred_cols = [c for c in submission_df.columns if c.startswith(\"pred_\")]\n",
    "pred_cols"
   ]
  },
  {
   "cell_type": "code",
   "execution_count": 62,
   "id": "7508bdbb",
   "metadata": {
    "execution": {
     "iopub.execute_input": "2022-07-27T22:08:04.969950Z",
     "iopub.status.busy": "2022-07-27T22:08:04.969129Z",
     "iopub.status.idle": "2022-07-27T22:08:05.371227Z",
     "shell.execute_reply": "2022-07-27T22:08:05.370195Z"
    },
    "papermill": {
     "duration": 0.438245,
     "end_time": "2022-07-27T22:08:05.374007",
     "exception": false,
     "start_time": "2022-07-27T22:08:04.935762",
     "status": "completed"
    },
    "tags": []
   },
   "outputs": [
    {
     "data": {
      "image/png": "[encoded data removed]",
      "text/plain": [
       "<Figure size 864x360 with 2 Axes>"
      ]
     },
     "metadata": {},
     "output_type": "display_data"
    }
   ],
   "source": [
    "fig, axs = plt.subplots(1, 2, figsize=(12, 5))\n",
    "oof.plot(\n",
    "    x=\"pred_lgbm1\",\n",
    "    y=\"pred_xgb1\",\n",
    "    kind=\"scatter\",\n",
    "    title=\"Compare OOF predictions for two models\",\n",
    "    ax=axs[0],\n",
    ")\n",
    "\n",
    "submission_df.plot(\n",
    "    x=\"target_lgbm1\",\n",
    "    y=\"target_xgb1\",\n",
    "    kind=\"scatter\",\n",
    "    title=\"Compare Test predictions for two models\",\n",
    "    ax=axs[1],\n",
    ")\n",
    "plt.show()"
   ]
  },
  {
   "cell_type": "code",
   "execution_count": 63,
   "id": "fe6e478a",
   "metadata": {
    "execution": {
     "iopub.execute_input": "2022-07-27T22:08:05.439986Z",
     "iopub.status.busy": "2022-07-27T22:08:05.439571Z",
     "iopub.status.idle": "2022-07-27T22:08:05.451516Z",
     "shell.execute_reply": "2022-07-27T22:08:05.450694Z"
    },
    "papermill": {
     "duration": 0.047681,
     "end_time": "2022-07-27T22:08:05.453682",
     "exception": false,
     "start_time": "2022-07-27T22:08:05.406001",
     "status": "completed"
    },
    "tags": []
   },
   "outputs": [],
   "source": [
    "from sklearn.metrics import mean_absolute_error\n",
    "\n",
    "\n",
    "def get_oof_mae_score(weight, oof, pred_model1, pred_model2):\n",
    "    blend_pred = (oof[pred_model1] * weight) + (oof[pred_model2] * (1 - weight))\n",
    "    return mean_absolute_error(oof[TARGET], blend_pred)"
   ]
  },
  {
   "cell_type": "code",
   "execution_count": 64,
   "id": "7e170926",
   "metadata": {
    "execution": {
     "iopub.execute_input": "2022-07-27T22:08:05.519828Z",
     "iopub.status.busy": "2022-07-27T22:08:05.519403Z",
     "iopub.status.idle": "2022-07-27T22:08:05.531820Z",
     "shell.execute_reply": "2022-07-27T22:08:05.530991Z"
    },
    "papermill": {
     "duration": 0.047951,
     "end_time": "2022-07-27T22:08:05.533923",
     "exception": false,
     "start_time": "2022-07-27T22:08:05.485972",
     "status": "completed"
    },
    "tags": []
   },
   "outputs": [
    {
     "data": {
      "text/html": [
       "<div>\n",
       "<style scoped>\n",
       "    .dataframe tbody tr th:only-of-type {\n",
       "        vertical-align: middle;\n",
       "    }\n",
       "\n",
       "    .dataframe tbody tr th {\n",
       "        vertical-align: top;\n",
       "    }\n",
       "\n",
       "    .dataframe thead th {\n",
       "        text-align: right;\n",
       "    }\n",
       "</style>\n",
       "<table border=\"1\" class=\"dataframe\">\n",
       "  <thead>\n",
       "    <tr style=\"text-align: right;\">\n",
       "      <th></th>\n",
       "      <th>Survived</th>\n",
       "      <th>fold</th>\n",
       "      <th>pred_xgb1</th>\n",
       "      <th>pred_lgbm1</th>\n",
       "    </tr>\n",
       "    <tr>\n",
       "      <th>PassengerId</th>\n",
       "      <th></th>\n",
       "      <th></th>\n",
       "      <th></th>\n",
       "      <th></th>\n",
       "    </tr>\n",
       "  </thead>\n",
       "  <tbody>\n",
       "    <tr>\n",
       "      <th>1</th>\n",
       "      <td>0</td>\n",
       "      <td>1</td>\n",
       "      <td>0.063560</td>\n",
       "      <td>0.049931</td>\n",
       "    </tr>\n",
       "    <tr>\n",
       "      <th>2</th>\n",
       "      <td>1</td>\n",
       "      <td>4</td>\n",
       "      <td>0.967066</td>\n",
       "      <td>0.873740</td>\n",
       "    </tr>\n",
       "    <tr>\n",
       "      <th>3</th>\n",
       "      <td>1</td>\n",
       "      <td>3</td>\n",
       "      <td>0.641143</td>\n",
       "      <td>0.274642</td>\n",
       "    </tr>\n",
       "    <tr>\n",
       "      <th>4</th>\n",
       "      <td>1</td>\n",
       "      <td>3</td>\n",
       "      <td>0.987377</td>\n",
       "      <td>0.995384</td>\n",
       "    </tr>\n",
       "    <tr>\n",
       "      <th>5</th>\n",
       "      <td>0</td>\n",
       "      <td>0</td>\n",
       "      <td>0.163485</td>\n",
       "      <td>0.077964</td>\n",
       "    </tr>\n",
       "  </tbody>\n",
       "</table>\n",
       "</div>"
      ],
      "text/plain": [
       "             Survived  fold  pred_xgb1  pred_lgbm1\n",
       "PassengerId                                       \n",
       "1                   0     1   0.063560    0.049931\n",
       "2                   1     4   0.967066    0.873740\n",
       "3                   1     3   0.641143    0.274642\n",
       "4                   1     3   0.987377    0.995384\n",
       "5                   0     0   0.163485    0.077964"
      ]
     },
     "execution_count": 64,
     "metadata": {},
     "output_type": "execute_result"
    }
   ],
   "source": [
    "oof.head()"
   ]
  },
  {
   "cell_type": "code",
   "execution_count": 65,
   "id": "7a0f6c4a",
   "metadata": {
    "execution": {
     "iopub.execute_input": "2022-07-27T22:08:05.600313Z",
     "iopub.status.busy": "2022-07-27T22:08:05.599665Z",
     "iopub.status.idle": "2022-07-27T22:08:05.612303Z",
     "shell.execute_reply": "2022-07-27T22:08:05.611231Z"
    },
    "papermill": {
     "duration": 0.048736,
     "end_time": "2022-07-27T22:08:05.614910",
     "exception": false,
     "start_time": "2022-07-27T22:08:05.566174",
     "status": "completed"
    },
    "tags": []
   },
   "outputs": [],
   "source": [
    "def get_oof_score(weight, oof, pred_model1, pred_model2):\n",
    "    blend_pred = (oof[pred_model1] * weight) + (oof[pred_model2] * (1 - weight))\n",
    "    blend_int = np.rint(blend_pred).astype(int)\n",
    "    score = accuracy_score(oof[TARGET], blend_int)\n",
    "    #     print(f\"weight: {weight} Score: {score}\")\n",
    "    return score"
   ]
  },
  {
   "cell_type": "code",
   "execution_count": 66,
   "id": "2990778f",
   "metadata": {
    "execution": {
     "iopub.execute_input": "2022-07-27T22:08:05.680941Z",
     "iopub.status.busy": "2022-07-27T22:08:05.679782Z",
     "iopub.status.idle": "2022-07-27T22:08:05.801734Z",
     "shell.execute_reply": "2022-07-27T22:08:05.800587Z"
    },
    "papermill": {
     "duration": 0.158209,
     "end_time": "2022-07-27T22:08:05.804851",
     "exception": false,
     "start_time": "2022-07-27T22:08:05.646642",
     "status": "completed"
    },
    "tags": []
   },
   "outputs": [
    {
     "name": "stdout",
     "output_type": "stream",
     "text": [
      "Best Weight: 0.0,Score 0.8406285072951739\n",
      "Best Weight: 0.03,Score 0.8417508417508418\n",
      "Best Weight: 0.04,Score 0.8428731762065096\n",
      "Best Weight: 0.11,Score 0.8439955106621774\n",
      "Best Weight: 0.12,Score 0.8451178451178452\n",
      "Best Weight: 0.14,Score 0.8462401795735129\n",
      "Best Weight: 0.18,Score 0.8473625140291807\n",
      "Best Weight: 0.19,Score 0.8484848484848485\n",
      "Best Weight: 0.25,Score 0.8496071829405163\n",
      "Best Weight: 0.29,Score 0.8507295173961841\n"
     ]
    }
   ],
   "source": [
    "myscores = {}\n",
    "best = 0\n",
    "best_weight = 0\n",
    "\n",
    "for weight in range(100):\n",
    "    weight /= 100\n",
    "    score = get_oof_score(weight, oof, \"pred_xgb1\", \"pred_lgbm1\")\n",
    "    if score > best:\n",
    "        best = score\n",
    "        best_weight = weight\n",
    "        print(f\"Best Weight: {best_weight},Score {best}\")\n",
    "    myscores[weight] = score"
   ]
  },
  {
   "cell_type": "code",
   "execution_count": 67,
   "id": "e4379b7f",
   "metadata": {
    "execution": {
     "iopub.execute_input": "2022-07-27T22:08:05.872140Z",
     "iopub.status.busy": "2022-07-27T22:08:05.871700Z",
     "iopub.status.idle": "2022-07-27T22:08:05.883733Z",
     "shell.execute_reply": "2022-07-27T22:08:05.882939Z"
    },
    "papermill": {
     "duration": 0.048609,
     "end_time": "2022-07-27T22:08:05.886068",
     "exception": false,
     "start_time": "2022-07-27T22:08:05.837459",
     "status": "completed"
    },
    "tags": []
   },
   "outputs": [],
   "source": [
    "blend_results = pd.DataFrame(myscores, index=[\"score\"]).T"
   ]
  },
  {
   "cell_type": "code",
   "execution_count": 68,
   "id": "49da1407",
   "metadata": {
    "execution": {
     "iopub.execute_input": "2022-07-27T22:08:05.952434Z",
     "iopub.status.busy": "2022-07-27T22:08:05.951608Z",
     "iopub.status.idle": "2022-07-27T22:08:06.174373Z",
     "shell.execute_reply": "2022-07-27T22:08:06.173114Z"
    },
    "papermill": {
     "duration": 0.259285,
     "end_time": "2022-07-27T22:08:06.177172",
     "exception": false,
     "start_time": "2022-07-27T22:08:05.917887",
     "status": "completed"
    },
    "tags": []
   },
   "outputs": [
    {
     "data": {
      "image/png": "[encoded data removed]",
      "text/plain": [
       "<Figure size 432x288 with 1 Axes>"
      ]
     },
     "metadata": {},
     "output_type": "display_data"
    }
   ],
   "source": [
    "ax = blend_results.plot(title=\"Weight vs. OOF Score\")\n",
    "ax.set_ylabel(\"OOF Score\")\n",
    "ax.set_xlabel(\"Weight %\")\n",
    "\n",
    "plt.show()"
   ]
  },
  {
   "cell_type": "markdown",
   "id": "9544a3a4",
   "metadata": {
    "papermill": {
     "duration": 0.032257,
     "end_time": "2022-07-27T22:08:06.242614",
     "exception": false,
     "start_time": "2022-07-27T22:08:06.210357",
     "status": "completed"
    },
    "tags": []
   },
   "source": [
    "### The Blended Weight is ..."
   ]
  },
  {
   "cell_type": "code",
   "execution_count": 69,
   "id": "5ff198ad",
   "metadata": {
    "execution": {
     "iopub.execute_input": "2022-07-27T22:08:06.309843Z",
     "iopub.status.busy": "2022-07-27T22:08:06.309425Z",
     "iopub.status.idle": "2022-07-27T22:08:06.324296Z",
     "shell.execute_reply": "2022-07-27T22:08:06.323382Z"
    },
    "papermill": {
     "duration": 0.051068,
     "end_time": "2022-07-27T22:08:06.326396",
     "exception": false,
     "start_time": "2022-07-27T22:08:06.275328",
     "status": "completed"
    },
    "tags": []
   },
   "outputs": [
    {
     "data": {
      "text/html": [
       "<div>\n",
       "<style scoped>\n",
       "    .dataframe tbody tr th:only-of-type {\n",
       "        vertical-align: middle;\n",
       "    }\n",
       "\n",
       "    .dataframe tbody tr th {\n",
       "        vertical-align: top;\n",
       "    }\n",
       "\n",
       "    .dataframe thead th {\n",
       "        text-align: right;\n",
       "    }\n",
       "</style>\n",
       "<table border=\"1\" class=\"dataframe\">\n",
       "  <thead>\n",
       "    <tr style=\"text-align: right;\">\n",
       "      <th></th>\n",
       "      <th>score</th>\n",
       "    </tr>\n",
       "  </thead>\n",
       "  <tbody>\n",
       "    <tr>\n",
       "      <th>0.29</th>\n",
       "      <td>0.85073</td>\n",
       "    </tr>\n",
       "    <tr>\n",
       "      <th>0.30</th>\n",
       "      <td>0.85073</td>\n",
       "    </tr>\n",
       "    <tr>\n",
       "      <th>0.32</th>\n",
       "      <td>0.85073</td>\n",
       "    </tr>\n",
       "    <tr>\n",
       "      <th>0.33</th>\n",
       "      <td>0.85073</td>\n",
       "    </tr>\n",
       "    <tr>\n",
       "      <th>0.34</th>\n",
       "      <td>0.85073</td>\n",
       "    </tr>\n",
       "    <tr>\n",
       "      <th>0.35</th>\n",
       "      <td>0.85073</td>\n",
       "    </tr>\n",
       "  </tbody>\n",
       "</table>\n",
       "</div>"
      ],
      "text/plain": [
       "        score\n",
       "0.29  0.85073\n",
       "0.30  0.85073\n",
       "0.32  0.85073\n",
       "0.33  0.85073\n",
       "0.34  0.85073\n",
       "0.35  0.85073"
      ]
     },
     "execution_count": 69,
     "metadata": {},
     "output_type": "execute_result"
    }
   ],
   "source": [
    "blend_results.loc[blend_results[\"score\"] == blend_results[\"score\"].max()]"
   ]
  },
  {
   "cell_type": "code",
   "execution_count": 70,
   "id": "2b325f96",
   "metadata": {
    "execution": {
     "iopub.execute_input": "2022-07-27T22:08:06.394428Z",
     "iopub.status.busy": "2022-07-27T22:08:06.393596Z",
     "iopub.status.idle": "2022-07-27T22:08:06.402515Z",
     "shell.execute_reply": "2022-07-27T22:08:06.401370Z"
    },
    "papermill": {
     "duration": 0.04693,
     "end_time": "2022-07-27T22:08:06.406115",
     "exception": false,
     "start_time": "2022-07-27T22:08:06.359185",
     "status": "completed"
    },
    "tags": []
   },
   "outputs": [
    {
     "name": "stdout",
     "output_type": "stream",
     "text": [
      "Blended Score: 0.85072952\n"
     ]
    }
   ],
   "source": [
    "blend_score = blend_results[\"score\"].max()\n",
    "# best_cv_score = 0.004722\n",
    "print(f\"Blended Score: {blend_score:.8f}\")"
   ]
  },
  {
   "cell_type": "code",
   "execution_count": 71,
   "id": "96ebed1d",
   "metadata": {
    "execution": {
     "iopub.execute_input": "2022-07-27T22:08:06.474068Z",
     "iopub.status.busy": "2022-07-27T22:08:06.473631Z",
     "iopub.status.idle": "2022-07-27T22:08:06.488761Z",
     "shell.execute_reply": "2022-07-27T22:08:06.487951Z"
    },
    "papermill": {
     "duration": 0.052057,
     "end_time": "2022-07-27T22:08:06.491064",
     "exception": false,
     "start_time": "2022-07-27T22:08:06.439007",
     "status": "completed"
    },
    "tags": []
   },
   "outputs": [
    {
     "data": {
      "text/html": [
       "<div>\n",
       "<style scoped>\n",
       "    .dataframe tbody tr th:only-of-type {\n",
       "        vertical-align: middle;\n",
       "    }\n",
       "\n",
       "    .dataframe tbody tr th {\n",
       "        vertical-align: top;\n",
       "    }\n",
       "\n",
       "    .dataframe thead th {\n",
       "        text-align: right;\n",
       "    }\n",
       "</style>\n",
       "<table border=\"1\" class=\"dataframe\">\n",
       "  <thead>\n",
       "    <tr style=\"text-align: right;\">\n",
       "      <th></th>\n",
       "      <th>score</th>\n",
       "    </tr>\n",
       "  </thead>\n",
       "  <tbody>\n",
       "    <tr>\n",
       "      <th>0.29</th>\n",
       "      <td>0.85073</td>\n",
       "    </tr>\n",
       "    <tr>\n",
       "      <th>0.30</th>\n",
       "      <td>0.85073</td>\n",
       "    </tr>\n",
       "    <tr>\n",
       "      <th>0.32</th>\n",
       "      <td>0.85073</td>\n",
       "    </tr>\n",
       "    <tr>\n",
       "      <th>0.33</th>\n",
       "      <td>0.85073</td>\n",
       "    </tr>\n",
       "    <tr>\n",
       "      <th>0.34</th>\n",
       "      <td>0.85073</td>\n",
       "    </tr>\n",
       "    <tr>\n",
       "      <th>0.35</th>\n",
       "      <td>0.85073</td>\n",
       "    </tr>\n",
       "  </tbody>\n",
       "</table>\n",
       "</div>"
      ],
      "text/plain": [
       "        score\n",
       "0.29  0.85073\n",
       "0.30  0.85073\n",
       "0.32  0.85073\n",
       "0.33  0.85073\n",
       "0.34  0.85073\n",
       "0.35  0.85073"
      ]
     },
     "execution_count": 71,
     "metadata": {},
     "output_type": "execute_result"
    }
   ],
   "source": [
    "w = blend_results.loc[blend_results[\"score\"] == blend_results[\"score\"].max()]\n",
    "w"
   ]
  },
  {
   "cell_type": "code",
   "execution_count": 72,
   "id": "da3db93f",
   "metadata": {
    "execution": {
     "iopub.execute_input": "2022-07-27T22:08:06.559602Z",
     "iopub.status.busy": "2022-07-27T22:08:06.558823Z",
     "iopub.status.idle": "2022-07-27T22:08:06.567726Z",
     "shell.execute_reply": "2022-07-27T22:08:06.566996Z"
    },
    "papermill": {
     "duration": 0.045619,
     "end_time": "2022-07-27T22:08:06.569959",
     "exception": false,
     "start_time": "2022-07-27T22:08:06.524340",
     "status": "completed"
    },
    "tags": []
   },
   "outputs": [
    {
     "data": {
      "text/plain": [
       "0.29"
      ]
     },
     "execution_count": 72,
     "metadata": {},
     "output_type": "execute_result"
    }
   ],
   "source": [
    "wt = w.first_valid_index()\n",
    "wt"
   ]
  },
  {
   "cell_type": "code",
   "execution_count": 73,
   "id": "0e6f9634",
   "metadata": {
    "execution": {
     "iopub.execute_input": "2022-07-27T22:08:06.638021Z",
     "iopub.status.busy": "2022-07-27T22:08:06.637602Z",
     "iopub.status.idle": "2022-07-27T22:08:06.648144Z",
     "shell.execute_reply": "2022-07-27T22:08:06.647321Z"
    },
    "papermill": {
     "duration": 0.047338,
     "end_time": "2022-07-27T22:08:06.650336",
     "exception": false,
     "start_time": "2022-07-27T22:08:06.602998",
     "status": "completed"
    },
    "tags": []
   },
   "outputs": [
    {
     "data": {
      "text/plain": [
       "0.00    0.840629\n",
       "0.01    0.840629\n",
       "0.02    0.840629\n",
       "0.03    0.841751\n",
       "0.04    0.842873\n",
       "          ...   \n",
       "0.95    0.835017\n",
       "0.96    0.833895\n",
       "0.97    0.833895\n",
       "0.98    0.833895\n",
       "0.99    0.831650\n",
       "Name: score, Length: 100, dtype: float64"
      ]
     },
     "execution_count": 73,
     "metadata": {},
     "output_type": "execute_result"
    }
   ],
   "source": [
    "blend_results[\"score\"]"
   ]
  },
  {
   "cell_type": "markdown",
   "id": "a86ce64a",
   "metadata": {
    "papermill": {
     "duration": 0.033565,
     "end_time": "2022-07-27T22:08:06.717475",
     "exception": false,
     "start_time": "2022-07-27T22:08:06.683910",
     "status": "completed"
    },
    "tags": []
   },
   "source": [
    "<div style=\"background-color:rgba(255, 215, 0, 0.6);border-radius:5px;display:fill\"><h1 style=\"text-align: center;padding: 12px 0px 12px 0px;\">Submission File</h1>\n",
    "</div>\n",
    "\n",
    "The sample file and our data is in the same row order.  This allows us to simply assign our prediction to the target column (`Survived`) in the sample submission."
   ]
  },
  {
   "cell_type": "code",
   "execution_count": 74,
   "id": "78596198",
   "metadata": {
    "execution": {
     "iopub.execute_input": "2022-07-27T22:08:06.788298Z",
     "iopub.status.busy": "2022-07-27T22:08:06.787391Z",
     "iopub.status.idle": "2022-07-27T22:08:06.793581Z",
     "shell.execute_reply": "2022-07-27T22:08:06.792348Z"
    },
    "papermill": {
     "duration": 0.044588,
     "end_time": "2022-07-27T22:08:06.795893",
     "exception": false,
     "start_time": "2022-07-27T22:08:06.751305",
     "status": "completed"
    },
    "tags": []
   },
   "outputs": [],
   "source": [
    "# pred_cols = [c for c in submission_df.columns if c.startswith(\"pred_\")]\n",
    "# pred_cols"
   ]
  },
  {
   "cell_type": "code",
   "execution_count": 75,
   "id": "44a5d5f4",
   "metadata": {
    "execution": {
     "iopub.execute_input": "2022-07-27T22:08:06.864875Z",
     "iopub.status.busy": "2022-07-27T22:08:06.864115Z",
     "iopub.status.idle": "2022-07-27T22:08:06.876625Z",
     "shell.execute_reply": "2022-07-27T22:08:06.875846Z"
    },
    "papermill": {
     "duration": 0.049548,
     "end_time": "2022-07-27T22:08:06.878896",
     "exception": false,
     "start_time": "2022-07-27T22:08:06.829348",
     "status": "completed"
    },
    "tags": []
   },
   "outputs": [
    {
     "data": {
      "text/html": [
       "<div>\n",
       "<style scoped>\n",
       "    .dataframe tbody tr th:only-of-type {\n",
       "        vertical-align: middle;\n",
       "    }\n",
       "\n",
       "    .dataframe tbody tr th {\n",
       "        vertical-align: top;\n",
       "    }\n",
       "\n",
       "    .dataframe thead th {\n",
       "        text-align: right;\n",
       "    }\n",
       "</style>\n",
       "<table border=\"1\" class=\"dataframe\">\n",
       "  <thead>\n",
       "    <tr style=\"text-align: right;\">\n",
       "      <th></th>\n",
       "      <th>PassengerId</th>\n",
       "      <th>target_xgb1</th>\n",
       "      <th>target_lgbm1</th>\n",
       "    </tr>\n",
       "  </thead>\n",
       "  <tbody>\n",
       "    <tr>\n",
       "      <th>0</th>\n",
       "      <td>892</td>\n",
       "      <td>0.127075</td>\n",
       "      <td>0.078669</td>\n",
       "    </tr>\n",
       "    <tr>\n",
       "      <th>1</th>\n",
       "      <td>893</td>\n",
       "      <td>0.245313</td>\n",
       "      <td>0.260688</td>\n",
       "    </tr>\n",
       "    <tr>\n",
       "      <th>2</th>\n",
       "      <td>894</td>\n",
       "      <td>0.060122</td>\n",
       "      <td>0.088418</td>\n",
       "    </tr>\n",
       "    <tr>\n",
       "      <th>3</th>\n",
       "      <td>895</td>\n",
       "      <td>0.157033</td>\n",
       "      <td>0.288753</td>\n",
       "    </tr>\n",
       "    <tr>\n",
       "      <th>4</th>\n",
       "      <td>896</td>\n",
       "      <td>0.369032</td>\n",
       "      <td>0.299559</td>\n",
       "    </tr>\n",
       "  </tbody>\n",
       "</table>\n",
       "</div>"
      ],
      "text/plain": [
       "   PassengerId  target_xgb1  target_lgbm1\n",
       "0          892     0.127075      0.078669\n",
       "1          893     0.245313      0.260688\n",
       "2          894     0.060122      0.088418\n",
       "3          895     0.157033      0.288753\n",
       "4          896     0.369032      0.299559"
      ]
     },
     "execution_count": 75,
     "metadata": {},
     "output_type": "execute_result"
    }
   ],
   "source": [
    "submission_df.head()"
   ]
  },
  {
   "cell_type": "code",
   "execution_count": 76,
   "id": "577840a6",
   "metadata": {
    "execution": {
     "iopub.execute_input": "2022-07-27T22:08:06.948077Z",
     "iopub.status.busy": "2022-07-27T22:08:06.947311Z",
     "iopub.status.idle": "2022-07-27T22:08:06.966438Z",
     "shell.execute_reply": "2022-07-27T22:08:06.965645Z"
    },
    "papermill": {
     "duration": 0.056668,
     "end_time": "2022-07-27T22:08:06.969026",
     "exception": false,
     "start_time": "2022-07-27T22:08:06.912358",
     "status": "completed"
    },
    "tags": []
   },
   "outputs": [
    {
     "name": "stdout",
     "output_type": "stream",
     "text": [
      "Weights=(0.29, 0.71)\n"
     ]
    },
    {
     "data": {
      "text/html": [
       "<div>\n",
       "<style scoped>\n",
       "    .dataframe tbody tr th:only-of-type {\n",
       "        vertical-align: middle;\n",
       "    }\n",
       "\n",
       "    .dataframe tbody tr th {\n",
       "        vertical-align: top;\n",
       "    }\n",
       "\n",
       "    .dataframe thead th {\n",
       "        text-align: right;\n",
       "    }\n",
       "</style>\n",
       "<table border=\"1\" class=\"dataframe\">\n",
       "  <thead>\n",
       "    <tr style=\"text-align: right;\">\n",
       "      <th></th>\n",
       "      <th>PassengerId</th>\n",
       "      <th>Survived</th>\n",
       "    </tr>\n",
       "  </thead>\n",
       "  <tbody>\n",
       "    <tr>\n",
       "      <th>0</th>\n",
       "      <td>892</td>\n",
       "      <td>0.092707</td>\n",
       "    </tr>\n",
       "    <tr>\n",
       "      <th>1</th>\n",
       "      <td>893</td>\n",
       "      <td>0.256230</td>\n",
       "    </tr>\n",
       "    <tr>\n",
       "      <th>2</th>\n",
       "      <td>894</td>\n",
       "      <td>0.080212</td>\n",
       "    </tr>\n",
       "    <tr>\n",
       "      <th>3</th>\n",
       "      <td>895</td>\n",
       "      <td>0.250554</td>\n",
       "    </tr>\n",
       "    <tr>\n",
       "      <th>4</th>\n",
       "      <td>896</td>\n",
       "      <td>0.319706</td>\n",
       "    </tr>\n",
       "    <tr>\n",
       "      <th>5</th>\n",
       "      <td>897</td>\n",
       "      <td>0.337054</td>\n",
       "    </tr>\n",
       "    <tr>\n",
       "      <th>6</th>\n",
       "      <td>898</td>\n",
       "      <td>0.547801</td>\n",
       "    </tr>\n",
       "    <tr>\n",
       "      <th>7</th>\n",
       "      <td>899</td>\n",
       "      <td>0.174493</td>\n",
       "    </tr>\n",
       "  </tbody>\n",
       "</table>\n",
       "</div>"
      ],
      "text/plain": [
       "   PassengerId  Survived\n",
       "0          892  0.092707\n",
       "1          893  0.256230\n",
       "2          894  0.080212\n",
       "3          895  0.250554\n",
       "4          896  0.319706\n",
       "5          897  0.337054\n",
       "6          898  0.547801\n",
       "7          899  0.174493"
      ]
     },
     "execution_count": 76,
     "metadata": {},
     "output_type": "execute_result"
    }
   ],
   "source": [
    "print(f\"Weights=({wt}, {1-wt})\")\n",
    "\n",
    "sample_submission[TARGET] = (submission_df[\"target_xgb1\"] * wt) + (\n",
    "    submission_df[\"target_lgbm1\"] * (1 - wt)\n",
    ")\n",
    "sample_submission.head(8)"
   ]
  },
  {
   "cell_type": "code",
   "execution_count": 77,
   "id": "0798ea63",
   "metadata": {
    "execution": {
     "iopub.execute_input": "2022-07-27T22:08:07.040899Z",
     "iopub.status.busy": "2022-07-27T22:08:07.040461Z",
     "iopub.status.idle": "2022-07-27T22:08:07.057644Z",
     "shell.execute_reply": "2022-07-27T22:08:07.056866Z"
    },
    "papermill": {
     "duration": 0.057481,
     "end_time": "2022-07-27T22:08:07.059965",
     "exception": false,
     "start_time": "2022-07-27T22:08:07.002484",
     "status": "completed"
    },
    "tags": []
   },
   "outputs": [
    {
     "data": {
      "text/html": [
       "<div>\n",
       "<style scoped>\n",
       "    .dataframe tbody tr th:only-of-type {\n",
       "        vertical-align: middle;\n",
       "    }\n",
       "\n",
       "    .dataframe tbody tr th {\n",
       "        vertical-align: top;\n",
       "    }\n",
       "\n",
       "    .dataframe thead th {\n",
       "        text-align: right;\n",
       "    }\n",
       "</style>\n",
       "<table border=\"1\" class=\"dataframe\">\n",
       "  <thead>\n",
       "    <tr style=\"text-align: right;\">\n",
       "      <th></th>\n",
       "      <th>PassengerId</th>\n",
       "      <th>Survived</th>\n",
       "    </tr>\n",
       "  </thead>\n",
       "  <tbody>\n",
       "    <tr>\n",
       "      <th>0</th>\n",
       "      <td>892</td>\n",
       "      <td>0</td>\n",
       "    </tr>\n",
       "    <tr>\n",
       "      <th>1</th>\n",
       "      <td>893</td>\n",
       "      <td>0</td>\n",
       "    </tr>\n",
       "    <tr>\n",
       "      <th>2</th>\n",
       "      <td>894</td>\n",
       "      <td>0</td>\n",
       "    </tr>\n",
       "    <tr>\n",
       "      <th>3</th>\n",
       "      <td>895</td>\n",
       "      <td>0</td>\n",
       "    </tr>\n",
       "    <tr>\n",
       "      <th>4</th>\n",
       "      <td>896</td>\n",
       "      <td>0</td>\n",
       "    </tr>\n",
       "    <tr>\n",
       "      <th>5</th>\n",
       "      <td>897</td>\n",
       "      <td>0</td>\n",
       "    </tr>\n",
       "    <tr>\n",
       "      <th>6</th>\n",
       "      <td>898</td>\n",
       "      <td>1</td>\n",
       "    </tr>\n",
       "    <tr>\n",
       "      <th>7</th>\n",
       "      <td>899</td>\n",
       "      <td>0</td>\n",
       "    </tr>\n",
       "  </tbody>\n",
       "</table>\n",
       "</div>"
      ],
      "text/plain": [
       "   PassengerId  Survived\n",
       "0          892         0\n",
       "1          893         0\n",
       "2          894         0\n",
       "3          895         0\n",
       "4          896         0\n",
       "5          897         0\n",
       "6          898         1\n",
       "7          899         0"
      ]
     },
     "execution_count": 77,
     "metadata": {},
     "output_type": "execute_result"
    }
   ],
   "source": [
    "sample_submission[\"Survived\"] = np.rint(sample_submission[\"Survived\"]).astype(int)\n",
    "sample_submission.to_csv(\"submission.csv\", index=False)\n",
    "sample_submission.head(8)"
   ]
  }
 ],
 "metadata": {
  "kernelspec": {
   "display_name": "Python 3",
   "language": "python",
   "name": "python3"
  },
  "language_info": {
   "codemirror_mode": {
    "name": "ipython",
    "version": 3
   },
   "file_extension": ".py",
   "mimetype": "text/x-python",
   "name": "python",
   "nbconvert_exporter": "python",
   "pygments_lexer": "ipython3",
   "version": "3.7.12"
  },
  "papermill": {
   "default_parameters": {},
   "duration": 57.675742,
   "end_time": "2022-07-27T22:08:07.916971",
   "environment_variables": {},
   "exception": null,
   "input_path": "__notebook__.ipynb",
   "output_path": "__notebook__.ipynb",
   "parameters": {},
   "start_time": "2022-07-27T22:07:10.241229",
   "version": "2.3.4"
  }
 },
 "nbformat": 4,
 "nbformat_minor": 5
}
