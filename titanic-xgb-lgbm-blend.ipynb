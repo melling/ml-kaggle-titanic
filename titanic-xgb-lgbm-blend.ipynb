{
 "cells": [
  {
   "cell_type": "markdown",
   "id": "b256ac5a",
   "metadata": {
    "papermill": {
     "duration": 0.018754,
     "end_time": "2022-07-27T16:59:34.303381",
     "exception": false,
     "start_time": "2022-07-27T16:59:34.284627",
     "status": "completed"
    },
    "tags": []
   },
   "source": [
    "<div style=\"background-color:rgba(255, 215, 0, 0.6);border-radius:5px;display:fill\">\n",
    "    <h1 style=\"text-align: center;padding: 12px 0px 12px 0px;\">🚢 Titanic: XGBoost + Optuna</h1>\n",
    "</div>\n",
    "<img src=\"https://www.seekpng.com/png/full/200-2002376_predicting-titanic-survivors-old-photos-of-the-titanic.png\" alt=\"Titanic\" width=\"300\"/>\n",
    "\n"
   ]
  },
  {
   "cell_type": "markdown",
   "id": "18b59aa5",
   "metadata": {
    "papermill": {
     "duration": 0.015044,
     "end_time": "2022-07-27T16:59:34.334005",
     "exception": false,
     "start_time": "2022-07-27T16:59:34.318961",
     "status": "completed"
    },
    "tags": []
   },
   "source": [
    "# Understanding the Titanic Data\n",
    "\n",
    "## Target - What we want to predict\n",
    "\n",
    "For the Titantic dataset the target is:`Survived`\n",
    "\n",
    "## Features\n",
    "\n",
    "- `Pclass` - Ticket class (1st,2nd,3rd)\n",
    "- `Name` - Full name\n",
    "- `Sex` - Gender\n",
    "- `Age` - Passenger's age\n",
    "- `SibSp` - # of siblings / spouses aboard the Titanic\n",
    "- `Parch` - # of parents / children aboard the Titanic\n",
    "- `Ticket` - Ticket number\n",
    "- `Fare` - What the passenger paid for a ticket\n",
    "- `Cabin` - Cabin number\n",
    "- `Embarked` - C = Cherbourg, Q = Queenstown, S = Southampton\n",
    "\n",
    "## Evaluation Metric\n",
    "\n",
    "$Acurracy = \\frac{True Positives (TP) + True Negatives (TN)}{True Positives (TP) + True Negatives (TN) + False Positives(FP) + False Negatives(FN)}$\n",
    "\n",
    "- https://en.wikipedia.org/wiki/Accuracy_and_precision#In_binary_classification\n",
    "\n",
    "Percentage of passengers you correctly predict.  In other words, accurately predict who survived and who did not.\n",
    "\n",
    "- https://developers.google.com/machine-learning/crash-course/classification/accuracy\n",
    "\n"
   ]
  },
  {
   "cell_type": "code",
   "execution_count": 1,
   "id": "0435a56f",
   "metadata": {
    "execution": {
     "iopub.execute_input": "2022-07-27T16:59:34.366665Z",
     "iopub.status.busy": "2022-07-27T16:59:34.366027Z",
     "iopub.status.idle": "2022-07-27T16:59:46.730393Z",
     "shell.execute_reply": "2022-07-27T16:59:46.729426Z"
    },
    "papermill": {
     "duration": 12.383798,
     "end_time": "2022-07-27T16:59:46.733034",
     "exception": false,
     "start_time": "2022-07-27T16:59:34.349236",
     "status": "completed"
    },
    "tags": []
   },
   "outputs": [
    {
     "name": "stdout",
     "output_type": "stream",
     "text": [
      "\u001b[33mWARNING: Running pip as the 'root' user can result in broken permissions and conflicting behaviour with the system package manager. It is recommended to use a virtual environment instead: https://pip.pypa.io/warnings/venv\u001b[0m\u001b[33m\r\n",
      "\u001b[0m"
     ]
    }
   ],
   "source": [
    "# Black formatter https://black.readthedocs.io/en/stable/\n",
    "\n",
    "! pip install nb-black > /dev/null\n",
    "\n",
    "%load_ext lab_black"
   ]
  },
  {
   "cell_type": "markdown",
   "id": "8bf45a74",
   "metadata": {
    "papermill": {
     "duration": 0.015803,
     "end_time": "2022-07-27T16:59:46.764832",
     "exception": false,
     "start_time": "2022-07-27T16:59:46.749029",
     "status": "completed"
    },
    "tags": []
   },
   "source": [
    "<div style=\"background-color:rgba(255, 215, 0, 0.6);border-radius:5px;display:fill\"><h1 style=\"text-align: center;padding: 12px 0px 12px 0px;\">Import Libraries</h1>\n",
    "</div>"
   ]
  },
  {
   "cell_type": "code",
   "execution_count": 2,
   "id": "b5de3aaa",
   "metadata": {
    "execution": {
     "iopub.execute_input": "2022-07-27T16:59:46.798415Z",
     "iopub.status.busy": "2022-07-27T16:59:46.798006Z",
     "iopub.status.idle": "2022-07-27T16:59:49.363018Z",
     "shell.execute_reply": "2022-07-27T16:59:49.362076Z"
    },
    "papermill": {
     "duration": 2.585053,
     "end_time": "2022-07-27T16:59:49.365727",
     "exception": false,
     "start_time": "2022-07-27T16:59:46.780674",
     "status": "completed"
    },
    "tags": []
   },
   "outputs": [
    {
     "data": {
      "text/html": [
       "<style type='text/css'>\n",
       ".datatable table.frame { margin-bottom: 0; }\n",
       ".datatable table.frame thead { border-bottom: none; }\n",
       ".datatable table.frame tr.coltypes td {  color: #FFFFFF;  line-height: 6px;  padding: 0 0.5em;}\n",
       ".datatable .bool    { background: #DDDD99; }\n",
       ".datatable .object  { background: #565656; }\n",
       ".datatable .int     { background: #5D9E5D; }\n",
       ".datatable .float   { background: #4040CC; }\n",
       ".datatable .str     { background: #CC4040; }\n",
       ".datatable .time    { background: #40CC40; }\n",
       ".datatable .row_index {  background: var(--jp-border-color3);  border-right: 1px solid var(--jp-border-color0);  color: var(--jp-ui-font-color3);  font-size: 9px;}\n",
       ".datatable .frame tbody td { text-align: left; }\n",
       ".datatable .frame tr.coltypes .row_index {  background: var(--jp-border-color0);}\n",
       ".datatable th:nth-child(2) { padding-left: 12px; }\n",
       ".datatable .hellipsis {  color: var(--jp-cell-editor-border-color);}\n",
       ".datatable .vellipsis {  background: var(--jp-layout-color0);  color: var(--jp-cell-editor-border-color);}\n",
       ".datatable .na {  color: var(--jp-cell-editor-border-color);  font-size: 80%;}\n",
       ".datatable .sp {  opacity: 0.25;}\n",
       ".datatable .footer { font-size: 9px; }\n",
       ".datatable .frame_dimensions {  background: var(--jp-border-color3);  border-top: 1px solid var(--jp-border-color0);  color: var(--jp-ui-font-color3);  display: inline-block;  opacity: 0.6;  padding: 1px 10px 1px 5px;}\n",
       "</style>\n"
      ],
      "text/plain": [
       "<IPython.core.display.HTML object>"
      ]
     },
     "metadata": {},
     "output_type": "display_data"
    }
   ],
   "source": [
    "import os\n",
    "import time\n",
    "from pathlib import Path\n",
    "\n",
    "import pandas as pd\n",
    "import numpy as np\n",
    "\n",
    "from sklearn.model_selection import train_test_split\n",
    "from sklearn.impute import SimpleImputer\n",
    "from sklearn.model_selection import KFold, StratifiedKFold\n",
    "\n",
    "# from sklearn.metrics import accuracy_score, roc_auc_score\n",
    "from sklearn.metrics import classification_report, confusion_matrix\n",
    "\n",
    "import xgboost as xgb\n",
    "import catboost as cb\n",
    "import lightgbm as lgb\n",
    "\n",
    "# Visualization Libraries\n",
    "import matplotlib.pylab as plt\n",
    "import seaborn as sns\n",
    "\n",
    "%matplotlib inline\n",
    "\n",
    "from itertools import cycle\n",
    "\n",
    "plt.style.use(\"ggplot\")  # ggplot, fivethirtyeight\n",
    "color_pal = plt.rcParams[\"axes.prop_cycle\"].by_key()[\"color\"]\n",
    "color_cycle = cycle(plt.rcParams[\"axes.prop_cycle\"].by_key()[\"color\"])"
   ]
  },
  {
   "cell_type": "markdown",
   "id": "4615d90b",
   "metadata": {
    "papermill": {
     "duration": 0.015861,
     "end_time": "2022-07-27T16:59:49.397819",
     "exception": false,
     "start_time": "2022-07-27T16:59:49.381958",
     "status": "completed"
    },
    "tags": []
   },
   "source": [
    "<div style=\"background-color:rgba(255, 215, 0, 0.6);border-radius:5px;display:fill\"><h1 style=\"text-align: center;padding: 12px 0px 12px 0px;\">Configuration</h1>\n",
    "</div>"
   ]
  },
  {
   "cell_type": "code",
   "execution_count": 3,
   "id": "d2a0d3df",
   "metadata": {
    "execution": {
     "iopub.execute_input": "2022-07-27T16:59:49.432267Z",
     "iopub.status.busy": "2022-07-27T16:59:49.431446Z",
     "iopub.status.idle": "2022-07-27T16:59:49.445078Z",
     "shell.execute_reply": "2022-07-27T16:59:49.443791Z"
    },
    "papermill": {
     "duration": 0.033678,
     "end_time": "2022-07-27T16:59:49.447545",
     "exception": false,
     "start_time": "2022-07-27T16:59:49.413867",
     "status": "completed"
    },
    "tags": []
   },
   "outputs": [],
   "source": [
    "class Config:\n",
    "    path = \"../input/titanic\"\n",
    "    gpu = False\n",
    "    debug = False\n",
    "    optimize = False\n",
    "    model_type = \"tf\"  # (xgb, cat, lgbm, keras)\n",
    "    model_name = \"tf1\"\n",
    "    competition = \"titanic\"\n",
    "    calc_probability = True\n",
    "    seed = 42\n",
    "    N_ESTIMATORS = 100  # 100, 300, 2000, 5000 GBDT\n",
    "\n",
    "    batch_size = 64\n",
    "    epochs = 25\n",
    "    N_FOLDS = 5  # 5,10,15\n",
    "    SEED_LENGTH = 1  # 5,10"
   ]
  },
  {
   "cell_type": "markdown",
   "id": "12978ad2",
   "metadata": {
    "papermill": {
     "duration": 0.015186,
     "end_time": "2022-07-27T16:59:49.478302",
     "exception": false,
     "start_time": "2022-07-27T16:59:49.463116",
     "status": "completed"
    },
    "tags": []
   },
   "source": [
    "### The target/dependent variable in the dataset"
   ]
  },
  {
   "cell_type": "code",
   "execution_count": 4,
   "id": "6605de74",
   "metadata": {
    "execution": {
     "iopub.execute_input": "2022-07-27T16:59:49.512714Z",
     "iopub.status.busy": "2022-07-27T16:59:49.511639Z",
     "iopub.status.idle": "2022-07-27T16:59:49.517771Z",
     "shell.execute_reply": "2022-07-27T16:59:49.516956Z"
    },
    "papermill": {
     "duration": 0.025226,
     "end_time": "2022-07-27T16:59:49.519722",
     "exception": false,
     "start_time": "2022-07-27T16:59:49.494496",
     "status": "completed"
    },
    "tags": []
   },
   "outputs": [],
   "source": [
    "# Did the passenger survive?\n",
    "# 0 = No, 1 = Yes\n",
    "TARGET = \"Survived\""
   ]
  },
  {
   "cell_type": "markdown",
   "id": "ed720bf2",
   "metadata": {
    "papermill": {
     "duration": 0.015115,
     "end_time": "2022-07-27T16:59:49.550404",
     "exception": false,
     "start_time": "2022-07-27T16:59:49.535289",
     "status": "completed"
    },
    "tags": []
   },
   "source": [
    "<div style=\"background-color:rgba(255, 215, 0, 0.6);border-radius:5px;display:fill\"><h1 style=\"text-align: center;padding: 12px 0px 12px 0px;\">Library</h1>\n",
    "</div>\n",
    "\n",
    "Creating a few functions that we will reuse in each project."
   ]
  },
  {
   "cell_type": "code",
   "execution_count": 5,
   "id": "2373d606",
   "metadata": {
    "execution": {
     "iopub.execute_input": "2022-07-27T16:59:49.583299Z",
     "iopub.status.busy": "2022-07-27T16:59:49.582684Z",
     "iopub.status.idle": "2022-07-27T16:59:49.595049Z",
     "shell.execute_reply": "2022-07-27T16:59:49.594018Z"
    },
    "papermill": {
     "duration": 0.031237,
     "end_time": "2022-07-27T16:59:49.597129",
     "exception": false,
     "start_time": "2022-07-27T16:59:49.565892",
     "status": "completed"
    },
    "tags": []
   },
   "outputs": [],
   "source": [
    "def read_data(path):\n",
    "    data_dir = Path(path)\n",
    "\n",
    "    train = pd.read_csv(data_dir / \"train.csv\")\n",
    "    test = pd.read_csv(data_dir / \"test.csv\")\n",
    "    submission_df = pd.read_csv(data_dir / \"gender_submission.csv\")\n",
    "\n",
    "    print(f\"train data: Rows={train.shape[0]}, Columns={train.shape[1]}\")\n",
    "    print(f\"test data : Rows={test.shape[0]}, Columns={test.shape[1]}\")\n",
    "    return train, test, submission_df"
   ]
  },
  {
   "cell_type": "code",
   "execution_count": 6,
   "id": "ac48ceff",
   "metadata": {
    "execution": {
     "iopub.execute_input": "2022-07-27T16:59:49.630421Z",
     "iopub.status.busy": "2022-07-27T16:59:49.630002Z",
     "iopub.status.idle": "2022-07-27T16:59:49.640158Z",
     "shell.execute_reply": "2022-07-27T16:59:49.639030Z"
    },
    "papermill": {
     "duration": 0.02934,
     "end_time": "2022-07-27T16:59:49.642177",
     "exception": false,
     "start_time": "2022-07-27T16:59:49.612837",
     "status": "completed"
    },
    "tags": []
   },
   "outputs": [],
   "source": [
    "def create_submission(model_name, target, preds):\n",
    "    sample_submission[target] = preds\n",
    "\n",
    "    if len(model_name) > 0:\n",
    "        fname = \"submission_{model_name}.csv\"\n",
    "    else:\n",
    "        fname = \"submission.csv\"\n",
    "\n",
    "    sample_submission.to_csv(fname, index=False)\n",
    "\n",
    "    return sample_submission"
   ]
  },
  {
   "cell_type": "code",
   "execution_count": 7,
   "id": "4c64a0b6",
   "metadata": {
    "execution": {
     "iopub.execute_input": "2022-07-27T16:59:49.675718Z",
     "iopub.status.busy": "2022-07-27T16:59:49.675350Z",
     "iopub.status.idle": "2022-07-27T16:59:49.688923Z",
     "shell.execute_reply": "2022-07-27T16:59:49.687829Z"
    },
    "papermill": {
     "duration": 0.032775,
     "end_time": "2022-07-27T16:59:49.691112",
     "exception": false,
     "start_time": "2022-07-27T16:59:49.658337",
     "status": "completed"
    },
    "tags": []
   },
   "outputs": [],
   "source": [
    "from sklearn.metrics import (\n",
    "    accuracy_score,\n",
    "    precision_score,\n",
    "    recall_score,\n",
    "    f1_score,\n",
    "    roc_auc_score,\n",
    ")\n",
    "\n",
    "\n",
    "def show_scores(gt, yhat):\n",
    "    accuracy = accuracy_score(gt, yhat)\n",
    "    precision = precision_score(gt, yhat)\n",
    "    recall = recall_score(gt, yhat)\n",
    "    f1 = f1_score(gt, yhat)\n",
    "\n",
    "    print(f\"Accuracy: {accuracy:.4f}\")\n",
    "    print(f\"Precision: {precision:.4f}\")\n",
    "    print(f\"Recall: {recall:.4f}\")\n",
    "    print(f\"f1: {f1:.4f}\")"
   ]
  },
  {
   "cell_type": "code",
   "execution_count": 8,
   "id": "c8ab39e9",
   "metadata": {
    "execution": {
     "iopub.execute_input": "2022-07-27T16:59:49.724592Z",
     "iopub.status.busy": "2022-07-27T16:59:49.723858Z",
     "iopub.status.idle": "2022-07-27T16:59:49.736802Z",
     "shell.execute_reply": "2022-07-27T16:59:49.735957Z"
    },
    "papermill": {
     "duration": 0.031824,
     "end_time": "2022-07-27T16:59:49.738609",
     "exception": false,
     "start_time": "2022-07-27T16:59:49.706785",
     "status": "completed"
    },
    "tags": []
   },
   "outputs": [],
   "source": [
    "from sklearn.preprocessing import LabelEncoder\n",
    "\n",
    "\n",
    "def label_encoder(train, test, columns):\n",
    "    for col in columns:\n",
    "        train[col] = train[col].astype(str)\n",
    "        test[col] = test[col].astype(str)\n",
    "        train[col] = LabelEncoder().fit_transform(train[col])\n",
    "        test[col] = LabelEncoder().fit_transform(test[col])\n",
    "    return train, test"
   ]
  },
  {
   "cell_type": "code",
   "execution_count": 9,
   "id": "0fe76fe2",
   "metadata": {
    "execution": {
     "iopub.execute_input": "2022-07-27T16:59:49.771293Z",
     "iopub.status.busy": "2022-07-27T16:59:49.770773Z",
     "iopub.status.idle": "2022-07-27T16:59:49.782408Z",
     "shell.execute_reply": "2022-07-27T16:59:49.781672Z"
    },
    "papermill": {
     "duration": 0.03038,
     "end_time": "2022-07-27T16:59:49.784437",
     "exception": false,
     "start_time": "2022-07-27T16:59:49.754057",
     "status": "completed"
    },
    "tags": []
   },
   "outputs": [],
   "source": [
    "from sklearn.preprocessing import OneHotEncoder\n",
    "\n",
    "\n",
    "def one_hot_encoder(train, test, columns):\n",
    "    for col in columns:\n",
    "        train[col] = train[col].astype(str)\n",
    "        test[col] = test[col].astype(str)\n",
    "        train[col] = OneHotEncoder().fit_transform(train[col])\n",
    "        test[col] = OneHotEncoder().fit_transform(test[col])\n",
    "    return train, test"
   ]
  },
  {
   "cell_type": "code",
   "execution_count": 10,
   "id": "68537217",
   "metadata": {
    "execution": {
     "iopub.execute_input": "2022-07-27T16:59:49.817188Z",
     "iopub.status.busy": "2022-07-27T16:59:49.816594Z",
     "iopub.status.idle": "2022-07-27T16:59:49.823168Z",
     "shell.execute_reply": "2022-07-27T16:59:49.822419Z"
    },
    "papermill": {
     "duration": 0.025275,
     "end_time": "2022-07-27T16:59:49.825223",
     "exception": false,
     "start_time": "2022-07-27T16:59:49.799948",
     "status": "completed"
    },
    "tags": []
   },
   "outputs": [],
   "source": [
    "def show_missing_features(df):\n",
    "    missing_vals = df.isna().sum()\n",
    "    print(missing_vals[missing_vals > 0])"
   ]
  },
  {
   "cell_type": "code",
   "execution_count": 11,
   "id": "aa17ae78",
   "metadata": {
    "execution": {
     "iopub.execute_input": "2022-07-27T16:59:49.857829Z",
     "iopub.status.busy": "2022-07-27T16:59:49.857290Z",
     "iopub.status.idle": "2022-07-27T16:59:49.869491Z",
     "shell.execute_reply": "2022-07-27T16:59:49.868637Z"
    },
    "papermill": {
     "duration": 0.030966,
     "end_time": "2022-07-27T16:59:49.871686",
     "exception": false,
     "start_time": "2022-07-27T16:59:49.840720",
     "status": "completed"
    },
    "tags": []
   },
   "outputs": [],
   "source": [
    "def create_folds(df, TARGET, n_folds=5, seed=42):\n",
    "    print(f\"TARGET={TARGET}, n_folds={n_folds}, seed={seed}\")\n",
    "    df[\"fold\"] = -1\n",
    "\n",
    "    kf = StratifiedKFold(n_splits=n_folds, shuffle=True, random_state=seed)\n",
    "    # kf = GroupKFold(n_splits=Config.N_FOLDS)\n",
    "\n",
    "    for fold, (train_idx, valid_idx) in enumerate(kf.split(df, df[TARGET])):\n",
    "        df.loc[valid_idx, \"fold\"] = fold\n",
    "\n",
    "    # df.to_csv(f\"train_fold{num_folds}.csv\", index=False)\n",
    "    return df"
   ]
  },
  {
   "cell_type": "code",
   "execution_count": 12,
   "id": "889b0b59",
   "metadata": {
    "execution": {
     "iopub.execute_input": "2022-07-27T16:59:49.904339Z",
     "iopub.status.busy": "2022-07-27T16:59:49.903822Z",
     "iopub.status.idle": "2022-07-27T16:59:49.910584Z",
     "shell.execute_reply": "2022-07-27T16:59:49.909774Z"
    },
    "papermill": {
     "duration": 0.025264,
     "end_time": "2022-07-27T16:59:49.912465",
     "exception": false,
     "start_time": "2022-07-27T16:59:49.887201",
     "status": "completed"
    },
    "tags": []
   },
   "outputs": [],
   "source": [
    "def show_fold_scores(scores):\n",
    "    cv_score = np.mean(scores)  # Used in filename\n",
    "    print(\n",
    "        f\"Scores -> Adjusted: {np.mean(scores) - np.std(scores):.8f} , mean: {np.mean(scores):.8f}, std: {np.std(scores):.8f}\"\n",
    "    )"
   ]
  },
  {
   "cell_type": "code",
   "execution_count": 13,
   "id": "0876477b",
   "metadata": {
    "execution": {
     "iopub.execute_input": "2022-07-27T16:59:49.945100Z",
     "iopub.status.busy": "2022-07-27T16:59:49.944568Z",
     "iopub.status.idle": "2022-07-27T16:59:49.950605Z",
     "shell.execute_reply": "2022-07-27T16:59:49.949752Z"
    },
    "papermill": {
     "duration": 0.024551,
     "end_time": "2022-07-27T16:59:49.952486",
     "exception": false,
     "start_time": "2022-07-27T16:59:49.927935",
     "status": "completed"
    },
    "tags": []
   },
   "outputs": [],
   "source": [
    "# Save OOF Results\n",
    "if not os.path.exists(\"results\"):\n",
    "    os.makedirs(\"results\")"
   ]
  },
  {
   "cell_type": "markdown",
   "id": "fb1f50bc",
   "metadata": {
    "papermill": {
     "duration": 0.015063,
     "end_time": "2022-07-27T16:59:49.983020",
     "exception": false,
     "start_time": "2022-07-27T16:59:49.967957",
     "status": "completed"
    },
    "tags": []
   },
   "source": [
    "<div style=\"background-color:rgba(255, 215, 0, 0.6);border-radius:5px;display:fill\"><h1 style=\"text-align: center;padding: 12px 0px 12px 0px;\">Load Train/Test Data</h1>\n",
    "</div>\n",
    "\n",
    "## Load the following files\n",
    "\n",
    " - train.csv - Data used to build our machine learning model\n",
    " - test.csv - Data used to build our machine learning model. Does not contain the `Suvived` target variable\n",
    " - gender_submission.csv - A file in the proper format to submit test predictions"
   ]
  },
  {
   "cell_type": "code",
   "execution_count": 14,
   "id": "9deb35f0",
   "metadata": {
    "execution": {
     "iopub.execute_input": "2022-07-27T16:59:50.015555Z",
     "iopub.status.busy": "2022-07-27T16:59:50.015012Z",
     "iopub.status.idle": "2022-07-27T16:59:50.050871Z",
     "shell.execute_reply": "2022-07-27T16:59:50.049936Z"
    },
    "papermill": {
     "duration": 0.054887,
     "end_time": "2022-07-27T16:59:50.053330",
     "exception": false,
     "start_time": "2022-07-27T16:59:49.998443",
     "status": "completed"
    },
    "tags": []
   },
   "outputs": [
    {
     "name": "stdout",
     "output_type": "stream",
     "text": [
      "train data: Rows=891, Columns=12\n",
      "test data : Rows=418, Columns=11\n"
     ]
    }
   ],
   "source": [
    "train, test, sample_submission = read_data(Config.path)"
   ]
  },
  {
   "cell_type": "code",
   "execution_count": 15,
   "id": "4f010ffd",
   "metadata": {
    "execution": {
     "iopub.execute_input": "2022-07-27T16:59:50.086699Z",
     "iopub.status.busy": "2022-07-27T16:59:50.086031Z",
     "iopub.status.idle": "2022-07-27T16:59:50.108651Z",
     "shell.execute_reply": "2022-07-27T16:59:50.107884Z"
    },
    "papermill": {
     "duration": 0.041454,
     "end_time": "2022-07-27T16:59:50.110560",
     "exception": false,
     "start_time": "2022-07-27T16:59:50.069106",
     "status": "completed"
    },
    "tags": []
   },
   "outputs": [
    {
     "data": {
      "text/html": [
       "<div>\n",
       "<style scoped>\n",
       "    .dataframe tbody tr th:only-of-type {\n",
       "        vertical-align: middle;\n",
       "    }\n",
       "\n",
       "    .dataframe tbody tr th {\n",
       "        vertical-align: top;\n",
       "    }\n",
       "\n",
       "    .dataframe thead th {\n",
       "        text-align: right;\n",
       "    }\n",
       "</style>\n",
       "<table border=\"1\" class=\"dataframe\">\n",
       "  <thead>\n",
       "    <tr style=\"text-align: right;\">\n",
       "      <th></th>\n",
       "      <th>PassengerId</th>\n",
       "      <th>Survived</th>\n",
       "      <th>Pclass</th>\n",
       "      <th>Name</th>\n",
       "      <th>Sex</th>\n",
       "      <th>Age</th>\n",
       "      <th>SibSp</th>\n",
       "      <th>Parch</th>\n",
       "      <th>Ticket</th>\n",
       "      <th>Fare</th>\n",
       "      <th>Cabin</th>\n",
       "      <th>Embarked</th>\n",
       "    </tr>\n",
       "  </thead>\n",
       "  <tbody>\n",
       "    <tr>\n",
       "      <th>0</th>\n",
       "      <td>1</td>\n",
       "      <td>0</td>\n",
       "      <td>3</td>\n",
       "      <td>Braund, Mr. Owen Harris</td>\n",
       "      <td>male</td>\n",
       "      <td>22.0</td>\n",
       "      <td>1</td>\n",
       "      <td>0</td>\n",
       "      <td>A/5 21171</td>\n",
       "      <td>7.2500</td>\n",
       "      <td>NaN</td>\n",
       "      <td>S</td>\n",
       "    </tr>\n",
       "    <tr>\n",
       "      <th>1</th>\n",
       "      <td>2</td>\n",
       "      <td>1</td>\n",
       "      <td>1</td>\n",
       "      <td>Cumings, Mrs. John Bradley (Florence Briggs Th...</td>\n",
       "      <td>female</td>\n",
       "      <td>38.0</td>\n",
       "      <td>1</td>\n",
       "      <td>0</td>\n",
       "      <td>PC 17599</td>\n",
       "      <td>71.2833</td>\n",
       "      <td>C85</td>\n",
       "      <td>C</td>\n",
       "    </tr>\n",
       "    <tr>\n",
       "      <th>2</th>\n",
       "      <td>3</td>\n",
       "      <td>1</td>\n",
       "      <td>3</td>\n",
       "      <td>Heikkinen, Miss. Laina</td>\n",
       "      <td>female</td>\n",
       "      <td>26.0</td>\n",
       "      <td>0</td>\n",
       "      <td>0</td>\n",
       "      <td>STON/O2. 3101282</td>\n",
       "      <td>7.9250</td>\n",
       "      <td>NaN</td>\n",
       "      <td>S</td>\n",
       "    </tr>\n",
       "    <tr>\n",
       "      <th>3</th>\n",
       "      <td>4</td>\n",
       "      <td>1</td>\n",
       "      <td>1</td>\n",
       "      <td>Futrelle, Mrs. Jacques Heath (Lily May Peel)</td>\n",
       "      <td>female</td>\n",
       "      <td>35.0</td>\n",
       "      <td>1</td>\n",
       "      <td>0</td>\n",
       "      <td>113803</td>\n",
       "      <td>53.1000</td>\n",
       "      <td>C123</td>\n",
       "      <td>S</td>\n",
       "    </tr>\n",
       "    <tr>\n",
       "      <th>4</th>\n",
       "      <td>5</td>\n",
       "      <td>0</td>\n",
       "      <td>3</td>\n",
       "      <td>Allen, Mr. William Henry</td>\n",
       "      <td>male</td>\n",
       "      <td>35.0</td>\n",
       "      <td>0</td>\n",
       "      <td>0</td>\n",
       "      <td>373450</td>\n",
       "      <td>8.0500</td>\n",
       "      <td>NaN</td>\n",
       "      <td>S</td>\n",
       "    </tr>\n",
       "  </tbody>\n",
       "</table>\n",
       "</div>"
      ],
      "text/plain": [
       "   PassengerId  Survived  Pclass  \\\n",
       "0            1         0       3   \n",
       "1            2         1       1   \n",
       "2            3         1       3   \n",
       "3            4         1       1   \n",
       "4            5         0       3   \n",
       "\n",
       "                                                Name     Sex   Age  SibSp  \\\n",
       "0                            Braund, Mr. Owen Harris    male  22.0      1   \n",
       "1  Cumings, Mrs. John Bradley (Florence Briggs Th...  female  38.0      1   \n",
       "2                             Heikkinen, Miss. Laina  female  26.0      0   \n",
       "3       Futrelle, Mrs. Jacques Heath (Lily May Peel)  female  35.0      1   \n",
       "4                           Allen, Mr. William Henry    male  35.0      0   \n",
       "\n",
       "   Parch            Ticket     Fare Cabin Embarked  \n",
       "0      0         A/5 21171   7.2500   NaN        S  \n",
       "1      0          PC 17599  71.2833   C85        C  \n",
       "2      0  STON/O2. 3101282   7.9250   NaN        S  \n",
       "3      0            113803  53.1000  C123        S  \n",
       "4      0            373450   8.0500   NaN        S  "
      ]
     },
     "execution_count": 15,
     "metadata": {},
     "output_type": "execute_result"
    }
   ],
   "source": [
    "train.head()"
   ]
  },
  {
   "cell_type": "code",
   "execution_count": 16,
   "id": "7f02df74",
   "metadata": {
    "execution": {
     "iopub.execute_input": "2022-07-27T16:59:50.143695Z",
     "iopub.status.busy": "2022-07-27T16:59:50.143061Z",
     "iopub.status.idle": "2022-07-27T16:59:50.150838Z",
     "shell.execute_reply": "2022-07-27T16:59:50.149801Z"
    },
    "papermill": {
     "duration": 0.026389,
     "end_time": "2022-07-27T16:59:50.152824",
     "exception": false,
     "start_time": "2022-07-27T16:59:50.126435",
     "status": "completed"
    },
    "tags": []
   },
   "outputs": [
    {
     "data": {
      "text/plain": [
       "Index(['PassengerId', 'Survived', 'Pclass', 'Name', 'Sex', 'Age', 'SibSp',\n",
       "       'Parch', 'Ticket', 'Fare', 'Cabin', 'Embarked'],\n",
       "      dtype='object')"
      ]
     },
     "execution_count": 16,
     "metadata": {},
     "output_type": "execute_result"
    }
   ],
   "source": [
    "train.columns"
   ]
  },
  {
   "cell_type": "code",
   "execution_count": 17,
   "id": "5702267d",
   "metadata": {
    "execution": {
     "iopub.execute_input": "2022-07-27T16:59:50.186484Z",
     "iopub.status.busy": "2022-07-27T16:59:50.185864Z",
     "iopub.status.idle": "2022-07-27T16:59:50.200015Z",
     "shell.execute_reply": "2022-07-27T16:59:50.199122Z"
    },
    "papermill": {
     "duration": 0.033675,
     "end_time": "2022-07-27T16:59:50.202393",
     "exception": false,
     "start_time": "2022-07-27T16:59:50.168718",
     "status": "completed"
    },
    "tags": []
   },
   "outputs": [],
   "source": [
    "train = train.drop(columns=[\"Name\", \"Ticket\", \"Cabin\"], axis=1).copy()\n",
    "# test = test.drop(columns=[\"PassengerId\"], axis=1).copy()"
   ]
  },
  {
   "cell_type": "markdown",
   "id": "6c53c90b",
   "metadata": {
    "papermill": {
     "duration": 0.016255,
     "end_time": "2022-07-27T16:59:50.234440",
     "exception": false,
     "start_time": "2022-07-27T16:59:50.218185",
     "status": "completed"
    },
    "tags": []
   },
   "source": [
    "## Categorical/Numerical Variables"
   ]
  },
  {
   "cell_type": "code",
   "execution_count": 18,
   "id": "9df55847",
   "metadata": {
    "execution": {
     "iopub.execute_input": "2022-07-27T16:59:50.268443Z",
     "iopub.status.busy": "2022-07-27T16:59:50.267487Z",
     "iopub.status.idle": "2022-07-27T16:59:50.285138Z",
     "shell.execute_reply": "2022-07-27T16:59:50.284419Z"
    },
    "papermill": {
     "duration": 0.036598,
     "end_time": "2022-07-27T16:59:50.287155",
     "exception": false,
     "start_time": "2022-07-27T16:59:50.250557",
     "status": "completed"
    },
    "tags": []
   },
   "outputs": [
    {
     "data": {
      "text/plain": [
       "['Sex', 'Embarked', 'Pclass', 'Age', 'SibSp', 'Parch', 'Fare']"
      ]
     },
     "execution_count": 18,
     "metadata": {},
     "output_type": "execute_result"
    }
   ],
   "source": [
    "## Separate Categorical and Numerical Features\n",
    "cat_features = list(train.select_dtypes(include=[\"category\", \"object\"]).columns)\n",
    "num_features = list(test.select_dtypes(include=[\"number\"]).columns)\n",
    "num_features.remove(\"PassengerId\")\n",
    "\n",
    "FEATURES = cat_features + num_features\n",
    "FEATURES"
   ]
  },
  {
   "cell_type": "code",
   "execution_count": 19,
   "id": "f6ad775c",
   "metadata": {
    "execution": {
     "iopub.execute_input": "2022-07-27T16:59:50.320821Z",
     "iopub.status.busy": "2022-07-27T16:59:50.319967Z",
     "iopub.status.idle": "2022-07-27T16:59:50.348644Z",
     "shell.execute_reply": "2022-07-27T16:59:50.347726Z"
    },
    "papermill": {
     "duration": 0.047756,
     "end_time": "2022-07-27T16:59:50.350830",
     "exception": false,
     "start_time": "2022-07-27T16:59:50.303074",
     "status": "completed"
    },
    "tags": []
   },
   "outputs": [],
   "source": [
    "from sklearn.impute import SimpleImputer\n",
    "\n",
    "# Categorical\n",
    "imputer = SimpleImputer(strategy=\"most_frequent\")\n",
    "\n",
    "train[cat_features] = imputer.fit_transform(train[cat_features])\n",
    "test[cat_features] = imputer.transform(test[cat_features])\n",
    "\n",
    "# Numerical\n",
    "\n",
    "# imputer = SimpleImputer(strategy=\"mean\")\n",
    "imputer = SimpleImputer(strategy=\"median\")  # median is more robust to outliers\n",
    "\n",
    "train[num_features] = imputer.fit_transform(train[num_features])\n",
    "test[num_features] = imputer.transform(test[num_features])"
   ]
  },
  {
   "cell_type": "markdown",
   "id": "1dbd5af2",
   "metadata": {
    "papermill": {
     "duration": 0.015611,
     "end_time": "2022-07-27T16:59:50.382445",
     "exception": false,
     "start_time": "2022-07-27T16:59:50.366834",
     "status": "completed"
    },
    "tags": []
   },
   "source": [
    "<div style=\"background-color:rgba(255, 215, 0, 0.6);border-radius:5px;display:fill\"><h1 style=\"text-align: center;padding: 12px 0px 12px 0px;\">Feature Engineering</h1>\n",
    "</div>\n",
    "\n",
    "- [Titanic - Advanced Feature Engineering Tutorial](https://www.kaggle.com/gunesevitan/titanic-advanced-feature-engineering-tutorial)\n",
    "- [Titanic Survival Predictions (Beginner)](https://www.kaggle.com/nadintamer/titanic-survival-predictions-beginner)\n",
    "- [Exploring Survival on the Titanic](https://www.kaggle.com/mrisdal/exploring-survival-on-the-titanic)"
   ]
  },
  {
   "cell_type": "code",
   "execution_count": 20,
   "id": "0ad2888e",
   "metadata": {
    "execution": {
     "iopub.execute_input": "2022-07-27T16:59:50.416200Z",
     "iopub.status.busy": "2022-07-27T16:59:50.415566Z",
     "iopub.status.idle": "2022-07-27T16:59:50.419671Z",
     "shell.execute_reply": "2022-07-27T16:59:50.418896Z"
    },
    "papermill": {
     "duration": 0.0231,
     "end_time": "2022-07-27T16:59:50.421491",
     "exception": false,
     "start_time": "2022-07-27T16:59:50.398391",
     "status": "completed"
    },
    "tags": []
   },
   "outputs": [],
   "source": [
    "# FEATURES = [\"Pclass\", \"Sex\", \"Age\", \"SibSp\", \"Parch\", \"Embarked\"]"
   ]
  },
  {
   "cell_type": "code",
   "execution_count": 21,
   "id": "cdc17808",
   "metadata": {
    "execution": {
     "iopub.execute_input": "2022-07-27T16:59:50.455416Z",
     "iopub.status.busy": "2022-07-27T16:59:50.454793Z",
     "iopub.status.idle": "2022-07-27T16:59:50.469739Z",
     "shell.execute_reply": "2022-07-27T16:59:50.469025Z"
    },
    "papermill": {
     "duration": 0.034265,
     "end_time": "2022-07-27T16:59:50.471649",
     "exception": false,
     "start_time": "2022-07-27T16:59:50.437384",
     "status": "completed"
    },
    "tags": []
   },
   "outputs": [
    {
     "data": {
      "text/html": [
       "<div>\n",
       "<style scoped>\n",
       "    .dataframe tbody tr th:only-of-type {\n",
       "        vertical-align: middle;\n",
       "    }\n",
       "\n",
       "    .dataframe tbody tr th {\n",
       "        vertical-align: top;\n",
       "    }\n",
       "\n",
       "    .dataframe thead th {\n",
       "        text-align: right;\n",
       "    }\n",
       "</style>\n",
       "<table border=\"1\" class=\"dataframe\">\n",
       "  <thead>\n",
       "    <tr style=\"text-align: right;\">\n",
       "      <th></th>\n",
       "      <th>Sex</th>\n",
       "      <th>Embarked</th>\n",
       "      <th>Pclass</th>\n",
       "      <th>Age</th>\n",
       "      <th>SibSp</th>\n",
       "      <th>Parch</th>\n",
       "      <th>Fare</th>\n",
       "    </tr>\n",
       "  </thead>\n",
       "  <tbody>\n",
       "    <tr>\n",
       "      <th>0</th>\n",
       "      <td>male</td>\n",
       "      <td>S</td>\n",
       "      <td>3.0</td>\n",
       "      <td>22.0</td>\n",
       "      <td>1.0</td>\n",
       "      <td>0.0</td>\n",
       "      <td>7.2500</td>\n",
       "    </tr>\n",
       "    <tr>\n",
       "      <th>1</th>\n",
       "      <td>female</td>\n",
       "      <td>C</td>\n",
       "      <td>1.0</td>\n",
       "      <td>38.0</td>\n",
       "      <td>1.0</td>\n",
       "      <td>0.0</td>\n",
       "      <td>71.2833</td>\n",
       "    </tr>\n",
       "    <tr>\n",
       "      <th>2</th>\n",
       "      <td>female</td>\n",
       "      <td>S</td>\n",
       "      <td>3.0</td>\n",
       "      <td>26.0</td>\n",
       "      <td>0.0</td>\n",
       "      <td>0.0</td>\n",
       "      <td>7.9250</td>\n",
       "    </tr>\n",
       "    <tr>\n",
       "      <th>3</th>\n",
       "      <td>female</td>\n",
       "      <td>S</td>\n",
       "      <td>1.0</td>\n",
       "      <td>35.0</td>\n",
       "      <td>1.0</td>\n",
       "      <td>0.0</td>\n",
       "      <td>53.1000</td>\n",
       "    </tr>\n",
       "    <tr>\n",
       "      <th>4</th>\n",
       "      <td>male</td>\n",
       "      <td>S</td>\n",
       "      <td>3.0</td>\n",
       "      <td>35.0</td>\n",
       "      <td>0.0</td>\n",
       "      <td>0.0</td>\n",
       "      <td>8.0500</td>\n",
       "    </tr>\n",
       "  </tbody>\n",
       "</table>\n",
       "</div>"
      ],
      "text/plain": [
       "      Sex Embarked  Pclass   Age  SibSp  Parch     Fare\n",
       "0    male        S     3.0  22.0    1.0    0.0   7.2500\n",
       "1  female        C     1.0  38.0    1.0    0.0  71.2833\n",
       "2  female        S     3.0  26.0    0.0    0.0   7.9250\n",
       "3  female        S     1.0  35.0    1.0    0.0  53.1000\n",
       "4    male        S     3.0  35.0    0.0    0.0   8.0500"
      ]
     },
     "execution_count": 21,
     "metadata": {},
     "output_type": "execute_result"
    }
   ],
   "source": [
    "train[FEATURES].head()"
   ]
  },
  {
   "cell_type": "markdown",
   "id": "6e3a7f90",
   "metadata": {
    "papermill": {
     "duration": 0.016223,
     "end_time": "2022-07-27T16:59:50.504132",
     "exception": false,
     "start_time": "2022-07-27T16:59:50.487909",
     "status": "completed"
    },
    "tags": []
   },
   "source": [
    "# Extract Target and Drop Unused Columns"
   ]
  },
  {
   "cell_type": "code",
   "execution_count": 22,
   "id": "db6416ca",
   "metadata": {
    "execution": {
     "iopub.execute_input": "2022-07-27T16:59:50.538431Z",
     "iopub.status.busy": "2022-07-27T16:59:50.538016Z",
     "iopub.status.idle": "2022-07-27T16:59:50.542755Z",
     "shell.execute_reply": "2022-07-27T16:59:50.541653Z"
    },
    "papermill": {
     "duration": 0.024395,
     "end_time": "2022-07-27T16:59:50.545002",
     "exception": false,
     "start_time": "2022-07-27T16:59:50.520607",
     "status": "completed"
    },
    "tags": []
   },
   "outputs": [],
   "source": [
    "# y = train[TARGET]\n",
    "\n",
    "# X = train_df.drop(columns=[\"PassengerId\", \"Survived\"], axis=1).copy()\n",
    "# X = train[FEATURES].copy()"
   ]
  },
  {
   "cell_type": "markdown",
   "id": "1b89fcae",
   "metadata": {
    "papermill": {
     "duration": 0.016392,
     "end_time": "2022-07-27T16:59:50.577891",
     "exception": false,
     "start_time": "2022-07-27T16:59:50.561499",
     "status": "completed"
    },
    "tags": []
   },
   "source": [
    "<div style=\"background-color:rgba(255, 215, 0, 0.6);border-radius:5px;display:fill\"><h1 style=\"text-align: center;padding: 12px 0px 12px 0px;\">Missing Values</h1>\n",
    "</div>\n",
    "\n",
    "We have 891 rows of training data. Age is the only feature, that we are using, with missing data.\n",
    "\n",
    "Note, handling missing data is an entire subject that should be studied in detail.  Kaggle offers a [course](https://www.kaggle.com/learn/data-cleaning)\n",
    "\n",
    "- [sklearn.impute.SimpleImputer](https://scikit-learn.org/stable/modules/impute.html)\n",
    "- https://scikit-learn.org/stable/modules/impute.html\n",
    "\n",
    "- [A Guide to Handling Missing values in Python](https://www.kaggle.com/parulpandey/a-guide-to-handling-missing-values-in-python)"
   ]
  },
  {
   "cell_type": "code",
   "execution_count": 23,
   "id": "9af49b53",
   "metadata": {
    "execution": {
     "iopub.execute_input": "2022-07-27T16:59:50.612742Z",
     "iopub.status.busy": "2022-07-27T16:59:50.611760Z",
     "iopub.status.idle": "2022-07-27T16:59:50.620766Z",
     "shell.execute_reply": "2022-07-27T16:59:50.619435Z"
    },
    "papermill": {
     "duration": 0.028731,
     "end_time": "2022-07-27T16:59:50.622906",
     "exception": false,
     "start_time": "2022-07-27T16:59:50.594175",
     "status": "completed"
    },
    "tags": []
   },
   "outputs": [
    {
     "name": "stdout",
     "output_type": "stream",
     "text": [
      "Series([], dtype: int64)\n"
     ]
    }
   ],
   "source": [
    "show_missing_features(train)"
   ]
  },
  {
   "cell_type": "code",
   "execution_count": 24,
   "id": "ed9587c1",
   "metadata": {
    "execution": {
     "iopub.execute_input": "2022-07-27T16:59:50.657241Z",
     "iopub.status.busy": "2022-07-27T16:59:50.656582Z",
     "iopub.status.idle": "2022-07-27T16:59:50.664083Z",
     "shell.execute_reply": "2022-07-27T16:59:50.662914Z"
    },
    "papermill": {
     "duration": 0.026778,
     "end_time": "2022-07-27T16:59:50.665974",
     "exception": false,
     "start_time": "2022-07-27T16:59:50.639196",
     "status": "completed"
    },
    "tags": []
   },
   "outputs": [
    {
     "name": "stdout",
     "output_type": "stream",
     "text": [
      "Number missing: 0\n"
     ]
    }
   ],
   "source": [
    "n = train[\"Age\"].isna().sum()\n",
    "print(f\"Number missing: {n}\")"
   ]
  },
  {
   "cell_type": "markdown",
   "id": "6e8ee37e",
   "metadata": {
    "papermill": {
     "duration": 0.015926,
     "end_time": "2022-07-27T16:59:50.698209",
     "exception": false,
     "start_time": "2022-07-27T16:59:50.682283",
     "status": "completed"
    },
    "tags": []
   },
   "source": [
    "### Manual Imputation of Age"
   ]
  },
  {
   "cell_type": "code",
   "execution_count": 25,
   "id": "ff47b547",
   "metadata": {
    "execution": {
     "iopub.execute_input": "2022-07-27T16:59:50.733009Z",
     "iopub.status.busy": "2022-07-27T16:59:50.732311Z",
     "iopub.status.idle": "2022-07-27T16:59:50.739941Z",
     "shell.execute_reply": "2022-07-27T16:59:50.738831Z"
    },
    "papermill": {
     "duration": 0.027333,
     "end_time": "2022-07-27T16:59:50.741850",
     "exception": false,
     "start_time": "2022-07-27T16:59:50.714517",
     "status": "completed"
    },
    "tags": []
   },
   "outputs": [
    {
     "name": "stdout",
     "output_type": "stream",
     "text": [
      "Mean age of person on the Titanic: 29.36\n"
     ]
    }
   ],
   "source": [
    "# train_df[\"Age\"].fillna(train_df[\"Age\"].mean(), inplace = True)\n",
    "m = train[\"Age\"].mean()\n",
    "print(f\"Mean age of person on the Titanic: {m:0.2f}\")"
   ]
  },
  {
   "cell_type": "code",
   "execution_count": 26,
   "id": "f22d867d",
   "metadata": {
    "execution": {
     "iopub.execute_input": "2022-07-27T16:59:50.776477Z",
     "iopub.status.busy": "2022-07-27T16:59:50.775823Z",
     "iopub.status.idle": "2022-07-27T16:59:50.787290Z",
     "shell.execute_reply": "2022-07-27T16:59:50.786494Z"
    },
    "papermill": {
     "duration": 0.031057,
     "end_time": "2022-07-27T16:59:50.789297",
     "exception": false,
     "start_time": "2022-07-27T16:59:50.758240",
     "status": "completed"
    },
    "tags": []
   },
   "outputs": [],
   "source": [
    "train[\"Age\"].fillna(train[\"Age\"].median(skipna=True), inplace=True)\n",
    "train[\"Embarked\"].fillna(train[\"Embarked\"].value_counts().idxmax(), inplace=True)"
   ]
  },
  {
   "cell_type": "markdown",
   "id": "07d6a090",
   "metadata": {
    "papermill": {
     "duration": 0.015939,
     "end_time": "2022-07-27T16:59:50.821589",
     "exception": false,
     "start_time": "2022-07-27T16:59:50.805650",
     "status": "completed"
    },
    "tags": []
   },
   "source": [
    "### Use SimpleImputer Function for Age\n",
    "\n",
    "Leaving the SimpleImputer code uncommented.  It should do nothing since we filled in the values above."
   ]
  },
  {
   "cell_type": "code",
   "execution_count": 27,
   "id": "ada341c2",
   "metadata": {
    "execution": {
     "iopub.execute_input": "2022-07-27T16:59:50.855930Z",
     "iopub.status.busy": "2022-07-27T16:59:50.855273Z",
     "iopub.status.idle": "2022-07-27T16:59:50.874381Z",
     "shell.execute_reply": "2022-07-27T16:59:50.873588Z"
    },
    "papermill": {
     "duration": 0.0388,
     "end_time": "2022-07-27T16:59:50.876599",
     "exception": false,
     "start_time": "2022-07-27T16:59:50.837799",
     "status": "completed"
    },
    "tags": []
   },
   "outputs": [],
   "source": [
    "impute_mean = SimpleImputer(missing_values=np.nan, strategy=\"mean\", verbose=1)\n",
    "m = impute_mean.fit_transform(train[[\"Age\"]])\n",
    "# mt = impute_mean.transform(test[[\"Age\"]])\n",
    "\n",
    "train[\"Age\"] = impute_mean.fit_transform(train[[\"Age\"]])\n",
    "test[\"Age\"] = impute_mean.transform(test[[\"Age\"]])"
   ]
  },
  {
   "cell_type": "markdown",
   "id": "9e28f1f9",
   "metadata": {
    "papermill": {
     "duration": 0.015967,
     "end_time": "2022-07-27T16:59:50.909085",
     "exception": false,
     "start_time": "2022-07-27T16:59:50.893118",
     "status": "completed"
    },
    "tags": []
   },
   "source": [
    "### At this point we no longer have missing values"
   ]
  },
  {
   "cell_type": "code",
   "execution_count": 28,
   "id": "b1bac7d6",
   "metadata": {
    "execution": {
     "iopub.execute_input": "2022-07-27T16:59:50.943591Z",
     "iopub.status.busy": "2022-07-27T16:59:50.942942Z",
     "iopub.status.idle": "2022-07-27T16:59:50.950892Z",
     "shell.execute_reply": "2022-07-27T16:59:50.949693Z"
    },
    "papermill": {
     "duration": 0.027526,
     "end_time": "2022-07-27T16:59:50.952970",
     "exception": false,
     "start_time": "2022-07-27T16:59:50.925444",
     "status": "completed"
    },
    "tags": []
   },
   "outputs": [
    {
     "name": "stdout",
     "output_type": "stream",
     "text": [
      "Series([], dtype: int64)\n"
     ]
    }
   ],
   "source": [
    "show_missing_features(train)"
   ]
  },
  {
   "cell_type": "markdown",
   "id": "91a6231a",
   "metadata": {
    "papermill": {
     "duration": 0.01614,
     "end_time": "2022-07-27T16:59:50.985401",
     "exception": false,
     "start_time": "2022-07-27T16:59:50.969261",
     "status": "completed"
    },
    "tags": []
   },
   "source": [
    "# Encoding Categorical Features\n",
    "\n",
    "Need to convert categorical features into numerical features.\n",
    "\n",
    "Several ways:\n",
    "- One-hot Encode\n",
    "- Label Encode"
   ]
  },
  {
   "cell_type": "markdown",
   "id": "a01f859b",
   "metadata": {
    "papermill": {
     "duration": 0.016051,
     "end_time": "2022-07-27T16:59:51.017964",
     "exception": false,
     "start_time": "2022-07-27T16:59:51.001913",
     "status": "completed"
    },
    "tags": []
   },
   "source": [
    "### Encode `Embarked`\n",
    "\n",
    "First compare what the **drop_first=True** option does.  Some machine learning models require this option while others do not.  Logitistic regression requires us to drop the value."
   ]
  },
  {
   "cell_type": "code",
   "execution_count": 29,
   "id": "7a47dfb7",
   "metadata": {
    "execution": {
     "iopub.execute_input": "2022-07-27T16:59:51.052324Z",
     "iopub.status.busy": "2022-07-27T16:59:51.051973Z",
     "iopub.status.idle": "2022-07-27T16:59:51.071102Z",
     "shell.execute_reply": "2022-07-27T16:59:51.070389Z"
    },
    "papermill": {
     "duration": 0.038557,
     "end_time": "2022-07-27T16:59:51.073005",
     "exception": false,
     "start_time": "2022-07-27T16:59:51.034448",
     "status": "completed"
    },
    "tags": []
   },
   "outputs": [
    {
     "data": {
      "text/html": [
       "<div>\n",
       "<style scoped>\n",
       "    .dataframe tbody tr th:only-of-type {\n",
       "        vertical-align: middle;\n",
       "    }\n",
       "\n",
       "    .dataframe tbody tr th {\n",
       "        vertical-align: top;\n",
       "    }\n",
       "\n",
       "    .dataframe thead th {\n",
       "        text-align: right;\n",
       "    }\n",
       "</style>\n",
       "<table border=\"1\" class=\"dataframe\">\n",
       "  <thead>\n",
       "    <tr style=\"text-align: right;\">\n",
       "      <th></th>\n",
       "      <th>PassengerId</th>\n",
       "      <th>Survived</th>\n",
       "      <th>Pclass</th>\n",
       "      <th>Sex</th>\n",
       "      <th>Age</th>\n",
       "      <th>SibSp</th>\n",
       "      <th>Parch</th>\n",
       "      <th>Fare</th>\n",
       "      <th>Embarked</th>\n",
       "    </tr>\n",
       "  </thead>\n",
       "  <tbody>\n",
       "    <tr>\n",
       "      <th>0</th>\n",
       "      <td>1</td>\n",
       "      <td>0</td>\n",
       "      <td>3.0</td>\n",
       "      <td>1</td>\n",
       "      <td>22.0</td>\n",
       "      <td>1.0</td>\n",
       "      <td>0.0</td>\n",
       "      <td>7.2500</td>\n",
       "      <td>2</td>\n",
       "    </tr>\n",
       "    <tr>\n",
       "      <th>1</th>\n",
       "      <td>2</td>\n",
       "      <td>1</td>\n",
       "      <td>1.0</td>\n",
       "      <td>0</td>\n",
       "      <td>38.0</td>\n",
       "      <td>1.0</td>\n",
       "      <td>0.0</td>\n",
       "      <td>71.2833</td>\n",
       "      <td>0</td>\n",
       "    </tr>\n",
       "    <tr>\n",
       "      <th>2</th>\n",
       "      <td>3</td>\n",
       "      <td>1</td>\n",
       "      <td>3.0</td>\n",
       "      <td>0</td>\n",
       "      <td>26.0</td>\n",
       "      <td>0.0</td>\n",
       "      <td>0.0</td>\n",
       "      <td>7.9250</td>\n",
       "      <td>2</td>\n",
       "    </tr>\n",
       "    <tr>\n",
       "      <th>3</th>\n",
       "      <td>4</td>\n",
       "      <td>1</td>\n",
       "      <td>1.0</td>\n",
       "      <td>0</td>\n",
       "      <td>35.0</td>\n",
       "      <td>1.0</td>\n",
       "      <td>0.0</td>\n",
       "      <td>53.1000</td>\n",
       "      <td>2</td>\n",
       "    </tr>\n",
       "    <tr>\n",
       "      <th>4</th>\n",
       "      <td>5</td>\n",
       "      <td>0</td>\n",
       "      <td>3.0</td>\n",
       "      <td>1</td>\n",
       "      <td>35.0</td>\n",
       "      <td>0.0</td>\n",
       "      <td>0.0</td>\n",
       "      <td>8.0500</td>\n",
       "      <td>2</td>\n",
       "    </tr>\n",
       "  </tbody>\n",
       "</table>\n",
       "</div>"
      ],
      "text/plain": [
       "   PassengerId  Survived  Pclass  Sex   Age  SibSp  Parch     Fare  Embarked\n",
       "0            1         0     3.0    1  22.0    1.0    0.0   7.2500         2\n",
       "1            2         1     1.0    0  38.0    1.0    0.0  71.2833         0\n",
       "2            3         1     3.0    0  26.0    0.0    0.0   7.9250         2\n",
       "3            4         1     1.0    0  35.0    1.0    0.0  53.1000         2\n",
       "4            5         0     3.0    1  35.0    0.0    0.0   8.0500         2"
      ]
     },
     "execution_count": 29,
     "metadata": {},
     "output_type": "execute_result"
    }
   ],
   "source": [
    "train, test = label_encoder(train, test, [\"Embarked\", \"Sex\"])\n",
    "# X_test = pd.get_dummies(test[FEATURES], drop_first=True)\n",
    "\n",
    "train.head()"
   ]
  },
  {
   "cell_type": "markdown",
   "id": "8211b7fa",
   "metadata": {
    "papermill": {
     "duration": 0.016264,
     "end_time": "2022-07-27T16:59:51.106474",
     "exception": false,
     "start_time": "2022-07-27T16:59:51.090210",
     "status": "completed"
    },
    "tags": []
   },
   "source": [
    "- [sklearn.linear_model.LogisticRegression](https://scikit-learn.org/stable/modules/generated/sklearn.linear_model.LogisticRegression.html)"
   ]
  },
  {
   "cell_type": "code",
   "execution_count": 30,
   "id": "bcdea746",
   "metadata": {
    "execution": {
     "iopub.execute_input": "2022-07-27T16:59:51.140887Z",
     "iopub.status.busy": "2022-07-27T16:59:51.140522Z",
     "iopub.status.idle": "2022-07-27T16:59:51.145037Z",
     "shell.execute_reply": "2022-07-27T16:59:51.144288Z"
    },
    "papermill": {
     "duration": 0.02384,
     "end_time": "2022-07-27T16:59:51.146825",
     "exception": false,
     "start_time": "2022-07-27T16:59:51.122985",
     "status": "completed"
    },
    "tags": []
   },
   "outputs": [],
   "source": [
    "# y = train[TARGET]\n",
    "# X = train[FEATURES].copy()\n",
    "\n",
    "# X_test = test[FEATURES].copy()"
   ]
  },
  {
   "cell_type": "code",
   "execution_count": 31,
   "id": "e54fbb61",
   "metadata": {
    "execution": {
     "iopub.execute_input": "2022-07-27T16:59:51.181975Z",
     "iopub.status.busy": "2022-07-27T16:59:51.180950Z",
     "iopub.status.idle": "2022-07-27T16:59:51.193905Z",
     "shell.execute_reply": "2022-07-27T16:59:51.193165Z"
    },
    "papermill": {
     "duration": 0.032943,
     "end_time": "2022-07-27T16:59:51.196436",
     "exception": false,
     "start_time": "2022-07-27T16:59:51.163493",
     "status": "completed"
    },
    "tags": []
   },
   "outputs": [
    {
     "name": "stdout",
     "output_type": "stream",
     "text": [
      "TARGET=Survived, n_folds=5, seed=42\n"
     ]
    }
   ],
   "source": [
    "train = create_folds(train, TARGET, Config.N_FOLDS)"
   ]
  },
  {
   "cell_type": "code",
   "execution_count": 32,
   "id": "63223a2d",
   "metadata": {
    "execution": {
     "iopub.execute_input": "2022-07-27T16:59:51.231715Z",
     "iopub.status.busy": "2022-07-27T16:59:51.231332Z",
     "iopub.status.idle": "2022-07-27T16:59:51.245949Z",
     "shell.execute_reply": "2022-07-27T16:59:51.245200Z"
    },
    "papermill": {
     "duration": 0.034206,
     "end_time": "2022-07-27T16:59:51.247814",
     "exception": false,
     "start_time": "2022-07-27T16:59:51.213608",
     "status": "completed"
    },
    "tags": []
   },
   "outputs": [
    {
     "data": {
      "text/html": [
       "<div>\n",
       "<style scoped>\n",
       "    .dataframe tbody tr th:only-of-type {\n",
       "        vertical-align: middle;\n",
       "    }\n",
       "\n",
       "    .dataframe tbody tr th {\n",
       "        vertical-align: top;\n",
       "    }\n",
       "\n",
       "    .dataframe thead th {\n",
       "        text-align: right;\n",
       "    }\n",
       "</style>\n",
       "<table border=\"1\" class=\"dataframe\">\n",
       "  <thead>\n",
       "    <tr style=\"text-align: right;\">\n",
       "      <th></th>\n",
       "      <th>PassengerId</th>\n",
       "      <th>Survived</th>\n",
       "      <th>fold</th>\n",
       "    </tr>\n",
       "  </thead>\n",
       "  <tbody>\n",
       "    <tr>\n",
       "      <th>0</th>\n",
       "      <td>1</td>\n",
       "      <td>0</td>\n",
       "      <td>1</td>\n",
       "    </tr>\n",
       "    <tr>\n",
       "      <th>1</th>\n",
       "      <td>2</td>\n",
       "      <td>1</td>\n",
       "      <td>4</td>\n",
       "    </tr>\n",
       "    <tr>\n",
       "      <th>2</th>\n",
       "      <td>3</td>\n",
       "      <td>1</td>\n",
       "      <td>3</td>\n",
       "    </tr>\n",
       "    <tr>\n",
       "      <th>3</th>\n",
       "      <td>4</td>\n",
       "      <td>1</td>\n",
       "      <td>3</td>\n",
       "    </tr>\n",
       "    <tr>\n",
       "      <th>4</th>\n",
       "      <td>5</td>\n",
       "      <td>0</td>\n",
       "      <td>0</td>\n",
       "    </tr>\n",
       "  </tbody>\n",
       "</table>\n",
       "</div>"
      ],
      "text/plain": [
       "   PassengerId  Survived  fold\n",
       "0            1         0     1\n",
       "1            2         1     4\n",
       "2            3         1     3\n",
       "3            4         1     3\n",
       "4            5         0     0"
      ]
     },
     "execution_count": 32,
     "metadata": {},
     "output_type": "execute_result"
    }
   ],
   "source": [
    "submission_df = test[[\"PassengerId\"]].copy()\n",
    "oof = train[[\"PassengerId\", TARGET, \"fold\"]].reset_index(drop=True).copy()\n",
    "oof.head()"
   ]
  },
  {
   "cell_type": "markdown",
   "id": "27cfa401",
   "metadata": {
    "execution": {
     "iopub.execute_input": "2022-01-20T17:32:12.023204Z",
     "iopub.status.busy": "2022-01-20T17:32:12.022346Z",
     "iopub.status.idle": "2022-01-20T17:32:12.027226Z",
     "shell.execute_reply": "2022-01-20T17:32:12.026176Z",
     "shell.execute_reply.started": "2022-01-20T17:32:12.023164Z"
    },
    "papermill": {
     "duration": 0.016386,
     "end_time": "2022-07-27T16:59:51.281148",
     "exception": false,
     "start_time": "2022-07-27T16:59:51.264762",
     "status": "completed"
    },
    "tags": []
   },
   "source": [
    "## Train Model"
   ]
  },
  {
   "cell_type": "markdown",
   "id": "72f8227a",
   "metadata": {
    "papermill": {
     "duration": 0.01752,
     "end_time": "2022-07-27T16:59:51.315286",
     "exception": false,
     "start_time": "2022-07-27T16:59:51.297766",
     "status": "completed"
    },
    "tags": []
   },
   "source": [
    "<div style=\"background-color:rgba(255, 215, 0, 0.6);border-radius:5px;display:fill\"><h1 style=\"text-align: center;padding: 12px 0px 12px 0px;\">Train Model with Cross Validation</h1>\n",
    "</div>\n",
    "\n",
    "Four out five folds will be used for training. The fifth will be used for validation\n",
    "\n",
    "Each fold will have a turn at being the validation fold\n",
    "\n",
    "After each time through the loop\n"
   ]
  },
  {
   "cell_type": "code",
   "execution_count": null,
   "id": "743ccefb",
   "metadata": {
    "papermill": {
     "duration": 0.017115,
     "end_time": "2022-07-27T16:59:51.350595",
     "exception": false,
     "start_time": "2022-07-27T16:59:51.333480",
     "status": "completed"
    },
    "tags": []
   },
   "outputs": [],
   "source": []
  },
  {
   "cell_type": "code",
   "execution_count": 33,
   "id": "ca2d6105",
   "metadata": {
    "execution": {
     "iopub.execute_input": "2022-07-27T16:59:51.386447Z",
     "iopub.status.busy": "2022-07-27T16:59:51.385784Z",
     "iopub.status.idle": "2022-07-27T16:59:51.428139Z",
     "shell.execute_reply": "2022-07-27T16:59:51.427333Z"
    },
    "papermill": {
     "duration": 0.062798,
     "end_time": "2022-07-27T16:59:51.430331",
     "exception": false,
     "start_time": "2022-07-27T16:59:51.367533",
     "status": "completed"
    },
    "tags": []
   },
   "outputs": [],
   "source": [
    "def train_xgb_model(\n",
    "    df,\n",
    "    test,\n",
    "    get_model_fn,\n",
    "    FEATURES,\n",
    "    TARGET,\n",
    "    calc_probability,\n",
    "    rowid,\n",
    "    params,\n",
    "    n_folds=5,\n",
    "    seed=42,\n",
    "):\n",
    "\n",
    "    final_test_predictions = []\n",
    "    final_valid_predictions = {}\n",
    "    fold_scores = []  # Scores of Validation Set\n",
    "    feature_importance_lst = []\n",
    "\n",
    "    test = test[FEATURES].copy()\n",
    "\n",
    "    # oof_preds = np.zeros((df.shape[0],)) # Zero array\n",
    "    # print(f\"oof_preds size={df.shape[0]}\")\n",
    "    #     print(\n",
    "    #         f\"\\n===== XGBoost Estimators: {params['n_estimators']}, Random State: {seed} =====\"\n",
    "    #     )\n",
    "\n",
    "    for fold in range(n_folds):\n",
    "        print(10 * \"=\", f\"Fold {fold+1}/{n_folds}\", 10 * \"=\")\n",
    "\n",
    "        start_time = time.time()\n",
    "\n",
    "        xtrain = df[df.fold != fold].reset_index(\n",
    "            drop=True\n",
    "        )  # Everything not in validation fold\n",
    "        xvalid = df[df.fold == fold].reset_index(drop=True)\n",
    "        xtest = test.copy()\n",
    "\n",
    "        valid_ids = (\n",
    "            xvalid.PassengerId.values.tolist()\n",
    "        )  # Id's of everything in validation fold\n",
    "\n",
    "        ytrain = xtrain[TARGET]\n",
    "        yvalid = xvalid[TARGET]\n",
    "\n",
    "        xtrain = xtrain[FEATURES]\n",
    "        xvalid = xvalid[FEATURES]\n",
    "        xtrain.head()\n",
    "\n",
    "        model = get_model_fn()\n",
    "\n",
    "        model.fit(\n",
    "            xtrain,\n",
    "            ytrain,\n",
    "            eval_set=[(xvalid, yvalid)],\n",
    "            #              eval_metric = \"auc\",\n",
    "            verbose=False,\n",
    "            early_stopping_rounds=3000,\n",
    "            #             callbacks=[\n",
    "            #                 xgb.log_evaluation(0),\n",
    "            #                 xgb.early_stopping(500, False, True),\n",
    "            #             ],\n",
    "        )\n",
    "\n",
    "        # Mean of the predictions\n",
    "        #         preds_valid = model.predict(xvalid)\n",
    "        #         test_preds = model.predict(xtest)\n",
    "        if calc_probability:\n",
    "            preds_valid = model.predict_proba(xvalid)[:, 1]\n",
    "            test_preds = model.predict_proba(xtest)[:, 1]\n",
    "        else:\n",
    "            preds_valid = model.predict(xvalid)\n",
    "            test_preds = model.predict(xtest)\n",
    "\n",
    "        final_test_predictions.append(test_preds)\n",
    "        final_valid_predictions.update(dict(zip(valid_ids, preds_valid)))\n",
    "\n",
    "        #         fold_score = accuracy_score(yvalid, preds_valid)  # Validation Set Score\n",
    "        fold_score = roc_auc_score(yvalid, preds_valid)  # Validation Set Score\n",
    "\n",
    "        fold_scores.append(fold_score)\n",
    "\n",
    "        # Feature importance\n",
    "        fi = pd.DataFrame(\n",
    "            index=FEATURES,\n",
    "            data=model.feature_importances_,\n",
    "            columns=[f\"{fold}_importance\"],\n",
    "        )\n",
    "        feature_importance_lst.append(fi)\n",
    "\n",
    "        run_time = time.time() - start_time\n",
    "\n",
    "        print(f\"fold: {fold+1}, AUC: {fold_score}, Run Time: {run_time:.2f}\")\n",
    "\n",
    "    return (\n",
    "        model,\n",
    "        feature_importance_lst,\n",
    "        fold_scores,\n",
    "        final_valid_predictions,\n",
    "        final_test_predictions,\n",
    "    )"
   ]
  },
  {
   "cell_type": "code",
   "execution_count": 34,
   "id": "7eddb1ba",
   "metadata": {
    "execution": {
     "iopub.execute_input": "2022-07-27T16:59:51.471010Z",
     "iopub.status.busy": "2022-07-27T16:59:51.470194Z",
     "iopub.status.idle": "2022-07-27T16:59:51.483575Z",
     "shell.execute_reply": "2022-07-27T16:59:51.482708Z"
    },
    "papermill": {
     "duration": 0.035845,
     "end_time": "2022-07-27T16:59:51.485818",
     "exception": false,
     "start_time": "2022-07-27T16:59:51.449973",
     "status": "completed"
    },
    "tags": []
   },
   "outputs": [],
   "source": [
    "xgb_params = {\n",
    "    \"enable_categorical\": True,\n",
    "    \"n_estimators\": 1000,\n",
    "    \"learning_rate\": 0.021138659045230178,\n",
    "    \"subsample\": 0.4,\n",
    "    \"colsample_bytree\": 0.91,\n",
    "    \"max_depth\": 17,\n",
    "    \"gamma\": 0.6000000000000001,\n",
    "    \"booster\": \"gbtree\",\n",
    "    \"tree_method\": \"hist\",\n",
    "    \"reg_lambda\": 0.005882742898970815,\n",
    "    \"reg_alpha\": 0.0014501578157205654,\n",
    "    \"random_state\": 42,\n",
    "    \"n_jobs\": 4,\n",
    "    \"min_child_weight\": 5.567082153821453,\n",
    "}"
   ]
  },
  {
   "cell_type": "code",
   "execution_count": 35,
   "id": "1bd384e0",
   "metadata": {
    "execution": {
     "iopub.execute_input": "2022-07-27T16:59:51.522419Z",
     "iopub.status.busy": "2022-07-27T16:59:51.521784Z",
     "iopub.status.idle": "2022-07-27T16:59:51.527961Z",
     "shell.execute_reply": "2022-07-27T16:59:51.527250Z"
    },
    "papermill": {
     "duration": 0.026799,
     "end_time": "2022-07-27T16:59:51.529850",
     "exception": false,
     "start_time": "2022-07-27T16:59:51.503051",
     "status": "completed"
    },
    "tags": []
   },
   "outputs": [],
   "source": [
    "def get_xgb_clf_model():\n",
    "    #     model = xgb.XGBClassifier(n_estimators=1000)\n",
    "    model = xgb.XGBClassifier(**xgb_params)\n",
    "    return model"
   ]
  },
  {
   "cell_type": "code",
   "execution_count": 36,
   "id": "a921983f",
   "metadata": {
    "execution": {
     "iopub.execute_input": "2022-07-27T16:59:51.565374Z",
     "iopub.status.busy": "2022-07-27T16:59:51.564750Z",
     "iopub.status.idle": "2022-07-27T16:59:51.578543Z",
     "shell.execute_reply": "2022-07-27T16:59:51.577756Z"
    },
    "papermill": {
     "duration": 0.03369,
     "end_time": "2022-07-27T16:59:51.580586",
     "exception": false,
     "start_time": "2022-07-27T16:59:51.546896",
     "status": "completed"
    },
    "tags": []
   },
   "outputs": [],
   "source": [
    "# https://lightgbm.readthedocs.io/en/latest/Parameters.html\n",
    "\n",
    "lgbm_params = {\n",
    "    \"n_estimators\": Config.N_ESTIMATORS,\n",
    "    #     \"device_type\": \"gpu\",\n",
    "    #     \"objective\": \"multiclass\",\n",
    "    #     \"metric\": \"multi_logloss\",\n",
    "    \"objective\": \"binary\",\n",
    "    \"metric\": \"auc\",\n",
    "    \"lambda_l1\": 0.009130931198077825,\n",
    "    \"lambda_l2\": 3.530680683338868e-05,\n",
    "    #     \"reg_alpha\": 0.009130931198077825,\n",
    "    #     \"reg_lambda\": 3.530680683338868e-05,\n",
    "    \"num_leaves\": 430,\n",
    "    \"importance_type\": \"split\",\n",
    "    #     \"learning_rate\": 0.029330486500731102,\n",
    "    \"learning_rate\": 0.1,\n",
    "    \"feature_fraction\": 0.8757445736567416,\n",
    "    \"bagging_fraction\": 0.9989307214277753,\n",
    "    \"bagging_freq\": 10,\n",
    "    \"min_child_samples\": 20,\n",
    "    \"random_state\": 42,\n",
    "    \"n_jobs\": -1,\n",
    "}\n",
    "if Config.gpu:\n",
    "    lgbm_params[\"device_type\"] = \"gpu\""
   ]
  },
  {
   "cell_type": "code",
   "execution_count": 37,
   "id": "052fcdee",
   "metadata": {
    "execution": {
     "iopub.execute_input": "2022-07-27T16:59:51.615752Z",
     "iopub.status.busy": "2022-07-27T16:59:51.615377Z",
     "iopub.status.idle": "2022-07-27T16:59:51.621994Z",
     "shell.execute_reply": "2022-07-27T16:59:51.621267Z"
    },
    "papermill": {
     "duration": 0.02648,
     "end_time": "2022-07-27T16:59:51.623769",
     "exception": false,
     "start_time": "2022-07-27T16:59:51.597289",
     "status": "completed"
    },
    "tags": []
   },
   "outputs": [],
   "source": [
    "def get_lgbm_clf_model():\n",
    "    model = lgb.LGBMClassifier(**lgbm_params)\n",
    "    return model"
   ]
  },
  {
   "cell_type": "code",
   "execution_count": 38,
   "id": "88ba8a8e",
   "metadata": {
    "execution": {
     "iopub.execute_input": "2022-07-27T16:59:51.660073Z",
     "iopub.status.busy": "2022-07-27T16:59:51.659011Z",
     "iopub.status.idle": "2022-07-27T17:00:12.151239Z",
     "shell.execute_reply": "2022-07-27T17:00:12.148698Z"
    },
    "papermill": {
     "duration": 20.51319,
     "end_time": "2022-07-27T17:00:12.153849",
     "exception": false,
     "start_time": "2022-07-27T16:59:51.640659",
     "status": "completed"
    },
    "tags": []
   },
   "outputs": [
    {
     "name": "stdout",
     "output_type": "stream",
     "text": [
      "========== Fold 1/5 ==========\n"
     ]
    },
    {
     "name": "stderr",
     "output_type": "stream",
     "text": [
      "/opt/conda/lib/python3.7/site-packages/xgboost/sklearn.py:797: UserWarning: `early_stopping_rounds` in `fit` method is deprecated for better compatibility with scikit-learn, use `early_stopping_rounds` in constructor or`set_params` instead.\n",
      "  UserWarning,\n"
     ]
    },
    {
     "name": "stdout",
     "output_type": "stream",
     "text": [
      "fold: 1, AUC: 0.918642951251647, Run Time: 3.98\n",
      "========== Fold 2/5 ==========\n"
     ]
    },
    {
     "name": "stderr",
     "output_type": "stream",
     "text": [
      "/opt/conda/lib/python3.7/site-packages/xgboost/sklearn.py:797: UserWarning: `early_stopping_rounds` in `fit` method is deprecated for better compatibility with scikit-learn, use `early_stopping_rounds` in constructor or`set_params` instead.\n",
      "  UserWarning,\n"
     ]
    },
    {
     "name": "stdout",
     "output_type": "stream",
     "text": [
      "fold: 2, AUC: 0.8922459893048129, Run Time: 4.01\n",
      "========== Fold 3/5 ==========\n"
     ]
    },
    {
     "name": "stderr",
     "output_type": "stream",
     "text": [
      "/opt/conda/lib/python3.7/site-packages/xgboost/sklearn.py:797: UserWarning: `early_stopping_rounds` in `fit` method is deprecated for better compatibility with scikit-learn, use `early_stopping_rounds` in constructor or`set_params` instead.\n",
      "  UserWarning,\n"
     ]
    },
    {
     "name": "stdout",
     "output_type": "stream",
     "text": [
      "fold: 3, AUC: 0.8428475935828879, Run Time: 3.81\n",
      "========== Fold 4/5 ==========\n"
     ]
    },
    {
     "name": "stderr",
     "output_type": "stream",
     "text": [
      "/opt/conda/lib/python3.7/site-packages/xgboost/sklearn.py:797: UserWarning: `early_stopping_rounds` in `fit` method is deprecated for better compatibility with scikit-learn, use `early_stopping_rounds` in constructor or`set_params` instead.\n",
      "  UserWarning,\n"
     ]
    },
    {
     "name": "stdout",
     "output_type": "stream",
     "text": [
      "fold: 4, AUC: 0.8683823529411765, Run Time: 3.85\n",
      "========== Fold 5/5 ==========\n"
     ]
    },
    {
     "name": "stderr",
     "output_type": "stream",
     "text": [
      "/opt/conda/lib/python3.7/site-packages/xgboost/sklearn.py:797: UserWarning: `early_stopping_rounds` in `fit` method is deprecated for better compatibility with scikit-learn, use `early_stopping_rounds` in constructor or`set_params` instead.\n",
      "  UserWarning,\n"
     ]
    },
    {
     "name": "stdout",
     "output_type": "stream",
     "text": [
      "fold: 5, AUC: 0.8798032176572264, Run Time: 4.84\n"
     ]
    }
   ],
   "source": [
    "(\n",
    "    model,\n",
    "    feature_importance_lst,\n",
    "    fold_scores,\n",
    "    final_valid_predictions,\n",
    "    final_test_predictions,\n",
    ") = train_xgb_model(\n",
    "    train,\n",
    "    test,\n",
    "    get_xgb_clf_model,\n",
    "    FEATURES,\n",
    "    TARGET,\n",
    "    Config.calc_probability,\n",
    "    \"PassengerId\",\n",
    "    xgb_params,\n",
    "    Config.N_FOLDS,\n",
    "    Config.seed,\n",
    ")"
   ]
  },
  {
   "cell_type": "markdown",
   "id": "b761c69f",
   "metadata": {
    "papermill": {
     "duration": 0.01685,
     "end_time": "2022-07-27T17:00:12.188165",
     "exception": false,
     "start_time": "2022-07-27T17:00:12.171315",
     "status": "completed"
    },
    "tags": []
   },
   "source": [
    "<div style=\"background-color:rgba(255, 215, 0, 0.6);border-radius:5px;display:fill\"><h1 style=\"text-align: center;padding: 12px 0px 12px 0px;\">Scores</h1>\n",
    "</div>\n",
    "\n",
    "CV, or Cross Validation, Score.\n",
    "\n",
    "We average the means and the standard deviations.\n",
    "\n",
    "The Adjusted Score is the average of the means minus the average of standard deviation. Do this to attempt to get one number to evaluate the score when comparing different models."
   ]
  },
  {
   "cell_type": "code",
   "execution_count": 39,
   "id": "4f188118",
   "metadata": {
    "execution": {
     "iopub.execute_input": "2022-07-27T17:00:12.224241Z",
     "iopub.status.busy": "2022-07-27T17:00:12.223863Z",
     "iopub.status.idle": "2022-07-27T17:00:12.230114Z",
     "shell.execute_reply": "2022-07-27T17:00:12.229058Z"
    },
    "papermill": {
     "duration": 0.027139,
     "end_time": "2022-07-27T17:00:12.232406",
     "exception": false,
     "start_time": "2022-07-27T17:00:12.205267",
     "status": "completed"
    },
    "tags": []
   },
   "outputs": [
    {
     "name": "stdout",
     "output_type": "stream",
     "text": [
      "Scores -> Adjusted: 0.85525351 , mean: 0.88038442, std: 0.02513091\n"
     ]
    }
   ],
   "source": [
    "show_fold_scores(fold_scores)"
   ]
  },
  {
   "cell_type": "code",
   "execution_count": 40,
   "id": "8b974e80",
   "metadata": {
    "execution": {
     "iopub.execute_input": "2022-07-27T17:00:12.270146Z",
     "iopub.status.busy": "2022-07-27T17:00:12.269540Z",
     "iopub.status.idle": "2022-07-27T17:00:12.285456Z",
     "shell.execute_reply": "2022-07-27T17:00:12.284567Z"
    },
    "papermill": {
     "duration": 0.037482,
     "end_time": "2022-07-27T17:00:12.287746",
     "exception": false,
     "start_time": "2022-07-27T17:00:12.250264",
     "status": "completed"
    },
    "tags": []
   },
   "outputs": [],
   "source": [
    "final_valid_predictions_df = pd.DataFrame.from_dict(\n",
    "    final_valid_predictions, orient=\"index\"\n",
    ").reset_index()\n",
    "final_valid_predictions_df.columns = [\"id\", \"pred_xgb1\"]\n",
    "final_valid_predictions_df.to_csv(\"train_pred_xgb1.csv\", index=False)"
   ]
  },
  {
   "cell_type": "code",
   "execution_count": 41,
   "id": "2d437967",
   "metadata": {
    "execution": {
     "iopub.execute_input": "2022-07-27T17:00:12.324265Z",
     "iopub.status.busy": "2022-07-27T17:00:12.323666Z",
     "iopub.status.idle": "2022-07-27T17:00:12.336964Z",
     "shell.execute_reply": "2022-07-27T17:00:12.336231Z"
    },
    "papermill": {
     "duration": 0.033968,
     "end_time": "2022-07-27T17:00:12.339048",
     "exception": false,
     "start_time": "2022-07-27T17:00:12.305080",
     "status": "completed"
    },
    "tags": []
   },
   "outputs": [
    {
     "data": {
      "text/html": [
       "<div>\n",
       "<style scoped>\n",
       "    .dataframe tbody tr th:only-of-type {\n",
       "        vertical-align: middle;\n",
       "    }\n",
       "\n",
       "    .dataframe tbody tr th {\n",
       "        vertical-align: top;\n",
       "    }\n",
       "\n",
       "    .dataframe thead th {\n",
       "        text-align: right;\n",
       "    }\n",
       "</style>\n",
       "<table border=\"1\" class=\"dataframe\">\n",
       "  <thead>\n",
       "    <tr style=\"text-align: right;\">\n",
       "      <th></th>\n",
       "      <th>PassengerId</th>\n",
       "      <th>Survived</th>\n",
       "      <th>fold</th>\n",
       "      <th>pred_xgb1</th>\n",
       "    </tr>\n",
       "  </thead>\n",
       "  <tbody>\n",
       "    <tr>\n",
       "      <th>0</th>\n",
       "      <td>1</td>\n",
       "      <td>0</td>\n",
       "      <td>1</td>\n",
       "      <td>0.163485</td>\n",
       "    </tr>\n",
       "    <tr>\n",
       "      <th>1</th>\n",
       "      <td>2</td>\n",
       "      <td>1</td>\n",
       "      <td>4</td>\n",
       "      <td>0.235179</td>\n",
       "    </tr>\n",
       "    <tr>\n",
       "      <th>2</th>\n",
       "      <td>3</td>\n",
       "      <td>1</td>\n",
       "      <td>3</td>\n",
       "      <td>0.074338</td>\n",
       "    </tr>\n",
       "    <tr>\n",
       "      <th>3</th>\n",
       "      <td>4</td>\n",
       "      <td>1</td>\n",
       "      <td>3</td>\n",
       "      <td>0.703031</td>\n",
       "    </tr>\n",
       "    <tr>\n",
       "      <th>4</th>\n",
       "      <td>5</td>\n",
       "      <td>0</td>\n",
       "      <td>0</td>\n",
       "      <td>0.386051</td>\n",
       "    </tr>\n",
       "  </tbody>\n",
       "</table>\n",
       "</div>"
      ],
      "text/plain": [
       "   PassengerId  Survived  fold  pred_xgb1\n",
       "0            1         0     1   0.163485\n",
       "1            2         1     4   0.235179\n",
       "2            3         1     3   0.074338\n",
       "3            4         1     3   0.703031\n",
       "4            5         0     0   0.386051"
      ]
     },
     "execution_count": 41,
     "metadata": {},
     "output_type": "execute_result"
    }
   ],
   "source": [
    "oof[\"pred_xgb1\"] = final_valid_predictions_df[\"pred_xgb1\"]\n",
    "oof.head()"
   ]
  },
  {
   "cell_type": "code",
   "execution_count": 42,
   "id": "b08fb039",
   "metadata": {
    "execution": {
     "iopub.execute_input": "2022-07-27T17:00:12.375644Z",
     "iopub.status.busy": "2022-07-27T17:00:12.375285Z",
     "iopub.status.idle": "2022-07-27T17:00:12.391780Z",
     "shell.execute_reply": "2022-07-27T17:00:12.390951Z"
    },
    "papermill": {
     "duration": 0.037086,
     "end_time": "2022-07-27T17:00:12.393820",
     "exception": false,
     "start_time": "2022-07-27T17:00:12.356734",
     "status": "completed"
    },
    "tags": []
   },
   "outputs": [
    {
     "name": "stdout",
     "output_type": "stream",
     "text": [
      "Mean\n"
     ]
    },
    {
     "data": {
      "text/plain": [
       "array([0.12707493, 0.24531329, 0.0601217 , 0.15703344, 0.36903167,\n",
       "       0.2520413 , 0.6464669 , 0.14999278, 0.7070511 , 0.03526946,\n",
       "       0.05098905, 0.17711352, 0.91629744, 0.07315017, 0.9425286 ,\n",
       "       0.87489337, 0.2211051 , 0.15072212, 0.6656117 , 0.44384485],\n",
       "      dtype=float32)"
      ]
     },
     "execution_count": 42,
     "metadata": {},
     "output_type": "execute_result"
    }
   ],
   "source": [
    "from scipy.stats import mode\n",
    "\n",
    "if Config.calc_probability:\n",
    "    print(\"Mean\")\n",
    "    result = np.mean(np.column_stack(final_test_predictions), axis=1)\n",
    "#     result = np.rint(m).astype(int)\n",
    "#     display(result)\n",
    "else:\n",
    "    print(\"Mode\")\n",
    "    mode_result = mode(np.column_stack(final_test_predictions), axis=1)\n",
    "    result = mode_result[0].ravel()\n",
    "\n",
    "result[:20]"
   ]
  },
  {
   "cell_type": "code",
   "execution_count": 43,
   "id": "711b10a3",
   "metadata": {
    "execution": {
     "iopub.execute_input": "2022-07-27T17:00:12.431148Z",
     "iopub.status.busy": "2022-07-27T17:00:12.430490Z",
     "iopub.status.idle": "2022-07-27T17:00:12.443156Z",
     "shell.execute_reply": "2022-07-27T17:00:12.442418Z"
    },
    "papermill": {
     "duration": 0.033777,
     "end_time": "2022-07-27T17:00:12.445210",
     "exception": false,
     "start_time": "2022-07-27T17:00:12.411433",
     "status": "completed"
    },
    "tags": []
   },
   "outputs": [
    {
     "data": {
      "text/html": [
       "<div>\n",
       "<style scoped>\n",
       "    .dataframe tbody tr th:only-of-type {\n",
       "        vertical-align: middle;\n",
       "    }\n",
       "\n",
       "    .dataframe tbody tr th {\n",
       "        vertical-align: top;\n",
       "    }\n",
       "\n",
       "    .dataframe thead th {\n",
       "        text-align: right;\n",
       "    }\n",
       "</style>\n",
       "<table border=\"1\" class=\"dataframe\">\n",
       "  <thead>\n",
       "    <tr style=\"text-align: right;\">\n",
       "      <th></th>\n",
       "      <th>PassengerId</th>\n",
       "      <th>target_xgb1</th>\n",
       "    </tr>\n",
       "  </thead>\n",
       "  <tbody>\n",
       "    <tr>\n",
       "      <th>0</th>\n",
       "      <td>892</td>\n",
       "      <td>0.127075</td>\n",
       "    </tr>\n",
       "    <tr>\n",
       "      <th>1</th>\n",
       "      <td>893</td>\n",
       "      <td>0.245313</td>\n",
       "    </tr>\n",
       "    <tr>\n",
       "      <th>2</th>\n",
       "      <td>894</td>\n",
       "      <td>0.060122</td>\n",
       "    </tr>\n",
       "    <tr>\n",
       "      <th>3</th>\n",
       "      <td>895</td>\n",
       "      <td>0.157033</td>\n",
       "    </tr>\n",
       "    <tr>\n",
       "      <th>4</th>\n",
       "      <td>896</td>\n",
       "      <td>0.369032</td>\n",
       "    </tr>\n",
       "    <tr>\n",
       "      <th>5</th>\n",
       "      <td>897</td>\n",
       "      <td>0.252041</td>\n",
       "    </tr>\n",
       "    <tr>\n",
       "      <th>6</th>\n",
       "      <td>898</td>\n",
       "      <td>0.646467</td>\n",
       "    </tr>\n",
       "    <tr>\n",
       "      <th>7</th>\n",
       "      <td>899</td>\n",
       "      <td>0.149993</td>\n",
       "    </tr>\n",
       "    <tr>\n",
       "      <th>8</th>\n",
       "      <td>900</td>\n",
       "      <td>0.707051</td>\n",
       "    </tr>\n",
       "    <tr>\n",
       "      <th>9</th>\n",
       "      <td>901</td>\n",
       "      <td>0.035269</td>\n",
       "    </tr>\n",
       "  </tbody>\n",
       "</table>\n",
       "</div>"
      ],
      "text/plain": [
       "   PassengerId  target_xgb1\n",
       "0          892     0.127075\n",
       "1          893     0.245313\n",
       "2          894     0.060122\n",
       "3          895     0.157033\n",
       "4          896     0.369032\n",
       "5          897     0.252041\n",
       "6          898     0.646467\n",
       "7          899     0.149993\n",
       "8          900     0.707051\n",
       "9          901     0.035269"
      ]
     },
     "execution_count": 43,
     "metadata": {},
     "output_type": "execute_result"
    }
   ],
   "source": [
    "# submission_df[\"target_xgb1\"] = np.mean(np.column_stack(final_test_predictions), axis=1)\n",
    "submission_df[\"target_xgb1\"] = result\n",
    "submission_df.head(10)"
   ]
  },
  {
   "cell_type": "markdown",
   "id": "cc0661a2",
   "metadata": {
    "papermill": {
     "duration": 0.017705,
     "end_time": "2022-07-27T17:00:12.481011",
     "exception": false,
     "start_time": "2022-07-27T17:00:12.463306",
     "status": "completed"
    },
    "tags": []
   },
   "source": [
    "## LGBM Model"
   ]
  },
  {
   "cell_type": "code",
   "execution_count": 44,
   "id": "8d6be85b",
   "metadata": {
    "execution": {
     "iopub.execute_input": "2022-07-27T17:00:12.517860Z",
     "iopub.status.busy": "2022-07-27T17:00:12.517485Z",
     "iopub.status.idle": "2022-07-27T17:00:13.091453Z",
     "shell.execute_reply": "2022-07-27T17:00:13.090242Z"
    },
    "papermill": {
     "duration": 0.595153,
     "end_time": "2022-07-27T17:00:13.094019",
     "exception": false,
     "start_time": "2022-07-27T17:00:12.498866",
     "status": "completed"
    },
    "tags": []
   },
   "outputs": [
    {
     "name": "stdout",
     "output_type": "stream",
     "text": [
      "========== Fold 1/5 ==========\n",
      "[LightGBM] [Warning] lambda_l1 is set=0.009130931198077825, reg_alpha=0.0 will be ignored. Current value: lambda_l1=0.009130931198077825\n",
      "[LightGBM] [Warning] bagging_fraction is set=0.9989307214277753, subsample=1.0 will be ignored. Current value: bagging_fraction=0.9989307214277753\n",
      "[LightGBM] [Warning] feature_fraction is set=0.8757445736567416, colsample_bytree=1.0 will be ignored. Current value: feature_fraction=0.8757445736567416\n",
      "[LightGBM] [Warning] bagging_freq is set=10, subsample_freq=0 will be ignored. Current value: bagging_freq=10\n",
      "[LightGBM] [Warning] lambda_l2 is set=3.530680683338868e-05, reg_lambda=0.0 will be ignored. Current value: lambda_l2=3.530680683338868e-05\n",
      "fold: 1, AUC: 0.9148221343873518, Run Time: 0.16\n",
      "========== Fold 2/5 ==========\n",
      "[LightGBM] [Warning] lambda_l1 is set=0.009130931198077825, reg_alpha=0.0 will be ignored. Current value: lambda_l1=0.009130931198077825\n",
      "[LightGBM] [Warning] bagging_fraction is set=0.9989307214277753, subsample=1.0 will be ignored. Current value: bagging_fraction=0.9989307214277753\n",
      "[LightGBM] [Warning] feature_fraction is set=0.8757445736567416, colsample_bytree=1.0 will be ignored. Current value: feature_fraction=0.8757445736567416\n",
      "[LightGBM] [Warning] bagging_freq is set=10, subsample_freq=0 will be ignored. Current value: bagging_freq=10\n",
      "[LightGBM] [Warning] lambda_l2 is set=3.530680683338868e-05, reg_lambda=0.0 will be ignored. Current value: lambda_l2=3.530680683338868e-05\n"
     ]
    },
    {
     "name": "stderr",
     "output_type": "stream",
     "text": [
      "/opt/conda/lib/python3.7/site-packages/lightgbm/sklearn.py:726: UserWarning: 'early_stopping_rounds' argument is deprecated and will be removed in a future release of LightGBM. Pass 'early_stopping()' callback via 'callbacks' argument instead.\n",
      "  _log_warning(\"'early_stopping_rounds' argument is deprecated and will be removed in a future release of LightGBM. \"\n",
      "/opt/conda/lib/python3.7/site-packages/lightgbm/sklearn.py:736: UserWarning: 'verbose' argument is deprecated and will be removed in a future release of LightGBM. Pass 'log_evaluation()' callback via 'callbacks' argument instead.\n",
      "  _log_warning(\"'verbose' argument is deprecated and will be removed in a future release of LightGBM. \"\n",
      "/opt/conda/lib/python3.7/site-packages/lightgbm/sklearn.py:726: UserWarning: 'early_stopping_rounds' argument is deprecated and will be removed in a future release of LightGBM. Pass 'early_stopping()' callback via 'callbacks' argument instead.\n",
      "  _log_warning(\"'early_stopping_rounds' argument is deprecated and will be removed in a future release of LightGBM. \"\n",
      "/opt/conda/lib/python3.7/site-packages/lightgbm/sklearn.py:736: UserWarning: 'verbose' argument is deprecated and will be removed in a future release of LightGBM. Pass 'log_evaluation()' callback via 'callbacks' argument instead.\n",
      "  _log_warning(\"'verbose' argument is deprecated and will be removed in a future release of LightGBM. \"\n"
     ]
    },
    {
     "name": "stdout",
     "output_type": "stream",
     "text": [
      "fold: 2, AUC: 0.902139037433155, Run Time: 0.10\n",
      "========== Fold 3/5 ==========\n",
      "[LightGBM] [Warning] lambda_l1 is set=0.009130931198077825, reg_alpha=0.0 will be ignored. Current value: lambda_l1=0.009130931198077825\n",
      "[LightGBM] [Warning] bagging_fraction is set=0.9989307214277753, subsample=1.0 will be ignored. Current value: bagging_fraction=0.9989307214277753\n",
      "[LightGBM] [Warning] feature_fraction is set=0.8757445736567416, colsample_bytree=1.0 will be ignored. Current value: feature_fraction=0.8757445736567416\n",
      "[LightGBM] [Warning] bagging_freq is set=10, subsample_freq=0 will be ignored. Current value: bagging_freq=10\n",
      "[LightGBM] [Warning] lambda_l2 is set=3.530680683338868e-05, reg_lambda=0.0 will be ignored. Current value: lambda_l2=3.530680683338868e-05\n",
      "fold: 3, AUC: 0.8584893048128343, Run Time: 0.10\n",
      "========== Fold 4/5 ==========\n",
      "[LightGBM] [Warning] lambda_l1 is set=0.009130931198077825, reg_alpha=0.0 will be ignored. Current value: lambda_l1=0.009130931198077825\n",
      "[LightGBM] [Warning] bagging_fraction is set=0.9989307214277753, subsample=1.0 will be ignored. Current value: bagging_fraction=0.9989307214277753\n",
      "[LightGBM] [Warning] feature_fraction is set=0.8757445736567416, colsample_bytree=1.0 will be ignored. Current value: feature_fraction=0.8757445736567416\n",
      "[LightGBM] [Warning] bagging_freq is set=10, subsample_freq=0 will be ignored. Current value: bagging_freq=10\n",
      "[LightGBM] [Warning] lambda_l2 is set=3.530680683338868e-05, reg_lambda=0.0 will be ignored. Current value: lambda_l2=3.530680683338868e-05\n",
      "fold: 4, AUC: 0.8679812834224598, Run Time: 0.10\n",
      "========== Fold 5/5 ==========\n",
      "[LightGBM] [Warning] lambda_l1 is set=0.009130931198077825, reg_alpha=0.0 will be ignored. Current value: lambda_l1=0.009130931198077825\n",
      "[LightGBM] [Warning] bagging_fraction is set=0.9989307214277753, subsample=1.0 will be ignored. Current value: bagging_fraction=0.9989307214277753\n",
      "[LightGBM] [Warning] feature_fraction is set=0.8757445736567416, colsample_bytree=1.0 will be ignored. Current value: feature_fraction=0.8757445736567416\n",
      "[LightGBM] [Warning] bagging_freq is set=10, subsample_freq=0 will be ignored. Current value: bagging_freq=10\n",
      "[LightGBM] [Warning] lambda_l2 is set=3.530680683338868e-05, reg_lambda=0.0 will be ignored. Current value: lambda_l2=3.530680683338868e-05\n"
     ]
    },
    {
     "name": "stderr",
     "output_type": "stream",
     "text": [
      "/opt/conda/lib/python3.7/site-packages/lightgbm/sklearn.py:726: UserWarning: 'early_stopping_rounds' argument is deprecated and will be removed in a future release of LightGBM. Pass 'early_stopping()' callback via 'callbacks' argument instead.\n",
      "  _log_warning(\"'early_stopping_rounds' argument is deprecated and will be removed in a future release of LightGBM. \"\n",
      "/opt/conda/lib/python3.7/site-packages/lightgbm/sklearn.py:736: UserWarning: 'verbose' argument is deprecated and will be removed in a future release of LightGBM. Pass 'log_evaluation()' callback via 'callbacks' argument instead.\n",
      "  _log_warning(\"'verbose' argument is deprecated and will be removed in a future release of LightGBM. \"\n",
      "/opt/conda/lib/python3.7/site-packages/lightgbm/sklearn.py:726: UserWarning: 'early_stopping_rounds' argument is deprecated and will be removed in a future release of LightGBM. Pass 'early_stopping()' callback via 'callbacks' argument instead.\n",
      "  _log_warning(\"'early_stopping_rounds' argument is deprecated and will be removed in a future release of LightGBM. \"\n",
      "/opt/conda/lib/python3.7/site-packages/lightgbm/sklearn.py:736: UserWarning: 'verbose' argument is deprecated and will be removed in a future release of LightGBM. Pass 'log_evaluation()' callback via 'callbacks' argument instead.\n",
      "  _log_warning(\"'verbose' argument is deprecated and will be removed in a future release of LightGBM. \"\n",
      "/opt/conda/lib/python3.7/site-packages/lightgbm/sklearn.py:726: UserWarning: 'early_stopping_rounds' argument is deprecated and will be removed in a future release of LightGBM. Pass 'early_stopping()' callback via 'callbacks' argument instead.\n",
      "  _log_warning(\"'early_stopping_rounds' argument is deprecated and will be removed in a future release of LightGBM. \"\n",
      "/opt/conda/lib/python3.7/site-packages/lightgbm/sklearn.py:736: UserWarning: 'verbose' argument is deprecated and will be removed in a future release of LightGBM. Pass 'log_evaluation()' callback via 'callbacks' argument instead.\n",
      "  _log_warning(\"'verbose' argument is deprecated and will be removed in a future release of LightGBM. \"\n"
     ]
    },
    {
     "name": "stdout",
     "output_type": "stream",
     "text": [
      "fold: 5, AUC: 0.8966892700438771, Run Time: 0.10\n"
     ]
    }
   ],
   "source": [
    "(\n",
    "    model,\n",
    "    feature_importance_lst,\n",
    "    fold_scores,\n",
    "    final_valid_predictions,\n",
    "    final_test_predictions,\n",
    ") = train_xgb_model(\n",
    "    train,\n",
    "    test,\n",
    "    get_lgbm_clf_model,\n",
    "    FEATURES,\n",
    "    TARGET,\n",
    "    Config.calc_probability,\n",
    "    \"PassengerId\",\n",
    "    lgbm_params,\n",
    "    Config.N_FOLDS,\n",
    "    Config.seed,\n",
    ")"
   ]
  },
  {
   "cell_type": "code",
   "execution_count": 45,
   "id": "131a4dc8",
   "metadata": {
    "execution": {
     "iopub.execute_input": "2022-07-27T17:00:13.132012Z",
     "iopub.status.busy": "2022-07-27T17:00:13.131657Z",
     "iopub.status.idle": "2022-07-27T17:00:13.138042Z",
     "shell.execute_reply": "2022-07-27T17:00:13.136843Z"
    },
    "papermill": {
     "duration": 0.027791,
     "end_time": "2022-07-27T17:00:13.140012",
     "exception": false,
     "start_time": "2022-07-27T17:00:13.112221",
     "status": "completed"
    },
    "tags": []
   },
   "outputs": [
    {
     "name": "stdout",
     "output_type": "stream",
     "text": [
      "Scores -> Adjusted: 0.86673350 , mean: 0.88802421, std: 0.02129070\n"
     ]
    }
   ],
   "source": [
    "show_fold_scores(fold_scores)"
   ]
  },
  {
   "cell_type": "markdown",
   "id": "34e3a4f0",
   "metadata": {
    "papermill": {
     "duration": 0.018064,
     "end_time": "2022-07-27T17:00:13.176577",
     "exception": false,
     "start_time": "2022-07-27T17:00:13.158513",
     "status": "completed"
    },
    "tags": []
   },
   "source": [
    "<div style=\"background-color:rgba(255, 215, 0, 0.6);border-radius:5px;display:fill\"><h1 style=\"text-align: center;padding: 12px 0px 12px 0px;\">Save OOF Predictions</h1>\n",
    "</div>\n",
    "\n",
    "This is unused for this example but needed later for [Blending](https://towardsdatascience.com/ensemble-learning-stacking-blending-voting-b37737c4f483).\n",
    "\n",
    "**General idea**: The values will be use to create new features in a blended model.\n",
    "\n",
    "- [Stacking and Blending — An Intuitive ExplanationStacking and Blending — An Intuitive Explanation](https://medium.com/@stevenyu530_73989/stacking-and-blending-intuitive-explanation-of-advanced-ensemble-methods-46b295da413chttps://medium.com/@stevenyu530_73989/stacking-and-blending-intuitive-explanation-of-advanced-ensemble-methods-46b295da413c)"
   ]
  },
  {
   "cell_type": "code",
   "execution_count": 46,
   "id": "6310d8b3",
   "metadata": {
    "execution": {
     "iopub.execute_input": "2022-07-27T17:00:13.214803Z",
     "iopub.status.busy": "2022-07-27T17:00:13.214387Z",
     "iopub.status.idle": "2022-07-27T17:00:13.229105Z",
     "shell.execute_reply": "2022-07-27T17:00:13.227808Z"
    },
    "papermill": {
     "duration": 0.036387,
     "end_time": "2022-07-27T17:00:13.231265",
     "exception": false,
     "start_time": "2022-07-27T17:00:13.194878",
     "status": "completed"
    },
    "tags": []
   },
   "outputs": [],
   "source": [
    "final_valid_predictions_df = pd.DataFrame.from_dict(\n",
    "    final_valid_predictions, orient=\"index\"\n",
    ").reset_index()\n",
    "final_valid_predictions_df.columns = [\"id\", \"pred_lgbm1\"]\n",
    "final_valid_predictions_df.to_csv(\"train_pred_lgbm1.csv\", index=False)"
   ]
  },
  {
   "cell_type": "code",
   "execution_count": 47,
   "id": "f182aea3",
   "metadata": {
    "execution": {
     "iopub.execute_input": "2022-07-27T17:00:13.270493Z",
     "iopub.status.busy": "2022-07-27T17:00:13.269718Z",
     "iopub.status.idle": "2022-07-27T17:00:13.410105Z",
     "shell.execute_reply": "2022-07-27T17:00:13.408961Z"
    },
    "papermill": {
     "duration": 0.162353,
     "end_time": "2022-07-27T17:00:13.412426",
     "exception": false,
     "start_time": "2022-07-27T17:00:13.250073",
     "status": "completed"
    },
    "tags": []
   },
   "outputs": [
    {
     "data": {
      "text/html": [
       "<div>\n",
       "<style scoped>\n",
       "    .dataframe tbody tr th:only-of-type {\n",
       "        vertical-align: middle;\n",
       "    }\n",
       "\n",
       "    .dataframe tbody tr th {\n",
       "        vertical-align: top;\n",
       "    }\n",
       "\n",
       "    .dataframe thead th {\n",
       "        text-align: right;\n",
       "    }\n",
       "</style>\n",
       "<table border=\"1\" class=\"dataframe\">\n",
       "  <thead>\n",
       "    <tr style=\"text-align: right;\">\n",
       "      <th></th>\n",
       "      <th>PassengerId</th>\n",
       "      <th>Survived</th>\n",
       "      <th>fold</th>\n",
       "      <th>pred_xgb1</th>\n",
       "      <th>pred_lgbm1</th>\n",
       "    </tr>\n",
       "  </thead>\n",
       "  <tbody>\n",
       "    <tr>\n",
       "      <th>0</th>\n",
       "      <td>1</td>\n",
       "      <td>0</td>\n",
       "      <td>1</td>\n",
       "      <td>0.163485</td>\n",
       "      <td>0.077964</td>\n",
       "    </tr>\n",
       "    <tr>\n",
       "      <th>1</th>\n",
       "      <td>2</td>\n",
       "      <td>1</td>\n",
       "      <td>4</td>\n",
       "      <td>0.235179</td>\n",
       "      <td>0.049935</td>\n",
       "    </tr>\n",
       "    <tr>\n",
       "      <th>2</th>\n",
       "      <td>3</td>\n",
       "      <td>1</td>\n",
       "      <td>3</td>\n",
       "      <td>0.074338</td>\n",
       "      <td>0.128361</td>\n",
       "    </tr>\n",
       "    <tr>\n",
       "      <th>3</th>\n",
       "      <td>4</td>\n",
       "      <td>1</td>\n",
       "      <td>3</td>\n",
       "      <td>0.703031</td>\n",
       "      <td>0.673995</td>\n",
       "    </tr>\n",
       "    <tr>\n",
       "      <th>4</th>\n",
       "      <td>5</td>\n",
       "      <td>0</td>\n",
       "      <td>0</td>\n",
       "      <td>0.386051</td>\n",
       "      <td>0.271104</td>\n",
       "    </tr>\n",
       "  </tbody>\n",
       "</table>\n",
       "</div>"
      ],
      "text/plain": [
       "   PassengerId  Survived  fold  pred_xgb1  pred_lgbm1\n",
       "0            1         0     1   0.163485    0.077964\n",
       "1            2         1     4   0.235179    0.049935\n",
       "2            3         1     3   0.074338    0.128361\n",
       "3            4         1     3   0.703031    0.673995\n",
       "4            5         0     0   0.386051    0.271104"
      ]
     },
     "execution_count": 47,
     "metadata": {},
     "output_type": "execute_result"
    }
   ],
   "source": [
    "oof[\"pred_lgbm1\"] = final_valid_predictions_df[\"pred_lgbm1\"]\n",
    "oof.head()"
   ]
  },
  {
   "cell_type": "code",
   "execution_count": 48,
   "id": "3bd79bbe",
   "metadata": {
    "execution": {
     "iopub.execute_input": "2022-07-27T17:00:13.451735Z",
     "iopub.status.busy": "2022-07-27T17:00:13.450876Z",
     "iopub.status.idle": "2022-07-27T17:00:13.466911Z",
     "shell.execute_reply": "2022-07-27T17:00:13.465962Z"
    },
    "papermill": {
     "duration": 0.038071,
     "end_time": "2022-07-27T17:00:13.469053",
     "exception": false,
     "start_time": "2022-07-27T17:00:13.430982",
     "status": "completed"
    },
    "tags": []
   },
   "outputs": [
    {
     "name": "stdout",
     "output_type": "stream",
     "text": [
      "Mean\n"
     ]
    },
    {
     "data": {
      "text/plain": [
       "array([0.07866885, 0.26068843, 0.08841815, 0.28875258, 0.29955905,\n",
       "       0.37177733, 0.50750124, 0.18450079, 0.73589166, 0.04400028,\n",
       "       0.0334911 , 0.12490202, 0.94775474, 0.04540242, 0.9431925 ,\n",
       "       0.88002872, 0.11788597, 0.30616484, 0.51443279, 0.50999095])"
      ]
     },
     "execution_count": 48,
     "metadata": {},
     "output_type": "execute_result"
    }
   ],
   "source": [
    "from scipy.stats import mode\n",
    "\n",
    "if Config.calc_probability:\n",
    "    print(\"Mean\")\n",
    "    result = np.mean(np.column_stack(final_test_predictions), axis=1)\n",
    "#     result = np.rint(m).astype(int)\n",
    "#     display(result)\n",
    "else:\n",
    "    print(\"Mode\")\n",
    "    mode_result = mode(np.column_stack(final_test_predictions), axis=1)\n",
    "    result = mode_result[0].ravel()\n",
    "\n",
    "result[:20]"
   ]
  },
  {
   "cell_type": "code",
   "execution_count": 49,
   "id": "4665d444",
   "metadata": {
    "execution": {
     "iopub.execute_input": "2022-07-27T17:00:13.508511Z",
     "iopub.status.busy": "2022-07-27T17:00:13.507783Z",
     "iopub.status.idle": "2022-07-27T17:00:13.520161Z",
     "shell.execute_reply": "2022-07-27T17:00:13.519415Z"
    },
    "papermill": {
     "duration": 0.034289,
     "end_time": "2022-07-27T17:00:13.522207",
     "exception": false,
     "start_time": "2022-07-27T17:00:13.487918",
     "status": "completed"
    },
    "tags": []
   },
   "outputs": [
    {
     "data": {
      "text/html": [
       "<div>\n",
       "<style scoped>\n",
       "    .dataframe tbody tr th:only-of-type {\n",
       "        vertical-align: middle;\n",
       "    }\n",
       "\n",
       "    .dataframe tbody tr th {\n",
       "        vertical-align: top;\n",
       "    }\n",
       "\n",
       "    .dataframe thead th {\n",
       "        text-align: right;\n",
       "    }\n",
       "</style>\n",
       "<table border=\"1\" class=\"dataframe\">\n",
       "  <thead>\n",
       "    <tr style=\"text-align: right;\">\n",
       "      <th></th>\n",
       "      <th>PassengerId</th>\n",
       "      <th>target_xgb1</th>\n",
       "      <th>target_lgbm1</th>\n",
       "    </tr>\n",
       "  </thead>\n",
       "  <tbody>\n",
       "    <tr>\n",
       "      <th>0</th>\n",
       "      <td>892</td>\n",
       "      <td>0.127075</td>\n",
       "      <td>0.078669</td>\n",
       "    </tr>\n",
       "    <tr>\n",
       "      <th>1</th>\n",
       "      <td>893</td>\n",
       "      <td>0.245313</td>\n",
       "      <td>0.260688</td>\n",
       "    </tr>\n",
       "    <tr>\n",
       "      <th>2</th>\n",
       "      <td>894</td>\n",
       "      <td>0.060122</td>\n",
       "      <td>0.088418</td>\n",
       "    </tr>\n",
       "    <tr>\n",
       "      <th>3</th>\n",
       "      <td>895</td>\n",
       "      <td>0.157033</td>\n",
       "      <td>0.288753</td>\n",
       "    </tr>\n",
       "    <tr>\n",
       "      <th>4</th>\n",
       "      <td>896</td>\n",
       "      <td>0.369032</td>\n",
       "      <td>0.299559</td>\n",
       "    </tr>\n",
       "    <tr>\n",
       "      <th>5</th>\n",
       "      <td>897</td>\n",
       "      <td>0.252041</td>\n",
       "      <td>0.371777</td>\n",
       "    </tr>\n",
       "    <tr>\n",
       "      <th>6</th>\n",
       "      <td>898</td>\n",
       "      <td>0.646467</td>\n",
       "      <td>0.507501</td>\n",
       "    </tr>\n",
       "    <tr>\n",
       "      <th>7</th>\n",
       "      <td>899</td>\n",
       "      <td>0.149993</td>\n",
       "      <td>0.184501</td>\n",
       "    </tr>\n",
       "    <tr>\n",
       "      <th>8</th>\n",
       "      <td>900</td>\n",
       "      <td>0.707051</td>\n",
       "      <td>0.735892</td>\n",
       "    </tr>\n",
       "    <tr>\n",
       "      <th>9</th>\n",
       "      <td>901</td>\n",
       "      <td>0.035269</td>\n",
       "      <td>0.044000</td>\n",
       "    </tr>\n",
       "  </tbody>\n",
       "</table>\n",
       "</div>"
      ],
      "text/plain": [
       "   PassengerId  target_xgb1  target_lgbm1\n",
       "0          892     0.127075      0.078669\n",
       "1          893     0.245313      0.260688\n",
       "2          894     0.060122      0.088418\n",
       "3          895     0.157033      0.288753\n",
       "4          896     0.369032      0.299559\n",
       "5          897     0.252041      0.371777\n",
       "6          898     0.646467      0.507501\n",
       "7          899     0.149993      0.184501\n",
       "8          900     0.707051      0.735892\n",
       "9          901     0.035269      0.044000"
      ]
     },
     "execution_count": 49,
     "metadata": {},
     "output_type": "execute_result"
    }
   ],
   "source": [
    "submission_df[\"target_lgbm1\"] = result\n",
    "submission_df.head(10)"
   ]
  },
  {
   "cell_type": "markdown",
   "id": "f86ddb1d",
   "metadata": {
    "papermill": {
     "duration": 0.019403,
     "end_time": "2022-07-27T17:00:13.561199",
     "exception": false,
     "start_time": "2022-07-27T17:00:13.541796",
     "status": "completed"
    },
    "tags": []
   },
   "source": [
    "<div style=\"background-color:rgba(255, 215, 0, 0.6);border-radius:5px;display:fill\"><h1 style=\"text-align: center;padding: 12px 0px 12px 0px;\">Weighted Blend Based on OOF</h1>\n",
    "</div>"
   ]
  },
  {
   "cell_type": "code",
   "execution_count": 50,
   "id": "06c080f8",
   "metadata": {
    "execution": {
     "iopub.execute_input": "2022-07-27T17:00:13.601009Z",
     "iopub.status.busy": "2022-07-27T17:00:13.600117Z",
     "iopub.status.idle": "2022-07-27T17:00:13.610874Z",
     "shell.execute_reply": "2022-07-27T17:00:13.610142Z"
    },
    "papermill": {
     "duration": 0.032657,
     "end_time": "2022-07-27T17:00:13.612820",
     "exception": false,
     "start_time": "2022-07-27T17:00:13.580163",
     "status": "completed"
    },
    "tags": []
   },
   "outputs": [
    {
     "data": {
      "text/html": [
       "<div>\n",
       "<style scoped>\n",
       "    .dataframe tbody tr th:only-of-type {\n",
       "        vertical-align: middle;\n",
       "    }\n",
       "\n",
       "    .dataframe tbody tr th {\n",
       "        vertical-align: top;\n",
       "    }\n",
       "\n",
       "    .dataframe thead th {\n",
       "        text-align: right;\n",
       "    }\n",
       "</style>\n",
       "<table border=\"1\" class=\"dataframe\">\n",
       "  <thead>\n",
       "    <tr style=\"text-align: right;\">\n",
       "      <th></th>\n",
       "      <th>PassengerId</th>\n",
       "      <th>Survived</th>\n",
       "      <th>fold</th>\n",
       "      <th>pred_xgb1</th>\n",
       "      <th>pred_lgbm1</th>\n",
       "    </tr>\n",
       "  </thead>\n",
       "  <tbody>\n",
       "    <tr>\n",
       "      <th>0</th>\n",
       "      <td>1</td>\n",
       "      <td>0</td>\n",
       "      <td>1</td>\n",
       "      <td>0.163485</td>\n",
       "      <td>0.077964</td>\n",
       "    </tr>\n",
       "    <tr>\n",
       "      <th>1</th>\n",
       "      <td>2</td>\n",
       "      <td>1</td>\n",
       "      <td>4</td>\n",
       "      <td>0.235179</td>\n",
       "      <td>0.049935</td>\n",
       "    </tr>\n",
       "    <tr>\n",
       "      <th>2</th>\n",
       "      <td>3</td>\n",
       "      <td>1</td>\n",
       "      <td>3</td>\n",
       "      <td>0.074338</td>\n",
       "      <td>0.128361</td>\n",
       "    </tr>\n",
       "    <tr>\n",
       "      <th>3</th>\n",
       "      <td>4</td>\n",
       "      <td>1</td>\n",
       "      <td>3</td>\n",
       "      <td>0.703031</td>\n",
       "      <td>0.673995</td>\n",
       "    </tr>\n",
       "    <tr>\n",
       "      <th>4</th>\n",
       "      <td>5</td>\n",
       "      <td>0</td>\n",
       "      <td>0</td>\n",
       "      <td>0.386051</td>\n",
       "      <td>0.271104</td>\n",
       "    </tr>\n",
       "  </tbody>\n",
       "</table>\n",
       "</div>"
      ],
      "text/plain": [
       "   PassengerId  Survived  fold  pred_xgb1  pred_lgbm1\n",
       "0            1         0     1   0.163485    0.077964\n",
       "1            2         1     4   0.235179    0.049935\n",
       "2            3         1     3   0.074338    0.128361\n",
       "3            4         1     3   0.703031    0.673995\n",
       "4            5         0     0   0.386051    0.271104"
      ]
     },
     "execution_count": 50,
     "metadata": {},
     "output_type": "execute_result"
    }
   ],
   "source": [
    "oof.head()"
   ]
  },
  {
   "cell_type": "code",
   "execution_count": 51,
   "id": "fd39be15",
   "metadata": {
    "execution": {
     "iopub.execute_input": "2022-07-27T17:00:13.653264Z",
     "iopub.status.busy": "2022-07-27T17:00:13.652560Z",
     "iopub.status.idle": "2022-07-27T17:00:13.661234Z",
     "shell.execute_reply": "2022-07-27T17:00:13.660493Z"
    },
    "papermill": {
     "duration": 0.030704,
     "end_time": "2022-07-27T17:00:13.663125",
     "exception": false,
     "start_time": "2022-07-27T17:00:13.632421",
     "status": "completed"
    },
    "tags": []
   },
   "outputs": [
    {
     "data": {
      "text/plain": [
       "[]"
      ]
     },
     "execution_count": 51,
     "metadata": {},
     "output_type": "execute_result"
    }
   ],
   "source": [
    "pred_cols = [c for c in submission_df.columns if c.startswith(\"pred_\")]\n",
    "pred_cols"
   ]
  },
  {
   "cell_type": "code",
   "execution_count": 52,
   "id": "03152240",
   "metadata": {
    "execution": {
     "iopub.execute_input": "2022-07-27T17:00:13.702986Z",
     "iopub.status.busy": "2022-07-27T17:00:13.702284Z",
     "iopub.status.idle": "2022-07-27T17:00:14.068866Z",
     "shell.execute_reply": "2022-07-27T17:00:14.068040Z"
    },
    "papermill": {
     "duration": 0.389009,
     "end_time": "2022-07-27T17:00:14.071179",
     "exception": false,
     "start_time": "2022-07-27T17:00:13.682170",
     "status": "completed"
    },
    "tags": []
   },
   "outputs": [
    {
     "data": {
      "image/png": "[encoded data removed]",
      "text/plain": [
       "<Figure size 864x360 with 2 Axes>"
      ]
     },
     "metadata": {},
     "output_type": "display_data"
    }
   ],
   "source": [
    "fig, axs = plt.subplots(1, 2, figsize=(12, 5))\n",
    "oof.plot(\n",
    "    x=\"pred_lgbm1\",\n",
    "    y=\"pred_xgb1\",\n",
    "    kind=\"scatter\",\n",
    "    title=\"Compare OOF predictions for two models\",\n",
    "    ax=axs[0],\n",
    ")\n",
    "\n",
    "submission_df.plot(\n",
    "    x=\"target_lgbm1\",\n",
    "    y=\"target_xgb1\",\n",
    "    kind=\"scatter\",\n",
    "    title=\"Compare Test predictions for two models\",\n",
    "    ax=axs[1],\n",
    ")\n",
    "plt.show()"
   ]
  },
  {
   "cell_type": "code",
   "execution_count": 53,
   "id": "09cdebf6",
   "metadata": {
    "execution": {
     "iopub.execute_input": "2022-07-27T17:00:14.113462Z",
     "iopub.status.busy": "2022-07-27T17:00:14.113072Z",
     "iopub.status.idle": "2022-07-27T17:00:14.123700Z",
     "shell.execute_reply": "2022-07-27T17:00:14.122812Z"
    },
    "papermill": {
     "duration": 0.034508,
     "end_time": "2022-07-27T17:00:14.125897",
     "exception": false,
     "start_time": "2022-07-27T17:00:14.091389",
     "status": "completed"
    },
    "tags": []
   },
   "outputs": [],
   "source": [
    "from sklearn.metrics import mean_absolute_error\n",
    "\n",
    "\n",
    "def get_oof_score(weight, oof, pred_model1, pred_model2):\n",
    "    blend_pred = (oof[pred_model1] * weight) + (oof[pred_model2] * (1 - weight))\n",
    "    return mean_absolute_error(oof[TARGET], blend_pred)"
   ]
  },
  {
   "cell_type": "code",
   "execution_count": 54,
   "id": "1026440d",
   "metadata": {
    "execution": {
     "iopub.execute_input": "2022-07-27T17:00:14.167970Z",
     "iopub.status.busy": "2022-07-27T17:00:14.167607Z",
     "iopub.status.idle": "2022-07-27T17:00:14.238085Z",
     "shell.execute_reply": "2022-07-27T17:00:14.237153Z"
    },
    "papermill": {
     "duration": 0.094428,
     "end_time": "2022-07-27T17:00:14.240491",
     "exception": false,
     "start_time": "2022-07-27T17:00:14.146063",
     "status": "completed"
    },
    "tags": []
   },
   "outputs": [],
   "source": [
    "myscores = {}\n",
    "for weight in range(100):\n",
    "    weight /= 100\n",
    "    score = get_oof_score(weight, oof, \"pred_lgbm1\", \"pred_xgb1\")\n",
    "    myscores[weight] = score"
   ]
  },
  {
   "cell_type": "code",
   "execution_count": 55,
   "id": "6c8a7bbf",
   "metadata": {
    "execution": {
     "iopub.execute_input": "2022-07-27T17:00:14.283931Z",
     "iopub.status.busy": "2022-07-27T17:00:14.283350Z",
     "iopub.status.idle": "2022-07-27T17:00:14.292142Z",
     "shell.execute_reply": "2022-07-27T17:00:14.291417Z"
    },
    "papermill": {
     "duration": 0.032466,
     "end_time": "2022-07-27T17:00:14.294084",
     "exception": false,
     "start_time": "2022-07-27T17:00:14.261618",
     "status": "completed"
    },
    "tags": []
   },
   "outputs": [],
   "source": [
    "blend_results = pd.DataFrame(myscores, index=[\"score\"]).T"
   ]
  },
  {
   "cell_type": "code",
   "execution_count": 56,
   "id": "5168bd98",
   "metadata": {
    "execution": {
     "iopub.execute_input": "2022-07-27T17:00:14.336444Z",
     "iopub.status.busy": "2022-07-27T17:00:14.336041Z",
     "iopub.status.idle": "2022-07-27T17:00:14.535573Z",
     "shell.execute_reply": "2022-07-27T17:00:14.534253Z"
    },
    "papermill": {
     "duration": 0.22363,
     "end_time": "2022-07-27T17:00:14.538084",
     "exception": false,
     "start_time": "2022-07-27T17:00:14.314454",
     "status": "completed"
    },
    "tags": []
   },
   "outputs": [
    {
     "data": {
      "image/png": "[encoded data removed]",
      "text/plain": [
       "<Figure size 432x288 with 1 Axes>"
      ]
     },
     "metadata": {},
     "output_type": "display_data"
    }
   ],
   "source": [
    "ax = blend_results.plot(title=\"Weight vs. OOF Score\")\n",
    "ax.set_xlabel(\"Weight %\")\n",
    "ax.set_ylabel(\"OOF Score\")\n",
    "plt.show()"
   ]
  },
  {
   "cell_type": "markdown",
   "id": "5e9f8f53",
   "metadata": {
    "papermill": {
     "duration": 0.021162,
     "end_time": "2022-07-27T17:00:14.580717",
     "exception": false,
     "start_time": "2022-07-27T17:00:14.559555",
     "status": "completed"
    },
    "tags": []
   },
   "source": [
    "### The Blended Weight is ..."
   ]
  },
  {
   "cell_type": "code",
   "execution_count": 57,
   "id": "c6001035",
   "metadata": {
    "execution": {
     "iopub.execute_input": "2022-07-27T17:00:14.624334Z",
     "iopub.status.busy": "2022-07-27T17:00:14.623940Z",
     "iopub.status.idle": "2022-07-27T17:00:14.636146Z",
     "shell.execute_reply": "2022-07-27T17:00:14.635368Z"
    },
    "papermill": {
     "duration": 0.036108,
     "end_time": "2022-07-27T17:00:14.638201",
     "exception": false,
     "start_time": "2022-07-27T17:00:14.602093",
     "status": "completed"
    },
    "tags": []
   },
   "outputs": [
    {
     "data": {
      "text/html": [
       "<div>\n",
       "<style scoped>\n",
       "    .dataframe tbody tr th:only-of-type {\n",
       "        vertical-align: middle;\n",
       "    }\n",
       "\n",
       "    .dataframe tbody tr th {\n",
       "        vertical-align: top;\n",
       "    }\n",
       "\n",
       "    .dataframe thead th {\n",
       "        text-align: right;\n",
       "    }\n",
       "</style>\n",
       "<table border=\"1\" class=\"dataframe\">\n",
       "  <thead>\n",
       "    <tr style=\"text-align: right;\">\n",
       "      <th></th>\n",
       "      <th>score</th>\n",
       "    </tr>\n",
       "  </thead>\n",
       "  <tbody>\n",
       "    <tr>\n",
       "      <th>0.0</th>\n",
       "      <td>0.48726</td>\n",
       "    </tr>\n",
       "  </tbody>\n",
       "</table>\n",
       "</div>"
      ],
      "text/plain": [
       "       score\n",
       "0.0  0.48726"
      ]
     },
     "execution_count": 57,
     "metadata": {},
     "output_type": "execute_result"
    }
   ],
   "source": [
    "blend_results.loc[blend_results[\"score\"] == blend_results[\"score\"].min()]"
   ]
  },
  {
   "cell_type": "code",
   "execution_count": 58,
   "id": "c8267551",
   "metadata": {
    "execution": {
     "iopub.execute_input": "2022-07-27T17:00:14.681908Z",
     "iopub.status.busy": "2022-07-27T17:00:14.681283Z",
     "iopub.status.idle": "2022-07-27T17:00:14.689409Z",
     "shell.execute_reply": "2022-07-27T17:00:14.688403Z"
    },
    "papermill": {
     "duration": 0.033416,
     "end_time": "2022-07-27T17:00:14.692425",
     "exception": false,
     "start_time": "2022-07-27T17:00:14.659009",
     "status": "completed"
    },
    "tags": []
   },
   "outputs": [
    {
     "name": "stdout",
     "output_type": "stream",
     "text": [
      "Blended Score: 0.48726010\n"
     ]
    }
   ],
   "source": [
    "blend_score = blend_results[\"score\"].min()\n",
    "best_cv_score = 0.004722\n",
    "print(f\"Blended Score: {blend_score:.8f}\")"
   ]
  },
  {
   "cell_type": "code",
   "execution_count": 59,
   "id": "85ca0ff1",
   "metadata": {
    "execution": {
     "iopub.execute_input": "2022-07-27T17:00:14.736829Z",
     "iopub.status.busy": "2022-07-27T17:00:14.736433Z",
     "iopub.status.idle": "2022-07-27T17:00:14.748619Z",
     "shell.execute_reply": "2022-07-27T17:00:14.747701Z"
    },
    "papermill": {
     "duration": 0.036432,
     "end_time": "2022-07-27T17:00:14.750660",
     "exception": false,
     "start_time": "2022-07-27T17:00:14.714228",
     "status": "completed"
    },
    "tags": []
   },
   "outputs": [
    {
     "data": {
      "text/html": [
       "<div>\n",
       "<style scoped>\n",
       "    .dataframe tbody tr th:only-of-type {\n",
       "        vertical-align: middle;\n",
       "    }\n",
       "\n",
       "    .dataframe tbody tr th {\n",
       "        vertical-align: top;\n",
       "    }\n",
       "\n",
       "    .dataframe thead th {\n",
       "        text-align: right;\n",
       "    }\n",
       "</style>\n",
       "<table border=\"1\" class=\"dataframe\">\n",
       "  <thead>\n",
       "    <tr style=\"text-align: right;\">\n",
       "      <th></th>\n",
       "      <th>score</th>\n",
       "    </tr>\n",
       "  </thead>\n",
       "  <tbody>\n",
       "    <tr>\n",
       "      <th>0.0</th>\n",
       "      <td>0.48726</td>\n",
       "    </tr>\n",
       "  </tbody>\n",
       "</table>\n",
       "</div>"
      ],
      "text/plain": [
       "       score\n",
       "0.0  0.48726"
      ]
     },
     "execution_count": 59,
     "metadata": {},
     "output_type": "execute_result"
    }
   ],
   "source": [
    "w = blend_results.loc[blend_results[\"score\"] == blend_results[\"score\"].min()]\n",
    "w"
   ]
  },
  {
   "cell_type": "code",
   "execution_count": 60,
   "id": "8d1ab795",
   "metadata": {
    "execution": {
     "iopub.execute_input": "2022-07-27T17:00:14.794678Z",
     "iopub.status.busy": "2022-07-27T17:00:14.793614Z",
     "iopub.status.idle": "2022-07-27T17:00:14.802621Z",
     "shell.execute_reply": "2022-07-27T17:00:14.801663Z"
    },
    "papermill": {
     "duration": 0.033127,
     "end_time": "2022-07-27T17:00:14.804666",
     "exception": false,
     "start_time": "2022-07-27T17:00:14.771539",
     "status": "completed"
    },
    "tags": []
   },
   "outputs": [
    {
     "data": {
      "text/plain": [
       "0.0"
      ]
     },
     "execution_count": 60,
     "metadata": {},
     "output_type": "execute_result"
    }
   ],
   "source": [
    "wt = w.first_valid_index()\n",
    "wt"
   ]
  },
  {
   "cell_type": "code",
   "execution_count": 61,
   "id": "97a271e0",
   "metadata": {
    "execution": {
     "iopub.execute_input": "2022-07-27T17:00:14.849049Z",
     "iopub.status.busy": "2022-07-27T17:00:14.848112Z",
     "iopub.status.idle": "2022-07-27T17:00:14.857422Z",
     "shell.execute_reply": "2022-07-27T17:00:14.856678Z"
    },
    "papermill": {
     "duration": 0.033412,
     "end_time": "2022-07-27T17:00:14.859454",
     "exception": false,
     "start_time": "2022-07-27T17:00:14.826042",
     "status": "completed"
    },
    "tags": []
   },
   "outputs": [
    {
     "data": {
      "text/plain": [
       "0.00    0.487260\n",
       "0.01    0.487310\n",
       "0.02    0.487359\n",
       "0.03    0.487408\n",
       "0.04    0.487458\n",
       "          ...   \n",
       "0.95    0.491959\n",
       "0.96    0.492008\n",
       "0.97    0.492058\n",
       "0.98    0.492107\n",
       "0.99    0.492157\n",
       "Name: score, Length: 100, dtype: float64"
      ]
     },
     "execution_count": 61,
     "metadata": {},
     "output_type": "execute_result"
    }
   ],
   "source": [
    "blend_results[\"score\"]"
   ]
  },
  {
   "cell_type": "markdown",
   "id": "23fab84b",
   "metadata": {
    "papermill": {
     "duration": 0.020912,
     "end_time": "2022-07-27T17:00:14.901963",
     "exception": false,
     "start_time": "2022-07-27T17:00:14.881051",
     "status": "completed"
    },
    "tags": []
   },
   "source": [
    "<div style=\"background-color:rgba(255, 215, 0, 0.6);border-radius:5px;display:fill\"><h1 style=\"text-align: center;padding: 12px 0px 12px 0px;\">Submission File</h1>\n",
    "</div>\n",
    "\n",
    "The sample file and our data is in the same row order.  This allows us to simply assign our prediction to the target column (`Survived`) in the sample submission."
   ]
  },
  {
   "cell_type": "code",
   "execution_count": 62,
   "id": "8e3e1f42",
   "metadata": {
    "execution": {
     "iopub.execute_input": "2022-07-27T17:00:14.945724Z",
     "iopub.status.busy": "2022-07-27T17:00:14.945069Z",
     "iopub.status.idle": "2022-07-27T17:00:14.949264Z",
     "shell.execute_reply": "2022-07-27T17:00:14.948460Z"
    },
    "papermill": {
     "duration": 0.028336,
     "end_time": "2022-07-27T17:00:14.951191",
     "exception": false,
     "start_time": "2022-07-27T17:00:14.922855",
     "status": "completed"
    },
    "tags": []
   },
   "outputs": [],
   "source": [
    "# pred_cols = [c for c in submission_df.columns if c.startswith(\"pred_\")]\n",
    "# pred_cols"
   ]
  },
  {
   "cell_type": "code",
   "execution_count": null,
   "id": "9f797ece",
   "metadata": {
    "papermill": {
     "duration": 0.020697,
     "end_time": "2022-07-27T17:00:14.992870",
     "exception": false,
     "start_time": "2022-07-27T17:00:14.972173",
     "status": "completed"
    },
    "tags": []
   },
   "outputs": [],
   "source": []
  },
  {
   "cell_type": "code",
   "execution_count": 63,
   "id": "3a138e9e",
   "metadata": {
    "execution": {
     "iopub.execute_input": "2022-07-27T17:00:15.036974Z",
     "iopub.status.busy": "2022-07-27T17:00:15.036315Z",
     "iopub.status.idle": "2022-07-27T17:00:15.046624Z",
     "shell.execute_reply": "2022-07-27T17:00:15.045820Z"
    },
    "papermill": {
     "duration": 0.03464,
     "end_time": "2022-07-27T17:00:15.048464",
     "exception": false,
     "start_time": "2022-07-27T17:00:15.013824",
     "status": "completed"
    },
    "tags": []
   },
   "outputs": [
    {
     "data": {
      "text/html": [
       "<div>\n",
       "<style scoped>\n",
       "    .dataframe tbody tr th:only-of-type {\n",
       "        vertical-align: middle;\n",
       "    }\n",
       "\n",
       "    .dataframe tbody tr th {\n",
       "        vertical-align: top;\n",
       "    }\n",
       "\n",
       "    .dataframe thead th {\n",
       "        text-align: right;\n",
       "    }\n",
       "</style>\n",
       "<table border=\"1\" class=\"dataframe\">\n",
       "  <thead>\n",
       "    <tr style=\"text-align: right;\">\n",
       "      <th></th>\n",
       "      <th>PassengerId</th>\n",
       "      <th>target_xgb1</th>\n",
       "      <th>target_lgbm1</th>\n",
       "    </tr>\n",
       "  </thead>\n",
       "  <tbody>\n",
       "    <tr>\n",
       "      <th>0</th>\n",
       "      <td>892</td>\n",
       "      <td>0.127075</td>\n",
       "      <td>0.078669</td>\n",
       "    </tr>\n",
       "    <tr>\n",
       "      <th>1</th>\n",
       "      <td>893</td>\n",
       "      <td>0.245313</td>\n",
       "      <td>0.260688</td>\n",
       "    </tr>\n",
       "    <tr>\n",
       "      <th>2</th>\n",
       "      <td>894</td>\n",
       "      <td>0.060122</td>\n",
       "      <td>0.088418</td>\n",
       "    </tr>\n",
       "    <tr>\n",
       "      <th>3</th>\n",
       "      <td>895</td>\n",
       "      <td>0.157033</td>\n",
       "      <td>0.288753</td>\n",
       "    </tr>\n",
       "    <tr>\n",
       "      <th>4</th>\n",
       "      <td>896</td>\n",
       "      <td>0.369032</td>\n",
       "      <td>0.299559</td>\n",
       "    </tr>\n",
       "  </tbody>\n",
       "</table>\n",
       "</div>"
      ],
      "text/plain": [
       "   PassengerId  target_xgb1  target_lgbm1\n",
       "0          892     0.127075      0.078669\n",
       "1          893     0.245313      0.260688\n",
       "2          894     0.060122      0.088418\n",
       "3          895     0.157033      0.288753\n",
       "4          896     0.369032      0.299559"
      ]
     },
     "execution_count": 63,
     "metadata": {},
     "output_type": "execute_result"
    }
   ],
   "source": [
    "submission_df.head()"
   ]
  },
  {
   "cell_type": "code",
   "execution_count": 64,
   "id": "e88ee0b1",
   "metadata": {
    "execution": {
     "iopub.execute_input": "2022-07-27T17:00:15.092530Z",
     "iopub.status.busy": "2022-07-27T17:00:15.091897Z",
     "iopub.status.idle": "2022-07-27T17:00:15.095959Z",
     "shell.execute_reply": "2022-07-27T17:00:15.095289Z"
    },
    "papermill": {
     "duration": 0.028249,
     "end_time": "2022-07-27T17:00:15.097736",
     "exception": false,
     "start_time": "2022-07-27T17:00:15.069487",
     "status": "completed"
    },
    "tags": []
   },
   "outputs": [],
   "source": [
    "# submission_df[\"target\"] = (submission_df[\"target_lgbm1\"] * wt) + (\n",
    "#     submission_df[\"target_lgbm2\"] * (1 - wt)\n",
    "# )"
   ]
  },
  {
   "cell_type": "code",
   "execution_count": 65,
   "id": "90875af2",
   "metadata": {
    "execution": {
     "iopub.execute_input": "2022-07-27T17:00:15.141964Z",
     "iopub.status.busy": "2022-07-27T17:00:15.140933Z",
     "iopub.status.idle": "2022-07-27T17:00:15.157816Z",
     "shell.execute_reply": "2022-07-27T17:00:15.156924Z"
    },
    "papermill": {
     "duration": 0.04098,
     "end_time": "2022-07-27T17:00:15.159776",
     "exception": false,
     "start_time": "2022-07-27T17:00:15.118796",
     "status": "completed"
    },
    "tags": []
   },
   "outputs": [
    {
     "name": "stdout",
     "output_type": "stream",
     "text": [
      "Weights=(0.0, 1.0)\n"
     ]
    },
    {
     "data": {
      "text/html": [
       "<div>\n",
       "<style scoped>\n",
       "    .dataframe tbody tr th:only-of-type {\n",
       "        vertical-align: middle;\n",
       "    }\n",
       "\n",
       "    .dataframe tbody tr th {\n",
       "        vertical-align: top;\n",
       "    }\n",
       "\n",
       "    .dataframe thead th {\n",
       "        text-align: right;\n",
       "    }\n",
       "</style>\n",
       "<table border=\"1\" class=\"dataframe\">\n",
       "  <thead>\n",
       "    <tr style=\"text-align: right;\">\n",
       "      <th></th>\n",
       "      <th>PassengerId</th>\n",
       "      <th>Survived</th>\n",
       "    </tr>\n",
       "  </thead>\n",
       "  <tbody>\n",
       "    <tr>\n",
       "      <th>0</th>\n",
       "      <td>892</td>\n",
       "      <td>0.078669</td>\n",
       "    </tr>\n",
       "    <tr>\n",
       "      <th>1</th>\n",
       "      <td>893</td>\n",
       "      <td>0.260688</td>\n",
       "    </tr>\n",
       "    <tr>\n",
       "      <th>2</th>\n",
       "      <td>894</td>\n",
       "      <td>0.088418</td>\n",
       "    </tr>\n",
       "    <tr>\n",
       "      <th>3</th>\n",
       "      <td>895</td>\n",
       "      <td>0.288753</td>\n",
       "    </tr>\n",
       "    <tr>\n",
       "      <th>4</th>\n",
       "      <td>896</td>\n",
       "      <td>0.299559</td>\n",
       "    </tr>\n",
       "    <tr>\n",
       "      <th>5</th>\n",
       "      <td>897</td>\n",
       "      <td>0.371777</td>\n",
       "    </tr>\n",
       "    <tr>\n",
       "      <th>6</th>\n",
       "      <td>898</td>\n",
       "      <td>0.507501</td>\n",
       "    </tr>\n",
       "    <tr>\n",
       "      <th>7</th>\n",
       "      <td>899</td>\n",
       "      <td>0.184501</td>\n",
       "    </tr>\n",
       "  </tbody>\n",
       "</table>\n",
       "</div>"
      ],
      "text/plain": [
       "   PassengerId  Survived\n",
       "0          892  0.078669\n",
       "1          893  0.260688\n",
       "2          894  0.088418\n",
       "3          895  0.288753\n",
       "4          896  0.299559\n",
       "5          897  0.371777\n",
       "6          898  0.507501\n",
       "7          899  0.184501"
      ]
     },
     "execution_count": 65,
     "metadata": {},
     "output_type": "execute_result"
    }
   ],
   "source": [
    "print(f\"Weights=({wt}, {1-wt})\")\n",
    "\n",
    "sample_submission[TARGET] = (submission_df[\"target_xgb1\"] * wt) + (\n",
    "    submission_df[\"target_lgbm1\"] * (1 - wt)\n",
    ")\n",
    "sample_submission.head(8)"
   ]
  },
  {
   "cell_type": "code",
   "execution_count": 66,
   "id": "b1852184",
   "metadata": {
    "execution": {
     "iopub.execute_input": "2022-07-27T17:00:15.204587Z",
     "iopub.status.busy": "2022-07-27T17:00:15.203981Z",
     "iopub.status.idle": "2022-07-27T17:00:15.218141Z",
     "shell.execute_reply": "2022-07-27T17:00:15.217409Z"
    },
    "papermill": {
     "duration": 0.038873,
     "end_time": "2022-07-27T17:00:15.219986",
     "exception": false,
     "start_time": "2022-07-27T17:00:15.181113",
     "status": "completed"
    },
    "tags": []
   },
   "outputs": [
    {
     "data": {
      "text/html": [
       "<div>\n",
       "<style scoped>\n",
       "    .dataframe tbody tr th:only-of-type {\n",
       "        vertical-align: middle;\n",
       "    }\n",
       "\n",
       "    .dataframe tbody tr th {\n",
       "        vertical-align: top;\n",
       "    }\n",
       "\n",
       "    .dataframe thead th {\n",
       "        text-align: right;\n",
       "    }\n",
       "</style>\n",
       "<table border=\"1\" class=\"dataframe\">\n",
       "  <thead>\n",
       "    <tr style=\"text-align: right;\">\n",
       "      <th></th>\n",
       "      <th>PassengerId</th>\n",
       "      <th>Survived</th>\n",
       "    </tr>\n",
       "  </thead>\n",
       "  <tbody>\n",
       "    <tr>\n",
       "      <th>0</th>\n",
       "      <td>892</td>\n",
       "      <td>0</td>\n",
       "    </tr>\n",
       "    <tr>\n",
       "      <th>1</th>\n",
       "      <td>893</td>\n",
       "      <td>0</td>\n",
       "    </tr>\n",
       "    <tr>\n",
       "      <th>2</th>\n",
       "      <td>894</td>\n",
       "      <td>0</td>\n",
       "    </tr>\n",
       "    <tr>\n",
       "      <th>3</th>\n",
       "      <td>895</td>\n",
       "      <td>0</td>\n",
       "    </tr>\n",
       "    <tr>\n",
       "      <th>4</th>\n",
       "      <td>896</td>\n",
       "      <td>0</td>\n",
       "    </tr>\n",
       "    <tr>\n",
       "      <th>5</th>\n",
       "      <td>897</td>\n",
       "      <td>0</td>\n",
       "    </tr>\n",
       "    <tr>\n",
       "      <th>6</th>\n",
       "      <td>898</td>\n",
       "      <td>1</td>\n",
       "    </tr>\n",
       "    <tr>\n",
       "      <th>7</th>\n",
       "      <td>899</td>\n",
       "      <td>0</td>\n",
       "    </tr>\n",
       "  </tbody>\n",
       "</table>\n",
       "</div>"
      ],
      "text/plain": [
       "   PassengerId  Survived\n",
       "0          892         0\n",
       "1          893         0\n",
       "2          894         0\n",
       "3          895         0\n",
       "4          896         0\n",
       "5          897         0\n",
       "6          898         1\n",
       "7          899         0"
      ]
     },
     "execution_count": 66,
     "metadata": {},
     "output_type": "execute_result"
    }
   ],
   "source": [
    "sample_submission[\"Survived\"] = np.rint(sample_submission[\"Survived\"]).astype(int)\n",
    "sample_submission.to_csv(\"submission.csv\", index=False)\n",
    "sample_submission.head(8)"
   ]
  }
 ],
 "metadata": {
  "kernelspec": {
   "display_name": "Python 3",
   "language": "python",
   "name": "python3"
  },
  "language_info": {
   "codemirror_mode": {
    "name": "ipython",
    "version": 3
   },
   "file_extension": ".py",
   "mimetype": "text/x-python",
   "name": "python",
   "nbconvert_exporter": "python",
   "pygments_lexer": "ipython3",
   "version": "3.7.12"
  },
  "papermill": {
   "default_parameters": {},
   "duration": 50.268107,
   "end_time": "2022-07-27T17:00:16.062768",
   "environment_variables": {},
   "exception": null,
   "input_path": "__notebook__.ipynb",
   "output_path": "__notebook__.ipynb",
   "parameters": {},
   "start_time": "2022-07-27T16:59:25.794661",
   "version": "2.3.4"
  }
 },
 "nbformat": 4,
 "nbformat_minor": 5
}
